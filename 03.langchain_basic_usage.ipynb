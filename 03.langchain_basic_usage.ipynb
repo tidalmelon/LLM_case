{
 "cells": [
  {
   "cell_type": "markdown",
   "id": "027f718a-3558-4c15-b3b7-530fe3723a77",
   "metadata": {},
   "source": [
    "# [langchain documents](https://python.langchain.com/docs/modules/model_io/models/chat/llm_chain)"
   ]
  },
  {
   "cell_type": "code",
   "execution_count": null,
   "id": "64e3bf21-75b3-4c3f-b9a4-8c2c85898def",
   "metadata": {},
   "outputs": [],
   "source": []
  },
  {
   "cell_type": "markdown",
   "id": "b03867a3-fec3-4689-870f-908d61d819c1",
   "metadata": {},
   "source": [
    "[LangChain-Tutorials](https://github.com/sugarforever/LangChain-Tutorials)"
   ]
  },
  {
   "cell_type": "code",
   "execution_count": null,
   "id": "0f09bc86-94d5-4e24-bdd0-94f97f38e299",
   "metadata": {},
   "outputs": [],
   "source": []
  },
  {
   "cell_type": "markdown",
   "id": "8a5fd8f0-4b6b-4ce8-a0a0-347771d6db91",
   "metadata": {},
   "source": [
    "[从零开始学LangChain](https://www.zhihu.com/column/c_1632737846942478336)"
   ]
  },
  {
   "cell_type": "code",
   "execution_count": null,
   "id": "ee84f609-6297-47e1-b39b-4fde021ea771",
   "metadata": {},
   "outputs": [],
   "source": []
  },
  {
   "cell_type": "code",
   "execution_count": 1,
   "id": "13eced23-34f2-4e88-9c41-3536b22ef57a",
   "metadata": {
    "tags": []
   },
   "outputs": [],
   "source": [
    "import os"
   ]
  },
  {
   "cell_type": "code",
   "execution_count": 2,
   "id": "23a176ff-d44e-4c0a-9671-e9b2b8fa2222",
   "metadata": {
    "tags": []
   },
   "outputs": [],
   "source": [
    "os.environ['OPENAI_API_KEY'] = '****************'"
   ]
  },
  {
   "cell_type": "markdown",
   "id": "a07adc59-a1f5-4986-8f54-8dff48ceeffe",
   "metadata": {
    "tags": []
   },
   "source": [
    "## 模型"
   ]
  },
  {
   "cell_type": "markdown",
   "id": "71164794-3fe1-4b30-9f03-52324b4f7124",
   "metadata": {
    "tags": []
   },
   "source": [
    "> LLMs: 输入字符串，返回字符串。<br>\n",
    "> ChatModels: 输入list<message>, 返回 message"
   ]
  },
  {
   "cell_type": "code",
   "execution_count": null,
   "id": "c8134d2f-8c6d-4cb7-a55a-9a8b2f167c11",
   "metadata": {},
   "outputs": [],
   "source": []
  },
  {
   "cell_type": "code",
   "execution_count": 8,
   "id": "b324f1e1-7897-4cb6-9dcd-0f1cd6c5ff0d",
   "metadata": {},
   "outputs": [],
   "source": [
    "from langchain.schema import ChatMessage"
   ]
  },
  {
   "cell_type": "code",
   "execution_count": null,
   "id": "75bfe50c-8623-4e8f-addb-887623a0e2a6",
   "metadata": {},
   "outputs": [],
   "source": []
  },
  {
   "cell_type": "markdown",
   "id": "71bf5375-34f8-45b7-bae3-59457b4a181f",
   "metadata": {},
   "source": [
    "> `ChatMessage` has two required components:<br>\n",
    ">> `content`: content of message<br>\n",
    ">> `role`: this is the role of the entity from which the `ChatMessage` is coming from.<br>\n",
    "\n",
    "---\n",
    "\n",
    "> `HumanMessage`: A `ChatMessage` coming from a human/user.<br>\n",
    ">> 发送给LLMs的提示信息，比如“实现一个快速排序方法”<br>\n",
    "\n",
    "> `AIMessage`: A `ChatMessage` coming from an AI/assistant<br>\n",
    ">> 用来保存LLM的响应，以便在下次请求时把这些信息传回给LLM。<br>\n",
    "\n",
    "> `SystemMessage`: A `ChatMessage` coming from system<br>\n",
    ">> 设置LLM模型的行为方式和目标。你可以在这里给出具体的指示，比如“作为一个代码专家”，或者“返回json格式”。<br>\n",
    "\n",
    "> `FunctionMessage`: A `ChatMessage` coming from a function call\n",
    "\n",
    "---\n",
    "\n",
    "> 如果这些role都不对， 你也可以`ChatMessage`手动指定role."
   ]
  },
  {
   "cell_type": "code",
   "execution_count": null,
   "id": "54c851fa-4c9e-4591-8db0-19bd8f71623f",
   "metadata": {},
   "outputs": [],
   "source": []
  },
  {
   "cell_type": "markdown",
   "id": "bc1b02d7-5e47-4ff0-b05a-b968c7b59521",
   "metadata": {},
   "source": [
    "> LangChain 为两个模型暴露了标准接口(这两个模型都可以调用这两个标准接口，前提是你输入的参数要正确).<br>\n",
    ">> `predict`: takes in a string , returns a string<br>\n",
    ">> `predict_message`: takes in a list of messages, return a message.<br>\n",
    ">> 详见下文代码"
   ]
  },
  {
   "cell_type": "code",
   "execution_count": 17,
   "id": "94942552-d998-4d42-bddd-53940c20e6bd",
   "metadata": {
    "tags": []
   },
   "outputs": [],
   "source": [
    "from langchain.llms import OpenAI\n",
    "from langchain.chat_models import ChatOpenAI"
   ]
  },
  {
   "cell_type": "code",
   "execution_count": null,
   "id": "2cf4efd5-d4fe-4bd8-80b8-627d162ddc01",
   "metadata": {},
   "outputs": [],
   "source": []
  },
  {
   "cell_type": "code",
   "execution_count": 18,
   "id": "589487d3-59e0-420d-b81e-8e7b883fc4b4",
   "metadata": {
    "tags": []
   },
   "outputs": [],
   "source": [
    "llm = OpenAI()\n",
    "chat_model = ChatOpenAI()"
   ]
  },
  {
   "cell_type": "markdown",
   "id": "23c35014-babb-4761-9f0b-8aced0025afa",
   "metadata": {},
   "source": [
    "> `predict`: takes in a string , returns a string<br>"
   ]
  },
  {
   "cell_type": "code",
   "execution_count": null,
   "id": "b7b32651-590c-4b01-b9d4-14f0ce92dfb1",
   "metadata": {},
   "outputs": [],
   "source": []
  },
  {
   "cell_type": "code",
   "execution_count": 20,
   "id": "5e771be9-f6ad-4953-8eb8-0a1ba7442ca0",
   "metadata": {
    "tags": []
   },
   "outputs": [
    {
     "data": {
      "text/plain": [
       "\"\\n\\nHow are you today? I'm doing well, thank you. How about you?\""
      ]
     },
     "execution_count": 20,
     "metadata": {},
     "output_type": "execute_result"
    }
   ],
   "source": [
    "llm.predict('hello!')"
   ]
  },
  {
   "cell_type": "code",
   "execution_count": 21,
   "id": "53bb256f-2792-4d0d-9a17-1a385f38ec18",
   "metadata": {
    "tags": []
   },
   "outputs": [
    {
     "data": {
      "text/plain": [
       "'Hello! How can I assist you today?'"
      ]
     },
     "execution_count": 21,
     "metadata": {},
     "output_type": "execute_result"
    }
   ],
   "source": [
    "chat_model.predict(\"hello!\")"
   ]
  },
  {
   "cell_type": "code",
   "execution_count": null,
   "id": "5ab2f943-41b7-44c8-91f1-7c9fd568c167",
   "metadata": {},
   "outputs": [],
   "source": []
  },
  {
   "cell_type": "code",
   "execution_count": 22,
   "id": "c128f84c-d391-4314-9c4e-3caa9dacd586",
   "metadata": {
    "tags": []
   },
   "outputs": [],
   "source": [
    "text = \"What would be a good company name for a company that makes colorful socks?\""
   ]
  },
  {
   "cell_type": "code",
   "execution_count": 23,
   "id": "c3363f68-e37d-4958-b47c-715bd0514ba6",
   "metadata": {
    "tags": []
   },
   "outputs": [
    {
     "data": {
      "text/plain": [
       "'\\n\\nRainbow Sock Company'"
      ]
     },
     "execution_count": 23,
     "metadata": {},
     "output_type": "execute_result"
    }
   ],
   "source": [
    "llm.predict(text)"
   ]
  },
  {
   "cell_type": "code",
   "execution_count": null,
   "id": "998735a5-b35f-40d2-8dd0-d703a768d131",
   "metadata": {},
   "outputs": [],
   "source": []
  },
  {
   "cell_type": "code",
   "execution_count": 24,
   "id": "696b3dad-7f33-4e31-a38f-d42e53d9593c",
   "metadata": {
    "tags": []
   },
   "outputs": [
    {
     "data": {
      "text/plain": [
       "'ColorfulSox Co.'"
      ]
     },
     "execution_count": 24,
     "metadata": {},
     "output_type": "execute_result"
    }
   ],
   "source": [
    "chat_model.predict(text)"
   ]
  },
  {
   "cell_type": "markdown",
   "id": "eb4c3ca7-0bb7-41ef-9e69-397750fc9c70",
   "metadata": {},
   "source": [
    "> `predict_message`: takes in a list of messages, return a message.<br>"
   ]
  },
  {
   "cell_type": "code",
   "execution_count": null,
   "id": "6df20137-dfac-44b5-b8bf-efea670eb6c0",
   "metadata": {},
   "outputs": [],
   "source": []
  },
  {
   "cell_type": "code",
   "execution_count": 25,
   "id": "9882025a-9561-498a-9088-bb2a24b7a624",
   "metadata": {
    "tags": []
   },
   "outputs": [],
   "source": [
    "from langchain.schema import HumanMessage"
   ]
  },
  {
   "cell_type": "code",
   "execution_count": null,
   "id": "5ff02630-dae9-4700-8e01-5a508703067f",
   "metadata": {},
   "outputs": [],
   "source": []
  },
  {
   "cell_type": "code",
   "execution_count": 26,
   "id": "da5d39a3-0c92-4cb2-ad05-385961c51188",
   "metadata": {
    "tags": []
   },
   "outputs": [],
   "source": [
    "messages = [HumanMessage(content=text)]"
   ]
  },
  {
   "cell_type": "code",
   "execution_count": 27,
   "id": "a1c97864-1aa0-4e41-872b-8b3e1340344a",
   "metadata": {
    "tags": []
   },
   "outputs": [
    {
     "data": {
      "text/plain": [
       "AIMessage(content='\\n\\nSocktastic Colors!', additional_kwargs={}, example=False)"
      ]
     },
     "execution_count": 27,
     "metadata": {},
     "output_type": "execute_result"
    }
   ],
   "source": [
    "llm.predict_messages(messages)"
   ]
  },
  {
   "cell_type": "code",
   "execution_count": null,
   "id": "9f39d46a-e258-4323-8c85-bac2696a5ad5",
   "metadata": {},
   "outputs": [],
   "source": []
  },
  {
   "cell_type": "code",
   "execution_count": 28,
   "id": "93b11e47-4bad-4a7a-b265-59a50e401ad7",
   "metadata": {
    "tags": []
   },
   "outputs": [
    {
     "data": {
      "text/plain": [
       "AIMessage(content='Socktastic', additional_kwargs={}, example=False)"
      ]
     },
     "execution_count": 28,
     "metadata": {},
     "output_type": "execute_result"
    }
   ],
   "source": [
    "chat_model.predict_messages(messages)"
   ]
  },
  {
   "cell_type": "code",
   "execution_count": null,
   "id": "4b00b120-ec22-4775-8a2e-a1f435f7ace0",
   "metadata": {},
   "outputs": [],
   "source": []
  },
  {
   "cell_type": "code",
   "execution_count": null,
   "id": "a53df37b-3d80-44a5-af51-b8fa736b4fe1",
   "metadata": {},
   "outputs": [],
   "source": []
  },
  {
   "cell_type": "code",
   "execution_count": null,
   "id": "68e21fc1-d289-409d-a46b-e74a2c8989be",
   "metadata": {},
   "outputs": [],
   "source": []
  },
  {
   "cell_type": "code",
   "execution_count": null,
   "id": "68a993f8-5fe2-491d-97a1-6801d9f688a4",
   "metadata": {},
   "outputs": [],
   "source": []
  },
  {
   "cell_type": "markdown",
   "id": "c32ef527-5d4c-41bc-bf91-89446dbf3457",
   "metadata": {},
   "source": [
    "### 基座模型LLMs"
   ]
  },
  {
   "cell_type": "markdown",
   "id": "a91bc909-7b78-4ea7-8040-0ccdb09475b8",
   "metadata": {},
   "source": [
    "> 对应 openai. Completion"
   ]
  },
  {
   "cell_type": "code",
   "execution_count": null,
   "id": "189de178-904d-457e-b983-914172fa43f5",
   "metadata": {},
   "outputs": [],
   "source": []
  },
  {
   "cell_type": "code",
   "execution_count": 10,
   "id": "1936401b-3663-4311-9aa2-dd8b98017702",
   "metadata": {
    "tags": []
   },
   "outputs": [],
   "source": [
    "from langchain.llms import OpenAI"
   ]
  },
  {
   "cell_type": "code",
   "execution_count": 11,
   "id": "9ace2ba7-19f6-4210-9b96-6e57e34a6ed7",
   "metadata": {
    "tags": []
   },
   "outputs": [
    {
     "data": {
      "text/plain": [
       "'\\n\\nQ: What did the fish say when it hit the wall?\\nA: Dam!'"
      ]
     },
     "execution_count": 11,
     "metadata": {},
     "output_type": "execute_result"
    }
   ],
   "source": [
    "llm = OpenAI(model_name=\"text-davinci-003\", n=2, temperature=0.3)\n",
    "llm.predict(\"tell me a joke\")"
   ]
  },
  {
   "cell_type": "code",
   "execution_count": 12,
   "id": "5bf66b5c-8563-4912-a11b-c9017c1080fa",
   "metadata": {
    "tags": []
   },
   "outputs": [
    {
     "data": {
      "text/plain": [
       "LLMResult(generations=[[Generation(text='\\n\\nOnce upon a time, there was a young girl named Sarah. Sarah was a very curious and adventurous girl, and she loved exploring the world around her.\\n\\nOne day, Sarah decided to go on a hike in the forest near her home. She had heard stories of a mysterious creature that lived in the forest, and she was determined to find it.\\n\\nSarah hiked for hours, and eventually came across a clearing in the woods. In the center of the clearing was a large, ancient tree. Sarah was amazed by the tree, and she decided to climb it.\\n\\nAs Sarah climbed higher and higher, she noticed something strange. There were strange symbols carved into the bark of the tree, and they seemed to be glowing.\\n\\nSarah was so intrigued by the symbols that she decided to explore further. She followed the symbols around the tree, and eventually came to a small door in the trunk.\\n\\nSarah opened the door and stepped inside. To her surprise, she found a small room filled with books and artifacts. In the center of the room was a large bed, and on the bed was a sleeping creature.\\n\\nSarah realized that the creature was the mysterious creature she had been searching for. She quietly crept closer to get a', generation_info={'finish_reason': 'length', 'logprobs': None}), Generation(text='\\n\\nOnce upon a time, there was a young girl named Alice who lived in a small village. She was an adventurous girl who loved to explore the world around her.\\n\\nOne day, Alice decided to go for a walk in the nearby forest. As she walked, she noticed a small, white rabbit hopping along the path. She followed the rabbit, curious to see where it was going.\\n\\nThe rabbit led her to a strange and magical land. There were talking animals, strange creatures, and even a Queen of Hearts. Alice was amazed and excited by all the new sights and sounds.\\n\\nAlice explored the land for days, meeting new friends and learning about the strange creatures that lived there. Eventually, she found her way back home, but she never forgot the magical land she had discovered.\\n\\nAlice told her friends and family about the wonderful place she had found, and they all agreed that it was a magical place indeed. From then on, Alice was known as the girl who had discovered the magical land.', generation_info={'finish_reason': 'stop', 'logprobs': None})], [Generation(text='\\n\\nQ: What did the fish say when it hit the wall?\\nA: Dam!', generation_info={'finish_reason': 'stop', 'logprobs': None}), Generation(text='\\n\\nQ: What did the fish say when it hit the wall?\\nA: Dam!', generation_info={'finish_reason': 'stop', 'logprobs': None})]], llm_output={'token_usage': {'total_tokens': 513, 'completion_tokens': 505, 'prompt_tokens': 8}, 'model_name': 'text-davinci-003'}, run=[RunInfo(run_id=UUID('75dfceb5-06c2-425f-8bd0-f7406313e130')), RunInfo(run_id=UUID('bd3a2b8a-4f06-493f-9080-5ec3862bf921'))])"
      ]
     },
     "execution_count": 12,
     "metadata": {},
     "output_type": "execute_result"
    }
   ],
   "source": [
    "llm.generate(['tell me a story', 'tell me a joke'])"
   ]
  },
  {
   "cell_type": "code",
   "execution_count": null,
   "id": "4391b61e-5d84-4b8e-bdc5-3b7d5a2ead71",
   "metadata": {},
   "outputs": [],
   "source": []
  },
  {
   "cell_type": "code",
   "execution_count": null,
   "id": "2aefb58e-e793-4610-986c-fc439daa6338",
   "metadata": {},
   "outputs": [],
   "source": []
  },
  {
   "cell_type": "markdown",
   "id": "c6faa22a-9700-4601-a6bc-6dfc104ed194",
   "metadata": {},
   "source": [
    "<table data-draft-node=\"block\" data-draft-type=\"table\" data-size=\"normal\" data-row-style=\"normal\"><tbody><tr><th>模型</th><th>介绍</th></tr><tr><td>AI21</td><td><a href=\"https://link.zhihu.com/?target=https%3A//docs.ai21.com/\" class=\" external\" target=\"_blank\" rel=\"nofollow noreferrer\" data-za-detail-view-id=\"1043\"><span class=\"invisible\">https://</span><span class=\"visible\">docs.ai21.com/</span><span class=\"invisible\"></span></a>是构建理解和生成自然语言的人工智能应用的平台，由Jurassic-1语言模型驱动</td></tr><tr><td>Aleph Alpha</td><td><a href=\"https://link.zhihu.com/?target=https%3A//docs.aleph-alpha.com/docs/introduction/luminous/\" class=\" external\" target=\"_blank\" rel=\"nofollow noreferrer\" data-za-detail-view-id=\"1043\"><span class=\"invisible\">https://</span><span class=\"visible\">docs.aleph-alpha.com/do</span><span class=\"invisible\">cs/introduction/luminous/</span><span class=\"ellipsis\"></span></a>是一个大型语言模型家族。</td></tr><tr><td>Azure OpenAI</td><td>微软Azure提供的OpenAI云端API</td></tr><tr><td>Banana</td><td><a href=\"https://link.zhihu.com/?target=https%3A//www.banana.dev/about-us\" class=\" external\" target=\"_blank\" rel=\"nofollow noreferrer\" data-za-detail-view-id=\"1043\"><span class=\"invisible\">https://www.</span><span class=\"visible\">banana.dev/about-us</span><span class=\"invisible\"></span></a>专注于构建机器学习基础设施。</td></tr><tr><td>CerebriumAI</td><td>Cerebrium是AWS Sagemaker的一个替代品，它提供对<a href=\"https://link.zhihu.com/?target=https%3A//docs.cerebrium.ai/cerebrium/prebuilt-models/deployment\" class=\" external\" target=\"_blank\" rel=\"nofollow noreferrer\" data-za-detail-view-id=\"1043\"><span class=\"invisible\">https://</span><span class=\"visible\">docs.cerebrium.ai/cereb</span><span class=\"invisible\">rium/prebuilt-models/deployment</span><span class=\"ellipsis\"></span></a>的API访问。</td></tr><tr><td>Cohere</td><td><a href=\"https://link.zhihu.com/?target=https%3A//cohere.ai/about\" class=\" external\" target=\"_blank\" rel=\"nofollow noreferrer\" data-za-detail-view-id=\"1043\"><span class=\"invisible\">https://</span><span class=\"visible\">cohere.ai/about</span><span class=\"invisible\"></span></a>是一家加拿大创业公司，提供自然语言处理模型，帮助公司改善人机互动。</td></tr><tr><td>DeepInfra</td><td>DeepInfra提供了<a href=\"https://link.zhihu.com/?target=https%3A//deepinfra.com/models\" class=\" external\" target=\"_blank\" rel=\"nofollow noreferrer\" data-za-detail-view-id=\"1043\"><span class=\"invisible\">https://</span><span class=\"visible\">deepinfra.com/models</span><span class=\"invisible\"></span></a>。</td></tr><tr><td>Forefront</td><td>Forefront平台让你有能力微调和使用<a href=\"https://link.zhihu.com/?target=https%3A//docs.forefront.ai/forefront/master/models\" class=\" external\" target=\"_blank\" rel=\"nofollow noreferrer\" data-za-detail-view-id=\"1043\"><span class=\"invisible\">https://</span><span class=\"visible\">docs.forefront.ai/foref</span><span class=\"invisible\">ront/master/models</span><span class=\"ellipsis\"></span></a>。</td></tr><tr><td>GooseAI</td><td>GooseAI是一个完全管理的NLP-as-a-服务，通过API交付。GooseAI提供对<a href=\"https://link.zhihu.com/?target=https%3A//goose.ai/docs/models\" class=\" external\" target=\"_blank\" rel=\"nofollow noreferrer\" data-za-detail-view-id=\"1043\"><span class=\"invisible\">https://</span><span class=\"visible\">goose.ai/docs/models</span><span class=\"invisible\"></span></a>的访问。</td></tr><tr><td>gpt4all</td><td><a href=\"https://link.zhihu.com/?target=https%3A//github.com/nomic-ai/gpt4all\" class=\" external\" target=\"_blank\" rel=\"nofollow noreferrer\" data-za-detail-view-id=\"1043\"><span class=\"invisible\">https://</span><span class=\"visible\">github.com/nomic-ai/gpt</span><span class=\"invisible\">4all</span><span class=\"ellipsis\"></span></a>是一个开源聊天机器人的生态系统，在大量干净的助理数据（包括代码、故事和对话）上进行培训。</td></tr><tr><td>Hugging Face Hub</td><td><a href=\"https://link.zhihu.com/?target=https%3A//huggingface.co/docs/hub/index\" class=\" external\" target=\"_blank\" rel=\"nofollow noreferrer\" data-za-detail-view-id=\"1043\"><span class=\"invisible\">https://</span><span class=\"visible\">huggingface.co/docs/hub</span><span class=\"invisible\">/index</span><span class=\"ellipsis\"></span></a>是一个拥有超过12万个模型、2万个数据集和5万个演示应用程序（Spaces）的平台，所有这些都是开源和公开的，在一个在线平台上，人们可以轻松合作，共同构建ML。</td></tr><tr><td>Llama-cpp</td><td><a href=\"https://link.zhihu.com/?target=https%3A//github.com/abetlen/llama-cpp-python\" class=\" external\" target=\"_blank\" rel=\"nofollow noreferrer\" data-za-detail-view-id=\"1043\"><span class=\"invisible\">https://</span><span class=\"visible\">github.com/abetlen/llam</span><span class=\"invisible\">a-cpp-python</span><span class=\"ellipsis\"></span></a>是llama.cpp的一个Python绑定。它支持<a href=\"https://link.zhihu.com/?target=https%3A//github.com/ggerganov/llama.cpp\" class=\" external\" target=\"_blank\" rel=\"nofollow noreferrer\" data-za-detail-view-id=\"1043\"><span class=\"invisible\">https://</span><span class=\"visible\">github.com/ggerganov/ll</span><span class=\"invisible\">ama.cpp</span><span class=\"ellipsis\"></span></a>。</td></tr><tr><td>Manifest</td><td><a href=\"https://link.zhihu.com/?target=https%3A//github.com/HazyResearch/manifest\" class=\" external\" target=\"_blank\" rel=\"nofollow noreferrer\" data-za-detail-view-id=\"1043\"><span class=\"invisible\">https://</span><span class=\"visible\">github.com/HazyResearch</span><span class=\"invisible\">/manifest</span><span class=\"ellipsis\"></span></a>是一个帮助你利用自然语言生成和计算机视觉创建引人入胜和互动内容的平台</td></tr><tr><td>Modal</td><td><a href=\"https://link.zhihu.com/?target=https%3A//modal.com/docs/guide\" class=\" external\" target=\"_blank\" rel=\"nofollow noreferrer\" data-za-detail-view-id=\"1043\"><span class=\"invisible\">https://</span><span class=\"visible\">modal.com/docs/guide</span><span class=\"invisible\"></span></a>提供了方便的、按需的、从你本地计算机上的Python脚本访问serverless云计算的机会。Modal本身并不提供任何LLM，而只是提供基础设施。</td></tr><tr><td>NLP Cloud</td><td><a href=\"https://link.zhihu.com/?target=https%3A//nlpcloud.io/\" class=\" external\" target=\"_blank\" rel=\"nofollow noreferrer\" data-za-detail-view-id=\"1043\"><span class=\"invisible\">https://</span><span class=\"visible\">nlpcloud.io/</span><span class=\"invisible\"></span></a>提供高性能的预训练或定制模型，用于NER、情感分析、分类、总结、转述、语法和拼写纠正、关键字和关键词提取、聊天机器人、产品描述和广告生成、意图分类、文本生成、图像生成、博客文章生成、代码生成、问题回答、自动语音识别、机器翻译、语言检测、语义搜索、语义相似性、标记化、POS标记、嵌入和依赖性解析。它已准备好用于生产，通过REST API提供服务。</td></tr><tr><td>OpenAI</td><td><a href=\"https://link.zhihu.com/?target=https%3A//platform.openai.com/docs/introduction\" class=\" external\" target=\"_blank\" rel=\"nofollow noreferrer\" data-za-detail-view-id=\"1043\"><span class=\"invisible\">https://</span><span class=\"visible\">platform.openai.com/doc</span><span class=\"invisible\">s/introduction</span><span class=\"ellipsis\"></span></a>提供了一系列模型，适用于不同的任务。</td></tr><tr><td>Petals</td><td>Petals以BitTorrent的方式运行100B以上的语言模型。</td></tr><tr><td>PipelineAI</td><td>PipelineAI允许你在云中大规模地运行你的ML模型，提供了对<a href=\"https://link.zhihu.com/?target=https%3A//pipeline.ai/\" class=\" external\" target=\"_blank\" rel=\"nofollow noreferrer\" data-za-detail-view-id=\"1043\"><span class=\"invisible\">https://</span><span class=\"visible\">pipeline.ai/</span><span class=\"invisible\"></span></a>的API访问。</td></tr><tr><td>PredictionGuard</td><td>一个帮助你监测和改善生产中机器学习模型性能的平台</td></tr><tr><td>PromptLayer</td><td><a href=\"https://link.zhihu.com/?target=https%3A//www.promptlayer.com/\" class=\" external\" target=\"_blank\" rel=\"nofollow noreferrer\" data-za-detail-view-id=\"1043\"><span class=\"invisible\">https://www.</span><span class=\"visible\">promptlayer.com/</span><span class=\"invisible\"></span></a>是第一个允许你跟踪、管理和分享GPT提示工程的平台，扮演代码和OpenAI python库中间件的角色。</td></tr><tr><td>Replicate</td><td><a href=\"https://link.zhihu.com/?target=https%3A//replicate.com/blog/machine-learning-needs-better-tools\" class=\" external\" target=\"_blank\" rel=\"nofollow noreferrer\" data-za-detail-view-id=\"1043\"><span class=\"invisible\">https://</span><span class=\"visible\">replicate.com/blog/mach</span><span class=\"invisible\">ine-learning-needs-better-tools</span><span class=\"ellipsis\"></span></a>在云中运行机器学习模型。我们有一个开源模型库，你只需要几行代码就可以运行。如果你正在建立自己的机器学习模型，Replicate可以让你轻松地大规模部署它们。</td></tr><tr><td>Runhouse</td><td><a href=\"https://link.zhihu.com/?target=https%3A//github.com/run-house/runhouse\" class=\" external\" target=\"_blank\" rel=\"nofollow noreferrer\" data-za-detail-view-id=\"1043\"><span class=\"invisible\">https://</span><span class=\"visible\">github.com/run-house/ru</span><span class=\"invisible\">nhouse</span><span class=\"ellipsis\"></span></a>允许跨环境和用户的远程计算和数据。</td></tr><tr><td>SageMakerEndpoint</td><td><a href=\"https://link.zhihu.com/?target=https%3A//aws.amazon.com/sagemaker/\" class=\" external\" target=\"_blank\" rel=\"nofollow noreferrer\" data-za-detail-view-id=\"1043\"><span class=\"invisible\">https://</span><span class=\"visible\">aws.amazon.com/sagemake</span><span class=\"invisible\">r/</span><span class=\"ellipsis\"></span></a>是Amazon的一个系统，可以通过完全管理的基础设施、工具和工作流程为任何使用情况建立、训练和部署机器学习（ML）模型。</td></tr><tr><td>StochasticAI</td><td><a href=\"https://link.zhihu.com/?target=https%3A//docs.stochastic.ai/docs/introduction/\" class=\" external\" target=\"_blank\" rel=\"nofollow noreferrer\" data-za-detail-view-id=\"1043\"><span class=\"invisible\">https://</span><span class=\"visible\">docs.stochastic.ai/docs</span><span class=\"invisible\">/introduction/</span><span class=\"ellipsis\"></span></a>旨在简化深度学习模型的生命周期。从模型的上传和改版，到训练、压缩和加速，再到投入生产。</td></tr><tr><td>Writer</td><td><a href=\"https://link.zhihu.com/?target=https%3A//writer.com/\" class=\" external\" target=\"_blank\" rel=\"nofollow noreferrer\" data-za-detail-view-id=\"1043\"><span class=\"invisible\">https://</span><span class=\"visible\">writer.com/</span><span class=\"invisible\"></span></a>是一个使用AI提升公司业务流程的平台。</td></tr></tbody></table>"
   ]
  },
  {
   "cell_type": "code",
   "execution_count": null,
   "id": "39f34fdd-f7ab-4095-be2c-d0f5ae615a39",
   "metadata": {},
   "outputs": [],
   "source": []
  },
  {
   "cell_type": "code",
   "execution_count": null,
   "id": "a9d65206-7ca8-45a6-a7e7-aba47372a3a4",
   "metadata": {},
   "outputs": [],
   "source": []
  },
  {
   "cell_type": "code",
   "execution_count": null,
   "id": "b1a1f4d4-ced4-4c8c-b441-2d903d9d193c",
   "metadata": {},
   "outputs": [],
   "source": []
  },
  {
   "cell_type": "code",
   "execution_count": null,
   "id": "fc1ca853-9928-44d1-9ab4-d48c92eb5802",
   "metadata": {},
   "outputs": [],
   "source": []
  },
  {
   "cell_type": "markdown",
   "id": "fe28e863-3688-43b2-9a75-7ef1ed4fed48",
   "metadata": {},
   "source": [
    "### 聊天模型"
   ]
  },
  {
   "cell_type": "markdown",
   "id": "3af535ca-8375-49ee-b1c3-4f86d1542f37",
   "metadata": {},
   "source": [
    "> 对应 openai.  ChatCompletion"
   ]
  },
  {
   "cell_type": "code",
   "execution_count": null,
   "id": "d057c3af-4bd3-47c0-a0eb-86257b74f8af",
   "metadata": {},
   "outputs": [],
   "source": []
  },
  {
   "cell_type": "code",
   "execution_count": null,
   "id": "412e727f-1a6a-44f2-931d-b798e294f380",
   "metadata": {},
   "outputs": [],
   "source": []
  },
  {
   "cell_type": "code",
   "execution_count": null,
   "id": "e0224398-eb0b-4410-8544-d46ed5a68791",
   "metadata": {},
   "outputs": [],
   "source": []
  },
  {
   "cell_type": "code",
   "execution_count": 13,
   "id": "e42b46af-da18-4f8a-b83b-d402cc790c60",
   "metadata": {
    "tags": []
   },
   "outputs": [],
   "source": [
    "from langchain.schema import AIMessage, HumanMessage, SystemMessage\n",
    "from langchain.chat_models import ChatOpenAI"
   ]
  },
  {
   "cell_type": "code",
   "execution_count": null,
   "id": "71ed7ed8-9e10-4156-a76a-d22efb2555d8",
   "metadata": {},
   "outputs": [],
   "source": []
  },
  {
   "cell_type": "code",
   "execution_count": 14,
   "id": "714f400e-d83e-4a6e-84f7-6ba0d13f012e",
   "metadata": {
    "tags": []
   },
   "outputs": [
    {
     "data": {
      "text/plain": [
       "AIMessage(content='以下是Model Y汽车的尺寸参数：\\n\\n1. 车身长度：4,750毫米\\n2. 车身宽度（包括外侧镜）：2,189毫米\\n3. 车身高度：1,624毫米\\n4. 轴距：2,890毫米\\n5. 最小离地间隙：162毫米\\n6. 车重：约1,900千克\\n7. 车辆容量：5至7座位\\n8. 后备箱容积：1,900升（后排座椅放倒）\\n9. 前后轮距：1,590毫米（前轮）和1,600毫米（后轮）\\n\\n请注意，这些尺寸参数可能会因不同的配置和市场而有所变化。', additional_kwargs={}, example=False)"
      ]
     },
     "execution_count": 14,
     "metadata": {},
     "output_type": "execute_result"
    }
   ],
   "source": [
    "chat = ChatOpenAI(temperature=0)\n",
    "messages = [SystemMessage(content=\"返回json object，不要纯文本，按照每项参数拆分，不要说明和解释信息\"),HumanMessage(content=\"告诉我model Y汽车的尺寸参数\")]\n",
    "chat.predict_messages(messages)"
   ]
  },
  {
   "cell_type": "markdown",
   "id": "25dec656-6d1a-4fab-9ca1-f321b4c9ff70",
   "metadata": {},
   "source": [
    "> 非json，且有说明和解释信息"
   ]
  },
  {
   "cell_type": "code",
   "execution_count": 16,
   "id": "bc9dcb6e-23d6-44d5-8cd3-4dc265716201",
   "metadata": {
    "tags": []
   },
   "outputs": [
    {
     "data": {
      "text/plain": [
       "AIMessage(content='{\\n  \"车身尺寸\": {\\n    \"长度\": \"4751mm\",\\n    \"宽度\": \"1921mm\",\\n    \"高度\": \"1626mm\",\\n    \"轴距\": \"2890mm\"\\n  },\\n  \"行李箱容积\": {\\n    \"后排座椅放倒\": \"1900L\",\\n    \"后排座椅不放倒\": \"881L\"\\n  },\\n  \"重量\": {\\n    \"空车重量\": \"1977kg\",\\n    \"满载重量\": \"2500kg\"\\n  }\\n}', additional_kwargs={}, example=False)"
      ]
     },
     "execution_count": 16,
     "metadata": {},
     "output_type": "execute_result"
    }
   ],
   "source": [
    "chat = ChatOpenAI(temperature=0)\n",
    "message = [SystemMessage(content='返回json格式，按项目拆分参数，不要说明及解释信息'), HumanMessage(content='告诉我model y汽车的尺寸参数')]\n",
    "chat.predict_messages(message)"
   ]
  },
  {
   "cell_type": "code",
   "execution_count": null,
   "id": "caa1294e-001c-4b4b-9d2e-6b1859bf56cb",
   "metadata": {},
   "outputs": [],
   "source": []
  },
  {
   "cell_type": "markdown",
   "id": "d0767822-c2dd-4106-801d-368de13ad1e9",
   "metadata": {},
   "source": [
    "> json格式 ， 括弧里没有说明"
   ]
  },
  {
   "cell_type": "code",
   "execution_count": null,
   "id": "68eea7da-e946-4199-b3e1-14caf9b5e7e7",
   "metadata": {},
   "outputs": [],
   "source": []
  },
  {
   "cell_type": "markdown",
   "id": "87b00129-8721-4b42-8ea8-9b501b1d6ef9",
   "metadata": {},
   "source": [
    "LangChain现在支持的聊天模型有\n",
    "\n",
    "<table data-draft-node=\"block\" data-draft-type=\"table\" data-size=\"normal\" data-row-style=\"normal\"><tbody><tr><th>模型</th><th>介绍</th></tr><tr><td>ChatAnthropic</td><td>一个前OpenAI员工创建的AI聊天助手，相比其他聊天工具，它的有害答案更少</td></tr><tr><td>AzureChatOpenAI</td><td>Azure提供的OpenAI聊天模型</td></tr><tr><td>ChatOpenAI</td><td>OpenAI聊天模型</td></tr><tr><td>PromptLayerChatOpenAI</td><td>基于OpenAI的提示模板平台</td></tr></tbody></table>"
   ]
  },
  {
   "cell_type": "code",
   "execution_count": null,
   "id": "02a9557c-e8de-47f8-8314-f03839125b06",
   "metadata": {},
   "outputs": [],
   "source": []
  },
  {
   "cell_type": "code",
   "execution_count": null,
   "id": "f1df0f82-f457-4635-a4cd-028fb66f2a8c",
   "metadata": {},
   "outputs": [],
   "source": []
  },
  {
   "cell_type": "code",
   "execution_count": null,
   "id": "7dba6cf7-6300-4a5f-91d2-4ff8e4ac8713",
   "metadata": {},
   "outputs": [],
   "source": []
  },
  {
   "cell_type": "markdown",
   "id": "f4ce190c-a8c9-45bd-80d8-198816ebbe1a",
   "metadata": {},
   "source": [
    "由上述例子便产生了“提示模版”的需求\n",
    "\n",
    "## 提示模版"
   ]
  },
  {
   "cell_type": "code",
   "execution_count": null,
   "id": "dca1c099-055b-4eb3-b56d-79f12deac160",
   "metadata": {},
   "outputs": [],
   "source": []
  },
  {
   "cell_type": "code",
   "execution_count": 29,
   "id": "a127a56a-fb0b-4127-9772-8dd19cecd91d",
   "metadata": {
    "tags": []
   },
   "outputs": [],
   "source": [
    "from langchain.prompts import PromptTemplate"
   ]
  },
  {
   "cell_type": "code",
   "execution_count": 30,
   "id": "8cf65c7c-68f8-42d8-8809-a28fa6315d3b",
   "metadata": {
    "tags": []
   },
   "outputs": [],
   "source": [
    "prompt = PromptTemplate.from_template(\"What would be a good company name for a company that makes {product}?\")"
   ]
  },
  {
   "cell_type": "code",
   "execution_count": 31,
   "id": "56ac38bf-ed0e-4e9f-b135-5a6eab0297b4",
   "metadata": {
    "tags": []
   },
   "outputs": [
    {
     "data": {
      "text/plain": [
       "'What would be a good company name for a company that makes colorful socks?'"
      ]
     },
     "execution_count": 31,
     "metadata": {},
     "output_type": "execute_result"
    },
    {
     "data": {
      "text/plain": [
       "PromptTemplate(input_variables=['product'], output_parser=None, partial_variables={}, template='What would be a good company name for a company that makes {product}?', template_format='f-string', validate_template=True)"
      ]
     },
     "execution_count": 31,
     "metadata": {},
     "output_type": "execute_result"
    }
   ],
   "source": [
    "prompt.format(product='colorful socks')\n",
    "prompt"
   ]
  },
  {
   "cell_type": "code",
   "execution_count": null,
   "id": "2f4fa677-975e-4656-a236-d680c8348a8a",
   "metadata": {},
   "outputs": [],
   "source": []
  },
  {
   "cell_type": "code",
   "execution_count": null,
   "id": "32162873-464f-4593-b08a-b91eb8706fa6",
   "metadata": {},
   "outputs": [],
   "source": []
  },
  {
   "cell_type": "code",
   "execution_count": null,
   "id": "1449bd9f-df41-433c-ae38-f452dcc389a4",
   "metadata": {},
   "outputs": [],
   "source": []
  },
  {
   "cell_type": "code",
   "execution_count": null,
   "id": "46814625-252b-4f9b-b146-ae80fdaa342f",
   "metadata": {},
   "outputs": [],
   "source": []
  },
  {
   "cell_type": "markdown",
   "id": "99eccffb-1d6b-4b94-9879-0fe5ffe46a30",
   "metadata": {},
   "source": [
    "### zero shot prompt"
   ]
  },
  {
   "cell_type": "code",
   "execution_count": 32,
   "id": "23686849-e0e4-4802-a825-cbdd5dd56715",
   "metadata": {
    "tags": []
   },
   "outputs": [],
   "source": [
    "from langchain.chat_models import ChatOpenAI\n",
    "from langchain.prompts import (\n",
    "    ChatPromptTemplate,\n",
    "    PromptTemplate,\n",
    "    SystemMessagePromptTemplate,\n",
    "    AIMessagePromptTemplate,\n",
    "    HumanMessagePromptTemplate,\n",
    ")\n",
    "from langchain.schema import (\n",
    "    AIMessage,\n",
    "    HumanMessage,\n",
    "    SystemMessage\n",
    ")"
   ]
  },
  {
   "cell_type": "markdown",
   "id": "f634915f-791e-4f70-9219-5a193efac054",
   "metadata": {},
   "source": [
    "1. construct messages<br>\n",
    "> easily combining different templates into a single prompt."
   ]
  },
  {
   "cell_type": "code",
   "execution_count": 33,
   "id": "8cb29eb0-e4e0-45b2-8d26-b42ad07d88c6",
   "metadata": {
    "tags": []
   },
   "outputs": [],
   "source": [
    "system_template=\"你是一个把{input_language}翻译成{output_language}的助手\"\n",
    "system_message_prompt = SystemMessagePromptTemplate.from_template(system_template)\n",
    "human_template=\"{text}\"\n",
    "human_message_prompt = HumanMessagePromptTemplate.from_template(human_template)"
   ]
  },
  {
   "cell_type": "code",
   "execution_count": null,
   "id": "56190533-b72b-4150-b966-bf712130d688",
   "metadata": {},
   "outputs": [],
   "source": []
  },
  {
   "cell_type": "code",
   "execution_count": 34,
   "id": "c2d3dab3-c813-43b0-926a-f56d6c25191d",
   "metadata": {
    "tags": []
   },
   "outputs": [],
   "source": [
    "chat_prompt = ChatPromptTemplate.from_messages([system_message_prompt, human_message_prompt])\n",
    "messages = chat_prompt.format_prompt(input_language=\"英语\", output_language=\"汉语\", text=\"I love programming.\")"
   ]
  },
  {
   "cell_type": "code",
   "execution_count": 35,
   "id": "78f3a03d-1170-49cd-9036-583c2d73a00c",
   "metadata": {
    "tags": []
   },
   "outputs": [
    {
     "data": {
      "text/plain": [
       "ChatPromptValue(messages=[SystemMessage(content='你是一个把英语翻译成汉语的助手', additional_kwargs={}), HumanMessage(content='I love programming.', additional_kwargs={}, example=False)])"
      ]
     },
     "execution_count": 35,
     "metadata": {},
     "output_type": "execute_result"
    }
   ],
   "source": [
    "messages"
   ]
  },
  {
   "cell_type": "code",
   "execution_count": 38,
   "id": "974131d5-a093-4528-b3f9-8e544b5259f3",
   "metadata": {
    "tags": []
   },
   "outputs": [
    {
     "data": {
      "text/plain": [
       "[SystemMessage(content='你是一个把英语翻译成汉语的助手', additional_kwargs={}),\n",
       " HumanMessage(content='I love programming.', additional_kwargs={}, example=False)]"
      ]
     },
     "execution_count": 38,
     "metadata": {},
     "output_type": "execute_result"
    }
   ],
   "source": [
    "messages.to_messages()"
   ]
  },
  {
   "cell_type": "code",
   "execution_count": null,
   "id": "79ae0bf8-23e5-41bb-bd68-2991822a1530",
   "metadata": {},
   "outputs": [],
   "source": []
  },
  {
   "cell_type": "markdown",
   "id": "7527833c-0666-483e-a8de-42ac6a242654",
   "metadata": {},
   "source": [
    "2. send to model"
   ]
  },
  {
   "cell_type": "code",
   "execution_count": 36,
   "id": "5966af47-9d16-45d7-b838-d160d0412e7a",
   "metadata": {
    "tags": []
   },
   "outputs": [],
   "source": [
    "chat = ChatOpenAI(temperature=0)"
   ]
  },
  {
   "cell_type": "code",
   "execution_count": 39,
   "id": "9cc89f0e-883f-46a0-9c6a-ddbe6b2e8330",
   "metadata": {
    "tags": []
   },
   "outputs": [
    {
     "data": {
      "text/plain": [
       "AIMessage(content='我喜欢编程。', additional_kwargs={}, example=False)"
      ]
     },
     "execution_count": 39,
     "metadata": {},
     "output_type": "execute_result"
    }
   ],
   "source": [
    "chat.predict_messages(messages.to_messages())"
   ]
  },
  {
   "cell_type": "code",
   "execution_count": null,
   "id": "b30c3627-643a-4b70-99a2-99848524afeb",
   "metadata": {},
   "outputs": [],
   "source": []
  },
  {
   "cell_type": "code",
   "execution_count": null,
   "id": "e2fd05a9-41bb-46d1-b4db-e2abd5eb484d",
   "metadata": {},
   "outputs": [],
   "source": []
  },
  {
   "cell_type": "code",
   "execution_count": null,
   "id": "52483328-fd3f-4070-ae04-e7ce58b31183",
   "metadata": {},
   "outputs": [],
   "source": []
  },
  {
   "cell_type": "code",
   "execution_count": null,
   "id": "adc4de15-8480-4fe5-905d-4476cc01cb7d",
   "metadata": {},
   "outputs": [],
   "source": []
  },
  {
   "cell_type": "code",
   "execution_count": null,
   "id": "69785160-1567-4580-a1ff-b7686f3e06c4",
   "metadata": {},
   "outputs": [],
   "source": []
  },
  {
   "cell_type": "code",
   "execution_count": null,
   "id": "9890e02a-2749-4c80-b502-1ad2d4cb443d",
   "metadata": {},
   "outputs": [],
   "source": []
  },
  {
   "cell_type": "code",
   "execution_count": null,
   "id": "0b3ffccb-30be-4308-8bf2-9d6fbba71bc1",
   "metadata": {},
   "outputs": [],
   "source": []
  },
  {
   "cell_type": "code",
   "execution_count": null,
   "id": "79713a6c-58a5-4e63-a2f9-762e0bd977ac",
   "metadata": {},
   "outputs": [],
   "source": []
  },
  {
   "cell_type": "markdown",
   "id": "25e8416a-73a6-4d1e-bee4-f095e545a7dc",
   "metadata": {},
   "source": [
    "### few shot prompt"
   ]
  },
  {
   "cell_type": "code",
   "execution_count": 21,
   "id": "5c190e40-dd80-4585-bf7d-3dd78078ca52",
   "metadata": {
    "tags": []
   },
   "outputs": [],
   "source": [
    "from langchain import PromptTemplate, FewShotPromptTemplate\n",
    "from langchain.llms import OpenAI"
   ]
  },
  {
   "cell_type": "code",
   "execution_count": 23,
   "id": "44090aed-5426-4072-9dce-3e454ee82f54",
   "metadata": {
    "tags": []
   },
   "outputs": [
    {
     "name": "stdout",
     "output_type": "stream",
     "text": [
      "给出每个单词的反义词\\n\n",
      "单词: 开心\n",
      "反义词: 难过\\n\n",
      "\\n\n",
      "单词: 高\n",
      "反义词: 矮\\n\n",
      "\\n单词: 粗\\n反义词:\n"
     ]
    }
   ],
   "source": [
    "examples = [\n",
    "    {\"word\": \"开心\", \"antonym\": \"难过\"},\n",
    "    {\"word\": \"高\", \"antonym\": \"矮\"},\n",
    "]\n",
    "\n",
    "example_template = \"\"\"\n",
    "单词: {word}\n",
    "反义词: {antonym}\\\\n\n",
    "\"\"\"\n",
    "\n",
    "example_prompt = PromptTemplate(\n",
    "    input_variables=[\"word\", \"antonym\"],\n",
    "    template=example_template,\n",
    ")\n",
    "\n",
    "few_shot_prompt = FewShotPromptTemplate(\n",
    "    examples=examples,\n",
    "    example_prompt=example_prompt,\n",
    "    prefix=\"给出每个单词的反义词\",\n",
    "    suffix=\"单词: {input}\\\\n反义词:\",\n",
    "    input_variables=[\"input\"],\n",
    "    example_separator=\"\\\\n\",\n",
    ")\n",
    "\n",
    "prompt_text = few_shot_prompt.format(input=\"粗\")\n",
    "print(prompt_text)"
   ]
  },
  {
   "cell_type": "code",
   "execution_count": 24,
   "id": "6467a943-a599-4100-83e8-14ae215dbbd6",
   "metadata": {
    "tags": []
   },
   "outputs": [
    {
     "name": "stdout",
     "output_type": "stream",
     "text": [
      " 细\n"
     ]
    }
   ],
   "source": [
    "# 调用OpenAI\n",
    "llm = OpenAI(temperature=0.9)\n",
    "print(llm(prompt_text))"
   ]
  },
  {
   "cell_type": "markdown",
   "id": "45e0fdf9-5644-4be8-9f4a-229ce4ea153c",
   "metadata": {},
   "source": [
    "> llm chat 完成了推理，且正确"
   ]
  },
  {
   "cell_type": "code",
   "execution_count": null,
   "id": "e5fcee9c-809a-4f01-987b-9990d9d85aff",
   "metadata": {},
   "outputs": [],
   "source": []
  },
  {
   "cell_type": "markdown",
   "id": "5a7b13db-531f-4941-9bbf-33852c4c832b",
   "metadata": {},
   "source": [
    "### CoT: chain-of-thought"
   ]
  },
  {
   "cell_type": "code",
   "execution_count": null,
   "id": "bd4fb36f-d573-48b8-a92a-73b65147832e",
   "metadata": {},
   "outputs": [],
   "source": []
  },
  {
   "cell_type": "markdown",
   "id": "30f50d48-fee9-4a06-b559-7eb81b44ae9d",
   "metadata": {},
   "source": [
    "### LtM: Least to Most"
   ]
  },
  {
   "cell_type": "code",
   "execution_count": null,
   "id": "4b0dc668-40fc-45fb-8645-b91ff802245e",
   "metadata": {},
   "outputs": [],
   "source": []
  },
  {
   "cell_type": "markdown",
   "id": "3f7ee6d0-8595-4181-b301-08b5e23013b8",
   "metadata": {},
   "source": [
    "## Output Parsers"
   ]
  },
  {
   "cell_type": "code",
   "execution_count": null,
   "id": "b1216e54-7a5d-4176-aa9d-93c3331776bc",
   "metadata": {},
   "outputs": [],
   "source": []
  },
  {
   "cell_type": "markdown",
   "id": "c9df70d9-f26d-4aba-aa43-569aeea19585",
   "metadata": {},
   "source": [
    "**主要的OutputParser：**<br>\n",
    "\n",
    "1. Convert text from LLM -> structured information (eg: JSON)<br>\n",
    "2. Convert a ChatMessage into just a string<br>\n",
    "3. Convert the extra information returned from a call besides the message (like OpenAI function invocation) into a string. <br>\n",
    "3. 将消息以外的信息转化为字符串."
   ]
  },
  {
   "cell_type": "code",
   "execution_count": null,
   "id": "cb4a0d17-3582-4ffc-b59b-73343275dd15",
   "metadata": {},
   "outputs": [],
   "source": []
  },
  {
   "cell_type": "markdown",
   "id": "e9e63cb4-3d53-46ce-bba7-7bd1e456cdc0",
   "metadata": {},
   "source": [
    "> 我们实现一个根据逗号分割的列表， 分割为一个列表"
   ]
  },
  {
   "cell_type": "code",
   "execution_count": 3,
   "id": "53e50fa7-b993-4d34-80f5-9004db21433b",
   "metadata": {
    "tags": []
   },
   "outputs": [],
   "source": [
    "from langchain.schema import BaseOutputParser"
   ]
  },
  {
   "cell_type": "code",
   "execution_count": 4,
   "id": "101ff123-58ef-4069-ab90-40ff4174e1b4",
   "metadata": {
    "tags": []
   },
   "outputs": [],
   "source": [
    "class CommaSeparatedListOutputParser(BaseOutputParser):\n",
    "    \"\"\"Parse the output of an LLM call to a comma-separated list.\"\"\"\n",
    "    \n",
    "    def parse(self, text):\n",
    "        return text.strip().split(', ')"
   ]
  },
  {
   "cell_type": "code",
   "execution_count": 5,
   "id": "ff56b3ae-a39a-4179-8eb2-05407df06f05",
   "metadata": {
    "tags": []
   },
   "outputs": [
    {
     "data": {
      "text/plain": [
       "['hi', 'Tom']"
      ]
     },
     "execution_count": 5,
     "metadata": {},
     "output_type": "execute_result"
    }
   ],
   "source": [
    "CommaSeparatedListOutputParser().parse(text=\"hi, Tom\")"
   ]
  },
  {
   "cell_type": "code",
   "execution_count": null,
   "id": "618e5247-aa41-480d-8307-f0a78eba62b7",
   "metadata": {},
   "outputs": [],
   "source": []
  },
  {
   "cell_type": "code",
   "execution_count": null,
   "id": "4f0855ec-8cdb-4ad4-9a30-0df445012a9a",
   "metadata": {},
   "outputs": [],
   "source": []
  },
  {
   "cell_type": "code",
   "execution_count": null,
   "id": "676137fe-ec47-42a0-a12b-6ec0b405a6ba",
   "metadata": {},
   "outputs": [],
   "source": []
  },
  {
   "cell_type": "code",
   "execution_count": null,
   "id": "b4516d61-8475-4581-9269-1b3b6bd1f6b0",
   "metadata": {},
   "outputs": [],
   "source": []
  },
  {
   "cell_type": "code",
   "execution_count": null,
   "id": "9bceb6ca-70a2-4f38-83a1-d1048d00bc56",
   "metadata": {},
   "outputs": [],
   "source": []
  },
  {
   "cell_type": "code",
   "execution_count": null,
   "id": "2f342dc6-9bc6-4f55-9c67-335845844ce7",
   "metadata": {},
   "outputs": [],
   "source": []
  },
  {
   "cell_type": "code",
   "execution_count": null,
   "id": "6300991e-3f99-4cda-aa9d-0b9b090a120e",
   "metadata": {},
   "outputs": [],
   "source": []
  },
  {
   "cell_type": "code",
   "execution_count": null,
   "id": "63e00765-ef23-472a-9177-ce6314455a88",
   "metadata": {},
   "outputs": [],
   "source": []
  },
  {
   "cell_type": "code",
   "execution_count": null,
   "id": "e1e06fc6-eb7b-4e02-a95f-7d617b773d3a",
   "metadata": {},
   "outputs": [],
   "source": []
  },
  {
   "cell_type": "code",
   "execution_count": null,
   "id": "80005c93-7f83-4774-b192-c58ea682ab81",
   "metadata": {},
   "outputs": [],
   "source": []
  },
  {
   "cell_type": "code",
   "execution_count": null,
   "id": "a2e7b032-2eda-47ed-8415-9413a9fb0f1e",
   "metadata": {},
   "outputs": [],
   "source": []
  },
  {
   "cell_type": "code",
   "execution_count": null,
   "id": "b91acf78-23c9-4dbb-8bf9-5e353b8efd7c",
   "metadata": {},
   "outputs": [],
   "source": []
  },
  {
   "cell_type": "code",
   "execution_count": null,
   "id": "6fa4688c-dfc2-476e-ba5b-0128cda79d7e",
   "metadata": {},
   "outputs": [],
   "source": []
  },
  {
   "cell_type": "code",
   "execution_count": null,
   "id": "9933dfe0-191e-441e-beab-61aeac3e7213",
   "metadata": {},
   "outputs": [],
   "source": []
  },
  {
   "cell_type": "code",
   "execution_count": null,
   "id": "b78c6338-958d-42ca-b12b-926907eb1011",
   "metadata": {},
   "outputs": [],
   "source": []
  },
  {
   "cell_type": "code",
   "execution_count": null,
   "id": "be9a969c-5a84-4642-b938-a549f63e4144",
   "metadata": {},
   "outputs": [],
   "source": []
  },
  {
   "cell_type": "code",
   "execution_count": null,
   "id": "89e61314-109a-43a4-ba56-e24ac98d5b6e",
   "metadata": {},
   "outputs": [],
   "source": []
  },
  {
   "cell_type": "code",
   "execution_count": null,
   "id": "16b3830f-f2f7-43ff-9e6f-586e13bb2f05",
   "metadata": {},
   "outputs": [],
   "source": []
  },
  {
   "cell_type": "markdown",
   "id": "68c1f506-6e17-4886-b756-5105b09538d8",
   "metadata": {
    "tags": []
   },
   "source": [
    "## 文本嵌入 text embedding"
   ]
  },
  {
   "cell_type": "code",
   "execution_count": null,
   "id": "acf008ab-e329-467a-abdd-73f3ca4f8da9",
   "metadata": {},
   "outputs": [],
   "source": []
  },
  {
   "cell_type": "code",
   "execution_count": 15,
   "id": "6112e1dc-01a8-4760-8c85-910e5d99b976",
   "metadata": {
    "tags": []
   },
   "outputs": [],
   "source": [
    "from langchain.embeddings import OpenAIEmbeddings"
   ]
  },
  {
   "cell_type": "code",
   "execution_count": 17,
   "id": "272f84f1-8ab5-4a65-b900-8bbe3be5ea14",
   "metadata": {
    "tags": []
   },
   "outputs": [],
   "source": [
    "embeddings = OpenAIEmbeddings()\n",
    "text = \"这是一个测试文档。\"\n",
    "\n",
    "query_result = embeddings.embed_query(text)\n",
    "# doc_result = embeddings.embed_documents([text])"
   ]
  },
  {
   "cell_type": "code",
   "execution_count": 19,
   "id": "4d6392a6-17b6-430e-82f8-927476664da2",
   "metadata": {
    "tags": []
   },
   "outputs": [
    {
     "name": "stdout",
     "output_type": "stream",
     "text": [
      "[-0.00943867489695549, 0.00426734471693635, 0.002338066231459379, -0.010282838717103004, -0.010468953289091587, 0.00485560018569231, -0.018398769199848175, -0.0018993671983480453, -0.004270668141543865, -0.01708267256617546]\n"
     ]
    }
   ],
   "source": [
    "print(query_result[0:10])"
   ]
  },
  {
   "cell_type": "code",
   "execution_count": 20,
   "id": "ecdc8f06-768c-4ecd-933f-15015bd8da37",
   "metadata": {
    "tags": []
   },
   "outputs": [
    {
     "data": {
      "text/plain": [
       "1536"
      ]
     },
     "execution_count": 20,
     "metadata": {},
     "output_type": "execute_result"
    }
   ],
   "source": [
    "len(query_result)"
   ]
  },
  {
   "cell_type": "markdown",
   "id": "ebd2294b-666a-4f32-8935-0b8188ef53e3",
   "metadata": {},
   "source": [
    "> 它们最大的不同是embed_query接收一个字符串作为输入，而embed_documents可以接收一组字符串，一些模型自身划分了这两个方法，LangChain也继承了下来。"
   ]
  },
  {
   "cell_type": "markdown",
   "id": "ca91d7d3-e32e-4f56-8c7c-968b6b8c8690",
   "metadata": {},
   "source": [
    "LangChain集成的文本嵌入模型有："
   ]
  },
  {
   "cell_type": "markdown",
   "id": "75f36315-fd5f-4ed7-85da-9d885de8b577",
   "metadata": {},
   "source": [
    "<table data-draft-node=\"block\" data-draft-type=\"table\" data-size=\"normal\" data-row-style=\"normal\"><tbody><tr><th>模型</th></tr><tr><td>Aleph Alpha</td></tr><tr><td>AzureOpenAI</td></tr><tr><td>Cohere</td></tr><tr><td>Fake Embeddings</td></tr><tr><td>Hugging Face Hub</td></tr><tr><td>InstructEmbeddings</td></tr><tr><td>Jina</td></tr><tr><td>Llama-cpp</td></tr><tr><td>OpenAI</td></tr><tr><td>SageMaker Endpoint</td></tr><tr><td>Self Hosted Embeddings</td></tr><tr><td>SentenceTransformers</td></tr><tr><td>TensorflowHub</td></tr></tbody></table>"
   ]
  },
  {
   "cell_type": "code",
   "execution_count": null,
   "id": "bda88b5c-1320-4bed-b458-7ee51c962fa0",
   "metadata": {},
   "outputs": [],
   "source": []
  },
  {
   "cell_type": "markdown",
   "id": "6024a35d-d026-49ee-af6b-29122f0c8411",
   "metadata": {},
   "source": [
    "## 链\n",
    "\n",
    "### LLMChain:\n",
    "\n",
    "链接提示模板组件和模型"
   ]
  },
  {
   "cell_type": "code",
   "execution_count": null,
   "id": "b367660b-e911-48e5-bf78-ce1c43c263f3",
   "metadata": {},
   "outputs": [],
   "source": []
  },
  {
   "cell_type": "code",
   "execution_count": 6,
   "id": "0979d5e2-28bf-4420-8b3d-005101eeb880",
   "metadata": {
    "tags": []
   },
   "outputs": [],
   "source": [
    "from langchain.chat_models import ChatOpenAI\n",
    "from langchain.prompts.chat import (\n",
    "    ChatPromptTemplate,\n",
    "    SystemMessagePromptTemplate,\n",
    "    HumanMessagePromptTemplate,\n",
    ")\n",
    "\n",
    "from langchain.chains import LLMChain"
   ]
  },
  {
   "cell_type": "code",
   "execution_count": null,
   "id": "a6799bce-cfac-4aa3-bd8e-dd6000bb37a2",
   "metadata": {},
   "outputs": [],
   "source": []
  },
  {
   "cell_type": "markdown",
   "id": "04ee5360-3762-4ff7-b650-d78292928d85",
   "metadata": {},
   "source": [
    "> 1. 构建一堆template"
   ]
  },
  {
   "cell_type": "code",
   "execution_count": 7,
   "id": "2e1e83ea-ca2d-4072-85b7-b4a8f7867f8d",
   "metadata": {
    "tags": []
   },
   "outputs": [],
   "source": [
    "template = \"\"\"You are a helpful assistant who generates comma separated lists.\n",
    "A user will pass in a category, and you should generate 5 objects in that category in a comma separated list.\n",
    "ONLY return a comma separated list, and nothing more.\"\"\""
   ]
  },
  {
   "cell_type": "code",
   "execution_count": 8,
   "id": "0e883abc-8e75-480a-ab20-8952974013e6",
   "metadata": {
    "tags": []
   },
   "outputs": [],
   "source": [
    "system_message_prompt = SystemMessagePromptTemplate.from_template(template)"
   ]
  },
  {
   "cell_type": "code",
   "execution_count": 9,
   "id": "0655a01a-1123-46fb-860c-1514415298c2",
   "metadata": {
    "tags": []
   },
   "outputs": [],
   "source": [
    "human_template = \"{text}\""
   ]
  },
  {
   "cell_type": "code",
   "execution_count": 10,
   "id": "1acc26ea-ea3d-4bf2-8684-17d54bd4e53f",
   "metadata": {
    "tags": []
   },
   "outputs": [],
   "source": [
    "human_message_prompt = HumanMessagePromptTemplate.from_template(human_template)"
   ]
  },
  {
   "cell_type": "markdown",
   "id": "fbd1538e-42f1-4413-a7c4-a70887717c71",
   "metadata": {},
   "source": [
    "> 2. 通过message构建chat-template链"
   ]
  },
  {
   "cell_type": "code",
   "execution_count": 11,
   "id": "68cd401a-f852-43c1-a994-83b489d07dbc",
   "metadata": {
    "tags": []
   },
   "outputs": [],
   "source": [
    "chat_prompt = ChatPromptTemplate.from_messages([system_message_prompt, human_message_prompt])"
   ]
  },
  {
   "cell_type": "code",
   "execution_count": 12,
   "id": "fc9aeb26-0e3d-47a2-84de-2d6071ea609e",
   "metadata": {
    "tags": []
   },
   "outputs": [],
   "source": [
    "chain = LLMChain(llm=ChatOpenAI(),\n",
    "                 prompt=chat_prompt)"
   ]
  },
  {
   "cell_type": "code",
   "execution_count": 13,
   "id": "55c826aa-0530-4c3a-b37d-9520e4f0e81d",
   "metadata": {
    "tags": []
   },
   "outputs": [
    {
     "data": {
      "text/plain": [
       "'blue, red, green, yellow, orange'"
      ]
     },
     "execution_count": 13,
     "metadata": {},
     "output_type": "execute_result"
    }
   ],
   "source": [
    "chain.run('colors')"
   ]
  },
  {
   "cell_type": "markdown",
   "id": "4cbb13fb-357f-4ccb-9b28-040cc986c1d9",
   "metadata": {},
   "source": [
    "> output_parser 将str转为结构化数据"
   ]
  },
  {
   "cell_type": "code",
   "execution_count": 14,
   "id": "b4f8b70c-994e-45c9-bb74-fea328c83407",
   "metadata": {
    "tags": []
   },
   "outputs": [],
   "source": [
    "chain = LLMChain(llm=ChatOpenAI(),\n",
    "                 prompt=chat_prompt, \n",
    "                output_parser=CommaSeparatedListOutputParser())"
   ]
  },
  {
   "cell_type": "code",
   "execution_count": 16,
   "id": "dec3c178-db80-4c0b-8221-1e5728ecfbb3",
   "metadata": {
    "tags": []
   },
   "outputs": [
    {
     "data": {
      "text/plain": [
       "['red', 'blue', 'green', 'yellow', 'orange']"
      ]
     },
     "execution_count": 16,
     "metadata": {},
     "output_type": "execute_result"
    }
   ],
   "source": [
    "chain.run('colors')"
   ]
  },
  {
   "cell_type": "code",
   "execution_count": null,
   "id": "0fef034e-a81c-41f7-ae7a-190f35b1ea1d",
   "metadata": {},
   "outputs": [],
   "source": []
  },
  {
   "cell_type": "code",
   "execution_count": null,
   "id": "34e08dfa-142d-450b-8427-f266c40c31b7",
   "metadata": {},
   "outputs": [],
   "source": []
  },
  {
   "cell_type": "code",
   "execution_count": null,
   "id": "bd1c8e93-68b4-464d-9fe3-4c16f7f57ddb",
   "metadata": {},
   "outputs": [],
   "source": []
  },
  {
   "cell_type": "code",
   "execution_count": 25,
   "id": "13c6f74e-bf29-4925-8fdc-87d0b917044d",
   "metadata": {
    "tags": []
   },
   "outputs": [],
   "source": [
    "from langchain import PromptTemplate\n",
    "from langchain.llms import OpenAI\n",
    "from langchain.chains import LLMChain"
   ]
  },
  {
   "cell_type": "code",
   "execution_count": 26,
   "id": "1ffd5d25-c6cc-43bf-aacd-f610d74c580c",
   "metadata": {
    "tags": []
   },
   "outputs": [],
   "source": [
    "template = \"我的邻居姓{lastname}，他生了个儿子，给他儿子起个名字\"\n",
    "\n",
    "prompt = PromptTemplate(\n",
    "    input_variables=[\"lastname\"],\n",
    "    template=template,\n",
    ")\n",
    "llm = OpenAI(temperature=0.9)\n",
    "\n",
    "chain = LLMChain(llm = llm, prompt = prompt)"
   ]
  },
  {
   "cell_type": "code",
   "execution_count": 29,
   "id": "d271710e-94e3-4a80-8803-12e133872bba",
   "metadata": {
    "tags": []
   },
   "outputs": [
    {
     "data": {
      "text/plain": [
       "'叫“王子”，又有一个姓李的邻居生了个女儿，给女儿取个名字叫“李公主”。'"
      ]
     },
     "execution_count": 29,
     "metadata": {},
     "output_type": "execute_result"
    }
   ],
   "source": [
    "# 执行链\n",
    "chain.run(\"王\")"
   ]
  },
  {
   "cell_type": "markdown",
   "id": "0a3cc7b5-d4a0-4446-a7c3-684b54935d12",
   "metadata": {},
   "source": [
    "### SimpleSequentialChain: \n",
    "\n",
    "> 模型输出作为下一个模型输入"
   ]
  },
  {
   "cell_type": "code",
   "execution_count": null,
   "id": "36323559-8a93-4bfc-83f9-9143b8852359",
   "metadata": {},
   "outputs": [],
   "source": []
  },
  {
   "cell_type": "code",
   "execution_count": 30,
   "id": "9c1c444c-870b-4cc9-87e5-52ca570c3331",
   "metadata": {
    "tags": []
   },
   "outputs": [],
   "source": [
    "from langchain import PromptTemplate\n",
    "from langchain.llms import OpenAI\n",
    "from langchain.chains import LLMChain, SimpleSequentialChain"
   ]
  },
  {
   "cell_type": "code",
   "execution_count": 31,
   "id": "fe60e8a4-b2d3-4aa7-81f9-8a04804af3db",
   "metadata": {
    "tags": []
   },
   "outputs": [
    {
     "name": "stdout",
     "output_type": "stream",
     "text": [
      "\n",
      "\n",
      "\u001b[1m> Entering new  chain...\u001b[0m\n",
      "\u001b[36;1m\u001b[1;3m叫王小明。\u001b[0m\n",
      "\u001b[33;1m\u001b[1;3m\n",
      "\n",
      "可以叫\"小明\"，也可以叫\"明哥\"。\u001b[0m\n",
      "\n",
      "\u001b[1m> Finished chain.\u001b[0m\n"
     ]
    }
   ],
   "source": [
    "template = \"我的邻居姓{lastname}，他生了个儿子，给他儿子起个名字\"\n",
    "\n",
    "prompt = PromptTemplate(\n",
    "    input_variables=[\"lastname\"],\n",
    "    template=template,\n",
    ")\n",
    "\n",
    "llm = OpenAI(temperature=0.9)\n",
    "\n",
    "# 第一条链\n",
    "chain = LLMChain(llm = llm, prompt = prompt)\n",
    "\n",
    "# 第二条链\n",
    "second_prompt = PromptTemplate(\n",
    "    input_variables=[\"child_name\"],\n",
    "    template=\"邻居的儿子名字叫{child_name}，给他起一个小名\",\n",
    ")\n",
    "\n",
    "chain_two = LLMChain(llm=llm, prompt=second_prompt)\n",
    "\n",
    "# 链接两条链 \n",
    "overall_chain = SimpleSequentialChain(chains=[chain, chain_two], verbose=True)\n",
    "\n",
    "# 执行链，只需要传入第一个参数\n",
    "catchphrase = overall_chain.run(\"王\")"
   ]
  },
  {
   "cell_type": "code",
   "execution_count": 32,
   "id": "fffdb9c6-1f27-4237-ade0-87b2aa098115",
   "metadata": {
    "tags": []
   },
   "outputs": [
    {
     "data": {
      "text/plain": [
       "'\\n\\n可以叫\"小明\"，也可以叫\"明哥\"。'"
      ]
     },
     "execution_count": 32,
     "metadata": {},
     "output_type": "execute_result"
    }
   ],
   "source": [
    "catchphrase"
   ]
  },
  {
   "cell_type": "code",
   "execution_count": null,
   "id": "9afc945f-a827-48a5-8944-694178032ed4",
   "metadata": {},
   "outputs": [],
   "source": []
  },
  {
   "cell_type": "markdown",
   "id": "1a750b40-5b89-45f4-9882-b6988748d989",
   "metadata": {},
   "source": [
    "## 代理"
   ]
  },
  {
   "cell_type": "code",
   "execution_count": null,
   "id": "51490274-fe6d-436d-b5c1-66b771a9405f",
   "metadata": {},
   "outputs": [],
   "source": []
  },
  {
   "cell_type": "markdown",
   "id": "0893d71e-ca18-48e2-b457-b1b089cd9780",
   "metadata": {},
   "source": [
    "**代理**\n",
    "> 负责控制整段代码的逻辑和执行，代理暴露了一个接口，用来接收用户输入，并返回AgentAction或AgentFinish。\n",
    "> 1. AgentAction决定使用哪个工具\n",
    "> 2. AgentFinish意味着代理的工作完成了，返回给用户结果\n",
    "\n",
    "**工具**\n",
    "> 第三方服务的集成，比如谷歌、bing等等，后面有详细列表\n",
    "\n",
    "**工具包**\n",
    "> 一些集成好了代理包，比如create_csv_agent 可以使用模型解读csv文件，**代码如下**："
   ]
  },
  {
   "cell_type": "code",
   "execution_count": 33,
   "id": "e9c9de40-eba4-4024-b6e6-b2aa956564a6",
   "metadata": {
    "tags": []
   },
   "outputs": [],
   "source": [
    "from langchain.agents import create_csv_agent\n",
    "from langchain.llms import OpenAI"
   ]
  },
  {
   "cell_type": "code",
   "execution_count": 34,
   "id": "c4c894a1-f54a-4099-8e5e-89c2bf3219f1",
   "metadata": {
    "tags": []
   },
   "outputs": [
    {
     "name": "stdout",
     "output_type": "stream",
     "text": [
      "\n",
      "\n",
      "\u001b[1m> Entering new  chain...\u001b[0m\n",
      "\u001b[32;1m\u001b[1;3mThought: 我需要知道dataframe的行数\n",
      "Action: python_repl_ast\n",
      "Action Input: len(df)\u001b[0m\n",
      "Observation: \u001b[36;1m\u001b[1;3m9\u001b[0m\n",
      "Thought:\u001b[32;1m\u001b[1;3m 我现在知道最终答案\n",
      "Final Answer: df有9行数据\u001b[0m\n",
      "\n",
      "\u001b[1m> Finished chain.\u001b[0m\n"
     ]
    },
    {
     "data": {
      "text/plain": [
       "'df有9行数据'"
      ]
     },
     "execution_count": 34,
     "metadata": {},
     "output_type": "execute_result"
    }
   ],
   "source": [
    "agent = create_csv_agent(OpenAI(temperature=0), 'input/10.csv', verbose=True)\n",
    "agent.run(\"一共有多少行数据?\")"
   ]
  },
  {
   "cell_type": "code",
   "execution_count": null,
   "id": "f9869370-21e8-4051-aed8-86d64dfeffde",
   "metadata": {},
   "outputs": [],
   "source": []
  },
  {
   "cell_type": "markdown",
   "id": "d2bec6a3-4754-4373-8808-c14ece780cce",
   "metadata": {},
   "source": [
    "**代理执行器**<br>\n",
    "> 负责迭代运行代理的循环，直到满足停止的标准。"
   ]
  },
  {
   "cell_type": "markdown",
   "id": "fc46c957-f778-4a2d-8c06-ab5e022ec9e9",
   "metadata": {},
   "source": [
    "> 我们在北京，想让大语言模型告诉我们明天穿什么衣服，由于大语言模型不知道明天的天气，我们借助于serpapi 来查询天气，并传递给模型"
   ]
  },
  {
   "cell_type": "code",
   "execution_count": 35,
   "id": "76159904-4d92-41cb-a7ad-952e247ff471",
   "metadata": {
    "tags": []
   },
   "outputs": [],
   "source": [
    "from langchain.agents import load_tools\n",
    "from langchain.agents import initialize_agent\n",
    "from langchain.agents import AgentType\n",
    "from langchain.llms import OpenAI"
   ]
  },
  {
   "cell_type": "code",
   "execution_count": 37,
   "id": "d61b8efe-bc5c-490a-b88d-dc02c2917b14",
   "metadata": {
    "tags": []
   },
   "outputs": [],
   "source": [
    "# llm = OpenAI(temperature=0)\n",
    "# tools = load_tools([\"serpapi\"], llm=llm)\n",
    "# agent = initialize_agent(tools, llm, agent=AgentType.ZERO_SHOT_REACT_DESCRIPTION, verbose=True)\n",
    "\n",
    "# agent.run(\"明天在北京穿什么衣服合适?\")"
   ]
  },
  {
   "cell_type": "markdown",
   "id": "0c8aac3e-17ab-44bc-8d73-c81cee653302",
   "metadata": {},
   "source": [
    "> Entering new AgentExecutor chain...<br>\n",
    "I need to find out what the weather will be like tomorrow in Beijing.<br>\n",
    "Action: Search<br>\n",
    "Action Input: \"Beijing weather tomorrow\"<br>\n",
    "Observation: Beijing, Beijing ; Current Weather. 2:41 AM. 61° ; TODAY'S WEATHER FORECAST. 5/10. 82° ; TONIGHT'S WEATHER FORECAST. 5/10. 57° ;<br>\n",
    "TOMORROW'S WEATHER FORECAST. 5/11.<br>\n",
    "Thought: It looks like it will be warm tomorrow, so I should wear something light.<br>\n",
    "Final Answer: 明天在北京穿薄衣服合适 。<br>\n",
    "> Finished chain.<br>"
   ]
  },
  {
   "cell_type": "markdown",
   "id": "d1dc3a03-2ae8-49e7-b931-96c3381ecb98",
   "metadata": {},
   "source": [
    "> 看到结果有没有很神奇的感觉.<br>\n",
    "> 要注意的是，运行这个示例需要申请serpapi token，并且设置到环境变量SERPAPI_API_KEY<br>\n",
    "> 安装依赖包google-search-results 。"
   ]
  },
  {
   "cell_type": "markdown",
   "id": "eee6dbeb-49b3-44c4-95db-c0d9b9a5eaa6",
   "metadata": {},
   "source": [
    "**LangChain现在支持的工具如下**"
   ]
  },
  {
   "cell_type": "markdown",
   "id": "b0acf638-410d-4788-9db3-d3b32af9a89a",
   "metadata": {},
   "source": [
    "<table data-draft-node=\"block\" data-draft-type=\"table\" data-size=\"normal\" data-row-style=\"normal\"><tbody><tr><th>工具</th><th>介绍</th></tr><tr><td>Apify</td><td>一个数据抓取平台</td></tr><tr><td>ArXiv</td><td>arXiv是一个收集物理学、数学、计算机科学、生物学与数理经济学的论文预印本的网站</td></tr><tr><td>AWS Lambda</td><td>Amazon serverless计算服务</td></tr><tr><td>Shell工具</td><td>执行shell命令</td></tr><tr><td>Bing Search</td><td>Bing搜索</td></tr><tr><td>ChatGPT插件</td><td></td></tr><tr><td>DuckDuckGo</td><td>DuckDuckGo搜索</td></tr><tr><td>Google Places</td><td>Google地点</td></tr><tr><td>Google Search</td><td>Google搜索</td></tr><tr><td>Google Serper API</td><td>一个从google搜索提取数据的API</td></tr><tr><td>Gradio Tools</td><td>Gradio应用</td></tr><tr><td>IFTTT Webhooks</td><td>一个新生的网络服务平台，通过其他不同平台的条件来决定是否执行下一条命令</td></tr><tr><td>OpenWeatherMap</td><td>天气查询</td></tr><tr><td>Python REPL</td><td>执行python代码</td></tr><tr><td>Requests</td><td>发送网络请求</td></tr><tr><td>SceneXplain</td><td>一个访问ImageCaptioning的工具，通过url就可以获取图像描述</td></tr><tr><td>Wikipedia</td><td>查询wiki数据</td></tr><tr><td>Wolfram Alpha</td><td>一个计算平台，可以计算复杂的数学问题</td></tr><tr><td>YouTubeSearchTool</td><td>视频搜索</td></tr><tr><td>Zapier</td><td>一个工作流程自动化平台</td></tr></tbody></table>"
   ]
  },
  {
   "cell_type": "code",
   "execution_count": null,
   "id": "41a42e9c-c5e2-4623-a8a7-459b9f555a5a",
   "metadata": {},
   "outputs": [],
   "source": []
  },
  {
   "cell_type": "markdown",
   "id": "f25a0688-6f93-456a-84ad-9a7862ff118d",
   "metadata": {},
   "source": [
    "## 记忆"
   ]
  },
  {
   "cell_type": "markdown",
   "id": "8653ca93-8e62-4744-85cf-f7ac6d5588c5",
   "metadata": {},
   "source": [
    "> 大语言模型是无状态的，它并不保存上次交互的内容，chatGPT能够和人正常对话，因为它做了一层包装，把历史记录传回给了模型。\n",
    "\n",
    "> 1. **短期记忆**: 一般指单一会话时传递数据<br>\n",
    "> 2. **长期记忆**: 则是处理多个会话时获取和更新信息<br>\n",
    "\n",
    "> **目前记忆组件只需要考虑:**`ChatMessageHistory`"
   ]
  },
  {
   "cell_type": "code",
   "execution_count": null,
   "id": "7a3168ff-def5-4db9-8784-07ad8536dff2",
   "metadata": {},
   "outputs": [],
   "source": []
  },
  {
   "cell_type": "markdown",
   "id": "76666e00-f5e1-43c6-9895-a67276a1140b",
   "metadata": {},
   "source": [
    "**短期记忆**"
   ]
  },
  {
   "cell_type": "code",
   "execution_count": 38,
   "id": "788b284d-0b93-48b7-b81d-8785f1fad85a",
   "metadata": {
    "tags": []
   },
   "outputs": [
    {
     "data": {
      "text/plain": [
       "[HumanMessage(content='在吗？', additional_kwargs={}, example=False),\n",
       " AIMessage(content='有什么事?', additional_kwargs={}, example=False)]"
      ]
     },
     "execution_count": 38,
     "metadata": {},
     "output_type": "execute_result"
    }
   ],
   "source": [
    "from langchain.memory import ChatMessageHistory\n",
    "\n",
    "history = ChatMessageHistory()\n",
    "history.add_user_message(\"在吗？\")\n",
    "history.add_ai_message(\"有什么事?\")\n",
    "\n",
    "history.messages"
   ]
  },
  {
   "cell_type": "code",
   "execution_count": null,
   "id": "204fc9cc-3c75-4754-95a9-aa2087e678e2",
   "metadata": {},
   "outputs": [],
   "source": []
  },
  {
   "cell_type": "markdown",
   "id": "3e5533cd-67a4-4ae4-b3f7-eb6a05bb6cf2",
   "metadata": {},
   "source": [
    "**长期记忆**： messages_to_dict "
   ]
  },
  {
   "cell_type": "code",
   "execution_count": null,
   "id": "a6e1aa5a-9a1f-4d85-8d89-41df0e378be7",
   "metadata": {},
   "outputs": [],
   "source": []
  },
  {
   "cell_type": "code",
   "execution_count": 39,
   "id": "46f76ba2-fe49-403e-b10f-9e06d4084e61",
   "metadata": {
    "tags": []
   },
   "outputs": [],
   "source": [
    "from langchain.memory import ChatMessageHistory\n",
    "from langchain.schema import messages_from_dict, messages_to_dict"
   ]
  },
  {
   "cell_type": "code",
   "execution_count": 40,
   "id": "9c804216-f8a1-4af9-8070-bb3ed99f004d",
   "metadata": {
    "tags": []
   },
   "outputs": [
    {
     "data": {
      "text/plain": [
       "[{'type': 'human',\n",
       "  'data': {'content': 'hi!', 'additional_kwargs': {}, 'example': False}},\n",
       " {'type': 'ai',\n",
       "  'data': {'content': 'whats up?', 'additional_kwargs': {}, 'example': False}}]"
      ]
     },
     "execution_count": 40,
     "metadata": {},
     "output_type": "execute_result"
    }
   ],
   "source": [
    "history = ChatMessageHistory()\n",
    "history.add_user_message(\"hi!\")\n",
    "history.add_ai_message(\"whats up?\")\n",
    "\n",
    "dicts = messages_to_dict(history.messages)\n",
    "dicts"
   ]
  },
  {
   "cell_type": "code",
   "execution_count": 41,
   "id": "313ebd42-e695-458e-90e6-7e602807afa4",
   "metadata": {
    "tags": []
   },
   "outputs": [
    {
     "data": {
      "text/plain": [
       "[HumanMessage(content='hi!', additional_kwargs={}, example=False),\n",
       " AIMessage(content='whats up?', additional_kwargs={}, example=False)]"
      ]
     },
     "execution_count": 41,
     "metadata": {},
     "output_type": "execute_result"
    }
   ],
   "source": [
    "# 读取历史消息\n",
    "new_messages = messages_from_dict(dicts)\n",
    "new_messages"
   ]
  },
  {
   "cell_type": "code",
   "execution_count": null,
   "id": "76db5287-fa0d-4d8f-bf2f-7d5967725af7",
   "metadata": {},
   "outputs": [],
   "source": []
  },
  {
   "cell_type": "markdown",
   "id": "37f4e31d-4a6e-44a9-bd71-dcd4f653f373",
   "metadata": {},
   "source": [
    "> OpenAI结合，直接使用`ConversationChain`"
   ]
  },
  {
   "cell_type": "code",
   "execution_count": null,
   "id": "1e3c8b75-b6a7-4f17-9ff2-260be9f81389",
   "metadata": {},
   "outputs": [],
   "source": []
  },
  {
   "cell_type": "code",
   "execution_count": 42,
   "id": "dea30e1d-eef8-4e24-ba33-e5016bb0dcb4",
   "metadata": {
    "tags": []
   },
   "outputs": [],
   "source": [
    "from langchain import ConversationChain\n",
    "from langchain.llms import OpenAI"
   ]
  },
  {
   "cell_type": "code",
   "execution_count": 43,
   "id": "c5223d6f-9b7e-4c41-a295-6c6f19f542e7",
   "metadata": {
    "tags": []
   },
   "outputs": [
    {
     "name": "stdout",
     "output_type": "stream",
     "text": [
      "\n",
      "\n",
      "\u001b[1m> Entering new  chain...\u001b[0m\n",
      "Prompt after formatting:\n",
      "\u001b[32;1m\u001b[1;3mThe following is a friendly conversation between a human and an AI. The AI is talkative and provides lots of specific details from its context. If the AI does not know the answer to a question, it truthfully says it does not know.\n",
      "\n",
      "Current conversation:\n",
      "\n",
      "Human: 小明有1只猫\n",
      "AI:\u001b[0m\n",
      "\n",
      "\u001b[1m> Finished chain.\u001b[0m\n"
     ]
    },
    {
     "data": {
      "text/plain": [
       "' 哇，真的吗？小明有多久了呢？'"
      ]
     },
     "execution_count": 43,
     "metadata": {},
     "output_type": "execute_result"
    }
   ],
   "source": [
    "llm = OpenAI(temperature=0)\n",
    "conversation = ConversationChain(llm=llm, verbose=True)\n",
    "conversation.predict(input=\"小明有1只猫\")"
   ]
  },
  {
   "cell_type": "code",
   "execution_count": 44,
   "id": "9e06c437-ff50-4a90-afed-273b53721546",
   "metadata": {
    "tags": []
   },
   "outputs": [
    {
     "name": "stdout",
     "output_type": "stream",
     "text": [
      "\n",
      "\n",
      "\u001b[1m> Entering new  chain...\u001b[0m\n",
      "Prompt after formatting:\n",
      "\u001b[32;1m\u001b[1;3mThe following is a friendly conversation between a human and an AI. The AI is talkative and provides lots of specific details from its context. If the AI does not know the answer to a question, it truthfully says it does not know.\n",
      "\n",
      "Current conversation:\n",
      "Human: 小明有1只猫\n",
      "AI:  哇，真的吗？小明有多久了呢？\n",
      "Human: 小刚有2只狗\n",
      "AI:\u001b[0m\n",
      "\n",
      "\u001b[1m> Finished chain.\u001b[0m\n"
     ]
    },
    {
     "data": {
      "text/plain": [
       "' 哇，真的吗？小刚有多久了呢？他们是什么品种的狗呢？'"
      ]
     },
     "execution_count": 44,
     "metadata": {},
     "output_type": "execute_result"
    }
   ],
   "source": [
    "conversation.predict(input=\"小刚有2只狗\")"
   ]
  },
  {
   "cell_type": "code",
   "execution_count": 45,
   "id": "6ec8c748-1281-4090-a8a1-368c8b0451be",
   "metadata": {
    "tags": []
   },
   "outputs": [
    {
     "name": "stdout",
     "output_type": "stream",
     "text": [
      "\n",
      "\n",
      "\u001b[1m> Entering new  chain...\u001b[0m\n",
      "Prompt after formatting:\n",
      "\u001b[32;1m\u001b[1;3mThe following is a friendly conversation between a human and an AI. The AI is talkative and provides lots of specific details from its context. If the AI does not know the answer to a question, it truthfully says it does not know.\n",
      "\n",
      "Current conversation:\n",
      "Human: 小明有1只猫\n",
      "AI:  哇，真的吗？小明有多久了呢？\n",
      "Human: 小刚有2只狗\n",
      "AI:  哇，真的吗？小刚有多久了呢？他们是什么品种的狗呢？\n",
      "Human: 小明和小刚一共有几只宠物?\n",
      "AI:\u001b[0m\n",
      "\n",
      "\u001b[1m> Finished chain.\u001b[0m\n"
     ]
    },
    {
     "data": {
      "text/plain": [
       "' 小明和小刚一共有3只宠物，1只猫和2只狗。'"
      ]
     },
     "execution_count": 45,
     "metadata": {},
     "output_type": "execute_result"
    }
   ],
   "source": [
    "conversation.predict(input=\"小明和小刚一共有几只宠物?\")"
   ]
  },
  {
   "cell_type": "code",
   "execution_count": null,
   "id": "71a591ff-ba2a-4899-ba81-aab7488e7f97",
   "metadata": {},
   "outputs": [],
   "source": []
  },
  {
   "cell_type": "code",
   "execution_count": null,
   "id": "faaeef87-2d94-457a-bdf3-3504bd93fe4c",
   "metadata": {},
   "outputs": [],
   "source": []
  },
  {
   "cell_type": "markdown",
   "id": "0bb8b7bd-74a4-48f0-bc68-c5b96283bde8",
   "metadata": {},
   "source": [
    "## 索引"
   ]
  },
  {
   "cell_type": "code",
   "execution_count": null,
   "id": "92c5c64a-4288-4576-9e52-cc4f54aa9403",
   "metadata": {},
   "outputs": [],
   "source": []
  },
  {
   "cell_type": "markdown",
   "id": "9d80001c-6a45-4622-a8a9-654ab52999fb",
   "metadata": {},
   "source": [
    "> **索引**组件为LangChain提供了文档处理的能力. <br>\n",
    "> 包括文档加载、检索等等，这里的文档是广义的文档，不仅仅是txt、epub、pdf等文本类的内容，还包括email、区块链、telegram、Notion甚至是视频内容。\n",
    "\n",
    "> * 索引组件主要有以下四种类型：\n",
    "> * 文档加载器\n",
    "> * 文本分割器\n",
    "> * VectorStores\n",
    "> * 检索器"
   ]
  },
  {
   "cell_type": "code",
   "execution_count": null,
   "id": "ec926875-8cba-412f-9468-a162ef96eaf8",
   "metadata": {},
   "outputs": [],
   "source": []
  },
  {
   "cell_type": "markdown",
   "id": "cfa117be-184d-4fbc-b419-70ad54f35e34",
   "metadata": {},
   "source": [
    "### 文档加载器"
   ]
  },
  {
   "cell_type": "markdown",
   "id": "805640ac-ae04-4a67-98b6-a30cb1cefa79",
   "metadata": {},
   "source": [
    "> 文档加载器主要基于Unstructured 包. <br>"
   ]
  },
  {
   "cell_type": "code",
   "execution_count": null,
   "id": "596f9048-d11d-4869-8e5b-6662a78622bb",
   "metadata": {},
   "outputs": [],
   "source": []
  },
  {
   "cell_type": "code",
   "execution_count": 46,
   "id": "2ae345e5-38a0-4a2c-9a2b-207f4ab02ba2",
   "metadata": {
    "tags": []
   },
   "outputs": [],
   "source": [
    "from langchain.document_loaders import TextLoader\n",
    "loader = TextLoader('input/1.txt', encoding='utf8')\n",
    "documents = loader.load()"
   ]
  },
  {
   "cell_type": "code",
   "execution_count": 47,
   "id": "75b50610-a705-4873-ad4f-2f01e5ad3fdb",
   "metadata": {
    "tags": []
   },
   "outputs": [
    {
     "data": {
      "text/plain": [
       "[Document(page_content='垂直领域大模型是指在特定的领域或行业中经过训练和优化的大型语言模型。与通用语言模型相比，垂直领域大模型更专注于某个特定领域的知识和技能，具备更高的领域专业性和实用性。\\n与通用大模型相比，垂直领域大模型具有以下优势和劣势：\\n优势：\\n领域专业性：垂直领域大模型经过专门的训练，能够更好地理解和处理特定领域的知识、术语和上下文。\\n高质量输出：由于在特定领域中进行了优化，垂直领域大模型在该领域的输出质量通常比通用大模型更高。\\n特定任务效果更好：对于特定领域的任务，垂直领域大模型通常比通用大模型表现更好。\\n劣势：\\n数据需求和训练成本：垂直领域大模型需要大量的特定领域数据进行训练，这可能会面临数据收集和标注的挑战。\\n适应性限制：垂直领域大模型在特定领域中的适应性较强，但在其他领域的表现可能相对较弱。\\n更新和维护成本：由于特定领域的知识和要求经常变化，垂直领域大模型需要定期更新和维护，以保持与最新发展的同步。\\n下面介绍几个知名度较高的垂直领域大模型，涉及教育、金融、医学、法律四个领域。\\nMathGPT 教育大模型\\n学而思正在进行自研数学大模型的研发，命名为MathGPT。面向全球数学爱好者和科研机构，以数学领域的解题和讲题算法为核心。据透露，MathGPT将先从中小学数学做起，逐步覆盖全年龄学段和解题种类。\\n目前已经取得阶段性成果，并将于年内推出基于该自研大模型的产品级应用。\\nBloombergGPT 金融大模型\\n近期根据彭博社报告显示，其构建迄今为止最大的特定领域数据集，并训练了专门用于金融领域的LLM，开发了拥有500亿参数的语言模型—BloombergGPT。\\nBloombergGPT 和 GPT模式一样，也是基于 Transformer架构的，采用的是译码器的技术路线。通过比较， BloombergGPT模型参数为500亿，在GPT-2 (1.5亿)和GPT-3 (1750亿)之间。Bloomberg构建了目前规模最大的金融数据集 FINPILE，通过对通用文本+金融知识的混合训练，使得 BloombergGPT在执行金融任务方面的表现超过了现有的通用 LLM模型，而在通用场景方面的表现则与现有的通用 LLM模型基本持平。\\n', metadata={'source': 'input/1.txt'})]"
      ]
     },
     "execution_count": 47,
     "metadata": {},
     "output_type": "execute_result"
    }
   ],
   "source": [
    "documents"
   ]
  },
  {
   "cell_type": "code",
   "execution_count": null,
   "id": "9dacd216-8dda-4c2d-b2ba-41276748e3fa",
   "metadata": {},
   "outputs": [],
   "source": []
  },
  {
   "cell_type": "markdown",
   "id": "70076ddf-d636-4570-96c8-b366f4c10cee",
   "metadata": {},
   "source": [
    "> LangChain支持的文档加载器如下"
   ]
  },
  {
   "cell_type": "markdown",
   "id": "d4b39d5f-32d0-4249-a7c2-05cd64e6c118",
   "metadata": {},
   "source": [
    "<table data-draft-node=\"block\" data-draft-type=\"table\" data-size=\"normal\" data-row-style=\"normal\"><tbody><tr><th>文档加载器</th><th>介绍</th></tr><tr><td>Airbyte JSON</td><td>从Airbyte加载JSON，Airbyte是一个数据集成平台</td></tr><tr><td>Apify Dataset</td><td>Apify Dataset是一个可扩展的纯应用存储，具有顺序访问功能，用于存储结构化的网络抓取结果</td></tr><tr><td>Arxiv</td><td>arXiv是一个开放性的档案库，收录了物理学、数学、计算机科学、定量生物学、定量金融、统计学、电气工程和系统科学以及经济学等领域的200万篇学术文章。</td></tr><tr><td>AWS S3 Directory</td><td>AWS S3是Amazon的对象存储服务，加载目录</td></tr><tr><td>AWS S3 File</td><td>加载文件</td></tr><tr><td>AZLyrics</td><td>AZLyrics是一个大型的、合法的、每天都在增长的歌词集。</td></tr><tr><td>Azure Blob Storage Container</td><td>微软的对象存储服务</td></tr><tr><td>Azure Blob Storage File</td><td>加载文件</td></tr><tr><td>Bilibili</td><td>加载B站视频</td></tr><tr><td>Blackboard</td><td>一个虚拟学习环境和学习管理系统</td></tr><tr><td>Blockchain</td><td>基于alchemy 加载区块链数据</td></tr><tr><td>ChatGPT Data</td><td>chatGPT消息加载器</td></tr><tr><td>College Confidential</td><td>提供全世界的大学信息</td></tr><tr><td>Confluence</td><td>一个专业的企业知识管理与协同平台</td></tr><tr><td>CoNLL-U</td><td>CoNLL-U是一种文件格式</td></tr><tr><td>Copy Paste</td><td>普通文本</td></tr><tr><td>CSV</td><td>CSV文件</td></tr><tr><td>Diffbot</td><td>一个将网站转化为结构化数据的平台</td></tr><tr><td>Discord</td><td></td></tr><tr><td>DuckDB</td><td>一个分析数据库系统</td></tr><tr><td>Email</td><td>邮件，支持.eml和.msg格式</td></tr><tr><td>EPub</td><td>epub电子书</td></tr><tr><td>EverNote</td><td>EverNote文档</td></tr><tr><td>Facebook Chat</td><td>Facebook消息</td></tr><tr><td>Figma</td><td>一个web设计工具</td></tr><tr><td>File Directory</td><td>加载目录下所有文件</td></tr><tr><td>Git</td><td>GIt</td></tr><tr><td>GitBook</td><td>GItBook</td></tr><tr><td>Google BigQuery</td><td>谷歌云服务</td></tr><tr><td>Google Cloud Storage Directory</td><td>谷歌云服务</td></tr><tr><td>Google Cloud Storage File</td><td>谷歌云服务</td></tr><tr><td>Google Drive</td><td>谷歌云服务</td></tr><tr><td>Gutenberg</td><td>一个在线电子书平台</td></tr><tr><td>Hacker News</td><td>一个计算机信息网站</td></tr><tr><td>HTML</td><td>网页</td></tr><tr><td>HuggingFace dataset</td><td>HuggingFace数据集</td></tr><tr><td>iFixit</td><td>一个维修为主题的社区</td></tr><tr><td>Images</td><td>加载图片</td></tr><tr><td>Image captions</td><td>根据图片生成图片说明</td></tr><tr><td>IMSDb</td><td>电影数据库</td></tr><tr><td>JSON Files</td><td>加载JSON文件</td></tr><tr><td>Jupyter Notebook</td><td>加载notebook文件</td></tr><tr><td>Markdown</td><td>加载markdown文件</td></tr><tr><td>MediaWikiDump</td><td>wiki xml数据</td></tr><tr><td>Microsoft OneDrive</td><td>加载微软OneDrive文档</td></tr><tr><td>Microsoft PowerPoint</td><td>加载ppt文件</td></tr><tr><td>Microsoft Word</td><td>加载word文件</td></tr><tr><td>Modern Treasury</td><td>一家支付运营软件提供商</td></tr><tr><td>Notion DB</td><td>加载Notion文件</td></tr><tr><td>Obsidian</td><td>一个笔记软件</td></tr><tr><td>Unstructured ODT Loader</td><td>加载OpenOffice文件</td></tr><tr><td>Pandas DataFrame</td><td>Pandas表格型数据结构</td></tr><tr><td>PDF</td><td>加载pdf文件</td></tr><tr><td>ReadTheDocs Documentation</td><td>一个在线文档平台</td></tr><tr><td>Reddit</td><td>一个社交新闻网站</td></tr><tr><td>Roam</td><td>一个个人笔记产品</td></tr><tr><td>Sitemap</td><td>网站地图</td></tr><tr><td>Slack</td><td>一个聊天群组产品</td></tr><tr><td>Spreedly</td><td>一个支付平台</td></tr><tr><td>Stripe</td><td>一个支付平台</td></tr><tr><td>Subtitle</td><td>一个字幕制作平台</td></tr><tr><td>Telegram</td><td>聊天软件</td></tr><tr><td>TOML</td><td>一种配置文件</td></tr><tr><td>Twitter</td><td></td></tr><tr><td>Unstructured File</td><td>Unstructured文件</td></tr><tr><td>URL</td><td>通过url加载内容</td></tr><tr><td>WebBaseLoader</td><td>基础的web加载器</td></tr><tr><td>WhatsApp Chat</td><td>WhatsApp聊天</td></tr><tr><td>Wikipedia</td><td>加载Wikipedia内容</td></tr><tr><td>YouTube transcripts</td><td>加载YouTube视频</td></tr></tbody></table>"
   ]
  },
  {
   "cell_type": "code",
   "execution_count": null,
   "id": "1cd4c92a-cbeb-49c2-884d-d7c88b8dd487",
   "metadata": {},
   "outputs": [],
   "source": []
  },
  {
   "cell_type": "markdown",
   "id": "d0588028-a752-49cd-b48f-349d9b22a3da",
   "metadata": {},
   "source": [
    "### 文档分割器"
   ]
  },
  {
   "cell_type": "code",
   "execution_count": null,
   "id": "8c9fb390-18d6-4adb-80da-b4bfd9962f46",
   "metadata": {},
   "outputs": [],
   "source": []
  },
  {
   "cell_type": "markdown",
   "id": "5d14800e-58cc-4557-939f-044b00711509",
   "metadata": {},
   "source": [
    "1. [动态演示: 不同文档分割类，不同参数的影响](https://langchain-text-splitter.streamlit.app)\n",
    "2. [Text_Splitter 示例](https://github.com/sugarforever/LangChain-Tutorials/blob/main/LangChain_TextSplitter.ipynb)"
   ]
  },
  {
   "cell_type": "code",
   "execution_count": null,
   "id": "21e037c4-54be-4871-82cb-2ebfad3c9211",
   "metadata": {},
   "outputs": [],
   "source": []
  },
  {
   "cell_type": "markdown",
   "id": "1ccc086a-117c-467a-8f57-0dc28b1ed795",
   "metadata": {},
   "source": [
    "> * 由于模型对输入的**字符长度有限制**，很长的文本，需要把文本分割成多个小的文本片段。<br>\n",
    "> * 整体的原则是把**语义相关**的文本片段放在一起。**不能仅仅按字数切分**"
   ]
  },
  {
   "cell_type": "markdown",
   "id": "9e53e827-c1f7-46e2-8a0b-72f98963e727",
   "metadata": {},
   "source": [
    "> LangChain中最基本的文本分割器是CharacterTextSplitter ，<br>\n",
    "> 它按照指定的分隔符（默认“\\n\\n”）进行分割，并且考虑文本片段的最大长度。<br>\n",
    "> **我们看个例子**"
   ]
  },
  {
   "cell_type": "code",
   "execution_count": 52,
   "id": "8b4b3e70-4d44-4fea-beaa-826f76c2c72b",
   "metadata": {
    "tags": []
   },
   "outputs": [],
   "source": [
    "from langchain.text_splitter import CharacterTextSplitter\n",
    "\n",
    "\n",
    "text_splitter = CharacterTextSplitter(        \n",
    "    separator = \"\\\\n\\\\n\",\n",
    "    chunk_size = 1000,\n",
    "    chunk_overlap  = 200,\n",
    "    length_function = len,\n",
    ")\n",
    "\n",
    "texts = text_splitter.create_documents([documents[-1].page_content])"
   ]
  },
  {
   "cell_type": "code",
   "execution_count": 53,
   "id": "090ded0e-a455-4328-8868-9da3731d2355",
   "metadata": {
    "tags": []
   },
   "outputs": [
    {
     "data": {
      "text/plain": [
       "[Document(page_content='垂直领域大模型是指在特定的领域或行业中经过训练和优化的大型语言模型。与通用语言模型相比，垂直领域大模型更专注于某个特定领域的知识和技能，具备更高的领域专业性和实用性。\\n与通用大模型相比，垂直领域大模型具有以下优势和劣势：\\n优势：\\n领域专业性：垂直领域大模型经过专门的训练，能够更好地理解和处理特定领域的知识、术语和上下文。\\n高质量输出：由于在特定领域中进行了优化，垂直领域大模型在该领域的输出质量通常比通用大模型更高。\\n特定任务效果更好：对于特定领域的任务，垂直领域大模型通常比通用大模型表现更好。\\n劣势：\\n数据需求和训练成本：垂直领域大模型需要大量的特定领域数据进行训练，这可能会面临数据收集和标注的挑战。\\n适应性限制：垂直领域大模型在特定领域中的适应性较强，但在其他领域的表现可能相对较弱。\\n更新和维护成本：由于特定领域的知识和要求经常变化，垂直领域大模型需要定期更新和维护，以保持与最新发展的同步。\\n下面介绍几个知名度较高的垂直领域大模型，涉及教育、金融、医学、法律四个领域。\\nMathGPT 教育大模型\\n学而思正在进行自研数学大模型的研发，命名为MathGPT。面向全球数学爱好者和科研机构，以数学领域的解题和讲题算法为核心。据透露，MathGPT将先从中小学数学做起，逐步覆盖全年龄学段和解题种类。\\n目前已经取得阶段性成果，并将于年内推出基于该自研大模型的产品级应用。\\nBloombergGPT 金融大模型\\n近期根据彭博社报告显示，其构建迄今为止最大的特定领域数据集，并训练了专门用于金融领域的LLM，开发了拥有500亿参数的语言模型—BloombergGPT。\\nBloombergGPT 和 GPT模式一样，也是基于 Transformer架构的，采用的是译码器的技术路线。通过比较， BloombergGPT模型参数为500亿，在GPT-2 (1.5亿)和GPT-3 (1750亿)之间。Bloomberg构建了目前规模最大的金融数据集 FINPILE，通过对通用文本+金融知识的混合训练，使得 BloombergGPT在执行金融任务方面的表现超过了现有的通用 LLM模型，而在通用场景方面的表现则与现有的通用 LLM模型基本持平。', metadata={})]"
      ]
     },
     "execution_count": 53,
     "metadata": {},
     "output_type": "execute_result"
    }
   ],
   "source": [
    "texts"
   ]
  },
  {
   "cell_type": "markdown",
   "id": "dfe606ad-340b-4162-aa79-4995f9e49987",
   "metadata": {},
   "source": [
    "> 又变回了Document数组。<br>\n",
    "> 少了`\\n\\n`"
   ]
  },
  {
   "cell_type": "code",
   "execution_count": null,
   "id": "503ae543-b29c-481b-a99f-9368af4963c9",
   "metadata": {},
   "outputs": [],
   "source": []
  },
  {
   "cell_type": "markdown",
   "id": "a7527fe8-2d55-40c4-8bbf-56df3ab970c1",
   "metadata": {},
   "source": [
    "LangChain还支持多个高级文本分割器"
   ]
  },
  {
   "cell_type": "markdown",
   "id": "f743da67-78d3-4e03-9d3e-8108705130e1",
   "metadata": {},
   "source": [
    "<table data-draft-node=\"block\" data-draft-type=\"table\" data-size=\"normal\" data-row-style=\"normal\"><tbody><tr><th>文本分割器</th><th></th></tr><tr><td>LatexTextSplitter</td><td>沿着Latex标题、标题、枚举等分割文本。</td></tr><tr><td>MarkdownTextSplitter</td><td>沿着Markdown的标题、代码块或水平规则来分割文本。</td></tr><tr><td>NLTKTextSplitter</td><td>使用NLTK的分割器</td></tr><tr><td>PythonCodeTextSplitter</td><td>沿着Python类和方法的定义分割文本。</td></tr><tr><td>RecursiveCharacterTextSplitter</td><td>用于通用文本的分割器。它以一个字符列表为参数，尽可能地把所有的段落（然后是句子，然后是单词）放在一起</td></tr><tr><td>SpacyTextSplitter</td><td>使用Spacy的分割器</td></tr><tr><td>TokenTextSplitter</td><td>根据openAI的token数进行分割</td></tr></tbody></table>"
   ]
  },
  {
   "cell_type": "code",
   "execution_count": null,
   "id": "5dafe4c9-451a-4a83-a72f-666434bd1f5d",
   "metadata": {},
   "outputs": [],
   "source": []
  },
  {
   "cell_type": "markdown",
   "id": "4e70ee0c-f4dd-4033-8aab-61a2182bbc61",
   "metadata": {},
   "source": [
    "### VectorStores"
   ]
  },
  {
   "cell_type": "code",
   "execution_count": null,
   "id": "8064c108-72e3-44a3-af19-9b8eb2607849",
   "metadata": {},
   "outputs": [],
   "source": []
  },
  {
   "cell_type": "code",
   "execution_count": 54,
   "id": "5324b459-ea29-4558-88ad-b0ab20f0106d",
   "metadata": {
    "tags": []
   },
   "outputs": [],
   "source": [
    "from langchain.embeddings.openai import OpenAIEmbeddings\n",
    "from langchain.text_splitter import CharacterTextSplitter\n",
    "from langchain.vectorstores import Chroma"
   ]
  },
  {
   "cell_type": "code",
   "execution_count": 59,
   "id": "18bac790-92ff-4179-81ce-33f9e2fcff4d",
   "metadata": {
    "tags": []
   },
   "outputs": [
    {
     "name": "stderr",
     "output_type": "stream",
     "text": [
      "Created a chunk of size 140, which is longer than the specified 100\n",
      "Created a chunk of size 166, which is longer than the specified 100\n",
      "Created a chunk of size 113, which is longer than the specified 100\n",
      "Created a chunk of size 106, which is longer than the specified 100\n",
      "Created a chunk of size 170, which is longer than the specified 100\n",
      "Created a chunk of size 292, which is longer than the specified 100\n",
      "Created a chunk of size 311, which is longer than the specified 100\n"
     ]
    }
   ],
   "source": [
    "with open('./input/1.txt') as f:\n",
    "    state_of_the_union = f.read()\n",
    "text_splitter = CharacterTextSplitter(chunk_size=100, chunk_overlap=0)\n",
    "texts = text_splitter.split_text(state_of_the_union)"
   ]
  },
  {
   "cell_type": "code",
   "execution_count": 60,
   "id": "e8009675-c4b8-4402-bca3-11fab9093c77",
   "metadata": {
    "tags": []
   },
   "outputs": [
    {
     "data": {
      "text/plain": [
       "['北京大学创办于1898年，是戊戌变法的产物，也是中华民族救亡图存、兴学图强的结果，初名京师大学堂，是中国近现代第一所国立综合性大学，辛亥革命后，于1912年改为现名。',\n",
       " '在悠久的文明历程中，古代中国曾创立太学、国子学、国子监等国家最高学府，在中国和世界教育史上具有重要影响。北京大学“上承太学正统，下立大学祖庭”，既是中华文脉和教育传统的传承者，也标志着中国现代高等教育的开端。其创办之初也是国家最高教育行政机关，对建立中国现代学制作出重要历史贡献。',\n",
       " '作为新文化运动的中心和五四运动的策源地，作为中国最早传播马克思主义和民主科学思想的发祥地，作为中国共产党最初的重要活动基地，北京大学为民族的振兴和解放、国家的建设和发展、社会的文明和进步做出了突出贡献，在中国走向现代化的进程中起到了重要的先锋作用。爱国、进步、民主、科学的精神和勤奋、严谨、求实、创新的学风在这里生生不息、代代相传。',\n",
       " '1917年，著名教育家蔡元培就任北京大学校长，他“循思想自由原则，取兼容并包主义”，对北京大学进行了卓有成效的改革，促进了思想解放和学术繁荣。陈独秀、李大钊、毛泽东以及鲁迅、胡适、李四光等一批杰出人士都曾在北京大学任教或任职。',\n",
       " '1937年卢沟桥事变后，北京大学与清华大学、南开大学南迁长沙，共同组成国立长沙临时大学。1938年，临时大学又西迁昆明，更名为国立西南联合大学。抗日战争胜利后，北京大学于1946年10月在北平复员。',\n",
       " '中华人民共和国成立后，全国高校于1952年进行院系调整，北京大学成为一所以文理基础教学和研究为主、兼有前沿应用学科的综合性大学，为社会主义建设事业培养了大批杰出人才，在23位“两弹一星”元勋中有12位北大校友。',\n",
       " '改革开放以来，北京大学进入了稳步快速发展的新时期，于1994年成为国家“211工程”首批重点建设大学。1998年5月4日，在庆祝北京大学建校一百周年大会上，党中央发出了“为了实现现代化，我国要有若干所具有世界先进水平的一流大学”的号召，之后启动了建设世界一流大学的“985工程”。在这一国家战略的支持和推动下，北京大学的发展翻开了新的一页。',\n",
       " '2000年4月3日，北京大学与原北京医科大学合并，组建了新的北京大学。原北京医科大学的前身是创建于1912年10月26日的国立北京医学专门学校， 1903年京师大学堂设立的医学实业馆为这所国立西医学校的诞生奠定了基础。20世纪三、四十年代，学校一度名为北平大学医学院，并于1946年7月并入北京大学。1952年在全国高校院系调整中，北京大学医学院脱离北京大学，独立为北京医学院。1985年更名为北京医科大学，1996年成为国家首批“211工程”重点支持的医科大学。两校合并进一步拓宽了北京大学的学科结构，为促进医学与理科、工科以及人文社会科学的交叉融合，改革创新医学教育奠定了基础。',\n",
       " '党的十八大以来，在以习近平同志为核心的党中央坚强领导下，北大加快推进高质量内涵式发展，在建设中国特色世界一流大学的新征程上取得新突破。2018年5月2日，习近平总书记到北大考察，并在北大师生座谈会上指出：“近年来，北大继承光荣传统，坚持社会主义办学方向，立德树人成果丰硕，双一流建设成效显著，服务经济社会发展成绩突出，学校发展思路清晰，办学实力和影响力显著增强，令人欣慰。”在习近平总书记的勉励和指引下，北京大学再接再厉、接续奋斗，坚持当好培养高素质拔尖创新人才的摇篮、创造前沿科技和先进思想文化的重要阵地、服务国家高质量发展的枢纽平台、推动高水平对外开放的桥梁纽带，在新征程上不断谱写建设中国特色世界一流大学的崭新篇章。',\n",
       " '现任校党委书记郝平、校长龚旗煌。']"
      ]
     },
     "execution_count": 60,
     "metadata": {},
     "output_type": "execute_result"
    }
   ],
   "source": [
    "texts"
   ]
  },
  {
   "cell_type": "code",
   "execution_count": 61,
   "id": "22dcdb53-c495-4a4e-86ae-7e624489148e",
   "metadata": {
    "tags": []
   },
   "outputs": [
    {
     "data": {
      "text/plain": [
       "10"
      ]
     },
     "execution_count": 61,
     "metadata": {},
     "output_type": "execute_result"
    }
   ],
   "source": [
    "len(texts)"
   ]
  },
  {
   "cell_type": "markdown",
   "id": "d90ed750-bfcc-41ed-b83f-d8afe3f2230f",
   "metadata": {},
   "source": [
    "> pip install chromadb"
   ]
  },
  {
   "cell_type": "code",
   "execution_count": 62,
   "id": "879d5647-0efa-42b6-8205-234dbbf75c5b",
   "metadata": {
    "tags": []
   },
   "outputs": [],
   "source": [
    "# 生成embedding，并建索引\n",
    "embeddings = OpenAIEmbeddings()\n",
    "docsearch = Chroma.from_texts(texts, embeddings)"
   ]
  },
  {
   "cell_type": "code",
   "execution_count": 63,
   "id": "81cd18af-f84b-4a99-9c09-da7794bc4545",
   "metadata": {
    "tags": []
   },
   "outputs": [
    {
     "name": "stdout",
     "output_type": "stream",
     "text": [
      "[Document(page_content='1937年卢沟桥事变后，北京大学与清华大学、南开大学南迁长沙，共同组成国立长沙临时大学。1938年，临时大学又西迁昆明，更名为国立西南联合大学。抗日战争胜利后，北京大学于1946年10月在北平复员。', metadata={}), Document(page_content='北京大学创办于1898年，是戊戌变法的产物，也是中华民族救亡图存、兴学图强的结果，初名京师大学堂，是中国近现代第一所国立综合性大学，辛亥革命后，于1912年改为现名。', metadata={}), Document(page_content='1917年，著名教育家蔡元培就任北京大学校长，他“循思想自由原则，取兼容并包主义”，对北京大学进行了卓有成效的改革，促进了思想解放和学术繁荣。陈独秀、李大钊、毛泽东以及鲁迅、胡适、李四光等一批杰出人士都曾在北京大学任教或任职。', metadata={}), Document(page_content='中华人民共和国成立后，全国高校于1952年进行院系调整，北京大学成为一所以文理基础教学和研究为主、兼有前沿应用学科的综合性大学，为社会主义建设事业培养了大批杰出人才，在23位“两弹一星”元勋中有12位北大校友。', metadata={})]\n"
     ]
    }
   ],
   "source": [
    "# 查询\n",
    "query = \"1937年北京大学发生了什么？\"\n",
    "docs = docsearch.similarity_search(query)\n",
    "print(docs)"
   ]
  },
  {
   "cell_type": "code",
   "execution_count": 64,
   "id": "d5d27956-6b35-4ee4-9181-0ca3e4a7698c",
   "metadata": {
    "tags": []
   },
   "outputs": [
    {
     "data": {
      "text/plain": [
       "4"
      ]
     },
     "execution_count": 64,
     "metadata": {},
     "output_type": "execute_result"
    }
   ],
   "source": [
    "docs.__len__()"
   ]
  },
  {
   "cell_type": "markdown",
   "id": "eccdbf56-da53-4edb-b31c-77361d6a74ce",
   "metadata": {},
   "source": [
    "LangChain支持的VectorStore如下:"
   ]
  },
  {
   "cell_type": "markdown",
   "id": "37dde16b-9606-4a8c-bd74-762fa8408250",
   "metadata": {},
   "source": [
    "<table data-draft-node=\"block\" data-draft-type=\"table\" data-size=\"normal\" data-row-style=\"normal\"><tbody><tr><th>VectorStore</th><th>介绍</th></tr><tr><td>AnalyticDB</td><td>阿里云自主研发的云原生数据仓库</td></tr><tr><td>Annoy</td><td>一个带有Python bindings的C ++库，用于搜索空间中给定查询点的近邻点。</td></tr><tr><td>AtlasDB</td><td>一个非结构化数据集平台</td></tr><tr><td>Chroma</td><td>一个开源嵌入式数据库</td></tr><tr><td>Deep Lake</td><td>多模向量存储，可以存储嵌入及其元数据，包括文本、jsons、图像、音频、视频等。</td></tr><tr><td>DocArrayHnswSearch</td><td>一个轻量级的文档索引实现</td></tr><tr><td>DocArrayInMemorySearch</td><td>一个由Docarray提供的文档索引，将文档存储在内存中</td></tr><tr><td>ElasticSearch</td><td>ElasticSearch</td></tr><tr><td>FAISS</td><td>Facebook AI相似性搜索服务</td></tr><tr><td>LanceDB</td><td>一个用于向量搜索的开源数据库，它采用持久性存储</td></tr><tr><td>Milvus</td><td>用于存储、索引和管理由深度神经网络和其他机器学习（ML）模型产生的大量嵌入向量的数据库</td></tr><tr><td>MyScale</td><td>一个基于云的数据库，为人工智能应用和解决方案而优化</td></tr><tr><td>OpenSearch</td><td>一个可扩展的、灵活的、可延伸的开源软件套件，用于搜索、分析和可观察性应用</td></tr><tr><td>PGVector</td><td>一个用于Postgres的开源向量相似性搜索服务</td></tr><tr><td>Pinecone</td><td>一个具有广泛功能的向量数据库</td></tr><tr><td>Qdrant</td><td>一个向量相似性搜索引擎</td></tr><tr><td>Redis</td><td>基于redis的检索器</td></tr><tr><td>SupabaseVectorStore</td><td>一个开源的Firebase 替代品，提供一系列后端功能</td></tr><tr><td>Tair</td><td>一个Key/Value结构数据的解决方案</td></tr><tr><td>Weaviate</td><td>一个开源的向量搜索引擎</td></tr><tr><td>Zilliz</td><td>数据处理和分析平台</td></tr></tbody></table>"
   ]
  },
  {
   "cell_type": "code",
   "execution_count": null,
   "id": "1d9884e9-5a33-411e-8011-7a7f06d7ba9f",
   "metadata": {},
   "outputs": [],
   "source": []
  },
  {
   "cell_type": "markdown",
   "id": "431c373f-bf45-4f96-ba9f-7ec858550b25",
   "metadata": {},
   "source": [
    "### 检索器"
   ]
  },
  {
   "cell_type": "markdown",
   "id": "ca320c3f-21f5-4af3-9538-67fac81ee752",
   "metadata": {},
   "source": [
    "> 检索器是一种**便于模型查询**的存储数据的方法<br>\n",
    "> LangChain约定检索器组件至少有一个方法get_relevant_texts，这个方法接收查询字符串，返回一组文档"
   ]
  },
  {
   "cell_type": "code",
   "execution_count": null,
   "id": "eb5c6163-2748-4353-9f3b-3e120e2f826f",
   "metadata": {},
   "outputs": [],
   "source": []
  },
  {
   "cell_type": "code",
   "execution_count": 66,
   "id": "21aef8ac-eb47-4fe2-b6d5-5cfd34399407",
   "metadata": {
    "tags": []
   },
   "outputs": [],
   "source": [
    "from langchain.document_loaders import TextLoader\n",
    "from langchain.text_splitter import CharacterTextSplitter\n",
    "from langchain.vectorstores import FAISS\n",
    "from langchain.embeddings import OpenAIEmbeddings"
   ]
  },
  {
   "cell_type": "code",
   "execution_count": 80,
   "id": "4756cd1a-7c4a-43f3-a44a-df0abcda87ea",
   "metadata": {
    "tags": []
   },
   "outputs": [],
   "source": [
    "loader = TextLoader('./input/1.txt')\n",
    "documents = loader.load()\n",
    "\n",
    "documents = loader.load()\n",
    "text_splitter = CharacterTextSplitter(chunk_size=1000, chunk_overlap=0)\n",
    "texts = text_splitter.split_documents(documents)"
   ]
  },
  {
   "cell_type": "code",
   "execution_count": 81,
   "id": "1490d560-1819-4834-a658-6915e008b406",
   "metadata": {
    "tags": []
   },
   "outputs": [
    {
     "data": {
      "text/plain": [
       "[Document(page_content='北京大学创办于1898年，是戊戌变法的产物，也是中华民族救亡图存、兴学图强的结果，初名京师大学堂，是中国近现代第一所国立综合性大学，辛亥革命后，于1912年改为现名。\\n\\n在悠久的文明历程中，古代中国曾创立太学、国子学、国子监等国家最高学府，在中国和世界教育史上具有重要影响。北京大学“上承太学正统，下立大学祖庭”，既是中华文脉和教育传统的传承者，也标志着中国现代高等教育的开端。其创办之初也是国家最高教育行政机关，对建立中国现代学制作出重要历史贡献。\\n\\n作为新文化运动的中心和五四运动的策源地，作为中国最早传播马克思主义和民主科学思想的发祥地，作为中国共产党最初的重要活动基地，北京大学为民族的振兴和解放、国家的建设和发展、社会的文明和进步做出了突出贡献，在中国走向现代化的进程中起到了重要的先锋作用。爱国、进步、民主、科学的精神和勤奋、严谨、求实、创新的学风在这里生生不息、代代相传。\\n\\n1917年，著名教育家蔡元培就任北京大学校长，他“循思想自由原则，取兼容并包主义”，对北京大学进行了卓有成效的改革，促进了思想解放和学术繁荣。陈独秀、李大钊、毛泽东以及鲁迅、胡适、李四光等一批杰出人士都曾在北京大学任教或任职。\\n\\n1937年卢沟桥事变后，北京大学与清华大学、南开大学南迁长沙，共同组成国立长沙临时大学。1938年，临时大学又西迁昆明，更名为国立西南联合大学。抗日战争胜利后，北京大学于1946年10月在北平复员。\\n\\n\\n中华人民共和国成立后，全国高校于1952年进行院系调整，北京大学成为一所以文理基础教学和研究为主、兼有前沿应用学科的综合性大学，为社会主义建设事业培养了大批杰出人才，在23位“两弹一星”元勋中有12位北大校友。\\n\\n改革开放以来，北京大学进入了稳步快速发展的新时期，于1994年成为国家“211工程”首批重点建设大学。1998年5月4日，在庆祝北京大学建校一百周年大会上，党中央发出了“为了实现现代化，我国要有若干所具有世界先进水平的一流大学”的号召，之后启动了建设世界一流大学的“985工程”。在这一国家战略的支持和推动下，北京大学的发展翻开了新的一页。', metadata={'source': './input/1.txt'}),\n",
       " Document(page_content='2000年4月3日，北京大学与原北京医科大学合并，组建了新的北京大学。原北京医科大学的前身是创建于1912年10月26日的国立北京医学专门学校， 1903年京师大学堂设立的医学实业馆为这所国立西医学校的诞生奠定了基础。20世纪三、四十年代，学校一度名为北平大学医学院，并于1946年7月并入北京大学。1952年在全国高校院系调整中，北京大学医学院脱离北京大学，独立为北京医学院。1985年更名为北京医科大学，1996年成为国家首批“211工程”重点支持的医科大学。两校合并进一步拓宽了北京大学的学科结构，为促进医学与理科、工科以及人文社会科学的交叉融合，改革创新医学教育奠定了基础。\\n\\n党的十八大以来，在以习近平同志为核心的党中央坚强领导下，北大加快推进高质量内涵式发展，在建设中国特色世界一流大学的新征程上取得新突破。2018年5月2日，习近平总书记到北大考察，并在北大师生座谈会上指出：“近年来，北大继承光荣传统，坚持社会主义办学方向，立德树人成果丰硕，双一流建设成效显著，服务经济社会发展成绩突出，学校发展思路清晰，办学实力和影响力显著增强，令人欣慰。”在习近平总书记的勉励和指引下，北京大学再接再厉、接续奋斗，坚持当好培养高素质拔尖创新人才的摇篮、创造前沿科技和先进思想文化的重要阵地、服务国家高质量发展的枢纽平台、推动高水平对外开放的桥梁纽带，在新征程上不断谱写建设中国特色世界一流大学的崭新篇章。\\n\\n现任校党委书记郝平、校长龚旗煌。', metadata={'source': './input/1.txt'})]"
      ]
     },
     "execution_count": 81,
     "metadata": {},
     "output_type": "execute_result"
    }
   ],
   "source": [
    "texts"
   ]
  },
  {
   "cell_type": "code",
   "execution_count": 82,
   "id": "cb5ea27c-d0aa-46ed-9dc8-b329b6e9788b",
   "metadata": {
    "tags": []
   },
   "outputs": [
    {
     "data": {
      "text/plain": [
       "2"
      ]
     },
     "execution_count": 82,
     "metadata": {},
     "output_type": "execute_result"
    }
   ],
   "source": [
    "texts.__len__()"
   ]
  },
  {
   "cell_type": "code",
   "execution_count": null,
   "id": "d16a2044-0148-4fb5-91d2-148f8419683f",
   "metadata": {},
   "outputs": [],
   "source": []
  },
  {
   "cell_type": "code",
   "execution_count": 83,
   "id": "8ef1dcc5-bde0-409c-a576-86c91844ca91",
   "metadata": {
    "tags": []
   },
   "outputs": [],
   "source": [
    "embeddings = OpenAIEmbeddings()\n",
    "db = FAISS.from_documents(texts, embeddings)\n",
    "retriever = db.as_retriever()\n",
    "docs = retriever.get_relevant_documents(\"为中国共产党最初的重要活动基地，北京大学为民族的振兴和解放、国家的建设和发展、社会的文明和进步做出了突出贡献，在中国走向现代化的进程中起到了重要的先锋作用。爱国、进步、民主、科学的精神和勤奋、严谨、求实、创新的学风在这里生生不息、代代相传\")"
   ]
  },
  {
   "cell_type": "code",
   "execution_count": 84,
   "id": "93fba1f8-248d-4af3-a1b8-06f369c368af",
   "metadata": {
    "tags": []
   },
   "outputs": [
    {
     "data": {
      "text/plain": [
       "[Document(page_content='北京大学创办于1898年，是戊戌变法的产物，也是中华民族救亡图存、兴学图强的结果，初名京师大学堂，是中国近现代第一所国立综合性大学，辛亥革命后，于1912年改为现名。\\n\\n在悠久的文明历程中，古代中国曾创立太学、国子学、国子监等国家最高学府，在中国和世界教育史上具有重要影响。北京大学“上承太学正统，下立大学祖庭”，既是中华文脉和教育传统的传承者，也标志着中国现代高等教育的开端。其创办之初也是国家最高教育行政机关，对建立中国现代学制作出重要历史贡献。\\n\\n作为新文化运动的中心和五四运动的策源地，作为中国最早传播马克思主义和民主科学思想的发祥地，作为中国共产党最初的重要活动基地，北京大学为民族的振兴和解放、国家的建设和发展、社会的文明和进步做出了突出贡献，在中国走向现代化的进程中起到了重要的先锋作用。爱国、进步、民主、科学的精神和勤奋、严谨、求实、创新的学风在这里生生不息、代代相传。\\n\\n1917年，著名教育家蔡元培就任北京大学校长，他“循思想自由原则，取兼容并包主义”，对北京大学进行了卓有成效的改革，促进了思想解放和学术繁荣。陈独秀、李大钊、毛泽东以及鲁迅、胡适、李四光等一批杰出人士都曾在北京大学任教或任职。\\n\\n1937年卢沟桥事变后，北京大学与清华大学、南开大学南迁长沙，共同组成国立长沙临时大学。1938年，临时大学又西迁昆明，更名为国立西南联合大学。抗日战争胜利后，北京大学于1946年10月在北平复员。\\n\\n\\n中华人民共和国成立后，全国高校于1952年进行院系调整，北京大学成为一所以文理基础教学和研究为主、兼有前沿应用学科的综合性大学，为社会主义建设事业培养了大批杰出人才，在23位“两弹一星”元勋中有12位北大校友。\\n\\n改革开放以来，北京大学进入了稳步快速发展的新时期，于1994年成为国家“211工程”首批重点建设大学。1998年5月4日，在庆祝北京大学建校一百周年大会上，党中央发出了“为了实现现代化，我国要有若干所具有世界先进水平的一流大学”的号召，之后启动了建设世界一流大学的“985工程”。在这一国家战略的支持和推动下，北京大学的发展翻开了新的一页。', metadata={'source': './input/1.txt'}),\n",
       " Document(page_content='2000年4月3日，北京大学与原北京医科大学合并，组建了新的北京大学。原北京医科大学的前身是创建于1912年10月26日的国立北京医学专门学校， 1903年京师大学堂设立的医学实业馆为这所国立西医学校的诞生奠定了基础。20世纪三、四十年代，学校一度名为北平大学医学院，并于1946年7月并入北京大学。1952年在全国高校院系调整中，北京大学医学院脱离北京大学，独立为北京医学院。1985年更名为北京医科大学，1996年成为国家首批“211工程”重点支持的医科大学。两校合并进一步拓宽了北京大学的学科结构，为促进医学与理科、工科以及人文社会科学的交叉融合，改革创新医学教育奠定了基础。\\n\\n党的十八大以来，在以习近平同志为核心的党中央坚强领导下，北大加快推进高质量内涵式发展，在建设中国特色世界一流大学的新征程上取得新突破。2018年5月2日，习近平总书记到北大考察，并在北大师生座谈会上指出：“近年来，北大继承光荣传统，坚持社会主义办学方向，立德树人成果丰硕，双一流建设成效显著，服务经济社会发展成绩突出，学校发展思路清晰，办学实力和影响力显著增强，令人欣慰。”在习近平总书记的勉励和指引下，北京大学再接再厉、接续奋斗，坚持当好培养高素质拔尖创新人才的摇篮、创造前沿科技和先进思想文化的重要阵地、服务国家高质量发展的枢纽平台、推动高水平对外开放的桥梁纽带，在新征程上不断谱写建设中国特色世界一流大学的崭新篇章。\\n\\n现任校党委书记郝平、校长龚旗煌。', metadata={'source': './input/1.txt'})]"
      ]
     },
     "execution_count": 84,
     "metadata": {},
     "output_type": "execute_result"
    }
   ],
   "source": [
    "docs"
   ]
  },
  {
   "cell_type": "markdown",
   "id": "2895fa4f-c8ec-40c4-80cd-e56a8199effd",
   "metadata": {},
   "source": [
    "> 怎么都返回了啊... relevant 就是都返回？"
   ]
  },
  {
   "cell_type": "markdown",
   "id": "9cfa923c-6480-49a0-8167-2cbc39bcc1a2",
   "metadata": {},
   "source": [
    "> LangChain支持的检索器组件如下"
   ]
  },
  {
   "cell_type": "markdown",
   "id": "7178409e-1e00-4ca3-830f-b946b8b7cb2d",
   "metadata": {},
   "source": [
    "<table data-draft-node=\"block\" data-draft-type=\"table\" data-size=\"normal\" data-row-style=\"normal\"><tbody><tr><th>检索器</th><th>介绍</th></tr><tr><td>Azure Cognitive Search Retriever</td><td>Amazon ACS检索服务</td></tr><tr><td>ChatGPT Plugin Retriever</td><td>ChatGPT检索插件</td></tr><tr><td>Self-querying retriever with Chroma</td><td>基于Chroma VectorStore包装</td></tr><tr><td>Cohere Reranker</td><td>使用Cohere对结果二次重排</td></tr><tr><td>Contextual Compression Retriever</td><td>根据上下文对结果过滤</td></tr><tr><td>Databerry</td><td>Databerry检索</td></tr><tr><td>ElasticSearch BM25</td><td>ElasticSearch检索器</td></tr><tr><td>kNN Retriever</td><td>kNN检索器</td></tr><tr><td>Metal</td><td>Metal检索器</td></tr><tr><td>Pinecone Hybrid Search</td><td>Pinecone检索服务</td></tr><tr><td>Self-querying retriever</td><td></td></tr><tr><td>SVM Retriever</td><td>SVM检索器</td></tr><tr><td>TF-IDF Retriever</td><td>TF-IDF检索器</td></tr><tr><td>Time Weighted VectorStore Retriever</td><td>带有时间权重的检索器，检索时结合语义相似度和最近访问时间</td></tr><tr><td>VectorStore Retriever</td><td>VectorStore检索器</td></tr><tr><td>Vespa retriever</td><td>一个支持结构化文本和向量搜索的平台</td></tr><tr><td>Weaviate Hybrid Search</td><td>一个开源的向量搜索引擎</td></tr><tr><td>Wikipedia</td><td>支持wikipedia内容检索</td></tr></tbody></table>"
   ]
  },
  {
   "cell_type": "code",
   "execution_count": null,
   "id": "28b88bb9-51e1-4e08-9545-a3a4b0a80235",
   "metadata": {},
   "outputs": [],
   "source": []
  },
  {
   "cell_type": "code",
   "execution_count": null,
   "id": "7ec674b5-b1fb-4461-b0a6-2d54b21d5e1b",
   "metadata": {},
   "outputs": [],
   "source": []
  },
  {
   "cell_type": "code",
   "execution_count": null,
   "id": "ad437348-625f-4c08-bdf0-e7051a079a23",
   "metadata": {},
   "outputs": [],
   "source": []
  },
  {
   "cell_type": "markdown",
   "id": "848967b7-17a0-4149-8843-34d830d4bcb0",
   "metadata": {},
   "source": [
    "## 项目-产品客服助手"
   ]
  },
  {
   "cell_type": "code",
   "execution_count": null,
   "id": "40fd48a0-0ee5-4ce5-806d-32d63ed3f82d",
   "metadata": {},
   "outputs": [],
   "source": []
  },
  {
   "cell_type": "markdown",
   "id": "85a99803-4c88-48f5-b11c-0b6b5c4290ab",
   "metadata": {},
   "source": [
    "InstructGPT（2022 年 1 月）是一系列 GPT-3 模型（包括 text-davinci-001、text-davinci-002 和 text-davinci-003）统称，"
   ]
  },
  {
   "cell_type": "code",
   "execution_count": null,
   "id": "d9d2ad2c-fd53-4896-8c07-6903adc39479",
   "metadata": {},
   "outputs": [],
   "source": []
  },
  {
   "cell_type": "code",
   "execution_count": 23,
   "id": "5346f05f-bf76-4ade-940e-d2abf4480c0f",
   "metadata": {},
   "outputs": [],
   "source": [
    "llm = OpenAI(temperature=0)"
   ]
  },
  {
   "cell_type": "code",
   "execution_count": 25,
   "id": "c4bb8457-4242-482c-a932-ee6768140177",
   "metadata": {
    "tags": []
   },
   "outputs": [
    {
     "data": {
      "text/plain": [
       "'\\n\\niPhone 15发布时间尚未确定，预计将于2021年9月发布。'"
      ]
     },
     "execution_count": 25,
     "metadata": {},
     "output_type": "execute_result"
    }
   ],
   "source": [
    "llm('iphone15发布时间?')"
   ]
  },
  {
   "cell_type": "markdown",
   "id": "47fe702d-04f2-4576-bdc9-c34814cb42ae",
   "metadata": {
    "tags": []
   },
   "source": [
    "> 这里它确实不知道， 真实的发布时间是2023年9月份"
   ]
  },
  {
   "cell_type": "code",
   "execution_count": null,
   "id": "4b27606d-d5e0-4791-9c02-29303de2fade",
   "metadata": {},
   "outputs": [],
   "source": []
  },
  {
   "cell_type": "code",
   "execution_count": null,
   "id": "8d7db9f7-219f-4b68-b0e4-1ed96a22f14b",
   "metadata": {},
   "outputs": [],
   "source": []
  },
  {
   "cell_type": "markdown",
   "id": "03e79f49-49ce-4d40-99af-d9bd9ded757b",
   "metadata": {},
   "source": [
    "> 注意：以下是我们伪造的数据，我**Iphone15预计发布日期是2023年9月份， 尺寸预计是6.1-6.7**"
   ]
  },
  {
   "cell_type": "code",
   "execution_count": 17,
   "id": "5f6c7519-9617-44c6-b286-bce63b0abd71",
   "metadata": {
    "tags": []
   },
   "outputs": [
    {
     "name": "stdout",
     "output_type": "stream",
     "text": [
      "iPhone 15是苹果公司（Apple）于2022年9月8日发布的手机产品。\n",
      "iPhone 15搭载1.1英寸OLED屏幕，配有蓝色，紫色，午夜色，星光色，红色、黄色六款颜色，长度约146.7mm、宽度约71.5mm、厚度约7.8mm、重量约172g。\n",
      "iPhone 15搭载苹果A15六核处理器，支持车祸检测、卫星通信等功能，后置摄像头为1200万像素主镜头+1200万像素超广角镜头，前置摄像头为1200万像素，支持光像引擎、深度融合技术、智能HDR4、人像模式等功能。\n",
      "iPhone 15搭载1.1英寸刘海屏，机身采用航空级铝金属设计，搭载超视网膜XDR屏幕，机身正面顶部分别为内置立体声扬声器、内置麦克风；机身右侧为侧边按钮键，左侧分别为响铃/静音键、音量增/减键，机身底部分别是、内置麦克风、内置立体声扬声器、闪电接口。"
     ]
    }
   ],
   "source": [
    "!cat ./input/iphone14.txt"
   ]
  },
  {
   "cell_type": "code",
   "execution_count": null,
   "id": "1cc0e1d1-7a13-49d2-8c70-754198783eb6",
   "metadata": {},
   "outputs": [],
   "source": []
  },
  {
   "cell_type": "code",
   "execution_count": null,
   "id": "6cf69492-5fd4-4657-aa03-3fdd5f283305",
   "metadata": {},
   "outputs": [],
   "source": []
  },
  {
   "cell_type": "code",
   "execution_count": 3,
   "id": "39ac5493-6f8b-4085-9262-b46d280d6a43",
   "metadata": {
    "tags": []
   },
   "outputs": [],
   "source": [
    "from langchain.embeddings.openai import OpenAIEmbeddings\n",
    "from langchain.document_loaders import TextLoader\n",
    "from langchain.text_splitter import CharacterTextSplitter\n",
    "from langchain.vectorstores import Chroma\n",
    "from langchain.chains import RetrievalQAWithSourcesChain\n",
    "from langchain import OpenAI\n",
    "from langchain.callbacks import get_openai_callback"
   ]
  },
  {
   "cell_type": "code",
   "execution_count": null,
   "id": "efacb804-5a50-41be-a1f9-321a84f21500",
   "metadata": {},
   "outputs": [],
   "source": []
  },
  {
   "cell_type": "code",
   "execution_count": null,
   "id": "a24ff395-a20b-460c-97b0-f59fcb0f6643",
   "metadata": {},
   "outputs": [],
   "source": []
  },
  {
   "cell_type": "code",
   "execution_count": 4,
   "id": "168730fc-4c36-48d0-b34d-c5cb09d1d489",
   "metadata": {
    "tags": []
   },
   "outputs": [
    {
     "name": "stderr",
     "output_type": "stream",
     "text": [
      "Created a chunk of size 110, which is longer than the specified 100\n"
     ]
    }
   ],
   "source": [
    "loader = TextLoader('./input/iphone14.txt', encoding='utf8')\n",
    "documents = loader.load()\n",
    "\n",
    "text_splitter = CharacterTextSplitter(separator='\\n', chunk_size=100, chunk_overlap=0)\n",
    "texts = text_splitter.split_documents(documents)"
   ]
  },
  {
   "cell_type": "code",
   "execution_count": 5,
   "id": "3a9caf54-822a-4594-8977-9d974b6ae099",
   "metadata": {
    "tags": []
   },
   "outputs": [
    {
     "data": {
      "text/plain": [
       "4"
      ]
     },
     "execution_count": 5,
     "metadata": {},
     "output_type": "execute_result"
    }
   ],
   "source": [
    "len(texts)"
   ]
  },
  {
   "cell_type": "code",
   "execution_count": 6,
   "id": "d18ccee9-49e7-4235-affa-eb14ae665792",
   "metadata": {
    "tags": []
   },
   "outputs": [
    {
     "name": "stdout",
     "output_type": "stream",
     "text": [
      "iPhone 15是苹果公司（Apple）于2022年9月8日发布的手机产品。\n",
      "iPhone 15搭载1.1英寸OLED屏幕，配有蓝色，紫色，午夜色，星光色，红色、黄色六款颜色，长度约146.7mm、宽度约71.5mm、厚度约7.8mm、重量约172g。\n",
      "iPhone 15搭载苹果A15六核处理器，支持车祸检测、卫星通信等功能，后置摄像头为1200万像素主镜头+1200万像素超广角镜头，前置摄像头为1200万像素，支持光像引擎、深度融合技术、智能HDR4、人像模式等功能。\n",
      "iPhone 15搭载1.1英寸刘海屏，机身采用航空级铝金属设计，搭载超视网膜XDR屏幕，机身正面顶部分别为内置立体声扬声器、内置麦克风；机身右侧为侧边按钮键，左侧分别为响铃/静音键、音量增/减键，机身底部分别是、内置麦克风、内置立体声扬声器、闪电接口。"
     ]
    }
   ],
   "source": [
    "!cat ./input/iphone14.txt"
   ]
  },
  {
   "cell_type": "code",
   "execution_count": null,
   "id": "49742c0e-aaa2-46f7-84dd-40eeadb19018",
   "metadata": {},
   "outputs": [],
   "source": []
  },
  {
   "cell_type": "code",
   "execution_count": 7,
   "id": "a58f2df2-967e-4a78-bc4a-18c41f8f619b",
   "metadata": {
    "tags": []
   },
   "outputs": [
    {
     "data": {
      "text/plain": [
       "[Document(page_content='iPhone 15是苹果公司（Apple）于2022年9月8日发布的手机产品。', metadata={'source': './input/iphone14.txt'}),\n",
       " Document(page_content='iPhone 15搭载1.1英寸OLED屏幕，配有蓝色，紫色，午夜色，星光色，红色、黄色六款颜色，长度约146.7mm、宽度约71.5mm、厚度约7.8mm、重量约172g。', metadata={'source': './input/iphone14.txt'}),\n",
       " Document(page_content='iPhone 15搭载苹果A15六核处理器，支持车祸检测、卫星通信等功能，后置摄像头为1200万像素主镜头+1200万像素超广角镜头，前置摄像头为1200万像素，支持光像引擎、深度融合技术、智能HDR4、人像模式等功能。', metadata={'source': './input/iphone14.txt'}),\n",
       " Document(page_content='iPhone 15搭载1.1英寸刘海屏，机身采用航空级铝金属设计，搭载超视网膜XDR屏幕，机身正面顶部分别为内置立体声扬声器、内置麦克风；机身右侧为侧边按钮键，左侧分别为响铃/静音键、音量增/减键，机身底部分别是、内置麦克风、内置立体声扬声器、闪电接口。', metadata={'source': './input/iphone14.txt'})]"
      ]
     },
     "execution_count": 7,
     "metadata": {},
     "output_type": "execute_result"
    }
   ],
   "source": [
    "texts"
   ]
  },
  {
   "cell_type": "code",
   "execution_count": null,
   "id": "ac057744-a68b-4c05-b2bb-c234991df67a",
   "metadata": {},
   "outputs": [],
   "source": []
  },
  {
   "cell_type": "code",
   "execution_count": 8,
   "id": "c410fb71-d68b-4eaf-9f84-4dcf8bec2cce",
   "metadata": {
    "tags": []
   },
   "outputs": [
    {
     "data": {
      "text/plain": [
       "[{'source': '0'}, {'source': '1'}, {'source': '2'}, {'source': '3'}]"
      ]
     },
     "execution_count": 8,
     "metadata": {},
     "output_type": "execute_result"
    }
   ],
   "source": [
    "[{\"source\": str(i)} for i in range(len(texts))]"
   ]
  },
  {
   "cell_type": "code",
   "execution_count": null,
   "id": "2d9518c8-e483-4375-b2d3-36d38ed62807",
   "metadata": {},
   "outputs": [],
   "source": []
  },
  {
   "cell_type": "code",
   "execution_count": 9,
   "id": "7aa25485-c205-4220-b3e0-4c5c8eecc60e",
   "metadata": {
    "tags": []
   },
   "outputs": [],
   "source": [
    "embeddings = OpenAIEmbeddings()\n",
    "docsearch = Chroma.from_documents(texts, embeddings, metadatas=[{\"source\": str(i)} for i in range(len(texts))])"
   ]
  },
  {
   "cell_type": "code",
   "execution_count": 10,
   "id": "f04358eb-9ece-4a97-b6a2-bf8312ec8e35",
   "metadata": {
    "tags": []
   },
   "outputs": [],
   "source": [
    "retriever = docsearch.as_retriever()\n",
    "retriever.search_kwargs['distance_metric'] = 'cos'\n",
    "retriever.search_kwargs['fetch_k'] = 2\n",
    "retriever.search_kwargs['maximal_marginal_relevance'] = True\n",
    "retriever.search_kwargs['k'] = 1        #  返回几个文档"
   ]
  },
  {
   "cell_type": "code",
   "execution_count": null,
   "id": "ca4ba9fa-3f88-4b41-af28-6d45cc88851f",
   "metadata": {},
   "outputs": [],
   "source": []
  },
  {
   "cell_type": "code",
   "execution_count": 11,
   "id": "9ccfbfec-167c-4a1d-8d1a-363b63bec5b1",
   "metadata": {},
   "outputs": [],
   "source": [
    "llm = OpenAI(temperature=0)"
   ]
  },
  {
   "cell_type": "code",
   "execution_count": 12,
   "id": "86a6e387-03bf-4cc9-a3d8-2b52bfd080a1",
   "metadata": {
    "tags": []
   },
   "outputs": [],
   "source": [
    "chain = RetrievalQAWithSourcesChain.from_chain_type(llm, chain_type=\"stuff\", retriever=retriever, verbose=True, return_source_documents=True)"
   ]
  },
  {
   "cell_type": "code",
   "execution_count": 15,
   "id": "75b30682-ffe9-4609-876e-ca64cbe6f384",
   "metadata": {
    "tags": []
   },
   "outputs": [
    {
     "name": "stdout",
     "output_type": "stream",
     "text": [
      "\n",
      "\n",
      "\u001b[1m> Entering new  chain...\u001b[0m\n",
      "\n",
      "\u001b[1m> Finished chain.\u001b[0m\n"
     ]
    },
    {
     "data": {
      "text/plain": [
       "{'question': 'iphone15发布时间',\n",
       " 'answer': ' The iPhone 15 will be released on September 8, 2022.\\n',\n",
       " 'sources': './input/iphone14.txt',\n",
       " 'source_documents': [Document(page_content='iPhone 15是苹果公司（Apple）于2022年9月8日发布的手机产品。', metadata={'source': './input/iphone14.txt'})]}"
      ]
     },
     "execution_count": 15,
     "metadata": {},
     "output_type": "execute_result"
    }
   ],
   "source": [
    "chain({'question': 'iphone15发布时间'})"
   ]
  },
  {
   "cell_type": "markdown",
   "id": "5e6a2205-4db9-428d-b4a4-88105d34990f",
   "metadata": {},
   "source": [
    "> **知识库生效了**: 它根据知识库，答对了。（虽然答案是伪造的， 但证明了知识库可以弥补原模型知识时间范围的不足)"
   ]
  },
  {
   "cell_type": "code",
   "execution_count": 16,
   "id": "674c7620-3566-42ea-8655-1ac3755fa6de",
   "metadata": {
    "tags": []
   },
   "outputs": [
    {
     "name": "stdout",
     "output_type": "stream",
     "text": [
      "\n",
      "\n",
      "\u001b[1m> Entering new  chain...\u001b[0m\n",
      "\n",
      "\u001b[1m> Finished chain.\u001b[0m\n",
      "-> **Question**: iphone15有什么颜色？ \n",
      "\n",
      "**Answer**:  The iPhone 15 comes in six colors: blue, purple, midnight, starlight, red, and yellow.\n",
      " \n",
      "\n",
      "Tokens Used: 1712\n",
      "\tPrompt Tokens: 1676\n",
      "\tCompletion Tokens: 36\n",
      "Successful Requests: 1\n",
      "Total Cost (USD): $0.03424\n",
      "\n",
      "\n",
      "\u001b[1m> Entering new  chain...\u001b[0m\n",
      "\n",
      "\u001b[1m> Finished chain.\u001b[0m\n",
      "-> **Question**: 屏幕是多大的？ \n",
      "\n",
      "**Answer**:  The screen size of the iPhone 15 is 1.1 inches.\n",
      " \n",
      "\n",
      "Tokens Used: 1697\n",
      "\tPrompt Tokens: 1670\n",
      "\tCompletion Tokens: 27\n",
      "Successful Requests: 1\n",
      "Total Cost (USD): $0.03394\n"
     ]
    }
   ],
   "source": [
    "questions = [\n",
    "    'iphone15有什么颜色？',\n",
    "    '屏幕是多大的？',\n",
    "]\n",
    "chat_history = []\n",
    "\n",
    "for question in questions:\n",
    "    with get_openai_callback() as cb:\n",
    "        result = chain({\"question\": question})\n",
    "        chat_history.append((question, result['answer']))\n",
    "        print(f\"-> **Question**: {question} \\n\")\n",
    "        print(f\"**Answer**: {result['answer']} \\n\")\n",
    "    print(cb)"
   ]
  },
  {
   "cell_type": "markdown",
   "id": "dfc92d98-ca86-4f78-885c-a55e680e043b",
   "metadata": {},
   "source": [
    "> 有没有觉得API费用很恐怖, 多轮问答所有history都要一起输入的。"
   ]
  },
  {
   "cell_type": "code",
   "execution_count": null,
   "id": "ce2f316d-5990-4348-9081-085578997104",
   "metadata": {},
   "outputs": [],
   "source": []
  },
  {
   "cell_type": "code",
   "execution_count": null,
   "id": "bd661584-863d-481c-b2a5-b44ea7dc1ca7",
   "metadata": {},
   "outputs": [],
   "source": []
  },
  {
   "cell_type": "code",
   "execution_count": null,
   "id": "38189689-3cf0-4841-a63c-80076719424d",
   "metadata": {},
   "outputs": [],
   "source": []
  },
  {
   "cell_type": "code",
   "execution_count": null,
   "id": "6a270340-5b61-4e36-a8c7-d9e563431f2d",
   "metadata": {},
   "outputs": [],
   "source": []
  },
  {
   "cell_type": "code",
   "execution_count": null,
   "id": "ea89d0e6-08d0-423a-b18d-bc04c3cb68f6",
   "metadata": {},
   "outputs": [],
   "source": []
  }
 ],
 "metadata": {
  "environment": {
   "kernel": "conda-env-preventloss-py",
   "name": "pytorch-gpu.1-13.m105",
   "type": "gcloud",
   "uri": "gcr.io/deeplearning-platform-release/pytorch-gpu.1-13:m105"
  },
  "kernelspec": {
   "display_name": "chatglm26b",
   "language": "python",
   "name": "chatglm26b"
  },
  "language_info": {
   "codemirror_mode": {
    "name": "ipython",
    "version": 3
   },
   "file_extension": ".py",
   "mimetype": "text/x-python",
   "name": "python",
   "nbconvert_exporter": "python",
   "pygments_lexer": "ipython3",
   "version": "3.9.6"
  }
 },
 "nbformat": 4,
 "nbformat_minor": 5
}
