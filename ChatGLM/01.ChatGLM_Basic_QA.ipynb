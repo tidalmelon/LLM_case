{
 "cells": [
  {
   "cell_type": "code",
   "execution_count": 1,
   "id": "baccec01-de69-4875-90ef-9b88fda7432b",
   "metadata": {},
   "outputs": [],
   "source": [
    "import transformers"
   ]
  },
  {
   "cell_type": "code",
   "execution_count": 2,
   "id": "deebd447-4c38-48fb-9237-de7f572cd666",
   "metadata": {},
   "outputs": [
    {
     "data": {
      "text/plain": [
       "'4.30.2'"
      ]
     },
     "execution_count": 2,
     "metadata": {},
     "output_type": "execute_result"
    }
   ],
   "source": [
    "transformers.__version__"
   ]
  },
  {
   "cell_type": "code",
   "execution_count": null,
   "id": "66394436-6c99-4b47-9069-9e43f205937c",
   "metadata": {},
   "outputs": [],
   "source": []
  },
  {
   "cell_type": "markdown",
   "id": "6bcd55c3-81a7-4f9d-9135-44f6f4fbfbac",
   "metadata": {},
   "source": [
    "## load model directly"
   ]
  },
  {
   "cell_type": "code",
   "execution_count": null,
   "id": "19b9a14b-7340-42da-ad90-b596a9461864",
   "metadata": {},
   "outputs": [],
   "source": []
  },
  {
   "cell_type": "code",
   "execution_count": null,
   "id": "4dd07fed-6b59-4be5-b2d3-f8a9b93cd391",
   "metadata": {},
   "outputs": [],
   "source": []
  },
  {
   "cell_type": "code",
   "execution_count": 3,
   "id": "0185bc18-b8b9-4fa8-bd7b-d95a1cd6b16d",
   "metadata": {},
   "outputs": [],
   "source": [
    "from transformers import AutoModel, AutoTokenizer"
   ]
  },
  {
   "cell_type": "code",
   "execution_count": 4,
   "id": "6ba14694-649b-4be8-bcff-2fe25bf52fd0",
   "metadata": {},
   "outputs": [],
   "source": [
    "model_dir = '/root/.cache/huggingface/hub/THUDM/chatglm2-6b-32k'\n",
    "tokenizer = AutoTokenizer.from_pretrained(model_dir, trust_remote_code=True)"
   ]
  },
  {
   "cell_type": "markdown",
   "id": "eb573e96-5b0c-4889-9c10-36bd4f7d91d2",
   "metadata": {},
   "source": [
    "> **8位量化版本**"
   ]
  },
  {
   "cell_type": "code",
   "execution_count": 5,
   "id": "e5d5af0f-3412-4a2d-9a96-0e4662bec4df",
   "metadata": {},
   "outputs": [
    {
     "data": {
      "application/vnd.jupyter.widget-view+json": {
       "model_id": "1774701b585346b48acebd97ef160b94",
       "version_major": 2,
       "version_minor": 0
      },
      "text/plain": [
       "Loading checkpoint shards:   0%|          | 0/7 [00:00<?, ?it/s]"
      ]
     },
     "metadata": {},
     "output_type": "display_data"
    }
   ],
   "source": [
    "model = AutoModel.from_pretrained(model_dir, trust_remote_code=True).quantize(8).half().cuda()"
   ]
  },
  {
   "cell_type": "code",
   "execution_count": null,
   "id": "2fed319f-91c2-479c-854d-4baee6772084",
   "metadata": {},
   "outputs": [],
   "source": []
  },
  {
   "cell_type": "code",
   "execution_count": 6,
   "id": "b1a9b684-0cb9-4403-b950-f6e521f63ca4",
   "metadata": {},
   "outputs": [],
   "source": [
    "model = model.eval()"
   ]
  },
  {
   "cell_type": "code",
   "execution_count": null,
   "id": "9ef3a334-910e-4188-9f1b-c213b5dddd00",
   "metadata": {},
   "outputs": [],
   "source": []
  },
  {
   "cell_type": "code",
   "execution_count": 7,
   "id": "fd0a6a6f-a642-462e-a429-cfaec1adb38e",
   "metadata": {},
   "outputs": [],
   "source": [
    "response, history = model.chat(tokenizer, \"你好\", history=[])"
   ]
  },
  {
   "cell_type": "code",
   "execution_count": null,
   "id": "d76b47f4-c5f6-4082-8a78-96155b83c99d",
   "metadata": {},
   "outputs": [],
   "source": []
  },
  {
   "cell_type": "code",
   "execution_count": 8,
   "id": "f723ed7c-0eb5-4469-90ad-1fec1106518b",
   "metadata": {},
   "outputs": [
    {
     "data": {
      "text/plain": [
       "'你好👋！我是人工智能助手 ChatGLM2-6B，很高兴见到你，欢迎问我任何问题。'"
      ]
     },
     "execution_count": 8,
     "metadata": {},
     "output_type": "execute_result"
    }
   ],
   "source": [
    "response"
   ]
  },
  {
   "cell_type": "code",
   "execution_count": 9,
   "id": "5bea221c-4277-4e1c-980c-9c6bb5784c7b",
   "metadata": {},
   "outputs": [
    {
     "data": {
      "text/plain": [
       "[('你好', '你好👋！我是人工智能助手 ChatGLM2-6B，很高兴见到你，欢迎问我任何问题。')]"
      ]
     },
     "execution_count": 9,
     "metadata": {},
     "output_type": "execute_result"
    }
   ],
   "source": [
    "history"
   ]
  },
  {
   "cell_type": "code",
   "execution_count": null,
   "id": "cd1c5bc2-c908-4d2d-8182-a8ea2bebbbf4",
   "metadata": {},
   "outputs": [],
   "source": []
  },
  {
   "cell_type": "code",
   "execution_count": null,
   "id": "6c502008-acbd-4a76-bee2-a7e848533282",
   "metadata": {},
   "outputs": [],
   "source": []
  },
  {
   "cell_type": "code",
   "execution_count": 8,
   "id": "b8937153-01eb-4cf4-97dd-1ab786a0fa6c",
   "metadata": {},
   "outputs": [
    {
     "name": "stdout",
     "output_type": "stream",
     "text": [
      "你好👋！我是人工智能助手 ChatGLM2-6B，很高兴见到你，欢迎问我任何问题。\n"
     ]
    }
   ],
   "source": [
    "print(response)"
   ]
  },
  {
   "cell_type": "code",
   "execution_count": null,
   "id": "1fd8c9f1-3cb8-4ae7-9fb2-016ba8bf5214",
   "metadata": {},
   "outputs": [],
   "source": []
  },
  {
   "cell_type": "code",
   "execution_count": 9,
   "id": "29b6a1cf-2d35-4a9c-b090-6bea56bf1e02",
   "metadata": {},
   "outputs": [
    {
     "data": {
      "text/plain": [
       "[('你好', '你好👋！我是人工智能助手 ChatGLM2-6B，很高兴见到你，欢迎问我任何问题。')]"
      ]
     },
     "execution_count": 9,
     "metadata": {},
     "output_type": "execute_result"
    }
   ],
   "source": [
    "history"
   ]
  },
  {
   "cell_type": "code",
   "execution_count": null,
   "id": "3b06f047-b010-425f-b516-0c6b9664f3c0",
   "metadata": {},
   "outputs": [],
   "source": []
  },
  {
   "cell_type": "code",
   "execution_count": null,
   "id": "3457c6e2-ab52-47c8-9530-323d03e11fc4",
   "metadata": {},
   "outputs": [],
   "source": []
  },
  {
   "cell_type": "code",
   "execution_count": 10,
   "id": "e14a7dd0-765a-4c4e-ba97-f963e8f919fb",
   "metadata": {},
   "outputs": [],
   "source": [
    "response, history = model.chat(tokenizer, \"晚上睡不着应该怎么办\", history=history)"
   ]
  },
  {
   "cell_type": "code",
   "execution_count": null,
   "id": "33b91353-5f4d-44e9-a66c-a84d58c59506",
   "metadata": {},
   "outputs": [],
   "source": []
  },
  {
   "cell_type": "code",
   "execution_count": 11,
   "id": "15e6c507-203d-4525-9c4c-b9701943155a",
   "metadata": {},
   "outputs": [
    {
     "name": "stdout",
     "output_type": "stream",
     "text": [
      "晚上睡不着觉可能有很多原因，例如压力、焦虑、抑郁、不健康的睡眠习惯、药物副作用等等。以下是一些可能有帮助的建议:\n",
      "\n",
      "1. 创建一个舒适的睡眠环境。保持卧室安静、凉爽、黑暗，并配备一个舒适的床和枕头。\n",
      "\n",
      "2. 避免在睡前使用电子产品。手机、平板电脑和电视等蓝光屏幕会刺激大脑，使人难以入睡。\n",
      "\n",
      "3. 建立一个固定的睡眠时间。尽量在每天的相同时间入睡和起床，帮助身体建立一个稳定的睡眠节律。\n",
      "\n",
      "4. 避免在睡前饮用咖啡、茶、可乐或其他含咖啡因的饮料。这些饮料会刺激大脑，使人难以入睡。\n",
      "\n",
      "5. 尝试放松技巧。例如深呼吸、渐进性肌肉松弛、瑜伽等，这些都可以帮助你放松身体和思维。\n",
      "\n",
      "6. 避免在睡前进行剧烈的体力活动。例如剧烈运动或紧张的工作，这些都可能导致身体和大脑疲劳，使人难以入睡。\n",
      "\n",
      "7. 避免使用太多的卧铺。如果躺在床上超过20分钟还不能入睡，那么最好起床，走到别处，做一些平静的活动，如阅读或听轻柔的音乐，直到感到困倦为止。\n",
      "\n",
      "如果以上方法不能解决您的问题，最好咨询医生或专业的睡眠医学专家，获取更专业的建议和帮助。\n"
     ]
    }
   ],
   "source": [
    "print(response)"
   ]
  },
  {
   "cell_type": "code",
   "execution_count": null,
   "id": "34cd14e4-c8d6-4dee-8035-c0e898d7cc6e",
   "metadata": {},
   "outputs": [],
   "source": []
  },
  {
   "cell_type": "code",
   "execution_count": 12,
   "id": "fce9901c-e743-4aab-ac36-82bf258015fd",
   "metadata": {},
   "outputs": [
    {
     "data": {
      "text/plain": [
       "[('你好', '你好👋！我是人工智能助手 ChatGLM2-6B，很高兴见到你，欢迎问我任何问题。'),\n",
       " ('晚上睡不着应该怎么办',\n",
       "  '晚上睡不着觉可能有很多原因，例如压力、焦虑、抑郁、不健康的睡眠习惯、药物副作用等等。以下是一些可能有帮助的建议:\\n\\n1. 创建一个舒适的睡眠环境。保持卧室安静、凉爽、黑暗，并配备一个舒适的床和枕头。\\n\\n2. 避免在睡前使用电子产品。手机、平板电脑和电视等蓝光屏幕会刺激大脑，使人难以入睡。\\n\\n3. 建立一个固定的睡眠时间。尽量在每天的相同时间入睡和起床，帮助身体建立一个稳定的睡眠节律。\\n\\n4. 避免在睡前饮用咖啡、茶、可乐或其他含咖啡因的饮料。这些饮料会刺激大脑，使人难以入睡。\\n\\n5. 尝试放松技巧。例如深呼吸、渐进性肌肉松弛、瑜伽等，这些都可以帮助你放松身体和思维。\\n\\n6. 避免在睡前进行剧烈的体力活动。例如剧烈运动或紧张的工作，这些都可能导致身体和大脑疲劳，使人难以入睡。\\n\\n7. 避免使用太多的卧铺。如果躺在床上超过20分钟还不能入睡，那么最好起床，走到别处，做一些平静的活动，如阅读或听轻柔的音乐，直到感到困倦为止。\\n\\n如果以上方法不能解决您的问题，最好咨询医生或专业的睡眠医学专家，获取更专业的建议和帮助。')]"
      ]
     },
     "execution_count": 12,
     "metadata": {},
     "output_type": "execute_result"
    }
   ],
   "source": [
    "history"
   ]
  },
  {
   "cell_type": "code",
   "execution_count": null,
   "id": "1d23c372-bb4d-4b7b-9084-7d2100f3a8d9",
   "metadata": {},
   "outputs": [],
   "source": []
  },
  {
   "cell_type": "code",
   "execution_count": null,
   "id": "2e518697-1358-4cf1-8468-604959271fdd",
   "metadata": {},
   "outputs": [],
   "source": []
  },
  {
   "cell_type": "markdown",
   "id": "a18c1111-ea8b-41f8-870d-8cad9b3f19cd",
   "metadata": {},
   "source": [
    "## API interface"
   ]
  },
  {
   "cell_type": "markdown",
   "id": "4ec18c66-f8d8-4c57-9188-668aeb7600be",
   "metadata": {},
   "source": [
    "> **start http service**"
   ]
  },
  {
   "cell_type": "markdown",
   "id": "0ac2f2df-01cb-4eae-bebd-3abaf4e95ae6",
   "metadata": {},
   "source": [
    "```\n",
    "git clone https://github.com/THUDM/ChatGLM2-6B.git\n",
    "python api.py\n",
    "\n",
    "python api.py \n",
    "Loading checkpoint shards: 100%|████████████████████████████████████████████████████████████████████████████████████████████████████████████████████| 7/7 [00:04<00:00,  1.56it/s]\n",
    "INFO:     Started server process [181653]\n",
    "INFO:     Waiting for application startup.\n",
    "INFO:     Application startup complete.\n",
    "INFO:     Uvicorn running on http://0.0.0.0:8000 (Press CTRL+C to quit)\n",
    "[2023-10-18 21:25:50] \", prompt:\"你好\", response:\"'你好👋！我是人工智能助手 ChatGLM2-6B，很高兴见到你，欢迎问我任何问题。'\"\n",
    "INFO:     127.0.0.1:60868 - \"POST / HTTP/1.1\" 200 OK\n",
    "\n",
    "\n",
    "\n",
    "```"
   ]
  },
  {
   "cell_type": "markdown",
   "id": "47eb5328-f1fc-465a-807e-16f506a19494",
   "metadata": {},
   "source": [
    "> **call ther service**"
   ]
  },
  {
   "cell_type": "code",
   "execution_count": 1,
   "id": "141991b8-a140-4f15-88b8-48e105109057",
   "metadata": {},
   "outputs": [],
   "source": [
    "import requests"
   ]
  },
  {
   "cell_type": "code",
   "execution_count": 2,
   "id": "3b0c247c-d64a-490a-8f2e-22126f90666d",
   "metadata": {},
   "outputs": [],
   "source": [
    "def chat(prompt, history):\n",
    "    response = requests.post(\n",
    "        url='http://127.0.0.1:8000',\n",
    "        json={'prompt': prompt, 'history': history},\n",
    "        headers={'Content-Type': 'application/json;charset=utf-8'}\n",
    "    )\n",
    "    return response.json()['response'], response.json()['history']"
   ]
  },
  {
   "cell_type": "code",
   "execution_count": 4,
   "id": "4f21ae6b-7e60-48ad-9232-21c71daac911",
   "metadata": {},
   "outputs": [],
   "source": [
    "response, history = chat(\"你好\", history=[])"
   ]
  },
  {
   "cell_type": "code",
   "execution_count": 5,
   "id": "fb2256c2-3e0f-4860-b29e-694b6e352b1b",
   "metadata": {},
   "outputs": [
    {
     "data": {
      "text/plain": [
       "'你好👋！我是人工智能助手 ChatGLM2-6B，很高兴见到你，欢迎问我任何问题。'"
      ]
     },
     "execution_count": 5,
     "metadata": {},
     "output_type": "execute_result"
    }
   ],
   "source": [
    "response"
   ]
  },
  {
   "cell_type": "code",
   "execution_count": null,
   "id": "a055e941-ba84-4a7b-b7e6-508125320060",
   "metadata": {},
   "outputs": [],
   "source": []
  },
  {
   "cell_type": "markdown",
   "id": "b15e2266-182f-45f1-9d03-724209e57fd8",
   "metadata": {},
   "source": [
    "## langchain interface"
   ]
  },
  {
   "cell_type": "code",
   "execution_count": 21,
   "id": "97f91f32-105d-466f-8402-b5b51815b1f2",
   "metadata": {},
   "outputs": [],
   "source": [
    "from langchain.llms import ChatGLM"
   ]
  },
  {
   "cell_type": "code",
   "execution_count": 24,
   "id": "4d4536f4-ad40-4127-bd87-b42f213e5bca",
   "metadata": {},
   "outputs": [],
   "source": [
    "endpoint_url = 'http://127.0.0.1:8000'\n",
    "llm = ChatGLM(\n",
    "    endpoint_url=endpoint_url,\n",
    "    max_token=80000,\n",
    "    top_p=0.9,\n",
    "    cache=False)"
   ]
  },
  {
   "cell_type": "code",
   "execution_count": 25,
   "id": "8b511eb1-4336-4d33-8f56-b5f514596fbf",
   "metadata": {},
   "outputs": [
    {
     "data": {
      "text/plain": [
       "'你好👋！我是人工智能助手 ChatGLM2-6B，很高兴见到你，欢迎问我任何问题。'"
      ]
     },
     "execution_count": 25,
     "metadata": {},
     "output_type": "execute_result"
    }
   ],
   "source": [
    "llm(\"你好\")"
   ]
  },
  {
   "cell_type": "code",
   "execution_count": null,
   "id": "36a4d1bd-a675-4615-8663-a8a4df0970cb",
   "metadata": {},
   "outputs": [],
   "source": []
  },
  {
   "cell_type": "code",
   "execution_count": null,
   "id": "1f3d71a5-c9f1-4f29-8e2c-d042729e018e",
   "metadata": {},
   "outputs": [],
   "source": []
  },
  {
   "cell_type": "markdown",
   "id": "10e70819-2dd9-4c9b-8e30-09d2bdac5380",
   "metadata": {},
   "source": [
    "## Simple QA"
   ]
  },
  {
   "cell_type": "code",
   "execution_count": 1,
   "id": "31eeed4c-7b09-4984-9be4-6e9c9a48314b",
   "metadata": {},
   "outputs": [],
   "source": [
    "from langchain.document_loaders import DirectoryLoader"
   ]
  },
  {
   "cell_type": "code",
   "execution_count": 2,
   "id": "57bbfd93-274a-48a8-bb39-535413bef0ec",
   "metadata": {},
   "outputs": [],
   "source": [
    "from langchain.text_splitter import CharacterTextSplitter"
   ]
  },
  {
   "cell_type": "code",
   "execution_count": null,
   "id": "b6546933-bf50-4c93-8c88-16428ed95568",
   "metadata": {},
   "outputs": [],
   "source": []
  },
  {
   "cell_type": "markdown",
   "id": "44a91272-758e-46ce-8856-919c0ed0c0eb",
   "metadata": {},
   "source": [
    "### text splitter"
   ]
  },
  {
   "cell_type": "code",
   "execution_count": 3,
   "id": "fdafdad9-2d3b-404d-aba2-c468d2211bfc",
   "metadata": {},
   "outputs": [],
   "source": [
    "loader = DirectoryLoader('books')"
   ]
  },
  {
   "cell_type": "code",
   "execution_count": 4,
   "id": "a683c6af-8427-448d-afe1-f3423d725913",
   "metadata": {},
   "outputs": [],
   "source": [
    "documents = loader.load()"
   ]
  },
  {
   "cell_type": "code",
   "execution_count": 5,
   "id": "75571b41-3497-4dcf-a860-41ddd63cef9e",
   "metadata": {},
   "outputs": [],
   "source": [
    "text_splitter = CharacterTextSplitter(chunk_size=256, chunk_overlap=0)"
   ]
  },
  {
   "cell_type": "code",
   "execution_count": 6,
   "id": "966193f1-8d64-4dd0-a747-45e85a5e2e9a",
   "metadata": {},
   "outputs": [],
   "source": [
    "split_docs = text_splitter.split_documents(documents=documents)"
   ]
  },
  {
   "cell_type": "code",
   "execution_count": 7,
   "id": "f1af0ca4-3348-419e-97d2-2ab27108c4af",
   "metadata": {},
   "outputs": [
    {
     "data": {
      "text/plain": [
       "Document(page_content='动物庄园——一个神奇的故事\\n\\n作者：[英]乔治·奥威尔 著\\n\\n张毅 高孝先 译\\n\\n第一章\\n\\n故事发生在曼纳庄园里。这天晚上，庄园的主人琼斯先生说是已经锁好了鸡棚，但\\n\\n由于他喝得醉意十足，竟把里面的那些小门都忘了关上。他提着马灯踉踉跄跄地穿过院\\n\\n子，马灯光也跟着一直不停地晃来晃去，到了后门，他把靴子一脚一只踢了出去，又从\\n\\n洗碗间的酒桶里舀起最后一杯啤酒，一饮而尽，然后才上床休息。此时，床上的琼斯夫\\n\\n人已是鼾声如雷了。\\n\\n等那边庄主院卧室里的灯光一熄灭，整个庄园窝棚里就泛起一阵扑扑腾腾的骚动。', metadata={'source': 'books/animal_fram.txt'})"
      ]
     },
     "execution_count": 7,
     "metadata": {},
     "output_type": "execute_result"
    }
   ],
   "source": [
    "split_docs[0]"
   ]
  },
  {
   "cell_type": "code",
   "execution_count": null,
   "id": "39616526-c564-4977-80a8-e8c3ce76c15a",
   "metadata": {},
   "outputs": [],
   "source": []
  },
  {
   "cell_type": "markdown",
   "id": "c1af7e77-7214-400c-a6f6-f5e06cd7e39c",
   "metadata": {},
   "source": [
    "### Embedding"
   ]
  },
  {
   "cell_type": "code",
   "execution_count": 8,
   "id": "7ae509ff-05d1-4e13-ae05-1eaf50f9ee8a",
   "metadata": {},
   "outputs": [],
   "source": [
    "from langchain.embeddings.huggingface import HuggingFaceEmbeddings"
   ]
  },
  {
   "cell_type": "code",
   "execution_count": 9,
   "id": "bed3a64b-2306-48a6-8eb9-a9c699bf1b3c",
   "metadata": {},
   "outputs": [],
   "source": [
    "model_name = '/root/.cache/huggingface/hub/dataroot/models/GanymedeNil/text2vec-large-chinese'"
   ]
  },
  {
   "cell_type": "code",
   "execution_count": 10,
   "id": "5caa6aea-5dcc-4913-98bf-b17d3ad171cb",
   "metadata": {},
   "outputs": [
    {
     "name": "stderr",
     "output_type": "stream",
     "text": [
      "No sentence-transformers model found with name /root/.cache/huggingface/hub/dataroot/models/GanymedeNil/text2vec-large-chinese. Creating a new one with MEAN pooling.\n"
     ]
    }
   ],
   "source": [
    "embeddings = HuggingFaceEmbeddings(model_name=model_name, \n",
    "                                   model_kwargs={'device': 'cuda:0'},\n",
    "                                   encode_kwargs={'normalize_embeddings': False})"
   ]
  },
  {
   "cell_type": "code",
   "execution_count": null,
   "id": "4ab47714-16d2-4221-b433-e1dd0d35adbf",
   "metadata": {},
   "outputs": [],
   "source": []
  },
  {
   "cell_type": "markdown",
   "id": "f2646931-5b6e-4a21-84bc-661d6e2c9936",
   "metadata": {},
   "source": [
    "### VectorStore"
   ]
  },
  {
   "cell_type": "code",
   "execution_count": 12,
   "id": "a63a31cb-e526-488d-a294-2a74d0a704c8",
   "metadata": {},
   "outputs": [],
   "source": [
    "from langchain.vectorstores import FAISS"
   ]
  },
  {
   "cell_type": "code",
   "execution_count": 13,
   "id": "ef5c77ca-9011-4863-81bd-af03fc7d1832",
   "metadata": {},
   "outputs": [],
   "source": [
    "db = FAISS.from_documents(split_docs, embeddings)"
   ]
  },
  {
   "cell_type": "code",
   "execution_count": 14,
   "id": "79b2d6f3-0d37-492b-a37e-4e306f278697",
   "metadata": {},
   "outputs": [],
   "source": [
    "query = '故事发生在曼纳庄园里。这天晚上，庄园的主人琼斯先生说是已经锁好了鸡棚'"
   ]
  },
  {
   "cell_type": "code",
   "execution_count": 15,
   "id": "52da61af-92b4-41d0-9fe9-666416bf8427",
   "metadata": {},
   "outputs": [],
   "source": [
    "embedding_vector = embeddings.embed_query(query)\n",
    "docs = db.similarity_search_by_vector(embedding_vector)"
   ]
  },
  {
   "cell_type": "code",
   "execution_count": 37,
   "id": "1ca842f0-cc3b-47d3-ab5f-5120f8e1c145",
   "metadata": {},
   "outputs": [
    {
     "data": {
      "text/plain": [
       "4"
      ]
     },
     "execution_count": 37,
     "metadata": {},
     "output_type": "execute_result"
    }
   ],
   "source": [
    "docs.__len__()"
   ]
  },
  {
   "cell_type": "code",
   "execution_count": 17,
   "id": "88b4fe3a-39c3-47c1-a54a-47ddc32ceeb7",
   "metadata": {},
   "outputs": [
    {
     "name": "stdout",
     "output_type": "stream",
     "text": [
      "动物庄园——一个神奇的故事\n",
      "\n",
      "作者：[英]乔治·奥威尔 著\n",
      "\n",
      "张毅 高孝先 译\n",
      "\n",
      "第一章\n",
      "\n",
      "故事发生在曼纳庄园里。这天晚上，庄园的主人琼斯先生说是已经锁好了鸡棚，但\n",
      "\n",
      "由于他喝得醉意十足，竟把里面的那些小门都忘了关上。他提着马灯踉踉跄跄地穿过院\n",
      "\n",
      "子，马灯光也跟着一直不停地晃来晃去，到了后门，他把靴子一脚一只踢了出去，又从\n",
      "\n",
      "洗碗间的酒桶里舀起最后一杯啤酒，一饮而尽，然后才上床休息。此时，床上的琼斯夫\n",
      "\n",
      "人已是鼾声如雷了。\n",
      "\n",
      "等那边庄主院卧室里的灯光一熄灭，整个庄园窝棚里就泛起一阵扑扑腾腾的骚动。\n"
     ]
    }
   ],
   "source": [
    "print(docs[0].page_content)"
   ]
  },
  {
   "cell_type": "code",
   "execution_count": null,
   "id": "a7840219-cba9-48de-a4d8-761151617566",
   "metadata": {},
   "outputs": [],
   "source": []
  },
  {
   "cell_type": "code",
   "execution_count": 18,
   "id": "20a9a578-e0c4-41b3-9c42-1fff78ef94dd",
   "metadata": {},
   "outputs": [
    {
     "name": "stdout",
     "output_type": "stream",
     "text": [
      "马嘶嘶地鸣，鸭子嘎嘎地唤。唱着这首歌，他们是多么地兴奋，以至于整整连着唱了五\n",
      "\n",
      "遍，要不是中途被打断，他们真有可能唱个通宵。\n",
      "\n",
      "不巧，喧嚣声吵醒了琼斯先生，他自以为是院子中来了狐狸，便跳下床，操起那支\n",
      "\n",
      "总是放在卧室墙角的猎枪，用装在膛里的六号子弹对着黑暗处开了一枪，弹粒射进大谷\n",
      "\n",
      "仓的墙里。会议就此匆匆解散。动物们纷纷溜回自己的窝棚。家禽跳上了他们的架子，\n",
      "\n",
      "家畜卧到了草堆里，顷刻之间，庄园便沉寂下来。\n",
      "\n",
      "（感谢中译者张毅、高孝先以及本书电子版的输入者复旦大学的唐薇小姐）\n",
      "\n",
      "第二章\n"
     ]
    }
   ],
   "source": [
    "print(docs[1].page_content)"
   ]
  },
  {
   "cell_type": "code",
   "execution_count": null,
   "id": "192df9ca-eebf-4fe0-9cfe-bfc70f4b1747",
   "metadata": {},
   "outputs": [],
   "source": []
  },
  {
   "cell_type": "markdown",
   "id": "a6c48a3b-6796-490b-8353-6e3e2abf5b01",
   "metadata": {},
   "source": [
    "### Retriever"
   ]
  },
  {
   "cell_type": "code",
   "execution_count": 19,
   "id": "eab87d58-0b23-42fc-b8c8-3caa2a0bdc63",
   "metadata": {},
   "outputs": [],
   "source": [
    "from langchain.chains import RetrievalQA"
   ]
  },
  {
   "cell_type": "code",
   "execution_count": null,
   "id": "660085b8-1d96-4348-9fa9-3e14edf1760f",
   "metadata": {},
   "outputs": [],
   "source": []
  },
  {
   "cell_type": "code",
   "execution_count": 26,
   "id": "bcc8164d-a547-4788-a4cc-a6965826a015",
   "metadata": {},
   "outputs": [],
   "source": [
    "retriever = db.as_retriever()"
   ]
  },
  {
   "cell_type": "code",
   "execution_count": 27,
   "id": "c5489dc3-4398-4c0e-b380-2495d751b060",
   "metadata": {},
   "outputs": [],
   "source": [
    "qa = RetrievalQA.from_chain_type(llm=llm, chain_type='stuff', retriever=retriever)"
   ]
  },
  {
   "cell_type": "code",
   "execution_count": 34,
   "id": "9bdd9b55-d600-4301-af33-2445eacdb1fc",
   "metadata": {},
   "outputs": [],
   "source": [
    "response = qa.run(\"琼斯先生是谁\")"
   ]
  },
  {
   "cell_type": "code",
   "execution_count": 35,
   "id": "02449764-d2bd-4b91-b30a-8c8dc2270d01",
   "metadata": {},
   "outputs": [
    {
     "name": "stdout",
     "output_type": "stream",
     "text": [
      "琼斯先生是一个人名，是斯诺鲍的密探。\n"
     ]
    }
   ],
   "source": [
    "print(response)"
   ]
  },
  {
   "cell_type": "code",
   "execution_count": null,
   "id": "581f9951-2936-449e-8d9e-9a1d881c3388",
   "metadata": {},
   "outputs": [],
   "source": []
  },
  {
   "cell_type": "code",
   "execution_count": null,
   "id": "12787f67-d6d9-4d50-9a1c-19202d64f0e2",
   "metadata": {},
   "outputs": [],
   "source": []
  },
  {
   "cell_type": "code",
   "execution_count": null,
   "id": "d5a1d536-e21c-48ce-80f1-478f2bfe4458",
   "metadata": {},
   "outputs": [],
   "source": []
  },
  {
   "cell_type": "code",
   "execution_count": null,
   "id": "1b9573c2-a54e-4652-b9d5-a1ada9df570b",
   "metadata": {},
   "outputs": [],
   "source": []
  },
  {
   "cell_type": "code",
   "execution_count": 36,
   "id": "19b551ed-664e-4de1-800f-3440b3159dce",
   "metadata": {},
   "outputs": [
    {
     "name": "stdout",
     "output_type": "stream",
     "text": [
      "斯诺鲍和拿破仑认为这些想法与动物主义的精神背道而驰。\n"
     ]
    }
   ],
   "source": [
    "response = qa.run(\"猪为什么反抗\")\n",
    "print(response)"
   ]
  },
  {
   "cell_type": "code",
   "execution_count": null,
   "id": "58cac1a0-9523-4fdd-955d-0513980ad196",
   "metadata": {},
   "outputs": [],
   "source": []
  },
  {
   "cell_type": "code",
   "execution_count": null,
   "id": "55a7fb56-357d-45e2-af2f-3f96002e36cc",
   "metadata": {},
   "outputs": [],
   "source": []
  }
 ],
 "metadata": {
  "kernelspec": {
   "display_name": "chatglm26b",
   "language": "python",
   "name": "chatglm26b"
  },
  "language_info": {
   "codemirror_mode": {
    "name": "ipython",
    "version": 3
   },
   "file_extension": ".py",
   "mimetype": "text/x-python",
   "name": "python",
   "nbconvert_exporter": "python",
   "pygments_lexer": "ipython3",
   "version": "3.9.6"
  }
 },
 "nbformat": 4,
 "nbformat_minor": 5
}
