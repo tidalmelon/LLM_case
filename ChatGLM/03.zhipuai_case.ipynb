{
 "cells": [
  {
   "cell_type": "markdown",
   "id": "787dc5aa-f4f9-40ac-b2cf-a84ecaa44f6a",
   "metadata": {},
   "source": [
    "### 基本信息"
   ]
  },
  {
   "cell_type": "code",
   "execution_count": null,
   "id": "cb172006-08c5-47d3-bf34-cc1d2701615b",
   "metadata": {},
   "outputs": [],
   "source": []
  },
  {
   "cell_type": "markdown",
   "id": "9b72aadc-57b7-4de2-b9c8-b54f48a265f4",
   "metadata": {},
   "source": [
    "[SDK address](https://open.bigmodel.cn/dev/api)"
   ]
  },
  {
   "cell_type": "markdown",
   "id": "4a0309d8-d1d3-41bd-9646-6933565cc445",
   "metadata": {},
   "source": [
    "`pip install zhipuai`"
   ]
  },
  {
   "cell_type": "code",
   "execution_count": null,
   "id": "c1ddb079-8593-4a67-b777-1fd1a01c1fbd",
   "metadata": {},
   "outputs": [],
   "source": []
  },
  {
   "cell_type": "markdown",
   "id": "0beaf1da-58fa-4522-8328-51a033306c01",
   "metadata": {},
   "source": [
    "平台提供了**同步、异步、SSE(打印机)** 三种调用方式"
   ]
  },
  {
   "cell_type": "code",
   "execution_count": null,
   "id": "ebd4c7db-4514-4c83-9f5d-d011a3815651",
   "metadata": {},
   "outputs": [],
   "source": []
  },
  {
   "cell_type": "code",
   "execution_count": 2,
   "id": "cbee9c85-5394-4084-82f1-14f6b3a9e884",
   "metadata": {
    "collapsed": true,
    "jupyter": {
     "outputs_hidden": true
    },
    "tags": []
   },
   "outputs": [
    {
     "name": "stdout",
     "output_type": "stream",
     "text": [
      "Looking in indexes: https://pypi.tuna.tsinghua.edu.cn/simple\n",
      "Collecting zhipuai\n",
      "  Downloading https://pypi.tuna.tsinghua.edu.cn/packages/a5/b5/cb50cd478426b17503154585be799e09506b70944e2fe2402aa029987fa2/zhipuai-1.0.7-py3-none-any.whl (7.9 kB)\n",
      "Collecting PyJWT\n",
      "  Using cached https://pypi.tuna.tsinghua.edu.cn/packages/2b/4f/e04a8067c7c96c364cef7ef73906504e2f40d690811c021e1a1901473a19/PyJWT-2.8.0-py3-none-any.whl (22 kB)\n",
      "Collecting dataclasses\n",
      "  Using cached https://pypi.tuna.tsinghua.edu.cn/packages/26/2f/1095cdc2868052dd1e64520f7c0d5c8c550ad297e944e641dbf1ffbb9a5d/dataclasses-0.6-py3-none-any.whl (14 kB)\n",
      "Requirement already satisfied: requests in /home/10170464/anaconda3/envs/nlp/lib/python3.9/site-packages (from zhipuai) (2.28.2)\n",
      "Requirement already satisfied: cachetools in /home/10170464/anaconda3/envs/nlp/lib/python3.9/site-packages (from zhipuai) (5.3.0)\n",
      "Requirement already satisfied: urllib3<1.27,>=1.21.1 in /home/10170464/anaconda3/envs/nlp/lib/python3.9/site-packages (from requests->zhipuai) (1.26.15)\n",
      "Requirement already satisfied: charset-normalizer<4,>=2 in /home/10170464/anaconda3/envs/nlp/lib/python3.9/site-packages (from requests->zhipuai) (3.1.0)\n",
      "Requirement already satisfied: idna<4,>=2.5 in /home/10170464/anaconda3/envs/nlp/lib/python3.9/site-packages (from requests->zhipuai) (3.4)\n",
      "Requirement already satisfied: certifi>=2017.4.17 in /home/10170464/anaconda3/envs/nlp/lib/python3.9/site-packages (from requests->zhipuai) (2022.12.7)\n",
      "Installing collected packages: dataclasses, PyJWT, zhipuai\n",
      "Successfully installed PyJWT-2.8.0 dataclasses-0.6 zhipuai-1.0.7\n"
     ]
    }
   ],
   "source": [
    "!pip install zhipuai"
   ]
  },
  {
   "cell_type": "code",
   "execution_count": null,
   "id": "b944a9b9-c048-463b-a1fb-ea1f8649c883",
   "metadata": {},
   "outputs": [],
   "source": []
  },
  {
   "cell_type": "markdown",
   "id": "52ee5bd8-ef55-4efc-a110-a32f0a774e27",
   "metadata": {},
   "source": [
    "### 模型选项"
   ]
  },
  {
   "cell_type": "markdown",
   "id": "64354bb3-e558-4437-8c8e-14239ff3b3a0",
   "metadata": {},
   "source": [
    "#### ChatGLM-Turbo \n",
    "\n",
    "> 模型编码：chatglm_turbo\n",
    "\n",
    "> 根据输入的**自然语言指令**完成多种**语言类任务**，推荐使用 **SSE 或异步调用方式**请求接口"
   ]
  },
  {
   "cell_type": "markdown",
   "id": "8fa52606-17ab-4a38-a32b-aab3813402eb",
   "metadata": {},
   "source": [
    "#### CharacterGLM-超拟人大模型\n",
    "\n",
    "> 模型编码：characterglm <br>\n",
    "> 支持基于人设的角色扮演、超长多轮的记忆、千人千面的角色对话，广泛应用于情感陪伴、游戏智能NPC、网红/明星/影视剧IP分身、数字人/虚拟主播、文字冒险游戏等拟人对话或游戏场景"
   ]
  },
  {
   "cell_type": "code",
   "execution_count": null,
   "id": "7641e723-4220-4845-925e-e75278a27a9b",
   "metadata": {},
   "outputs": [],
   "source": []
  },
  {
   "cell_type": "markdown",
   "id": "941c8edd-dab2-4ea8-8c5a-d0ebac91b165",
   "metadata": {},
   "source": [
    "##### 代码示例"
   ]
  },
  {
   "cell_type": "code",
   "execution_count": 29,
   "id": "b5bef416-f85b-4657-8aa5-c3c6cddb6f93",
   "metadata": {
    "tags": []
   },
   "outputs": [],
   "source": [
    "response = zhipuai.model_api.sse_invoke(\n",
    "    model=\"characterglm\",\n",
    "    meta= {\n",
    "        \"user_info\": \"我是陆星辰，是一个男性，是一位知名导演，也是苏梦远的合作导演。我擅长拍摄音乐题材的电影。苏梦远对我的态度是尊敬的，并视我为良师益友。\",\n",
    "        \"bot_info\": \"苏梦远，本名苏远心，是一位当红的国内女歌手及演员。在参加选秀节目后，凭借独特的嗓音及出众的舞台魅力迅速成名，进入娱乐圈。她外表美丽动人，但真正的魅力在于她的才华和勤奋。苏梦远是音乐学院毕业的优秀生，善于创作，拥有多首热门原创歌曲。除了音乐方面的成就，她还热衷于慈善事业，积极参加公益活动，用实际行动传递正能量。在工作中，她对待工作非常敬业，拍戏时总是全身心投入角色，赢得了业内人士的赞誉和粉丝的喜爱。虽然在娱乐圈，但她始终保持低调、谦逊的态度，深得同行尊重。在表达时，苏梦远喜欢使用“我们”和“一起”，强调团队精神。\",\n",
    "        \"bot_name\": \"苏梦远\",\n",
    "        \"user_name\": \"陆星辰\"\n",
    "    },\n",
    "    prompt= [\n",
    "        {\n",
    "            \"role\": \"assistant\",\n",
    "            \"content\": \"（旁白：苏梦远主演了陆星辰导演的一部音乐题材电影，在拍摄期间，两人因为一场戏的表现有分歧。） 导演，关于这场戏，我觉得可以尝试从角色的内心情感出发，让表现更加真实。\"\n",
    "        },\n",
    "        {\n",
    "            \"role\": \"user\",\n",
    "            \"content\": \"我明白你的想法，但我认为如果过于强调内心情感，可能会影响到音乐元素的突出。\"\n",
    "        },\n",
    "        {\n",
    "            \"role\": \"assistant\",\n",
    "            \"content\": \"嗯嗯，我明白。但这场戏的关键是角色情感的转变，是不是可以试着把这种情感用音乐表现出来，让观众更能感受到角色的成长呢？\"\n",
    "        },\n",
    "        {\n",
    "            \"role\": \"user\",\n",
    "            \"content\": \"这样一听还不错。那就尝试将角色的情感转变与音乐元素相结合，看看能否达到更好的效果。\"\n",
    "        },\n",
    "        {\n",
    "            \"role\": \"assistant\",\n",
    "            \"content\": \"好的，导演。（充满信心的眼神）\"\n",
    "        }\n",
    "    ],\n",
    "    incremental=True\n",
    ")"
   ]
  },
  {
   "cell_type": "code",
   "execution_count": 30,
   "id": "d6f30cc1-d4d8-49d9-9b54-65f88848ab75",
   "metadata": {
    "tags": []
   },
   "outputs": [
    {
     "name": "stdout",
     "output_type": "stream",
     "text": [
      "（在拍摄现场，苏梦远为陆星辰导演展示了新的表现方式）导演，您觉得这样处理怎么样？\n",
      "{\"task_status\":\"SUCCESS\",\"usage\":{\"completion_tokens\":26,\"prompt_tokens\":349,\"total_tokens\":375},\"task_id\":\"8142534102292559421\",\"request_id\":\"8142534102292559421\"}"
     ]
    }
   ],
   "source": [
    "for event in response.events():\n",
    "    if event.event == \"add\":\n",
    "        print(event.data, end='', flush=True)\n",
    "    elif event.event == \"error\" or event.event == \"interrupted\":\n",
    "        print(event.data, end='', flush=True)\n",
    "    elif event.event == \"finish\":\n",
    "        print(event.data)\n",
    "        # 这里可以读取Token数,并计算自费\n",
    "        print(event.meta, end='', flush=True)\n",
    "    else:\n",
    "        print(event.data, end='', flush=True)"
   ]
  },
  {
   "cell_type": "code",
   "execution_count": null,
   "id": "88a765f8-c05d-437b-8ce4-e2641d3f5f10",
   "metadata": {},
   "outputs": [],
   "source": []
  },
  {
   "cell_type": "code",
   "execution_count": null,
   "id": "4dd4eb2a-ca6a-4045-b4a2-78952bde588f",
   "metadata": {},
   "outputs": [],
   "source": []
  },
  {
   "cell_type": "markdown",
   "id": "a13d45c5-d4a9-497f-ae60-ebc8868d00f2",
   "metadata": {},
   "source": [
    "### 代码示例"
   ]
  },
  {
   "cell_type": "code",
   "execution_count": 7,
   "id": "6f6881dc-8246-4dc0-bee5-4b118e4ce291",
   "metadata": {
    "tags": []
   },
   "outputs": [],
   "source": [
    "import zhipuai\n",
    "import json"
   ]
  },
  {
   "cell_type": "code",
   "execution_count": null,
   "id": "04964a7a-b200-4c68-bff1-89e7c28d8e07",
   "metadata": {},
   "outputs": [],
   "source": []
  },
  {
   "cell_type": "markdown",
   "id": "8dadede8-08d4-4349-b403-2ad16031ba4f",
   "metadata": {},
   "source": [
    "#### 同步"
   ]
  },
  {
   "cell_type": "code",
   "execution_count": 4,
   "id": "ad1054ea-7320-401a-a05e-23ba0fe53beb",
   "metadata": {
    "tags": []
   },
   "outputs": [],
   "source": [
    "response = zhipuai.model_api.invoke(\n",
    "    model=\"chatglm_turbo\",\n",
    "    prompt=[{\"role\": \"user\", \"content\": \"人工智能\"}],\n",
    "    top_p=0.7,\n",
    "    temperature=0.9,\n",
    ")"
   ]
  },
  {
   "cell_type": "code",
   "execution_count": 9,
   "id": "04620c01-49e9-494b-b449-e8516b24e1af",
   "metadata": {
    "tags": []
   },
   "outputs": [
    {
     "name": "stdout",
     "output_type": "stream",
     "text": [
      "{\n",
      "  \"code\": 200,\n",
      "  \"msg\": \"操作成功\",\n",
      "  \"data\": {\n",
      "    \"request_id\": \"8142535545401599311\",\n",
      "    \"task_id\": \"8142535545401599311\",\n",
      "    \"task_status\": \"SUCCESS\",\n",
      "    \"choices\": [\n",
      "      {\n",
      "        \"role\": \"assistant\",\n",
      "        \"content\": \"\\\" 人工智能（Artificial Intelligence，简称AI）是指让机器（计算机）模拟和扩展人类智能的技术。其核心思想是让计算机通过学习、理解和适应，从而自主地完成一些通常需要人类才能完成的复杂任务。人工智能涵盖了多个领域，如机器学习、深度学习、自然语言处理、计算机视觉等。\\\\n\\\\n人工智能的发展历程始于20世纪50年代，随着数据量的增加、先进算法以及计算能力和存储能力的提高，人工智能在当今变得越来越流行。人工智能在医疗、零售、金融、交通等领域都有广泛的应用。\\\\n\\\\n人工智能的价值和意义主要体现在以下几点：\\\\n\\\\n1. 自动化：AI可以通过数据实现重复学习和发现的自动化，帮助人们可靠、无疲劳地执行频繁、大量的计算机化任务。\\\\n\\\\n2. 智能提升：AI为现有产品增加了智能，例如将Siri作为新一代Apple产品的功能添加，使产品更具竞争力。\\\\n\\\\n3. 渐进式学习：AI通过渐进式学习算法进行调整，使数据进行编程，从而使模型适应新数据并提高准确性。\\\\n\\\\n4. 深度分析：AI使用具有多个隐藏层的神经网络分析更多和更深层次的数据，从而实现更准确的预测和决策。\\\\n\\\\n5. 创新应用：AI在医疗、金融、交通等领域的应用有助于提高效率、降低成本，并为社会带来更多的便利和创新。\\\\n\\\\n总之，人工智能作为一种推动力，正在不断地改变着我们的生活方式，提高社会生产力，并为各行各业带来革命性的变革。\\\"\"\n",
      "      }\n",
      "    ],\n",
      "    \"usage\": {\n",
      "      \"prompt_tokens\": 595,\n",
      "      \"completion_tokens\": 312,\n",
      "      \"total_tokens\": 907\n",
      "    }\n",
      "  },\n",
      "  \"success\": true\n",
      "}\n"
     ]
    }
   ],
   "source": [
    "print(json.dumps(response, indent=2, ensure_ascii=False))"
   ]
  },
  {
   "cell_type": "code",
   "execution_count": null,
   "id": "78397dea-9a2b-48e2-9a4e-bd235040571f",
   "metadata": {},
   "outputs": [],
   "source": []
  },
  {
   "cell_type": "markdown",
   "id": "49790519-de56-424b-8f8e-9e45861287e3",
   "metadata": {},
   "source": [
    "#### 异步"
   ]
  },
  {
   "cell_type": "code",
   "execution_count": 11,
   "id": "b44310ea-ab3a-4f01-8e82-c20753d4125b",
   "metadata": {
    "tags": []
   },
   "outputs": [],
   "source": [
    "response = zhipuai.model_api.async_invoke(\n",
    "    model=\"chatglm_turbo\",\n",
    "    prompt=[{\"role\": \"user\", \"content\": \"人工智能\"}],\n",
    "    top_p=0.7,\n",
    "    temperature=0.9,\n",
    ")"
   ]
  },
  {
   "cell_type": "code",
   "execution_count": 12,
   "id": "145d1900-940e-4711-b43b-713c70c63152",
   "metadata": {
    "tags": []
   },
   "outputs": [
    {
     "data": {
      "text/plain": [
       "{'code': 200,\n",
       " 'msg': '操作成功',\n",
       " 'data': {'request_id': '8142536438754826668',\n",
       "  'task_id': '50717008045404348142536438754826673',\n",
       "  'task_status': 'PROCESSING'},\n",
       " 'success': True}"
      ]
     },
     "execution_count": 12,
     "metadata": {},
     "output_type": "execute_result"
    }
   ],
   "source": [
    "response"
   ]
  },
  {
   "cell_type": "code",
   "execution_count": 13,
   "id": "7c87c981-d595-4e85-8be3-ddd63407bf25",
   "metadata": {
    "tags": []
   },
   "outputs": [],
   "source": [
    "response = zhipuai.model_api.query_async_invoke_result(\"50717008045404348142536438754826673\")"
   ]
  },
  {
   "cell_type": "code",
   "execution_count": 14,
   "id": "3619fe35-2c84-484b-867b-2e48f3c4cf3c",
   "metadata": {
    "collapsed": true,
    "jupyter": {
     "outputs_hidden": true
    },
    "tags": []
   },
   "outputs": [
    {
     "name": "stdout",
     "output_type": "stream",
     "text": [
      "{\n",
      "  \"code\": 200,\n",
      "  \"msg\": \"操作成功\",\n",
      "  \"data\": {\n",
      "    \"request_id\": \"8142536438754826668\",\n",
      "    \"task_id\": \"50717008045404348142536438754826673\",\n",
      "    \"task_status\": \"SUCCESS\",\n",
      "    \"choices\": [\n",
      "      {\n",
      "        \"role\": \"assistant\",\n",
      "        \"content\": \"\\\" 人工智能（Artificial Intelligence，简称AI）是一门研究如何模拟、延伸和扩展人类智能的计算机科学领域。人工智能技术通过计算机和算法来模拟人类的思维和决策过程，使计算机能够完成一些需要人类智能才能完成的任务。\\\\n\\\\n人工智能可以分为两大类：符号智能和计算智能。符号智能以知识为基础，通过推理进行问题求解，即传统人工智能。计算智能以数据为基础，通过训练建立联系，进行问题求解，包括人工神经网络、遗传算法、模糊系统、进化程序设计、人工生命等。\\\\n\\\\n人工智能在诸多领域具有广泛的应用，如自动驾驶汽车、语音识别、图像识别、语言处理、机器学习等。随着科技的发展，人工智能将越来越普及，对人类的生活和工作产生越来越大的影响。我们可以通过人工智能来提高生产力、改进医疗保健、金融服务、社交媒体、游戏等方面。\\\\n\\\\n人工智能的发展可以追溯到上世纪五六十年代，但直到最近几年，随着计算机算力的不断提高和大数据的普及，人工智能才真正开始进入到人们的生活中。如今，人工智能技术已经非常成熟，例如深度学习、神经网络等。\\\\n\\\\n在全球范围内，许多国家和大学都非常重视人工智能领域的研究。美国的一些知名大学，如麻省理工学院、斯坦福大学、加州大学伯克利分校等，都开设了人工智能专业。我国也高度重视人工智能的发展，并在相关领域取得了显著的成果。\\\"\"\n",
      "      }\n",
      "    ],\n",
      "    \"usage\": {\n",
      "      \"prompt_tokens\": 581,\n",
      "      \"completion_tokens\": 286,\n",
      "      \"total_tokens\": 867\n",
      "    }\n",
      "  },\n",
      "  \"success\": true\n",
      "}\n"
     ]
    }
   ],
   "source": [
    "print(json.dumps(response, indent=2, ensure_ascii=False))"
   ]
  },
  {
   "cell_type": "code",
   "execution_count": null,
   "id": "e4adb611-3d96-4d5c-a86d-9a11ce825496",
   "metadata": {},
   "outputs": [],
   "source": []
  },
  {
   "cell_type": "markdown",
   "id": "a5ca4ea4-437a-4dca-9a71-7eebb5c1e201",
   "metadata": {},
   "source": [
    "#### SSE-打印机"
   ]
  },
  {
   "cell_type": "code",
   "execution_count": null,
   "id": "03243b9e-9c04-4df9-a68b-7a0b203677f7",
   "metadata": {},
   "outputs": [],
   "source": []
  },
  {
   "cell_type": "markdown",
   "id": "637ef213-ee9f-453c-b21c-4b23b591b1de",
   "metadata": {},
   "source": [
    "```python\n",
    "  说明：\n",
    "  add: 事件流开启\n",
    "  error: 平台服务或者模型异常，响应的异常事件\n",
    "  interrupted: 中断事件，例如：触发敏感词\n",
    "  finish: 数据接收完毕，关闭事件流\n",
    "```"
   ]
  },
  {
   "cell_type": "code",
   "execution_count": 9,
   "id": "5253fbdd-ac92-4112-83a3-e4e8235065c4",
   "metadata": {
    "tags": []
   },
   "outputs": [],
   "source": [
    "response = zhipuai.model_api.sse_invoke(\n",
    "    model=\"chatglm_turbo\",\n",
    "    prompt=[{\"role\": \"user\", \"content\": \"你好\"}],\n",
    "    top_p=0.7,\n",
    "    temperature=0.9,\n",
    ")"
   ]
  },
  {
   "cell_type": "markdown",
   "id": "123764bd-3577-45b5-a799-9d19d0fd7462",
   "metadata": {},
   "source": [
    "> 这里可以读取Token数,并计算自费"
   ]
  },
  {
   "cell_type": "code",
   "execution_count": 10,
   "id": "bfa01d78-e029-47a6-87c3-cec8139ab8ec",
   "metadata": {
    "tags": []
   },
   "outputs": [
    {
     "name": "stdout",
     "output_type": "stream",
     "text": [
      " 你好👋！我是人工智能助手智谱清言，可以叫我小智🤖，很高兴见到你，欢迎问我任何问题。1==========\n",
      "\n",
      "2==========\n",
      "{\"task_status\":\"SUCCESS\",\"usage\":{\"completion_tokens\":27,\"prompt_tokens\":2,\"total_tokens\":29},\"task_id\":\"8142536026437917267\",\"request_id\":\"8142536026437917267\"}"
     ]
    }
   ],
   "source": [
    "for event in response.events():\n",
    "    if event.event == \"add\":\n",
    "        print(event.data, end='', flush=True)\n",
    "    elif event.event == \"error\" or event.event == \"interrupted\":\n",
    "        print(event.data, end='', flush=True)\n",
    "    elif event.event == \"finish\":\n",
    "        print('1==========')\n",
    "        print(event.data)\n",
    "        print('2==========')\n",
    "        print(event.meta, end='', flush=True)\n",
    "    else:\n",
    "        print('3==========')\n",
    "        print(event.data, end='', flush=True)"
   ]
  },
  {
   "cell_type": "code",
   "execution_count": null,
   "id": "be712123-fd8c-48c1-8410-b8fedb395c05",
   "metadata": {},
   "outputs": [],
   "source": []
  },
  {
   "cell_type": "markdown",
   "id": "bd7164d9-f08d-4dd5-9f13-a0d16cdfc154",
   "metadata": {},
   "source": [
    "#### 返回参数说明\n",
    "\n",
    "|参数名称  |类型  |参数说明|\n",
    "|---|---|---|\n",
    "|id |string |消息唯一标识|\n",
    "|event|string|消息类型，add 增量，finish 结束，error 错误，interrupted 中断|\n",
    "|data|string|具体内容|\n",
    "|meta|object|finish 事件时，通过 meta 发送更多信息，比如数量统计信息 usage|"
   ]
  },
  {
   "cell_type": "code",
   "execution_count": null,
   "id": "6e422621-166e-44b7-ab54-18b24ef06f8d",
   "metadata": {},
   "outputs": [],
   "source": []
  },
  {
   "cell_type": "code",
   "execution_count": 27,
   "id": "d64bef25-3431-41ca-af22-67f75e9345cc",
   "metadata": {
    "tags": []
   },
   "outputs": [],
   "source": [
    "response = zhipuai.model_api.sse_invoke(\n",
    "    model=\"chatglm_turbo\",\n",
    "    prompt=[\n",
    "        {\"role\": \"user\", \"content\": \"你好\"},\n",
    "        {\"role\": \"assistant\", \"content\": \"我是人工智能助手\"},\n",
    "        {\"role\": \"user\", \"content\": \"你叫什么名字\"},\n",
    "        {\"role\": \"assistant\", \"content\": \"我叫chatGLM\"},\n",
    "        {\"role\":\"user\", \"content\": \"你都可以做些什么事\"},\n",
    "    ],\n",
    "    temperature=0.95,\n",
    "    top_p=0.7,\n",
    "    incremental=True\n",
    ")"
   ]
  },
  {
   "cell_type": "code",
   "execution_count": 28,
   "id": "7acf67ff-b14b-4911-861b-501b70de89ac",
   "metadata": {
    "tags": []
   },
   "outputs": [
    {
     "name": "stdout",
     "output_type": "stream",
     "text": [
      " 我可以回答各种问题，提供信息、建议和帮助。例如：\n",
      "\n",
      "1. 解答常识性问题，如地理、历史、科学等领域的知识。\n",
      "2. 提供实用信息，如天气预报、汇率转换、计算器等。\n",
      "3. 娱乐休闲，如讲笑话、猜谜语、推荐电影等。\n",
      "4. 学习辅导，如语法讲解、题目解答、学习计划等。\n",
      "5. 生活建议，如心理健康、人际关系、职场规划等。\n",
      "\n",
      "请注意，我的知识和能力取决于我的训练数据有截止时间，以及训练数据的质量。因此，在某些问题上，我可能无法提供最准确的答案。如有需要，请随时向我提问，我将竭诚为您解答。\n",
      "{\"task_status\":\"SUCCESS\",\"usage\":{\"completion_tokens\":152,\"prompt_tokens\":18,\"total_tokens\":170},\"task_id\":\"8142529944764163261\",\"request_id\":\"8142529944764163261\"}"
     ]
    }
   ],
   "source": [
    "for event in response.events():\n",
    "    if event.event == \"add\":\n",
    "        print(event.data, end='', flush=True)\n",
    "    elif event.event == \"error\" or event.event == \"interrupted\":\n",
    "        print(event.data, end='', flush=True)\n",
    "    elif event.event == \"finish\":\n",
    "        print(event.data)\n",
    "        # 这里可以读取Token数,并计算自费\n",
    "        print(event.meta, end='', flush=True)\n",
    "    else:\n",
    "        print(event.data, end='', flush=True)"
   ]
  },
  {
   "cell_type": "code",
   "execution_count": null,
   "id": "01eb9e0e-4d8d-4e3c-a643-33aeccac7461",
   "metadata": {},
   "outputs": [],
   "source": []
  },
  {
   "cell_type": "code",
   "execution_count": null,
   "id": "d2d11812-e2ce-401f-801f-5a3ffaa21363",
   "metadata": {},
   "outputs": [],
   "source": []
  },
  {
   "cell_type": "code",
   "execution_count": null,
   "id": "c515420f-3818-4339-a7d9-dd8925906cb3",
   "metadata": {},
   "outputs": [],
   "source": []
  },
  {
   "cell_type": "code",
   "execution_count": null,
   "id": "cde563e5-d350-43bd-9b26-30bccbb4c002",
   "metadata": {},
   "outputs": [],
   "source": []
  },
  {
   "cell_type": "code",
   "execution_count": null,
   "id": "74533737-53c7-424d-82c7-66b8e8536aa3",
   "metadata": {},
   "outputs": [],
   "source": []
  }
 ],
 "metadata": {
  "kernelspec": {
   "display_name": "chatglm26b",
   "language": "python",
   "name": "chatglm26b"
  },
  "language_info": {
   "codemirror_mode": {
    "name": "ipython",
    "version": 3
   },
   "file_extension": ".py",
   "mimetype": "text/x-python",
   "name": "python",
   "nbconvert_exporter": "python",
   "pygments_lexer": "ipython3",
   "version": "3.9.6"
  }
 },
 "nbformat": 4,
 "nbformat_minor": 5
}
