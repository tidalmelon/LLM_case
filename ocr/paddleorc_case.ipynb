{
 "cells": [
  {
   "cell_type": "code",
   "execution_count": null,
   "id": "9757cddf-9097-4cf4-8f1c-e60d76993349",
   "metadata": {},
   "outputs": [],
   "source": []
  },
  {
   "cell_type": "markdown",
   "id": "c93154ec-bc7f-44d7-a37f-202153281001",
   "metadata": {},
   "source": [
    "[PaddleOCR-quick start](https://github.com/PaddlePaddle/PaddleOCR/blob/release/2.7/doc/doc_ch/quickstart.md)"
   ]
  },
  {
   "cell_type": "code",
   "execution_count": null,
   "id": "4f839d34-5f4b-4b89-bb43-f254682b1d83",
   "metadata": {},
   "outputs": [],
   "source": []
  },
  {
   "cell_type": "code",
   "execution_count": 1,
   "id": "f1a80d5b-64d1-4949-8631-ef77f1df4c52",
   "metadata": {},
   "outputs": [],
   "source": [
    "from paddleocr import PaddleOCR, draw_ocr"
   ]
  },
  {
   "cell_type": "code",
   "execution_count": 2,
   "id": "f2127cd5-a635-41ab-b4bf-3deab505759a",
   "metadata": {},
   "outputs": [
    {
     "name": "stdout",
     "output_type": "stream",
     "text": [
      "[2023/11/10 21:52:54] ppocr DEBUG: Namespace(help='==SUPPRESS==', use_gpu=False, use_xpu=False, use_npu=False, ir_optim=True, use_tensorrt=False, min_subgraph_size=15, precision='fp32', gpu_mem=500, gpu_id=0, image_dir=None, page_num=0, det_algorithm='DB', det_model_dir='/root/.paddleocr/whl/det/ch/ch_PP-OCRv4_det_infer', det_limit_side_len=960, det_limit_type='max', det_box_type='quad', det_db_thresh=0.3, det_db_box_thresh=0.6, det_db_unclip_ratio=1.5, max_batch_size=10, use_dilation=False, det_db_score_mode='fast', det_east_score_thresh=0.8, det_east_cover_thresh=0.1, det_east_nms_thresh=0.2, det_sast_score_thresh=0.5, det_sast_nms_thresh=0.2, det_pse_thresh=0, det_pse_box_thresh=0.85, det_pse_min_area=16, det_pse_scale=1, scales=[8, 16, 32], alpha=1.0, beta=1.0, fourier_degree=5, rec_algorithm='SVTR_LCNet', rec_model_dir='/root/.paddleocr/whl/rec/ch/ch_PP-OCRv4_rec_infer', rec_image_inverse=True, rec_image_shape='3, 48, 320', rec_batch_num=6, max_text_length=25, rec_char_dict_path='/opt/anaconda3/envs/paddle/lib/python3.9/site-packages/paddleocr/ppocr/utils/ppocr_keys_v1.txt', use_space_char=True, vis_font_path='./doc/fonts/simfang.ttf', drop_score=0.5, e2e_algorithm='PGNet', e2e_model_dir=None, e2e_limit_side_len=768, e2e_limit_type='max', e2e_pgnet_score_thresh=0.5, e2e_char_dict_path='./ppocr/utils/ic15_dict.txt', e2e_pgnet_valid_set='totaltext', e2e_pgnet_mode='fast', use_angle_cls=True, cls_model_dir='/root/.paddleocr/whl/cls/ch_ppocr_mobile_v2.0_cls_infer', cls_image_shape='3, 48, 192', label_list=['0', '180'], cls_batch_num=6, cls_thresh=0.9, enable_mkldnn=False, cpu_threads=10, use_pdserving=False, warmup=False, sr_model_dir=None, sr_image_shape='3, 32, 128', sr_batch_num=1, draw_img_save_dir='./inference_results', save_crop_res=False, crop_res_save_dir='./output', use_mp=False, total_process_num=1, process_id=0, benchmark=False, save_log_path='./log_output/', show_log=True, use_onnx=False, output='./output', table_max_len=488, table_algorithm='TableAttn', table_model_dir=None, merge_no_span_structure=True, table_char_dict_path=None, layout_model_dir=None, layout_dict_path=None, layout_score_threshold=0.5, layout_nms_threshold=0.5, kie_algorithm='LayoutXLM', ser_model_dir=None, re_model_dir=None, use_visual_backbone=True, ser_dict_path='../train_data/XFUND/class_list_xfun.txt', ocr_order_method=None, mode='structure', image_orientation=False, layout=True, table=True, ocr=True, recovery=False, use_pdf2docx_api=False, invert=False, binarize=False, alphacolor=(255, 255, 255), lang='ch', det=True, rec=True, type='ocr', ocr_version='PP-OCRv4', structure_version='PP-StructureV2')\n"
     ]
    }
   ],
   "source": [
    "ocr = PaddleOCR(use_angle_cls=True, lang=\"ch\")"
   ]
  },
  {
   "cell_type": "markdown",
   "id": "dd4f78f8-04e9-4944-aac2-ce7ac97b8097",
   "metadata": {},
   "source": [
    "![](./imgs/11.jpg)"
   ]
  },
  {
   "cell_type": "code",
   "execution_count": 7,
   "id": "5b918fcc-1d50-49e9-8042-41182dde8bef",
   "metadata": {},
   "outputs": [
    {
     "name": "stdout",
     "output_type": "stream",
     "text": [
      "[2023/11/10 21:58:35] ppocr DEBUG: dt_boxes num : 16, elapsed : 0.13745737075805664\n",
      "[2023/11/10 21:58:35] ppocr DEBUG: cls num  : 16, elapsed : 0.051985740661621094\n",
      "[2023/11/10 21:58:36] ppocr DEBUG: rec_res num  : 16, elapsed : 1.5813653469085693\n",
      "[[[28.0, 37.0], [302.0, 39.0], [302.0, 72.0], [27.0, 70.0]], ('纯臻营养护发素', 0.9978386163711548)]\n",
      "[[[26.0, 83.0], [173.0, 83.0], [173.0, 104.0], [26.0, 104.0]], ('产品信息/参数', 0.9898313283920288)]\n",
      "[[[27.0, 112.0], [331.0, 112.0], [331.0, 135.0], [27.0, 135.0]], ('（45元/每公斤，100公斤起订）', 0.9659193754196167)]\n",
      "[[[25.0, 143.0], [281.0, 143.0], [281.0, 165.0], [25.0, 165.0]], ('每瓶22元，1000瓶起订）', 0.9928649067878723)]\n",
      "[[[26.0, 179.0], [300.0, 179.0], [300.0, 195.0], [26.0, 195.0]], ('【品牌】：代加工方式/OEMODM', 0.9843935966491699)]\n",
      "[[[26.0, 210.0], [234.0, 210.0], [234.0, 227.0], [26.0, 227.0]], ('【品名】：纯臻营养护发素', 0.9963154196739197)]\n",
      "[[[25.0, 239.0], [241.0, 239.0], [241.0, 259.0], [25.0, 259.0]], ('【产品编号】：YM-X-3011', 0.9848010540008545)]\n",
      "[[[413.0, 232.0], [430.0, 232.0], [430.0, 306.0], [413.0, 306.0]], ('ODMOEM', 0.9908038973808289)]\n",
      "[[[24.0, 271.0], [180.0, 271.0], [180.0, 290.0], [24.0, 290.0]], ('【净含量】：220ml', 0.9892317056655884)]\n",
      "[[[26.0, 303.0], [251.0, 303.0], [251.0, 319.0], [26.0, 319.0]], ('【适用人群】：适合所有肤质', 0.990922212600708)]\n",
      "[[[26.0, 335.0], [344.0, 335.0], [344.0, 352.0], [26.0, 352.0]], ('【主要成分】：鲸蜡硬脂醇、燕麦β-葡聚', 0.9828633666038513)]\n",
      "[[[26.0, 364.0], [281.0, 364.0], [281.0, 384.0], [26.0, 384.0]], ('糖、椰油酰胺丙基甜菜碱、泛醌', 0.9505165815353394)]\n",
      "[[[368.0, 368.0], [477.0, 368.0], [477.0, 389.0], [368.0, 389.0]], ('（成品包材）', 0.9920714497566223)]\n",
      "[[[26.0, 397.0], [360.0, 397.0], [360.0, 414.0], [26.0, 414.0]], ('【主要功能】：可紧致头发磷层，从而达到', 0.9904319643974304)]\n",
      "[[[28.0, 429.0], [370.0, 429.0], [370.0, 445.0], [28.0, 445.0]], ('即时持久改善头发光泽的效果，给干燥的头', 0.9874175190925598)]\n",
      "[[[27.0, 458.0], [137.0, 458.0], [137.0, 479.0], [27.0, 479.0]], ('发足够的滋养', 0.9987381100654602)]\n"
     ]
    }
   ],
   "source": [
    "img_path = './imgs/11.jpg'\n",
    "result = ocr.ocr(img_path, cls=True)\n",
    "for idx in range(len(result)):\n",
    "    res = result[idx]\n",
    "    for line in res:\n",
    "        print(line)"
   ]
  },
  {
   "cell_type": "code",
   "execution_count": null,
   "id": "4aabb303-b0b5-45e3-b1d3-6adfe7f6b48b",
   "metadata": {},
   "outputs": [],
   "source": []
  },
  {
   "cell_type": "code",
   "execution_count": null,
   "id": "4a9f3ba4-8915-4917-a130-dab5b9331b02",
   "metadata": {},
   "outputs": [],
   "source": []
  },
  {
   "cell_type": "markdown",
   "id": "c8cbe79b-4c92-49e7-b7a2-08d01f54822e",
   "metadata": {},
   "source": [
    "![](./imgs/12.jpg)"
   ]
  },
  {
   "cell_type": "code",
   "execution_count": null,
   "id": "75bad8af-7d2b-4bd2-b969-5ba706689e19",
   "metadata": {},
   "outputs": [],
   "source": []
  },
  {
   "cell_type": "code",
   "execution_count": 6,
   "id": "3f0149b7-a3ad-4f88-a759-ffc3355b8053",
   "metadata": {},
   "outputs": [
    {
     "name": "stdout",
     "output_type": "stream",
     "text": [
      "[2023/11/10 21:58:20] ppocr DEBUG: dt_boxes num : 26, elapsed : 0.22920846939086914\n",
      "[2023/11/10 21:58:21] ppocr DEBUG: cls num  : 26, elapsed : 0.08638787269592285\n",
      "[2023/11/10 21:58:24] ppocr DEBUG: rec_res num  : 26, elapsed : 3.143955945968628\n",
      "[[[7.0, 9.0], [300.0, 9.0], [300.0, 33.0], [7.0, 33.0]], ('图表 2AI技术部分应用场景', 0.9776626825332642)]\n",
      "[[[9.0, 47.0], [53.0, 47.0], [53.0, 70.0], [9.0, 70.0]], ('环节', 0.9999695420265198)]\n",
      "[[[70.0, 48.0], [146.0, 48.0], [146.0, 70.0], [70.0, 70.0]], ('应用场景', 0.9993133544921875)]\n",
      "[[[291.0, 50.0], [366.0, 50.0], [366.0, 68.0], [291.0, 68.0]], ('场景描述', 0.9967917799949646)]\n",
      "[[[70.0, 86.0], [257.0, 86.0], [257.0, 106.0], [70.0, 106.0]], ('预习知识点个性化推荐', 0.9993622899055481)]\n",
      "[[[294.0, 88.0], [833.0, 88.0], [833.0, 105.0], [294.0, 105.0]], ('基于学生个性化学情及能力，在课前预习环节进行学习知识点推送', 0.9995628595352173)]\n",
      "[[[70.0, 121.0], [164.0, 124.0], [163.0, 145.0], [70.0, 143.0]], ('个性化教案', 0.9974939227104187)]\n",
      "[[[294.0, 126.0], [664.0, 126.0], [664.0, 143.0], [294.0, 143.0]], ('基于班级或个体学情，为老师生成个性化教案', 0.9997588992118835)]\n",
      "[[[72.0, 162.0], [165.0, 162.0], [165.0, 180.0], [72.0, 180.0]], ('本地化教研', 0.9999415278434753)]\n",
      "[[[294.0, 163.0], [776.0, 163.0], [776.0, 180.0], [294.0, 180.0]], ('基于当地教学、考试信息挖掘，为老师提供个性化教研建议', 0.9994730353355408)]\n",
      "[[[68.0, 199.0], [174.0, 199.0], [174.0, 220.0], [68.0, 220.0]], ('线上AI课程', 0.9993376135826111)]\n",
      "[[[292.0, 199.0], [703.0, 198.0], [703.0, 219.0], [292.0, 220.0]], ('基于学生个性化学情数据反馈调整授课内容及形式', 0.9993357062339783)]\n",
      "[[[11.0, 218.0], [32.0, 218.0], [32.0, 236.0], [11.0, 236.0]], ('教', 0.9998486042022705)]\n",
      "[[[69.0, 236.0], [175.0, 236.0], [175.0, 256.0], [69.0, 256.0]], ('线下AI课堂', 0.9988245964050293)]\n",
      "[[[293.0, 237.0], [710.0, 237.0], [710.0, 257.0], [293.0, 257.0]], ('基于学生及班级学ing，采用真人+AI助教授课模式', 0.9984079599380493)]\n",
      "[[[70.0, 273.0], [146.0, 273.0], [146.0, 295.0], [70.0, 295.0]], ('拍照搜题', 0.9961427450180054)]\n",
      "[[[295.0, 275.0], [683.0, 275.0], [683.0, 293.0], [295.0, 293.0]], ('针对所拍摄题目进行识别并匹配相应答案和解析', 0.9994186162948608)]\n",
      "[[[70.0, 311.0], [145.0, 311.0], [145.0, 332.0], [70.0, 332.0]], ('智能题库', 0.999740481376648)]\n",
      "[[[293.0, 312.0], [739.0, 312.0], [739.0, 329.0], [293.0, 329.0]], ('基于学生对所学知识掌握情况差异，提供精准查缺补漏', 0.9996686577796936)]\n",
      "[[[12.0, 364.0], [30.0, 364.0], [30.0, 382.0], [12.0, 382.0]], ('练', 0.9997897744178772)]\n",
      "[[[70.0, 361.0], [144.0, 361.0], [144.0, 383.0], [70.0, 383.0]], ('智能测评', 0.9998528957366943)]\n",
      "[[[294.0, 364.0], [852.0, 364.0], [852.0, 382.0], [294.0, 382.0]], ('针对学生知识掌握和口语能力情况进行统计、分析，提供个性化测评', 0.9996353387832642)]\n",
      "[[[70.0, 416.0], [183.0, 416.0], [183.0, 436.0], [70.0, 436.0]], ('作业智能批改', 0.9996761679649353)]\n",
      "[[[293.0, 416.0], [738.0, 416.0], [738.0, 436.0], [293.0, 436.0]], ('帮助老师批改客观题、简答题、口算、英语作文等题目', 0.9994742274284363)]\n",
      "[[[71.0, 455.0], [164.0, 455.0], [164.0, 473.0], [71.0, 473.0]], ('个性化答疑', 0.9982916116714478)]\n",
      "[[[291.0, 452.0], [852.0, 447.0], [853.0, 472.0], [291.0, 476.0]], ('针对学生疑问模仿人类行为模式与其智影化沟通提供个性化解答记', 0.9660314917564392)]\n"
     ]
    }
   ],
   "source": [
    "img_path = './imgs/12.jpg'\n",
    "result = ocr.ocr(img_path, cls=True)\n",
    "for idx in range(len(result)):\n",
    "    res = result[idx]\n",
    "    for line in res:\n",
    "        print(line)"
   ]
  },
  {
   "cell_type": "code",
   "execution_count": null,
   "id": "2effc734-877d-41c0-86ff-a1cd09a00382",
   "metadata": {},
   "outputs": [],
   "source": []
  },
  {
   "cell_type": "code",
   "execution_count": null,
   "id": "2621cf1e-e048-4aca-9cec-271f53e14a1f",
   "metadata": {},
   "outputs": [],
   "source": []
  },
  {
   "cell_type": "code",
   "execution_count": null,
   "id": "598aa256-79ef-4a35-a0e9-1ff74e411db7",
   "metadata": {},
   "outputs": [],
   "source": []
  }
 ],
 "metadata": {
  "kernelspec": {
   "display_name": "paddle",
   "language": "python",
   "name": "paddle"
  },
  "language_info": {
   "codemirror_mode": {
    "name": "ipython",
    "version": 3
   },
   "file_extension": ".py",
   "mimetype": "text/x-python",
   "name": "python",
   "nbconvert_exporter": "python",
   "pygments_lexer": "ipython3",
   "version": "3.9.6"
  }
 },
 "nbformat": 4,
 "nbformat_minor": 5
}
