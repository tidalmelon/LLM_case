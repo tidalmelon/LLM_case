{
 "cells": [
  {
   "cell_type": "markdown",
   "id": "eb635e0a-fe9b-43c8-828c-7c353c5a54c0",
   "metadata": {},
   "source": [
    "## 提前停止"
   ]
  },
  {
   "cell_type": "markdown",
   "id": "2373d554-aae1-43f9-bae6-9fba097c1bbf",
   "metadata": {},
   "source": [
    "### 加载模型"
   ]
  },
  {
   "cell_type": "code",
   "execution_count": 1,
   "id": "41d9c156-19d5-450e-99d2-576e19ff0f06",
   "metadata": {},
   "outputs": [],
   "source": [
    "from transformers import AutoModel, AutoTokenizer"
   ]
  },
  {
   "cell_type": "code",
   "execution_count": 2,
   "id": "cdfe1ef3-dfd6-4e4e-9fc8-9eb381127dbe",
   "metadata": {},
   "outputs": [
    {
     "data": {
      "application/vnd.jupyter.widget-view+json": {
       "model_id": "9f661f89681c4189ac3acb8665a7e414",
       "version_major": 2,
       "version_minor": 0
      },
      "text/plain": [
       "Loading checkpoint shards:   0%|          | 0/7 [00:00<?, ?it/s]"
      ]
     },
     "metadata": {},
     "output_type": "display_data"
    }
   ],
   "source": [
    "model_dir = '/root/.cache/huggingface/hub/THUDM/chatglm2-6b-32k'\n",
    "tokenizer = AutoTokenizer.from_pretrained(model_dir, trust_remote_code=True)\n",
    "model = AutoModel.from_pretrained(model_dir, trust_remote_code=True).quantize(8).half().cuda()"
   ]
  },
  {
   "cell_type": "code",
   "execution_count": null,
   "id": "bfb3b9f9-75ce-4623-92aa-d14366819926",
   "metadata": {},
   "outputs": [],
   "source": []
  },
  {
   "cell_type": "code",
   "execution_count": 6,
   "id": "9d01f873-4623-4c97-9841-c48849d88e8a",
   "metadata": {},
   "outputs": [],
   "source": [
    "model = model.eval()"
   ]
  },
  {
   "cell_type": "code",
   "execution_count": null,
   "id": "1c1c4f81-6b5e-4068-b767-78c92f994a59",
   "metadata": {},
   "outputs": [],
   "source": []
  },
  {
   "cell_type": "code",
   "execution_count": null,
   "id": "27520ce0-7996-4d60-b10e-32d1baec2121",
   "metadata": {},
   "outputs": [],
   "source": []
  },
  {
   "cell_type": "code",
   "execution_count": null,
   "id": "43211821-89c6-4361-8278-b29b14ff1f68",
   "metadata": {},
   "outputs": [],
   "source": []
  },
  {
   "cell_type": "code",
   "execution_count": null,
   "id": "740418f5-cfcc-4be4-b70c-05e849df2d0d",
   "metadata": {},
   "outputs": [],
   "source": []
  },
  {
   "cell_type": "code",
   "execution_count": 3,
   "id": "32600256-e5f5-40f4-98d8-cab551a343ce",
   "metadata": {},
   "outputs": [],
   "source": [
    "history = []\n",
    "response, history = model.chat(tokenizer, \"晚上睡不着应该怎么办\", history=history)"
   ]
  },
  {
   "cell_type": "code",
   "execution_count": null,
   "id": "85455a63-7b41-4173-9110-5aa7a48de8bd",
   "metadata": {},
   "outputs": [],
   "source": []
  },
  {
   "cell_type": "code",
   "execution_count": 4,
   "id": "1ec496c5-95d4-4d82-a679-e7689f9fa9e6",
   "metadata": {},
   "outputs": [
    {
     "name": "stdout",
     "output_type": "stream",
     "text": [
      "以下是一些有助于晚上入睡的技巧:\n",
      "\n",
      "1. 制定规律的睡眠时间表:保持规律的睡眠时间表可以帮助身体调整并期待特定的睡眠时间。\n",
      "\n",
      "2. 创造一个舒适的睡眠环境:确保卧室安静、黑暗、凉爽、舒适,床垫、枕头舒适,保证睡眠环境符合个人喜好。\n",
      "\n",
      "3. 避免刺激性物质:避免饮用含咖啡因的饮料、避免喝酒、避免吸烟等刺激性物质,这些物质会影响睡眠质量。\n",
      "\n",
      "4. 放松身体:使用放松技巧,如深呼吸、渐进性肌肉松弛、瑜伽等,帮助身体放松并减少压力。\n",
      "\n",
      "5. 避免在床上使用电子产品:避免在床上使用电子产品,如手机、平板电脑等,这些设备会发出蓝光,影响身体放松和睡眠。\n",
      "\n",
      "6. 远离刺激性活动:避免在睡前进行刺激性活动,如剧烈运动、看紧张刺激的电影等。\n",
      "\n",
      "7. 采用睡前习惯:采用一些有助于入睡的睡前习惯,如读书、听轻柔的音乐、洗澡等。\n",
      "\n",
      "如果这些方法不能解决您的问题,可以尝试寻求专业帮助。\n"
     ]
    }
   ],
   "source": [
    "print(response)"
   ]
  },
  {
   "cell_type": "code",
   "execution_count": null,
   "id": "c15e22b3-3236-4167-bbec-3418fce974e1",
   "metadata": {},
   "outputs": [],
   "source": []
  },
  {
   "cell_type": "markdown",
   "id": "e0cedfff-e0a5-4fa4-a782-1c1b8363ea97",
   "metadata": {},
   "source": [
    "### Stop Criteria & 停止标准\n",
    "\n",
    "> 假设我不需要这么多的回答， 我希望提前停止"
   ]
  },
  {
   "cell_type": "code",
   "execution_count": 13,
   "id": "3277a274-930c-4a04-b057-e59fd09ce646",
   "metadata": {},
   "outputs": [],
   "source": [
    "from transformers.generation.stopping_criteria import StoppingCriteria, StoppingCriteriaList, \\\n",
    "                        STOPPING_CRITERIA_INPUTS_DOCSTRING, add_start_docstrings\n",
    "import torch\n",
    "\n",
    "from typing import List"
   ]
  },
  {
   "cell_type": "code",
   "execution_count": null,
   "id": "1c026cb1-13d2-495c-8906-367680da706a",
   "metadata": {},
   "outputs": [],
   "source": []
  },
  {
   "cell_type": "code",
   "execution_count": 7,
   "id": "ac981476-82e3-4e71-b76a-a13b9c043204",
   "metadata": {},
   "outputs": [
    {
     "name": "stdout",
     "output_type": "stream",
     "text": [
      "\n",
      "    Args:\n",
      "        input_ids (`torch.LongTensor` of shape `(batch_size, sequence_length)`):\n",
      "            Indices of input sequence tokens in the vocabulary.\n",
      "\n",
      "            Indices can be obtained using [`BertTokenizer`]. See [`PreTrainedTokenizer.encode`] and\n",
      "            [`PreTrainedTokenizer.__call__`] for details.\n",
      "\n",
      "            [What are input IDs?](../glossary#input-ids)\n",
      "        scores (`torch.FloatTensor` of shape `(batch_size, config.vocab_size)`):\n",
      "            Prediction scores of a language modeling head. These can be scores for each vocabulary token before SoftMax\n",
      "            or scores for each vocabulary token after SoftMax.\n",
      "        kwargs:\n",
      "            Additional stopping criteria specific kwargs.\n",
      "\n",
      "    Return:\n",
      "        `bool`. `False` indicates we should continue, `True` indicates we should stop.\n",
      "\n",
      "\n"
     ]
    }
   ],
   "source": [
    "print(STOPPING_CRITERIA_INPUTS_DOCSTRING)"
   ]
  },
  {
   "cell_type": "markdown",
   "id": "69064e26-e102-4624-85de-158220451e8e",
   "metadata": {},
   "source": [
    "> * `StoppingCriteriaList` 是一个容器， 需要将所有的`criteria`都添加到其中，generate时传入的是这个容器.<br>\n",
    "> *  `StoppingCriteria`是基础类， 自定义的`critieria`继承这个基础类"
   ]
  },
  {
   "cell_type": "markdown",
   "id": "297ada5a-e795-438e-a955-39d2a40c29f6",
   "metadata": {},
   "source": [
    "### 自定义Criteria"
   ]
  },
  {
   "cell_type": "code",
   "execution_count": 14,
   "id": "61fb85d2-78ca-44e2-8711-65ac1f9c537d",
   "metadata": {},
   "outputs": [],
   "source": [
    "class StopAtSpecificTokenCriteria(StoppingCriteria):\n",
    "    \"\"\"\n",
    "    当生成第一个指定Token时，立即停止生成\n",
    "    \"\"\"\n",
    "    \n",
    "    def __init__(self, token_id_list: List[int] = None):\n",
    "        self.token_id_list = token_id_list\n",
    "        \n",
    "    @add_start_docstrings(STOPPING_CRITERIA_INPUTS_DOCSTRING)\n",
    "    def __call__(self, input_ids: torch.LongTensor, scores: torch.FloatTensor, **kwargs) -> bool:\n",
    "        # return np.argmax(scores[-1].detach().cpu().numpy() in slef.token_id_list\n",
    "        # 存储scores会额外占用资源，所以直接用input_ids进行判断\n",
    "        return input_ids[0][-1].detach().cpu().numpy() in self.token_id_list"
   ]
  },
  {
   "cell_type": "code",
   "execution_count": null,
   "id": "295fb618-663f-47fe-a22d-775ce52dc7e8",
   "metadata": {},
   "outputs": [],
   "source": []
  },
  {
   "cell_type": "code",
   "execution_count": 9,
   "id": "4ccdd89b-6196-47f8-88cd-f7ed3b5d931e",
   "metadata": {},
   "outputs": [
    {
     "data": {
      "text/plain": [
       "[30954]"
      ]
     },
     "execution_count": 9,
     "metadata": {},
     "output_type": "execute_result"
    }
   ],
   "source": [
    "tokenizer.convert_tokens_to_ids([':'])"
   ]
  },
  {
   "cell_type": "code",
   "execution_count": 11,
   "id": "1a1f4725-23e8-4b7f-80c5-1d7c26fb4447",
   "metadata": {},
   "outputs": [
    {
     "data": {
      "text/plain": [
       "[':']"
      ]
     },
     "execution_count": 11,
     "metadata": {},
     "output_type": "execute_result"
    }
   ],
   "source": [
    "tokenizer.convert_ids_to_tokens([30954])"
   ]
  },
  {
   "cell_type": "code",
   "execution_count": null,
   "id": "54753eb1-5059-4d8a-b863-6f58f7d993bb",
   "metadata": {},
   "outputs": [],
   "source": []
  },
  {
   "cell_type": "code",
   "execution_count": 15,
   "id": "1710b2b5-7e34-4017-b79c-ecce64556c3b",
   "metadata": {},
   "outputs": [],
   "source": [
    "stopping_criteria = StoppingCriteriaList()\n",
    "stopping_criteria.append(StopAtSpecificTokenCriteria(token_id_list=[30954]))"
   ]
  },
  {
   "cell_type": "code",
   "execution_count": null,
   "id": "381a2700-fc2a-4471-a8e0-481d08c63678",
   "metadata": {},
   "outputs": [],
   "source": []
  },
  {
   "cell_type": "code",
   "execution_count": null,
   "id": "39e36bb5-ac63-4522-b780-7488ab5f3037",
   "metadata": {},
   "outputs": [],
   "source": []
  },
  {
   "cell_type": "code",
   "execution_count": 17,
   "id": "459e51ef-556e-4cc9-9ac8-586a0bfb2eea",
   "metadata": {},
   "outputs": [
    {
     "name": "stderr",
     "output_type": "stream",
     "text": [
      "Generate config GenerationConfig {\n",
      "  \"_from_model_config\": true,\n",
      "  \"eos_token_id\": 2,\n",
      "  \"pad_token_id\": 0,\n",
      "  \"transformers_version\": \"4.30.2\"\n",
      "}\n",
      "\n"
     ]
    }
   ],
   "source": [
    "history = []\n",
    "response, history = model.chat(tokenizer, \"晚上睡不着应该怎么办\", history=history, stopping_criteria=stopping_criteria)"
   ]
  },
  {
   "cell_type": "code",
   "execution_count": 18,
   "id": "ae528d61-dae3-47eb-8ecc-f273b6f614b9",
   "metadata": {},
   "outputs": [
    {
     "name": "stdout",
     "output_type": "stream",
     "text": [
      "以下时是一些有助于晚上入睡的方法:\n"
     ]
    }
   ],
   "source": [
    "print(response)"
   ]
  },
  {
   "cell_type": "markdown",
   "id": "b9fc68ca-96e3-4ed4-bbac-2a6d2e239d4d",
   "metadata": {},
   "source": [
    "### 结论\n",
    "\n",
    "> 模型遇到\":\" 就不再继续浪费资源生成了。"
   ]
  },
  {
   "cell_type": "code",
   "execution_count": null,
   "id": "1eb822e5-f930-400e-bf22-623b745d28f3",
   "metadata": {},
   "outputs": [],
   "source": []
  },
  {
   "cell_type": "code",
   "execution_count": 19,
   "id": "9f7467a5-a280-4183-a4a9-1681bc87333c",
   "metadata": {},
   "outputs": [
    {
     "name": "stdout",
     "output_type": "stream",
     "text": [
      "晚上睡不着觉可能会让人感到非常不舒服,可以尝试以下一些方法来帮助入睡:\n"
     ]
    }
   ],
   "source": [
    "from IPython.display import display, clear_output\n",
    "history = []\n",
    "for reponse, history in model.stream_chat(tokenizer=tokenizer, query=\"晚上睡不着应该怎么办\", history=history, stopping_criteria=stopping_criteria):\n",
    "    clear_output(wait=True)\n",
    "    print(reponse)"
   ]
  },
  {
   "cell_type": "code",
   "execution_count": null,
   "id": "a22f0a8b-c2fe-4395-aee8-66774d356b25",
   "metadata": {},
   "outputs": [],
   "source": []
  }
 ],
 "metadata": {
  "kernelspec": {
   "display_name": "chatglm26b",
   "language": "python",
   "name": "chatglm26b"
  },
  "language_info": {
   "codemirror_mode": {
    "name": "ipython",
    "version": 3
   },
   "file_extension": ".py",
   "mimetype": "text/x-python",
   "name": "python",
   "nbconvert_exporter": "python",
   "pygments_lexer": "ipython3",
   "version": "3.9.6"
  }
 },
 "nbformat": 4,
 "nbformat_minor": 5
}
