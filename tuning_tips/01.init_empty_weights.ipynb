{
 "cells": [
  {
   "cell_type": "markdown",
   "id": "aad3a5d2-4420-4fec-8bb0-c9495afcc851",
   "metadata": {},
   "source": [
    "[source](https://zhuanlan.zhihu.com/p/641235650)"
   ]
  },
  {
   "cell_type": "code",
   "execution_count": 7,
   "id": "56a578a1-3146-42ac-9d4c-83d9d4b07741",
   "metadata": {},
   "outputs": [],
   "source": [
    "from accelerate.utils import get_balanced_memory, infer_auto_device_map, find_tied_parameters\n",
    "from accelerate import init_empty_weights, load_checkpoint_and_dispatch\n",
    "from accelerate import dispatch_model\n",
    "\n",
    "from transformers import AutoTokenizer, AutoModel, AutoConfig"
   ]
  },
  {
   "cell_type": "code",
   "execution_count": 12,
   "id": "a94e7a18-6fc9-4d01-a4d6-f0e8733a4759",
   "metadata": {},
   "outputs": [],
   "source": [
    "import torch\n",
    "import torch.nn as nn\n",
    "from collections import OrderedDict"
   ]
  },
  {
   "cell_type": "code",
   "execution_count": 3,
   "id": "1ca275f9-2e58-45bc-8115-b446efbcb87f",
   "metadata": {},
   "outputs": [
    {
     "data": {
      "text/plain": [
       "tensor([[False, False, False, False],\n",
       "        [False, False, False, False],\n",
       "        [False, False, False, False],\n",
       "        [False, False, False, False]])"
      ]
     },
     "execution_count": 3,
     "metadata": {},
     "output_type": "execute_result"
    }
   ],
   "source": [
    "model = nn.Sequential(OrderedDict([(\"linear1\", nn.Linear(4, 4)), (\"linear2\", nn.Linear(4, 4))]))\n",
    "model.linear2.weight == model.linear1.weight"
   ]
  },
  {
   "cell_type": "code",
   "execution_count": 4,
   "id": "6dcfa288-2bb9-42f0-8e87-0d8b20150f90",
   "metadata": {},
   "outputs": [
    {
     "name": "stdout",
     "output_type": "stream",
     "text": [
      "[]\n"
     ]
    }
   ],
   "source": [
    "print(find_tied_parameters(model))"
   ]
  },
  {
   "cell_type": "code",
   "execution_count": 5,
   "id": "5673d323-1ef3-4875-91a0-33980444efbe",
   "metadata": {},
   "outputs": [],
   "source": [
    "model.linear2.weight = model.linear1.weight"
   ]
  },
  {
   "cell_type": "code",
   "execution_count": 6,
   "id": "240cc132-e8ba-45a6-a507-0e0fdc83f420",
   "metadata": {},
   "outputs": [
    {
     "name": "stdout",
     "output_type": "stream",
     "text": [
      "[['linear1.weight', 'linear2.weight']]\n"
     ]
    }
   ],
   "source": [
    "print(find_tied_parameters(model))"
   ]
  },
  {
   "cell_type": "markdown",
   "id": "916a7998-dc59-452b-8b69-98c261c391ab",
   "metadata": {},
   "source": [
    "### 不加载权重，仅加载模型结构"
   ]
  },
  {
   "cell_type": "code",
   "execution_count": 8,
   "id": "ab3ef5ad-b651-4b95-9132-e34345ef0123",
   "metadata": {},
   "outputs": [],
   "source": [
    "model_path = '/root/.cache/huggingface/hub/THUDM/chatglm2-6b-32k'"
   ]
  },
  {
   "cell_type": "code",
   "execution_count": 9,
   "id": "ffffab15-e821-4d00-a878-f034831de04d",
   "metadata": {},
   "outputs": [],
   "source": [
    "config = AutoConfig.from_pretrained(model_path, trust_remote_code=True)"
   ]
  },
  {
   "cell_type": "code",
   "execution_count": 10,
   "id": "f6c932e7-6d6e-4c9a-99d4-b884ad7a4932",
   "metadata": {},
   "outputs": [],
   "source": [
    "with init_empty_weights():\n",
    "   model = AutoModel.from_config(config, trust_remote_code=True)"
   ]
  },
  {
   "cell_type": "markdown",
   "id": "fcb0586e-34ae-4e68-aa7e-9ff37cfdf563",
   "metadata": {},
   "source": [
    "优点：<br>\n",
    "1. <font color=blue>使用 init_empty_weights()，不消耗显存和内存，没有加载权重耗时，方便查看模型结构和模型参数。</font>\n",
    "\n",
    "2. <font color=blue>方便之后动态计算 device_map 和 max_memory</font>"
   ]
  },
  {
   "cell_type": "code",
   "execution_count": 13,
   "id": "20c351f4-2b08-479c-90e1-4bda202c7bf6",
   "metadata": {},
   "outputs": [],
   "source": [
    "model.tie_weights()\n",
    "device_map = infer_auto_device_map(model, dtype=torch.int8, no_split_module_classes=model._no_split_modules)\n",
    "max_memory =  get_balanced_memory(model)"
   ]
  },
  {
   "cell_type": "code",
   "execution_count": null,
   "id": "d391ee97-ae8f-4cd8-a706-b738d6bfc757",
   "metadata": {},
   "outputs": [],
   "source": []
  },
  {
   "cell_type": "code",
   "execution_count": 14,
   "id": "fb28f9d8-e749-42d8-9ff0-d14e868436bb",
   "metadata": {},
   "outputs": [
    {
     "data": {
      "text/plain": [
       "{'transformer': 0}"
      ]
     },
     "execution_count": 14,
     "metadata": {},
     "output_type": "execute_result"
    }
   ],
   "source": [
    "device_map"
   ]
  },
  {
   "cell_type": "code",
   "execution_count": null,
   "id": "bd318dbd-1a77-4598-bc65-f9c511b6049d",
   "metadata": {},
   "outputs": [],
   "source": []
  },
  {
   "cell_type": "code",
   "execution_count": 15,
   "id": "84249894-c766-459e-8068-007200cc3a9c",
   "metadata": {},
   "outputs": [
    {
     "data": {
      "text/plain": [
       "{0: 11240747827.2, 'cpu': 64275992576}"
      ]
     },
     "execution_count": 15,
     "metadata": {},
     "output_type": "execute_result"
    }
   ],
   "source": [
    "max_memory"
   ]
  },
  {
   "cell_type": "code",
   "execution_count": null,
   "id": "8cbc7e74-d583-4e9e-8ca8-fb2e059a5ab0",
   "metadata": {},
   "outputs": [],
   "source": []
  },
  {
   "cell_type": "markdown",
   "id": "4cb378cc-3221-4aba-b33c-528aeee9e468",
   "metadata": {},
   "source": [
    "### 正常加载权重"
   ]
  },
  {
   "cell_type": "code",
   "execution_count": 16,
   "id": "18199843-030b-40b0-b83a-edd35ad966e7",
   "metadata": {},
   "outputs": [],
   "source": [
    "# model = AutoModelForCausalLM.from_pretrained(\n",
    "#     pretrained_model_name_or_path=model_path,\n",
    "#     load_in_8bit=load_in_8bit,\n",
    "#     torch_dtype=torch.float16,\n",
    "#     device_map='auto',\n",
    "#     trust_remote_code=True)"
   ]
  },
  {
   "cell_type": "code",
   "execution_count": null,
   "id": "c3b57365-ed74-47c7-86ca-a5f35e9e023e",
   "metadata": {},
   "outputs": [],
   "source": []
  }
 ],
 "metadata": {
  "kernelspec": {
   "display_name": "chatglm26b",
   "language": "python",
   "name": "chatglm26b"
  },
  "language_info": {
   "codemirror_mode": {
    "name": "ipython",
    "version": 3
   },
   "file_extension": ".py",
   "mimetype": "text/x-python",
   "name": "python",
   "nbconvert_exporter": "python",
   "pygments_lexer": "ipython3",
   "version": "3.9.6"
  }
 },
 "nbformat": 4,
 "nbformat_minor": 5
}
