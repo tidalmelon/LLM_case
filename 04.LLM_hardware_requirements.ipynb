{
 "cells": [
  {
   "cell_type": "markdown",
   "id": "25797032-9c3c-43da-a786-194aa012aceb",
   "metadata": {},
   "source": [
    "### ChatGLM2-6b-32k多轮对话<br>\n",
    "\n",
    "|量化等级 |推理时 <br> GPU显存占用 | 高效微调<br> GPU显存占用 |最低配置显卡 | 显卡显存 | 购买硬件成本| \n",
    "|---|---|---|---|---|---|\n",
    "| 全精度  | 30G  | 22G  | 3090双卡  |  48G | 8500*2  | \n",
    "| 半精度  | 20G  | 14G  |  3090 | 24G  | 8500  | \n",
    "| INT8  | 12G  | 9G  | 3080ti  | 12G  | 4200  | \n",
    "| INT4  | 10G  |  7G |  2080ti | 11G  |  2200 | "
   ]
  },
  {
   "cell_type": "markdown",
   "id": "611ea869-a87f-4f28-a1f8-0afbff2ca5af",
   "metadata": {},
   "source": [
    "> 双卡GPU升级路线: 3090->4090->A100 40G -> A100 80G<br>\n",
    "> 4090的运算速度是3090的2倍"
   ]
  },
  {
   "cell_type": "markdown",
   "id": "780d03a7-4621-48f2-97f6-386bf673e53a",
   "metadata": {},
   "source": [
    "> <font color=red>大模型全量微调至少需要: 4张80GA100显卡 </font>"
   ]
  },
  {
   "cell_type": "code",
   "execution_count": null,
   "id": "b5d3577e-303c-4fdc-ba1e-b7d341d58e86",
   "metadata": {},
   "outputs": [],
   "source": []
  },
  {
   "cell_type": "markdown",
   "id": "0a2988de-32a6-41a8-90db-ce1e45579690",
   "metadata": {},
   "source": [
    "### Llama2 <br>\n",
    "\n",
    "|量化等级 |7B | 13B |70B | \n",
    "|---|---|---|---|\n",
    "| 全精度  | 28G  | 52G  | 280G  | \n",
    "| 半精度  | 14G  | 26G  |  140G | \n",
    "| INT8  | 7G  | 13G  | 70G  | \n",
    "| INT4  | 3.5  |  6.5 |  35G | "
   ]
  },
  {
   "cell_type": "code",
   "execution_count": null,
   "id": "c80e976d-1297-42bd-83da-79a1a7f37370",
   "metadata": {},
   "outputs": [],
   "source": []
  },
  {
   "cell_type": "code",
   "execution_count": null,
   "id": "d1f86c74-7f93-4bb6-acb2-c70163c1dc76",
   "metadata": {},
   "outputs": [],
   "source": []
  },
  {
   "cell_type": "code",
   "execution_count": null,
   "id": "0cc54fef-ab8c-4fa4-9c39-0946ff9f09c0",
   "metadata": {},
   "outputs": [],
   "source": []
  },
  {
   "cell_type": "code",
   "execution_count": null,
   "id": "b36e15d1-edc7-4f0b-afd8-e8f4b510b192",
   "metadata": {},
   "outputs": [],
   "source": []
  },
  {
   "cell_type": "code",
   "execution_count": null,
   "id": "11cde550-7a6c-45f6-bdad-98a2d613781a",
   "metadata": {},
   "outputs": [],
   "source": []
  },
  {
   "cell_type": "code",
   "execution_count": null,
   "id": "c9d0828f-4280-411b-a2cf-9da4811b6b8f",
   "metadata": {},
   "outputs": [],
   "source": []
  },
  {
   "cell_type": "code",
   "execution_count": null,
   "id": "48e479d5-4ca0-4bce-abd1-08c314a725a8",
   "metadata": {},
   "outputs": [],
   "source": []
  },
  {
   "cell_type": "code",
   "execution_count": null,
   "id": "0c97298d-bf2a-4b6f-9bb4-bb10f09a1c60",
   "metadata": {},
   "outputs": [],
   "source": []
  },
  {
   "cell_type": "code",
   "execution_count": null,
   "id": "1e003cd0-3c9b-4a94-a170-b53ef1fc0a89",
   "metadata": {},
   "outputs": [],
   "source": []
  },
  {
   "cell_type": "code",
   "execution_count": null,
   "id": "5836928f-2576-4eab-81f6-49b7a6471d3d",
   "metadata": {},
   "outputs": [],
   "source": []
  },
  {
   "cell_type": "code",
   "execution_count": null,
   "id": "96f0aaf7-76de-4db5-8985-6b72a5c7c00a",
   "metadata": {},
   "outputs": [],
   "source": []
  },
  {
   "cell_type": "code",
   "execution_count": null,
   "id": "38ca8d18-09e1-427b-bed3-b9ddd8c0c36c",
   "metadata": {},
   "outputs": [],
   "source": []
  },
  {
   "cell_type": "code",
   "execution_count": null,
   "id": "c5daf2af-97a7-4e37-88d1-9e1bab399f2c",
   "metadata": {},
   "outputs": [],
   "source": []
  },
  {
   "cell_type": "code",
   "execution_count": null,
   "id": "446e853c-5198-40f3-8a94-6eadb07cac43",
   "metadata": {},
   "outputs": [],
   "source": []
  },
  {
   "cell_type": "code",
   "execution_count": null,
   "id": "67480c52-1225-4d26-9d0a-c1e943aae177",
   "metadata": {},
   "outputs": [],
   "source": []
  },
  {
   "cell_type": "code",
   "execution_count": null,
   "id": "f4029087-af8f-4372-8423-f59ec47beb4d",
   "metadata": {},
   "outputs": [],
   "source": []
  },
  {
   "cell_type": "code",
   "execution_count": null,
   "id": "fcc1ac81-9b7b-4c41-a2b5-042b01943d10",
   "metadata": {},
   "outputs": [],
   "source": []
  },
  {
   "cell_type": "code",
   "execution_count": null,
   "id": "8016b83e-719a-41bf-8941-5e461103ad72",
   "metadata": {},
   "outputs": [],
   "source": []
  },
  {
   "cell_type": "code",
   "execution_count": null,
   "id": "9940ff34-36b2-49eb-8003-e5625dd370af",
   "metadata": {},
   "outputs": [],
   "source": []
  },
  {
   "cell_type": "code",
   "execution_count": null,
   "id": "814c2a66-57b6-40b7-9cb2-efca8853d341",
   "metadata": {},
   "outputs": [],
   "source": []
  },
  {
   "cell_type": "code",
   "execution_count": null,
   "id": "8587bcef-08cd-4e0f-90f7-5d3d8202edac",
   "metadata": {},
   "outputs": [],
   "source": []
  },
  {
   "cell_type": "code",
   "execution_count": null,
   "id": "135f30e4-378d-4b33-9334-40eccaaff319",
   "metadata": {},
   "outputs": [],
   "source": []
  },
  {
   "cell_type": "code",
   "execution_count": null,
   "id": "2a68f623-fa54-461a-9080-19a268071e7f",
   "metadata": {},
   "outputs": [],
   "source": []
  },
  {
   "cell_type": "code",
   "execution_count": null,
   "id": "9f712be3-42ba-47aa-a874-0b6f4cc627e6",
   "metadata": {},
   "outputs": [],
   "source": []
  },
  {
   "cell_type": "code",
   "execution_count": null,
   "id": "f5d2888f-5416-4cf5-b797-ad12fec34926",
   "metadata": {},
   "outputs": [],
   "source": []
  },
  {
   "cell_type": "code",
   "execution_count": null,
   "id": "c4ab3ff7-6441-4d82-94c6-5c764c4e02df",
   "metadata": {},
   "outputs": [],
   "source": []
  },
  {
   "cell_type": "code",
   "execution_count": null,
   "id": "83f95ccd-2390-4fa8-b1f4-be5f7e2026e4",
   "metadata": {},
   "outputs": [],
   "source": []
  },
  {
   "cell_type": "code",
   "execution_count": null,
   "id": "5a7cb27e-3fc2-4c72-9551-956812dd1138",
   "metadata": {},
   "outputs": [],
   "source": []
  },
  {
   "cell_type": "code",
   "execution_count": null,
   "id": "3633655e-226e-4af4-9e3e-13b36c18796f",
   "metadata": {},
   "outputs": [],
   "source": []
  },
  {
   "cell_type": "code",
   "execution_count": null,
   "id": "89909541-c4cd-4b75-a50a-fd06dcb5cde8",
   "metadata": {},
   "outputs": [],
   "source": []
  },
  {
   "cell_type": "code",
   "execution_count": null,
   "id": "e5ff95a9-547f-4f05-8f78-6c1ead183e2d",
   "metadata": {},
   "outputs": [],
   "source": []
  },
  {
   "cell_type": "code",
   "execution_count": null,
   "id": "cc40f4d7-5837-4e14-9707-dc9d957ba0d5",
   "metadata": {},
   "outputs": [],
   "source": []
  },
  {
   "cell_type": "code",
   "execution_count": null,
   "id": "3cb754b6-b52d-4a91-95b0-fe39b8308cce",
   "metadata": {},
   "outputs": [],
   "source": []
  },
  {
   "cell_type": "code",
   "execution_count": null,
   "id": "27767e73-6275-491f-a174-5eb855ebecb6",
   "metadata": {},
   "outputs": [],
   "source": []
  },
  {
   "cell_type": "code",
   "execution_count": null,
   "id": "9ecdd830-519e-4ad2-985b-79766a55f191",
   "metadata": {},
   "outputs": [],
   "source": []
  },
  {
   "cell_type": "code",
   "execution_count": null,
   "id": "90300ba5-6468-4f2d-a8dd-4e30d7d24347",
   "metadata": {},
   "outputs": [],
   "source": []
  },
  {
   "cell_type": "code",
   "execution_count": null,
   "id": "54689bd8-6454-4fe2-8cbf-86447182f829",
   "metadata": {},
   "outputs": [],
   "source": []
  }
 ],
 "metadata": {
  "environment": {
   "kernel": "conda-env-preventloss-py",
   "name": "pytorch-gpu.1-13.m105",
   "type": "gcloud",
   "uri": "gcr.io/deeplearning-platform-release/pytorch-gpu.1-13:m105"
  },
  "kernelspec": {
   "display_name": "chatglm26b",
   "language": "python",
   "name": "chatglm26b"
  },
  "language_info": {
   "codemirror_mode": {
    "name": "ipython",
    "version": 3
   },
   "file_extension": ".py",
   "mimetype": "text/x-python",
   "name": "python",
   "nbconvert_exporter": "python",
   "pygments_lexer": "ipython3",
   "version": "3.9.6"
  }
 },
 "nbformat": 4,
 "nbformat_minor": 5
}
