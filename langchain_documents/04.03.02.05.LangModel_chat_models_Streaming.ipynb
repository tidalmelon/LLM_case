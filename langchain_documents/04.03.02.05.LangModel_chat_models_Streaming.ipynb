{
 "cells": [
  {
   "cell_type": "code",
   "execution_count": null,
   "id": "1cf447e2-977d-4940-98b8-251198ea4455",
   "metadata": {},
   "outputs": [],
   "source": []
  },
  {
   "cell_type": "code",
   "execution_count": null,
   "id": "25594570-f418-4495-a14d-ef3622415a62",
   "metadata": {},
   "outputs": [],
   "source": []
  },
  {
   "cell_type": "code",
   "execution_count": null,
   "id": "5d45c865-1367-4eaa-a8b7-213c01153c99",
   "metadata": {},
   "outputs": [],
   "source": []
  },
  {
   "cell_type": "code",
   "execution_count": 1,
   "id": "4436c86f-dc8d-482d-a1d8-bacf2dcec0fd",
   "metadata": {
    "tags": []
   },
   "outputs": [],
   "source": [
    "from langchain.chat_models import ChatOpenAI\n",
    "from langchain.schema import (\n",
    "    HumanMessage,\n",
    ")"
   ]
  },
  {
   "cell_type": "code",
   "execution_count": null,
   "id": "4636946d-d12b-44b7-a50a-6ea184d58d45",
   "metadata": {},
   "outputs": [],
   "source": []
  },
  {
   "cell_type": "code",
   "execution_count": 2,
   "id": "baf7d2b5-b81c-4815-8671-c968002668e9",
   "metadata": {
    "tags": []
   },
   "outputs": [],
   "source": [
    "from langchain.callbacks.streaming_stdout import StreamingStdOutCallbackHandler"
   ]
  },
  {
   "cell_type": "code",
   "execution_count": null,
   "id": "327e3d5a-797c-4b36-9885-26e9a1a66cd5",
   "metadata": {},
   "outputs": [],
   "source": []
  },
  {
   "cell_type": "code",
   "execution_count": 4,
   "id": "e4eb06d6-645a-48a3-abbf-cc25e3a91387",
   "metadata": {
    "tags": []
   },
   "outputs": [],
   "source": [
    "chat = ChatOpenAI(streaming=True, callbacks=[StreamingStdOutCallbackHandler()], temperature=0)"
   ]
  },
  {
   "cell_type": "code",
   "execution_count": 5,
   "id": "e6445609-8e6c-4b03-9401-29496d7199c3",
   "metadata": {
    "tags": []
   },
   "outputs": [
    {
     "name": "stdout",
     "output_type": "stream",
     "text": [
      "(Verse 1)\n",
      "In a world of thirst, where the sun shines bright,\n",
      "There's a drink that brings delight, day or night.\n",
      "Bubbles dancing, effervescent delight,\n",
      "It's the magic in a bottle, sparkling water's light.\n",
      "\n",
      "(Chorus)\n",
      "Oh, sparkling water, you're a refreshing dream,\n",
      "A symphony of bubbles, like stars that gleam.\n",
      "With every sip, you take me higher,\n",
      "Oh, sparkling water, you're my sparkling desire.\n",
      "\n",
      "(Verse 2)\n",
      "From the mountains high, where springs do flow,\n",
      "Comes a liquid so pure, a heavenly glow.\n",
      "Crystal clear, like diamonds in the sky,\n",
      "It's the elixir of life, let it satisfy.\n",
      "\n",
      "(Chorus)\n",
      "Oh, sparkling water, you're a refreshing dream,\n",
      "A symphony of bubbles, like stars that gleam.\n",
      "With every sip, you take me higher,\n",
      "Oh, sparkling water, you're my sparkling desire.\n",
      "\n",
      "(Bridge)\n",
      "With a fizz and a pop, you awaken my senses,\n",
      "Quenching my thirst, with no pretenses.\n",
      "A burst of joy, as you tickle my tongue,\n",
      "You're the perfect companion, forever young.\n",
      "\n",
      "(Verse 3)\n",
      "In a world of flavors, you're a sparkling delight,\n",
      "Lemon, lime, or berry, you make everything right.\n",
      "No calories or guilt, just pure hydration,\n",
      "You're the drink of choice, in every situation.\n",
      "\n",
      "(Chorus)\n",
      "Oh, sparkling water, you're a refreshing dream,\n",
      "A symphony of bubbles, like stars that gleam.\n",
      "With every sip, you take me higher,\n",
      "Oh, sparkling water, you're my sparkling desire.\n",
      "\n",
      "(Outro)\n",
      "So raise your glass, let's toast to the fizz,\n",
      "To the joy and the sparkle, that's hard to resist.\n",
      "Oh, sparkling water, you're a gift from above,\n",
      "Forever in my heart, my sparkling love."
     ]
    }
   ],
   "source": [
    "resp = chat([HumanMessage(content=\"Write me a song about sparkling water.\")])"
   ]
  },
  {
   "cell_type": "code",
   "execution_count": null,
   "id": "b728a6c4-57c6-49e1-8f7b-cf73a2e0b301",
   "metadata": {},
   "outputs": [],
   "source": []
  },
  {
   "cell_type": "code",
   "execution_count": null,
   "id": "4118517a-1c7e-4228-a2da-7f2ba535503d",
   "metadata": {},
   "outputs": [],
   "source": []
  },
  {
   "cell_type": "code",
   "execution_count": null,
   "id": "cacf3f85-8ac7-42b8-8e3c-c78eeea3ecd5",
   "metadata": {},
   "outputs": [],
   "source": []
  },
  {
   "cell_type": "code",
   "execution_count": null,
   "id": "f237949c-3deb-4234-860f-627146ee3753",
   "metadata": {},
   "outputs": [],
   "source": []
  },
  {
   "cell_type": "code",
   "execution_count": null,
   "id": "16602cda-ccfb-4e0b-84a9-c7a46da5892b",
   "metadata": {},
   "outputs": [],
   "source": []
  },
  {
   "cell_type": "code",
   "execution_count": null,
   "id": "647e5b05-73eb-4028-8f63-632c30e6f745",
   "metadata": {},
   "outputs": [],
   "source": []
  },
  {
   "cell_type": "code",
   "execution_count": null,
   "id": "39f1aacc-20ba-48e0-9957-64f79850986d",
   "metadata": {},
   "outputs": [],
   "source": []
  },
  {
   "cell_type": "code",
   "execution_count": null,
   "id": "1fe87de7-3ec8-4762-bb50-ad318f0fc511",
   "metadata": {},
   "outputs": [],
   "source": []
  },
  {
   "cell_type": "code",
   "execution_count": null,
   "id": "2475a3e9-23b1-4869-b695-302945bb631e",
   "metadata": {},
   "outputs": [],
   "source": []
  },
  {
   "cell_type": "code",
   "execution_count": null,
   "id": "783448c0-568c-4261-9ab0-837b13412cc7",
   "metadata": {},
   "outputs": [],
   "source": []
  },
  {
   "cell_type": "code",
   "execution_count": null,
   "id": "469f78ab-c856-4219-9cba-e99ac8fe780a",
   "metadata": {},
   "outputs": [],
   "source": []
  },
  {
   "cell_type": "code",
   "execution_count": null,
   "id": "69f63393-1dbe-473c-a69a-c01107572818",
   "metadata": {},
   "outputs": [],
   "source": []
  },
  {
   "cell_type": "code",
   "execution_count": null,
   "id": "8ec176fe-f175-40b7-bd7c-3a2755c898a4",
   "metadata": {},
   "outputs": [],
   "source": []
  },
  {
   "cell_type": "code",
   "execution_count": null,
   "id": "9a7f963a-4272-44f9-a2fb-a668f2731c7c",
   "metadata": {},
   "outputs": [],
   "source": []
  },
  {
   "cell_type": "code",
   "execution_count": null,
   "id": "ab91fde4-90e8-45ca-9a25-6171edf5df64",
   "metadata": {},
   "outputs": [],
   "source": []
  },
  {
   "cell_type": "code",
   "execution_count": null,
   "id": "8f84f52c-b28d-4753-8baa-f65dcf02d5a6",
   "metadata": {},
   "outputs": [],
   "source": []
  },
  {
   "cell_type": "code",
   "execution_count": null,
   "id": "7ede4ec0-5691-4940-8ea1-64e946393bb0",
   "metadata": {},
   "outputs": [],
   "source": []
  },
  {
   "cell_type": "code",
   "execution_count": null,
   "id": "8a4bb032-ad5b-495c-aa20-9e14d2aca075",
   "metadata": {},
   "outputs": [],
   "source": []
  },
  {
   "cell_type": "code",
   "execution_count": null,
   "id": "5b45aa2f-9d07-4c37-914d-bc702d9847d1",
   "metadata": {},
   "outputs": [],
   "source": []
  },
  {
   "cell_type": "code",
   "execution_count": null,
   "id": "320c774b-7fb8-476e-9f2e-5ca84de35371",
   "metadata": {},
   "outputs": [],
   "source": []
  }
 ],
 "metadata": {
  "environment": {
   "kernel": "conda-env-preventloss-py",
   "name": "pytorch-gpu.1-13.m105",
   "type": "gcloud",
   "uri": "gcr.io/deeplearning-platform-release/pytorch-gpu.1-13:m105"
  },
  "kernelspec": {
   "display_name": "chatglm26b",
   "language": "python",
   "name": "chatglm26b"
  },
  "language_info": {
   "codemirror_mode": {
    "name": "ipython",
    "version": 3
   },
   "file_extension": ".py",
   "mimetype": "text/x-python",
   "name": "python",
   "nbconvert_exporter": "python",
   "pygments_lexer": "ipython3",
   "version": "3.9.6"
  }
 },
 "nbformat": 4,
 "nbformat_minor": 5
}
