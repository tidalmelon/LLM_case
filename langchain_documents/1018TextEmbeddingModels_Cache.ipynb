{
 "cells": [
  {
   "cell_type": "markdown",
   "id": "becd437c-ed9b-4f93-b2d1-9ae2e2dd05c0",
   "metadata": {},
   "source": [
    "## Text Embedding Models"
   ]
  },
  {
   "cell_type": "markdown",
   "id": "9424089d-7167-4f5b-b948-599ccd1f9bac",
   "metadata": {},
   "source": [
    "Head to [Integrations](https://python.langchain.com/docs/integrations/text_embedding/) for documentation on built-in integrations with text embedding model providers."
   ]
  },
  {
   "cell_type": "markdown",
   "id": "ed8c599d-773f-4132-bf53-286d9ebcf2be",
   "metadata": {},
   "source": [
    "* The Embeddings class is a class designed for interfacing with text embedding models. \n",
    "> Embedding 类用来与text embedding model 交互的.\n",
    "\n",
    "two interface:<br>\n",
    "\n",
    "1. embedding documents: 这个使用多文本输入\n",
    "\n",
    "2. embedding a query: 这个使用但文本输入\n",
    "\n",
    "之所以使用两个接口,是因为很多embedding provider为查询和向量化提供了不同的方法, 为了方便统一的架构才设计了两个接口."
   ]
  },
  {
   "cell_type": "code",
   "execution_count": null,
   "id": "55841be8-c6f6-44b7-8b15-f48eb98ab566",
   "metadata": {},
   "outputs": [],
   "source": []
  },
  {
   "cell_type": "code",
   "execution_count": null,
   "id": "c236eda2-bb3e-4d81-96a0-8d742a581f91",
   "metadata": {},
   "outputs": [],
   "source": []
  },
  {
   "cell_type": "code",
   "execution_count": null,
   "id": "cd8003c1-3b27-4591-bd62-72d03f35e9eb",
   "metadata": {},
   "outputs": [],
   "source": []
  },
  {
   "cell_type": "code",
   "execution_count": 5,
   "id": "0d01e18a-f973-4c3c-9496-ea4679cf50fe",
   "metadata": {
    "tags": []
   },
   "outputs": [],
   "source": [
    "from langchain.embeddings import OpenAIEmbeddings"
   ]
  },
  {
   "cell_type": "code",
   "execution_count": 18,
   "id": "45c88d77-754e-44e1-80f1-da1564e9629b",
   "metadata": {
    "tags": []
   },
   "outputs": [],
   "source": [
    "embedding_model = OpenAIEmbeddings()"
   ]
  },
  {
   "cell_type": "markdown",
   "id": "ab44e103-ccfb-4594-853a-be5210870da8",
   "metadata": {},
   "source": [
    "### embed_documents"
   ]
  },
  {
   "cell_type": "code",
   "execution_count": 19,
   "id": "259849c4-ca96-4521-9bae-f98805436f21",
   "metadata": {
    "tags": []
   },
   "outputs": [],
   "source": [
    "embeddings = embedding_model.embed_documents(\n",
    "    [\n",
    "        \"Hi there!\",\n",
    "        \"Oh, hello!\",\n",
    "        \"What's your name?\",\n",
    "        \"My friends call me World\",\n",
    "        \"Hello World!\"\n",
    "    ]\n",
    ")"
   ]
  },
  {
   "cell_type": "code",
   "execution_count": 20,
   "id": "ea0382f7-3a20-4903-95ae-4209592cd65e",
   "metadata": {
    "tags": []
   },
   "outputs": [
    {
     "data": {
      "text/plain": [
       "(5, 1536)"
      ]
     },
     "execution_count": 20,
     "metadata": {},
     "output_type": "execute_result"
    }
   ],
   "source": [
    "len(embeddings), len(embeddings[0])"
   ]
  },
  {
   "cell_type": "code",
   "execution_count": 21,
   "id": "f6fc3c20-cf10-4475-9b38-8a0569e2b08e",
   "metadata": {
    "tags": []
   },
   "outputs": [
    {
     "data": {
      "text/plain": [
       "1536"
      ]
     },
     "execution_count": 21,
     "metadata": {},
     "output_type": "execute_result"
    }
   ],
   "source": [
    "len(embeddings[1])"
   ]
  },
  {
   "cell_type": "markdown",
   "id": "d64b597c-1c30-44c7-85f9-9245637cffd7",
   "metadata": {},
   "source": [
    "> OpenAIEmbedding 是encoding 为 1536的长度了"
   ]
  },
  {
   "cell_type": "markdown",
   "id": "26769040-0655-4a87-8950-4afdb95c6207",
   "metadata": {},
   "source": [
    "### embed_query"
   ]
  },
  {
   "cell_type": "code",
   "execution_count": 22,
   "id": "b97898a5-db0d-46b7-8dfa-c3982ee73cb4",
   "metadata": {
    "tags": []
   },
   "outputs": [
    {
     "data": {
      "text/plain": [
       "[0.0053546813655943075,\n",
       " -0.0005715346531097275,\n",
       " 0.038875909934336914,\n",
       " -0.0029596003572924623,\n",
       " -0.008966285328704282]"
      ]
     },
     "execution_count": 22,
     "metadata": {},
     "output_type": "execute_result"
    }
   ],
   "source": [
    "embedded_query = embedding_model.embed_query(\"What was the name mentioned in the conversation?\")\n",
    "embedded_query[:5]"
   ]
  },
  {
   "cell_type": "code",
   "execution_count": 23,
   "id": "821e67dc-1712-47be-b087-87147f953c9c",
   "metadata": {
    "tags": []
   },
   "outputs": [
    {
     "data": {
      "text/plain": [
       "1536"
      ]
     },
     "execution_count": 23,
     "metadata": {},
     "output_type": "execute_result"
    }
   ],
   "source": [
    "len(embedded_query)"
   ]
  },
  {
   "cell_type": "markdown",
   "id": "e397e8a1-aa64-4053-a08f-80c664e94dae",
   "metadata": {},
   "source": [
    "> 向量长度为1536"
   ]
  },
  {
   "cell_type": "markdown",
   "id": "3f55a944-0d2c-43ac-a395-f6a4a37bc97f",
   "metadata": {},
   "source": [
    "## Caching"
   ]
  },
  {
   "cell_type": "markdown",
   "id": "bbba28b7-0c86-41a3-a73c-e4fc7ea91cff",
   "metadata": {},
   "source": [
    "> Caching embeddings can be done using a CacheBackedEmbeddings. The cache backed embedder is a wrapper around an embedder that caches embeddings in a key-value store.<br>\n",
    "> 缓存Embedding使用 缓存支持嵌入 , 这个  缓存嵌入器  是 向量数据库的 装饰器\n",
    "\n",
    "**text被哈希过了, 且作为向量数据库的key**"
   ]
  },
  {
   "cell_type": "markdown",
   "id": "ba38c464-e7bc-4843-a3ce-f902a37a537e",
   "metadata": {},
   "source": [
    "对CacheBackedEmbeddings的主要支持是`from_bytes_store`. This takes in the following parameters.:<br>\n",
    "\n",
    "* underlying_embedder: The embedder to use for embedding.\n",
    "\n",
    "* document_embedding_cache: The cache to use for storing document embeddings.\n",
    "\n",
    "* namespace: (optional, defaults to \"\"): 命名空间,防止同一个库内,不同的cache的碰撞.\n",
    "> 对于同一个向量存储库, 如果<font color=blue>对同一个text使用不同的Embedding model, 必须使用不同的namespace, 否则会碰撞</font>"
   ]
  },
  {
   "cell_type": "code",
   "execution_count": 1,
   "id": "8064c98b-111a-4743-bd8f-602306d69a5a",
   "metadata": {
    "tags": []
   },
   "outputs": [],
   "source": [
    "from langchain.storage import InMemoryStore, LocalFileStore, RedisStore, UpstashRedisStore\n",
    "from langchain.embeddings import OpenAIEmbeddings, CacheBackedEmbeddings"
   ]
  },
  {
   "cell_type": "code",
   "execution_count": null,
   "id": "6acf32f1-49b9-430c-ba91-f93bfbb6baf1",
   "metadata": {},
   "outputs": [],
   "source": []
  },
  {
   "cell_type": "markdown",
   "id": "d0023123-73c1-4c71-87ef-8b870926d98b",
   "metadata": {},
   "source": [
    "### Vector Store"
   ]
  },
  {
   "cell_type": "code",
   "execution_count": null,
   "id": "796a35ee-1ab0-40f0-8822-8faef95fb336",
   "metadata": {},
   "outputs": [],
   "source": []
  },
  {
   "cell_type": "code",
   "execution_count": null,
   "id": "d02a4bbd-ab86-4de0-8812-ec5615cbb768",
   "metadata": {},
   "outputs": [],
   "source": []
  },
  {
   "cell_type": "markdown",
   "id": "ae157e55-d0f6-41ed-a41a-3a608e569f8a",
   "metadata": {},
   "source": [
    "First, let's see an example that uses the local file system for storing embeddings and uses FAISS vector store for retrieval.<br>\n",
    "\n",
    "让我们使用本地文件来存储Embedding and 使用 FAISS 来做向量检索 <font color=blue>存储和检索是分开的?</font>"
   ]
  },
  {
   "cell_type": "code",
   "execution_count": 2,
   "id": "34c7d688-9d66-4114-9c7b-4230e84230ce",
   "metadata": {
    "tags": []
   },
   "outputs": [],
   "source": [
    "from langchain.document_loaders import TextLoader\n",
    "from langchain.embeddings.openai import OpenAIEmbeddings\n",
    "from langchain.text_splitter import CharacterTextSplitter\n",
    "from langchain.vectorstores import FAISS"
   ]
  },
  {
   "cell_type": "code",
   "execution_count": null,
   "id": "27464f1b-8bb5-4a01-a9d4-706de7487d0e",
   "metadata": {},
   "outputs": [],
   "source": []
  },
  {
   "cell_type": "code",
   "execution_count": null,
   "id": "e0ae0d00-645c-4d26-9dd1-de30d9e39293",
   "metadata": {},
   "outputs": [],
   "source": []
  },
  {
   "cell_type": "code",
   "execution_count": 4,
   "id": "612f4cbe-e88a-45d4-b002-e90f1e7508ec",
   "metadata": {
    "tags": []
   },
   "outputs": [],
   "source": [
    "underlying_embeddings = OpenAIEmbeddings()"
   ]
  },
  {
   "cell_type": "code",
   "execution_count": 5,
   "id": "a8e039b2-cb81-4069-964e-9b799f1967c3",
   "metadata": {
    "tags": []
   },
   "outputs": [],
   "source": [
    "fs = LocalFileStore(\"./cache/\")"
   ]
  },
  {
   "cell_type": "code",
   "execution_count": 6,
   "id": "736cb867-9a99-4b6c-b9ef-fac92725044f",
   "metadata": {
    "tags": []
   },
   "outputs": [],
   "source": [
    "cached_embedder = CacheBackedEmbeddings.from_bytes_store(underlying_embeddings, fs, namespace=underlying_embeddings.model)"
   ]
  },
  {
   "cell_type": "code",
   "execution_count": 7,
   "id": "edff18e8-48b3-4b69-b266-c9585f651946",
   "metadata": {
    "tags": []
   },
   "outputs": [
    {
     "data": {
      "text/plain": [
       "'text-embedding-ada-002'"
      ]
     },
     "execution_count": 7,
     "metadata": {},
     "output_type": "execute_result"
    }
   ],
   "source": [
    "underlying_embeddings.model"
   ]
  },
  {
   "cell_type": "code",
   "execution_count": 8,
   "id": "a937e718-3693-4d70-8de6-b48929c822bd",
   "metadata": {
    "tags": []
   },
   "outputs": [
    {
     "data": {
      "text/plain": [
       "[]"
      ]
     },
     "execution_count": 8,
     "metadata": {},
     "output_type": "execute_result"
    }
   ],
   "source": [
    "# The cache is empty prior to embedding:\n",
    "list(fs.yield_keys())"
   ]
  },
  {
   "cell_type": "markdown",
   "id": "374bd7c3-12c1-4d81-a809-9455b02a1442",
   "metadata": {},
   "source": [
    "> Load the document, split it into chunks, embed each chunk and load it into the vector store."
   ]
  },
  {
   "cell_type": "code",
   "execution_count": 9,
   "id": "571f2f66-8127-4ed3-b4ef-decd666bf9c6",
   "metadata": {
    "tags": []
   },
   "outputs": [],
   "source": [
    "raw_documents = TextLoader('./input/state_of_the_union.txt').load()"
   ]
  },
  {
   "cell_type": "code",
   "execution_count": 10,
   "id": "b8faab4b-c5aa-4959-b860-8eb42ceb6df9",
   "metadata": {
    "tags": []
   },
   "outputs": [
    {
     "data": {
      "text/plain": [
       "1"
      ]
     },
     "execution_count": 10,
     "metadata": {},
     "output_type": "execute_result"
    }
   ],
   "source": [
    "raw_documents.__len__()"
   ]
  },
  {
   "cell_type": "code",
   "execution_count": 11,
   "id": "1a099706-7ea1-4527-8600-460cdc389ba2",
   "metadata": {
    "tags": []
   },
   "outputs": [],
   "source": [
    "text_splitter = CharacterTextSplitter(chunk_size=1000, chunk_overlap=0)"
   ]
  },
  {
   "cell_type": "code",
   "execution_count": 12,
   "id": "577a937f-159e-4aca-86e1-f40114040c2e",
   "metadata": {
    "tags": []
   },
   "outputs": [],
   "source": [
    "documents = text_splitter.split_documents(raw_documents)"
   ]
  },
  {
   "cell_type": "code",
   "execution_count": 13,
   "id": "ce0cd057-dcf5-4d08-aa6a-de93ea563ca1",
   "metadata": {
    "tags": []
   },
   "outputs": [
    {
     "data": {
      "text/plain": [
       "42"
      ]
     },
     "execution_count": 13,
     "metadata": {},
     "output_type": "execute_result"
    }
   ],
   "source": [
    "len(documents)"
   ]
  },
  {
   "cell_type": "code",
   "execution_count": 14,
   "id": "b965c935-f4da-4a78-a4be-676d32b3a3eb",
   "metadata": {
    "tags": []
   },
   "outputs": [
    {
     "name": "stdout",
     "output_type": "stream",
     "text": [
      "Madam Speaker, Madam Vice President, our First Lady and Second Gentleman. Members of Congress and the Cabinet. Justices of the Supreme Court. My fellow Americans.  \n",
      "\n",
      "Last year COVID-19 kept us apart. This year we are finally together again. \n",
      "\n",
      "Tonight, we meet as Democrats Republicans and Independents. But most importantly as Americans. \n",
      "\n",
      "With a duty to one another to the American people to the Constitution. \n",
      "\n",
      "And with an unwavering resolve that freedom will always triumph over tyranny. \n",
      "\n",
      "Six days ago, Russia’s Vladimir Putin sought to shake the foundations of the free world thinking he could make it bend to his menacing ways. But he badly miscalculated. \n",
      "\n",
      "He thought he could roll into Ukraine and the world would roll over. Instead he met a wall of strength he never imagined. \n",
      "\n",
      "He met the Ukrainian people. \n",
      "\n",
      "From President Zelenskyy to every Ukrainian, their fearlessness, their courage, their determination, inspires the world.\n"
     ]
    }
   ],
   "source": [
    "print(documents[0].page_content)"
   ]
  },
  {
   "cell_type": "markdown",
   "id": "0bf8d8fe-c7e3-43b0-acc2-ba327c3a715b",
   "metadata": {},
   "source": [
    "**Create the vector store:**"
   ]
  },
  {
   "cell_type": "code",
   "execution_count": 15,
   "id": "577141b5-9147-4c06-9378-dcfcd2b856e1",
   "metadata": {
    "tags": []
   },
   "outputs": [
    {
     "name": "stdout",
     "output_type": "stream",
     "text": [
      "CPU times: user 3 µs, sys: 0 ns, total: 3 µs\n",
      "Wall time: 6.2 µs\n"
     ]
    }
   ],
   "source": [
    "%time\n",
    "db = FAISS.from_documents(documents, cached_embedder)"
   ]
  },
  {
   "cell_type": "markdown",
   "id": "924d9179-4001-44d9-9566-3cafc8485414",
   "metadata": {
    "tags": []
   },
   "source": [
    "> If we try to create the vector store again, it'll be much faster since it does not need to re-compute any embeddings.<br>\n",
    "> 如果我们重新产生向量库将非常快, 因为不需要重新计算Embedding"
   ]
  },
  {
   "cell_type": "code",
   "execution_count": 17,
   "id": "cd5b0c08-930c-473f-8ca5-2272ce4a91ad",
   "metadata": {
    "tags": []
   },
   "outputs": [
    {
     "name": "stdout",
     "output_type": "stream",
     "text": [
      "CPU times: user 2 µs, sys: 0 ns, total: 2 µs\n",
      "Wall time: 5.25 µs\n"
     ]
    }
   ],
   "source": [
    "%time\n",
    "db2 = FAISS.from_documents(documents, cached_embedder)"
   ]
  },
  {
   "cell_type": "code",
   "execution_count": 18,
   "id": "75ee872f-f362-46ed-86f0-da125e1a708b",
   "metadata": {
    "tags": []
   },
   "outputs": [
    {
     "data": {
      "text/plain": [
       "['text-embedding-ada-00220c8f906-bea3-5e8c-b01a-e5ecfa990007',\n",
       " 'text-embedding-ada-002464862c8-03d2-5854-b32c-65a075e612a2',\n",
       " 'text-embedding-ada-0025ba09d7e-6a58-5c76-b038-5d8636e5ea25',\n",
       " 'text-embedding-ada-002812fdf9a-5fca-504e-9890-b93dd6a8b22c',\n",
       " 'text-embedding-ada-002305efb5c-3f01-5657-bcf2-2b92fb1747ca']"
      ]
     },
     "execution_count": 18,
     "metadata": {},
     "output_type": "execute_result"
    }
   ],
   "source": [
    "list(fs.yield_keys())[:5]"
   ]
  },
  {
   "cell_type": "code",
   "execution_count": 19,
   "id": "cfcb4032-ea05-4b65-9d55-9859e8dbc950",
   "metadata": {
    "tags": []
   },
   "outputs": [
    {
     "name": "stdout",
     "output_type": "stream",
     "text": [
      "embedding size is  1536\n"
     ]
    }
   ],
   "source": [
    "with open('./cache/text-embedding-ada-002464862c8-03d2-5854-b32c-65a075e612a2') as f:\n",
    "    line = f.read()\n",
    "    arr = eval(line)\n",
    "    print('embedding size is ', arr.__len__())"
   ]
  },
  {
   "cell_type": "markdown",
   "id": "eeffe15d-eaff-457c-ab33-b7770e247497",
   "metadata": {},
   "source": [
    "> 也是1536 text-embedding-ada-002 "
   ]
  },
  {
   "cell_type": "markdown",
   "id": "fe4b9ee5-3863-4790-8133-6de5e6ace117",
   "metadata": {},
   "source": [
    "### In Memory"
   ]
  },
  {
   "cell_type": "markdown",
   "id": "6bd19e21-19de-41cc-8721-14212f23eb01",
   "metadata": {},
   "source": [
    "> This type of cache is primarily useful for unit tests or prototyping. Do not use this cache if you need to actually store the embeddings.\n",
    "> 这种类型的缓存主要用于单元测试或原型设计, 请不要用于实际线上缓存"
   ]
  },
  {
   "cell_type": "code",
   "execution_count": 20,
   "id": "a6f65a12-3ff2-4bb9-9dbc-0b043e0a5042",
   "metadata": {
    "tags": []
   },
   "outputs": [],
   "source": [
    "store = InMemoryStore()"
   ]
  },
  {
   "cell_type": "code",
   "execution_count": 21,
   "id": "9db90585-b5de-4505-909f-f564dc16c7d5",
   "metadata": {
    "tags": []
   },
   "outputs": [],
   "source": [
    "underlying_embeddings = OpenAIEmbeddings()\n",
    "embedder = CacheBackedEmbeddings.from_bytes_store(\n",
    "    underlying_embeddings, store, namespace=underlying_embeddings.model\n",
    ")"
   ]
  },
  {
   "cell_type": "code",
   "execution_count": 22,
   "id": "ec27d42d-ea74-4c75-a950-a7d0c0b8da7c",
   "metadata": {
    "tags": []
   },
   "outputs": [],
   "source": [
    "embeddings = embedder.embed_documents([\"hello\", \"goodbye\"])"
   ]
  },
  {
   "cell_type": "code",
   "execution_count": 23,
   "id": "ceea0a4e-e0cf-4bb4-b859-b06cb0979a54",
   "metadata": {
    "tags": []
   },
   "outputs": [
    {
     "name": "stdout",
     "output_type": "stream",
     "text": [
      "CPU times: user 3 µs, sys: 0 ns, total: 3 µs\n",
      "Wall time: 6.91 µs\n"
     ]
    }
   ],
   "source": [
    "%time\n",
    "embeddings_from_cache = embedder.embed_documents([\"hello\", \"goodbye\"])"
   ]
  },
  {
   "cell_type": "code",
   "execution_count": 24,
   "id": "b1066f75-e350-4272-b5be-9673f0280160",
   "metadata": {
    "tags": []
   },
   "outputs": [
    {
     "data": {
      "text/plain": [
       "True"
      ]
     },
     "execution_count": 24,
     "metadata": {},
     "output_type": "execute_result"
    }
   ],
   "source": [
    "embeddings == embeddings_from_cache"
   ]
  },
  {
   "cell_type": "code",
   "execution_count": null,
   "id": "a5baaeaf-0267-49af-9e5e-09cc7486f15f",
   "metadata": {},
   "outputs": [],
   "source": []
  },
  {
   "cell_type": "code",
   "execution_count": null,
   "id": "0420e719-5034-426f-8d45-53b00afb7b5d",
   "metadata": {},
   "outputs": [],
   "source": []
  },
  {
   "cell_type": "markdown",
   "id": "6212381c-4352-47c3-81c6-db50adaa4ab9",
   "metadata": {},
   "source": [
    "### File system"
   ]
  },
  {
   "cell_type": "markdown",
   "id": "f29b51f5-ee81-45fd-a76c-ca9eec434349",
   "metadata": {},
   "source": [
    "> This section covers how to use a file system store."
   ]
  },
  {
   "cell_type": "code",
   "execution_count": 25,
   "id": "267c6815-c35b-4615-b96f-696689131030",
   "metadata": {
    "tags": []
   },
   "outputs": [],
   "source": [
    "fs = LocalFileStore(\"./test_cache/\")"
   ]
  },
  {
   "cell_type": "code",
   "execution_count": 26,
   "id": "daf48fec-c3d0-43ed-accb-01fc0a419329",
   "metadata": {
    "tags": []
   },
   "outputs": [],
   "source": [
    "embedder2 = CacheBackedEmbeddings.from_bytes_store(\n",
    "    underlying_embeddings, fs, namespace=underlying_embeddings.model\n",
    ")"
   ]
  },
  {
   "cell_type": "code",
   "execution_count": 27,
   "id": "c822fda8-999c-4fc3-b260-4fa9235b1f82",
   "metadata": {
    "tags": []
   },
   "outputs": [],
   "source": [
    "embeddings = embedder2.embed_documents([\"hello\", \"goodbye\"])"
   ]
  },
  {
   "cell_type": "code",
   "execution_count": 28,
   "id": "f3e36159-5c6c-4c5d-a0a1-25d46974562d",
   "metadata": {
    "tags": []
   },
   "outputs": [],
   "source": [
    "embeddings = embedder2.embed_documents([\"hello\", \"goodbye\"])"
   ]
  },
  {
   "cell_type": "code",
   "execution_count": 29,
   "id": "859733c2-a6da-4067-aeab-53d0816c2a28",
   "metadata": {
    "tags": []
   },
   "outputs": [
    {
     "data": {
      "text/plain": [
       "['text-embedding-ada-002e885db5b-c0bd-5fbc-88b1-4d1da6020aa5',\n",
       " 'text-embedding-ada-0026ba52e44-59c9-5cc9-a084-284061b13c80']"
      ]
     },
     "execution_count": 29,
     "metadata": {},
     "output_type": "execute_result"
    }
   ],
   "source": [
    "list(fs.yield_keys())"
   ]
  },
  {
   "cell_type": "code",
   "execution_count": null,
   "id": "dba65978-1938-4b2e-bc40-49c502af53b8",
   "metadata": {},
   "outputs": [],
   "source": []
  },
  {
   "cell_type": "markdown",
   "id": "b61be112-f0c6-4ee0-a88d-683a8f0ef4d3",
   "metadata": {},
   "source": [
    "### Upstash Redis Store"
   ]
  },
  {
   "cell_type": "markdown",
   "id": "cd7c91d2-248b-4f00-a145-fb16daf62b8d",
   "metadata": {},
   "source": [
    "> 无服务redis 存储"
   ]
  },
  {
   "cell_type": "code",
   "execution_count": 30,
   "id": "33893ac1-da45-4872-ac9f-5d188e641aba",
   "metadata": {
    "tags": []
   },
   "outputs": [],
   "source": [
    "from langchain.storage.upstash_redis import UpstashRedisStore"
   ]
  },
  {
   "cell_type": "markdown",
   "id": "40c7c28b-d3f2-4b7d-b435-813f77a8f775",
   "metadata": {},
   "source": [
    "```python\n",
    "from upstash_redis import Redis\n",
    "# 需要购买服务并获取令牌\n",
    "URL = \"<UPSTASH_REDIS_REST_URL>\"\n",
    "TOKEN = \"<UPSTASH_REDIS_REST_TOKEN>\"\n",
    "\n",
    "redis_client = Redis(url=URL, token=TOKEN)\n",
    "store = UpstashRedisStore(client=redis_client, ttl=None, namespace=\"test-ns\")\n",
    "\n",
    "underlying_embeddings = OpenAIEmbeddings()\n",
    "embedder = CacheBackedEmbeddings.from_bytes_store(\n",
    "    underlying_embeddings, store, namespace=underlying_embeddings.model\n",
    ")\n",
    "\n",
    "\n",
    "embeddings = embedder.embed_documents([\"welcome\", \"goodbye\"])\n",
    "\n",
    "embeddings = embedder.embed_documents([\"welcome\", \"goodbye\"])\n",
    "\n",
    "list(store.yield_keys())\n",
    "\n",
    "list(store.client.scan(0))\n",
    "```"
   ]
  },
  {
   "cell_type": "markdown",
   "id": "7d0f6f58-7b92-4c9a-9acc-16d4b8e3b5aa",
   "metadata": {},
   "source": [
    "### [Redis Store](https://python.langchain.com/docs/modules/data_connection/text_embedding/caching_embeddings)"
   ]
  },
  {
   "cell_type": "code",
   "execution_count": null,
   "id": "b94b080b-0835-4128-a8a7-9ff82c068a57",
   "metadata": {},
   "outputs": [],
   "source": []
  },
  {
   "cell_type": "code",
   "execution_count": null,
   "id": "eed8ca0f-f9e9-46c3-a076-d769d7017152",
   "metadata": {},
   "outputs": [],
   "source": []
  },
  {
   "cell_type": "code",
   "execution_count": null,
   "id": "574126b5-cd6f-4bf1-880d-004f32eeef28",
   "metadata": {},
   "outputs": [],
   "source": []
  },
  {
   "cell_type": "code",
   "execution_count": null,
   "id": "7f5ddfc6-f74c-4a34-9b42-99c7231a48d0",
   "metadata": {},
   "outputs": [],
   "source": []
  },
  {
   "cell_type": "code",
   "execution_count": null,
   "id": "8f2b7fda-c3fe-470c-90a5-619f2129fa39",
   "metadata": {},
   "outputs": [],
   "source": []
  },
  {
   "cell_type": "code",
   "execution_count": null,
   "id": "6d194103-9c4f-4e6d-8497-1fc07b5ede00",
   "metadata": {},
   "outputs": [],
   "source": []
  },
  {
   "cell_type": "code",
   "execution_count": null,
   "id": "74fc305f-6716-487c-b9d1-51fce5a18d7d",
   "metadata": {},
   "outputs": [],
   "source": []
  },
  {
   "cell_type": "code",
   "execution_count": null,
   "id": "6b62a714-33ec-4569-94e5-6acb885d805e",
   "metadata": {},
   "outputs": [],
   "source": []
  },
  {
   "cell_type": "code",
   "execution_count": null,
   "id": "2fd8569d-7145-4123-a43e-f2989877089b",
   "metadata": {},
   "outputs": [],
   "source": []
  },
  {
   "cell_type": "code",
   "execution_count": null,
   "id": "01eb192f-68e0-42e5-a9c1-4182b9a93d4e",
   "metadata": {},
   "outputs": [],
   "source": []
  },
  {
   "cell_type": "code",
   "execution_count": null,
   "id": "3387be18-66a8-45a4-98aa-b893676a8b62",
   "metadata": {},
   "outputs": [],
   "source": []
  },
  {
   "cell_type": "code",
   "execution_count": null,
   "id": "0d2422a9-adde-46d9-bc02-3bbedb96634d",
   "metadata": {},
   "outputs": [],
   "source": []
  },
  {
   "cell_type": "code",
   "execution_count": null,
   "id": "e54ecca6-cde1-4720-a8f2-e6ea90e73481",
   "metadata": {},
   "outputs": [],
   "source": []
  }
 ],
 "metadata": {
  "environment": {
   "kernel": "conda-env-preventloss-py",
   "name": "pytorch-gpu.1-13.m105",
   "type": "gcloud",
   "uri": "gcr.io/deeplearning-platform-release/pytorch-gpu.1-13:m105"
  },
  "kernelspec": {
   "display_name": "chatglm26b",
   "language": "python",
   "name": "chatglm26b"
  },
  "language_info": {
   "codemirror_mode": {
    "name": "ipython",
    "version": 3
   },
   "file_extension": ".py",
   "mimetype": "text/x-python",
   "name": "python",
   "nbconvert_exporter": "python",
   "pygments_lexer": "ipython3",
   "version": "3.9.6"
  }
 },
 "nbformat": 4,
 "nbformat_minor": 5
}
