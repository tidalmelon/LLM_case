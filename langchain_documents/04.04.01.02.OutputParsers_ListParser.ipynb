{
 "cells": [
  {
   "cell_type": "code",
   "execution_count": null,
   "id": "bfb96a5f-221f-46c5-8149-b4f7b47f001f",
   "metadata": {},
   "outputs": [],
   "source": []
  },
  {
   "cell_type": "code",
   "execution_count": null,
   "id": "7a824086-8c61-49f2-bfac-0fa2719243f1",
   "metadata": {},
   "outputs": [],
   "source": []
  },
  {
   "cell_type": "markdown",
   "id": "76853ed0-1644-4f1d-9d73-601f6f9a38f0",
   "metadata": {},
   "source": [
    "## List Parser"
   ]
  },
  {
   "cell_type": "markdown",
   "id": "5e4ad198-90c8-476f-8f11-7fb30d657623",
   "metadata": {},
   "source": [
    "> This output parser can be used when you want to return a list of comma-separated items."
   ]
  },
  {
   "cell_type": "code",
   "execution_count": 1,
   "id": "2eb6f5c4-cb84-4169-a8e4-a4f49d0f9e80",
   "metadata": {
    "tags": []
   },
   "outputs": [],
   "source": [
    "from langchain.output_parsers import CommaSeparatedListOutputParser\n",
    "from langchain.prompts import PromptTemplate\n",
    "from langchain.llms import OpenAI"
   ]
  },
  {
   "cell_type": "code",
   "execution_count": null,
   "id": "1da4dec0-cb42-4f99-8bbd-ea3f5c17c05a",
   "metadata": {},
   "outputs": [],
   "source": []
  },
  {
   "cell_type": "markdown",
   "id": "aa5004e6-2973-4534-a0da-67c173e00b7f",
   "metadata": {},
   "source": [
    "### 要素1: OutputParser"
   ]
  },
  {
   "cell_type": "code",
   "execution_count": 5,
   "id": "8aa479e9-01b7-4fb3-bf1c-550a0b8666aa",
   "metadata": {
    "tags": []
   },
   "outputs": [],
   "source": [
    "output_parser = CommaSeparatedListOutputParser()"
   ]
  },
  {
   "cell_type": "code",
   "execution_count": 6,
   "id": "12faea8a-806c-409a-b36e-862a4ebfb7d2",
   "metadata": {
    "tags": []
   },
   "outputs": [],
   "source": [
    "format_instructions = output_parser.get_format_instructions()"
   ]
  },
  {
   "cell_type": "code",
   "execution_count": 9,
   "id": "cd6b8b7a-f274-412e-acab-66b4a756189d",
   "metadata": {
    "tags": []
   },
   "outputs": [
    {
     "data": {
      "text/plain": [
       "'Your response should be a list of comma separated values, eg: `foo, bar, baz`'"
      ]
     },
     "execution_count": 9,
     "metadata": {},
     "output_type": "execute_result"
    }
   ],
   "source": [
    "format_instructions"
   ]
  },
  {
   "cell_type": "code",
   "execution_count": null,
   "id": "a518268e-9e1c-421b-8a86-ee853bd0fed1",
   "metadata": {},
   "outputs": [],
   "source": []
  },
  {
   "cell_type": "markdown",
   "id": "4979fa65-9508-4c7e-be82-4dc64b675657",
   "metadata": {},
   "source": [
    "### 要素2: Prompt"
   ]
  },
  {
   "cell_type": "markdown",
   "id": "68c91dff-33e2-4959-af8c-13c5b7057c80",
   "metadata": {},
   "source": [
    "> You can also just initialize the prompt with the partialed variables 实例化带partial_variables的提示模版\n",
    "\n",
    "> **你也可以在实例化的时候, 部分 格式化Prompt**\n",
    "\n",
    "[Partial Prompt](https://python.langchain.com/docs/modules/model_io/prompts/prompt_templates/partial)"
   ]
  },
  {
   "cell_type": "code",
   "execution_count": null,
   "id": "b1c936f4-897a-4a18-8bf4-2f98befe3855",
   "metadata": {},
   "outputs": [],
   "source": []
  },
  {
   "cell_type": "code",
   "execution_count": 10,
   "id": "299d5937-1d9c-4467-aa9e-1bb7afd1d4a3",
   "metadata": {
    "tags": []
   },
   "outputs": [],
   "source": [
    "prompt = PromptTemplate(\n",
    "    template=\"List five {subject}.\\n{format_instructions}\",\n",
    "    input_variables=['subject'], \n",
    "    partial_variables={\"format_instructions\": format_instructions}\n",
    ")"
   ]
  },
  {
   "cell_type": "code",
   "execution_count": 23,
   "id": "a920ae18-ebca-46b9-9ddc-60dddc13be3b",
   "metadata": {
    "tags": []
   },
   "outputs": [
    {
     "data": {
      "text/plain": [
       "PromptTemplate(input_variables=['subject'], partial_variables={'format_instructions': 'Your response should be a list of comma separated values, eg: `foo, bar, baz`'}, template='List five {subject}.\\n{format_instructions}')"
      ]
     },
     "execution_count": 23,
     "metadata": {},
     "output_type": "execute_result"
    }
   ],
   "source": [
    "prompt"
   ]
  },
  {
   "cell_type": "code",
   "execution_count": null,
   "id": "25542a9d-85ec-433d-8616-d988dd144eb2",
   "metadata": {},
   "outputs": [],
   "source": []
  },
  {
   "cell_type": "markdown",
   "id": "d2cf9aad-1d8d-4cbd-a65c-784a70d2c9e4",
   "metadata": {},
   "source": [
    "### 要素3 : Model"
   ]
  },
  {
   "cell_type": "code",
   "execution_count": 13,
   "id": "76684622-73ec-4ab8-93f8-4295678b5c7f",
   "metadata": {
    "tags": []
   },
   "outputs": [],
   "source": [
    "model = OpenAI(temperature=0)"
   ]
  },
  {
   "cell_type": "code",
   "execution_count": null,
   "id": "1690ebac-0e1e-492a-a7ad-7911dac88a1d",
   "metadata": {},
   "outputs": [],
   "source": []
  },
  {
   "cell_type": "markdown",
   "id": "e787980c-0ec7-47c8-ac8b-6a56b7557c3b",
   "metadata": {},
   "source": [
    "### 组合执行"
   ]
  },
  {
   "cell_type": "code",
   "execution_count": 19,
   "id": "b61521f7-6dd8-4591-a6a7-110870fd84ed",
   "metadata": {
    "tags": []
   },
   "outputs": [],
   "source": [
    "chain = prompt | model | output_parser"
   ]
  },
  {
   "cell_type": "code",
   "execution_count": 21,
   "id": "101d5f5a-712a-4b6d-982d-e100eef6488d",
   "metadata": {
    "tags": []
   },
   "outputs": [
    {
     "data": {
      "text/plain": [
       "['Vanilla',\n",
       " 'Chocolate',\n",
       " 'Strawberry',\n",
       " 'Mint Chocolate Chip',\n",
       " 'Cookies and Cream']"
      ]
     },
     "execution_count": 21,
     "metadata": {},
     "output_type": "execute_result"
    }
   ],
   "source": [
    "chain.invoke({'subject': \"ice cream flavors\"})"
   ]
  },
  {
   "cell_type": "code",
   "execution_count": null,
   "id": "e3a74ebb-553d-4d84-bf1b-1bae1cce8dd5",
   "metadata": {},
   "outputs": [],
   "source": []
  },
  {
   "cell_type": "code",
   "execution_count": null,
   "id": "d35c27c6-6b93-4ef1-9817-978c74355b96",
   "metadata": {},
   "outputs": [],
   "source": []
  },
  {
   "cell_type": "markdown",
   "id": "3ded49b3-3ba3-461d-86ad-3af00fd5485d",
   "metadata": {},
   "source": [
    "### 分步执行"
   ]
  },
  {
   "cell_type": "markdown",
   "id": "12d6700a-3245-4eb4-934f-731c09b7bf4f",
   "metadata": {},
   "source": [
    "#### 格式化Prompt (含Get format instructions)"
   ]
  },
  {
   "cell_type": "code",
   "execution_count": 14,
   "id": "335c19e7-6077-46f3-9f65-338af7745b9d",
   "metadata": {
    "tags": []
   },
   "outputs": [],
   "source": [
    "_input = prompt.format(subject=\"ice cream flavors\")"
   ]
  },
  {
   "cell_type": "code",
   "execution_count": 15,
   "id": "7bf4c0c1-2caa-4e02-b15a-6cbe630a06f5",
   "metadata": {
    "tags": []
   },
   "outputs": [
    {
     "data": {
      "text/plain": [
       "'List five ice cream flavors.\\nYour response should be a list of comma separated values, eg: `foo, bar, baz`'"
      ]
     },
     "execution_count": 15,
     "metadata": {},
     "output_type": "execute_result"
    }
   ],
   "source": [
    "_input"
   ]
  },
  {
   "cell_type": "markdown",
   "id": "50d30998-69b7-4db8-99e7-f32fd6b681b4",
   "metadata": {},
   "source": [
    "#### 调用模型"
   ]
  },
  {
   "cell_type": "code",
   "execution_count": 16,
   "id": "a836f457-077f-4742-8423-9d7f3ba68c0d",
   "metadata": {
    "tags": []
   },
   "outputs": [],
   "source": [
    "output = model(_input)"
   ]
  },
  {
   "cell_type": "code",
   "execution_count": 17,
   "id": "8c00c0ea-71ff-43de-99f2-8d24bfdb3013",
   "metadata": {
    "tags": []
   },
   "outputs": [
    {
     "name": "stdout",
     "output_type": "stream",
     "text": [
      "\n",
      "\n",
      "Vanilla, Chocolate, Strawberry, Mint Chocolate Chip, Cookies and Cream\n"
     ]
    }
   ],
   "source": [
    "print(output)"
   ]
  },
  {
   "cell_type": "markdown",
   "id": "b3885636-0353-477d-9ffc-35776bb9c773",
   "metadata": {},
   "source": [
    "#### Parse Output"
   ]
  },
  {
   "cell_type": "code",
   "execution_count": 18,
   "id": "c4b056fc-ba6d-4a43-af46-edba432f1dd2",
   "metadata": {
    "tags": []
   },
   "outputs": [
    {
     "data": {
      "text/plain": [
       "['Vanilla',\n",
       " 'Chocolate',\n",
       " 'Strawberry',\n",
       " 'Mint Chocolate Chip',\n",
       " 'Cookies and Cream']"
      ]
     },
     "execution_count": 18,
     "metadata": {},
     "output_type": "execute_result"
    }
   ],
   "source": [
    "output_parser.parse(output)"
   ]
  },
  {
   "cell_type": "code",
   "execution_count": null,
   "id": "80b9cdbd-4ce5-4101-9156-a24df57bd327",
   "metadata": {},
   "outputs": [],
   "source": []
  }
 ],
 "metadata": {
  "environment": {
   "kernel": "conda-env-preventloss-py",
   "name": "pytorch-gpu.1-13.m105",
   "type": "gcloud",
   "uri": "gcr.io/deeplearning-platform-release/pytorch-gpu.1-13:m105"
  },
  "kernelspec": {
   "display_name": "Python [conda env:preventloss]",
   "language": "python",
   "name": "conda-env-preventloss-py"
  },
  "language_info": {
   "codemirror_mode": {
    "name": "ipython",
    "version": 3
   },
   "file_extension": ".py",
   "mimetype": "text/x-python",
   "name": "python",
   "nbconvert_exporter": "python",
   "pygments_lexer": "ipython3",
   "version": "3.9.16"
  }
 },
 "nbformat": 4,
 "nbformat_minor": 5
}
