{
 "cells": [
  {
   "cell_type": "markdown",
   "id": "5cfd9c68-5f75-458a-b666-a023149511b7",
   "metadata": {},
   "source": [
    "# langchain FAISS\n",
    "> **Facebook AI Similarity Search**"
   ]
  },
  {
   "cell_type": "code",
   "execution_count": null,
   "id": "7b173cf3-9ace-45ea-a26a-83c4e1470d19",
   "metadata": {},
   "outputs": [],
   "source": []
  },
  {
   "cell_type": "markdown",
   "id": "307078e6-0fb0-483b-a27b-66580e87bfe8",
   "metadata": {},
   "source": [
    "## synchronous \n",
    "\n",
    "\n",
    "**[ASYNC版本](https://python.langchain.com/docs/integrations/vectorstores/async_faiss)**"
   ]
  },
  {
   "cell_type": "code",
   "execution_count": null,
   "id": "ee548889-25ef-428a-acfb-9bdd90efe2fc",
   "metadata": {},
   "outputs": [],
   "source": []
  },
  {
   "cell_type": "code",
   "execution_count": 19,
   "id": "3653aa61-982f-418d-a25d-5d93d8eef6c7",
   "metadata": {
    "tags": []
   },
   "outputs": [],
   "source": [
    "from langchain.embeddings.openai import OpenAIEmbeddings\n",
    "from langchain.text_splitter import CharacterTextSplitter\n",
    "from langchain.vectorstores import FAISS\n",
    "from langchain.document_loaders import TextLoader"
   ]
  },
  {
   "cell_type": "code",
   "execution_count": 20,
   "id": "a6d379c9-6ed9-4c6a-8b75-ca485a09dfc0",
   "metadata": {
    "tags": []
   },
   "outputs": [],
   "source": [
    "from langchain.document_loaders import TextLoader"
   ]
  },
  {
   "cell_type": "code",
   "execution_count": 21,
   "id": "ce17ca50-ac3f-4429-8123-5b655f173a14",
   "metadata": {
    "tags": []
   },
   "outputs": [],
   "source": [
    "loader = TextLoader('./input/state_of_chinese.txt')"
   ]
  },
  {
   "cell_type": "code",
   "execution_count": 22,
   "id": "512fc351-a2e3-4b1d-b68f-24bea0e92fa5",
   "metadata": {
    "tags": []
   },
   "outputs": [],
   "source": [
    "documents = loader.load()"
   ]
  },
  {
   "cell_type": "code",
   "execution_count": 23,
   "id": "1d75656e-fd55-4f45-8cd4-8fb86ae0a4a3",
   "metadata": {
    "tags": []
   },
   "outputs": [
    {
     "data": {
      "text/plain": [
       "1"
      ]
     },
     "execution_count": 23,
     "metadata": {},
     "output_type": "execute_result"
    }
   ],
   "source": [
    "documents.__len__()"
   ]
  },
  {
   "cell_type": "code",
   "execution_count": 30,
   "id": "a2677d85-22e2-4901-b9d3-696904eb6c75",
   "metadata": {
    "tags": []
   },
   "outputs": [],
   "source": [
    "# text_splitter = CharacterTextSplitter(chunk_size=1000, chunk_overlap=0)\n",
    "text_splitter = CharacterTextSplitter(chunk_size=0, chunk_overlap=0) # 这样就是按照段落分"
   ]
  },
  {
   "cell_type": "code",
   "execution_count": 31,
   "id": "2181eaae-41bc-43c6-8ad3-55977e374f5d",
   "metadata": {},
   "outputs": [
    {
     "name": "stderr",
     "output_type": "stream",
     "text": [
      "Created a chunk of size 67, which is longer than the specified 0\n",
      "Created a chunk of size 121, which is longer than the specified 0\n",
      "Created a chunk of size 109, which is longer than the specified 0\n",
      "Created a chunk of size 156, which is longer than the specified 0\n",
      "Created a chunk of size 140, which is longer than the specified 0\n",
      "Created a chunk of size 24, which is longer than the specified 0\n",
      "Created a chunk of size 93, which is longer than the specified 0\n",
      "Created a chunk of size 136, which is longer than the specified 0\n",
      "Created a chunk of size 32, which is longer than the specified 0\n",
      "Created a chunk of size 150, which is longer than the specified 0\n",
      "Created a chunk of size 24, which is longer than the specified 0\n",
      "Created a chunk of size 255, which is longer than the specified 0\n",
      "Created a chunk of size 132, which is longer than the specified 0\n",
      "Created a chunk of size 56, which is longer than the specified 0\n",
      "Created a chunk of size 40, which is longer than the specified 0\n",
      "Created a chunk of size 50, which is longer than the specified 0\n"
     ]
    }
   ],
   "source": [
    "docs = text_splitter.split_documents(documents)"
   ]
  },
  {
   "cell_type": "code",
   "execution_count": 32,
   "id": "541e510e-071d-4f22-9772-85288f5f6293",
   "metadata": {},
   "outputs": [],
   "source": [
    "embeddings = OpenAIEmbeddings()"
   ]
  },
  {
   "cell_type": "code",
   "execution_count": 33,
   "id": "5006f7e4-5e06-40dd-a793-71fd08e9c150",
   "metadata": {},
   "outputs": [
    {
     "data": {
      "text/plain": [
       "17"
      ]
     },
     "execution_count": 33,
     "metadata": {},
     "output_type": "execute_result"
    }
   ],
   "source": [
    "docs.__len__()"
   ]
  },
  {
   "cell_type": "code",
   "execution_count": 35,
   "id": "e26daad4-70fb-47ae-86b2-b942c2ece023",
   "metadata": {
    "tags": []
   },
   "outputs": [
    {
     "name": "stdout",
     "output_type": "stream",
     "text": [
      "“教育是一个国家的未来，是一个民族的希望。”我相信，每一位阅读这篇文章的人，无论是在校学生，家长，还是教育工作者，都深知教育的重要性。\n",
      "然而，传统的教育模式面临着许多挑战：课堂内的教学模式单一，教师难以顾及每一位学生的个性化需求，学生的学习进度和成绩又受到诸多因素的影响。而这些问题，可能通过AIGC技术得到解决。AIGC，全称为人工智能生成内容，是现代AI技术的重要应用之一。\n",
      "那么，AIGC技术在教育领域有哪些应用？AIGC技术在教育领域的优缺点又是什么呢？在教育领域，AI是否能替代人类教师的角色？？AIGC教育领域的应用可能带来哪些伦理问题呢？这些问题，我将在接下来的文章中为大家一一解答。\n",
      "我们首先来看看AIGC技术在教育领域的应用。Quizlet联合OpenAI推出了名为Q-Chat的人工智能辅导工具，这个工具可以提供个性化的一对一辅导，通过聊天界面和针对性的问题，帮助学生学习各个学科。这不仅仅是一种新的学习方式，更是一种全新的学习体验。Q-Chat的出现，让我们看到了AI在教育领域的巨大潜力。\n",
      "同样，在语言学习领域，Duolingo也引入了OpenAI的GPT-4，开发了AI对话伙伴和解释答案两个新功能，以提升学习者在学习第二语言时的效率和兴趣。另外，非营利组织Khan Academy宣布将使用GPT-4推出AI助手Khanmigo，作为学生的虚拟导师和教师的课堂助手。\n",
      "那么，AIGC技术在教育领域应用有哪些优缺点呢？\n",
      "优点显而易见，首先，AIGC技术可以实现个性化学习，提供定制化的教学内容，提升学习效率。其次，AI助手可以提供全天候服务，打破时间和地点的限制，让学习更为灵活，学生可以随时随地进行学习。\n",
      "然而，任何事物的发展都有其两面性，缺点同样存在。例如，过度依赖AI可能会导致学生缺乏人际交流的机会，影响他们的社交能力。这不仅包括语言交流，还有面对面的情感交流、情绪理解和社会性行为。人类社会是一个复杂的系统，充满了微妙的情感和社会关系，这是AI暂时无法完全理解和模拟的。\n",
      "面对这种情况，我们要思考，AIGC技术是否能替代人类教师的角色？\n",
      "我认为，AIGC技术并不能完全替代人类教师。教师的角色不仅在于传递知识，他们的情感投入以及对学生个性和需求的理解是AI无法替代的。然而，AIGC技术可以成为教师的得力助手，比如，Khan Academy的AI助手Khanmigo，能够帮助教师编写课堂提示或创建教学材料，更好地满足每个学生的学习需求。\n",
      "当然，AIGC技术的应用也可能带来一些伦理问题。\n",
      "比如，AI技术在教育领域的应用可能会加剧教育资源的不平等，因为并非所有地区和学校都有能力引入高级的AI技术。此外，AI技术的使用可能会引发数据隐私和学生权益等伦理问题。因此，在推广AI技术的同时，我们需要考虑如何公平分配教育资源，保护学生的数据隐私，并维护学生的权益。在教育资源分配方面，我们需要政策层面的支持，使不同地区和学校都能平等获取AI技术。对于数据隐私和学生权益的保护，我们需要在技术层面上加以保障，比如使用加密技术来保护学生的数据，并制定相应的使用规则，确保学生在使用AI学习平台时的权益得到保障。\n",
      "此外，AIGC技术的应用也可能带来其他问题。例如，如果AI系统基于学生的行为和学习成绩做出预测，可能会限制学生的发展空间。因为学生的成长是不确定的，他们有可能在某一时期发生巨大的变化，但如果AI系统给出的预测过于悲观，可能会影响到学生和教师的期望，限制学生的成长。\n",
      "总的来说，AIGC技术在教育领域提供了个性化教学，提升了教育质量，但它无法替代教师在价值引导和兴趣激发上的作用。\n",
      "我们应把AIGC技术视作教育改革的工具，而非全盘替代，强调人文关怀和人性化需求。\n",
      "未来，我期待看到\"AI+教师\"的模式，AI提供个性化内容，教师负责引导和激发，形成更全面的教育体系。\n",
      "最后，无论在哪个领域，教育工作者都是最美的人，他们以知识和热情点燃学生的梦想，塑造他们的未来。在挑战与机遇并存的时代，让我们为教育的未来共同努力。\n"
     ]
    }
   ],
   "source": [
    "for doc in docs:\n",
    "    print(doc.page_content)"
   ]
  },
  {
   "cell_type": "code",
   "execution_count": null,
   "id": "1c2a11f0-837a-440b-9c52-da7412b5acf4",
   "metadata": {},
   "outputs": [],
   "source": []
  },
  {
   "cell_type": "code",
   "execution_count": null,
   "id": "4af08beb-ab82-4ce1-bf2f-b13f5a0f97c2",
   "metadata": {},
   "outputs": [],
   "source": []
  },
  {
   "cell_type": "code",
   "execution_count": 36,
   "id": "8f60a5ac-c817-493f-a731-9da2b8fb0f86",
   "metadata": {
    "tags": []
   },
   "outputs": [],
   "source": [
    "db = FAISS.from_documents(docs, embeddings)"
   ]
  },
  {
   "cell_type": "markdown",
   "id": "12b86d71-939d-44b4-9fd7-2d9f6f5883d2",
   "metadata": {},
   "source": [
    "### 1. 字符串查"
   ]
  },
  {
   "cell_type": "code",
   "execution_count": 37,
   "id": "32f8d2b2-0389-44bc-a503-ab8e8cf8cfee",
   "metadata": {
    "tags": []
   },
   "outputs": [],
   "source": [
    "query = \"AIGC技术是否能替代人类教师的角色\""
   ]
  },
  {
   "cell_type": "code",
   "execution_count": 38,
   "id": "3b41dc06-aca8-4a26-a41a-6defbd7f42c8",
   "metadata": {
    "tags": []
   },
   "outputs": [],
   "source": [
    "docs = db.similarity_search(query)"
   ]
  },
  {
   "cell_type": "code",
   "execution_count": 39,
   "id": "99db17f7-8662-4bbb-8ffd-294b996cabfc",
   "metadata": {
    "tags": []
   },
   "outputs": [
    {
     "data": {
      "text/plain": [
       "4"
      ]
     },
     "execution_count": 39,
     "metadata": {},
     "output_type": "execute_result"
    }
   ],
   "source": [
    "docs.__len__()"
   ]
  },
  {
   "cell_type": "code",
   "execution_count": 41,
   "id": "689c0ffb-264a-43f6-9619-9b9c61e6138c",
   "metadata": {},
   "outputs": [
    {
     "name": "stdout",
     "output_type": "stream",
     "text": [
      "面对这种情况，我们要思考，AIGC技术是否能替代人类教师的角色？\n",
      "我认为，AIGC技术并不能完全替代人类教师。教师的角色不仅在于传递知识，他们的情感投入以及对学生个性和需求的理解是AI无法替代的。然而，AIGC技术可以成为教师的得力助手，比如，Khan Academy的AI助手Khanmigo，能够帮助教师编写课堂提示或创建教学材料，更好地满足每个学生的学习需求。\n",
      "那么，AIGC技术在教育领域有哪些应用？AIGC技术在教育领域的优缺点又是什么呢？在教育领域，AI是否能替代人类教师的角色？？AIGC教育领域的应用可能带来哪些伦理问题呢？这些问题，我将在接下来的文章中为大家一一解答。\n",
      "那么，AIGC技术在教育领域应用有哪些优缺点呢？\n"
     ]
    }
   ],
   "source": [
    "for doc in docs:\n",
    "    print(doc.page_content)"
   ]
  },
  {
   "cell_type": "markdown",
   "id": "2a45cb32-d670-46c1-8787-889b6c57ad1b",
   "metadata": {},
   "source": [
    "### 2. 字符串查,且返回分数"
   ]
  },
  {
   "cell_type": "markdown",
   "id": "2e4601e8-3753-48e6-b4a0-0ce5fefd93eb",
   "metadata": {},
   "source": [
    "`similarity_search_with_score`\n",
    "1. L2 distance : a lower score is better\n",
    "2. 不仅返回文档,还返回score"
   ]
  },
  {
   "cell_type": "code",
   "execution_count": 42,
   "id": "11f05adb-9839-4d23-868e-f6bc7725fb53",
   "metadata": {
    "tags": []
   },
   "outputs": [],
   "source": [
    "docs_and_scores = db.similarity_search_with_score(query)"
   ]
  },
  {
   "cell_type": "code",
   "execution_count": 44,
   "id": "6d91006a-c2e8-44c5-97a3-99095243a906",
   "metadata": {
    "tags": []
   },
   "outputs": [
    {
     "name": "stdout",
     "output_type": "stream",
     "text": [
      "面对这种情况，我们要思考，AIGC技术是否能替代人类教师的角色？ 0.08710252\n",
      "我认为，AIGC技术并不能完全替代人类教师。教师的角色不仅在于传递知识，他们的情感投入以及对学生个性和需求的理解是AI无法替代的。然而，AIGC技术可以成为教师的得力助手，比如，Khan Academy的AI助手Khanmigo，能够帮助教师编写课堂提示或创建教学材料，更好地满足每个学生的学习需求。 0.14040501\n",
      "那么，AIGC技术在教育领域有哪些应用？AIGC技术在教育领域的优缺点又是什么呢？在教育领域，AI是否能替代人类教师的角色？？AIGC教育领域的应用可能带来哪些伦理问题呢？这些问题，我将在接下来的文章中为大家一一解答。 0.183281\n",
      "那么，AIGC技术在教育领域应用有哪些优缺点呢？ 0.20547959\n"
     ]
    }
   ],
   "source": [
    "for doc, score in docs_and_scores:\n",
    "    print(doc.page_content, score)"
   ]
  },
  {
   "cell_type": "markdown",
   "id": "7016ef16-61ab-4baa-86a9-ccbae66d5bef",
   "metadata": {},
   "source": [
    ">  欧式距离, 越小越相似"
   ]
  },
  {
   "cell_type": "markdown",
   "id": "68f0327f-fab3-4974-9253-c39699873a41",
   "metadata": {},
   "source": [
    "### 3. 根据向量查"
   ]
  },
  {
   "cell_type": "code",
   "execution_count": 45,
   "id": "028785b3-5a90-4eab-a072-d0ca9a19707b",
   "metadata": {
    "tags": []
   },
   "outputs": [],
   "source": [
    "embedding_vector = embeddings.embed_query(query)"
   ]
  },
  {
   "cell_type": "code",
   "execution_count": 46,
   "id": "e96d78ed-ff32-4999-9ba6-d20749c10a92",
   "metadata": {
    "tags": []
   },
   "outputs": [
    {
     "name": "stdout",
     "output_type": "stream",
     "text": [
      "面对这种情况，我们要思考，AIGC技术是否能替代人类教师的角色？ 0.0871196\n",
      "我认为，AIGC技术并不能完全替代人类教师。教师的角色不仅在于传递知识，他们的情感投入以及对学生个性和需求的理解是AI无法替代的。然而，AIGC技术可以成为教师的得力助手，比如，Khan Academy的AI助手Khanmigo，能够帮助教师编写课堂提示或创建教学材料，更好地满足每个学生的学习需求。 0.1403518\n",
      "那么，AIGC技术在教育领域有哪些应用？AIGC技术在教育领域的优缺点又是什么呢？在教育领域，AI是否能替代人类教师的角色？？AIGC教育领域的应用可能带来哪些伦理问题呢？这些问题，我将在接下来的文章中为大家一一解答。 0.18336548\n",
      "那么，AIGC技术在教育领域应用有哪些优缺点呢？ 0.20562895\n"
     ]
    }
   ],
   "source": [
    "for doc, score in db.similarity_search_with_score_by_vector(embedding_vector):\n",
    "    print(doc.page_content, score)"
   ]
  },
  {
   "cell_type": "code",
   "execution_count": null,
   "id": "c1d75cd9-bfec-47ca-af52-49af7abb3db8",
   "metadata": {},
   "outputs": [],
   "source": []
  },
  {
   "cell_type": "markdown",
   "id": "c8b45aec-c69b-4461-a1f9-da877317096f",
   "metadata": {},
   "source": [
    "### 4. Saving and loading"
   ]
  },
  {
   "cell_type": "code",
   "execution_count": 21,
   "id": "681eb5b3-d53f-4057-89cb-69c0b42df528",
   "metadata": {
    "tags": []
   },
   "outputs": [],
   "source": [
    "db.save_local('./faiss_index')"
   ]
  },
  {
   "cell_type": "code",
   "execution_count": 22,
   "id": "2ef8745d-49c7-4086-b0df-9e2cb158e2a9",
   "metadata": {
    "tags": []
   },
   "outputs": [],
   "source": [
    "new_db = FAISS.load_local('./faiss_index', embeddings)"
   ]
  },
  {
   "cell_type": "code",
   "execution_count": null,
   "id": "03fdfd0c-b4ac-4481-a14c-ef146eb3af00",
   "metadata": {},
   "outputs": [],
   "source": []
  },
  {
   "cell_type": "code",
   "execution_count": null,
   "id": "a17cd53b-cc9b-4a8b-adc4-ccd41d6e0fca",
   "metadata": {},
   "outputs": [],
   "source": []
  },
  {
   "cell_type": "code",
   "execution_count": null,
   "id": "e8a9d342-43d6-4d33-bbd3-146894fdb646",
   "metadata": {},
   "outputs": [],
   "source": []
  },
  {
   "cell_type": "code",
   "execution_count": null,
   "id": "1a4a50a4-ba0e-4f8a-a1a6-8ac4346e8844",
   "metadata": {},
   "outputs": [],
   "source": []
  },
  {
   "cell_type": "markdown",
   "id": "264340f2-c8b6-4c1d-9532-a4191412e632",
   "metadata": {},
   "source": [
    "### 5. Serializing and De-Serializing to bytes"
   ]
  },
  {
   "cell_type": "markdown",
   "id": "3d222fd9-ea10-4f09-a3f6-d603f79ac0b7",
   "metadata": {},
   "source": [
    "1. save_local 空间很大, \n",
    "2. 序列化接口很小, 如果要将向量库持久化到sql数据库, 这是个不错的选择. "
   ]
  },
  {
   "cell_type": "code",
   "execution_count": null,
   "id": "35f9d011-e7ff-4f12-9b14-9b45182f5e37",
   "metadata": {},
   "outputs": [],
   "source": []
  },
  {
   "cell_type": "code",
   "execution_count": null,
   "id": "16cdd292-349e-4edb-88b4-a3b428260ec0",
   "metadata": {},
   "outputs": [],
   "source": [
    "from langchain.embeddings.huggingface import HuggingFaceEmbeddings"
   ]
  },
  {
   "cell_type": "markdown",
   "id": "a4033d12-69a3-417f-8a23-127c327a7033",
   "metadata": {},
   "source": [
    "**序列化**"
   ]
  },
  {
   "cell_type": "code",
   "execution_count": 23,
   "id": "01a18a98-c713-4ed8-968b-f2f4bca0e66a",
   "metadata": {
    "tags": []
   },
   "outputs": [],
   "source": [
    "pkl = db.serialize_to_bytes()"
   ]
  },
  {
   "cell_type": "markdown",
   "id": "bde6b318-3a40-403a-937d-2f79fb4dbd5c",
   "metadata": {},
   "source": [
    "**反序列化**"
   ]
  },
  {
   "cell_type": "code",
   "execution_count": 24,
   "id": "879691d9-746b-4138-8376-e55487e977a4",
   "metadata": {
    "tags": []
   },
   "outputs": [],
   "source": [
    "db = FAISS.deserialize_from_bytes(embeddings=embeddings, serialized=pkl)"
   ]
  },
  {
   "cell_type": "code",
   "execution_count": null,
   "id": "ce6201b5-e93f-4518-a549-a64ce4107aae",
   "metadata": {},
   "outputs": [],
   "source": []
  },
  {
   "cell_type": "markdown",
   "id": "abd5b9b3-ab22-46a8-8a34-77dbee180876",
   "metadata": {},
   "source": [
    "### 6. Merging, 合并索引"
   ]
  },
  {
   "cell_type": "code",
   "execution_count": 25,
   "id": "fc3e1223-c618-4136-9e6f-0f162485260a",
   "metadata": {
    "tags": []
   },
   "outputs": [],
   "source": [
    "db1 = FAISS.from_texts([\"foo\"], embeddings)\n",
    "db2 = FAISS.from_texts(['bar'], embeddings)"
   ]
  },
  {
   "cell_type": "code",
   "execution_count": 26,
   "id": "8a663f17-c61f-4f9c-bf55-18c43743d624",
   "metadata": {
    "tags": []
   },
   "outputs": [
    {
     "data": {
      "text/plain": [
       "{'1c3c6c3d-d931-44dc-b147-96cddd259275': Document(page_content='foo')}"
      ]
     },
     "execution_count": 26,
     "metadata": {},
     "output_type": "execute_result"
    }
   ],
   "source": [
    "db1.docstore._dict"
   ]
  },
  {
   "cell_type": "code",
   "execution_count": 27,
   "id": "a53da54a-f8c4-4480-8c8d-d34667e6c1f4",
   "metadata": {
    "tags": []
   },
   "outputs": [
    {
     "data": {
      "text/plain": [
       "{'3d91c136-36bf-462a-9248-14adec957622': Document(page_content='bar')}"
      ]
     },
     "execution_count": 27,
     "metadata": {},
     "output_type": "execute_result"
    }
   ],
   "source": [
    "db2.docstore._dict"
   ]
  },
  {
   "cell_type": "code",
   "execution_count": null,
   "id": "2d96a29f-51dd-479b-ae5e-643e20376ec3",
   "metadata": {},
   "outputs": [],
   "source": []
  },
  {
   "cell_type": "code",
   "execution_count": 28,
   "id": "21e6bc7c-16cd-46b0-a99a-960dcdee1226",
   "metadata": {
    "tags": []
   },
   "outputs": [],
   "source": [
    "db1.merge_from(db2)"
   ]
  },
  {
   "cell_type": "code",
   "execution_count": 29,
   "id": "74a95ed7-f644-4c40-ab36-ed1a0588d1b6",
   "metadata": {
    "tags": []
   },
   "outputs": [
    {
     "data": {
      "text/plain": [
       "{'1c3c6c3d-d931-44dc-b147-96cddd259275': Document(page_content='foo'),\n",
       " '3d91c136-36bf-462a-9248-14adec957622': Document(page_content='bar')}"
      ]
     },
     "execution_count": 29,
     "metadata": {},
     "output_type": "execute_result"
    }
   ],
   "source": [
    "db1.docstore._dict"
   ]
  },
  {
   "cell_type": "code",
   "execution_count": null,
   "id": "496b2aed-9ec3-48a1-af02-75ee6ae9e03f",
   "metadata": {},
   "outputs": [],
   "source": []
  },
  {
   "cell_type": "markdown",
   "id": "0513c3a6-6f0d-4ccc-bbf4-cb63ab44a3de",
   "metadata": {},
   "source": [
    "### 7. 带过滤器的相似度查找"
   ]
  },
  {
   "cell_type": "markdown",
   "id": "8e40b509-2e18-4688-acaf-2f5d5351d9d2",
   "metadata": {},
   "source": [
    "> 1. fetch_k : 是过滤之前获取的文档数 <br>"
   ]
  },
  {
   "cell_type": "code",
   "execution_count": 30,
   "id": "12ecf2f7-8e32-429e-882f-fbd2b995af7d",
   "metadata": {
    "tags": []
   },
   "outputs": [],
   "source": [
    "from langchain.schema import Document"
   ]
  },
  {
   "cell_type": "code",
   "execution_count": null,
   "id": "c8d418c3-1399-4f67-a521-c740c071dbc8",
   "metadata": {},
   "outputs": [],
   "source": []
  },
  {
   "cell_type": "code",
   "execution_count": 31,
   "id": "0b27846b-c2c8-4581-87de-425c5f64cdea",
   "metadata": {
    "tags": []
   },
   "outputs": [],
   "source": [
    "list_of_documents = [\n",
    "    Document(page_content=\"foo\", metadata=dict(page=1)),\n",
    "    Document(page_content=\"bar\", metadata=dict(page=1)),\n",
    "    Document(page_content=\"foo\", metadata=dict(page=2)),\n",
    "    Document(page_content=\"barbar\", metadata=dict(page=2)),\n",
    "    Document(page_content=\"foo\", metadata=dict(page=3)),\n",
    "    Document(page_content=\"bar burr\", metadata=dict(page=3)),\n",
    "    Document(page_content=\"foo\", metadata=dict(page=4)),\n",
    "    Document(page_content=\"bar bruh\", metadata=dict(page=4)),\n",
    "]"
   ]
  },
  {
   "cell_type": "code",
   "execution_count": null,
   "id": "958144e5-1ac3-457d-bd36-5ff635fc1e47",
   "metadata": {},
   "outputs": [],
   "source": []
  },
  {
   "cell_type": "code",
   "execution_count": 52,
   "id": "c44d83dc-3a7d-42cd-9c6d-338eda81761e",
   "metadata": {
    "tags": []
   },
   "outputs": [],
   "source": [
    "db = FAISS.from_documents(list_of_documents, embeddings)"
   ]
  },
  {
   "cell_type": "code",
   "execution_count": 33,
   "id": "9c1f238e-d1c0-4024-94e4-2ceb8cbe644f",
   "metadata": {
    "tags": []
   },
   "outputs": [],
   "source": [
    "results_with_scores = db.similarity_search_with_score(\"foo\")"
   ]
  },
  {
   "cell_type": "code",
   "execution_count": 34,
   "id": "2fb660ac-e976-4ef2-b7f7-e0e3962fd5ed",
   "metadata": {
    "tags": []
   },
   "outputs": [
    {
     "name": "stdout",
     "output_type": "stream",
     "text": [
      "Content: foo, Metadata: {'page': 1}, Score: 0.0\n",
      "Content: foo, Metadata: {'page': 2}, Score: 0.0\n",
      "Content: foo, Metadata: {'page': 3}, Score: 0.0\n",
      "Content: foo, Metadata: {'page': 4}, Score: 0.0\n"
     ]
    }
   ],
   "source": [
    "for doc, score in results_with_scores:\n",
    "    print(f\"Content: {doc.page_content}, Metadata: {doc.metadata}, Score: {score}\")"
   ]
  },
  {
   "cell_type": "code",
   "execution_count": null,
   "id": "7f7d2c7b-1c19-4282-bf1b-db9e10d05381",
   "metadata": {},
   "outputs": [],
   "source": []
  },
  {
   "cell_type": "markdown",
   "id": "c043df4d-cb6a-4200-98af-a42f77c6837b",
   "metadata": {},
   "source": [
    "> Now we make the same query call but we filter for only `page = 1`"
   ]
  },
  {
   "cell_type": "code",
   "execution_count": 35,
   "id": "aaea8121-b24d-412f-ab5c-93e4e6af03b4",
   "metadata": {
    "tags": []
   },
   "outputs": [
    {
     "name": "stdout",
     "output_type": "stream",
     "text": [
      "Content: foo, Metadata: {'page': 1}, Score: 1.4206954801920801e-05\n",
      "Content: bar, Metadata: {'page': 1}, Score: 0.3131061792373657\n"
     ]
    }
   ],
   "source": [
    "results_with_scores = db.similarity_search_with_score(\"foo\", filter=dict(page=1))\n",
    "for doc, score in results_with_scores:\n",
    "    print(f\"Content: {doc.page_content}, Metadata: {doc.metadata}, Score: {score}\")"
   ]
  },
  {
   "cell_type": "markdown",
   "id": "d29c95c6-22c6-421a-8136-74ff4220fea4",
   "metadata": {},
   "source": [
    "> Same thing can be done with the `max_marginal_relevance_search` as well."
   ]
  },
  {
   "cell_type": "code",
   "execution_count": 36,
   "id": "55ded93e-42e5-4a8d-9c58-d155340c2362",
   "metadata": {
    "tags": []
   },
   "outputs": [
    {
     "name": "stdout",
     "output_type": "stream",
     "text": [
      "Content: foo, Metadata: {'page': 1}\n",
      "Content: bar, Metadata: {'page': 1}\n"
     ]
    }
   ],
   "source": [
    "results = db.max_marginal_relevance_search(\"foo\", filter=dict(page=1))\n",
    "for doc in results:\n",
    "    print(f\"Content: {doc.page_content}, Metadata: {doc.metadata}\")"
   ]
  },
  {
   "cell_type": "markdown",
   "id": "b044a83d-1321-41c2-9e61-6e0b97d6aa63",
   "metadata": {},
   "source": [
    "> `fetch_k` parameter is the number of documents that will be fetched before filtering<br>\n",
    "> `fetch_k` parameter 是在过滤之前抓取的文档数量"
   ]
  },
  {
   "cell_type": "code",
   "execution_count": 37,
   "id": "868089cb-3f56-42a6-834c-5201acca1098",
   "metadata": {
    "tags": []
   },
   "outputs": [
    {
     "name": "stdout",
     "output_type": "stream",
     "text": [
      "Content: foo, Metadata: {'page': 1}\n"
     ]
    }
   ],
   "source": [
    "results = db.similarity_search(\"foo\", filter=dict(page=1), k=1, fetch_k=4)\n",
    "for doc in results:\n",
    "    print(f\"Content: {doc.page_content}, Metadata: {doc.metadata}\")"
   ]
  },
  {
   "cell_type": "code",
   "execution_count": null,
   "id": "05e5c007-ab97-4fe2-8670-95a0850fe59a",
   "metadata": {},
   "outputs": [],
   "source": []
  },
  {
   "cell_type": "code",
   "execution_count": 53,
   "id": "29504e94-26e4-4284-aae0-5c2cc2d37f30",
   "metadata": {
    "tags": []
   },
   "outputs": [
    {
     "data": {
      "text/plain": [
       "{0: 'a992967c-761b-4fe6-9f64-5aa7ed88d545',\n",
       " 1: 'ba1094b9-b7c8-437c-a1db-33c1a39fdfe1',\n",
       " 2: 'b31d8eac-3d9c-4d26-8244-2272a14b9122',\n",
       " 3: 'a8dc35f4-6334-42ae-b76d-87fb5a123674',\n",
       " 4: '7a95ca75-8b31-4744-8a7b-f41915b09c6e',\n",
       " 5: 'a3f06aaf-096b-48fe-ba16-36a3da942f65',\n",
       " 6: '9aa83411-5832-41c1-8fff-091e13f2cd5e',\n",
       " 7: '3d8263fd-7c18-444c-b5e4-b3d73b5abf91'}"
      ]
     },
     "execution_count": 53,
     "metadata": {},
     "output_type": "execute_result"
    }
   ],
   "source": [
    "db.index_to_docstore_id"
   ]
  },
  {
   "cell_type": "code",
   "execution_count": 54,
   "id": "79964cbc-3e29-4d88-9b20-d827b1b0998a",
   "metadata": {
    "tags": []
   },
   "outputs": [
    {
     "data": {
      "text/plain": [
       "'a992967c-761b-4fe6-9f64-5aa7ed88d545'"
      ]
     },
     "execution_count": 54,
     "metadata": {},
     "output_type": "execute_result"
    }
   ],
   "source": [
    "db.index_to_docstore_id[0]"
   ]
  },
  {
   "cell_type": "code",
   "execution_count": 55,
   "id": "abed58de-08df-41b5-98a3-40fb2d7ee1f2",
   "metadata": {
    "tags": []
   },
   "outputs": [
    {
     "data": {
      "text/plain": [
       "True"
      ]
     },
     "execution_count": 55,
     "metadata": {},
     "output_type": "execute_result"
    }
   ],
   "source": [
    "db.delete([db.index_to_docstore_id[0]])"
   ]
  },
  {
   "cell_type": "code",
   "execution_count": 56,
   "id": "1dd5c641-392c-4308-bfdb-ee9365df07f6",
   "metadata": {
    "tags": []
   },
   "outputs": [
    {
     "data": {
      "text/plain": [
       "True"
      ]
     },
     "execution_count": 56,
     "metadata": {},
     "output_type": "execute_result"
    }
   ],
   "source": [
    "0 in db.index_to_docstore_id"
   ]
  },
  {
   "cell_type": "code",
   "execution_count": 57,
   "id": "98f8f64f-ce91-4525-9400-f6c4317d26a4",
   "metadata": {
    "tags": []
   },
   "outputs": [
    {
     "data": {
      "text/plain": [
       "{0: 'ba1094b9-b7c8-437c-a1db-33c1a39fdfe1',\n",
       " 1: 'b31d8eac-3d9c-4d26-8244-2272a14b9122',\n",
       " 2: 'a8dc35f4-6334-42ae-b76d-87fb5a123674',\n",
       " 3: '7a95ca75-8b31-4744-8a7b-f41915b09c6e',\n",
       " 4: 'a3f06aaf-096b-48fe-ba16-36a3da942f65',\n",
       " 5: '9aa83411-5832-41c1-8fff-091e13f2cd5e',\n",
       " 6: '3d8263fd-7c18-444c-b5e4-b3d73b5abf91'}"
      ]
     },
     "execution_count": 57,
     "metadata": {},
     "output_type": "execute_result"
    }
   ],
   "source": [
    "db.index_to_docstore_id"
   ]
  },
  {
   "cell_type": "markdown",
   "id": "ba0be223-2740-4273-a1a0-40ca1838e3b7",
   "metadata": {},
   "source": [
    "> 少了一个 `a992967c-761b-4fe6-9f64-5aa7ed88d545`"
   ]
  },
  {
   "cell_type": "code",
   "execution_count": null,
   "id": "93adafd1-f655-49ae-b49e-49dd83ad3ef0",
   "metadata": {},
   "outputs": [],
   "source": []
  },
  {
   "cell_type": "code",
   "execution_count": null,
   "id": "ba43ac2d-bedb-4efc-baf8-eb1b0ea5f89b",
   "metadata": {},
   "outputs": [],
   "source": []
  },
  {
   "cell_type": "code",
   "execution_count": 58,
   "id": "51e831d0-4349-4727-b411-a76240a40c79",
   "metadata": {
    "tags": []
   },
   "outputs": [
    {
     "data": {
      "text/plain": [
       "\u001b[0;31mSignature:\u001b[0m \u001b[0mdb\u001b[0m\u001b[0;34m.\u001b[0m\u001b[0madd_documents\u001b[0m\u001b[0;34m(\u001b[0m\u001b[0mdocuments\u001b[0m\u001b[0;34m:\u001b[0m \u001b[0;34m'List[Document]'\u001b[0m\u001b[0;34m,\u001b[0m \u001b[0;34m**\u001b[0m\u001b[0mkwargs\u001b[0m\u001b[0;34m:\u001b[0m \u001b[0;34m'Any'\u001b[0m\u001b[0;34m)\u001b[0m \u001b[0;34m->\u001b[0m \u001b[0;34m'List[str]'\u001b[0m\u001b[0;34m\u001b[0m\u001b[0;34m\u001b[0m\u001b[0m\n",
       "\u001b[0;31mDocstring:\u001b[0m\n",
       "Run more documents through the embeddings and add to the vectorstore.\n",
       "\n",
       "Args:\n",
       "    documents (List[Document]: Documents to add to the vectorstore.\n",
       "\n",
       "Returns:\n",
       "    List[str]: List of IDs of the added texts.\n",
       "\u001b[0;31mFile:\u001b[0m      /opt/conda/envs/preventloss/lib/python3.9/site-packages/langchain/schema/vectorstore.py\n",
       "\u001b[0;31mType:\u001b[0m      method"
      ]
     },
     "metadata": {},
     "output_type": "display_data"
    }
   ],
   "source": [
    "db.add_documents?"
   ]
  },
  {
   "cell_type": "code",
   "execution_count": 59,
   "id": "0d2d4403-24e3-4599-8395-f90fd18ef729",
   "metadata": {
    "tags": []
   },
   "outputs": [
    {
     "data": {
      "text/plain": [
       "\u001b[0;31mSignature:\u001b[0m\n",
       "\u001b[0mdb\u001b[0m\u001b[0;34m.\u001b[0m\u001b[0madd_texts\u001b[0m\u001b[0;34m(\u001b[0m\u001b[0;34m\u001b[0m\n",
       "\u001b[0;34m\u001b[0m    \u001b[0mtexts\u001b[0m\u001b[0;34m:\u001b[0m \u001b[0;34m'Iterable[str]'\u001b[0m\u001b[0;34m,\u001b[0m\u001b[0;34m\u001b[0m\n",
       "\u001b[0;34m\u001b[0m    \u001b[0mmetadatas\u001b[0m\u001b[0;34m:\u001b[0m \u001b[0;34m'Optional[List[dict]]'\u001b[0m \u001b[0;34m=\u001b[0m \u001b[0;32mNone\u001b[0m\u001b[0;34m,\u001b[0m\u001b[0;34m\u001b[0m\n",
       "\u001b[0;34m\u001b[0m    \u001b[0mids\u001b[0m\u001b[0;34m:\u001b[0m \u001b[0;34m'Optional[List[str]]'\u001b[0m \u001b[0;34m=\u001b[0m \u001b[0;32mNone\u001b[0m\u001b[0;34m,\u001b[0m\u001b[0;34m\u001b[0m\n",
       "\u001b[0;34m\u001b[0m    \u001b[0;34m**\u001b[0m\u001b[0mkwargs\u001b[0m\u001b[0;34m:\u001b[0m \u001b[0;34m'Any'\u001b[0m\u001b[0;34m,\u001b[0m\u001b[0;34m\u001b[0m\n",
       "\u001b[0;34m\u001b[0m\u001b[0;34m)\u001b[0m \u001b[0;34m->\u001b[0m \u001b[0;34m'List[str]'\u001b[0m\u001b[0;34m\u001b[0m\u001b[0;34m\u001b[0m\u001b[0m\n",
       "\u001b[0;31mDocstring:\u001b[0m\n",
       "Run more texts through the embeddings and add to the vectorstore.\n",
       "\n",
       "Args:\n",
       "    texts: Iterable of strings to add to the vectorstore.\n",
       "    metadatas: Optional list of metadatas associated with the texts.\n",
       "    ids: Optional list of unique IDs.\n",
       "\n",
       "Returns:\n",
       "    List of ids from adding the texts into the vectorstore.\n",
       "\u001b[0;31mFile:\u001b[0m      /opt/conda/envs/preventloss/lib/python3.9/site-packages/langchain/vectorstores/faiss.py\n",
       "\u001b[0;31mType:\u001b[0m      method"
      ]
     },
     "metadata": {},
     "output_type": "display_data"
    }
   ],
   "source": [
    "db.add_texts?"
   ]
  },
  {
   "cell_type": "code",
   "execution_count": null,
   "id": "c1e0c4b5-4941-40e3-a3aa-a0fd299222ad",
   "metadata": {},
   "outputs": [],
   "source": []
  },
  {
   "cell_type": "code",
   "execution_count": null,
   "id": "6464eb83-9d63-495f-9c69-818f526ac24d",
   "metadata": {},
   "outputs": [],
   "source": []
  },
  {
   "cell_type": "markdown",
   "id": "c64dfa2d-eaf7-4845-9207-00be982ea8b3",
   "metadata": {},
   "source": [
    "# facebook faiss\n",
    "\n",
    "[wiki-get start](https://github.com/facebookresearch/faiss/wiki/Getting-started)"
   ]
  },
  {
   "cell_type": "markdown",
   "id": "41a2e686-02b6-4758-b8df-b330572a3e05",
   "metadata": {},
   "source": [
    "## Basic Info\n",
    "\n",
    "> full name:  facebook ai similarity search<br>\n",
    "> Faiss uses only 32-bit floating point matrics.<br>\n",
    "> fixed dimensionality: $\\rm \\large d$<br>\n",
    "> we need two matrics:<br>\n",
    ">> * xb: index and search. size: $\\rm \\large nb \\times d$<br>\n",
    ">> * xq: query. size: $\\rm \\large nq \\times d$, if we have a single query vector, $\\rm \\large nq = 1$<br>\n",
    ">> * query result $\\rm \\large nq \\times k$, 因为每个qeury返回k近邻\n"
   ]
  },
  {
   "cell_type": "code",
   "execution_count": null,
   "id": "75ac997c-2535-47c0-a5c8-164eca7a5fbd",
   "metadata": {},
   "outputs": [],
   "source": []
  },
  {
   "cell_type": "markdown",
   "id": "395bbcff-c396-4741-bc80-9aaff938b3d0",
   "metadata": {},
   "source": [
    "## basic usage\n",
    "\n",
    "\n",
    "* 构建索引index\n",
    "* 根据不同索引的特性，对索引进行训练（train）\n",
    "* add 添加xb数据到索引\n",
    "* 针对xq进行搜索search操作"
   ]
  },
  {
   "cell_type": "markdown",
   "id": "111d22ae-76de-42e3-9cbf-54a5ceda18f7",
   "metadata": {},
   "source": [
    "### prepare data"
   ]
  },
  {
   "cell_type": "markdown",
   "id": "04ad9939-8e52-4b5c-8d42-0de9b2ef34a4",
   "metadata": {},
   "source": [
    "folloing examples:<br>\n",
    "1. $\\rm \\large d=64$ <br>\n",
    "2. sampling from uniform distribution"
   ]
  },
  {
   "cell_type": "code",
   "execution_count": 1,
   "id": "42f56f1c-81c3-4da3-91df-56c239c6ed76",
   "metadata": {
    "tags": []
   },
   "outputs": [],
   "source": [
    "import numpy as np"
   ]
  },
  {
   "cell_type": "code",
   "execution_count": 2,
   "id": "42a8f6c4-c569-4618-924d-2509d5a246ea",
   "metadata": {},
   "outputs": [],
   "source": [
    "d = 64                # dimension\n",
    "nb = 10000            # database size\n",
    "nq = 1000             # queries size\n",
    "np.random.seed(1234)  # make reproducible\n",
    "\n",
    "xb = np.random.random((nb, d)).astype('float32')\n",
    "xb[:, 0] += np.arange(nb) / 1000.\n",
    "xq = np.random.random((nq, d)).astype('float32')\n",
    "xq[:, 0] += np.arange(nq) / 1000."
   ]
  },
  {
   "cell_type": "markdown",
   "id": "e31a2b0d-63f2-4a37-8c2c-d4f3e9e1791a",
   "metadata": {},
   "source": [
    "### Building an index and adding the vectors to it\n",
    "\n",
    "\n",
    "### training"
   ]
  },
  {
   "cell_type": "markdown",
   "id": "e2b2b6c2-78c1-4804-b275-a4c06ef28db3",
   "metadata": {},
   "source": [
    "> 这里不详细说了, 一堆索引类型"
   ]
  },
  {
   "cell_type": "code",
   "execution_count": 3,
   "id": "43284ced-ba86-467a-844a-24f149f7c19c",
   "metadata": {
    "tags": []
   },
   "outputs": [],
   "source": [
    "import faiss"
   ]
  },
  {
   "cell_type": "code",
   "execution_count": 4,
   "id": "a90417a3-2fcf-44e9-a64c-6433deb223ad",
   "metadata": {},
   "outputs": [],
   "source": [
    "index = faiss.IndexFlatL2(d)  # build the index"
   ]
  },
  {
   "cell_type": "markdown",
   "id": "b6d0e1be-df71-4557-923d-a842df941616",
   "metadata": {},
   "source": [
    "> IndexFlatL2不需要训练过程"
   ]
  },
  {
   "cell_type": "code",
   "execution_count": 16,
   "id": "76e6dc59-6af1-4b0d-9532-cf8cf0fca6b0",
   "metadata": {},
   "outputs": [
    {
     "data": {
      "text/plain": [
       "True"
      ]
     },
     "execution_count": 16,
     "metadata": {},
     "output_type": "execute_result"
    }
   ],
   "source": [
    "index.is_trained    # IndexFlatL2不需要训练过程"
   ]
  },
  {
   "cell_type": "code",
   "execution_count": 6,
   "id": "e0f56fb8-4ad2-4e23-9090-8daf153226f6",
   "metadata": {},
   "outputs": [],
   "source": [
    "index.add(xb)"
   ]
  },
  {
   "cell_type": "code",
   "execution_count": 7,
   "id": "f559c888-a1fc-47fa-9729-50e932542078",
   "metadata": {
    "tags": []
   },
   "outputs": [
    {
     "data": {
      "text/plain": [
       "10000"
      ]
     },
     "execution_count": 7,
     "metadata": {},
     "output_type": "execute_result"
    }
   ],
   "source": [
    "index.ntotal"
   ]
  },
  {
   "cell_type": "markdown",
   "id": "d9d5c56f-19cd-4713-8597-a90d459a2474",
   "metadata": {},
   "source": [
    "### Searching"
   ]
  },
  {
   "cell_type": "markdown",
   "id": "54c73a39-259d-40b6-a330-21d5e9e7a972",
   "metadata": {
    "tags": []
   },
   "source": [
    "> The basic search operation that can be performed on an index is the k-nearest-neighbor search, ie. for each query vector, find its k nearest neighbors in the database.<br>\n",
    "> 做 `k-nearest-neigbhor` 搜索, 针对每个query 返回 `k`个 最近邻.<br>\n",
    "\n",
    "\n",
    ">> * xb: index and search. size: $\\rm \\large nb \\times d$<br>\n",
    ">> * xq: query. size: $\\rm \\large nq \\times d$, if we have a single query vector, $\\rm \\large nq = 1$<br>\n",
    ">> * query result $\\rm \\large nq \\times k$, 因为每个qeury返回k近邻"
   ]
  },
  {
   "cell_type": "code",
   "execution_count": 13,
   "id": "3eed736c-3717-4d85-b0d7-2ecba08e3798",
   "metadata": {
    "collapsed": true,
    "jupyter": {
     "outputs_hidden": true
    },
    "tags": []
   },
   "outputs": [
    {
     "data": {
      "text/plain": [
       "\u001b[0;31mSignature:\u001b[0m \u001b[0mindex\u001b[0m\u001b[0;34m.\u001b[0m\u001b[0msearch\u001b[0m\u001b[0;34m(\u001b[0m\u001b[0mx\u001b[0m\u001b[0;34m,\u001b[0m \u001b[0mk\u001b[0m\u001b[0;34m,\u001b[0m \u001b[0;34m*\u001b[0m\u001b[0;34m,\u001b[0m \u001b[0mparams\u001b[0m\u001b[0;34m=\u001b[0m\u001b[0;32mNone\u001b[0m\u001b[0;34m,\u001b[0m \u001b[0mD\u001b[0m\u001b[0;34m=\u001b[0m\u001b[0;32mNone\u001b[0m\u001b[0;34m,\u001b[0m \u001b[0mI\u001b[0m\u001b[0;34m=\u001b[0m\u001b[0;32mNone\u001b[0m\u001b[0;34m)\u001b[0m\u001b[0;34m\u001b[0m\u001b[0;34m\u001b[0m\u001b[0m\n",
       "\u001b[0;31mDocstring:\u001b[0m\n",
       "Find the k nearest neighbors of the set of vectors x in the index.\n",
       "\n",
       "Parameters\n",
       "----------\n",
       "x : array_like\n",
       "    Query vectors, shape (n, d) where d is appropriate for the index.\n",
       "    `dtype` must be float32.\n",
       "k : int\n",
       "    Number of nearest neighbors.\n",
       "params : SearchParameters\n",
       "    Search parameters of the current search (overrides the class-level params)\n",
       "D : array_like, optional\n",
       "    Distance array to store the result.\n",
       "I : array_like, optional\n",
       "    Labels array to store the results.\n",
       "\n",
       "Returns\n",
       "-------\n",
       "D : array_like\n",
       "    Distances of the nearest neighbors, shape (n, k). When not enough results are found\n",
       "    the label is set to +Inf or -Inf.\n",
       "I : array_like\n",
       "    Labels of the nearest neighbors, shape (n, k).\n",
       "    When not enough results are found, the label is set to -1\n",
       "\u001b[0;31mFile:\u001b[0m      /opt/conda/envs/preventloss/lib/python3.9/site-packages/faiss/class_wrappers.py\n",
       "\u001b[0;31mType:\u001b[0m      method"
      ]
     },
     "metadata": {},
     "output_type": "display_data"
    }
   ],
   "source": [
    "index.search?"
   ]
  },
  {
   "cell_type": "code",
   "execution_count": null,
   "id": "246ad6ec-3847-469a-8949-7f9fa44fe589",
   "metadata": {},
   "outputs": [],
   "source": []
  },
  {
   "cell_type": "code",
   "execution_count": 14,
   "id": "f72d8157-490e-4eb7-a29d-c9cc66216339",
   "metadata": {
    "tags": []
   },
   "outputs": [
    {
     "name": "stdout",
     "output_type": "stream",
     "text": [
      "[[  0 393 363  78]\n",
      " [  1 555 277 364]\n",
      " [  2 304 101  13]\n",
      " [  3 173  18 182]\n",
      " [  4 288 370 531]]\n",
      "[[0.        7.1751738 7.20763   7.2511625]\n",
      " [0.        6.3235645 6.684581  6.799946 ]\n",
      " [0.        5.7964087 6.391736  7.2815123]\n",
      " [0.        7.2779055 7.5279875 7.662846 ]\n",
      " [0.        6.7638035 7.2951202 7.3688145]]\n",
      "[[ 794   72  515 1204]\n",
      " [ 393  919  424  923]\n",
      " [ 688  806  763  185]\n",
      " [ 950  230  317  703]\n",
      " [ 199  409  411  794]]\n",
      "[[1682 1663 1766 1759]\n",
      " [1225 1501 1193 1656]\n",
      " [1095 1369 1308  958]\n",
      " [1346 1386 1136  664]\n",
      " [ 627  308  678  856]]\n"
     ]
    }
   ],
   "source": [
    "k = 4          # 4 nearest neighbors\n",
    "D, I = index.search(xb[:5], k)  # sanity check 合法性检查\n",
    "print(I)\n",
    "print(D)\n",
    "D, I = index.search(xq, k)\n",
    "print(I[:5])\n",
    "print(I[-5:])"
   ]
  },
  {
   "cell_type": "markdown",
   "id": "c8f1306d-f397-443b-bf00-9147cbf614a4",
   "metadata": {
    "tags": []
   },
   "source": [
    "* $\\rm \\large I$的维度是 $\\rm \\large nq \\times 4$,代表距离每个query最近的k个数据的id\n",
    "* $\\rm \\large D$的维度是 $\\rm \\large nq \\times 4$,代表距离每个query最近的k个数据的距离"
   ]
  },
  {
   "cell_type": "markdown",
   "id": "da4997b4-73c3-4439-8c9f-6ef8c2994f7d",
   "metadata": {},
   "source": [
    "> * sanity check的输出:  与$\\rm \\large xb[:5]$最相似的都是自身, 索引 最相似的索引都是第一个 第4相似的是第4列. 同样的第二个矩阵的第一列都是零,因为 自身的欧式距离是 0"
   ]
  },
  {
   "cell_type": "code",
   "execution_count": null,
   "id": "51fa2f20-8800-4c96-96f5-40f2aab43646",
   "metadata": {},
   "outputs": [],
   "source": []
  },
  {
   "cell_type": "code",
   "execution_count": null,
   "id": "e4b30917-c61c-4c68-91a2-6119a6437851",
   "metadata": {},
   "outputs": [],
   "source": []
  },
  {
   "cell_type": "code",
   "execution_count": null,
   "id": "cea51415-ffe8-4bfa-a065-febb78c80dac",
   "metadata": {},
   "outputs": [],
   "source": []
  },
  {
   "cell_type": "code",
   "execution_count": null,
   "id": "482c59be-7790-44ca-9719-b5d776da3b95",
   "metadata": {},
   "outputs": [],
   "source": []
  },
  {
   "cell_type": "code",
   "execution_count": null,
   "id": "84adb32d-8e68-46e2-a860-d72d7f157453",
   "metadata": {},
   "outputs": [],
   "source": []
  },
  {
   "cell_type": "code",
   "execution_count": null,
   "id": "5a8e535a-8d7f-48a0-8a90-86da17baa80f",
   "metadata": {},
   "outputs": [],
   "source": []
  },
  {
   "cell_type": "code",
   "execution_count": null,
   "id": "20aa3434-fda2-4f0e-a2c0-4fc9a7f9db96",
   "metadata": {},
   "outputs": [],
   "source": []
  },
  {
   "cell_type": "code",
   "execution_count": null,
   "id": "18733bf4-9195-4b8c-9ff6-96bb440d2c3f",
   "metadata": {},
   "outputs": [],
   "source": []
  },
  {
   "cell_type": "code",
   "execution_count": null,
   "id": "0dcfdc6e-7380-4d7d-8669-b27366cad7ad",
   "metadata": {},
   "outputs": [],
   "source": []
  },
  {
   "cell_type": "code",
   "execution_count": null,
   "id": "d2215344-65d1-4fb5-8350-bbf34d1002bb",
   "metadata": {},
   "outputs": [],
   "source": []
  },
  {
   "cell_type": "code",
   "execution_count": null,
   "id": "629d8a20-c3ec-4345-b485-735c3af48369",
   "metadata": {},
   "outputs": [],
   "source": []
  },
  {
   "cell_type": "code",
   "execution_count": null,
   "id": "806b8b1c-1787-4c95-b6bf-64231ae6f887",
   "metadata": {},
   "outputs": [],
   "source": []
  },
  {
   "cell_type": "code",
   "execution_count": null,
   "id": "ce46d18e-6538-4fdb-bdd1-9846b56b179e",
   "metadata": {},
   "outputs": [],
   "source": []
  },
  {
   "cell_type": "code",
   "execution_count": null,
   "id": "c43c9358-dcd8-40f7-a99c-98c97ce588e0",
   "metadata": {},
   "outputs": [],
   "source": []
  },
  {
   "cell_type": "code",
   "execution_count": null,
   "id": "6ef28c71-c5ac-40a5-a652-1823e13c3b14",
   "metadata": {},
   "outputs": [],
   "source": []
  },
  {
   "cell_type": "code",
   "execution_count": null,
   "id": "c3d5ea12-fcd0-49c8-a3b5-969225c52c3e",
   "metadata": {},
   "outputs": [],
   "source": []
  }
 ],
 "metadata": {
  "environment": {
   "kernel": "conda-env-preventloss-py",
   "name": "pytorch-gpu.1-13.m105",
   "type": "gcloud",
   "uri": "gcr.io/deeplearning-platform-release/pytorch-gpu.1-13:m105"
  },
  "kernelspec": {
   "display_name": "chatglm26b",
   "language": "python",
   "name": "chatglm26b"
  },
  "language_info": {
   "codemirror_mode": {
    "name": "ipython",
    "version": 3
   },
   "file_extension": ".py",
   "mimetype": "text/x-python",
   "name": "python",
   "nbconvert_exporter": "python",
   "pygments_lexer": "ipython3",
   "version": "3.9.6"
  }
 },
 "nbformat": 4,
 "nbformat_minor": 5
}
