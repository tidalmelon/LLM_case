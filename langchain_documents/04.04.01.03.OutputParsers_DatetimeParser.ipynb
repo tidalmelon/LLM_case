{
 "cells": [
  {
   "cell_type": "code",
   "execution_count": null,
   "id": "b9d52a5a-00e0-4828-87c7-77c50daf68b1",
   "metadata": {},
   "outputs": [],
   "source": []
  },
  {
   "cell_type": "code",
   "execution_count": null,
   "id": "129e4529-0d9b-4ca0-aa2e-47efe1b3fec7",
   "metadata": {},
   "outputs": [],
   "source": []
  },
  {
   "cell_type": "markdown",
   "id": "b1591fed-87d6-4be1-9b3a-4146e2296950",
   "metadata": {},
   "source": [
    "## Datetime Parser"
   ]
  },
  {
   "cell_type": "markdown",
   "id": "ab19c6de-25ed-4ded-bd89-98ea03daa6a3",
   "metadata": {},
   "source": [
    "**This OutputParser can be used to parse LLM output into datetime format.**"
   ]
  },
  {
   "cell_type": "code",
   "execution_count": null,
   "id": "064df71c-08e9-4c48-a92a-0d9fac5267b6",
   "metadata": {},
   "outputs": [],
   "source": []
  },
  {
   "cell_type": "code",
   "execution_count": 2,
   "id": "42ae6f4d-34ae-4452-aa58-34c4d2178a1a",
   "metadata": {
    "tags": []
   },
   "outputs": [],
   "source": [
    "from langchain.prompts import PromptTemplate\n",
    "from langchain.output_parsers import DatetimeOutputParser\n",
    "from langchain.chains import LLMChain\n",
    "from langchain.llms import OpenAI"
   ]
  },
  {
   "cell_type": "code",
   "execution_count": null,
   "id": "25555eb6-8df4-485e-987d-3b7c82fb475c",
   "metadata": {},
   "outputs": [],
   "source": []
  },
  {
   "cell_type": "markdown",
   "id": "f0195ee3-9dba-4507-b4ad-1e28e739ac73",
   "metadata": {},
   "source": [
    "### 要素1: output parser"
   ]
  },
  {
   "cell_type": "code",
   "execution_count": null,
   "id": "34f372fb-6238-4f97-96da-73492edd2239",
   "metadata": {},
   "outputs": [],
   "source": []
  },
  {
   "cell_type": "code",
   "execution_count": 3,
   "id": "db68aba7-005b-431a-8f2f-9901d05f0781",
   "metadata": {
    "tags": []
   },
   "outputs": [],
   "source": [
    "output_parser = DatetimeOutputParser()"
   ]
  },
  {
   "cell_type": "code",
   "execution_count": null,
   "id": "19121a10-feca-453a-b9df-753523154225",
   "metadata": {},
   "outputs": [],
   "source": []
  },
  {
   "cell_type": "markdown",
   "id": "c2b837a7-d8d3-41e5-9ecb-0be405ed73ac",
   "metadata": {},
   "source": [
    "### 要素2: prompt"
   ]
  },
  {
   "cell_type": "code",
   "execution_count": 4,
   "id": "a228b169-acad-4420-bf10-fb91af139098",
   "metadata": {
    "tags": []
   },
   "outputs": [],
   "source": [
    "template = \"\"\"Answer the users question:\n",
    "\n",
    "{question}\n",
    "\n",
    "{format_instructions}\"\"\""
   ]
  },
  {
   "cell_type": "code",
   "execution_count": 5,
   "id": "2a20023b-0bee-4d90-bd43-5992dc317645",
   "metadata": {
    "tags": []
   },
   "outputs": [],
   "source": [
    "prompt = PromptTemplate.from_template(\n",
    "    template, \n",
    "    partial_variables={'format_instructions': output_parser.get_format_instructions()}\n",
    ")"
   ]
  },
  {
   "cell_type": "markdown",
   "id": "fa5d53a4-0ac0-40cf-a9c8-a3d8d60dafa1",
   "metadata": {},
   "source": [
    "### 要素3: Model"
   ]
  },
  {
   "cell_type": "code",
   "execution_count": null,
   "id": "555e191c-96ae-4bc4-83dd-8aeb2874bb7f",
   "metadata": {},
   "outputs": [],
   "source": []
  },
  {
   "cell_type": "code",
   "execution_count": 6,
   "id": "d959d9d0-187b-42f5-a5c4-f9793bf243ea",
   "metadata": {
    "tags": []
   },
   "outputs": [],
   "source": [
    "llm = OpenAI()"
   ]
  },
  {
   "cell_type": "code",
   "execution_count": 7,
   "id": "6c99722d-1b59-457d-881d-5254dde06bb1",
   "metadata": {
    "tags": []
   },
   "outputs": [],
   "source": [
    "chain = LLMChain(prompt=prompt, llm=llm)"
   ]
  },
  {
   "cell_type": "code",
   "execution_count": null,
   "id": "60e2ae5e-5f60-4ab0-a31a-74f7038d1c82",
   "metadata": {},
   "outputs": [],
   "source": []
  },
  {
   "cell_type": "code",
   "execution_count": 8,
   "id": "db7eb259-4e8e-42e0-b75d-489a12c5f297",
   "metadata": {
    "tags": []
   },
   "outputs": [],
   "source": [
    "output = chain.run(question=\"around when was bitcoin founded?\")"
   ]
  },
  {
   "cell_type": "code",
   "execution_count": 9,
   "id": "81779606-f51f-4c87-b081-1240ae13ef68",
   "metadata": {
    "tags": []
   },
   "outputs": [
    {
     "data": {
      "text/plain": [
       "'\\n\\n2009-01-03T18:15:05.000000Z'"
      ]
     },
     "execution_count": 9,
     "metadata": {},
     "output_type": "execute_result"
    }
   ],
   "source": [
    "output"
   ]
  },
  {
   "cell_type": "code",
   "execution_count": null,
   "id": "e436300c-b360-4655-a816-79de1593ee92",
   "metadata": {},
   "outputs": [],
   "source": []
  },
  {
   "cell_type": "code",
   "execution_count": 15,
   "id": "4b4b3812-45f3-4bdd-9ba7-d074d31ac5cb",
   "metadata": {
    "tags": []
   },
   "outputs": [
    {
     "data": {
      "text/plain": [
       "{'question': 'around when was bitcoin founded?',\n",
       " 'text': '\\n\\n2009-01-03T18:15:05.000000Z'}"
      ]
     },
     "execution_count": 15,
     "metadata": {},
     "output_type": "execute_result"
    }
   ],
   "source": [
    "chain.invoke({'question': \"around when was bitcoin founded?\"})"
   ]
  },
  {
   "cell_type": "code",
   "execution_count": null,
   "id": "9de63fdc-c745-4bd0-b000-ce2e402fa89d",
   "metadata": {},
   "outputs": [],
   "source": []
  },
  {
   "cell_type": "code",
   "execution_count": 10,
   "id": "ae73119d-afbc-49bc-ae5c-55a973458ba0",
   "metadata": {
    "tags": []
   },
   "outputs": [
    {
     "data": {
      "text/plain": [
       "datetime.datetime(2009, 1, 3, 18, 15, 5)"
      ]
     },
     "execution_count": 10,
     "metadata": {},
     "output_type": "execute_result"
    }
   ],
   "source": [
    "output_parser.parse(output)"
   ]
  },
  {
   "cell_type": "code",
   "execution_count": null,
   "id": "48d557fc-aedc-48d8-9907-2640d6dbde14",
   "metadata": {},
   "outputs": [],
   "source": []
  },
  {
   "cell_type": "code",
   "execution_count": null,
   "id": "568adf8f-a88d-4ea9-9cfd-2328422f8d19",
   "metadata": {},
   "outputs": [],
   "source": []
  },
  {
   "cell_type": "code",
   "execution_count": 12,
   "id": "18d88591-eecd-4b3d-9602-e64b9d9c4ad1",
   "metadata": {
    "tags": []
   },
   "outputs": [],
   "source": [
    "chain_expression = prompt | llm | output_parser"
   ]
  },
  {
   "cell_type": "code",
   "execution_count": 14,
   "id": "51af08fd-284a-4b70-a109-2b71c65e2f7a",
   "metadata": {
    "tags": []
   },
   "outputs": [
    {
     "data": {
      "text/plain": [
       "datetime.datetime(2008, 1, 3, 18, 15, 5)"
      ]
     },
     "execution_count": 14,
     "metadata": {},
     "output_type": "execute_result"
    }
   ],
   "source": [
    "chain_expression.invoke({'question': \"around when was bitcoin founded?\"})"
   ]
  },
  {
   "cell_type": "code",
   "execution_count": null,
   "id": "738a1f60-19be-4927-b6a8-0646faa062f5",
   "metadata": {},
   "outputs": [],
   "source": []
  },
  {
   "cell_type": "code",
   "execution_count": null,
   "id": "39ece295-8e6c-4161-9bf2-460cff30e6ae",
   "metadata": {},
   "outputs": [],
   "source": []
  }
 ],
 "metadata": {
  "environment": {
   "kernel": "conda-env-preventloss-py",
   "name": "pytorch-gpu.1-13.m105",
   "type": "gcloud",
   "uri": "gcr.io/deeplearning-platform-release/pytorch-gpu.1-13:m105"
  },
  "kernelspec": {
   "display_name": "Python [conda env:preventloss]",
   "language": "python",
   "name": "conda-env-preventloss-py"
  },
  "language_info": {
   "codemirror_mode": {
    "name": "ipython",
    "version": 3
   },
   "file_extension": ".py",
   "mimetype": "text/x-python",
   "name": "python",
   "nbconvert_exporter": "python",
   "pygments_lexer": "ipython3",
   "version": "3.9.16"
  }
 },
 "nbformat": 4,
 "nbformat_minor": 5
}
