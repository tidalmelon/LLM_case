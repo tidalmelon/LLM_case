{
 "cells": [
  {
   "cell_type": "markdown",
   "id": "5e851c63-fbb9-4f99-a92b-26dce2e719a7",
   "metadata": {
    "tags": []
   },
   "source": [
    "<img src=./imgs/model_io.jpg width=35% />"
   ]
  },
  {
   "cell_type": "markdown",
   "id": "47454cdf-1217-4fbf-a015-5c981b69e2f2",
   "metadata": {
    "tags": []
   },
   "source": [
    "[langchain documents](https://python.langchain.com/docs/modules/model_io/models/chat/llm_chain)"
   ]
  },
  {
   "cell_type": "code",
   "execution_count": null,
   "id": "e2806292-4cf0-40eb-9f66-941d282dfab9",
   "metadata": {},
   "outputs": [],
   "source": []
  },
  {
   "cell_type": "markdown",
   "id": "07b77b43-6e8c-4c03-b08f-ad9c273aaa96",
   "metadata": {},
   "source": [
    "[LangChain-Tutorials](https://github.com/sugarforever/LangChain-Tutorials)"
   ]
  },
  {
   "cell_type": "code",
   "execution_count": null,
   "id": "700f1574-f119-4e8d-bea8-96c9c06b9516",
   "metadata": {},
   "outputs": [],
   "source": []
  },
  {
   "cell_type": "markdown",
   "id": "383401b5-1562-4c82-b260-8fdc941d5b40",
   "metadata": {},
   "source": [
    "# Serialization"
   ]
  },
  {
   "cell_type": "markdown",
   "id": "e9a795ca-e4f2-4051-838b-e16891fa3b9b",
   "metadata": {},
   "source": [
    "## 一： PromptTemplate"
   ]
  },
  {
   "cell_type": "code",
   "execution_count": 1,
   "id": "570598f1-3d19-4288-b1ad-00434cf20f17",
   "metadata": {
    "tags": []
   },
   "outputs": [
    {
     "name": "stdout",
     "output_type": "stream",
     "text": [
      "    _type: prompt\n",
      "    input_variables:\n",
      "        [\"adjective\", \"content\"]\n",
      "    template: \n",
      "        Tell me a {adjective} joke about {content}."
     ]
    }
   ],
   "source": [
    "!cat input/simple_prompt.yaml"
   ]
  },
  {
   "cell_type": "markdown",
   "id": "db64bde7-9ea6-4db0-b5a9-da0ae2af70ae",
   "metadata": {
    "tags": []
   },
   "source": [
    "### Loading from YAML"
   ]
  },
  {
   "cell_type": "code",
   "execution_count": 2,
   "id": "b052aeb2-5736-45fa-9b9c-0c521581baf8",
   "metadata": {
    "tags": []
   },
   "outputs": [],
   "source": [
    "# All prompts are loaded through the `load_prompt` function.\n",
    "from langchain.prompts import load_prompt"
   ]
  },
  {
   "cell_type": "code",
   "execution_count": null,
   "id": "03f68b26-5429-4350-8186-d19685ba5ae5",
   "metadata": {},
   "outputs": [],
   "source": []
  },
  {
   "cell_type": "code",
   "execution_count": 3,
   "id": "2298dfc7-7a3a-4659-bf35-81550168ab64",
   "metadata": {
    "tags": []
   },
   "outputs": [
    {
     "name": "stdout",
     "output_type": "stream",
     "text": [
      "Tell me a funny joke about chickens.\n"
     ]
    }
   ],
   "source": [
    "prompt = load_prompt(\"input/simple_prompt.yaml\")\n",
    "print(prompt.format(adjective=\"funny\", content=\"chickens\"))"
   ]
  },
  {
   "cell_type": "markdown",
   "id": "ae487f7d-3f63-4308-a717-eb986a518c1c",
   "metadata": {},
   "source": [
    "### Loading from JSON"
   ]
  },
  {
   "cell_type": "code",
   "execution_count": 8,
   "id": "772882ad-d641-4aa0-84ed-61d4af154d6a",
   "metadata": {},
   "outputs": [
    {
     "name": "stdout",
     "output_type": "stream",
     "text": [
      "    {\n",
      "        \"_type\": \"prompt\",\n",
      "        \"input_variables\": [\"adjective\", \"content\"],\n",
      "        \"template\": \"Tell me a {adjective} joke about {content}.\"\n",
      "    }"
     ]
    }
   ],
   "source": [
    "!cat input/simple_prompt.json"
   ]
  },
  {
   "cell_type": "code",
   "execution_count": null,
   "id": "3429e9a7-683d-4738-910b-0b4218bcacbb",
   "metadata": {},
   "outputs": [],
   "source": []
  },
  {
   "cell_type": "code",
   "execution_count": 10,
   "id": "36ab3f12-adcf-4b77-8066-1631ce93e352",
   "metadata": {},
   "outputs": [
    {
     "name": "stdout",
     "output_type": "stream",
     "text": [
      "Tell me a funny joke about chickens.\n"
     ]
    }
   ],
   "source": [
    "prompt = load_prompt(\"input/simple_prompt.json\")\n",
    "print(prompt.format(adjective=\"funny\", content=\"chickens\"))"
   ]
  },
  {
   "cell_type": "code",
   "execution_count": null,
   "id": "679abdca-10a6-405c-907a-247f3c85655e",
   "metadata": {},
   "outputs": [],
   "source": []
  },
  {
   "cell_type": "markdown",
   "id": "12399225-52fc-446b-8612-c01f542181ae",
   "metadata": {},
   "source": [
    "### Loading Template from a File"
   ]
  },
  {
   "cell_type": "code",
   "execution_count": null,
   "id": "504c165e-028f-4726-b673-5e0e220cebab",
   "metadata": {},
   "outputs": [],
   "source": []
  },
  {
   "cell_type": "code",
   "execution_count": 22,
   "id": "7c6abca0-71dc-40f8-9106-1de930088271",
   "metadata": {},
   "outputs": [
    {
     "name": "stdout",
     "output_type": "stream",
     "text": [
      "    Tell me a {adjective} joke about {content}."
     ]
    }
   ],
   "source": [
    "!cat input/simple_template.txt"
   ]
  },
  {
   "cell_type": "code",
   "execution_count": null,
   "id": "d9d48a32-43a6-48e8-ae1d-900d0367c7db",
   "metadata": {},
   "outputs": [],
   "source": []
  },
  {
   "cell_type": "code",
   "execution_count": 26,
   "id": "dc7cdc14-d7a0-46bf-a3bd-63c4b8b679dc",
   "metadata": {},
   "outputs": [
    {
     "name": "stdout",
     "output_type": "stream",
     "text": [
      "{\n",
      "    \"_type\": \"prompt\",\n",
      "    \"input_variables\": [\"adjective\", \"content\"],\n",
      "    \"template_path\": \"input/simple_template.txt\"\n",
      "}"
     ]
    }
   ],
   "source": [
    "!cat input/simple_prompt_with_template_file.json"
   ]
  },
  {
   "cell_type": "code",
   "execution_count": null,
   "id": "3a45d54e-b29f-4443-845a-c397b4826d2d",
   "metadata": {},
   "outputs": [],
   "source": [
    "> **注意这里的input/simaple_template.txt是另外一个文件**"
   ]
  },
  {
   "cell_type": "code",
   "execution_count": null,
   "id": "37947e19-40a8-4a6a-8365-b369b938f773",
   "metadata": {},
   "outputs": [],
   "source": []
  },
  {
   "cell_type": "code",
   "execution_count": null,
   "id": "115b3b2e-e091-4927-838f-67bb43c44f60",
   "metadata": {},
   "outputs": [],
   "source": []
  },
  {
   "cell_type": "code",
   "execution_count": 25,
   "id": "f1c7adaf-49f1-4d22-8af9-91f2f4afc7fd",
   "metadata": {},
   "outputs": [
    {
     "name": "stdout",
     "output_type": "stream",
     "text": [
      "    Tell me a funny joke about chickens.\n"
     ]
    }
   ],
   "source": [
    "prompt = load_prompt(\"./input/simple_prompt_with_template_file.json\")\n",
    "print(prompt.format(adjective=\"funny\", content=\"chickens\"))"
   ]
  },
  {
   "cell_type": "code",
   "execution_count": null,
   "id": "01ef6c53-756d-4ffa-ad7d-50009e2fdc15",
   "metadata": {},
   "outputs": [],
   "source": []
  },
  {
   "cell_type": "code",
   "execution_count": null,
   "id": "bb479be9-15f0-4597-869c-6c84783481e3",
   "metadata": {},
   "outputs": [],
   "source": []
  },
  {
   "cell_type": "markdown",
   "id": "e31c8f14-5a10-424e-8df0-7e444816f361",
   "metadata": {},
   "source": [
    "## 二: FewShotPromptTemplate"
   ]
  },
  {
   "cell_type": "code",
   "execution_count": null,
   "id": "333a8fb7-d480-43ba-b7d9-edce34f01bea",
   "metadata": {},
   "outputs": [],
   "source": []
  },
  {
   "cell_type": "markdown",
   "id": "9842f921-133f-477b-b99d-f17e027d8707",
   "metadata": {},
   "source": [
    "### Examples"
   ]
  },
  {
   "cell_type": "code",
   "execution_count": null,
   "id": "833a3961-31aa-4da3-bc80-80f7c1057007",
   "metadata": {},
   "outputs": [],
   "source": []
  },
  {
   "cell_type": "code",
   "execution_count": 9,
   "id": "d66952e6-bf96-4084-822d-0960a5ccb328",
   "metadata": {},
   "outputs": [
    {
     "name": "stdout",
     "output_type": "stream",
     "text": [
      "    [\n",
      "        {\"input\": \"happy\", \"output\": \"sad\"},\n",
      "        {\"input\": \"tall\", \"output\": \"short\"}\n",
      "    ]"
     ]
    }
   ],
   "source": [
    "!cat input/examples.json"
   ]
  },
  {
   "cell_type": "code",
   "execution_count": null,
   "id": "a44fe454-c4b9-4557-89e5-6d82500bb774",
   "metadata": {},
   "outputs": [],
   "source": []
  },
  {
   "cell_type": "code",
   "execution_count": null,
   "id": "510500b5-9f82-44c0-bdb8-40488034a0d1",
   "metadata": {},
   "outputs": [],
   "source": []
  },
  {
   "cell_type": "code",
   "execution_count": null,
   "id": "fb5cdedc-26e4-4217-aad3-eb1874c1fb08",
   "metadata": {},
   "outputs": [],
   "source": []
  },
  {
   "cell_type": "markdown",
   "id": "3af28bd4-0ae1-44d1-9b5e-0a1fc9ca6f40",
   "metadata": {},
   "source": [
    "### Loading from YAML"
   ]
  },
  {
   "cell_type": "code",
   "execution_count": 10,
   "id": "160bd2e2-d87f-4859-a07a-77f531392dac",
   "metadata": {
    "tags": []
   },
   "outputs": [
    {
     "name": "stdout",
     "output_type": "stream",
     "text": [
      "    _type: few_shot\n",
      "    input_variables:\n",
      "        [\"adjective\"]\n",
      "    prefix: \n",
      "        Write antonyms for the following words.\n",
      "    example_prompt:\n",
      "        _type: prompt\n",
      "        input_variables:\n",
      "            [\"input\", \"output\"]\n",
      "        template:\n",
      "            \"Input: {input}\\nOutput: {output}\"\n",
      "    examples:\n",
      "        input/examples.json\n",
      "    suffix:\n",
      "        \"Input: {adjective}\\nOutput:\""
     ]
    }
   ],
   "source": [
    "!cat input/few_shot_prompt.yaml"
   ]
  },
  {
   "cell_type": "code",
   "execution_count": null,
   "id": "72679fa9-f32a-4cd9-90df-c921c28681e9",
   "metadata": {},
   "outputs": [],
   "source": []
  },
  {
   "cell_type": "code",
   "execution_count": 11,
   "id": "993f3000-97c3-4c3a-9e07-643bd6c07fc0",
   "metadata": {
    "tags": []
   },
   "outputs": [],
   "source": [
    "from langchain.prompts import load_prompt"
   ]
  },
  {
   "cell_type": "code",
   "execution_count": null,
   "id": "98e5ad14-4afa-4ba8-884a-38f993ea6264",
   "metadata": {},
   "outputs": [],
   "source": []
  },
  {
   "cell_type": "code",
   "execution_count": 12,
   "id": "8cd0759e-5d91-4aa5-9cf6-0098e4102b4b",
   "metadata": {
    "tags": []
   },
   "outputs": [],
   "source": [
    "prompt = load_prompt('input/few_shot_prompt.yaml')"
   ]
  },
  {
   "cell_type": "code",
   "execution_count": 14,
   "id": "8d888b50-23ca-4f4f-b15d-8a7cd386b279",
   "metadata": {
    "tags": []
   },
   "outputs": [
    {
     "name": "stdout",
     "output_type": "stream",
     "text": [
      "Write antonyms for the following words.\n",
      "\n",
      "Input: happy\n",
      "Output: sad\n",
      "\n",
      "Input: tall\n",
      "Output: short\n",
      "\n",
      "Input: funny\n",
      "Output:\n"
     ]
    }
   ],
   "source": [
    "print(prompt.format(adjective='funny'))"
   ]
  },
  {
   "cell_type": "code",
   "execution_count": null,
   "id": "4a2e5930-f2ae-4b72-bbcf-33278a8ca0d9",
   "metadata": {},
   "outputs": [],
   "source": []
  },
  {
   "cell_type": "code",
   "execution_count": null,
   "id": "a4ce525f-e7a4-4a87-a573-415cd452f358",
   "metadata": {},
   "outputs": [],
   "source": []
  },
  {
   "cell_type": "markdown",
   "id": "c55a336d-03ab-4647-8b5f-c0e64b291e90",
   "metadata": {},
   "source": [
    "### Load from json"
   ]
  },
  {
   "cell_type": "code",
   "execution_count": null,
   "id": "36eac168-5881-44f8-844d-888bf6898e78",
   "metadata": {},
   "outputs": [],
   "source": []
  },
  {
   "cell_type": "code",
   "execution_count": 16,
   "id": "b550845d-2b47-417e-9dcc-b429b1d33e1a",
   "metadata": {
    "tags": []
   },
   "outputs": [
    {
     "name": "stdout",
     "output_type": "stream",
     "text": [
      "    {\n",
      "        \"_type\": \"few_shot\",\n",
      "        \"input_variables\": [\"adjective\"],\n",
      "        \"prefix\": \"Write antonyms for the following words.\",\n",
      "        \"example_prompt\": {\n",
      "            \"_type\": \"prompt\",\n",
      "            \"input_variables\": [\"input\", \"output\"],\n",
      "            \"template\": \"Input: {input}\\nOutput: {output}\"\n",
      "        },\n",
      "        \"examples\": \"./input/examples.json\",\n",
      "        \"suffix\": \"Input: {adjective}\\nOutput:\"\n",
      "    }   "
     ]
    }
   ],
   "source": [
    "!cat ./input/few_shot_prompt.json"
   ]
  },
  {
   "cell_type": "code",
   "execution_count": 17,
   "id": "3b716f82-11bb-4419-8d47-4528f1de0e0f",
   "metadata": {
    "tags": []
   },
   "outputs": [],
   "source": [
    "from langchain.prompts import load_prompt"
   ]
  },
  {
   "cell_type": "code",
   "execution_count": null,
   "id": "35715574-cd39-45a7-bf4d-0c954616cfa1",
   "metadata": {},
   "outputs": [],
   "source": []
  },
  {
   "cell_type": "code",
   "execution_count": 18,
   "id": "a08ef2b0-e42c-458a-ba70-14f2be301ac2",
   "metadata": {
    "tags": []
   },
   "outputs": [],
   "source": [
    "prompt = load_prompt('./input/few_shot_prompt.json')"
   ]
  },
  {
   "cell_type": "code",
   "execution_count": 19,
   "id": "85546ab0-3360-4381-8865-1ab7dc3519a8",
   "metadata": {
    "tags": []
   },
   "outputs": [
    {
     "name": "stdout",
     "output_type": "stream",
     "text": [
      "Write antonyms for the following words.\n",
      "\n",
      "Input: happy\n",
      "Output: sad\n",
      "\n",
      "Input: tall\n",
      "Output: short\n",
      "\n",
      "Input: funny\n",
      "Output:\n"
     ]
    }
   ],
   "source": [
    "print(prompt.format(adjective='funny'))"
   ]
  },
  {
   "cell_type": "code",
   "execution_count": null,
   "id": "3109e85a-1aaa-45c8-a33a-b254ead3fd04",
   "metadata": {},
   "outputs": [],
   "source": []
  },
  {
   "cell_type": "markdown",
   "id": "02b86b41-6359-43a4-b7d1-cc68ee4f17fd",
   "metadata": {},
   "source": [
    "### Examples in the Config"
   ]
  },
  {
   "cell_type": "code",
   "execution_count": null,
   "id": "7653b15d-750f-4d22-8742-b0b8b770e685",
   "metadata": {},
   "outputs": [],
   "source": []
  },
  {
   "cell_type": "code",
   "execution_count": 20,
   "id": "12eee113-4d81-4e25-8c29-2c579c4af3c1",
   "metadata": {
    "tags": []
   },
   "outputs": [
    {
     "name": "stdout",
     "output_type": "stream",
     "text": [
      "    {\n",
      "        \"_type\": \"few_shot\",\n",
      "        \"input_variables\": [\"adjective\"],\n",
      "        \"prefix\": \"Write antonyms for the following words.\",\n",
      "        \"example_prompt\": {\n",
      "            \"_type\": \"prompt\",\n",
      "            \"input_variables\": [\"input\", \"output\"],\n",
      "            \"template\": \"Input: {input}\\nOutput: {output}\"\n",
      "        },\n",
      "        \"examples\": [\n",
      "            {\"input\": \"happy\", \"output\": \"sad\"},\n",
      "            {\"input\": \"tall\", \"output\": \"short\"}\n",
      "        ],\n",
      "        \"suffix\": \"Input: {adjective}\\nOutput:\"\n",
      "    }   "
     ]
    }
   ],
   "source": [
    "!cat input/few_shot_prompt_examples_in.json"
   ]
  },
  {
   "cell_type": "code",
   "execution_count": null,
   "id": "894a7018-baee-453a-a056-11302b9a2d49",
   "metadata": {},
   "outputs": [],
   "source": []
  },
  {
   "cell_type": "code",
   "execution_count": 21,
   "id": "4e23bcb9-eddc-4a43-b457-50dba50463f2",
   "metadata": {
    "tags": []
   },
   "outputs": [],
   "source": [
    "from langchain.prompts import load_prompt"
   ]
  },
  {
   "cell_type": "code",
   "execution_count": 22,
   "id": "4ca02362-85ba-4f40-8380-c02abea67a03",
   "metadata": {
    "tags": []
   },
   "outputs": [],
   "source": [
    "prompt = load_prompt('./input/few_shot_prompt_examples_in.json')"
   ]
  },
  {
   "cell_type": "code",
   "execution_count": 23,
   "id": "4d862f9f-790d-4015-b57e-7a9ebdbde846",
   "metadata": {
    "tags": []
   },
   "outputs": [
    {
     "name": "stdout",
     "output_type": "stream",
     "text": [
      "Write antonyms for the following words.\n",
      "\n",
      "Input: happy\n",
      "Output: sad\n",
      "\n",
      "Input: tall\n",
      "Output: short\n",
      "\n",
      "Input: funny\n",
      "Output:\n"
     ]
    }
   ],
   "source": [
    "print(prompt.format(adjective='funny'))"
   ]
  },
  {
   "cell_type": "code",
   "execution_count": null,
   "id": "60642cae-fc60-4bc4-b6e1-5cf9b6da3dc4",
   "metadata": {},
   "outputs": [],
   "source": []
  },
  {
   "cell_type": "markdown",
   "id": "3a1c161c-a429-4044-92e3-d20d94f5ad83",
   "metadata": {},
   "source": [
    "### Example Prompt from a File"
   ]
  },
  {
   "cell_type": "code",
   "execution_count": null,
   "id": "4c7e9ca8-60ef-4924-9e52-c480380ea556",
   "metadata": {},
   "outputs": [],
   "source": []
  },
  {
   "cell_type": "code",
   "execution_count": 28,
   "id": "6b64b90d-5d8b-44a1-a778-c232dc6edcf6",
   "metadata": {
    "tags": []
   },
   "outputs": [
    {
     "name": "stdout",
     "output_type": "stream",
     "text": [
      "    {\n",
      "        \"_type\": \"prompt\",\n",
      "        \"input_variables\": [\"input\", \"output\"],\n",
      "        \"template\": \"Input: {input}\\nOutput: {output}\" \n",
      "    }"
     ]
    }
   ],
   "source": [
    "cat input/example_prompt.json"
   ]
  },
  {
   "cell_type": "code",
   "execution_count": null,
   "id": "abb8950f-5c80-4a1d-8828-0ac9e21034be",
   "metadata": {},
   "outputs": [],
   "source": []
  },
  {
   "cell_type": "code",
   "execution_count": 29,
   "id": "218291a1-c1ce-4e56-a8b2-b6ab03724a2e",
   "metadata": {
    "tags": []
   },
   "outputs": [
    {
     "name": "stdout",
     "output_type": "stream",
     "text": [
      "    {\n",
      "        \"_type\": \"few_shot\",\n",
      "        \"input_variables\": [\"adjective\"],\n",
      "        \"prefix\": \"Write antonyms for the following words.\",\n",
      "        \"example_prompt_path\": \"input/example_prompt.json\",\n",
      "        \"examples\": \"input/examples.json\",\n",
      "        \"suffix\": \"Input: {adjective}\\nOutput:\"\n",
      "    }   "
     ]
    }
   ],
   "source": [
    "!cat input/few_shot_prompt_example_prompt.json"
   ]
  },
  {
   "cell_type": "code",
   "execution_count": 30,
   "id": "64a451cf-07f3-4375-b914-33b551a232b3",
   "metadata": {},
   "outputs": [],
   "source": [
    "from langchain.prompts import load_prompt"
   ]
  },
  {
   "cell_type": "code",
   "execution_count": null,
   "id": "a4043eec-0352-4125-818b-8fbeb8565209",
   "metadata": {},
   "outputs": [],
   "source": []
  },
  {
   "cell_type": "code",
   "execution_count": 31,
   "id": "d6948ca0-e03f-4ee1-b49b-031fa5103af3",
   "metadata": {},
   "outputs": [],
   "source": [
    "prompt = load_prompt('./input/few_shot_prompt_example_prompt.json')"
   ]
  },
  {
   "cell_type": "code",
   "execution_count": 33,
   "id": "fba6035d-4769-430e-b229-533bd7f27c96",
   "metadata": {},
   "outputs": [
    {
     "name": "stdout",
     "output_type": "stream",
     "text": [
      "Write antonyms for the following words.\n",
      "\n",
      "Input: happy\n",
      "Output: sad\n",
      "\n",
      "Input: tall\n",
      "Output: short\n",
      "\n",
      "Input: funny\n",
      "Output:\n"
     ]
    }
   ],
   "source": [
    "print(prompt.format(adjective='funny'))"
   ]
  },
  {
   "cell_type": "code",
   "execution_count": null,
   "id": "5895f63a-1a32-42ce-b05f-0ea7383b1942",
   "metadata": {},
   "outputs": [],
   "source": []
  },
  {
   "cell_type": "markdown",
   "id": "7ada764c-06cc-4cc5-810f-8cfbb8f75dfe",
   "metadata": {},
   "source": [
    "## 三： PromptTempalte with OutputParser"
   ]
  },
  {
   "cell_type": "code",
   "execution_count": null,
   "id": "47719fc9-e54b-4a90-a29e-aa9e0891304c",
   "metadata": {},
   "outputs": [],
   "source": []
  },
  {
   "cell_type": "code",
   "execution_count": 34,
   "id": "bfbc8b55-1411-45d5-ace8-1ce3ac57f1ab",
   "metadata": {},
   "outputs": [
    {
     "name": "stdout",
     "output_type": "stream",
     "text": [
      "    {\n",
      "        \"input_variables\": [\n",
      "            \"question\",\n",
      "            \"student_answer\"\n",
      "        ],\n",
      "        \"output_parser\": {\n",
      "            \"regex\": \"(.*?)\\\\nScore: (.*)\",\n",
      "            \"output_keys\": [\n",
      "                \"answer\",\n",
      "                \"score\"\n",
      "            ],\n",
      "            \"default_output_key\": null,\n",
      "            \"_type\": \"regex_parser\"\n",
      "        },\n",
      "        \"partial_variables\": {},\n",
      "        \"template\": \"Given the following question and student answer, provide a correct answer and score the student answer.\\nQuestion: {question}\\nStudent Answer: {student_answer}\\nCorrect Answer:\",\n",
      "        \"template_format\": \"f-string\",\n",
      "        \"validate_template\": true,\n",
      "        \"_type\": \"prompt\"\n",
      "    }"
     ]
    }
   ],
   "source": [
    "cat input/prompt_with_output_parser.json"
   ]
  },
  {
   "cell_type": "code",
   "execution_count": null,
   "id": "a63f2779-8031-44d8-b917-68cd02d33593",
   "metadata": {},
   "outputs": [],
   "source": []
  },
  {
   "cell_type": "code",
   "execution_count": 35,
   "id": "48eecb1b-af9e-4704-b580-9e283a3f8fb4",
   "metadata": {
    "tags": []
   },
   "outputs": [],
   "source": [
    "from langchain.prompts import load_prompt"
   ]
  },
  {
   "cell_type": "code",
   "execution_count": 36,
   "id": "810f2f44-d142-4b40-9a86-8c220744cc26",
   "metadata": {
    "tags": []
   },
   "outputs": [],
   "source": [
    "prompt = load_prompt('./input/prompt_with_output_parser.json')"
   ]
  },
  {
   "cell_type": "code",
   "execution_count": 39,
   "id": "43c296b2-1b88-43e4-ae76-4c09f3ea6d52",
   "metadata": {
    "tags": []
   },
   "outputs": [
    {
     "data": {
      "text/plain": [
       "{'answer': 'George Washington was born in 1732 and died in 1799.',\n",
       " 'score': '1/2'}"
      ]
     },
     "execution_count": 39,
     "metadata": {},
     "output_type": "execute_result"
    }
   ],
   "source": [
    "prompt.output_parser.parse(\"George Washington was born in 1732 and died in 1799.\\nScore: 1/2\")"
   ]
  },
  {
   "cell_type": "code",
   "execution_count": null,
   "id": "162d28f9-f547-4a14-a4ba-641f346331eb",
   "metadata": {},
   "outputs": [],
   "source": []
  },
  {
   "cell_type": "code",
   "execution_count": 43,
   "id": "bb5ab27c-6aee-41ed-8167-fe38cc3cf3a3",
   "metadata": {
    "tags": []
   },
   "outputs": [
    {
     "name": "stdout",
     "output_type": "stream",
     "text": [
      "Given the following question and student answer, provide a correct answer and score the student answer.\n",
      "Question: where are you from?\n",
      "Student Answer: I come from china!\n",
      "Correct Answer:\n"
     ]
    }
   ],
   "source": [
    "print(prompt.format(question='where are you from?', student_answer=\"I come from china!\"))"
   ]
  },
  {
   "cell_type": "code",
   "execution_count": null,
   "id": "10bd9b1f-947d-4584-9864-4604078005e4",
   "metadata": {},
   "outputs": [],
   "source": []
  },
  {
   "cell_type": "code",
   "execution_count": null,
   "id": "400d1b34-a850-4cca-8453-c706a1b43080",
   "metadata": {},
   "outputs": [],
   "source": []
  },
  {
   "cell_type": "code",
   "execution_count": null,
   "id": "2d62cd0c-db85-4bbf-b588-ab832740eac2",
   "metadata": {},
   "outputs": [],
   "source": []
  },
  {
   "cell_type": "code",
   "execution_count": null,
   "id": "70f8b386-6396-4923-af1a-f71eac012acf",
   "metadata": {},
   "outputs": [],
   "source": []
  },
  {
   "cell_type": "code",
   "execution_count": null,
   "id": "1da46e9b-26f1-4723-8916-608aa224562b",
   "metadata": {},
   "outputs": [],
   "source": []
  },
  {
   "cell_type": "code",
   "execution_count": null,
   "id": "f9558249-04a0-42a6-bea2-a6f4557a995a",
   "metadata": {},
   "outputs": [],
   "source": []
  },
  {
   "cell_type": "code",
   "execution_count": null,
   "id": "b7a3402a-965e-46b5-967e-08b3a39d9ffe",
   "metadata": {},
   "outputs": [],
   "source": []
  },
  {
   "cell_type": "code",
   "execution_count": null,
   "id": "6d450cc6-9128-4443-ba53-742959d22a3e",
   "metadata": {},
   "outputs": [],
   "source": []
  },
  {
   "cell_type": "code",
   "execution_count": null,
   "id": "9413cad3-8eb4-40bf-9138-acc1136816c9",
   "metadata": {},
   "outputs": [],
   "source": []
  },
  {
   "cell_type": "code",
   "execution_count": null,
   "id": "fbc1c7c5-ef71-44d4-a14e-da41da6ae91b",
   "metadata": {},
   "outputs": [],
   "source": []
  },
  {
   "cell_type": "code",
   "execution_count": null,
   "id": "97277a4e-c83f-4491-a774-2f0fd02dd8ee",
   "metadata": {},
   "outputs": [],
   "source": []
  },
  {
   "cell_type": "code",
   "execution_count": null,
   "id": "94b857ff-345f-498b-acd4-a9d8ee9257bb",
   "metadata": {},
   "outputs": [],
   "source": []
  },
  {
   "cell_type": "code",
   "execution_count": null,
   "id": "80edfb1f-b1d7-4fa7-8557-e5c9f9c781c9",
   "metadata": {},
   "outputs": [],
   "source": []
  },
  {
   "cell_type": "code",
   "execution_count": null,
   "id": "bf5feed3-fc8f-470b-a34a-7c379f070211",
   "metadata": {},
   "outputs": [],
   "source": []
  },
  {
   "cell_type": "code",
   "execution_count": null,
   "id": "6c753398-4e55-45e1-b808-56c4d8104942",
   "metadata": {},
   "outputs": [],
   "source": []
  },
  {
   "cell_type": "code",
   "execution_count": null,
   "id": "59034710-2141-42ce-99dd-bb214bf47bc2",
   "metadata": {},
   "outputs": [],
   "source": []
  }
 ],
 "metadata": {
  "environment": {
   "kernel": "conda-env-preventloss-py",
   "name": "pytorch-gpu.1-13.m105",
   "type": "gcloud",
   "uri": "gcr.io/deeplearning-platform-release/pytorch-gpu.1-13:m105"
  },
  "kernelspec": {
   "display_name": "lglm",
   "language": "python",
   "name": "lglm"
  },
  "language_info": {
   "codemirror_mode": {
    "name": "ipython",
    "version": 3
   },
   "file_extension": ".py",
   "mimetype": "text/x-python",
   "name": "python",
   "nbconvert_exporter": "python",
   "pygments_lexer": "ipython3",
   "version": "3.8.17"
  }
 },
 "nbformat": 4,
 "nbformat_minor": 5
}
