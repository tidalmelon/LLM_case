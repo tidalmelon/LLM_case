{
 "cells": [
  {
   "cell_type": "code",
   "execution_count": null,
   "id": "647d1b52-8140-4fad-b830-dd1b8eddb360",
   "metadata": {},
   "outputs": [],
   "source": []
  },
  {
   "cell_type": "markdown",
   "id": "475a8ce0-85be-4059-bae8-07e0b8bf0e7e",
   "metadata": {},
   "source": [
    "> 在Q+A或者Chat模型中, document被embedding的时候,会考虑全面上下午及句子关系, 这将导致全面的向量表征并捕获更宽泛的意思与主题."
   ]
  },
  {
   "cell_type": "markdown",
   "id": "08da263e-5659-4d84-846b-c029b7546180",
   "metadata": {},
   "source": [
    "### Chunking\n",
    "> **将相同上下文**的<font color=blue>文本放在一起</font>"
   ]
  },
  {
   "cell_type": "markdown",
   "id": "cfe96760-77aa-46f1-b043-a9cd5ec537e8",
   "metadata": {},
   "source": [
    "> markdown是按header组织的, 在特定header组中创建chunk是个直观的想法"
   ]
  },
  {
   "cell_type": "markdown",
   "id": "c565045c-dec3-46ce-acc0-a2299813e5be",
   "metadata": {},
   "source": [
    "# Foo\n",
    "\n",
    "\n",
    "## Bar\n",
    "\n",
    "Hi this is Jim  \n",
    "Hi this is Joe\n",
    "\n",
    "## Baz\n",
    "\n",
    "Hi this is Molly"
   ]
  },
  {
   "cell_type": "code",
   "execution_count": 1,
   "id": "2921a8ad-e695-49a1-8f0a-6cb59d48bcce",
   "metadata": {
    "tags": []
   },
   "outputs": [],
   "source": [
    "md = '# Foo\\n\\n ## Bar\\n\\nHi this is Jim  \\nHi this is Joe\\n\\n ## Baz\\n\\n Hi this is Molly' "
   ]
  },
  {
   "cell_type": "markdown",
   "id": "63aec858-fce2-4e8e-ab19-50da2b7f2cba",
   "metadata": {},
   "source": [
    "> we can specify the headers to split on:<br>\n",
    "```\n",
    "[(\"#\", \"Header 1\"), (\"##\", \"Header 2\")]\n",
    "\n",
    "{'content': 'Hi this is Jim  \\nHi this is Joe', 'metadata': {'Header 1': 'Foo', 'Header 2': 'Bar'}}\n",
    "{'content': 'Hi this is Molly', 'metadata': {'Header 1': 'Foo', 'Header 2': 'Baz'}}\n",
    "```"
   ]
  },
  {
   "cell_type": "markdown",
   "id": "c0ffadbe-9b88-4047-a862-42f031f926fe",
   "metadata": {
    "tags": []
   },
   "source": [
    "> are you clear?  similart to HTML H1_H2, corresponding level to level."
   ]
  },
  {
   "cell_type": "code",
   "execution_count": 3,
   "id": "380dbe57-5544-4110-895d-7b2308dcf73a",
   "metadata": {
    "tags": []
   },
   "outputs": [],
   "source": [
    "from langchain.text_splitter import MarkdownHeaderTextSplitter"
   ]
  },
  {
   "cell_type": "code",
   "execution_count": 4,
   "id": "ac61d7a6-114d-4271-9119-0b7befd21446",
   "metadata": {
    "tags": []
   },
   "outputs": [
    {
     "data": {
      "text/plain": [
       "[Document(page_content='Hi this is Jim  \\nHi this is Joe', metadata={'Header 1': 'Foo', 'Header 2': 'Bar'}),\n",
       " Document(page_content='Hi this is Lance', metadata={'Header 1': 'Foo', 'Header 2': 'Bar', 'Header 3': 'Boo'}),\n",
       " Document(page_content='Hi this is Molly', metadata={'Header 1': 'Foo', 'Header 2': 'Baz'})]"
      ]
     },
     "execution_count": 4,
     "metadata": {},
     "output_type": "execute_result"
    }
   ],
   "source": [
    "markdown_document = \"# Foo\\n\\n    ## Bar\\n\\nHi this is Jim\\n\\nHi this is Joe\\n\\n ### Boo \\n\\n Hi this is Lance \\n\\n ## Baz\\n\\n Hi this is Molly\"\n",
    "\n",
    "headers_to_split_on = [\n",
    "    (\"#\", \"Header 1\"),\n",
    "    (\"##\", \"Header 2\"),\n",
    "    (\"###\", \"Header 3\"),\n",
    "]\n",
    "\n",
    "markdown_splitter = MarkdownHeaderTextSplitter(headers_to_split_on=headers_to_split_on)\n",
    "md_header_splits = markdown_splitter.split_text(markdown_document)\n",
    "md_header_splits"
   ]
  },
  {
   "cell_type": "markdown",
   "id": "790ef54b-a8a5-4708-a376-ef2bdfb06aac",
   "metadata": {},
   "source": [
    "> **只有第二个是三级**"
   ]
  },
  {
   "cell_type": "code",
   "execution_count": 5,
   "id": "7431bada-dff0-43c6-bc81-0d0e43da0f10",
   "metadata": {
    "tags": []
   },
   "outputs": [
    {
     "data": {
      "text/plain": [
       "langchain.schema.document.Document"
      ]
     },
     "execution_count": 5,
     "metadata": {},
     "output_type": "execute_result"
    }
   ],
   "source": [
    "type(md_header_splits[0])"
   ]
  },
  {
   "cell_type": "markdown",
   "id": "35d14b72-b19e-44b7-ae99-7ffbbbd880a6",
   "metadata": {},
   "source": [
    "> 在group组内,我们可以apply任何文本分割器"
   ]
  },
  {
   "cell_type": "code",
   "execution_count": 6,
   "id": "081722db-4255-4963-ab7e-2d2d5330eeee",
   "metadata": {
    "tags": []
   },
   "outputs": [],
   "source": [
    "markdown_document = \"# Intro \\n\\n    ## History \\n\\n Markdown[9] is a lightweight markup language for creating formatted text using a plain-text editor. John Gruber created Markdown in 2004 as a markup language that is appealing to human readers in its source code form.[9] \\n\\n Markdown is widely used in blogging, instant messaging, online forums, collaborative software, documentation pages, and readme files. \\n\\n ## Rise and divergence \\n\\n As Markdown popularity grew rapidly, many Markdown implementations appeared, driven mostly by the need for \\n\\n additional features such as tables, footnotes, definition lists,[note 1] and Markdown inside HTML blocks. \\n\\n #### Standardization \\n\\n From 2012, a group of people, including Jeff Atwood and John MacFarlane, launched what Atwood characterised as a standardisation effort. \\n\\n ## Implementations \\n\\n Implementations of Markdown are available for over a dozen programming languages.\"\n",
    "\n",
    "headers_to_split_on = [\n",
    "    (\"#\", \"Header 1\"),\n",
    "    (\"##\", \"Header 2\"),\n",
    "]\n",
    "\n",
    "# MD splits\n",
    "markdown_splitter = MarkdownHeaderTextSplitter(headers_to_split_on=headers_to_split_on)\n",
    "md_header_splits = markdown_splitter.split_text(markdown_document)"
   ]
  },
  {
   "cell_type": "code",
   "execution_count": 7,
   "id": "829150ef-fecc-48ab-8c57-39be8829e39d",
   "metadata": {
    "tags": []
   },
   "outputs": [
    {
     "data": {
      "text/plain": [
       "[Document(page_content='Markdown[9] is a lightweight markup language for creating formatted text using a plain-text editor. John Gruber created Markdown in 2004 as a markup language that is appealing to human readers in its source code form.[9]', metadata={'Header 1': 'Intro', 'Header 2': 'History'}),\n",
       " Document(page_content='Markdown is widely used in blogging, instant messaging, online forums, collaborative software, documentation pages, and readme files.', metadata={'Header 1': 'Intro', 'Header 2': 'History'}),\n",
       " Document(page_content='As Markdown popularity grew rapidly, many Markdown implementations appeared, driven mostly by the need for  \\nadditional features such as tables, footnotes, definition lists,[note 1] and Markdown inside HTML blocks.  \\n#### Standardization', metadata={'Header 1': 'Intro', 'Header 2': 'Rise and divergence'}),\n",
       " Document(page_content='#### Standardization  \\nFrom 2012, a group of people, including Jeff Atwood and John MacFarlane, launched what Atwood characterised as a standardisation effort.', metadata={'Header 1': 'Intro', 'Header 2': 'Rise and divergence'}),\n",
       " Document(page_content='Implementations of Markdown are available for over a dozen programming languages.', metadata={'Header 1': 'Intro', 'Header 2': 'Implementations'})]"
      ]
     },
     "execution_count": 7,
     "metadata": {},
     "output_type": "execute_result"
    }
   ],
   "source": [
    "# Char-level splits\n",
    "from langchain.text_splitter import RecursiveCharacterTextSplitter\n",
    "\n",
    "chunk_size = 250\n",
    "chunk_overlap = 30\n",
    "text_splitter = RecursiveCharacterTextSplitter(\n",
    "    chunk_size=chunk_size, chunk_overlap=chunk_overlap\n",
    ")\n",
    "\n",
    "# Split\n",
    "splits = text_splitter.split_documents(md_header_splits) # 知道这里为什么默认是List了么, 方便pipeline\n",
    "splits"
   ]
  },
  {
   "cell_type": "code",
   "execution_count": null,
   "id": "77201496-6f26-4087-b7c9-b84ed12fa2b4",
   "metadata": {},
   "outputs": [],
   "source": []
  },
  {
   "cell_type": "code",
   "execution_count": null,
   "id": "66dfd440-96dd-4fa0-bde6-79d875b7f922",
   "metadata": {},
   "outputs": [],
   "source": []
  },
  {
   "cell_type": "code",
   "execution_count": null,
   "id": "26a53759-9b69-4de9-acb4-fda79beb236a",
   "metadata": {},
   "outputs": [],
   "source": []
  },
  {
   "cell_type": "code",
   "execution_count": null,
   "id": "d31cc668-c841-4711-b30e-8b66156cd11d",
   "metadata": {},
   "outputs": [],
   "source": []
  },
  {
   "cell_type": "code",
   "execution_count": null,
   "id": "51c7c9d2-99a8-4c87-b5dc-2c3481a83382",
   "metadata": {},
   "outputs": [],
   "source": []
  },
  {
   "cell_type": "code",
   "execution_count": null,
   "id": "3e119fe3-4bfe-4a31-8cc0-d29f4382348a",
   "metadata": {},
   "outputs": [],
   "source": []
  },
  {
   "cell_type": "code",
   "execution_count": null,
   "id": "c638be92-77b0-4e00-98f5-f97df7749ac4",
   "metadata": {},
   "outputs": [],
   "source": []
  },
  {
   "cell_type": "code",
   "execution_count": null,
   "id": "d3102fec-a327-4973-a4d6-c2cdd05db462",
   "metadata": {},
   "outputs": [],
   "source": []
  },
  {
   "cell_type": "code",
   "execution_count": null,
   "id": "b2f4b93c-1cc1-40e5-85b9-f2c8ddb99ef6",
   "metadata": {},
   "outputs": [],
   "source": []
  },
  {
   "cell_type": "code",
   "execution_count": null,
   "id": "1250a39c-d8bc-4ea8-93fd-91548045421f",
   "metadata": {},
   "outputs": [],
   "source": []
  },
  {
   "cell_type": "code",
   "execution_count": null,
   "id": "bc587399-dc5a-4b55-aabe-e2e232529aee",
   "metadata": {},
   "outputs": [],
   "source": []
  },
  {
   "cell_type": "code",
   "execution_count": null,
   "id": "9dc69a5c-90ff-4ab4-be12-6b52a0c1eea2",
   "metadata": {},
   "outputs": [],
   "source": []
  },
  {
   "cell_type": "code",
   "execution_count": null,
   "id": "ea3ff8af-c106-40cf-8186-15c052160222",
   "metadata": {},
   "outputs": [],
   "source": []
  },
  {
   "cell_type": "code",
   "execution_count": null,
   "id": "e3b2cc63-a0d7-4713-981f-dc6430f0fe94",
   "metadata": {},
   "outputs": [],
   "source": []
  },
  {
   "cell_type": "code",
   "execution_count": null,
   "id": "14f4c085-3ffc-40b8-a482-98dfb05e0f78",
   "metadata": {},
   "outputs": [],
   "source": []
  },
  {
   "cell_type": "code",
   "execution_count": null,
   "id": "ca531804-73bb-419d-8278-864a36e39042",
   "metadata": {},
   "outputs": [],
   "source": []
  },
  {
   "cell_type": "code",
   "execution_count": null,
   "id": "76bc7dd8-0c89-49af-839b-e2721d29d13d",
   "metadata": {},
   "outputs": [],
   "source": []
  },
  {
   "cell_type": "code",
   "execution_count": null,
   "id": "5fc07ebd-e84f-4215-a73a-1efafb23fb03",
   "metadata": {},
   "outputs": [],
   "source": []
  },
  {
   "cell_type": "code",
   "execution_count": null,
   "id": "6e06acc1-fc75-4710-8fa1-48782fa4d179",
   "metadata": {},
   "outputs": [],
   "source": []
  },
  {
   "cell_type": "code",
   "execution_count": null,
   "id": "aee83354-8be6-40cf-912c-16e695b150b9",
   "metadata": {},
   "outputs": [],
   "source": []
  },
  {
   "cell_type": "code",
   "execution_count": null,
   "id": "c02666cf-e499-4d2c-ab54-ffbe1f3c9edc",
   "metadata": {},
   "outputs": [],
   "source": []
  }
 ],
 "metadata": {
  "environment": {
   "kernel": "conda-env-preventloss-py",
   "name": "pytorch-gpu.1-13.m105",
   "type": "gcloud",
   "uri": "gcr.io/deeplearning-platform-release/pytorch-gpu.1-13:m105"
  },
  "kernelspec": {
   "display_name": "nlp",
   "language": "python",
   "name": "nlp"
  },
  "language_info": {
   "codemirror_mode": {
    "name": "ipython",
    "version": 3
   },
   "file_extension": ".py",
   "mimetype": "text/x-python",
   "name": "python",
   "nbconvert_exporter": "python",
   "pygments_lexer": "ipython3",
   "version": "3.9.6"
  }
 },
 "nbformat": 4,
 "nbformat_minor": 5
}
