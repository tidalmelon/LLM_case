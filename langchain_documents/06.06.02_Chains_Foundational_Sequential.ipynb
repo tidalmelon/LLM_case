{
 "cells": [
  {
   "cell_type": "markdown",
   "id": "2ae0dba6-7557-46af-aac9-c71d0955f9f6",
   "metadata": {},
   "source": [
    "> Routing allows you to create non-deterministic chains where the output of a previous step defines the next step. <br>\n",
    "> Routing helps provide structure and consistency around interactions with LLMs.<br>\n",
    "> `Routing` <font color=blue>允许你创建一个 非确定性 链, 其中上一步的输出定义下一步</font><br>\n",
    "> `Routing` <font color=blue>提供与LLM交互的结构和一致性</font><br>"
   ]
  },
  {
   "cell_type": "code",
   "execution_count": null,
   "id": "2dbdd1c7-6273-4880-87cc-23a45283c16d",
   "metadata": {},
   "outputs": [],
   "source": []
  },
  {
   "cell_type": "markdown",
   "id": "e00e3c1a-f7fb-4b77-b3e3-5dc67d27be0e",
   "metadata": {},
   "source": [
    "# Sequential"
   ]
  },
  {
   "cell_type": "markdown",
   "id": "ae82c66e-3136-4af0-9745-4fc02648da28",
   "metadata": {},
   "source": [
    "> 1. The next step after calling a language model is to make a series of calls to a language model.<br>\n",
    "     调用LLM之后的步骤是 一些列的调用LLM<br>\n",
    "> 2. This is particularly useful when you want to take the output from one call and use it as the input to another.<br>\n",
    "      这在将一个LLM的输出用于另一个LLM的输入. 注意这个不是Router的分支而是一个解一个"
   ]
  },
  {
   "cell_type": "markdown",
   "id": "b87e3aaa-636d-4986-b40f-7857d3227c64",
   "metadata": {},
   "source": [
    "> The recommended way to do this is using the LangChain Expression Language. \n",
    "> The legacy way is using the `SequentialChain`, which we continue to document here for backwards compatibility."
   ]
  },
  {
   "cell_type": "markdown",
   "id": "f8920dd8-60f0-4f20-b992-19bbc222ed4a",
   "metadata": {},
   "source": [
    "> As a toy example, let's suppose we want to create a chain that first creates a play synopsis and then generates a play review based on the synopsis.<br>\n",
    "> 链首先创建一个戏剧概要, 然后根据概要生成戏剧评论"
   ]
  },
  {
   "cell_type": "code",
   "execution_count": 3,
   "id": "33e40b5f-82c4-4bba-a1ca-a475ef8b979d",
   "metadata": {
    "tags": []
   },
   "outputs": [],
   "source": [
    "from langchain.prompts import PromptTemplate\n",
    "\n",
    "# 剧作家\n",
    "synopsis_prompt = PromptTemplate.from_template(\n",
    "    \"\"\"You are a playwright. Given the title of play, it is your job to write a synopsis for that title.\n",
    "\n",
    "Title: {title}\n",
    "Playwright: This is a synopsis for the above play:\"\"\"\n",
    ")\n",
    "\n",
    "# 评论家\n",
    "review_prompt = PromptTemplate.from_template(\n",
    "    \"\"\"You are a play critic from the New York Times. Given the synopsis of play, it is your job to write a review for that play.\n",
    "\n",
    "Play Synopsis:\n",
    "{synopsis}\n",
    "Review from a New York Times play critic of the above play:\"\"\"\n",
    ")"
   ]
  },
  {
   "cell_type": "markdown",
   "id": "08123957-45da-45bc-a6dd-9409d00656f2",
   "metadata": {},
   "source": [
    "## Using LCEL"
   ]
  },
  {
   "cell_type": "markdown",
   "id": "5e78f86e-3096-481c-a3ed-0986a8290450",
   "metadata": {},
   "source": [
    "> Creating a sequence of calls (to LLMs or any other component/arbitrary function) is precisely what LangChain Expression Language was designed for.\n",
    "\n",
    "> 创建一系列调用（对 LLM 或任何其他组件/任意函数）正是 LangChain 表达式语言的设计目的"
   ]
  },
  {
   "cell_type": "code",
   "execution_count": null,
   "id": "704cda66-d2e5-4101-ba6b-67d1be54bfba",
   "metadata": {},
   "outputs": [],
   "source": []
  },
  {
   "cell_type": "code",
   "execution_count": 4,
   "id": "d7c9c3af-98b7-4889-b709-c19933e1d5e2",
   "metadata": {},
   "outputs": [],
   "source": [
    "from langchain.chat_models import ChatOpenAI\n",
    "from langchain.schema import StrOutputParser"
   ]
  },
  {
   "cell_type": "code",
   "execution_count": 5,
   "id": "827d4ae2-4e80-47f1-91eb-2ec1d8417253",
   "metadata": {},
   "outputs": [],
   "source": [
    "llm = ChatOpenAI()"
   ]
  },
  {
   "cell_type": "code",
   "execution_count": 6,
   "id": "08dbd1b0-4621-4a6a-865f-1436169daa30",
   "metadata": {
    "tags": []
   },
   "outputs": [],
   "source": [
    "chain = ( \n",
    "    {\"synopsis\": synopsis_prompt | llm | StrOutputParser()}\n",
    "    | review_prompt\n",
    "    | llm\n",
    "    | StrOutputParser()\n",
    ")"
   ]
  },
  {
   "cell_type": "code",
   "execution_count": 7,
   "id": "711b083d-d8c3-4d34-b834-2a3198bb1688",
   "metadata": {
    "tags": []
   },
   "outputs": [
    {
     "data": {
      "text/plain": [
       "'\"Tragedy at Sunset on the Beach\" is a mesmerizing and thought-provoking play that immerses its audience in a world of raw emotions and complex characters. Set against the backdrop of a serene beach at sunset, this production offers a visually stunning experience that enhances the dramatic tension and adds depth to the storytelling.\\n\\nThe play\\'s strength lies in its ability to capture the intricacies of human relationships and the profound impact they can have on our lives. The characters are skillfully crafted, each with their own personal struggles and desires. Sarah, portrayed with remarkable vulnerability, serves as the emotional center of the story, grappling with her tragic past and seeking solace in the beauty of the beach. Michael, the reclusive artist, brings a quiet intensity to the stage, finding inspiration in the colors of the sunset. Their connection is beautifully portrayed, and the chemistry between the actors is palpable.\\n\\nHowever, it is the arrival of the boisterous group of friends that truly sets the stage for the play\\'s gripping narrative. Jake, the ambitious entrepreneur, and Emma, the free-spirited soul, bring a dynamic energy to the production. Their presence disrupts the tranquility of the beach, catalyzing a series of events that lead to heart-wrenching confrontations and revelations.\\n\\nThe dialogue in \"Tragedy at Sunset on the Beach\" is poignant and thought-provoking, delving deep into the complexities of love, loss, and the search for meaning in a world filled with darkness. The playwright\\'s exploration of these themes is skillfully executed, weaving together a tapestry of emotions that leaves a lasting impact on the viewer.\\n\\nThe production is also enhanced by its captivating setting. The beach at sunset serves as a powerful metaphor for the fleeting nature of life and the transience of happiness. The golden glow cast by the descending sun adds a layer of symbolism to the unfolding tragedy, reminding us of the fragility of our existence.\\n\\nWhile the play\\'s tragic climax is devastating, it serves as a poignant reminder of the profound impact we can have on one another\\'s lives. The actors deliver powerful performances that leave the audience shattered, their hearts heavy with the weight of the characters\\' struggles.\\n\\n\"Tragedy at Sunset on the Beach\" is a masterful exploration of the human condition, skillfully blending intense emotions with a captivating setting. It is a play that demands reflection and invites the audience to contemplate the fragility of life and the profound connections we forge. This production is a must-see for theater enthusiasts seeking a poignant and emotionally charged experience.'"
      ]
     },
     "execution_count": 7,
     "metadata": {},
     "output_type": "execute_result"
    }
   ],
   "source": [
    "chain.invoke({\"title\": \"Tragedy at sunset on the beach\"})\n",
    "# o - o : 海滩日落时的悲剧"
   ]
  },
  {
   "cell_type": "code",
   "execution_count": null,
   "id": "aac64976-790b-454d-ada2-571161b30acb",
   "metadata": {},
   "outputs": [],
   "source": []
  },
  {
   "cell_type": "markdown",
   "id": "78645ded-e9b4-484d-ac55-dfb86905d67e",
   "metadata": {
    "tags": []
   },
   "source": [
    "> If we wanted to get back the synopsis as well we could do:<br>\n",
    "> 如果我们想取回概要, 可以这样做"
   ]
  },
  {
   "cell_type": "code",
   "execution_count": null,
   "id": "b16d792c-dafc-4ebd-824d-3bef3f2bfd42",
   "metadata": {},
   "outputs": [],
   "source": []
  },
  {
   "cell_type": "code",
   "execution_count": 9,
   "id": "79568289-edb5-47d5-bd71-d0c9bf2a1a25",
   "metadata": {
    "tags": []
   },
   "outputs": [
    {
     "data": {
      "text/plain": [
       "{'synopsis': '\"Tragedy at Sunset on the Beach\" is a gripping and emotional play that explores the complexities of love, loss, and the fragility of human existence. Set against the breathtaking backdrop of a picturesque beach at sunset, the story unfolds with a group of diverse characters whose lives intertwine in unexpected ways.\\n\\nThe play revolves around Sarah, a young woman haunted by a tragic past, who seeks solace and escape in the serenity of the beach at sunset. As she gazes out at the horizon, she encounters Michael, a charming but mysterious stranger who seems to be harboring his own secrets.\\n\\nTheir chance meeting sparks a whirlwind romance, filled with passion and intensity. However, as the sun sets on their love story, a series of unforeseen events and revelations plunge them into a downward spiral of heartbreak and despair. Secrets are exposed, betrayals are revealed, and the once idyllic beach becomes a haunting symbol of their shattered dreams.\\n\\nAs the play progresses, the audience is introduced to a supporting cast of characters, each grappling with their own personal tragedies. Through poignant monologues, intense dialogues, and powerful moments of silence, the play delves into the depths of human emotion, exploring themes of grief, forgiveness, and the search for redemption.\\n\\nAmidst the turmoil, a sense of hope emerges, as the characters find strength in their shared experiences and the beauty of the natural world surrounding them. The play ultimately asks profound questions about the nature of tragedy and the resilience of the human spirit.\\n\\n\"Tragedy at Sunset on the Beach\" is a poignant and thought-provoking play that delves into the depths of the human experience, reminding us that even in the face of tragedy, there is always a glimmer of hope.',\n",
       " 'review': 'In \"Tragedy at Sunset on the Beach,\" playwright John Doe delivers a gripping and emotionally charged exploration of love, loss, and the fragility of human existence. Set against the stunning backdrop of a picturesque beach at sunset, this play captivates its audience from start to finish.\\n\\nDoe\\'s writing skillfully weaves together the lives of a diverse group of characters, each grappling with their own personal tragedies. The central figure, Sarah, portrayed with raw vulnerability by Jane Smith, is haunted by a tragic past and seeks solace in the tranquility of the beach. It is here that she encounters Michael, played with enigmatic charm by John Johnson, a man with his own mysteries to unravel.\\n\\nThe chemistry between Smith and Johnson is palpable, and their whirlwind romance is filled with passion and intensity. However, as the sun sets on their love story, the play takes a haunting turn, with a series of unforeseen events and revelations that plunge them into a downward spiral of heartbreak and despair. Doe\\'s skillful writing keeps the audience on the edge of their seats, expertly building tension and suspense.\\n\\nThroughout the play, the supporting cast impresses with their nuanced performances. Each character is given moments to shine, delivering poignant monologues and engaging in powerful dialogues. These moments of introspection and vulnerability allow the audience to connect with the characters on a deep level, as we witness their struggles with grief, forgiveness, and the search for redemption.\\n\\nThe staging of \"Tragedy at Sunset on the Beach\" is nothing short of breathtaking. The set design, by Jane Doe, captures the beauty of the beach at sunset, creating a visually stunning backdrop that enhances the emotional impact of the story. The use of lighting and sound design adds a layer of atmosphere, further immersing the audience in the world of the play.\\n\\nWhile the play delves into dark and painful themes, it also offers a glimmer of hope. Doe expertly balances the tragedy with moments of resilience and strength, reminding us of the indomitable spirit of the human experience. The play ultimately leaves the audience with profound questions about the nature of tragedy and our capacity for healing.\\n\\n\"Tragedy at Sunset on the Beach\" is a powerful and thought-provoking theatrical experience. Doe\\'s masterful storytelling, combined with stellar performances and stunning production elements, make this play a must-see for theater enthusiasts. It is a testament to the enduring power of the human spirit and the beauty that can be found even in the face of tragedy.'}"
      ]
     },
     "execution_count": 9,
     "metadata": {},
     "output_type": "execute_result"
    }
   ],
   "source": [
    "from langchain.schema.runnable import RunnablePassthrough\n",
    "\n",
    "synopsis_chain = synopsis_prompt | llm | StrOutputParser()\n",
    "review_chain = review_prompt | llm | StrOutputParser()\n",
    "chain = {\"synopsis\": synopsis_chain} | RunnablePassthrough.assign(review=review_chain)\n",
    "chain.invoke({\"title\": \"Tragedy at sunset on the beach\"})"
   ]
  },
  {
   "cell_type": "code",
   "execution_count": null,
   "id": "ab59bae2-4ee2-46e5-ad26-e5bdf415eae5",
   "metadata": {},
   "outputs": [],
   "source": []
  },
  {
   "cell_type": "markdown",
   "id": "ee3e0caa-2fa4-43b7-9f21-61ed8b5edb22",
   "metadata": {},
   "source": [
    "## Legacy SequentialChain"
   ]
  },
  {
   "cell_type": "code",
   "execution_count": null,
   "id": "706a5cde-4f4b-4765-94a5-f69fad63cefe",
   "metadata": {},
   "outputs": [],
   "source": []
  },
  {
   "cell_type": "markdown",
   "id": "7a341691-f603-43c2-a3b8-c870d5830029",
   "metadata": {},
   "source": [
    "Sequential chains allow you to connect multiple chains and compose them into <font color=blue>pipelines</font> that execute some specific scenario. There are two types of sequential chains:"
   ]
  },
  {
   "cell_type": "markdown",
   "id": "c92a08f7-96ea-403e-87f5-9bda959a0c40",
   "metadata": {},
   "source": [
    "* `SimpleSequentialChain`: The simplest form of sequential chains, where each step has a singular input/output, and the output of one step is the input to the next.<br>\n",
    "                           其中每个步骤都有一个单一的输入/输出，并且一个步骤的输出是下一步的输入。\n",
    "\n",
    "* `SequentialChain` : A more general form of sequential chains, allowing for multiple inputs/outputs.<br>\n",
    "                      顺序链的更通用形式，允许多个输入/输出"
   ]
  },
  {
   "cell_type": "markdown",
   "id": "d05ebcc5-413f-4b0f-a09b-f0455cb759af",
   "metadata": {},
   "source": [
    "### SimpleSequentialChain"
   ]
  },
  {
   "cell_type": "code",
   "execution_count": 10,
   "id": "0c3d1b7e-6a77-4233-a575-64743a318dfd",
   "metadata": {
    "tags": []
   },
   "outputs": [],
   "source": [
    "from langchain.llms import OpenAI\n",
    "from langchain.chains import LLMChain\n",
    "from langchain.prompts import PromptTemplate\n",
    "\n",
    "# This is an LLMChain to write a synopsis given a title of a play.\n",
    "llm = OpenAI(temperature=0.7)\n",
    "synopsis_chain = LLMChain(llm=llm, prompt=synopsis_prompt)"
   ]
  },
  {
   "cell_type": "code",
   "execution_count": null,
   "id": "52abef7c-e5d8-4366-a400-7b6d35f547d6",
   "metadata": {},
   "outputs": [],
   "source": []
  },
  {
   "cell_type": "code",
   "execution_count": 11,
   "id": "85a7a497-ff15-4e76-9523-cc25612b7c58",
   "metadata": {
    "tags": []
   },
   "outputs": [],
   "source": [
    "# This is an LLMChain to write a review of a play given a synopsis.\n",
    "llm = OpenAI(temperature=0.7)\n",
    "review_chain = LLMChain(llm=llm, prompt=review_prompt)"
   ]
  },
  {
   "cell_type": "code",
   "execution_count": null,
   "id": "aa680cd0-383b-4e55-9be6-501ce29bd289",
   "metadata": {},
   "outputs": [],
   "source": []
  },
  {
   "cell_type": "code",
   "execution_count": null,
   "id": "9107bd9a-66e0-4afc-afbb-81663171d97e",
   "metadata": {},
   "outputs": [],
   "source": []
  },
  {
   "cell_type": "code",
   "execution_count": 12,
   "id": "6f1000b2-b89e-4158-b7e6-8b86d5179893",
   "metadata": {
    "tags": []
   },
   "outputs": [
    {
     "name": "stdout",
     "output_type": "stream",
     "text": [
      "\n",
      "\n",
      "\u001b[1m> Entering new SimpleSequentialChain chain...\u001b[0m\n",
      "\u001b[36;1m\u001b[1;3m\n",
      "\n",
      "Tragedy at Sunset on the Beach is a powerful drama that follows the story of two lifelong friends, Sarah and James. After many years of not seeing each other, the two are reunited on a beach at sunset. As they rekindle their friendship, secrets and past traumas are revealed that threaten to tear them apart. Through this tragedy, Sarah and James must confront the truth about their pasts and question what really matters in life. Along the way, they must also learn to forgive each other and find a way to move forward.\u001b[0m\n",
      "\u001b[33;1m\u001b[1;3m\n",
      "\n",
      "Tragedy at Sunset on the Beach is a powerful drama that presents a thought-provoking story of two lifelong friends. The reunion of Sarah and James on a beach at sunset sets the stage for a journey of reflection and understanding. The play reveals secrets and past traumas that serve to test their friendship and challenge the audience to reflect on their own beliefs and experiences. The script is well-crafted, and the actors deliver an emotional performance that is both heartbreaking and inspiring. It is a powerful story of resilience and forgiveness, and an excellent reminder of how life’s experiences can shape our beliefs and relationships. Tragedy at Sunset on the Beach is a must-see production that offers a meaningful and captivating journey.\u001b[0m\n",
      "\n",
      "\u001b[1m> Finished chain.\u001b[0m\n"
     ]
    }
   ],
   "source": [
    "# This is the overall chain where we run these two chains in sequence.\n",
    "from langchain.chains import SimpleSequentialChain\n",
    "\n",
    "overall_chain = SimpleSequentialChain(\n",
    "    chains=[synopsis_chain, review_chain], verbose=True\n",
    ")\n",
    "\n",
    "review = overall_chain.run(\"Tragedy at sunset on the beach\")"
   ]
  },
  {
   "cell_type": "code",
   "execution_count": 13,
   "id": "51a356cc-2d54-4b19-b1e9-cfa85816ca06",
   "metadata": {
    "tags": []
   },
   "outputs": [
    {
     "name": "stdout",
     "output_type": "stream",
     "text": [
      "\n",
      "\n",
      "Tragedy at Sunset on the Beach is a powerful drama that presents a thought-provoking story of two lifelong friends. The reunion of Sarah and James on a beach at sunset sets the stage for a journey of reflection and understanding. The play reveals secrets and past traumas that serve to test their friendship and challenge the audience to reflect on their own beliefs and experiences. The script is well-crafted, and the actors deliver an emotional performance that is both heartbreaking and inspiring. It is a powerful story of resilience and forgiveness, and an excellent reminder of how life’s experiences can shape our beliefs and relationships. Tragedy at Sunset on the Beach is a must-see production that offers a meaningful and captivating journey.\n"
     ]
    }
   ],
   "source": [
    "print(review)"
   ]
  },
  {
   "cell_type": "code",
   "execution_count": null,
   "id": "270d8b22-244e-416a-bb76-93c4313f5980",
   "metadata": {},
   "outputs": [],
   "source": []
  },
  {
   "cell_type": "code",
   "execution_count": null,
   "id": "8ef9f1d6-9826-40e0-9a1b-94cd7735ef41",
   "metadata": {},
   "outputs": [],
   "source": []
  },
  {
   "cell_type": "code",
   "execution_count": null,
   "id": "9c93c56b-0c4f-4d14-9260-e55e9a6fcec0",
   "metadata": {},
   "outputs": [],
   "source": []
  },
  {
   "cell_type": "markdown",
   "id": "2325c2ee-02f5-4058-aebb-4781461317ea",
   "metadata": {},
   "source": [
    "### SequentialChain"
   ]
  },
  {
   "cell_type": "markdown",
   "id": "32797997-c857-4bd1-9fd5-4efc17f40d77",
   "metadata": {},
   "source": [
    "> Of course, not all sequential chains will be as simple as passing a single string as an argument and getting a single string as output for all steps in the chain. <br>\n",
    "> 当然并不是所有的都是`一步一步来的`"
   ]
  },
  {
   "cell_type": "markdown",
   "id": "229818bc-84aa-42a9-a182-cf153f269e73",
   "metadata": {},
   "source": [
    "> Of particular importance is how we name the input/output variables.<br>\n",
    "> 特别重要的是我们<font color=blue size=4>如何命名输入/输出变量</font>"
   ]
  },
  {
   "cell_type": "code",
   "execution_count": 14,
   "id": "1a39d053-613d-4740-9c75-389a6c02a72f",
   "metadata": {
    "tags": []
   },
   "outputs": [],
   "source": [
    "# This is an LLMChain to write a synopsis given a title of a play and the era it is set in.\n",
    "llm = OpenAI(temperature=0.7)\n",
    "\n",
    "synopsis_template = \"\"\"You are a playwright. Given the title of play and the era it is set in, it is your job to write a synopsis for that title.\n",
    "\n",
    "Title: {title}\n",
    "Era: {era}\n",
    "Playwright: This is a synopsis for the above play:\"\"\"\n",
    "\n",
    "synopsis_prompt_template = PromptTemplate(\n",
    "    input_variables=[\"title\", \"era\"], template=synopsis_template\n",
    ")\n",
    "\n",
    "synopsis_chain = LLMChain(\n",
    "    llm=llm, prompt=synopsis_prompt_template, output_key=\"synopsis\"\n",
    ")"
   ]
  },
  {
   "cell_type": "code",
   "execution_count": 15,
   "id": "6b18888a-d3e9-41e6-92af-b151afd97483",
   "metadata": {
    "tags": []
   },
   "outputs": [
    {
     "name": "stdout",
     "output_type": "stream",
     "text": [
      "\n",
      "\n",
      "\u001b[1m> Entering new SequentialChain chain...\u001b[0m\n",
      "\n",
      "\u001b[1m> Finished chain.\u001b[0m\n"
     ]
    },
    {
     "data": {
      "text/plain": [
       "{'title': 'Tragedy at sunset on the beach',\n",
       " 'era': 'Victorian England',\n",
       " 'synopsis': \"\\n\\nTragedy at Sunset on the Beach is set in Victorian England, and follows the story of two star-crossed lovers, Marie and Edward. They come from two very different backgrounds - Marie is a poor fisherman's daughter, and Edward is the son of a wealthy aristocrat. Despite their class differences, they fall deeply in love and plan to elope. \\n\\nOn the night that they plan to leave, Edward and Marie meet on the beach at sunset for one final farewell. Marie is unaware that Edward has been disowned by his family and is penniless; his only hope is to marry a wealthy heiress. Marie overhears Edward making plans to meet with the heiress on the same night and is heartbroken. In her despair, she runs into the sea and drowns. \\n\\nEdward is devastated by Marie's death and is left with a heavy heart and a broken spirit. He soon discovers that the heiress he was to meet was a trap set by his family, who sought to ruin his happiness. In his grief, Edward joins Marie in death, throwing himself into the sea. \\n\\nTragedy at Sunset on the Beach is a heartbreaking tale of two lovers who were kept apart by the harsh realities\",\n",
       " 'review': \"\\n\\nTragedy at Sunset on the Beach is a beautifully written and emotionally charged play portraying the tragic love story of two star-crossed lovers. The play, set in Victorian England, follows the story of Marie and Edward, two lovers from vastly different backgrounds. Despite the obstacles they face due to their different class standings, their love is powerful and undying.\\n\\nThe play is full of heart-wrenching moments, none more so than when Marie overhears Edward making plans to meet with a wealthy heiress, and decides to take her own life by running into the sea. The tragedy is compounded by Edward's discovery that the heiress was a trap set by his family to ruin his happiness. In his grief, Edward joins Marie in death, throwing himself into the sea.\\n\\nThis play is a heartbreaking reminder of the real-life struggles of star-crossed lovers. The performances from the cast are powerful and moving, and the set and costumes are a beautiful reflection of the Victorian era. Tragedy at Sunset on the Beach is an unforgettable and powerful experience that is sure to touch the hearts of all who see it.\"}"
      ]
     },
     "execution_count": 15,
     "metadata": {},
     "output_type": "execute_result"
    }
   ],
   "source": [
    "# This is an LLMChain to write a review of a play given a synopsis.\n",
    "llm = OpenAI(temperature=0.7)\n",
    "template = \"\"\"You are a play critic from the New York Times. Given the synopsis of play, it is your job to write a review for that play.\n",
    "\n",
    "Play Synopsis:\n",
    "{synopsis}\n",
    "Review from a New York Times play critic of the above play:\"\"\"\n",
    "prompt_template = PromptTemplate(input_variables=[\"synopsis\"], template=template)\n",
    "review_chain = LLMChain(llm=llm, prompt=prompt_template, output_key=\"review\")\n",
    "\n",
    "# This is the overall chain where we run these two chains in sequence.\n",
    "from langchain.chains import SequentialChain\n",
    "\n",
    "overall_chain = SequentialChain(\n",
    "    chains=[synopsis_chain, review_chain],\n",
    "    input_variables=[\"era\", \"title\"],\n",
    "    # Here we return multiple variables\n",
    "    output_variables=[\"synopsis\", \"review\"],\n",
    "    verbose=True,\n",
    ")\n",
    "\n",
    "# era: 维多利亚 英格兰时代\n",
    "overall_chain({\"title\": \"Tragedy at sunset on the beach\", \"era\": \"Victorian England\"})"
   ]
  },
  {
   "cell_type": "markdown",
   "id": "844634f5-84ed-4730-a331-3a89ca70359b",
   "metadata": {},
   "source": [
    "> 多输出? 输出应该是唯一的 <br>\n",
    "> 输入变量是多个, 但并不是多个`链图`"
   ]
  },
  {
   "cell_type": "code",
   "execution_count": null,
   "id": "0c00b462-a6b8-4877-a7bc-2ea201d9208c",
   "metadata": {},
   "outputs": [],
   "source": []
  },
  {
   "cell_type": "code",
   "execution_count": null,
   "id": "5e7195de-06cf-4abc-aff7-110f7034889c",
   "metadata": {},
   "outputs": [],
   "source": []
  },
  {
   "cell_type": "code",
   "execution_count": null,
   "id": "f2622f70-9c4c-42c4-b235-eed7a83fc12d",
   "metadata": {},
   "outputs": [],
   "source": []
  },
  {
   "cell_type": "markdown",
   "id": "47951259-38c4-49c4-af80-32fdc170ed63",
   "metadata": {},
   "source": [
    "### Memory in Sequential Chains"
   ]
  },
  {
   "cell_type": "markdown",
   "id": "eacebb12-470d-4a33-b230-ace7401a8198",
   "metadata": {},
   "source": [
    "> Sometimes you may want to pass along some context to use in each step of the chain or in a later part of the chain, but maintaining and chaining together the input/output variables can quickly get messy. Using SimpleMemory is a convenient way to do manage this and clean up your chains."
   ]
  },
  {
   "cell_type": "markdown",
   "id": "ec40886e-667e-444f-a0dc-f45680e375ca",
   "metadata": {},
   "source": [
    "> 希望传递上下文给chain的每一个步骤, 或者 后续部分的chain, 但是会混乱, 所以使用 `SimpleMemory` 是很方便的"
   ]
  },
  {
   "cell_type": "markdown",
   "id": "1c971553-6f39-4cac-9eb9-142d91a07340",
   "metadata": {},
   "source": [
    "> For example, using the previous playwright SequentialChain, lets say you wanted to include some context about date, time and location of the play, and using the generated synopsis and review, create some social media post text. You could add these new context variables as input_variables, or we can add a SimpleMemory to the chain to manage this context:\n",
    "\n"
   ]
  },
  {
   "cell_type": "markdown",
   "id": "39b96a1d-1f76-447f-8775-f90a267b7c7e",
   "metadata": {},
   "source": [
    "> 比如你想添加  `日期` `时间`, `地点` 这个上下文 <br>\n",
    "> 并使用生成的概要,创建`社交媒体的帖子`<br>\n",
    "> `SimpleMemory` 来管理 `input_variables`, `input_variables`是用来增加 `上下文的`"
   ]
  },
  {
   "cell_type": "code",
   "execution_count": null,
   "id": "6465f596-6009-46af-a2ce-42b6978aa7bc",
   "metadata": {},
   "outputs": [],
   "source": []
  },
  {
   "cell_type": "code",
   "execution_count": 16,
   "id": "313e0641-125c-4c22-896f-bdcb04986257",
   "metadata": {
    "tags": []
   },
   "outputs": [
    {
     "name": "stdout",
     "output_type": "stream",
     "text": [
      "\n",
      "\n",
      "\u001b[1m> Entering new SequentialChain chain...\u001b[0m\n",
      "\n",
      "\u001b[1m> Finished chain.\u001b[0m\n"
     ]
    },
    {
     "data": {
      "text/plain": [
       "{'title': 'Tragedy at sunset on the beach',\n",
       " 'era': 'Victorian England',\n",
       " 'time': 'December 25th, 8pm PST',\n",
       " 'location': 'Theater in the Park',\n",
       " 'social_post_text': 'The love of a lifetime awaits you at @TheaterInThePark! 💜 Tragedy at Sunset on the Beach is a powerful and heartbreaking story of a young couple’s struggle against all odds to be together. Don’t miss this timeless and timely play on December 25th at 8pm PST! #TragedyAtSunset #LoveConquersAll #TheaterInThePark'}"
      ]
     },
     "execution_count": 16,
     "metadata": {},
     "output_type": "execute_result"
    }
   ],
   "source": [
    "from langchain.chains import SequentialChain\n",
    "from langchain.memory import SimpleMemory\n",
    "\n",
    "llm = OpenAI(temperature=0.7)\n",
    "template = \"\"\"You are a social media manager for a theater company.  Given the title of play, the era it is set in, the date,time and location, the synopsis of the play, and the review of the play, it is your job to write a social media post for that play.\n",
    "\n",
    "Here is some context about the time and location of the play:\n",
    "Date and Time: {time}\n",
    "Location: {location}\n",
    "\n",
    "Play Synopsis:\n",
    "{synopsis}\n",
    "Review from a New York Times play critic of the above play:\n",
    "{review}\n",
    "\n",
    "Social Media Post:\n",
    "\"\"\"\n",
    "prompt_template = PromptTemplate(\n",
    "    input_variables=[\"synopsis\", \"review\", \"time\", \"location\"], template=template\n",
    ")\n",
    "social_chain = LLMChain(llm=llm, prompt=prompt_template, output_key=\"social_post_text\")\n",
    "\n",
    "overall_chain = SequentialChain(\n",
    "    memory=SimpleMemory(\n",
    "        memories={\"time\": \"December 25th, 8pm PST\", \"location\": \"Theater in the Park\"}\n",
    "    ),\n",
    "    chains=[synopsis_chain, review_chain, social_chain],\n",
    "    input_variables=[\"era\", \"title\"],\n",
    "    # Here we return multiple variables\n",
    "    output_variables=[\"social_post_text\"],\n",
    "    verbose=True,\n",
    ")\n",
    "\n",
    "overall_chain({\"title\": \"Tragedy at sunset on the beach\", \"era\": \"Victorian England\"})"
   ]
  },
  {
   "cell_type": "code",
   "execution_count": null,
   "id": "8d0064fa-7334-42f3-9387-4cf6c4fe6992",
   "metadata": {},
   "outputs": [],
   "source": []
  },
  {
   "cell_type": "code",
   "execution_count": null,
   "id": "bcc9c7d5-a370-4eff-bb40-75982ed213c6",
   "metadata": {},
   "outputs": [],
   "source": []
  },
  {
   "cell_type": "code",
   "execution_count": null,
   "id": "ab67cf4f-016b-43a3-906b-1ab9bf48271c",
   "metadata": {},
   "outputs": [],
   "source": []
  },
  {
   "cell_type": "code",
   "execution_count": null,
   "id": "4c4d1408-b1f8-413c-9631-378d303781be",
   "metadata": {},
   "outputs": [],
   "source": []
  },
  {
   "cell_type": "code",
   "execution_count": null,
   "id": "d1f600c6-9d4e-4b4f-b065-c157057420b8",
   "metadata": {},
   "outputs": [],
   "source": []
  },
  {
   "cell_type": "code",
   "execution_count": null,
   "id": "af2efb61-caf5-4017-82dd-eed60a9e5576",
   "metadata": {},
   "outputs": [],
   "source": []
  },
  {
   "cell_type": "code",
   "execution_count": null,
   "id": "cb462bd8-8b0b-4347-91a8-e2cc99e9b6f9",
   "metadata": {},
   "outputs": [],
   "source": []
  },
  {
   "cell_type": "code",
   "execution_count": null,
   "id": "a37bff9e-c1d6-4e83-8798-71fe9394b86a",
   "metadata": {},
   "outputs": [],
   "source": []
  },
  {
   "cell_type": "code",
   "execution_count": null,
   "id": "7be9ff1c-f505-49a5-8449-1e6e9b747362",
   "metadata": {},
   "outputs": [],
   "source": []
  },
  {
   "cell_type": "code",
   "execution_count": null,
   "id": "b6ac97dc-940b-45d6-a298-254666c5efb5",
   "metadata": {},
   "outputs": [],
   "source": []
  },
  {
   "cell_type": "code",
   "execution_count": null,
   "id": "d8fda3a3-cf66-48d0-aad1-6ee626761836",
   "metadata": {},
   "outputs": [],
   "source": []
  }
 ],
 "metadata": {
  "environment": {
   "kernel": "conda-env-preventloss-py",
   "name": "pytorch-gpu.1-13.m105",
   "type": "gcloud",
   "uri": "gcr.io/deeplearning-platform-release/pytorch-gpu.1-13:m105"
  },
  "kernelspec": {
   "display_name": "Python [conda env:preventloss]",
   "language": "python",
   "name": "conda-env-preventloss-py"
  },
  "language_info": {
   "codemirror_mode": {
    "name": "ipython",
    "version": 3
   },
   "file_extension": ".py",
   "mimetype": "text/x-python",
   "name": "python",
   "nbconvert_exporter": "python",
   "pygments_lexer": "ipython3",
   "version": "3.9.16"
  },
  "toc-autonumbering": false,
  "toc-showcode": false
 },
 "nbformat": 4,
 "nbformat_minor": 5
}
