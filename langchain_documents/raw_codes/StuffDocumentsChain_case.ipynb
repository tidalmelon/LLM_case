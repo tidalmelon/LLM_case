{
 "cells": [
  {
   "cell_type": "markdown",
   "id": "e7806e48-3088-4163-8543-a48eae7357f5",
   "metadata": {},
   "source": [
    "```python\n",
    "Chain that combines documents by stuffing into context.\n",
    "\n",
    "This chain takes a list of documents and first combines them into a single string.\n",
    "It does this by formatting each document into a string with the `document_prompt`\n",
    "and then joining them together with `document_separator`. It then adds that new\n",
    "string to the inputs with the variable name set by `document_variable_name`.\n",
    "Those inputs are then passed to the `llm_chain`.\n",
    "```"
   ]
  },
  {
   "cell_type": "markdown",
   "id": "e8b28901-3d78-4b29-bc82-ce0a5290f5c3",
   "metadata": {},
   "source": [
    "```python\n",
    "通过填充上下文组合Document的链\n",
    "输入是一个Document列表，\n",
    "第一步： '\\n\\n'组合成一个string: document_prompt格式化每个Document，并用\\n\\n join到一起\n",
    "第二步： 新组合的string 被默认命名为 context : 上下文。\n",
    "第三部： inputs字典被传送给新的llm_chain\n",
    "```"
   ]
  },
  {
   "cell_type": "markdown",
   "id": "3188b2c6-cdbe-4def-89a3-82865c4cc296",
   "metadata": {},
   "source": [
    "```python\n",
    "please first excute: python api.py\n",
    "```"
   ]
  },
  {
   "cell_type": "code",
   "execution_count": null,
   "id": "2d3ae555-ce08-4eb5-abf2-3c8a5f4a8d59",
   "metadata": {},
   "outputs": [],
   "source": []
  },
  {
   "cell_type": "code",
   "execution_count": 1,
   "id": "c205bca6-c678-4414-8e20-fb89e294046b",
   "metadata": {},
   "outputs": [],
   "source": [
    "from langchain.chains.combine_documents.stuff import StuffDocumentsChain\n",
    "from langchain.chains.llm import LLMChain"
   ]
  },
  {
   "cell_type": "code",
   "execution_count": null,
   "id": "a2555442-afec-4f55-b7e4-495962cf870d",
   "metadata": {},
   "outputs": [],
   "source": []
  },
  {
   "cell_type": "code",
   "execution_count": null,
   "id": "b4102ffe-8e3a-477f-904b-827d038f4fed",
   "metadata": {},
   "outputs": [],
   "source": []
  },
  {
   "cell_type": "code",
   "execution_count": null,
   "id": "9720d7b3-08d0-4fe8-a664-52d4c23c507c",
   "metadata": {},
   "outputs": [],
   "source": []
  },
  {
   "cell_type": "code",
   "execution_count": 2,
   "id": "14d819e8-53a1-4fc2-9a86-f33efd5e6e21",
   "metadata": {},
   "outputs": [],
   "source": [
    "from langchain.prompts import PromptTemplate\n",
    "from langchain.llms import ChatGLM"
   ]
  },
  {
   "cell_type": "code",
   "execution_count": 3,
   "id": "1ad499e3-0c12-4f79-8342-eae74c6da31b",
   "metadata": {},
   "outputs": [],
   "source": [
    "from langchain.schema import Document"
   ]
  },
  {
   "cell_type": "code",
   "execution_count": null,
   "id": "f0bd73c2-a6a9-4006-ae24-df328a389515",
   "metadata": {},
   "outputs": [],
   "source": []
  },
  {
   "cell_type": "code",
   "execution_count": 4,
   "id": "c219c306-2616-4626-9d7d-b18c9f0e34fd",
   "metadata": {},
   "outputs": [],
   "source": [
    "document_prompt = PromptTemplate(input_variables=['page_content'], template=\"{page_content}\")"
   ]
  },
  {
   "cell_type": "code",
   "execution_count": 5,
   "id": "3775000a-4fa0-42c0-9f61-07623c73b571",
   "metadata": {},
   "outputs": [],
   "source": [
    "llm = ChatGLM()"
   ]
  },
  {
   "cell_type": "code",
   "execution_count": 6,
   "id": "e5305ef0-042c-4e57-b983-0bcbf73269a9",
   "metadata": {},
   "outputs": [],
   "source": [
    "prompt = PromptTemplate.from_template(\"对下文进行文本摘要, 请分条目列出: {context}\")"
   ]
  },
  {
   "cell_type": "code",
   "execution_count": 7,
   "id": "116525e6-4acf-40ba-b1ed-37a63944967d",
   "metadata": {},
   "outputs": [],
   "source": [
    "llm_chain = LLMChain(llm=llm, prompt=prompt)"
   ]
  },
  {
   "cell_type": "code",
   "execution_count": 8,
   "id": "ab3ef40c-bfd6-45ef-b2aa-47386ced5bd8",
   "metadata": {},
   "outputs": [],
   "source": [
    "document_variable_name = \"context\""
   ]
  },
  {
   "cell_type": "code",
   "execution_count": 9,
   "id": "189255f6-2c26-4680-9419-191cee173eb5",
   "metadata": {},
   "outputs": [],
   "source": [
    "chain = StuffDocumentsChain(llm_chain=llm_chain, document_prompt=document_prompt, document_variable_name=document_variable_name)"
   ]
  },
  {
   "cell_type": "code",
   "execution_count": 10,
   "id": "ed473a42-bc19-4e5c-8065-bf55ffdac367",
   "metadata": {},
   "outputs": [],
   "source": [
    "page_content_part_1 = \"\"\"\n",
    "今天北交所继续疯狂，北证50指数涨了10%多，一共200多家公司，基本全部涨幅都在10%以上。这两天北交所开户人数也新增了7万。。还是这个套路多少年了没变，割了一茬又一茬，果真野火烧不尽，春风吹又生，再这么涨下去大股东又要说公司不要了，给你们了。茅台今天继续下跌，这个市场现在只剩赌了吗？\n",
    "\n",
    "今年11月全球股市有希望破了三年来最大单月涨幅记录，再看看我们。。还好除了茅台，我的最大仓位就是美股指数基金了，大多集中在纳斯达克100指数，对全球最好的科技公司还是放心的。\n",
    "\"\"\""
   ]
  },
  {
   "cell_type": "code",
   "execution_count": 11,
   "id": "d09d7ff3-96d8-4c42-a0d6-b968b339a302",
   "metadata": {},
   "outputs": [],
   "source": [
    "doc_part_1 = Document(page_content=page_content_part_1, metadata={'source': 'https://xueqiu.com/1141584144/268534085', 'page': 1})"
   ]
  },
  {
   "cell_type": "code",
   "execution_count": 12,
   "id": "7ec7f7b3-d850-47b5-bcdb-04b49d517964",
   "metadata": {},
   "outputs": [],
   "source": [
    "page_content_part_2 = \"\"\"\n",
    "最近查理芒格采访谈到品牌价值，芒格表示除了爱马仕不想买入其他的时尚公司，他们拥有一个客户忠诚度很高的品牌，并且花费了一个世纪才做到这一点。包括喜诗糖果也是如此，品牌价值度高可以拥有低价权，过去四十年喜诗糖果每年提价10%也并没有人在意，并且这种公司不需要新的资本投入。\n",
    "\n",
    "茅台虽然过去五年多的时间一共只提价了20%，分到每年也有大概4%，跑赢通胀没问题，并且茅台市场价和出厂价还有着巨大差价，实际利润还要高得多。茅台这种公司符合芒格提到的所有品牌价值公司的优点，并且还要更优于这几家公司\n",
    "\"\"\""
   ]
  },
  {
   "cell_type": "code",
   "execution_count": 13,
   "id": "9a090117-1059-414e-98e8-6fe0aa6327f6",
   "metadata": {},
   "outputs": [],
   "source": [
    "doc_part_2 = Document(page_content=page_content_part_2, metadata={'source': 'https://xueqiu.com/1141584144/268534085', 'page': 2})"
   ]
  },
  {
   "cell_type": "code",
   "execution_count": 14,
   "id": "91caf7fd-b9d6-464d-9c38-4aa9fefd5069",
   "metadata": {},
   "outputs": [],
   "source": [
    "response = chain([doc_part_1, doc_part_2])"
   ]
  },
  {
   "cell_type": "code",
   "execution_count": null,
   "id": "e3f82889-dc5c-46e3-8415-1ece6683d5f4",
   "metadata": {},
   "outputs": [],
   "source": []
  },
  {
   "cell_type": "code",
   "execution_count": 19,
   "id": "fe58956d-45be-4174-b7d7-b46790c54863",
   "metadata": {},
   "outputs": [
    {
     "data": {
      "text/plain": [
       "{'input_documents': [Document(page_content='\\n今天北交所继续疯狂，北证50指数涨了10%多，一共200多家公司，基本全部涨幅都在10%以上。这两天北交所开户人数也新增了7万。。还是这个套路多少年了没变，割了一茬又一茬，果真野火烧不尽，春风吹又生，再这么涨下去大股东又要说公司不要了，给你们了。茅台今天继续下跌，这个市场现在只剩赌了吗？\\n\\n今年11月全球股市有希望破了三年来最大单月涨幅记录，再看看我们。。还好除了茅台，我的最大仓位就是美股指数基金了，大多集中在纳斯达克100指数，对全球最好的科技公司还是放心的。\\n', metadata={'source': 'https://xueqiu.com/1141584144/268534085', 'page': 1}),\n",
       "  Document(page_content='\\n最近查理芒格采访谈到品牌价值，芒格表示除了爱马仕不想买入其他的时尚公司，他们拥有一个客户忠诚度很高的品牌，并且花费了一个世纪才做到这一点。包括喜诗糖果也是如此，品牌价值度高可以拥有低价权，过去四十年喜诗糖果每年提价10%也并没有人在意，并且这种公司不需要新的资本投入。\\n\\n茅台虽然过去五年多的时间一共只提价了20%，分到每年也有大概4%，跑赢通胀没问题，并且茅台市场价和出厂价还有着巨大差价，实际利润还要高得多。茅台这种公司符合芒格提到的所有品牌价值公司的优点，并且还要更优于这几家公司\\n', metadata={'source': 'https://xueqiu.com/1141584144/268534085', 'page': 2})],\n",
       " 'output_text': '1. 北交所今天继续疯狂，北证50指数涨幅超过10%，共有200多家公司，基本全部涨幅都在10%以上。\\n2. 北交所开户人数也新增了7万，说明市场情绪仍然乐观。\\n3. 茅台今天继续下跌，市场现在只剩赌了吗？\\n4. 今年11月全球股市有望破了三年来最大单月涨幅记录。\\n5. 除了茅台，查理芒格认为自己的最大仓位是美股指数基金，对全球最好的科技公司放心。\\n6. 品牌价值度高可以拥有低价权，喜诗糖果品牌价值度高且不需要新的资本投入。\\n7. 茅台符合芒格提到的所有品牌价值公司的优点，并且还要更优于这几家公司。'}"
      ]
     },
     "execution_count": 19,
     "metadata": {},
     "output_type": "execute_result"
    }
   ],
   "source": [
    "response"
   ]
  },
  {
   "cell_type": "code",
   "execution_count": null,
   "id": "6f16f3e5-54b1-4a77-aaa2-0fe4c53d5aa0",
   "metadata": {},
   "outputs": [],
   "source": []
  },
  {
   "cell_type": "code",
   "execution_count": 20,
   "id": "adaf9175-b75c-4150-954b-227f364df1fe",
   "metadata": {},
   "outputs": [
    {
     "name": "stdout",
     "output_type": "stream",
     "text": [
      "1. 北交所今天继续疯狂，北证50指数涨幅超过10%，共有200多家公司，基本全部涨幅都在10%以上。\n",
      "2. 北交所开户人数也新增了7万，说明市场情绪仍然乐观。\n",
      "3. 茅台今天继续下跌，市场现在只剩赌了吗？\n",
      "4. 今年11月全球股市有望破了三年来最大单月涨幅记录。\n",
      "5. 除了茅台，查理芒格认为自己的最大仓位是美股指数基金，对全球最好的科技公司放心。\n",
      "6. 品牌价值度高可以拥有低价权，喜诗糖果品牌价值度高且不需要新的资本投入。\n",
      "7. 茅台符合芒格提到的所有品牌价值公司的优点，并且还要更优于这几家公司。\n"
     ]
    }
   ],
   "source": [
    "print(response['output_text'])"
   ]
  },
  {
   "cell_type": "code",
   "execution_count": null,
   "id": "6ee2bbd8-4ec9-4736-b6f0-4f28a1240ad2",
   "metadata": {},
   "outputs": [],
   "source": []
  },
  {
   "cell_type": "code",
   "execution_count": null,
   "id": "7526bfda-ea37-4026-8d4a-b2ea1d4a2f86",
   "metadata": {},
   "outputs": [],
   "source": []
  },
  {
   "cell_type": "code",
   "execution_count": null,
   "id": "8b888490-d3f0-4ad4-8b1c-7660d4b15761",
   "metadata": {},
   "outputs": [],
   "source": []
  },
  {
   "cell_type": "code",
   "execution_count": null,
   "id": "3bfcb52a-cdee-45ac-828b-75271eca7c02",
   "metadata": {},
   "outputs": [],
   "source": []
  },
  {
   "cell_type": "code",
   "execution_count": null,
   "id": "9eba8be1-7504-48c0-8fa1-5fa639ee76bb",
   "metadata": {},
   "outputs": [],
   "source": []
  },
  {
   "cell_type": "code",
   "execution_count": null,
   "id": "93349f44-fca2-4c34-9fc4-571737b1d59a",
   "metadata": {},
   "outputs": [],
   "source": []
  },
  {
   "cell_type": "code",
   "execution_count": null,
   "id": "53e5337c-06d8-45c3-bb4b-b50e179f0cc0",
   "metadata": {},
   "outputs": [],
   "source": []
  },
  {
   "cell_type": "code",
   "execution_count": null,
   "id": "bd81fc21-9516-462d-9931-916d85e02abd",
   "metadata": {},
   "outputs": [],
   "source": []
  },
  {
   "cell_type": "code",
   "execution_count": null,
   "id": "7a6487a9-19dc-438d-9d18-f0c0da7c1eb1",
   "metadata": {},
   "outputs": [],
   "source": []
  },
  {
   "cell_type": "code",
   "execution_count": null,
   "id": "a8faa25a-e6be-4459-80c9-89e8698087c8",
   "metadata": {},
   "outputs": [],
   "source": []
  },
  {
   "cell_type": "code",
   "execution_count": null,
   "id": "9bdc2805-7498-4476-93ea-cba58e888995",
   "metadata": {},
   "outputs": [],
   "source": []
  },
  {
   "cell_type": "code",
   "execution_count": null,
   "id": "3b1414eb-6d24-47e6-abdf-5bf1e7a5e06f",
   "metadata": {},
   "outputs": [],
   "source": []
  },
  {
   "cell_type": "code",
   "execution_count": null,
   "id": "5ecd4e10-30ae-4f38-9c0f-c1995ab1ccb2",
   "metadata": {},
   "outputs": [],
   "source": []
  },
  {
   "cell_type": "code",
   "execution_count": null,
   "id": "f2af6b86-9e49-4198-b7b0-463ebbc3705e",
   "metadata": {},
   "outputs": [],
   "source": []
  },
  {
   "cell_type": "code",
   "execution_count": null,
   "id": "33e3207d-997b-4b2e-8180-4ad5edbb00a6",
   "metadata": {},
   "outputs": [],
   "source": []
  },
  {
   "cell_type": "code",
   "execution_count": null,
   "id": "56652eb1-c6be-4870-915f-ad127cf29ec8",
   "metadata": {},
   "outputs": [],
   "source": []
  },
  {
   "cell_type": "code",
   "execution_count": null,
   "id": "ef67e599-28c5-4354-9126-bad360bdea48",
   "metadata": {},
   "outputs": [],
   "source": []
  },
  {
   "cell_type": "code",
   "execution_count": null,
   "id": "87be956a-aa9c-4a42-953c-88f8abe491d6",
   "metadata": {},
   "outputs": [],
   "source": []
  },
  {
   "cell_type": "code",
   "execution_count": null,
   "id": "d20ddb9b-66e8-4623-be42-6c65cbef1a7b",
   "metadata": {},
   "outputs": [],
   "source": []
  },
  {
   "cell_type": "code",
   "execution_count": null,
   "id": "7f4b9e42-27e0-4d54-9278-e428c38319ed",
   "metadata": {},
   "outputs": [],
   "source": []
  },
  {
   "cell_type": "code",
   "execution_count": null,
   "id": "33a5bf6f-e0ee-4129-8502-a20629bcc6d3",
   "metadata": {},
   "outputs": [],
   "source": []
  },
  {
   "cell_type": "code",
   "execution_count": null,
   "id": "7674720b-687a-438b-9d9c-ed60e72adda8",
   "metadata": {},
   "outputs": [],
   "source": []
  },
  {
   "cell_type": "code",
   "execution_count": null,
   "id": "65a88a0f-6e1f-4a35-8788-33bba44bdbe5",
   "metadata": {},
   "outputs": [],
   "source": []
  },
  {
   "cell_type": "code",
   "execution_count": null,
   "id": "c973845d-98f5-4569-ad67-e50238337c3e",
   "metadata": {},
   "outputs": [],
   "source": []
  },
  {
   "cell_type": "code",
   "execution_count": null,
   "id": "47b3b910-c8a1-4da3-9f05-2fb43bea885f",
   "metadata": {},
   "outputs": [],
   "source": []
  },
  {
   "cell_type": "code",
   "execution_count": null,
   "id": "ec52de9c-7f51-418b-9ae0-54d83425841b",
   "metadata": {},
   "outputs": [],
   "source": []
  },
  {
   "cell_type": "code",
   "execution_count": null,
   "id": "217b020b-b463-42c0-b562-8bb35ceae39e",
   "metadata": {},
   "outputs": [],
   "source": []
  }
 ],
 "metadata": {
  "kernelspec": {
   "display_name": "chatglm26b",
   "language": "python",
   "name": "chatglm26b"
  },
  "language_info": {
   "codemirror_mode": {
    "name": "ipython",
    "version": 3
   },
   "file_extension": ".py",
   "mimetype": "text/x-python",
   "name": "python",
   "nbconvert_exporter": "python",
   "pygments_lexer": "ipython3",
   "version": "3.9.6"
  }
 },
 "nbformat": 4,
 "nbformat_minor": 5
}
