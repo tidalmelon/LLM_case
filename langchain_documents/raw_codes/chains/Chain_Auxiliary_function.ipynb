{
 "cells": [
  {
   "cell_type": "markdown",
   "id": "9286492e-8398-4a06-9441-6f273409a1d7",
   "metadata": {},
   "source": [
    "# Chain相关源码分析"
   ]
  },
  {
   "cell_type": "code",
   "execution_count": null,
   "id": "a86fb315-c22d-4ac4-b7a5-0816e79c42ab",
   "metadata": {},
   "outputs": [],
   "source": []
  },
  {
   "cell_type": "markdown",
   "id": "6ff46e16-5475-4233-b1cd-7440f9d39d2f",
   "metadata": {},
   "source": [
    "> **prep_inputs 和 prep_outputs: 这两个方法负责验证和准备链的输入和输出，包括从内存中添加输入、保存运行信息到内存。**"
   ]
  },
  {
   "cell_type": "markdown",
   "id": "ef4f3af4-6304-49e9-b06e-09e21667620c",
   "metadata": {},
   "source": [
    "```python\n",
    "def prep_inputs(self, inputs: Union[Dict[str, Any], Any]) -> Dict[str, str]:\n",
    "    \"\"\"Validate and prepare chain inputs, including adding inputs from memory.\n",
    "\n",
    "    Args:\n",
    "        inputs: Dictionary of raw inputs, or single input if chain expects\n",
    "            only one param. Should contain all inputs specified in\n",
    "            `Chain.input_keys` except for inputs that will be set by the chain's\n",
    "            memory.\n",
    "\n",
    "    Returns:\n",
    "        A dictionary of all inputs, including those added by the chain's memory.\n",
    "    \"\"\"\n",
    "    => 输入可以是单个参数,既字符串\n",
    "    if not isinstance(inputs, dict):\n",
    "        # 获取用户输入key\n",
    "        _input_keys = set(self.input_keys)\n",
    "        if self.memory is not None:\n",
    "            # If there are multiple input keys, but some get set by memory so that\n",
    "            # only one is not set, we can still figure out which key it is.\n",
    "            => 更新_input_keys: self.memory.memory_variables, 见上边例子\n",
    "            => _input_keys 减去 memory中的key, 剩下的是_input_keys独有的.\n",
    "            _input_keys = _input_keys.difference(self.memory.memory_variables)\n",
    "        => 上一层if已经假定是单个参数(非字典), 所以如果不等于1,就出问题了. 看下ValueErr描述\n",
    "        if len(_input_keys) != 1:\n",
    "            raise ValueError(\n",
    "                f\"A single string input was passed in, but this chain expects \"\n",
    "                f\"multiple inputs ({_input_keys}). When a chain expects \"\n",
    "                f\"multiple inputs, please call it by passing in a dictionary, \"\n",
    "                \"eg `chain({'foo': 1, 'bar': 2})`\"\n",
    "            )\n",
    "        => 将key与value组合成字典\n",
    "        inputs = {list(_input_keys)[0]: inputs}\n",
    "    if self.memory is not None:\n",
    "        => 扩展的上下文\n",
    "        external_context = self.memory.load_memory_variables(inputs)\n",
    "        => 合并为新的inputs字典\n",
    "        inputs = dict(inputs, **external_context)\n",
    "    => 方法会检查所有预期的键是否存在于输入字典中，如果有任何缺失的键，则抛出一个错误\n",
    "    self._validate_inputs(inputs)\n",
    "    return inputs\n",
    "```\n",
    "\n",
    "\n",
    "\n",
    "```python\n",
    "    def prep_outputs(\n",
    "        self,\n",
    "        inputs: Dict[str, str],                      => 这应是包含原始输入的字典类型的数据，可能包括从内存加载的附加输入。\n",
    "        outputs: Dict[str, str],                     => 是包含初始链输出的字典，需要被进一步处理和验证 \n",
    "        return_only_outputs: bool = False,           => 用来指示是否只返回输出数据。如果设为 False，则输入也将添加到最终的输出中  \n",
    "    ) -> Dict[str, str]:\n",
    "        \"\"\"Validate and prepare chain outputs, and save info about this run to memory.\n",
    "\n",
    "        Args:\n",
    "            inputs: Dictionary of chain inputs, including any inputs added by chain\n",
    "                memory.\n",
    "            outputs: Dictionary of initial chain outputs.\n",
    "            return_only_outputs: Whether to only return the chain outputs. If False,\n",
    "                inputs are also added to the final outputs.\n",
    "\n",
    "        Returns:\n",
    "            A dict of the final chain outputs.\n",
    "        \"\"\"\n",
    "        => _validate_outputs 方法对 outputs 参数进行校验，确保所有的输出数据都是完整和有效的\n",
    "        self._validate_outputs(outputs)\n",
    "        if self.memory is not None:\n",
    "            => 会把 inputs 和 outputs 的上下文信息保存到内存中。这样可以让我们在后续的执行或调试中回溯这次的运行过程\n",
    "            self.memory.save_context(inputs, outputs)\n",
    "        if return_only_outputs:\n",
    "            return outputs\n",
    "        else:\n",
    "            return {**inputs, **outputs}\n",
    "\n",
    "```"
   ]
  },
  {
   "cell_type": "markdown",
   "id": "aec72c68-e583-4e00-81aa-ca0028380d7b",
   "metadata": {},
   "source": [
    "```python\n",
    "def _validate_inputs(self, inputs: Dict[str, Any]) -> None:\n",
    "    \"\"\"Check that all inputs are present.\"\"\"\n",
    "    => inputs 就是 prep_inputs的输出: 从memory中加载了一些新的key之后的inputs.\n",
    "    missing_keys = set(self.input_keys).difference(inputs)\n",
    "    if missing_keys:\n",
    "        raise ValueError(f\"Missing some input keys: {missing_keys}\")\n",
    "\n",
    "def _validate_outputs(self, outputs: Dict[str, Any]) -> None:\n",
    "    missing_keys = set(self.output_keys).difference(outputs)\n",
    "    if missing_keys:\n",
    "        raise ValueError(f\"Missing some output keys: {missing_keys}\")\n",
    "```"
   ]
  },
  {
   "cell_type": "code",
   "execution_count": null,
   "id": "68df18d8-91bb-46f4-b631-19d23c3a0e78",
   "metadata": {},
   "outputs": [],
   "source": []
  },
  {
   "cell_type": "code",
   "execution_count": null,
   "id": "34bb07ec-068a-4e11-9992-fb3381d3a3bb",
   "metadata": {},
   "outputs": [],
   "source": []
  },
  {
   "cell_type": "markdown",
   "id": "219fa4e9-8810-407a-9240-9ab4debaec59",
   "metadata": {},
   "source": [
    "![](./imgs/__call__.jpg)"
   ]
  },
  {
   "cell_type": "markdown",
   "id": "9e9787dc-1ab9-49f8-a331-6f7cd2445f7e",
   "metadata": {},
   "source": [
    "```python\n",
    "def __call__(\n",
    "    self,\n",
    "    inputs: Union[Dict[str, Any], Any],                         => inputs: 预期为包含输入数据的字典或单一值（如果Chain类只需要一个参数）。字典的键应与 Chain.input_keys 对应，除非预期的输入将从链的Memory加载。\n",
    "    return_only_outputs: bool = False,                          => True，只有由链生成的新键值对会被返回；如果为False，原始输入和由链生成的新键值对都将被返回\n",
    "    callbacks: Callbacks = None,                                => 链运行过程中调用，作为构建时指定的回调函数之外的额外操作。\n",
    "    *,\n",
    "    tags: Optional[List[str]] = None,                           => 字符串列表，用于对链的执行进行标记。这些标签会传递给所有回调函数，并且只有运行时指定的标签会传播到其他对象的调用中\n",
    "    metadata: Optional[Dict[str, Any]] = None,                  => 可选参数，用于存储与链相关联的额外信息 \n",
    "    run_name: Optional[str] = None,\n",
    "    include_run_info: bool = False,                             => 布尔值，决定是否在返回的结果中包含此次运行的相关信息。默认为False\n",
    ") -> Dict[str, Any]:                                            => 返回值: 一个包含预期输出的字典，其键应存在于 Chain.output_keys 中定义的键集合\n",
    "    \"\"\"Execute the chain.\n",
    "\n",
    "    Args:\n",
    "        inputs: Dictionary of inputs, or single input if chain expects\n",
    "            only one param. Should contain all inputs specified in\n",
    "            `Chain.input_keys` except for inputs that will be set by the chain's\n",
    "            memory.\n",
    "        return_only_outputs: Whether to return only outputs in the\n",
    "            response. If True, only new keys generated by this chain will be\n",
    "            returned. If False, both input keys and new keys generated by this\n",
    "            chain will be returned. Defaults to False.\n",
    "        callbacks: Callbacks to use for this chain run. These will be called in\n",
    "            addition to callbacks passed to the chain during construction, but only\n",
    "            these runtime callbacks will propagate to calls to other objects.\n",
    "        tags: List of string tags to pass to all callbacks. These will be passed in\n",
    "            addition to tags passed to the chain during construction, but only\n",
    "            these runtime tags will propagate to calls to other objects.\n",
    "        metadata: Optional metadata associated with the chain. Defaults to None\n",
    "        include_run_info: Whether to include run info in the response. Defaults\n",
    "            to False.\n",
    "\n",
    "    Returns:\n",
    "        A dict of named outputs. Should contain all outputs specified in\n",
    "            `Chain.output_keys`.\n",
    "    \"\"\"\n",
    "    => 将输入数据进行预处理，以确保它们满足链的实际运行需求。\n",
    "    inputs = self.prep_inputs(inputs)\n",
    "    => 配置回调管理器，以便在链的运行过程中执行特定的操作。\n",
    "    callback_manager = CallbackManager.configure(\n",
    "        callbacks,\n",
    "        self.callbacks,\n",
    "        self.verbose,\n",
    "        tags,\n",
    "        self.tags,\n",
    "        metadata,\n",
    "        self.metadata,\n",
    "    )\n",
    "    new_arg_supported = inspect.signature(self._call).parameters.get(\"run_manager\")\n",
    "    => 使用已配置的回调管理器启动链的运行\n",
    "    run_manager = callback_manager.on_chain_start(\n",
    "        dumpd(self),\n",
    "        inputs,\n",
    "        name=run_name,\n",
    "    )\n",
    "    => 尝试执行 _call 方法（这是在各个子类中根据具体需求定义的方法）以实现链的实际操作\n",
    "    => 如果在运行过程中出现任何异常，将由回调管理器捕获并处理。\n",
    "    try:\n",
    "        outputs = (\n",
    "            self._call(inputs, run_manager=run_manager)\n",
    "            if new_arg_supported\n",
    "            else self._call(inputs)\n",
    "        )\n",
    "    except BaseException as e:\n",
    "        run_manager.on_chain_error(e)\n",
    "        raise e\n",
    "        \n",
    "    => 在链运行结束后，通过回调管理器处理关闭事件，例如清理资源，记录日志等\n",
    "    run_manager.on_chain_end(outputs)\n",
    "    \n",
    "    \n",
    "    => 1 对链运行生成的输出进行预处理，以满足返回格式的要求。\n",
    "    final_outputs: Dict[str, Any] = self.prep_outputs(\n",
    "        inputs, outputs, return_only_outputs\n",
    "    )\n",
    "    => 2 如果 include_run_info 设为True，则在最终的输出字典中添加此次运行的相关信息。\n",
    "    if include_run_info:\n",
    "        final_outputs[RUN_KEY] = RunInfo(run_id=run_manager.run_id)\n",
    "    => 3 返回处理后的输出字典\n",
    "    return final_outputs\n",
    "```"
   ]
  },
  {
   "cell_type": "code",
   "execution_count": null,
   "id": "94f36cd6-045e-4e2b-b628-d7bc80046d5a",
   "metadata": {},
   "outputs": [],
   "source": []
  },
  {
   "cell_type": "markdown",
   "id": "892ac152-d015-4cc0-9894-266404d102c1",
   "metadata": {},
   "source": [
    "> **input_keys 的开始与结束**\n",
    "\n",
    "```python\n",
    "@property\n",
    "def input_keys(self) -> List[str]: \n",
    "    \"\"\"Will be whatever keys the prompt expects.\n",
    "    \n",
    "    :meta private:\n",
    "    \"\"\" \n",
    "    return self.prompt.input_variables\n",
    "```"
   ]
  },
  {
   "cell_type": "code",
   "execution_count": null,
   "id": "1b19c9dd-9dbc-4d79-a7b8-d4704fa69cbb",
   "metadata": {},
   "outputs": [],
   "source": []
  },
  {
   "cell_type": "code",
   "execution_count": 1,
   "id": "35ae1979-fddc-4b10-8113-87a23557c0a9",
   "metadata": {
    "tags": []
   },
   "outputs": [],
   "source": [
    "from langchain.prompts import PromptTemplate"
   ]
  },
  {
   "cell_type": "code",
   "execution_count": 2,
   "id": "fa8e92e0-d474-4e89-aecc-0bcc8f9e6a08",
   "metadata": {
    "tags": []
   },
   "outputs": [],
   "source": [
    "template = \"\"\"您是一个正在与人类对话的聊天机器人.\n",
    "\n",
    "{chat_history}\n",
    "人类: {human_input}\n",
    "聊天机器人:\"\"\"\n",
    "\n",
    "prompt = PromptTemplate(\n",
    "    input_variables=[\"chat_history\", \"human_input\"], template=template\n",
    ")"
   ]
  },
  {
   "cell_type": "code",
   "execution_count": 3,
   "id": "c09d857b-f613-4fb6-bce2-d39849d14530",
   "metadata": {
    "tags": []
   },
   "outputs": [
    {
     "data": {
      "text/plain": [
       "['chat_history', 'human_input']"
      ]
     },
     "execution_count": 3,
     "metadata": {},
     "output_type": "execute_result"
    }
   ],
   "source": [
    "prompt.input_variables"
   ]
  },
  {
   "cell_type": "code",
   "execution_count": null,
   "id": "620a6b4e-334d-49c2-a89c-9fb702e9432e",
   "metadata": {},
   "outputs": [],
   "source": []
  },
  {
   "cell_type": "code",
   "execution_count": 4,
   "id": "6f8333a4-e292-47f9-a6b8-7685e66e6cea",
   "metadata": {
    "tags": []
   },
   "outputs": [],
   "source": [
    "prompt = PromptTemplate.from_template(template)"
   ]
  },
  {
   "cell_type": "code",
   "execution_count": 5,
   "id": "75600e60-f8f5-495e-9bd0-113cd6a10626",
   "metadata": {
    "tags": []
   },
   "outputs": [
    {
     "data": {
      "text/plain": [
       "['chat_history', 'human_input']"
      ]
     },
     "execution_count": 5,
     "metadata": {},
     "output_type": "execute_result"
    }
   ],
   "source": [
    "prompt.input_variables"
   ]
  },
  {
   "cell_type": "markdown",
   "id": "e195ec11-68a8-4684-9843-03e6ac4682ef",
   "metadata": {},
   "source": [
    "> 我们看看 `prompt.input_variables`"
   ]
  },
  {
   "cell_type": "code",
   "execution_count": null,
   "id": "c29bd09b-0c0d-4922-bf3f-912754e033d6",
   "metadata": {},
   "outputs": [],
   "source": [
    "def get_template_variables(template: str, template_format: str) -> List[str]:  \n",
    "    if template_format == \"jinja2\":\n",
    "        input_variables = _get_jinja2_variables_from_template(template)\n",
    "    elif template_format == \"f-string\":\n",
    "        input_variables = {\n",
    "            v for _, v, _, _ in Formatter().parse(template) if v is not None\n",
    "        }\n",
    "    else: \n",
    "        raise ValueError(f\"Unsupported template format: {template_format}\")\n",
    "    return sorted(input_variables)"
   ]
  },
  {
   "cell_type": "code",
   "execution_count": 6,
   "id": "83cb4ba2-e085-45bb-b86d-fe70592c2d96",
   "metadata": {
    "tags": []
   },
   "outputs": [],
   "source": [
    "from string import Formatter"
   ]
  },
  {
   "cell_type": "code",
   "execution_count": null,
   "id": "98a39cc0-59c8-4d90-b9be-01050e4659bf",
   "metadata": {},
   "outputs": [],
   "source": []
  },
  {
   "cell_type": "code",
   "execution_count": 10,
   "id": "6128e352-1b0d-4178-bdbd-fdff7db084fc",
   "metadata": {
    "tags": []
   },
   "outputs": [],
   "source": [
    "template = \"\"\"您是一个正在与人类对话的聊天机器人.\n",
    "\n",
    "{chat_history}\n",
    "人类: {human_input}\n",
    "聊天机器人:\"\"\""
   ]
  },
  {
   "cell_type": "code",
   "execution_count": 11,
   "id": "c5f404b6-b447-4eac-9b94-16b7de40ab6d",
   "metadata": {
    "tags": []
   },
   "outputs": [
    {
     "name": "stdout",
     "output_type": "stream",
     "text": [
      "['您是一个正在与人类对话的聊天机器人.\\n\\n'] ['chat_history'] [''] [None]\n",
      "['\\n人类: '] ['human_input'] [''] [None]\n",
      "['\\n聊天机器人:'] [None] [None] [None]\n"
     ]
    }
   ],
   "source": [
    "for a, b, c, d in Formatter().parse(template):\n",
    "    print([a], [b], [c], [d])"
   ]
  },
  {
   "cell_type": "markdown",
   "id": "ba9e827e-6452-4db7-964e-a065f8c743e5",
   "metadata": {},
   "source": [
    "> <font color=blue size=4>这就是 input_keys的开始,以及从Memory加载的过程</font>"
   ]
  },
  {
   "cell_type": "code",
   "execution_count": null,
   "id": "590ad9c7-cde8-45cc-b1aa-0cc0f1819453",
   "metadata": {},
   "outputs": [],
   "source": []
  },
  {
   "cell_type": "markdown",
   "id": "34d72a48-40a1-4bb9-85d7-6bb024d4ee6e",
   "metadata": {},
   "source": [
    "# LLMChain相关源码分析"
   ]
  },
  {
   "cell_type": "code",
   "execution_count": null,
   "id": "0a1838d9-d443-40c9-8451-1aa2f884bbcf",
   "metadata": {},
   "outputs": [],
   "source": []
  },
  {
   "cell_type": "code",
   "execution_count": null,
   "id": "307d8aa2-8adb-40e4-aa73-8de3e5232f06",
   "metadata": {},
   "outputs": [],
   "source": []
  },
  {
   "cell_type": "code",
   "execution_count": null,
   "id": "ddf93094-a714-47f1-b079-e07cd678c7c0",
   "metadata": {},
   "outputs": [],
   "source": []
  },
  {
   "cell_type": "code",
   "execution_count": null,
   "id": "6c900e4a-6abf-48ea-a7b9-5c656cd5479a",
   "metadata": {},
   "outputs": [],
   "source": []
  },
  {
   "cell_type": "code",
   "execution_count": null,
   "id": "a73a8436-0d73-4b41-b07e-6527c79ebabb",
   "metadata": {},
   "outputs": [],
   "source": []
  },
  {
   "cell_type": "code",
   "execution_count": null,
   "id": "9fa6b89a-67a1-4b62-96ba-4af62251d77b",
   "metadata": {},
   "outputs": [],
   "source": []
  },
  {
   "cell_type": "code",
   "execution_count": null,
   "id": "9a8bfb99-4873-45ad-8fc9-1fce68d65660",
   "metadata": {},
   "outputs": [],
   "source": []
  },
  {
   "cell_type": "code",
   "execution_count": null,
   "id": "b964f3d0-cfd7-40bb-b4f7-b1da3d75f82c",
   "metadata": {},
   "outputs": [],
   "source": []
  },
  {
   "cell_type": "code",
   "execution_count": null,
   "id": "64147627-3191-4188-adf0-aa5ba8c5871a",
   "metadata": {},
   "outputs": [],
   "source": []
  },
  {
   "cell_type": "code",
   "execution_count": null,
   "id": "93c4aed0-1207-4c33-8b03-b48cb91c873d",
   "metadata": {},
   "outputs": [],
   "source": []
  },
  {
   "cell_type": "code",
   "execution_count": null,
   "id": "72e9c927-2fc3-403a-b109-0fb2fa182beb",
   "metadata": {},
   "outputs": [],
   "source": []
  },
  {
   "cell_type": "code",
   "execution_count": null,
   "id": "4a4ac60c-f555-4003-9d07-caa62f2959a2",
   "metadata": {},
   "outputs": [],
   "source": []
  },
  {
   "cell_type": "code",
   "execution_count": null,
   "id": "91d0d729-2038-4eed-8ae5-90344038e926",
   "metadata": {},
   "outputs": [],
   "source": []
  },
  {
   "cell_type": "code",
   "execution_count": null,
   "id": "d27f304f-9153-4ab3-8b8c-003a65e03d28",
   "metadata": {},
   "outputs": [],
   "source": []
  },
  {
   "cell_type": "code",
   "execution_count": null,
   "id": "a672d4f6-7360-4c39-aaf9-f512518a6e5f",
   "metadata": {},
   "outputs": [],
   "source": []
  },
  {
   "cell_type": "code",
   "execution_count": null,
   "id": "906882f7-3ca4-48cd-99c4-d4e7dd289b99",
   "metadata": {},
   "outputs": [],
   "source": []
  },
  {
   "cell_type": "code",
   "execution_count": null,
   "id": "27c630f9-99b8-4e5a-a965-64d71423989b",
   "metadata": {},
   "outputs": [],
   "source": []
  },
  {
   "cell_type": "code",
   "execution_count": null,
   "id": "a39b8295-8cca-4593-90b0-916571af734f",
   "metadata": {},
   "outputs": [],
   "source": []
  },
  {
   "cell_type": "code",
   "execution_count": null,
   "id": "90130eb7-6236-43c2-bc07-475854170d95",
   "metadata": {},
   "outputs": [],
   "source": []
  },
  {
   "cell_type": "code",
   "execution_count": null,
   "id": "971deb6d-1a3f-4307-b1c3-31d4879a45cf",
   "metadata": {},
   "outputs": [],
   "source": []
  },
  {
   "cell_type": "code",
   "execution_count": null,
   "id": "28e75360-ea42-4962-b2ae-e83f86d1e341",
   "metadata": {},
   "outputs": [],
   "source": []
  },
  {
   "cell_type": "code",
   "execution_count": null,
   "id": "f738a313-221f-4011-ada6-7edb3932ba8d",
   "metadata": {},
   "outputs": [],
   "source": []
  },
  {
   "cell_type": "code",
   "execution_count": null,
   "id": "a16da135-c739-4636-a008-9ec00b1f138d",
   "metadata": {},
   "outputs": [],
   "source": []
  },
  {
   "cell_type": "code",
   "execution_count": null,
   "id": "b5690b62-5d3e-45c2-909a-f4c2b4b92422",
   "metadata": {},
   "outputs": [],
   "source": []
  },
  {
   "cell_type": "code",
   "execution_count": null,
   "id": "6dd8384f-365b-469a-9870-f9f707a55a25",
   "metadata": {},
   "outputs": [],
   "source": []
  },
  {
   "cell_type": "code",
   "execution_count": null,
   "id": "d6e9bea5-ac2a-4f3d-aaa9-c185a87b4d1d",
   "metadata": {},
   "outputs": [],
   "source": []
  },
  {
   "cell_type": "code",
   "execution_count": null,
   "id": "a92f9213-ec96-415c-9af8-62098cd6b8a3",
   "metadata": {},
   "outputs": [],
   "source": []
  },
  {
   "cell_type": "code",
   "execution_count": null,
   "id": "3aee76a6-03ef-4564-8d27-1fc7c283b4e3",
   "metadata": {},
   "outputs": [],
   "source": []
  },
  {
   "cell_type": "code",
   "execution_count": null,
   "id": "b12b5351-c9f7-41cd-bbd9-5215aa6869e7",
   "metadata": {},
   "outputs": [],
   "source": []
  },
  {
   "cell_type": "code",
   "execution_count": null,
   "id": "51c8d725-4ded-4f06-8dd3-3232acc8f819",
   "metadata": {},
   "outputs": [],
   "source": []
  },
  {
   "cell_type": "code",
   "execution_count": null,
   "id": "cbcb97bd-a317-4f26-be6f-b76b01be1a9d",
   "metadata": {},
   "outputs": [],
   "source": []
  },
  {
   "cell_type": "code",
   "execution_count": null,
   "id": "78e2d43c-82f8-4a75-8821-7df08ac5be59",
   "metadata": {},
   "outputs": [],
   "source": []
  }
 ],
 "metadata": {
  "kernelspec": {
   "display_name": "chatglm26b",
   "language": "python",
   "name": "chatglm26b"
  },
  "language_info": {
   "codemirror_mode": {
    "name": "ipython",
    "version": 3
   },
   "file_extension": ".py",
   "mimetype": "text/x-python",
   "name": "python",
   "nbconvert_exporter": "python",
   "pygments_lexer": "ipython3",
   "version": "3.9.6"
  }
 },
 "nbformat": 4,
 "nbformat_minor": 5
}
