{
 "cells": [
  {
   "cell_type": "markdown",
   "id": "c059391c-6e2a-4a2e-b2af-2c5a793664e3",
   "metadata": {},
   "source": [
    "### 平面输入"
   ]
  },
  {
   "cell_type": "code",
   "execution_count": 1,
   "id": "eb1abea3-471f-43ba-9b7d-edd9f3e11aab",
   "metadata": {
    "tags": []
   },
   "outputs": [],
   "source": [
    "from langchain.chains import LLMChain\n",
    "from langchain.llms import ChatGLM\n",
    "from langchain.memory import ConversationBufferMemory\n",
    "from langchain.prompts import PromptTemplate"
   ]
  },
  {
   "cell_type": "code",
   "execution_count": null,
   "id": "039f12c3-13c0-4cdf-a656-bdef9f6fe7df",
   "metadata": {},
   "outputs": [],
   "source": []
  },
  {
   "cell_type": "code",
   "execution_count": null,
   "id": "015e9869-93b1-461a-8c29-1c6900e20496",
   "metadata": {},
   "outputs": [],
   "source": []
  },
  {
   "cell_type": "code",
   "execution_count": 2,
   "id": "da34d0cb-83b3-4e7c-8378-51a02de74333",
   "metadata": {
    "tags": []
   },
   "outputs": [],
   "source": [
    "template = \"\"\"您是一个正在与人类对话的聊天机器人.\n",
    "\n",
    "{chat_history}\n",
    "人类: {human_input}\n",
    "聊天机器人:\"\"\"\n",
    "\n",
    "prompt = PromptTemplate(\n",
    "    input_variables=[\"chat_history\", \"human_input\"], template=template\n",
    ")\n",
    "memory = ConversationBufferMemory(memory_key=\"chat_history\")"
   ]
  },
  {
   "cell_type": "markdown",
   "id": "14b66609-e1dc-4d70-ae28-3898bba9e6de",
   "metadata": {},
   "source": [
    "> **memory_key, 指明了,要从memory中取的key**"
   ]
  },
  {
   "cell_type": "code",
   "execution_count": 3,
   "id": "1e247548-7f15-4ec7-ae92-151beb5d73ba",
   "metadata": {
    "tags": []
   },
   "outputs": [
    {
     "data": {
      "text/plain": [
       "['chat_history', 'human_input']"
      ]
     },
     "execution_count": 3,
     "metadata": {},
     "output_type": "execute_result"
    }
   ],
   "source": [
    "prompt.input_variables"
   ]
  },
  {
   "cell_type": "code",
   "execution_count": 4,
   "id": "ed0fe6ca-6f0a-49cc-b72d-35bc268e6af8",
   "metadata": {
    "tags": []
   },
   "outputs": [
    {
     "data": {
      "text/plain": [
       "['chat_history', 'human_input']"
      ]
     },
     "execution_count": 4,
     "metadata": {},
     "output_type": "execute_result"
    }
   ],
   "source": [
    "PromptTemplate.from_template(template).input_variables"
   ]
  },
  {
   "cell_type": "code",
   "execution_count": null,
   "id": "7c4ffa00-e5e5-459d-846f-9db3fd2c9756",
   "metadata": {},
   "outputs": [],
   "source": []
  },
  {
   "cell_type": "code",
   "execution_count": null,
   "id": "ed990d55-5197-4de0-9f42-8251674048f7",
   "metadata": {},
   "outputs": [],
   "source": []
  },
  {
   "cell_type": "markdown",
   "id": "9f403739-386f-41be-99e4-ba4460b78f04",
   "metadata": {},
   "source": [
    "> 注意这里用的是chat_history 默认是 history"
   ]
  },
  {
   "cell_type": "code",
   "execution_count": 3,
   "id": "9616e640-6762-4e62-96d9-d599ef5e2892",
   "metadata": {
    "tags": []
   },
   "outputs": [
    {
     "data": {
      "text/plain": [
       "\u001b[0;31mInit signature:\u001b[0m\n",
       "\u001b[0mConversationBufferMemory\u001b[0m\u001b[0;34m(\u001b[0m\u001b[0;34m\u001b[0m\n",
       "\u001b[0;34m\u001b[0m    \u001b[0;34m*\u001b[0m\u001b[0;34m,\u001b[0m\u001b[0;34m\u001b[0m\n",
       "\u001b[0;34m\u001b[0m    \u001b[0mchat_memory\u001b[0m\u001b[0;34m:\u001b[0m \u001b[0mlangchain\u001b[0m\u001b[0;34m.\u001b[0m\u001b[0mschema\u001b[0m\u001b[0;34m.\u001b[0m\u001b[0mchat_history\u001b[0m\u001b[0;34m.\u001b[0m\u001b[0mBaseChatMessageHistory\u001b[0m \u001b[0;34m=\u001b[0m \u001b[0;32mNone\u001b[0m\u001b[0;34m,\u001b[0m\u001b[0;34m\u001b[0m\n",
       "\u001b[0;34m\u001b[0m    \u001b[0moutput_key\u001b[0m\u001b[0;34m:\u001b[0m \u001b[0mOptional\u001b[0m\u001b[0;34m[\u001b[0m\u001b[0mstr\u001b[0m\u001b[0;34m]\u001b[0m \u001b[0;34m=\u001b[0m \u001b[0;32mNone\u001b[0m\u001b[0;34m,\u001b[0m\u001b[0;34m\u001b[0m\n",
       "\u001b[0;34m\u001b[0m    \u001b[0minput_key\u001b[0m\u001b[0;34m:\u001b[0m \u001b[0mOptional\u001b[0m\u001b[0;34m[\u001b[0m\u001b[0mstr\u001b[0m\u001b[0;34m]\u001b[0m \u001b[0;34m=\u001b[0m \u001b[0;32mNone\u001b[0m\u001b[0;34m,\u001b[0m\u001b[0;34m\u001b[0m\n",
       "\u001b[0;34m\u001b[0m    \u001b[0mreturn_messages\u001b[0m\u001b[0;34m:\u001b[0m \u001b[0mbool\u001b[0m \u001b[0;34m=\u001b[0m \u001b[0;32mFalse\u001b[0m\u001b[0;34m,\u001b[0m\u001b[0;34m\u001b[0m\n",
       "\u001b[0;34m\u001b[0m    \u001b[0mhuman_prefix\u001b[0m\u001b[0;34m:\u001b[0m \u001b[0mstr\u001b[0m \u001b[0;34m=\u001b[0m \u001b[0;34m'Human'\u001b[0m\u001b[0;34m,\u001b[0m\u001b[0;34m\u001b[0m\n",
       "\u001b[0;34m\u001b[0m    \u001b[0mai_prefix\u001b[0m\u001b[0;34m:\u001b[0m \u001b[0mstr\u001b[0m \u001b[0;34m=\u001b[0m \u001b[0;34m'AI'\u001b[0m\u001b[0;34m,\u001b[0m\u001b[0;34m\u001b[0m\n",
       "\u001b[0;34m\u001b[0m    \u001b[0mmemory_key\u001b[0m\u001b[0;34m:\u001b[0m \u001b[0mstr\u001b[0m \u001b[0;34m=\u001b[0m \u001b[0;34m'history'\u001b[0m\u001b[0;34m,\u001b[0m\u001b[0;34m\u001b[0m\n",
       "\u001b[0;34m\u001b[0m\u001b[0;34m)\u001b[0m \u001b[0;34m->\u001b[0m \u001b[0;32mNone\u001b[0m\u001b[0;34m\u001b[0m\u001b[0;34m\u001b[0m\u001b[0m\n",
       "\u001b[0;31mDocstring:\u001b[0m      Buffer for storing conversation memory.\n",
       "\u001b[0;31mInit docstring:\u001b[0m\n",
       "Create a new model by parsing and validating input data from keyword arguments.\n",
       "\n",
       "Raises ValidationError if the input data cannot be parsed to form a valid model.\n",
       "\u001b[0;31mFile:\u001b[0m           ~/anaconda3/envs/lglm/lib/python3.9/site-packages/langchain/memory/buffer.py\n",
       "\u001b[0;31mType:\u001b[0m           ModelMetaclass\n",
       "\u001b[0;31mSubclasses:\u001b[0m     ZepMemory"
      ]
     },
     "metadata": {},
     "output_type": "display_data"
    }
   ],
   "source": [
    "ConversationBufferMemory?"
   ]
  },
  {
   "cell_type": "code",
   "execution_count": null,
   "id": "38031f0f-c8ad-45b6-acb6-1841050641ce",
   "metadata": {},
   "outputs": [],
   "source": []
  },
  {
   "cell_type": "code",
   "execution_count": 4,
   "id": "b04c35b0-2dd1-4154-96fd-c396a38c33fa",
   "metadata": {
    "tags": []
   },
   "outputs": [],
   "source": [
    "llm = ChatGLM()\n",
    "llm_chain = LLMChain(\n",
    "    llm=llm,\n",
    "    prompt=prompt,\n",
    "    verbose=True,\n",
    "    memory=memory,\n",
    ")"
   ]
  },
  {
   "cell_type": "code",
   "execution_count": null,
   "id": "42e65222-0cd4-42f0-b5bd-d410a5cb2c02",
   "metadata": {},
   "outputs": [],
   "source": []
  },
  {
   "cell_type": "code",
   "execution_count": null,
   "id": "b8560490-f799-4844-a61a-391a52133fd3",
   "metadata": {},
   "outputs": [],
   "source": []
  },
  {
   "cell_type": "code",
   "execution_count": 5,
   "id": "80c220ef-f598-4f91-81ab-89cd8941e730",
   "metadata": {
    "tags": []
   },
   "outputs": [
    {
     "name": "stdout",
     "output_type": "stream",
     "text": [
      "\n",
      "\n",
      "\u001b[1m> Entering new LLMChain chain...\u001b[0m\n",
      "Prompt after formatting:\n",
      "\u001b[32;1m\u001b[1;3m您是一个正在与人类对话的聊天机器人.\n",
      "\n",
      "\n",
      "人类: 你好,我的朋友\n",
      "聊天机器人:\u001b[0m\n",
      "\n",
      "\u001b[1m> Finished chain.\u001b[0m\n"
     ]
    },
    {
     "data": {
      "text/plain": [
       "{'human_input': '你好,我的朋友',\n",
       " 'chat_history': '',\n",
       " 'text': '你好！很高兴能与您交流，请问有什么我可以帮助您的吗？'}"
      ]
     },
     "execution_count": 5,
     "metadata": {},
     "output_type": "execute_result"
    }
   ],
   "source": [
    "llm_chain({'human_input': \"你好,我的朋友\"})"
   ]
  },
  {
   "cell_type": "markdown",
   "id": "492cd4f2-fed6-43ee-8116-c98f9c1ae16f",
   "metadata": {},
   "source": [
    "> **第一次调用chat_history是为空的**"
   ]
  },
  {
   "cell_type": "code",
   "execution_count": null,
   "id": "462913f9-8e5f-42ba-a710-b26b47818e2f",
   "metadata": {},
   "outputs": [],
   "source": []
  },
  {
   "cell_type": "code",
   "execution_count": 7,
   "id": "a4b36607-021b-4e54-8031-82779e823f56",
   "metadata": {
    "tags": []
   },
   "outputs": [
    {
     "name": "stdout",
     "output_type": "stream",
     "text": [
      "\n",
      "\n",
      "\u001b[1m> Entering new LLMChain chain...\u001b[0m\n",
      "Prompt after formatting:\n",
      "\u001b[32;1m\u001b[1;3m您是一个正在与人类对话的聊天机器人.\n",
      "\n",
      "Human: 你好,我的朋友\n",
      "AI: 你好！很高兴能与您交流，请问有什么我可以帮助您的吗？\n",
      "人类: 还不错, 你好么\n",
      "聊天机器人:\u001b[0m\n",
      "\n",
      "\u001b[1m> Finished chain.\u001b[0m\n"
     ]
    },
    {
     "data": {
      "text/plain": [
       "{'human_input': '还不错, 你好么',\n",
       " 'chat_history': 'Human: 你好,我的朋友\\nAI: 你好！很高兴能与您交流，请问有什么我可以帮助您的吗？',\n",
       " 'text': '作为聊天机器人,我很高兴能够与您交流,并尽力回答您的问题或提供帮助。请问有什么我可以帮忙的吗?'}"
      ]
     },
     "execution_count": 7,
     "metadata": {},
     "output_type": "execute_result"
    }
   ],
   "source": [
    "llm_chain({'human_input': \"还不错, 你好么\"})"
   ]
  },
  {
   "cell_type": "markdown",
   "id": "e20c3d54-dadd-4a0f-a754-c81744c1b938",
   "metadata": {},
   "source": [
    "> **第二论对话, 会将第一轮对话作为历史保存(其实是在第一轮对话的末尾,被保存到memory中的)**"
   ]
  },
  {
   "cell_type": "code",
   "execution_count": null,
   "id": "d3918df1-828b-4256-b9f1-1d271c03e617",
   "metadata": {},
   "outputs": [],
   "source": []
  },
  {
   "cell_type": "code",
   "execution_count": null,
   "id": "36c79ef1-49d5-4f2e-9bb9-a95cbcd12cb3",
   "metadata": {},
   "outputs": [],
   "source": []
  },
  {
   "cell_type": "code",
   "execution_count": 8,
   "id": "c7aa0df1-24d2-426e-a48d-a3725bc76579",
   "metadata": {
    "tags": []
   },
   "outputs": [
    {
     "data": {
      "text/plain": [
       "['chat_history']"
      ]
     },
     "execution_count": 8,
     "metadata": {},
     "output_type": "execute_result"
    }
   ],
   "source": [
    "memory.memory_variables"
   ]
  },
  {
   "cell_type": "code",
   "execution_count": null,
   "id": "d4b39e6a-0ced-4fc8-bf4c-5c2f54b1e17e",
   "metadata": {},
   "outputs": [],
   "source": []
  },
  {
   "cell_type": "code",
   "execution_count": null,
   "id": "d784d370-92f2-4374-96c8-b472736b2df4",
   "metadata": {},
   "outputs": [],
   "source": []
  },
  {
   "cell_type": "markdown",
   "id": "130adba9-8285-4625-9ab3-a46eed129840",
   "metadata": {},
   "source": [
    "### 结构化的输入"
   ]
  },
  {
   "cell_type": "code",
   "execution_count": 9,
   "id": "194c2481-cf8a-48cc-a3b9-070bd259fda3",
   "metadata": {
    "tags": []
   },
   "outputs": [],
   "source": [
    "from langchain.prompts import (\n",
    "    ChatPromptTemplate,\n",
    "    HumanMessagePromptTemplate,\n",
    "    MessagesPlaceholder,\n",
    ")\n",
    "from langchain.schema import SystemMessage"
   ]
  },
  {
   "cell_type": "code",
   "execution_count": 10,
   "id": "1aba99f5-fe78-4943-aba5-90fdc292ec54",
   "metadata": {
    "tags": []
   },
   "outputs": [],
   "source": [
    "from langchain.llms import ChatGLM"
   ]
  },
  {
   "cell_type": "code",
   "execution_count": null,
   "id": "7ae8c244-535b-46b0-b6a0-990fee385266",
   "metadata": {},
   "outputs": [],
   "source": []
  },
  {
   "cell_type": "code",
   "execution_count": 11,
   "id": "b7bb23e9-a7ff-4d61-8c88-376722fe4dc5",
   "metadata": {
    "tags": []
   },
   "outputs": [],
   "source": [
    "prompt = ChatPromptTemplate.from_messages(\n",
    "    [\n",
    "        SystemMessage(content=\"您是一个正在与人类对话的聊天机器人.\"), #  The persistent system prompt\n",
    "        MessagesPlaceholder(variable_name='chat_history'),         # Where the memory will be stored.\n",
    "        HumanMessagePromptTemplate.from_template(\"{human_input}\"), # # Where the human input will injected\n",
    "    ]\n",
    ")"
   ]
  },
  {
   "cell_type": "code",
   "execution_count": 12,
   "id": "cf698f7a-009a-420d-8b43-e8bb70a989ef",
   "metadata": {
    "tags": []
   },
   "outputs": [],
   "source": [
    "memory = ConversationBufferMemory(memory_key=\"chat_history\", return_messages=True)"
   ]
  },
  {
   "cell_type": "code",
   "execution_count": null,
   "id": "7512b3e0-ec40-481e-984d-6b9cf7691d6b",
   "metadata": {},
   "outputs": [],
   "source": []
  },
  {
   "cell_type": "code",
   "execution_count": 13,
   "id": "813ff6d1-8800-49ee-8f5d-f03fd1308882",
   "metadata": {
    "tags": []
   },
   "outputs": [],
   "source": [
    "llm = ChatGLM()\n",
    "\n",
    "chat_llm_chain = LLMChain(\n",
    "    llm=llm,\n",
    "    prompt=prompt,\n",
    "    verbose=True,\n",
    "    memory=memory,\n",
    ")"
   ]
  },
  {
   "cell_type": "code",
   "execution_count": null,
   "id": "617ae909-757b-4ff7-8d4c-c3014c35e417",
   "metadata": {},
   "outputs": [],
   "source": []
  },
  {
   "cell_type": "code",
   "execution_count": 15,
   "id": "2a91fbb6-42a6-4731-85ef-ca13163bbdb6",
   "metadata": {
    "tags": []
   },
   "outputs": [
    {
     "name": "stdout",
     "output_type": "stream",
     "text": [
      "\n",
      "\n",
      "\u001b[1m> Entering new LLMChain chain...\u001b[0m\n",
      "Prompt after formatting:\n",
      "\u001b[32;1m\u001b[1;3mSystem: 您是一个正在与人类对话的聊天机器人.\n",
      "Human: 你好,我的朋友\u001b[0m\n",
      "\n",
      "\u001b[1m> Finished chain.\u001b[0m\n"
     ]
    },
    {
     "data": {
      "text/plain": [
       "{'human_input': '你好,我的朋友',\n",
       " 'chat_history': [HumanMessage(content='你好,我的朋友'),\n",
       "  AIMessage(content='你好,朋友!请问有什么需要帮助的吗?')],\n",
       " 'text': '你好,朋友!请问有什么需要帮助的吗?'}"
      ]
     },
     "execution_count": 15,
     "metadata": {},
     "output_type": "execute_result"
    }
   ],
   "source": [
    "chat_llm_chain({'human_input': \"你好,我的朋友\"})"
   ]
  },
  {
   "cell_type": "code",
   "execution_count": 16,
   "id": "a4fce610-7e04-4e1e-a24e-3f40af6661cb",
   "metadata": {
    "tags": []
   },
   "outputs": [
    {
     "name": "stdout",
     "output_type": "stream",
     "text": [
      "\n",
      "\n",
      "\u001b[1m> Entering new LLMChain chain...\u001b[0m\n",
      "Prompt after formatting:\n",
      "\u001b[32;1m\u001b[1;3mSystem: 您是一个正在与人类对话的聊天机器人.\n",
      "Human: 你好,我的朋友\n",
      "AI: 你好,朋友!请问有什么需要帮助的吗?\n",
      "Human: 还不错, 你好么\u001b[0m\n",
      "\n",
      "\u001b[1m> Finished chain.\u001b[0m\n"
     ]
    },
    {
     "data": {
      "text/plain": [
       "{'human_input': '还不错, 你好么',\n",
       " 'chat_history': [HumanMessage(content='你好,我的朋友'),\n",
       "  AIMessage(content='你好,朋友!请问有什么需要帮助的吗?'),\n",
       "  HumanMessage(content='还不错, 你好么'),\n",
       "  AIMessage(content='AI: 作为聊天机器人,我并没有情感,所以不能说我“好”或者“不好”。不过,我很乐意与您聊天,并尽力回答您的问题。请问有什么需要帮助的吗?')],\n",
       " 'text': 'AI: 作为聊天机器人,我并没有情感,所以不能说我“好”或者“不好”。不过,我很乐意与您聊天,并尽力回答您的问题。请问有什么需要帮助的吗?'}"
      ]
     },
     "execution_count": 16,
     "metadata": {},
     "output_type": "execute_result"
    }
   ],
   "source": [
    "chat_llm_chain({'human_input': \"还不错, 你好么\"})"
   ]
  },
  {
   "cell_type": "code",
   "execution_count": null,
   "id": "5909e5ce-4e61-49ae-b853-7ad3b92c108c",
   "metadata": {},
   "outputs": [],
   "source": []
  },
  {
   "cell_type": "code",
   "execution_count": null,
   "id": "b1b761e7-a493-4fbb-a992-c9fd35904bff",
   "metadata": {},
   "outputs": [],
   "source": []
  },
  {
   "cell_type": "code",
   "execution_count": null,
   "id": "056230b1-1585-451f-a27b-87fc034f2154",
   "metadata": {},
   "outputs": [],
   "source": []
  },
  {
   "cell_type": "code",
   "execution_count": null,
   "id": "1bce0590-5403-45e5-a147-9f1772d2c733",
   "metadata": {},
   "outputs": [],
   "source": []
  },
  {
   "cell_type": "markdown",
   "id": "47e5eca9-9b15-47ba-8487-13fb824bd144",
   "metadata": {},
   "source": [
    "### Memory in the Multi-Input Chain: context and human input"
   ]
  },
  {
   "cell_type": "code",
   "execution_count": null,
   "id": "7e8cf4e7-5893-450c-bcbd-287d28ec2139",
   "metadata": {},
   "outputs": [],
   "source": []
  },
  {
   "cell_type": "code",
   "execution_count": 1,
   "id": "a614e3a3-6ce6-4aa4-b1fe-e537975a6725",
   "metadata": {
    "tags": []
   },
   "outputs": [],
   "source": [
    "from langchain.embeddings.huggingface import HuggingFaceEmbeddings\n",
    "from langchain.text_splitter import CharacterTextSplitter\n",
    "from langchain.vectorstores import FAISS"
   ]
  },
  {
   "cell_type": "code",
   "execution_count": 2,
   "id": "8eaa8b22-de44-478e-9b35-fabf9c8e39ad",
   "metadata": {
    "tags": []
   },
   "outputs": [
    {
     "name": "stderr",
     "output_type": "stream",
     "text": [
      "No sentence-transformers model found with name /home/10170464/jupyter-notebook/Wangquanjun/langchain-ChatGLM/huggingface_tools/dataroot/models/GanymedeNil/text2vec-large-chinese. Creating a new one with MEAN pooling.\n"
     ]
    }
   ],
   "source": [
    "path = \"/home/10170464/jupyter-notebook/Wangquanjun/langchain-ChatGLM/huggingface_tools/dataroot/models/GanymedeNil/text2vec-large-chinese\"\n",
    "embeddings = HuggingFaceEmbeddings(model_name=path,\n",
    "                                   model_kwargs={'device': \"cpu\"})"
   ]
  },
  {
   "cell_type": "code",
   "execution_count": null,
   "id": "3a150625-64e2-41b1-b387-90ea827a8fac",
   "metadata": {},
   "outputs": [],
   "source": []
  },
  {
   "cell_type": "code",
   "execution_count": 3,
   "id": "6e2e9c6f-e58c-45ee-90bc-d082e3787be0",
   "metadata": {
    "tags": []
   },
   "outputs": [],
   "source": [
    "with open(\"./inputs/state_of_chinese.txt\") as f:\n",
    "    state_of_chinese = f.read()\n",
    "text_splitter = CharacterTextSplitter(chunk_size=1000, chunk_overlap=0)\n",
    "texts = text_splitter.split_text(state_of_chinese)"
   ]
  },
  {
   "cell_type": "code",
   "execution_count": null,
   "id": "5f77780f-324a-48a4-ace2-4f6926545492",
   "metadata": {},
   "outputs": [],
   "source": []
  },
  {
   "cell_type": "code",
   "execution_count": 4,
   "id": "424a3f5a-6926-4f66-93ea-db2e27089571",
   "metadata": {
    "tags": []
   },
   "outputs": [],
   "source": [
    "docsearch = FAISS.from_texts(texts, embeddings, metadatas=[{\"source\": i} for i in range(len(texts))])"
   ]
  },
  {
   "cell_type": "code",
   "execution_count": null,
   "id": "2d75efc1-7628-467b-9627-f287919b8a78",
   "metadata": {},
   "outputs": [],
   "source": []
  },
  {
   "cell_type": "code",
   "execution_count": 5,
   "id": "ddfc510c-274b-4556-96ed-44c15d03b6e7",
   "metadata": {
    "tags": []
   },
   "outputs": [],
   "source": [
    "query = \"AIGC能替代老师么\"\n",
    "docs = docsearch.similarity_search(query)"
   ]
  },
  {
   "cell_type": "code",
   "execution_count": 6,
   "id": "d4d8cafa-07fd-4626-8a87-459ac9c82f4c",
   "metadata": {
    "tags": []
   },
   "outputs": [
    {
     "data": {
      "text/plain": [
       "[Document(page_content='“教育是一个国家的未来，是一个民族的希望。”我相信，每一位阅读这篇文章的人，无论是在校学生，家长，还是教育工作者，都深知教育的重要性。\\n\\n然而，传统的教育模式面临着许多挑战：课堂内的教学模式单一，教师难以顾及每一位学生的个性化需求，学生的学习进度和成绩又受到诸多因素的影响。而这些问题，可能通过AIGC技术得到解决。AIGC，全称为人工智能生成内容，是现代AI技术的重要应用之一。\\n\\n那么，AIGC技术在教育领域有哪些应用？AIGC技术在教育领域的优缺点又是什么呢？在教育领域，AI是否能替代人类教师的角色？？AIGC教育领域的应用可能带来哪些伦理问题呢？这些问题，我将在接下来的文章中为大家一一解答。\\n\\n我们首先来看看AIGC技术在教育领域的应用。Quizlet联合OpenAI推出了名为Q-Chat的人工智能辅导工具，这个工具可以提供个性化的一对一辅导，通过聊天界面和针对性的问题，帮助学生学习各个学科。这不仅仅是一种新的学习方式，更是一种全新的学习体验。Q-Chat的出现，让我们看到了AI在教育领域的巨大潜力。\\n\\n同样，在语言学习领域，Duolingo也引入了OpenAI的GPT-4，开发了AI对话伙伴和解释答案两个新功能，以提升学习者在学习第二语言时的效率和兴趣。另外，非营利组织Khan Academy宣布将使用GPT-4推出AI助手Khanmigo，作为学生的虚拟导师和教师的课堂助手。\\n\\n那么，AIGC技术在教育领域应用有哪些优缺点呢？\\n\\n优点显而易见，首先，AIGC技术可以实现个性化学习，提供定制化的教学内容，提升学习效率。其次，AI助手可以提供全天候服务，打破时间和地点的限制，让学习更为灵活，学生可以随时随地进行学习。\\n\\n然而，任何事物的发展都有其两面性，缺点同样存在。例如，过度依赖AI可能会导致学生缺乏人际交流的机会，影响他们的社交能力。这不仅包括语言交流，还有面对面的情感交流、情绪理解和社会性行为。人类社会是一个复杂的系统，充满了微妙的情感和社会关系，这是AI暂时无法完全理解和模拟的。\\n\\n面对这种情况，我们要思考，AIGC技术是否能替代人类教师的角色？', metadata={'source': 0}),\n",
       " Document(page_content='我认为，AIGC技术并不能完全替代人类教师。教师的角色不仅在于传递知识，他们的情感投入以及对学生个性和需求的理解是AI无法替代的。然而，AIGC技术可以成为教师的得力助手，比如，Khan Academy的AI助手Khanmigo，能够帮助教师编写课堂提示或创建教学材料，更好地满足每个学生的学习需求。\\n\\n当然，AIGC技术的应用也可能带来一些伦理问题。\\n\\n比如，AI技术在教育领域的应用可能会加剧教育资源的不平等，因为并非所有地区和学校都有能力引入高级的AI技术。此外，AI技术的使用可能会引发数据隐私和学生权益等伦理问题。因此，在推广AI技术的同时，我们需要考虑如何公平分配教育资源，保护学生的数据隐私，并维护学生的权益。在教育资源分配方面，我们需要政策层面的支持，使不同地区和学校都能平等获取AI技术。对于数据隐私和学生权益的保护，我们需要在技术层面上加以保障，比如使用加密技术来保护学生的数据，并制定相应的使用规则，确保学生在使用AI学习平台时的权益得到保障。\\n\\n此外，AIGC技术的应用也可能带来其他问题。例如，如果AI系统基于学生的行为和学习成绩做出预测，可能会限制学生的发展空间。因为学生的成长是不确定的，他们有可能在某一时期发生巨大的变化，但如果AI系统给出的预测过于悲观，可能会影响到学生和教师的期望，限制学生的成长。\\n\\n总的来说，AIGC技术在教育领域提供了个性化教学，提升了教育质量，但它无法替代教师在价值引导和兴趣激发上的作用。\\n\\n我们应把AIGC技术视作教育改革的工具，而非全盘替代，强调人文关怀和人性化需求。\\n\\n未来，我期待看到\"AI+教师\"的模式，AI提供个性化内容，教师负责引导和激发，形成更全面的教育体系。\\n\\n最后，无论在哪个领域，教育工作者都是最美的人，他们以知识和热情点燃学生的梦想，塑造他们的未来。在挑战与机遇并存的时代，让我们为教育的未来共同努力。', metadata={'source': 1})]"
      ]
     },
     "execution_count": 6,
     "metadata": {},
     "output_type": "execute_result"
    }
   ],
   "source": [
    "docs"
   ]
  },
  {
   "cell_type": "code",
   "execution_count": null,
   "id": "af216c84-ace0-4dd9-82c0-86bcaa58823f",
   "metadata": {},
   "outputs": [],
   "source": []
  },
  {
   "cell_type": "code",
   "execution_count": 7,
   "id": "8c8eebe9-4fff-4262-a140-68901c151b36",
   "metadata": {
    "tags": []
   },
   "outputs": [],
   "source": [
    "from langchain.chains.question_answering import load_qa_chain\n",
    "from langchain.llms import ChatGLM\n",
    "from langchain.memory import ConversationBufferMemory\n",
    "from langchain.prompts import PromptTemplate"
   ]
  },
  {
   "cell_type": "code",
   "execution_count": null,
   "id": "c23da63b-c9f4-46fc-a30f-2f64fd7e2c03",
   "metadata": {},
   "outputs": [],
   "source": []
  },
  {
   "cell_type": "code",
   "execution_count": 8,
   "id": "6fc6267b-b6c6-4107-b32a-fd9879a4958a",
   "metadata": {
    "tags": []
   },
   "outputs": [],
   "source": [
    "template = \"\"\"您是一个正在与人类对话的聊天机器人.\n",
    "\n",
    "在给定的下文中，创建最终答案。\n",
    "\n",
    "{context}\n",
    "\n",
    "{chat_history}\n",
    "人类: {human_input}\n",
    "聊天机器人:\"\"\"\n",
    "\n",
    "prompt = PromptTemplate(\n",
    "    input_variables=[\"chat_history\", \"human_input\", \"context\"], template=template\n",
    ")"
   ]
  },
  {
   "cell_type": "code",
   "execution_count": 9,
   "id": "fcb01519-cb55-4a3b-92c5-eef65a023aa6",
   "metadata": {
    "tags": []
   },
   "outputs": [],
   "source": [
    "memory = ConversationBufferMemory(memory_key=\"chat_history\", input_key=\"human_input\")"
   ]
  },
  {
   "cell_type": "code",
   "execution_count": 10,
   "id": "dd6a9e8f-1fa3-4aea-a9d8-6de82ac764ef",
   "metadata": {
    "tags": []
   },
   "outputs": [],
   "source": [
    "chain = load_qa_chain(\n",
    "    ChatGLM(), chain_type=\"stuff\", memory=memory, prompt=prompt\n",
    ")"
   ]
  },
  {
   "cell_type": "markdown",
   "id": "3cecc433-26c6-4a0b-be77-f8a3da3cc31a",
   "metadata": {},
   "source": [
    "> <font color=blue>这是最终丢给LLM的prompt</font>"
   ]
  },
  {
   "cell_type": "code",
   "execution_count": 24,
   "id": "cdfd2083-797e-4b79-96aa-ac8197c0f508",
   "metadata": {
    "tags": []
   },
   "outputs": [
    {
     "data": {
      "text/plain": [
       "PromptTemplate(input_variables=['chat_history', 'context', 'human_input'], template='您是一个正在与人类对话的聊天机器人.\\n\\n在给定的下文中，创建最终答案。\\n\\n{context}\\n\\n{chat_history}\\n人类: {human_input}\\n聊天机器人:')"
      ]
     },
     "execution_count": 24,
     "metadata": {},
     "output_type": "execute_result"
    }
   ],
   "source": [
    "chain.llm_chain.prompt"
   ]
  },
  {
   "cell_type": "code",
   "execution_count": null,
   "id": "ce83e48b-a46e-44d8-a2ed-115b6c14081c",
   "metadata": {},
   "outputs": [],
   "source": [
    ">  那什么时候组装的呢?"
   ]
  },
  {
   "cell_type": "code",
   "execution_count": null,
   "id": "0fb46be3-f8ec-46a1-b726-bc0bdcfa0a4f",
   "metadata": {},
   "outputs": [],
   "source": []
  },
  {
   "cell_type": "code",
   "execution_count": null,
   "id": "4f6d509a-e196-460d-bae7-56f7f6c6eafd",
   "metadata": {},
   "outputs": [],
   "source": []
  },
  {
   "cell_type": "code",
   "execution_count": 11,
   "id": "3c8b1bf1-5872-43f0-9626-03fbd349df53",
   "metadata": {
    "tags": []
   },
   "outputs": [
    {
     "data": {
      "text/plain": [
       "{'input_documents': [Document(page_content='“教育是一个国家的未来，是一个民族的希望。”我相信，每一位阅读这篇文章的人，无论是在校学生，家长，还是教育工作者，都深知教育的重要性。\\n\\n然而，传统的教育模式面临着许多挑战：课堂内的教学模式单一，教师难以顾及每一位学生的个性化需求，学生的学习进度和成绩又受到诸多因素的影响。而这些问题，可能通过AIGC技术得到解决。AIGC，全称为人工智能生成内容，是现代AI技术的重要应用之一。\\n\\n那么，AIGC技术在教育领域有哪些应用？AIGC技术在教育领域的优缺点又是什么呢？在教育领域，AI是否能替代人类教师的角色？？AIGC教育领域的应用可能带来哪些伦理问题呢？这些问题，我将在接下来的文章中为大家一一解答。\\n\\n我们首先来看看AIGC技术在教育领域的应用。Quizlet联合OpenAI推出了名为Q-Chat的人工智能辅导工具，这个工具可以提供个性化的一对一辅导，通过聊天界面和针对性的问题，帮助学生学习各个学科。这不仅仅是一种新的学习方式，更是一种全新的学习体验。Q-Chat的出现，让我们看到了AI在教育领域的巨大潜力。\\n\\n同样，在语言学习领域，Duolingo也引入了OpenAI的GPT-4，开发了AI对话伙伴和解释答案两个新功能，以提升学习者在学习第二语言时的效率和兴趣。另外，非营利组织Khan Academy宣布将使用GPT-4推出AI助手Khanmigo，作为学生的虚拟导师和教师的课堂助手。\\n\\n那么，AIGC技术在教育领域应用有哪些优缺点呢？\\n\\n优点显而易见，首先，AIGC技术可以实现个性化学习，提供定制化的教学内容，提升学习效率。其次，AI助手可以提供全天候服务，打破时间和地点的限制，让学习更为灵活，学生可以随时随地进行学习。\\n\\n然而，任何事物的发展都有其两面性，缺点同样存在。例如，过度依赖AI可能会导致学生缺乏人际交流的机会，影响他们的社交能力。这不仅包括语言交流，还有面对面的情感交流、情绪理解和社会性行为。人类社会是一个复杂的系统，充满了微妙的情感和社会关系，这是AI暂时无法完全理解和模拟的。\\n\\n面对这种情况，我们要思考，AIGC技术是否能替代人类教师的角色？', metadata={'source': 0}),\n",
       "  Document(page_content='我认为，AIGC技术并不能完全替代人类教师。教师的角色不仅在于传递知识，他们的情感投入以及对学生个性和需求的理解是AI无法替代的。然而，AIGC技术可以成为教师的得力助手，比如，Khan Academy的AI助手Khanmigo，能够帮助教师编写课堂提示或创建教学材料，更好地满足每个学生的学习需求。\\n\\n当然，AIGC技术的应用也可能带来一些伦理问题。\\n\\n比如，AI技术在教育领域的应用可能会加剧教育资源的不平等，因为并非所有地区和学校都有能力引入高级的AI技术。此外，AI技术的使用可能会引发数据隐私和学生权益等伦理问题。因此，在推广AI技术的同时，我们需要考虑如何公平分配教育资源，保护学生的数据隐私，并维护学生的权益。在教育资源分配方面，我们需要政策层面的支持，使不同地区和学校都能平等获取AI技术。对于数据隐私和学生权益的保护，我们需要在技术层面上加以保障，比如使用加密技术来保护学生的数据，并制定相应的使用规则，确保学生在使用AI学习平台时的权益得到保障。\\n\\n此外，AIGC技术的应用也可能带来其他问题。例如，如果AI系统基于学生的行为和学习成绩做出预测，可能会限制学生的发展空间。因为学生的成长是不确定的，他们有可能在某一时期发生巨大的变化，但如果AI系统给出的预测过于悲观，可能会影响到学生和教师的期望，限制学生的成长。\\n\\n总的来说，AIGC技术在教育领域提供了个性化教学，提升了教育质量，但它无法替代教师在价值引导和兴趣激发上的作用。\\n\\n我们应把AIGC技术视作教育改革的工具，而非全盘替代，强调人文关怀和人性化需求。\\n\\n未来，我期待看到\"AI+教师\"的模式，AI提供个性化内容，教师负责引导和激发，形成更全面的教育体系。\\n\\n最后，无论在哪个领域，教育工作者都是最美的人，他们以知识和热情点燃学生的梦想，塑造他们的未来。在挑战与机遇并存的时代，让我们为教育的未来共同努力。', metadata={'source': 1})],\n",
       " 'human_input': 'AIGC能替代老师么',\n",
       " 'chat_history': '',\n",
       " 'output_text': 'AIGC技术在教育领域的应用可以提供个性化教学，但无法完全替代人类教师的角色。'}"
      ]
     },
     "execution_count": 11,
     "metadata": {},
     "output_type": "execute_result"
    }
   ],
   "source": [
    "chain({\"input_documents\": docs, \"human_input\": query})"
   ]
  },
  {
   "cell_type": "code",
   "execution_count": null,
   "id": "9405e26d-ce86-40c1-b573-4b998729aa8e",
   "metadata": {},
   "outputs": [],
   "source": []
  },
  {
   "cell_type": "code",
   "execution_count": null,
   "id": "a8363846-3dac-4b38-9c6e-6f9ceda5dee6",
   "metadata": {},
   "outputs": [],
   "source": []
  },
  {
   "cell_type": "code",
   "execution_count": null,
   "id": "6289eade-de0d-4d9e-8dfe-e3c633bff01c",
   "metadata": {},
   "outputs": [],
   "source": []
  },
  {
   "cell_type": "code",
   "execution_count": null,
   "id": "32a15cf9-414f-4315-bf38-4be6f001ef6c",
   "metadata": {},
   "outputs": [],
   "source": []
  },
  {
   "cell_type": "code",
   "execution_count": 12,
   "id": "b33e9e6a-cdcb-4dd7-8bc9-7c92f6d31891",
   "metadata": {
    "tags": []
   },
   "outputs": [
    {
     "data": {
      "text/plain": [
       "'Human: AIGC能替代老师么\\nAI: AIGC技术在教育领域的应用可以提供个性化教学，但无法完全替代人类教师的角色。'"
      ]
     },
     "execution_count": 12,
     "metadata": {},
     "output_type": "execute_result"
    }
   ],
   "source": [
    "chain.memory.buffer"
   ]
  },
  {
   "cell_type": "code",
   "execution_count": null,
   "id": "d5079cd9-79b3-46ad-8a16-1d5694f26733",
   "metadata": {},
   "outputs": [],
   "source": []
  },
  {
   "cell_type": "code",
   "execution_count": null,
   "id": "23067d18-e862-4c44-83b4-20ded2989afe",
   "metadata": {},
   "outputs": [],
   "source": []
  },
  {
   "cell_type": "code",
   "execution_count": 13,
   "id": "8eba173b-fcac-4526-a980-c98b108cd41d",
   "metadata": {
    "tags": []
   },
   "outputs": [
    {
     "data": {
      "text/plain": [
       "{'input_documents': [Document(page_content='“教育是一个国家的未来，是一个民族的希望。”我相信，每一位阅读这篇文章的人，无论是在校学生，家长，还是教育工作者，都深知教育的重要性。\\n\\n然而，传统的教育模式面临着许多挑战：课堂内的教学模式单一，教师难以顾及每一位学生的个性化需求，学生的学习进度和成绩又受到诸多因素的影响。而这些问题，可能通过AIGC技术得到解决。AIGC，全称为人工智能生成内容，是现代AI技术的重要应用之一。\\n\\n那么，AIGC技术在教育领域有哪些应用？AIGC技术在教育领域的优缺点又是什么呢？在教育领域，AI是否能替代人类教师的角色？？AIGC教育领域的应用可能带来哪些伦理问题呢？这些问题，我将在接下来的文章中为大家一一解答。\\n\\n我们首先来看看AIGC技术在教育领域的应用。Quizlet联合OpenAI推出了名为Q-Chat的人工智能辅导工具，这个工具可以提供个性化的一对一辅导，通过聊天界面和针对性的问题，帮助学生学习各个学科。这不仅仅是一种新的学习方式，更是一种全新的学习体验。Q-Chat的出现，让我们看到了AI在教育领域的巨大潜力。\\n\\n同样，在语言学习领域，Duolingo也引入了OpenAI的GPT-4，开发了AI对话伙伴和解释答案两个新功能，以提升学习者在学习第二语言时的效率和兴趣。另外，非营利组织Khan Academy宣布将使用GPT-4推出AI助手Khanmigo，作为学生的虚拟导师和教师的课堂助手。\\n\\n那么，AIGC技术在教育领域应用有哪些优缺点呢？\\n\\n优点显而易见，首先，AIGC技术可以实现个性化学习，提供定制化的教学内容，提升学习效率。其次，AI助手可以提供全天候服务，打破时间和地点的限制，让学习更为灵活，学生可以随时随地进行学习。\\n\\n然而，任何事物的发展都有其两面性，缺点同样存在。例如，过度依赖AI可能会导致学生缺乏人际交流的机会，影响他们的社交能力。这不仅包括语言交流，还有面对面的情感交流、情绪理解和社会性行为。人类社会是一个复杂的系统，充满了微妙的情感和社会关系，这是AI暂时无法完全理解和模拟的。\\n\\n面对这种情况，我们要思考，AIGC技术是否能替代人类教师的角色？', metadata={'source': 0}),\n",
       "  Document(page_content='我认为，AIGC技术并不能完全替代人类教师。教师的角色不仅在于传递知识，他们的情感投入以及对学生个性和需求的理解是AI无法替代的。然而，AIGC技术可以成为教师的得力助手，比如，Khan Academy的AI助手Khanmigo，能够帮助教师编写课堂提示或创建教学材料，更好地满足每个学生的学习需求。\\n\\n当然，AIGC技术的应用也可能带来一些伦理问题。\\n\\n比如，AI技术在教育领域的应用可能会加剧教育资源的不平等，因为并非所有地区和学校都有能力引入高级的AI技术。此外，AI技术的使用可能会引发数据隐私和学生权益等伦理问题。因此，在推广AI技术的同时，我们需要考虑如何公平分配教育资源，保护学生的数据隐私，并维护学生的权益。在教育资源分配方面，我们需要政策层面的支持，使不同地区和学校都能平等获取AI技术。对于数据隐私和学生权益的保护，我们需要在技术层面上加以保障，比如使用加密技术来保护学生的数据，并制定相应的使用规则，确保学生在使用AI学习平台时的权益得到保障。\\n\\n此外，AIGC技术的应用也可能带来其他问题。例如，如果AI系统基于学生的行为和学习成绩做出预测，可能会限制学生的发展空间。因为学生的成长是不确定的，他们有可能在某一时期发生巨大的变化，但如果AI系统给出的预测过于悲观，可能会影响到学生和教师的期望，限制学生的成长。\\n\\n总的来说，AIGC技术在教育领域提供了个性化教学，提升了教育质量，但它无法替代教师在价值引导和兴趣激发上的作用。\\n\\n我们应把AIGC技术视作教育改革的工具，而非全盘替代，强调人文关怀和人性化需求。\\n\\n未来，我期待看到\"AI+教师\"的模式，AI提供个性化内容，教师负责引导和激发，形成更全面的教育体系。\\n\\n最后，无论在哪个领域，教育工作者都是最美的人，他们以知识和热情点燃学生的梦想，塑造他们的未来。在挑战与机遇并存的时代，让我们为教育的未来共同努力。', metadata={'source': 1})],\n",
       " 'human_input': '老师的优势表现在哪些地方',\n",
       " 'chat_history': 'Human: AIGC能替代老师么\\nAI: AIGC技术在教育领域的应用可以提供个性化教学，但无法完全替代人类教师的角色。',\n",
       " 'output_text': '优点包括：\\n1. 个性化教学：AIGC技术可以提供定制化的教学内容，帮助学生学习各个学科。\\n2. 提高学习效率：AIGC技术可以实现个性化学习，提供针对性的教学内容，提高学习效率。\\n3. 打破时间和地点的限制：AIGC技术可以提供全天候服务，打破时间和地点的限制，让学习更为灵活。\\n4. 减轻教师负担：AIGC技术可以提供一些辅助教学功能，如编写课堂提示、创建教学材料等，减轻教师负担。\\n\\n缺点包括：\\n1. 缺乏人际交流的机会：AIGC技术可以提供聊天界面，但无法提供面对面的交流机会，可能会影响学生的社交能力。\\n2. 社交能力不足：AIGC技术无法提供面对面的情感交流和社会性行为，可能会影响学生的社交能力。\\n3. 无法完全理解和模拟情感和社会关系：AIGC技术无法完全理解和模拟情感和社会关系，无法代替人类教师的角色。\\n\\nAIGC技术在教育领域的应用可以提供一些优势，如个性化教学、提高学习效率等，但无法完全替代人类教师的角色。教师在教育领域具有独特的优势，如情感交流、价值引导和兴趣激发等。因此，AIGC技术和人类教师应该相辅相成，形成更全面的教育体系。'}"
      ]
     },
     "execution_count": 13,
     "metadata": {},
     "output_type": "execute_result"
    }
   ],
   "source": [
    "chain({\"input_documents\": docs, \"human_input\": \"老师的优势表现在哪些地方\"})"
   ]
  },
  {
   "cell_type": "code",
   "execution_count": 15,
   "id": "9d277ef6-6961-4c11-9b1b-787075240e49",
   "metadata": {
    "tags": []
   },
   "outputs": [
    {
     "name": "stdout",
     "output_type": "stream",
     "text": [
      "Human: AIGC能替代老师么\n",
      "AI: AIGC技术在教育领域的应用可以提供个性化教学，但无法完全替代人类教师的角色。\n",
      "Human: 老师的优势表现在哪些地方\n",
      "AI: 优点包括：\n",
      "1. 个性化教学：AIGC技术可以提供定制化的教学内容，帮助学生学习各个学科。\n",
      "2. 提高学习效率：AIGC技术可以实现个性化学习，提供针对性的教学内容，提高学习效率。\n",
      "3. 打破时间和地点的限制：AIGC技术可以提供全天候服务，打破时间和地点的限制，让学习更为灵活。\n",
      "4. 减轻教师负担：AIGC技术可以提供一些辅助教学功能，如编写课堂提示、创建教学材料等，减轻教师负担。\n",
      "\n",
      "缺点包括：\n",
      "1. 缺乏人际交流的机会：AIGC技术可以提供聊天界面，但无法提供面对面的交流机会，可能会影响学生的社交能力。\n",
      "2. 社交能力不足：AIGC技术无法提供面对面的情感交流和社会性行为，可能会影响学生的社交能力。\n",
      "3. 无法完全理解和模拟情感和社会关系：AIGC技术无法完全理解和模拟情感和社会关系，无法代替人类教师的角色。\n",
      "\n",
      "AIGC技术在教育领域的应用可以提供一些优势，如个性化教学、提高学习效率等，但无法完全替代人类教师的角色。教师在教育领域具有独特的优势，如情感交流、价值引导和兴趣激发等。因此，AIGC技术和人类教师应该相辅相成，形成更全面的教育体系。\n"
     ]
    }
   ],
   "source": [
    "print(chain.memory.buffer)"
   ]
  },
  {
   "cell_type": "code",
   "execution_count": null,
   "id": "244e099e-d121-467e-8dc5-b641b472725d",
   "metadata": {},
   "outputs": [],
   "source": []
  },
  {
   "cell_type": "code",
   "execution_count": 16,
   "id": "907d49a6-085a-47bb-bf0d-ffc699e3bf57",
   "metadata": {
    "tags": []
   },
   "outputs": [
    {
     "data": {
      "text/plain": [
       "ConversationBufferMemory(chat_memory=ChatMessageHistory(messages=[HumanMessage(content='AIGC能替代老师么'), AIMessage(content='AIGC技术在教育领域的应用可以提供个性化教学，但无法完全替代人类教师的角色。'), HumanMessage(content='老师的优势表现在哪些地方'), AIMessage(content='优点包括：\\n1. 个性化教学：AIGC技术可以提供定制化的教学内容，帮助学生学习各个学科。\\n2. 提高学习效率：AIGC技术可以实现个性化学习，提供针对性的教学内容，提高学习效率。\\n3. 打破时间和地点的限制：AIGC技术可以提供全天候服务，打破时间和地点的限制，让学习更为灵活。\\n4. 减轻教师负担：AIGC技术可以提供一些辅助教学功能，如编写课堂提示、创建教学材料等，减轻教师负担。\\n\\n缺点包括：\\n1. 缺乏人际交流的机会：AIGC技术可以提供聊天界面，但无法提供面对面的交流机会，可能会影响学生的社交能力。\\n2. 社交能力不足：AIGC技术无法提供面对面的情感交流和社会性行为，可能会影响学生的社交能力。\\n3. 无法完全理解和模拟情感和社会关系：AIGC技术无法完全理解和模拟情感和社会关系，无法代替人类教师的角色。\\n\\nAIGC技术在教育领域的应用可以提供一些优势，如个性化教学、提高学习效率等，但无法完全替代人类教师的角色。教师在教育领域具有独特的优势，如情感交流、价值引导和兴趣激发等。因此，AIGC技术和人类教师应该相辅相成，形成更全面的教育体系。')]), input_key='human_input', memory_key='chat_history')"
      ]
     },
     "execution_count": 16,
     "metadata": {},
     "output_type": "execute_result"
    }
   ],
   "source": [
    "chain.memory"
   ]
  },
  {
   "cell_type": "code",
   "execution_count": 19,
   "id": "d4f1990f-c3f2-472f-8bc1-f6e8366cf4e7",
   "metadata": {
    "tags": []
   },
   "outputs": [
    {
     "name": "stdout",
     "output_type": "stream",
     "text": [
      "[HumanMessage(content='AIGC能替代老师么'), AIMessage(content='AIGC技术在教育领域的应用可以提供个性化教学，但无法完全替代人类教师的角色。'), HumanMessage(content='老师的优势表现在哪些地方'), AIMessage(content='优点包括：\\n1. 个性化教学：AIGC技术可以提供定制化的教学内容，帮助学生学习各个学科。\\n2. 提高学习效率：AIGC技术可以实现个性化学习，提供针对性的教学内容，提高学习效率。\\n3. 打破时间和地点的限制：AIGC技术可以提供全天候服务，打破时间和地点的限制，让学习更为灵活。\\n4. 减轻教师负担：AIGC技术可以提供一些辅助教学功能，如编写课堂提示、创建教学材料等，减轻教师负担。\\n\\n缺点包括：\\n1. 缺乏人际交流的机会：AIGC技术可以提供聊天界面，但无法提供面对面的交流机会，可能会影响学生的社交能力。\\n2. 社交能力不足：AIGC技术无法提供面对面的情感交流和社会性行为，可能会影响学生的社交能力。\\n3. 无法完全理解和模拟情感和社会关系：AIGC技术无法完全理解和模拟情感和社会关系，无法代替人类教师的角色。\\n\\nAIGC技术在教育领域的应用可以提供一些优势，如个性化教学、提高学习效率等，但无法完全替代人类教师的角色。教师在教育领域具有独特的优势，如情感交流、价值引导和兴趣激发等。因此，AIGC技术和人类教师应该相辅相成，形成更全面的教育体系。')]\n"
     ]
    }
   ],
   "source": [
    "print(chain.memory.buffer_as_messages)"
   ]
  },
  {
   "cell_type": "code",
   "execution_count": null,
   "id": "fd7ab837-9b77-4d85-a4cb-66c5e6edb4ac",
   "metadata": {},
   "outputs": [],
   "source": []
  },
  {
   "cell_type": "code",
   "execution_count": null,
   "id": "8edb458a-2003-430c-bb55-a3941b173d92",
   "metadata": {},
   "outputs": [],
   "source": []
  },
  {
   "cell_type": "code",
   "execution_count": null,
   "id": "256690b6-2b4b-4846-9b71-cea77d66405e",
   "metadata": {},
   "outputs": [],
   "source": []
  },
  {
   "cell_type": "code",
   "execution_count": null,
   "id": "5b7ca78a-c23a-4479-8fc8-e27c37dda091",
   "metadata": {},
   "outputs": [],
   "source": []
  },
  {
   "cell_type": "code",
   "execution_count": null,
   "id": "7cb19ab2-31f1-41d5-8057-1f7b00634bd6",
   "metadata": {},
   "outputs": [],
   "source": []
  }
 ],
 "metadata": {
  "kernelspec": {
   "display_name": "chatglm26b",
   "language": "python",
   "name": "chatglm26b"
  },
  "language_info": {
   "codemirror_mode": {
    "name": "ipython",
    "version": 3
   },
   "file_extension": ".py",
   "mimetype": "text/x-python",
   "name": "python",
   "nbconvert_exporter": "python",
   "pygments_lexer": "ipython3",
   "version": "3.9.6"
  }
 },
 "nbformat": 4,
 "nbformat_minor": 5
}
