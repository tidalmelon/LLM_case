{
 "cells": [
  {
   "cell_type": "code",
   "execution_count": null,
   "id": "f949950f-74ec-4694-9be4-4edc1c1c389e",
   "metadata": {},
   "outputs": [],
   "source": []
  },
  {
   "cell_type": "code",
   "execution_count": null,
   "id": "e2e5c0e6-131b-4a8a-a891-5231175ae4f8",
   "metadata": {},
   "outputs": [],
   "source": []
  },
  {
   "cell_type": "markdown",
   "id": "a0235702-ee83-4a12-88e8-4938b686551f",
   "metadata": {},
   "source": [
    "### format_document case"
   ]
  },
  {
   "cell_type": "code",
   "execution_count": 1,
   "id": "3e20153c-b885-4040-ae38-eaed9393a1bd",
   "metadata": {
    "tags": []
   },
   "outputs": [],
   "source": [
    "from langchain.schema import Document\n",
    "from langchain.prompts import PromptTemplate\n",
    "\n",
    "from langchain.schema.prompt_template import format_document"
   ]
  },
  {
   "cell_type": "code",
   "execution_count": null,
   "id": "082f9abe-f04d-4564-a0fd-9890e7cce452",
   "metadata": {},
   "outputs": [],
   "source": []
  },
  {
   "cell_type": "code",
   "execution_count": 2,
   "id": "7f4bcd6f-0dbf-4ecb-aaeb-f350ef22a016",
   "metadata": {
    "tags": []
   },
   "outputs": [],
   "source": [
    "doc = Document(page_content=\"This is a joke\", metadata={\"page\": \"1\"})"
   ]
  },
  {
   "cell_type": "code",
   "execution_count": 3,
   "id": "bb8f7946-2893-469a-9b5a-4be86e8f48fa",
   "metadata": {
    "tags": []
   },
   "outputs": [
    {
     "data": {
      "text/plain": [
       "Document(page_content='This is a joke', metadata={'page': '1'})"
      ]
     },
     "execution_count": 3,
     "metadata": {},
     "output_type": "execute_result"
    }
   ],
   "source": [
    "doc"
   ]
  },
  {
   "cell_type": "code",
   "execution_count": 4,
   "id": "b46ffcfc-ff66-4eb4-bb1e-0f636b9f7d47",
   "metadata": {
    "tags": []
   },
   "outputs": [],
   "source": [
    "prompt = PromptTemplate.from_template(\"Page {page}: {page_content}\")"
   ]
  },
  {
   "cell_type": "code",
   "execution_count": 5,
   "id": "6c5461e5-d2a9-4000-a592-43b4a98589bf",
   "metadata": {
    "tags": []
   },
   "outputs": [
    {
     "data": {
      "text/plain": [
       "'Page 1: This is a joke'"
      ]
     },
     "execution_count": 5,
     "metadata": {},
     "output_type": "execute_result"
    }
   ],
   "source": [
    "format_document(doc, prompt)"
   ]
  },
  {
   "cell_type": "markdown",
   "id": "0b02d2b7-a1d9-4bdf-a23f-133a9517e7a7",
   "metadata": {},
   "source": [
    "> format_document 使用了metadata中的key 与 Document 本身的key"
   ]
  },
  {
   "cell_type": "markdown",
   "id": "6b5a7c43-5862-44d4-bfe7-b77355ef3bd5",
   "metadata": {},
   "source": [
    "### 源码分析"
   ]
  },
  {
   "cell_type": "code",
   "execution_count": null,
   "id": "2aa96a83-b300-4ce5-b5db-07c193a38ea2",
   "metadata": {},
   "outputs": [],
   "source": [
    "def format_document(doc: Document, prompt: BasePromptTemplate) -> str:\n",
    "    \"\"\"Format a document into a string based on a prompt template.\n",
    "    Args:\n",
    "        doc: Document, the page_content and metadata will be used to create\n",
    "            the final string.\n",
    "        prompt: BasePromptTemplate, will be used to format the page_content\n",
    "            and metadata into the final string.\n",
    "    \n",
    "    Returns:\n",
    "        string of the document formatted.\n",
    "    \n",
    "    \"\"\"\n",
    "    base_info = {\"page_content\": doc.page_content, **doc.metadata}\n",
    "    missing_metadata = set(prompt.input_variables).difference(base_info)\n",
    "    if len(missing_metadata) > 0:\n",
    "        required_metadata = [\n",
    "            iv for iv in prompt.input_variables if iv != \"page_content\"\n",
    "        ]\n",
    "        raise ValueError(\n",
    "            f\"Document prompt requires documents to have metadata variables: \"\n",
    "            f\"{required_metadata}. Received document with missing metadata: \"\n",
    "            f\"{list(missing_metadata)}.\"\n",
    "        )\n",
    "    document_info = {k: base_info[k] for k in prompt.input_variables}\n",
    "    return prompt.format(**document_info)"
   ]
  },
  {
   "cell_type": "markdown",
   "id": "8f57ed9e-91fd-4bf0-9d34-8ea4476c76f8",
   "metadata": {},
   "source": [
    "> 1. 组合page_content 与 metadata"
   ]
  },
  {
   "cell_type": "code",
   "execution_count": 6,
   "id": "f0f2055c-0931-4261-8443-d09ede5bb640",
   "metadata": {
    "tags": []
   },
   "outputs": [
    {
     "data": {
      "text/plain": [
       "{'page_content': 'This is a joke', 'page': '1'}"
      ]
     },
     "execution_count": 6,
     "metadata": {},
     "output_type": "execute_result"
    }
   ],
   "source": [
    "base_info = {\"page_content\": doc.page_content, **doc.metadata}\n",
    "base_info"
   ]
  },
  {
   "cell_type": "markdown",
   "id": "d0ec747c-6278-48ca-b881-bb004011a5c1",
   "metadata": {},
   "source": [
    "> 2. 检查差值"
   ]
  },
  {
   "cell_type": "code",
   "execution_count": 7,
   "id": "4faeff97-f1ab-48eb-b0e9-ccb8e421c9c1",
   "metadata": {
    "tags": []
   },
   "outputs": [
    {
     "data": {
      "text/plain": [
       "set()"
      ]
     },
     "execution_count": 7,
     "metadata": {},
     "output_type": "execute_result"
    }
   ],
   "source": [
    "missing_metadata = set(prompt.input_variables).difference(base_info)\n",
    "missing_metadata"
   ]
  },
  {
   "cell_type": "markdown",
   "id": "8a0462aa-0194-498e-8088-42c6823dfbf9",
   "metadata": {},
   "source": [
    "> 3. 如果无差值, 不缺少参数,则调用`BasePromptTemplate.format`格式化参数,生成 prompt 字符串"
   ]
  },
  {
   "cell_type": "code",
   "execution_count": 8,
   "id": "a96bf0ec-c0c9-46d4-99d5-52b6c4571e6a",
   "metadata": {
    "tags": []
   },
   "outputs": [
    {
     "data": {
      "text/plain": [
       "{'page': '1', 'page_content': 'This is a joke'}"
      ]
     },
     "execution_count": 8,
     "metadata": {},
     "output_type": "execute_result"
    }
   ],
   "source": [
    "document_info = {k: base_info[k] for k in prompt.input_variables}\n",
    "document_info"
   ]
  },
  {
   "cell_type": "code",
   "execution_count": null,
   "id": "44ae34b7-15bd-41e1-ad62-609291bce25f",
   "metadata": {},
   "outputs": [],
   "source": []
  },
  {
   "cell_type": "code",
   "execution_count": 9,
   "id": "0bbdb8cb-b39b-495a-ad61-54f3d955c0a0",
   "metadata": {
    "tags": []
   },
   "outputs": [
    {
     "data": {
      "text/plain": [
       "'Page 1: This is a joke'"
      ]
     },
     "execution_count": 9,
     "metadata": {},
     "output_type": "execute_result"
    }
   ],
   "source": [
    "prompt.format(**document_info)"
   ]
  },
  {
   "cell_type": "code",
   "execution_count": null,
   "id": "fb7bad47-e23c-4b20-9e06-37087b46620d",
   "metadata": {},
   "outputs": [],
   "source": []
  },
  {
   "cell_type": "code",
   "execution_count": null,
   "id": "44a2619b-0bd0-4868-9b9e-4e523011daf2",
   "metadata": {},
   "outputs": [],
   "source": []
  },
  {
   "cell_type": "code",
   "execution_count": 11,
   "id": "a6187db3-37b5-49e4-8a83-3009460184ca",
   "metadata": {
    "tags": []
   },
   "outputs": [
    {
     "data": {
      "text/plain": [
       "['page', 'page_content']"
      ]
     },
     "execution_count": 11,
     "metadata": {},
     "output_type": "execute_result"
    }
   ],
   "source": [
    "prompt.input_variables"
   ]
  },
  {
   "cell_type": "code",
   "execution_count": null,
   "id": "5ab98f7a-1874-4098-b5ed-febd8ff90a43",
   "metadata": {},
   "outputs": [],
   "source": []
  },
  {
   "cell_type": "code",
   "execution_count": null,
   "id": "c7306d1c-6d71-441b-abaa-da2a17768666",
   "metadata": {},
   "outputs": [],
   "source": []
  },
  {
   "cell_type": "code",
   "execution_count": null,
   "id": "7b53d3f3-e383-4e9b-8e54-7aafbe88e74c",
   "metadata": {},
   "outputs": [],
   "source": []
  },
  {
   "cell_type": "code",
   "execution_count": null,
   "id": "6c5cd650-8fb1-4d4e-8153-95f27f733b98",
   "metadata": {},
   "outputs": [],
   "source": []
  },
  {
   "cell_type": "code",
   "execution_count": null,
   "id": "468f2891-6df4-44c9-bf39-a590642cae20",
   "metadata": {},
   "outputs": [],
   "source": []
  },
  {
   "cell_type": "code",
   "execution_count": null,
   "id": "7d640c0a-aed4-419e-9f26-6bb01be345c4",
   "metadata": {},
   "outputs": [],
   "source": []
  },
  {
   "cell_type": "code",
   "execution_count": null,
   "id": "678ac045-d78f-47fa-b933-825499b398f4",
   "metadata": {},
   "outputs": [],
   "source": []
  },
  {
   "cell_type": "code",
   "execution_count": null,
   "id": "208ba6b7-2d99-4330-89a7-aa26754e93cc",
   "metadata": {},
   "outputs": [],
   "source": []
  },
  {
   "cell_type": "code",
   "execution_count": null,
   "id": "6be47736-def4-4b50-8acd-b5b3515ddd60",
   "metadata": {},
   "outputs": [],
   "source": []
  },
  {
   "cell_type": "code",
   "execution_count": null,
   "id": "b01293df-57ae-46f5-83a1-411b2d5fbefb",
   "metadata": {},
   "outputs": [],
   "source": []
  },
  {
   "cell_type": "code",
   "execution_count": null,
   "id": "1f36fe26-64b2-467d-aa98-587cbf8e8fca",
   "metadata": {},
   "outputs": [],
   "source": []
  },
  {
   "cell_type": "code",
   "execution_count": null,
   "id": "de4010c8-4bc7-4671-be42-d0eb088750a8",
   "metadata": {},
   "outputs": [],
   "source": []
  },
  {
   "cell_type": "code",
   "execution_count": null,
   "id": "b8c03aa4-a559-4090-aaba-113530deed19",
   "metadata": {},
   "outputs": [],
   "source": []
  }
 ],
 "metadata": {
  "environment": {
   "kernel": "conda-env-preventloss-py",
   "name": "pytorch-gpu.1-13.m105",
   "type": "gcloud",
   "uri": "gcr.io/deeplearning-platform-release/pytorch-gpu.1-13:m105"
  },
  "kernelspec": {
   "display_name": "chatglm26b",
   "language": "python",
   "name": "chatglm26b"
  },
  "language_info": {
   "codemirror_mode": {
    "name": "ipython",
    "version": 3
   },
   "file_extension": ".py",
   "mimetype": "text/x-python",
   "name": "python",
   "nbconvert_exporter": "python",
   "pygments_lexer": "ipython3",
   "version": "3.9.6"
  }
 },
 "nbformat": 4,
 "nbformat_minor": 5
}
