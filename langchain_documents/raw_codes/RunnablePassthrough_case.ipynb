{
 "cells": [
  {
   "cell_type": "code",
   "execution_count": null,
   "id": "1ed314e8-0e1a-49f4-b815-d64f30e260d5",
   "metadata": {},
   "outputs": [],
   "source": []
  },
  {
   "cell_type": "markdown",
   "id": "34da8e0c-41bb-447a-896d-46f540395dce",
   "metadata": {},
   "source": [
    "[RunnablePassthrough](https://api.python.langchain.com/en/latest/schema.runnable/langchain.schema.runnable.passthrough.RunnablePassthrough.html)"
   ]
  },
  {
   "cell_type": "code",
   "execution_count": null,
   "id": "2cfa1eb2-0b7a-4998-a7ec-caab236d75ef",
   "metadata": {},
   "outputs": [],
   "source": []
  },
  {
   "cell_type": "markdown",
   "id": "345bba19-a4b6-46b6-8bbf-2a7fa9dab3e5",
   "metadata": {},
   "source": [
    "> A runnable to passthrough inputs unchanged or with additional keys.<br>\n",
    "> 直接透传,或者加个额外的key\n",
    "\n",
    "> This runnable behaves almost like the identity function, except that it can be configured to add additional keys to the output, if the input is a dict.<br>\n",
    ">  此接口几乎像  恒等于. 只有在输入是一个字典的手才会加一个额外的key"
   ]
  },
  {
   "cell_type": "code",
   "execution_count": null,
   "id": "2a9e5013-fa3e-458c-ae6a-1d1fe9acd4ae",
   "metadata": {},
   "outputs": [],
   "source": []
  },
  {
   "cell_type": "code",
   "execution_count": 1,
   "id": "00c7e321-573a-416c-9ebd-0b83f77c3067",
   "metadata": {
    "tags": []
   },
   "outputs": [],
   "source": [
    "from langchain.schema.runnable import RunnablePassthrough, RunnableParallel"
   ]
  },
  {
   "cell_type": "code",
   "execution_count": null,
   "id": "d5c113df-7f03-4a8f-a1eb-d260d06ff39a",
   "metadata": {},
   "outputs": [],
   "source": []
  },
  {
   "cell_type": "code",
   "execution_count": 2,
   "id": "f46ef1c4-90e5-4a75-9f00-832cdcad1fbb",
   "metadata": {
    "tags": []
   },
   "outputs": [],
   "source": [
    "runnable = RunnableParallel(origin=RunnablePassthrough(), modified=lambda x: x+1)"
   ]
  },
  {
   "cell_type": "code",
   "execution_count": 3,
   "id": "440697c2-cee4-46b7-be27-73c1dba9852d",
   "metadata": {
    "tags": []
   },
   "outputs": [
    {
     "data": {
      "text/plain": [
       "{'origin': 1, 'modified': 2}"
      ]
     },
     "execution_count": 3,
     "metadata": {},
     "output_type": "execute_result"
    }
   ],
   "source": [
    "runnable.invoke(1)"
   ]
  },
  {
   "cell_type": "code",
   "execution_count": null,
   "id": "dc91da57-bee2-4677-be58-e8f58b9b3247",
   "metadata": {},
   "outputs": [],
   "source": []
  },
  {
   "cell_type": "markdown",
   "id": "851b905f-fc84-464c-8525-437f2faea4f2",
   "metadata": {},
   "source": [
    "### 字典形式"
   ]
  },
  {
   "cell_type": "code",
   "execution_count": 4,
   "id": "e9e9b05e-b96d-4308-a5c1-59aed5e3a81f",
   "metadata": {
    "tags": []
   },
   "outputs": [],
   "source": [
    "from langchain.prompts import PromptTemplate"
   ]
  },
  {
   "cell_type": "code",
   "execution_count": 5,
   "id": "a51d922d-38e1-4a2f-9880-b8d51200ac30",
   "metadata": {
    "tags": []
   },
   "outputs": [],
   "source": [
    "prompt = PromptTemplate.from_template(\"{origin},,,,,{modified}\")"
   ]
  },
  {
   "cell_type": "code",
   "execution_count": 6,
   "id": "ecd2d68c-9aed-4813-9b3d-0323ea7422b7",
   "metadata": {
    "tags": []
   },
   "outputs": [],
   "source": [
    "chain = {'origin': RunnablePassthrough(), 'modified': lambda x: x+1} | prompt"
   ]
  },
  {
   "cell_type": "code",
   "execution_count": 7,
   "id": "dc17a989-05f1-4e7e-9f82-d4590bfaf334",
   "metadata": {
    "tags": []
   },
   "outputs": [
    {
     "data": {
      "text/plain": [
       "StringPromptValue(text='1,,,,,2')"
      ]
     },
     "execution_count": 7,
     "metadata": {},
     "output_type": "execute_result"
    }
   ],
   "source": [
    "chain.invoke(1)"
   ]
  },
  {
   "cell_type": "code",
   "execution_count": null,
   "id": "cdc75313-08ee-4f82-a602-22054c3e6a1b",
   "metadata": {},
   "outputs": [],
   "source": []
  },
  {
   "cell_type": "markdown",
   "id": "e213b445-4989-4517-907a-7136a67c1907",
   "metadata": {},
   "source": [
    "### 函数形式"
   ]
  },
  {
   "cell_type": "code",
   "execution_count": 8,
   "id": "4d9c24dd-8f04-4207-8212-7db9a298146a",
   "metadata": {
    "tags": []
   },
   "outputs": [],
   "source": [
    "chain2 = runnable | prompt"
   ]
  },
  {
   "cell_type": "code",
   "execution_count": 9,
   "id": "a12b46ee-2d82-4c15-8ec3-66d63d8c3e96",
   "metadata": {
    "tags": []
   },
   "outputs": [
    {
     "data": {
      "text/plain": [
       "StringPromptValue(text='1,,,,,2')"
      ]
     },
     "execution_count": 9,
     "metadata": {},
     "output_type": "execute_result"
    }
   ],
   "source": [
    "chain2.invoke(1)"
   ]
  },
  {
   "cell_type": "markdown",
   "id": "8474aa5f-2a8c-4675-9581-8e8f36c0955f",
   "metadata": {},
   "source": [
    "### 结论"
   ]
  },
  {
   "cell_type": "markdown",
   "id": "a38fab26-1b54-43dd-b6cd-1dd7d0cbe19c",
   "metadata": {},
   "source": [
    "> 这种字典形式的输入,应该只能是输入, 既只能出现在LCEL表达式开始的地方"
   ]
  },
  {
   "cell_type": "code",
   "execution_count": null,
   "id": "451d9fc4-98eb-4ec8-9bd3-2a2d100e59c7",
   "metadata": {},
   "outputs": [],
   "source": []
  }
 ],
 "metadata": {
  "environment": {
   "kernel": "conda-env-preventloss-py",
   "name": "pytorch-gpu.1-13.m105",
   "type": "gcloud",
   "uri": "gcr.io/deeplearning-platform-release/pytorch-gpu.1-13:m105"
  },
  "kernelspec": {
   "display_name": "chatglm26b",
   "language": "python",
   "name": "chatglm26b"
  },
  "language_info": {
   "codemirror_mode": {
    "name": "ipython",
    "version": 3
   },
   "file_extension": ".py",
   "mimetype": "text/x-python",
   "name": "python",
   "nbconvert_exporter": "python",
   "pygments_lexer": "ipython3",
   "version": "3.9.6"
  }
 },
 "nbformat": 4,
 "nbformat_minor": 5
}
