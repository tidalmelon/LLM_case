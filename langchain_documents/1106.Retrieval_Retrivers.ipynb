{
 "cells": [
  {
   "cell_type": "code",
   "execution_count": null,
   "id": "1440f6c9-1055-406a-b5d2-dbbff33d1c33",
   "metadata": {},
   "outputs": [],
   "source": []
  },
  {
   "cell_type": "markdown",
   "id": "0aaf337d-d782-4d2e-9965-58fc5c1c197f",
   "metadata": {},
   "source": [
    "# Retrivers"
   ]
  },
  {
   "cell_type": "markdown",
   "id": "9ea11b13-d423-47fe-9490-a627adee06ce",
   "metadata": {},
   "source": [
    "> Retrievers implement the Runnable interface(LCEL): `invoke`, `ainvoke`, `stream`, `astream`, `batch`, `abatch`, `astream_log` <br>\n",
    "> Retrievers accept a string <font color=blue>query as input</font> and return a list of `Document's` as output."
   ]
  },
  {
   "cell_type": "code",
   "execution_count": null,
   "id": "0671a4fb-7f95-4371-a626-514c57bb3ecc",
   "metadata": {},
   "outputs": [],
   "source": []
  },
  {
   "cell_type": "code",
   "execution_count": 2,
   "id": "794976ab-982f-46cb-9820-0aaf1065653f",
   "metadata": {
    "tags": []
   },
   "outputs": [],
   "source": [
    "from langchain.embeddings import OpenAIEmbeddings\n",
    "from langchain.text_splitter import CharacterTextSplitter\n",
    "from langchain.vectorstores import FAISS"
   ]
  },
  {
   "cell_type": "code",
   "execution_count": 3,
   "id": "003bcf82-2f65-44d2-ba09-50bc8dab183b",
   "metadata": {
    "tags": []
   },
   "outputs": [],
   "source": [
    "full_text = open(\"./input/state_of_chinese.txt\", \"r\").read()"
   ]
  },
  {
   "cell_type": "code",
   "execution_count": 4,
   "id": "ae5ec89d-2850-426d-96b8-68f697bd4bd0",
   "metadata": {
    "collapsed": true,
    "jupyter": {
     "outputs_hidden": true
    },
    "tags": []
   },
   "outputs": [
    {
     "name": "stderr",
     "output_type": "stream",
     "text": [
      "Created a chunk of size 67, which is longer than the specified 0\n",
      "Created a chunk of size 121, which is longer than the specified 0\n",
      "Created a chunk of size 109, which is longer than the specified 0\n",
      "Created a chunk of size 156, which is longer than the specified 0\n",
      "Created a chunk of size 140, which is longer than the specified 0\n",
      "Created a chunk of size 24, which is longer than the specified 0\n",
      "Created a chunk of size 93, which is longer than the specified 0\n",
      "Created a chunk of size 136, which is longer than the specified 0\n",
      "Created a chunk of size 32, which is longer than the specified 0\n",
      "Created a chunk of size 150, which is longer than the specified 0\n",
      "Created a chunk of size 24, which is longer than the specified 0\n",
      "Created a chunk of size 255, which is longer than the specified 0\n",
      "Created a chunk of size 132, which is longer than the specified 0\n",
      "Created a chunk of size 56, which is longer than the specified 0\n",
      "Created a chunk of size 40, which is longer than the specified 0\n",
      "Created a chunk of size 50, which is longer than the specified 0\n"
     ]
    }
   ],
   "source": [
    "text_splitter = CharacterTextSplitter(chunk_size=0, chunk_overlap=0)\n",
    "texts = text_splitter.split_text(full_text)"
   ]
  },
  {
   "cell_type": "code",
   "execution_count": 5,
   "id": "c61d2db5-3dd5-4f92-94a5-20187de095fe",
   "metadata": {
    "collapsed": true,
    "jupyter": {
     "outputs_hidden": true
    },
    "tags": []
   },
   "outputs": [
    {
     "name": "stdout",
     "output_type": "stream",
     "text": [
      "“教育是一个国家的未来，是一个民族的希望。”我相信，每一位阅读这篇文章的人，无论是在校学生，家长，还是教育工作者，都深知教育的重要性。\n",
      "\n",
      "然而，传统的教育模式面临着许多挑战：课堂内的教学模式单一，教师难以顾及每一位学生的个性化需求，学生的学习进度和成绩又受到诸多因素的影响。而这些问题，可能通过AIGC技术得到解决。AIGC，全称为人工智能生成内容，是现代AI技术的重要应用之一。\n",
      "\n",
      "那么，AIGC技术在教育领域有哪些应用？AIGC技术在教育领域的优缺点又是什么呢？在教育领域，AI是否能替代人类教师的角色？？AIGC教育领域的应用可能带来哪些伦理问题呢？这些问题，我将在接下来的文章中为大家一一解答。\n",
      "\n",
      "我们首先来看看AIGC技术在教育领域的应用。Quizlet联合OpenAI推出了名为Q-Chat的人工智能辅导工具，这个工具可以提供个性化的一对一辅导，通过聊天界面和针对性的问题，帮助学生学习各个学科。这不仅仅是一种新的学习方式，更是一种全新的学习体验。Q-Chat的出现，让我们看到了AI在教育领域的巨大潜力。\n",
      "\n",
      "同样，在语言学习领域，Duolingo也引入了OpenAI的GPT-4，开发了AI对话伙伴和解释答案两个新功能，以提升学习者在学习第二语言时的效率和兴趣。另外，非营利组织Khan Academy宣布将使用GPT-4推出AI助手Khanmigo，作为学生的虚拟导师和教师的课堂助手。\n",
      "\n",
      "那么，AIGC技术在教育领域应用有哪些优缺点呢？\n",
      "\n",
      "优点显而易见，首先，AIGC技术可以实现个性化学习，提供定制化的教学内容，提升学习效率。其次，AI助手可以提供全天候服务，打破时间和地点的限制，让学习更为灵活，学生可以随时随地进行学习。\n",
      "\n",
      "然而，任何事物的发展都有其两面性，缺点同样存在。例如，过度依赖AI可能会导致学生缺乏人际交流的机会，影响他们的社交能力。这不仅包括语言交流，还有面对面的情感交流、情绪理解和社会性行为。人类社会是一个复杂的系统，充满了微妙的情感和社会关系，这是AI暂时无法完全理解和模拟的。\n",
      "\n",
      "面对这种情况，我们要思考，AIGC技术是否能替代人类教师的角色？\n",
      "\n",
      "我认为，AIGC技术并不能完全替代人类教师。教师的角色不仅在于传递知识，他们的情感投入以及对学生个性和需求的理解是AI无法替代的。然而，AIGC技术可以成为教师的得力助手，比如，Khan Academy的AI助手Khanmigo，能够帮助教师编写课堂提示或创建教学材料，更好地满足每个学生的学习需求。\n",
      "\n",
      "当然，AIGC技术的应用也可能带来一些伦理问题。\n",
      "\n",
      "比如，AI技术在教育领域的应用可能会加剧教育资源的不平等，因为并非所有地区和学校都有能力引入高级的AI技术。此外，AI技术的使用可能会引发数据隐私和学生权益等伦理问题。因此，在推广AI技术的同时，我们需要考虑如何公平分配教育资源，保护学生的数据隐私，并维护学生的权益。在教育资源分配方面，我们需要政策层面的支持，使不同地区和学校都能平等获取AI技术。对于数据隐私和学生权益的保护，我们需要在技术层面上加以保障，比如使用加密技术来保护学生的数据，并制定相应的使用规则，确保学生在使用AI学习平台时的权益得到保障。\n",
      "\n",
      "此外，AIGC技术的应用也可能带来其他问题。例如，如果AI系统基于学生的行为和学习成绩做出预测，可能会限制学生的发展空间。因为学生的成长是不确定的，他们有可能在某一时期发生巨大的变化，但如果AI系统给出的预测过于悲观，可能会影响到学生和教师的期望，限制学生的成长。\n",
      "\n",
      "总的来说，AIGC技术在教育领域提供了个性化教学，提升了教育质量，但它无法替代教师在价值引导和兴趣激发上的作用。\n",
      "\n",
      "我们应把AIGC技术视作教育改革的工具，而非全盘替代，强调人文关怀和人性化需求。\n",
      "\n",
      "未来，我期待看到\"AI+教师\"的模式，AI提供个性化内容，教师负责引导和激发，形成更全面的教育体系。\n",
      "\n",
      "最后，无论在哪个领域，教育工作者都是最美的人，他们以知识和热情点燃学生的梦想，塑造他们的未来。在挑战与机遇并存的时代，让我们为教育的未来共同努力。\n"
     ]
    }
   ],
   "source": [
    "print(full_text)"
   ]
  },
  {
   "cell_type": "code",
   "execution_count": 6,
   "id": "ee3cdabe-1199-4708-8e8e-5a33a3169455",
   "metadata": {
    "tags": []
   },
   "outputs": [
    {
     "name": "stdout",
     "output_type": "stream",
     "text": [
      "0 “教育是一个国家的未来，是一个民族的希望。”我相信，每一位阅读这篇文章的人，无论是在校学生，家长，还是教育工作者，都深知教育的重要性。\n",
      "1 然而，传统的教育模式面临着许多挑战：课堂内的教学模式单一，教师难以顾及每一位学生的个性化需求，学生的学习进度和成绩又受到诸多因素的影响。而这些问题，可能通过AIGC技术得到解决。AIGC，全称为人工智能生成内容，是现代AI技术的重要应用之一。\n",
      "2 那么，AIGC技术在教育领域有哪些应用？AIGC技术在教育领域的优缺点又是什么呢？在教育领域，AI是否能替代人类教师的角色？？AIGC教育领域的应用可能带来哪些伦理问题呢？这些问题，我将在接下来的文章中为大家一一解答。\n",
      "3 我们首先来看看AIGC技术在教育领域的应用。Quizlet联合OpenAI推出了名为Q-Chat的人工智能辅导工具，这个工具可以提供个性化的一对一辅导，通过聊天界面和针对性的问题，帮助学生学习各个学科。这不仅仅是一种新的学习方式，更是一种全新的学习体验。Q-Chat的出现，让我们看到了AI在教育领域的巨大潜力。\n",
      "4 同样，在语言学习领域，Duolingo也引入了OpenAI的GPT-4，开发了AI对话伙伴和解释答案两个新功能，以提升学习者在学习第二语言时的效率和兴趣。另外，非营利组织Khan Academy宣布将使用GPT-4推出AI助手Khanmigo，作为学生的虚拟导师和教师的课堂助手。\n",
      "5 那么，AIGC技术在教育领域应用有哪些优缺点呢？\n",
      "6 优点显而易见，首先，AIGC技术可以实现个性化学习，提供定制化的教学内容，提升学习效率。其次，AI助手可以提供全天候服务，打破时间和地点的限制，让学习更为灵活，学生可以随时随地进行学习。\n",
      "7 然而，任何事物的发展都有其两面性，缺点同样存在。例如，过度依赖AI可能会导致学生缺乏人际交流的机会，影响他们的社交能力。这不仅包括语言交流，还有面对面的情感交流、情绪理解和社会性行为。人类社会是一个复杂的系统，充满了微妙的情感和社会关系，这是AI暂时无法完全理解和模拟的。\n",
      "8 面对这种情况，我们要思考，AIGC技术是否能替代人类教师的角色？\n",
      "9 我认为，AIGC技术并不能完全替代人类教师。教师的角色不仅在于传递知识，他们的情感投入以及对学生个性和需求的理解是AI无法替代的。然而，AIGC技术可以成为教师的得力助手，比如，Khan Academy的AI助手Khanmigo，能够帮助教师编写课堂提示或创建教学材料，更好地满足每个学生的学习需求。\n",
      "10 当然，AIGC技术的应用也可能带来一些伦理问题。\n",
      "11 比如，AI技术在教育领域的应用可能会加剧教育资源的不平等，因为并非所有地区和学校都有能力引入高级的AI技术。此外，AI技术的使用可能会引发数据隐私和学生权益等伦理问题。因此，在推广AI技术的同时，我们需要考虑如何公平分配教育资源，保护学生的数据隐私，并维护学生的权益。在教育资源分配方面，我们需要政策层面的支持，使不同地区和学校都能平等获取AI技术。对于数据隐私和学生权益的保护，我们需要在技术层面上加以保障，比如使用加密技术来保护学生的数据，并制定相应的使用规则，确保学生在使用AI学习平台时的权益得到保障。\n",
      "12 此外，AIGC技术的应用也可能带来其他问题。例如，如果AI系统基于学生的行为和学习成绩做出预测，可能会限制学生的发展空间。因为学生的成长是不确定的，他们有可能在某一时期发生巨大的变化，但如果AI系统给出的预测过于悲观，可能会影响到学生和教师的期望，限制学生的成长。\n",
      "13 总的来说，AIGC技术在教育领域提供了个性化教学，提升了教育质量，但它无法替代教师在价值引导和兴趣激发上的作用。\n",
      "14 我们应把AIGC技术视作教育改革的工具，而非全盘替代，强调人文关怀和人性化需求。\n",
      "15 未来，我期待看到\"AI+教师\"的模式，AI提供个性化内容，教师负责引导和激发，形成更全面的教育体系。\n",
      "16 最后，无论在哪个领域，教育工作者都是最美的人，他们以知识和热情点燃学生的梦想，塑造他们的未来。在挑战与机遇并存的时代，让我们为教育的未来共同努力。\n"
     ]
    }
   ],
   "source": [
    "for i, text in enumerate(texts):\n",
    "    print(i, text)"
   ]
  },
  {
   "cell_type": "code",
   "execution_count": null,
   "id": "512c8ef1-bfed-4b8d-ab51-8083b36109f5",
   "metadata": {},
   "outputs": [],
   "source": []
  },
  {
   "cell_type": "code",
   "execution_count": 5,
   "id": "4f83e55e-949d-48a9-9875-08030b2beaf6",
   "metadata": {
    "tags": []
   },
   "outputs": [],
   "source": [
    "embeddings = OpenAIEmbeddings()"
   ]
  },
  {
   "cell_type": "code",
   "execution_count": 6,
   "id": "db7cea93-41f5-4d49-a124-2d1f8cd37054",
   "metadata": {
    "tags": []
   },
   "outputs": [],
   "source": [
    "db = FAISS.from_texts(texts, embeddings)"
   ]
  },
  {
   "cell_type": "code",
   "execution_count": 7,
   "id": "c38668fb-d2f8-4246-8ad6-6150ff398e5c",
   "metadata": {
    "tags": []
   },
   "outputs": [],
   "source": [
    "retriever = db.as_retriever()"
   ]
  },
  {
   "cell_type": "code",
   "execution_count": null,
   "id": "39e32044-9311-45a9-ad1e-f2ed75b2d1c7",
   "metadata": {},
   "outputs": [],
   "source": []
  },
  {
   "cell_type": "code",
   "execution_count": 11,
   "id": "844617f7-8b39-442b-b9e4-68c11f5e86eb",
   "metadata": {
    "tags": []
   },
   "outputs": [
    {
     "data": {
      "text/plain": [
       "[(Document(page_content='我认为，AIGC技术并不能完全替代人类教师。教师的角色不仅在于传递知识，他们的情感投入以及对学生个性和需求的理解是AI无法替代的。然而，AIGC技术可以成为教师的得力助手，比如，Khan Academy的AI助手Khanmigo，能够帮助教师编写课堂提示或创建教学材料，更好地满足每个学生的学习需求。'),\n",
       "  0.11924387),\n",
       " (Document(page_content='面对这种情况，我们要思考，AIGC技术是否能替代人类教师的角色？'), 0.1622526),\n",
       " (Document(page_content='总的来说，AIGC技术在教育领域提供了个性化教学，提升了教育质量，但它无法替代教师在价值引导和兴趣激发上的作用。'),\n",
       "  0.17695212),\n",
       " (Document(page_content='我们应把AIGC技术视作教育改革的工具，而非全盘替代，强调人文关怀和人性化需求。'),\n",
       "  0.21307698)]"
      ]
     },
     "execution_count": 11,
     "metadata": {},
     "output_type": "execute_result"
    }
   ],
   "source": [
    "retriever.vectorstore.similarity_search_with_score(\"我认为，AIGC技术并不能完全替代人类教师\")"
   ]
  },
  {
   "cell_type": "markdown",
   "id": "27997256-f7c4-40ad-845c-303e1c0e1538",
   "metadata": {},
   "source": [
    "> <font color=blue>L2 distance in float. Lower score represents more similarity. 欧氏距离, 越小的分数,代表越相似</font>"
   ]
  },
  {
   "cell_type": "markdown",
   "id": "9c323233-88b2-4598-bb7a-726d608d4faa",
   "metadata": {},
   "source": [
    "> 第一个Document相似度是最高的"
   ]
  },
  {
   "cell_type": "code",
   "execution_count": null,
   "id": "263afb6c-ff13-4ca4-afd0-abd7a2d84e6c",
   "metadata": {},
   "outputs": [],
   "source": []
  },
  {
   "cell_type": "code",
   "execution_count": 12,
   "id": "5ea843fc-8491-46d1-8e67-368b3e186dc6",
   "metadata": {
    "tags": []
   },
   "outputs": [
    {
     "data": {
      "text/plain": [
       "[Document(page_content='我认为，AIGC技术并不能完全替代人类教师。教师的角色不仅在于传递知识，他们的情感投入以及对学生个性和需求的理解是AI无法替代的。然而，AIGC技术可以成为教师的得力助手，比如，Khan Academy的AI助手Khanmigo，能够帮助教师编写课堂提示或创建教学材料，更好地满足每个学生的学习需求。'),\n",
       " Document(page_content='面对这种情况，我们要思考，AIGC技术是否能替代人类教师的角色？'),\n",
       " Document(page_content='总的来说，AIGC技术在教育领域提供了个性化教学，提升了教育质量，但它无法替代教师在价值引导和兴趣激发上的作用。'),\n",
       " Document(page_content='我们应把AIGC技术视作教育改革的工具，而非全盘替代，强调人文关怀和人性化需求。')]"
      ]
     },
     "execution_count": 12,
     "metadata": {},
     "output_type": "execute_result"
    }
   ],
   "source": [
    "retriever.vectorstore.similarity_search(\"我认为，AIGC技术并不能完全替代人类教师\")"
   ]
  },
  {
   "cell_type": "code",
   "execution_count": null,
   "id": "8c470378-8210-45b7-96e8-1cbd87c96589",
   "metadata": {},
   "outputs": [],
   "source": []
  },
  {
   "cell_type": "code",
   "execution_count": 13,
   "id": "48b2a15b-5e22-4bc6-be59-ed12c6e836a4",
   "metadata": {
    "tags": []
   },
   "outputs": [
    {
     "name": "stderr",
     "output_type": "stream",
     "text": [
      "Retrying langchain.embeddings.openai.embed_with_retry.<locals>._embed_with_retry in 4.0 seconds as it raised RateLimitError: Rate limit reached for text-embedding-ada-002 in organization org-S2eZjuyvHb3FNw1PLlGdgWAt on requests per min. Limit: 3 / min. Please try again in 20s. Visit https://platform.openai.com/account/rate-limits to learn more. You can increase your rate limit by adding a payment method to your account at https://platform.openai.com/account/billing..\n"
     ]
    },
    {
     "data": {
      "text/plain": [
       "[Document(page_content='我认为，AIGC技术并不能完全替代人类教师。教师的角色不仅在于传递知识，他们的情感投入以及对学生个性和需求的理解是AI无法替代的。然而，AIGC技术可以成为教师的得力助手，比如，Khan Academy的AI助手Khanmigo，能够帮助教师编写课堂提示或创建教学材料，更好地满足每个学生的学习需求。'),\n",
       " Document(page_content='面对这种情况，我们要思考，AIGC技术是否能替代人类教师的角色？'),\n",
       " Document(page_content='总的来说，AIGC技术在教育领域提供了个性化教学，提升了教育质量，但它无法替代教师在价值引导和兴趣激发上的作用。'),\n",
       " Document(page_content='我们应把AIGC技术视作教育改革的工具，而非全盘替代，强调人文关怀和人性化需求。')]"
      ]
     },
     "execution_count": 13,
     "metadata": {},
     "output_type": "execute_result"
    }
   ],
   "source": [
    "retriever.get_relevant_documents(\"我认为，AIGC技术并不能完全替代人类教师\")"
   ]
  },
  {
   "cell_type": "code",
   "execution_count": null,
   "id": "d7c930d6-92c1-4602-8d58-96b3dddab312",
   "metadata": {},
   "outputs": [],
   "source": []
  },
  {
   "cell_type": "code",
   "execution_count": null,
   "id": "5a1e8906-3752-4df3-9630-54775969f5ce",
   "metadata": {},
   "outputs": [],
   "source": []
  },
  {
   "cell_type": "code",
   "execution_count": 34,
   "id": "04b8b7e3-7cf4-4551-937e-dd5075ba28b9",
   "metadata": {
    "collapsed": true,
    "jupyter": {
     "outputs_hidden": true
    },
    "tags": []
   },
   "outputs": [
    {
     "data": {
      "text/plain": [
       "\u001b[0;31mSignature:\u001b[0m\n",
       "\u001b[0mretriever\u001b[0m\u001b[0;34m.\u001b[0m\u001b[0mvectorstore\u001b[0m\u001b[0;34m.\u001b[0m\u001b[0msimilarity_search_with_score\u001b[0m\u001b[0;34m(\u001b[0m\u001b[0;34m\u001b[0m\n",
       "\u001b[0;34m\u001b[0m    \u001b[0mquery\u001b[0m\u001b[0;34m:\u001b[0m \u001b[0;34m'str'\u001b[0m\u001b[0;34m,\u001b[0m\u001b[0;34m\u001b[0m\n",
       "\u001b[0;34m\u001b[0m    \u001b[0mk\u001b[0m\u001b[0;34m:\u001b[0m \u001b[0;34m'int'\u001b[0m \u001b[0;34m=\u001b[0m \u001b[0;36m4\u001b[0m\u001b[0;34m,\u001b[0m\u001b[0;34m\u001b[0m\n",
       "\u001b[0;34m\u001b[0m    \u001b[0mfilter\u001b[0m\u001b[0;34m:\u001b[0m \u001b[0;34m'Optional[Dict[str, Any]]'\u001b[0m \u001b[0;34m=\u001b[0m \u001b[0;32mNone\u001b[0m\u001b[0;34m,\u001b[0m\u001b[0;34m\u001b[0m\n",
       "\u001b[0;34m\u001b[0m    \u001b[0mfetch_k\u001b[0m\u001b[0;34m:\u001b[0m \u001b[0;34m'int'\u001b[0m \u001b[0;34m=\u001b[0m \u001b[0;36m20\u001b[0m\u001b[0;34m,\u001b[0m\u001b[0;34m\u001b[0m\n",
       "\u001b[0;34m\u001b[0m    \u001b[0;34m**\u001b[0m\u001b[0mkwargs\u001b[0m\u001b[0;34m:\u001b[0m \u001b[0;34m'Any'\u001b[0m\u001b[0;34m,\u001b[0m\u001b[0;34m\u001b[0m\n",
       "\u001b[0;34m\u001b[0m\u001b[0;34m)\u001b[0m \u001b[0;34m->\u001b[0m \u001b[0;34m'List[Tuple[Document, float]]'\u001b[0m\u001b[0;34m\u001b[0m\u001b[0;34m\u001b[0m\u001b[0m\n",
       "\u001b[0;31mDocstring:\u001b[0m\n",
       "Return docs most similar to query.\n",
       "\n",
       "Args:\n",
       "    query: Text to look up documents similar to.\n",
       "    k: Number of Documents to return. Defaults to 4.\n",
       "    filter (Optional[Dict[str, str]]): Filter by metadata. Defaults to None.\n",
       "    fetch_k: (Optional[int]) Number of Documents to fetch before filtering.\n",
       "              Defaults to 20.\n",
       "\n",
       "Returns:\n",
       "    List of documents most similar to the query text with\n",
       "    L2 distance in float. Lower score represents more similarity.\n",
       "\u001b[0;31mFile:\u001b[0m      /opt/conda/envs/preventloss/lib/python3.9/site-packages/langchain/vectorstores/faiss.py\n",
       "\u001b[0;31mType:\u001b[0m      method"
      ]
     },
     "metadata": {},
     "output_type": "display_data"
    }
   ],
   "source": [
    "retriever.vectorstore.similarity_search_with_score?"
   ]
  },
  {
   "cell_type": "code",
   "execution_count": null,
   "id": "86a384bb-374b-43c6-a9fe-6621d6b9980b",
   "metadata": {},
   "outputs": [],
   "source": []
  },
  {
   "cell_type": "code",
   "execution_count": 35,
   "id": "4a27eb40-f8a9-47f7-8a48-a8297fdc1912",
   "metadata": {
    "tags": []
   },
   "outputs": [],
   "source": [
    "retrieved_docs = retriever.invoke(\"我认为，AIGC技术并不能完全替代人类教师\")"
   ]
  },
  {
   "cell_type": "code",
   "execution_count": 36,
   "id": "dcf54d98-5d01-4ba6-96ea-255fc1ac4ddb",
   "metadata": {
    "tags": []
   },
   "outputs": [
    {
     "data": {
      "text/plain": [
       "[Document(page_content='我认为，AIGC技术并不能完全替代人类教师。教师的角色不仅在于传递知识，他们的情感投入以及对学生个性和需求的理解是AI无法替代的。然而，AIGC技术可以成为教师的得力助手，比如，Khan Academy的AI助手Khanmigo，能够帮助教师编写课堂提示或创建教学材料，更好地满足每个学生的学习需求。'),\n",
       " Document(page_content='面对这种情况，我们要思考，AIGC技术是否能替代人类教师的角色？'),\n",
       " Document(page_content='总的来说，AIGC技术在教育领域提供了个性化教学，提升了教育质量，但它无法替代教师在价值引导和兴趣激发上的作用。'),\n",
       " Document(page_content='我们应把AIGC技术视作教育改革的工具，而非全盘替代，强调人文关怀和人性化需求。')]"
      ]
     },
     "execution_count": 36,
     "metadata": {},
     "output_type": "execute_result"
    }
   ],
   "source": [
    "retrieved_docs"
   ]
  },
  {
   "cell_type": "code",
   "execution_count": 37,
   "id": "3731074c-7d0e-416b-a6c8-549fd42dd1b0",
   "metadata": {
    "tags": []
   },
   "outputs": [
    {
     "name": "stdout",
     "output_type": "stream",
     "text": [
      "我认为，AIGC技术并不能完全替代人类教师。教师的角色不仅在于传递知识，他们的情感投入以及对学生个性和需求的理解是AI无法替代的。然而，AIGC技术可以成为教师的得力助手，比如，Khan Academy的AI助手Khanmigo，能够帮助教师编写课堂提示或创建教学材料，更好地满足每个学生的学习需求。\n"
     ]
    }
   ],
   "source": [
    "print(retrieved_docs[0].page_content)"
   ]
  },
  {
   "cell_type": "code",
   "execution_count": null,
   "id": "b1a43bb2-e984-4420-8409-aea063093e14",
   "metadata": {},
   "outputs": [],
   "source": []
  },
  {
   "cell_type": "code",
   "execution_count": null,
   "id": "baeb2862-d137-45d0-ad21-edd2345e430b",
   "metadata": {},
   "outputs": [],
   "source": []
  },
  {
   "cell_type": "code",
   "execution_count": 8,
   "id": "b6fa0c37-79f6-46aa-8e85-ff50fb653459",
   "metadata": {
    "tags": []
   },
   "outputs": [],
   "source": [
    "from langchain.chat_models import ChatOpenAI\n",
    "from langchain.prompts import ChatPromptTemplate\n",
    "from langchain.schema import StrOutputParser\n",
    "from langchain.schema.runnable import RunnablePassthrough"
   ]
  },
  {
   "cell_type": "code",
   "execution_count": 9,
   "id": "c8337a9a-ed06-438c-a9a8-cdedb896d062",
   "metadata": {
    "tags": []
   },
   "outputs": [],
   "source": [
    "template = \"\"\"仅根据下文做出回答:\n",
    "\n",
    "{context}\n",
    "\n",
    "问题: {question}\n",
    "\"\"\"\n",
    "prompt = ChatPromptTemplate.from_template(template)"
   ]
  },
  {
   "cell_type": "code",
   "execution_count": 10,
   "id": "d37af725-0e3a-4de3-b338-3edfaae7a9ad",
   "metadata": {
    "tags": []
   },
   "outputs": [],
   "source": [
    "model = ChatOpenAI()"
   ]
  },
  {
   "cell_type": "code",
   "execution_count": 11,
   "id": "44e94b62-31fb-450f-9d03-8437a55cfd55",
   "metadata": {
    "tags": []
   },
   "outputs": [],
   "source": [
    "def format_docs(docs):\n",
    "    print(docs)\n",
    "    import time\n",
    "    print('sleep 30 s to make openai relax')\n",
    "    time.sleep(30)\n",
    "    return \"\\n\\n\".join([d.page_content for d in docs])"
   ]
  },
  {
   "cell_type": "code",
   "execution_count": 12,
   "id": "63695f86-8165-41f8-a1a3-d4e1e4fbe7b2",
   "metadata": {
    "tags": []
   },
   "outputs": [],
   "source": [
    "chain = (\n",
    "    {\"context\": retriever | format_docs, \"question\": RunnablePassthrough()}\n",
    "    | prompt\n",
    "    | model\n",
    "    | StrOutputParser()\n",
    ")"
   ]
  },
  {
   "cell_type": "markdown",
   "id": "46b8234d-3740-409e-8afa-9ca58d3fe3cd",
   "metadata": {},
   "source": [
    "> 代码解读:<br>\n",
    "> 字典应该是\"并行RunnableParallel\"的意思.<br>\n",
    "> `\"context\": retriever | format_docs`: 先用retriever 检索 返回4条, 然后用 `format_docs` 拼接起来作为 `context`参数 <br>\n",
    "> `\"question\": RunnablePassthrough()`, : 代表 question 是直接扔过去的.(通过invoke扔过去的) <br>\n",
    "> `{\"context\": retriever | format_docs, \"question\": RunnablePassthrough()}` 整体这个字典 扔给 prompt , 组成 model 需要的 提示词 <br>\n",
    "> 单独这个字典并不成Chain, 但是 `|prompt` 就变成链"
   ]
  },
  {
   "cell_type": "code",
   "execution_count": null,
   "id": "0683ee99-7d57-49bc-9389-b0ead8bc537f",
   "metadata": {},
   "outputs": [],
   "source": []
  },
  {
   "cell_type": "code",
   "execution_count": 13,
   "id": "f331fc03-22f4-4bfa-b48c-a22d211ed3db",
   "metadata": {
    "tags": []
   },
   "outputs": [
    {
     "name": "stdout",
     "output_type": "stream",
     "text": [
      "[Document(page_content='面对这种情况，我们要思考，AIGC技术是否能替代人类教师的角色？'), Document(page_content='我认为，AIGC技术并不能完全替代人类教师。教师的角色不仅在于传递知识，他们的情感投入以及对学生个性和需求的理解是AI无法替代的。然而，AIGC技术可以成为教师的得力助手，比如，Khan Academy的AI助手Khanmigo，能够帮助教师编写课堂提示或创建教学材料，更好地满足每个学生的学习需求。'), Document(page_content='总的来说，AIGC技术在教育领域提供了个性化教学，提升了教育质量，但它无法替代教师在价值引导和兴趣激发上的作用。'), Document(page_content='那么，AIGC技术在教育领域应用有哪些优缺点呢？')]\n",
      "sleep 30 s to make openai relax\n"
     ]
    }
   ],
   "source": [
    "response = chain.invoke(\"AIGC技术为什么不能完全替代人类教师?\")"
   ]
  },
  {
   "cell_type": "code",
   "execution_count": 14,
   "id": "8ebd18f3-e746-488f-94f6-ace93ddb45b1",
   "metadata": {
    "tags": []
   },
   "outputs": [
    {
     "data": {
      "text/plain": [
       "str"
      ]
     },
     "execution_count": 14,
     "metadata": {},
     "output_type": "execute_result"
    }
   ],
   "source": [
    "type(response)"
   ]
  },
  {
   "cell_type": "code",
   "execution_count": 15,
   "id": "5bf7d13b-8a4b-4c1c-9cc3-3e9217b9d6a5",
   "metadata": {
    "tags": []
   },
   "outputs": [
    {
     "name": "stdout",
     "output_type": "stream",
     "text": [
      "回答: AIGC技术不能完全替代人类教师是因为教师的角色不仅仅是传递知识，他们还需要投入情感，并理解学生的个性和需求，而这些是AI无法完全替代的。\n"
     ]
    }
   ],
   "source": [
    "print(response)"
   ]
  },
  {
   "cell_type": "markdown",
   "id": "d228bd1e-ee37-4d1b-ab0f-87717a94b9b3",
   "metadata": {},
   "source": [
    "> 是生成内容. 不跟文本一样. <br>\n",
    "> 确实是按照要求回答的. 并没有超越 我们的喂给他的上下文. "
   ]
  },
  {
   "cell_type": "markdown",
   "id": "565b036b-4e99-4688-a2e2-8c0cbde78c41",
   "metadata": {},
   "source": [
    "> 以下是gpt3.5不喂任何上下文的回答."
   ]
  },
  {
   "cell_type": "code",
   "execution_count": null,
   "id": "15b6a7a6-71f9-4833-8210-650164d843e5",
   "metadata": {},
   "outputs": [],
   "source": []
  },
  {
   "cell_type": "code",
   "execution_count": 22,
   "id": "78548dd9-f67f-47e1-8fc5-023057318691",
   "metadata": {},
   "outputs": [
    {
     "name": "stdout",
     "output_type": "stream",
     "text": [
      "AIGC技术（Artificial Intelligence in Generalized Computer）尽管在某些方面具有优势，但还无法完全替代人类教师的原因有以下几点：\n",
      "\n",
      "1. 情感和情绪的理解：人类教师能够理解学生的情感和情绪状态，并根据需要进行调整和反馈。然而，AIGC技术目前还无法完全理解和适应人类的情感和情绪，因此无法提供相同水平的情感支持和沟通。\n",
      "\n",
      "2. 人类联系和关系建立：人类教师能够与学生建立真实的联系和关系，通过互动和交流来提供个性化的学习体验。虽然AIGC技术可以提供个性化的学习内容和反馈，但它无法提供与人类教师相同的人际互动和关系建立。\n",
      "\n",
      "3. 创造力和启发：人类教师可以通过创造性的教学方法和激发学生的兴趣，鼓励他们思考和探索。尽管AIGC技术可以提供大量的教学资源和内容，但它还无法以同样的方式激发学生的创造力和思维能力。\n",
      "\n",
      "4. 非标准化学习需求：每个学生都是独特的，有不同的学习需求和方式。人类教师能够根据学生的个性和需求进行个性化的指导和支持。然而，AIGC技术目前还无法完全适应各种非标准化的学习需求，无法提供与人类教师相同程度的个性化学习体验。\n",
      "\n",
      "尽管AIGC技术在某些方面具有潜力和优势，但在教育领域仍然需要人类教师的参与和指导，以提供全面的教育体验和满足学生的多样化需求。"
     ]
    }
   ],
   "source": [
    "for e in model.stream(\"AIGC技术为什么不能完全替代人类教师?\"):\n",
    "    print(e.content, end='', flush=True)"
   ]
  },
  {
   "cell_type": "code",
   "execution_count": null,
   "id": "cbfabdc9-ccff-48f0-a8bb-f8720d4191ad",
   "metadata": {},
   "outputs": [],
   "source": []
  },
  {
   "cell_type": "code",
   "execution_count": null,
   "id": "99fcffbb-52c6-4ce4-b556-a1950660881d",
   "metadata": {},
   "outputs": [],
   "source": []
  },
  {
   "cell_type": "markdown",
   "id": "cf034139-4e22-4d2b-bd7b-68d4438db83a",
   "metadata": {},
   "source": [
    "> AIGC 的 全称是错误的!!!"
   ]
  },
  {
   "cell_type": "code",
   "execution_count": null,
   "id": "d223ef87-ed73-427e-8e0b-0cc7c5fd3dfe",
   "metadata": {},
   "outputs": [],
   "source": []
  },
  {
   "cell_type": "code",
   "execution_count": null,
   "id": "fc4f6c69-1a09-4d15-961d-fc4c0fdc66e5",
   "metadata": {},
   "outputs": [],
   "source": []
  },
  {
   "cell_type": "code",
   "execution_count": null,
   "id": "1897c54c-38ac-42af-8567-f89bf94db45d",
   "metadata": {},
   "outputs": [],
   "source": []
  },
  {
   "cell_type": "code",
   "execution_count": null,
   "id": "3d46a567-6787-4733-aeaa-f02e8962c507",
   "metadata": {},
   "outputs": [],
   "source": []
  },
  {
   "cell_type": "code",
   "execution_count": null,
   "id": "744578be-1688-4479-993e-d6a4928caa10",
   "metadata": {},
   "outputs": [],
   "source": []
  },
  {
   "cell_type": "code",
   "execution_count": null,
   "id": "7b173cf3-9ace-45ea-a26a-83c4e1470d19",
   "metadata": {},
   "outputs": [],
   "source": []
  },
  {
   "cell_type": "code",
   "execution_count": null,
   "id": "b4a73bef-7248-406a-9062-a3fe7872a2cb",
   "metadata": {},
   "outputs": [],
   "source": []
  },
  {
   "cell_type": "code",
   "execution_count": null,
   "id": "2181eaae-41bc-43c6-8ad3-55977e374f5d",
   "metadata": {},
   "outputs": [],
   "source": []
  },
  {
   "cell_type": "code",
   "execution_count": null,
   "id": "541e510e-071d-4f22-9772-85288f5f6293",
   "metadata": {},
   "outputs": [],
   "source": []
  },
  {
   "cell_type": "code",
   "execution_count": null,
   "id": "5006f7e4-5e06-40dd-a793-71fd08e9c150",
   "metadata": {},
   "outputs": [],
   "source": []
  },
  {
   "cell_type": "code",
   "execution_count": null,
   "id": "4af08beb-ab82-4ce1-bf2f-b13f5a0f97c2",
   "metadata": {},
   "outputs": [],
   "source": []
  },
  {
   "cell_type": "code",
   "execution_count": null,
   "id": "689c0ffb-264a-43f6-9619-9b9c61e6138c",
   "metadata": {},
   "outputs": [],
   "source": []
  }
 ],
 "metadata": {
  "environment": {
   "kernel": "conda-env-preventloss-py",
   "name": "pytorch-gpu.1-13.m105",
   "type": "gcloud",
   "uri": "gcr.io/deeplearning-platform-release/pytorch-gpu.1-13:m105"
  },
  "kernelspec": {
   "display_name": "chatglm26b",
   "language": "python",
   "name": "chatglm26b"
  },
  "language_info": {
   "codemirror_mode": {
    "name": "ipython",
    "version": 3
   },
   "file_extension": ".py",
   "mimetype": "text/x-python",
   "name": "python",
   "nbconvert_exporter": "python",
   "pygments_lexer": "ipython3",
   "version": "3.9.6"
  }
 },
 "nbformat": 4,
 "nbformat_minor": 5
}
