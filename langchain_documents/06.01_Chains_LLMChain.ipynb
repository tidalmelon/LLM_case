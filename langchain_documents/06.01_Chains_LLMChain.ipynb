{
 "cells": [
  {
   "cell_type": "code",
   "execution_count": null,
   "id": "a4008cf1-eaac-4e29-8002-c2af13db465e",
   "metadata": {},
   "outputs": [],
   "source": []
  },
  {
   "cell_type": "markdown",
   "id": "b2bc0806-cd01-42a5-ba48-9d92003b96a7",
   "metadata": {},
   "source": [
    "[Chain How to Chaining](https://python.langchain.com/docs/modules/chains/)"
   ]
  },
  {
   "cell_type": "code",
   "execution_count": null,
   "id": "ef88319c-e282-4960-b03d-599423410231",
   "metadata": {},
   "outputs": [],
   "source": []
  },
  {
   "cell_type": "code",
   "execution_count": null,
   "id": "e52b2ef8-6aae-4454-8605-c797a7221904",
   "metadata": {},
   "outputs": [],
   "source": []
  },
  {
   "cell_type": "markdown",
   "id": "c7889892-9e05-4ac1-8b44-9832d6fae6a6",
   "metadata": {},
   "source": [
    "# 什么chains\n",
    "\n",
    "组件可能包括但不限于: **prompt**, **memory**, **retrieval**, **model**，甚至可以是chain本身."
   ]
  },
  {
   "cell_type": "code",
   "execution_count": null,
   "id": "27ce5fd2-2691-4feb-9827-9bc8383d5f39",
   "metadata": {},
   "outputs": [],
   "source": []
  },
  {
   "cell_type": "code",
   "execution_count": null,
   "id": "947655fb-71bf-4bd7-9346-686fe0be5c35",
   "metadata": {},
   "outputs": [],
   "source": []
  },
  {
   "cell_type": "markdown",
   "id": "fa4169cd-32c2-4084-87e9-f6b581431e50",
   "metadata": {},
   "source": [
    "# Build-In chains example: LLMChain\n",
    "\n",
    "> 接收prompt-template, llm, output_parser"
   ]
  },
  {
   "cell_type": "markdown",
   "id": "fff3878f-efde-4e8b-b47d-f3bf256315dc",
   "metadata": {},
   "source": [
    "> The legacy approach is to use the `Chain` interface. The updated approach is to use the [LangChain Expression Language (LCEL)](https://python.langchain.com/docs/expression_language/). <br>\n",
    "> 传统方式是`Chain`接口, 新的方式是使用**LCEL**\n",
    "\n",
    "> 构建新的链组合,我们建议使用**LCEL**\n",
    "\n",
    "> Chain本身也能在LCEL中使用, 二者并不冲突"
   ]
  },
  {
   "cell_type": "markdown",
   "id": "bfaa8e3d-55b6-42ae-9367-71539460c765",
   "metadata": {},
   "source": [
    "## LCEL approach"
   ]
  },
  {
   "cell_type": "markdown",
   "id": "9e621bfb-cd71-4b82-9b80-88fdb656095e",
   "metadata": {},
   "source": [
    "> As a simple and common example, we can see what it's like to combine a prompt, model and output parser:<br>\n",
    "> 在简单的案例中,我们组合prompt, model, he output parser"
   ]
  },
  {
   "cell_type": "code",
   "execution_count": null,
   "id": "8b15e4bb-5520-4649-b638-b9ced99ded3d",
   "metadata": {},
   "outputs": [],
   "source": []
  },
  {
   "cell_type": "code",
   "execution_count": 1,
   "id": "97fe8aad-6ffb-4929-a3ab-319dd98f10b3",
   "metadata": {
    "tags": []
   },
   "outputs": [],
   "source": [
    "from langchain.chat_models import ChatOpenAI\n",
    "from langchain.prompts import ChatPromptTemplate\n",
    "from langchain.schema import StrOutputParser"
   ]
  },
  {
   "cell_type": "code",
   "execution_count": 3,
   "id": "eae7fa76-c7e6-4b9b-bea5-74a0a144ef7d",
   "metadata": {
    "tags": []
   },
   "outputs": [],
   "source": [
    "model = ChatOpenAI()"
   ]
  },
  {
   "cell_type": "code",
   "execution_count": 4,
   "id": "d4313034-6962-4a70-aab9-edeed7e3d39a",
   "metadata": {
    "tags": []
   },
   "outputs": [],
   "source": [
    "prompt = ChatPromptTemplate.from_messages([\n",
    "    ('system', \"You're a very knowledgeable historian who provides accurate and eloquent answers to historical questions.\"),\n",
    "    (\"human\", \"{question}\"),\n",
    "     ])"
   ]
  },
  {
   "cell_type": "code",
   "execution_count": 5,
   "id": "28de1711-78f1-40fe-92e5-fad6d8471756",
   "metadata": {
    "tags": []
   },
   "outputs": [],
   "source": [
    "runnable = prompt | model | StrOutputParser()"
   ]
  },
  {
   "cell_type": "code",
   "execution_count": 6,
   "id": "9df18ae4-7223-44a0-9239-5419b3214ba2",
   "metadata": {
    "tags": []
   },
   "outputs": [
    {
     "name": "stdout",
     "output_type": "stream",
     "text": [
      "Mansa Musa, the renowned ruler of the Mali Empire in the 14th century, amassed his immense wealth through a combination of factors. The primary source of his riches was the vast gold reserves within his empire. Mali, located in West Africa, was a region abundant in gold mines, and Mansa Musa had control over these lucrative resources.\n",
      "\n",
      "Under his rule, Mali became a significant producer and exporter of gold, which was in high demand across the trans-Saharan trade routes. Mansa Musa effectively monopolized the gold trade, ensuring that the majority of the precious metal flowed through his empire. This allowed him to exert control over its value and regulate its distribution, further augmenting his wealth.\n",
      "\n",
      "Furthermore, Mansa Musa expanded Mali's influence and control over other key trade routes, such as salt and copper. The empire's strategic location enabled it to profit from the trade between North Africa, the Mediterranean, and sub-Saharan Africa. By taxing and regulating these trade routes, Mansa Musa accumulated substantial wealth and resources.\n",
      "\n",
      "Mansa Musa's wealth was not solely derived from trade and natural resources. He also actively promoted agriculture, especially the cultivation of crops like cotton, which were highly sought after in international markets. The cultivation and export of these cash crops, along with other local goods, further contributed to the empire's economic prosperity.\n",
      "\n",
      "It is worth noting that Mansa Musa's wealth was not limited to material resources. He was highly regarded as a patron of the arts, education, and Islamic scholarship. He sponsored the construction of magnificent mosques, schools, and libraries, attracting renowned scholars and enhancing the intellectual and cultural standing of Mali. This patronage, while not directly linked to his wealth accumulation, showcased his opulence and influence.\n",
      "\n",
      "In summary, Mansa Musa's wealth primarily stemmed from his control over Mali's vast gold reserves, his dominance of key trade routes, and his promotion of agricultural endeavors. His astute economic policies and patronage of the arts solidified his legacy as one of history's wealthiest and most influential rulers."
     ]
    }
   ],
   "source": [
    "for chunk in runnable.stream({\"question\": \"How did Mansa Musa accumulate his wealth?\"}):\n",
    "    print(chunk, end=\"\", flush=True)"
   ]
  },
  {
   "cell_type": "code",
   "execution_count": null,
   "id": "d5a10dfc-d507-40f8-8aca-ba98328d4a77",
   "metadata": {},
   "outputs": [],
   "source": []
  },
  {
   "cell_type": "code",
   "execution_count": null,
   "id": "b7bc2ddd-c820-47e6-8459-d1a3236aa7b7",
   "metadata": {},
   "outputs": [],
   "source": []
  },
  {
   "cell_type": "code",
   "execution_count": null,
   "id": "419ac444-55b3-4462-b015-26a69f374395",
   "metadata": {},
   "outputs": [],
   "source": []
  },
  {
   "cell_type": "markdown",
   "id": "037f7bb3-7bc6-4b0f-9f5d-3d43cee748db",
   "metadata": {},
   "source": [
    "## [Legacy] Chain interface"
   ]
  },
  {
   "cell_type": "markdown",
   "id": "15976921-2a2e-40b5-b258-f76538b1ed92",
   "metadata": {},
   "source": [
    "Chain的接口很简单\n",
    "\n",
    "```\n",
    "class Chain(BaseModel, ABC):\n",
    "    \"\"\"Base interface that all chains should implement.\"\"\"\n",
    "\n",
    "    memory: BaseMemory\n",
    "    callbacks: Callbacks\n",
    "\n",
    "    def __call__(\n",
    "        self,\n",
    "        inputs: Any,\n",
    "        return_only_outputs: bool = False,\n",
    "        callbacks: Callbacks = None,\n",
    "    ) -> Dict[str, Any]:\n",
    "        ...\n",
    "```"
   ]
  },
  {
   "cell_type": "markdown",
   "id": "9fc4f476-4f8e-4fff-8eb9-6411f8067746",
   "metadata": {},
   "source": [
    "> We can recreate the LCEL runnable we made above using the built-in LLMChain:<br>\n",
    "> 我们使用LLMChain重构上述的LCEL"
   ]
  },
  {
   "cell_type": "code",
   "execution_count": null,
   "id": "7b8d43a3-7324-4afc-b766-f9e7b3970f92",
   "metadata": {},
   "outputs": [],
   "source": []
  },
  {
   "cell_type": "code",
   "execution_count": 7,
   "id": "6a33eb8b-79d9-4b8d-82f4-7c90e27b42df",
   "metadata": {
    "tags": []
   },
   "outputs": [],
   "source": [
    "from langchain.chains import LLMChain"
   ]
  },
  {
   "cell_type": "code",
   "execution_count": 8,
   "id": "cba26a38-db58-4b86-877d-de5025fd7ca5",
   "metadata": {
    "tags": []
   },
   "outputs": [],
   "source": [
    "chain = LLMChain(llm=model, prompt=prompt, output_parser=StrOutputParser())"
   ]
  },
  {
   "cell_type": "code",
   "execution_count": 10,
   "id": "00c9c634-9295-44ff-a45c-68493d8b9469",
   "metadata": {
    "tags": []
   },
   "outputs": [
    {
     "data": {
      "text/plain": [
       "'积累财富的方法有很多种，以下是一些常见的方法：\\n\\n1. 节约和理性消费：通过控制开支和避免不必要的消费，将可用资金存入储蓄账户或投资。\\n\\n2. 定期储蓄：将一部分收入定期存入银行或其他金融机构的储蓄账户，以积累利息和逐渐增加财富。\\n\\n3. 投资：通过购买股票、债券、房地产或其他资产来增加财富。投资的选择应该根据个人风险承受能力和财务目标来确定。\\n\\n4. 创业：创业可以为个人带来巨大的财富增长机会，但也伴随着风险。成功的创业者需要有创新精神、市场洞察力和管理能力。\\n\\n5. 教育和技能培训：通过提高自己的技能和知识水平，增加在职场中的竞争力，从而获得更高的薪资和职业机会。\\n\\n6. 多样化收入来源：通过拥有多个收入来源，如兼职工作、投资收益或出租房产，可以减少财务风险，并增加财富积累的机会。\\n\\n7. 遗产规划：制定财务计划，包括编制遗嘱、购买保险和合理规划财产分配，以确保个人财富能够在世代传承。\\n\\n请注意，每个人的财务目标和情况都不同，因此选择适合自己的方法是非常重要的。此外，财富积累需要时间和耐心，没有一种快速致富的捷径。'"
      ]
     },
     "execution_count": 10,
     "metadata": {},
     "output_type": "execute_result"
    }
   ],
   "source": [
    "chain.run(question=\"一般的积累财富的方法有哪些\")"
   ]
  },
  {
   "cell_type": "code",
   "execution_count": null,
   "id": "5b0acf93-ac3e-4b91-bc36-726f483ac251",
   "metadata": {},
   "outputs": [],
   "source": []
  },
  {
   "cell_type": "markdown",
   "id": "c45508d4-05a6-4ac2-a37b-568166d6fec8",
   "metadata": {},
   "source": [
    "## 注意事项"
   ]
  },
  {
   "cell_type": "markdown",
   "id": "11c6318a-f0c7-47a0-afa6-1cb090abe40e",
   "metadata": {},
   "source": [
    "<font color=blue>只有在chain的output_keys只有一个元素时, 才可以使用run方法.</font> <br>\n",
    "<font color=blue>对于只有一个输入变量的情况下, 才直接输入字符串, 否则输入dict类型</font> <br>"
   ]
  },
  {
   "cell_type": "code",
   "execution_count": null,
   "id": "38261469-a445-400c-b644-2f92e43792a1",
   "metadata": {},
   "outputs": [],
   "source": []
  },
  {
   "cell_type": "markdown",
   "id": "0b86e684-1363-4fe6-81ad-f22c7dea9f77",
   "metadata": {},
   "source": [
    "# 源码分析"
   ]
  },
  {
   "cell_type": "markdown",
   "id": "fcbe43c0-f32d-4f7b-948d-bf273f392c0e",
   "metadata": {},
   "source": [
    "![UML](./imgs/UML.png)"
   ]
  },
  {
   "cell_type": "markdown",
   "id": "bb99435a-141e-4457-bde7-d721bafa9c0e",
   "metadata": {},
   "source": [
    "## 一: Chain\n",
    "\n",
    "### 属性"
   ]
  },
  {
   "cell_type": "markdown",
   "id": "f781ad78-cb1c-4182-8058-67b8022ade05",
   "metadata": {},
   "source": [
    "Chain类的几个关键属性:\n",
    "1. memory: **调试及传参用**.可选的`BaseManager`对象,默认为None. Memory类在每个链条开始和结束时被调用. **开始时Memory加载变量**并**在链中传递它们**, 最后,它**保存返回任何返回的变量**<br>\n",
    "2. callbacks: 回调管理器列表, 默认None, 在chain的生命周期中,会始终调用**回调管理器**<br>\n",
    "3. callback_manager: 已弃用, 请使用`callbacks`<br>\n",
    "4. verbose: 默认值`langchain.__init__.verbose=False`<br>\n",
    "5. ~~tags:~~ <br>\n",
    "6. ~~metadata:~~ <br>\n"
   ]
  },
  {
   "cell_type": "markdown",
   "id": "653e57dc-1930-4e69-9523-c6202a6a48ee",
   "metadata": {},
   "source": [
    "### 方法\n",
    "\n",
    "1. stateful : Chain + Memory , 意味着Chain可以在多次运行之间记住并持久化其数据<br>\n",
    "2. Observable:  将Callbacks传递给Chain, 可以执行额外的功能. 例如component调用的主流程之外进行日志记录. <font color=blue>这让你更好地监控和管理链条的运行过程</font><br>\n",
    "3. Composable: 自由的设计和构建复杂的流程"
   ]
  },
  {
   "cell_type": "markdown",
   "id": "cc128cf7-912f-4c86-82f5-68016e8e650b",
   "metadata": {},
   "source": [
    "#### **主要方法**\n",
    "\n",
    "1. `__call__`: 输入字典, 输出字典<br>\n",
    "2. `run`: 这是一个便捷方法, <font color=blue>输入可以是字符串或者字典</font>, 但`output_keys`只有一个, 且返回值是`str`"
   ]
  },
  {
   "cell_type": "markdown",
   "id": "080340a4-08b7-4038-9612-c87eb513862e",
   "metadata": {},
   "source": [
    "#### **抽象方法**\n",
    "\n",
    "1. 输入中预期的键\n",
    "```\n",
    "@property\n",
    "@abstractmethod\n",
    "def input_keys(self) -> List[str]:\n",
    "    \"\"\"Input keys this chain expects.\"\"\"\n",
    "```\n",
    "\n",
    "2. 输出中预期的键\n",
    "```\n",
    "@property\n",
    "@abstractmethod\n",
    "def output_keys(self) -> List[str]:\n",
    "    \"\"\"Output keys this chain expects.\"\"\"\n",
    "```\n",
    "\n",
    "3. `_call`: 此方法<font color=blue>此方法执行链</font>, 私有方法, 不面向用户. 只在`Chain.call`内部调用.<br>\n",
    "  `_acall`, 上述方法的异步\n",
    "\n",
    "4. `_chain_type(self) -> str`: 返回chain的类型名称"
   ]
  },
  {
   "cell_type": "markdown",
   "id": "24b59d1d-69ed-4750-b7c1-1ef5cd3f30ed",
   "metadata": {},
   "source": [
    "#### **非抽象方法**"
   ]
  },
  {
   "cell_type": "markdown",
   "id": "dd98ccc8-3a4d-45fe-b15f-0f7ef6d4b5f1",
   "metadata": {},
   "source": [
    "```python\n",
    "def _validate_inputs(self, inputs: Dict[str, Any]) -> None:\n",
    "       \"\"\"Check that all inputs are present.\"\"\"\n",
    "       missing_keys = set(self.input_keys).difference(inputs)\n",
    "       if missing_keys:\n",
    "           raise ValueError(f\"Missing some input keys: {missing_keys}\")\n",
    "\n",
    "def _validate_outputs(self, outputs: Dict[str, Any]) -> None:\n",
    "    missing_keys = set(self.output_keys).difference(outputs)\n",
    "    if missing_keys:\n",
    "        raise ValueError(f\"Missing some output keys: {missing_keys}\")\n",
    "```\n",
    "\n",
    "<font color=blue>检查传入的 inputs 字典中的所有键是否都存在于 self.input_keys 中。如果有缺失的键，就抛出一个 ValueError 异常，并提示缺少哪些键</font><br>\n",
    "<font color=blue>检查传入的 outputs 字典中的所有键是否都存在于 self.output_keys 中。如果有缺失的键，也会抛出一个 ValueError 异常，并提示缺少哪些键</font>"
   ]
  },
  {
   "cell_type": "code",
   "execution_count": null,
   "id": "6fbefc90-fd27-484a-bd68-2b91f51a96b6",
   "metadata": {},
   "outputs": [],
   "source": []
  },
  {
   "cell_type": "code",
   "execution_count": null,
   "id": "48e07435-8dfd-4f69-bbbe-416dee007d92",
   "metadata": {},
   "outputs": [],
   "source": []
  },
  {
   "cell_type": "markdown",
   "id": "3e0ed4c5-097e-4dea-9a7e-bf2109acd1b8",
   "metadata": {},
   "source": [
    "`prep_inputs` 和 `prep_outputs`: \n",
    "这两个方法<font color=blue>负责验证和准备链的输入和输出</font>包括: **从内存中添加输入、保存运行信息到内存**\n",
    "\n",
    "1. 二者调用了`_validate_outputs`和`_validate_inputs`<br>\n",
    "2. 公共方法, 负责验证, 准备Chain类的输入, 并根据需要从类内部的**运行时存储Memory**获取附加输入.<br>\n",
    "3. 返回字典类型:**包含原始输入以及来自内存Memory的附加输入**"
   ]
  },
  {
   "cell_type": "markdown",
   "id": "d3ad45f9-5bfb-43c6-a735-c5f3a8bdb459",
   "metadata": {
    "tags": []
   },
   "source": [
    "```python\n",
    ">> 责验证和准备 Chain 类的输入\n",
    "def prep_inputs(self, inputs: Union[Dict[str, Any], Any]) -> Dict[str, str]:\n",
    "    \"\"\"Validate and prep inputs.\"\"\"\n",
    "    >> 如果`inputs`不是字典类型, 该方法会假定Chain只接受一个输入参数.\n",
    "    if not isinstance(inputs, dict):\n",
    "        _input_keys = set(self.input_keys)\n",
    "        >> 在此情况下,会检查是否有来自内存Memeory的输入, 有则更新`_input_keys`, \n",
    "        if self.memory is not None:\n",
    "            # If there are multiple input keys, but some get set by memory so that\n",
    "            # only one is not set, we can still figure out which key it is.\n",
    "            _input_keys = _input_keys.difference(self.memory.memory_variables)\n",
    "        >> 然后,如果`_input_keys`的长度大于1, 则抛出ValueError异常. 因为已经默认输入参数为1个了\n",
    "        if len(_input_keys) != 1:\n",
    "            raise ValueError(\n",
    "                f\"A single string input was passed in, but this chain expects \"\n",
    "                f\"multiple inputs ({_input_keys}). When a chain expects \"\n",
    "                f\"multiple inputs, please call it by passing in a dictionary, \"\n",
    "                \"eg `chain({'foo': 1, 'bar': 2})`\"\n",
    "            )\n",
    "        >> 接下来,将唯一的输入数据转化为**字典类型的结构**\n",
    "        inputs = {list(_input_keys)[0]: inputs}\n",
    "    \n",
    "    if self.memory is not None:\n",
    "        >> 如果Chain类具有内存功能, 那么它会从内存中加载输入数据并添加到输入字典中, \n",
    "        >> 以确保所有必要的输入都已准备就绪\n",
    "        external_context = self.memory.load_memory_variables(inputs)\n",
    "        inputs = dict(inputs, **external_context)\n",
    "    >> 然后，调用 _validate_inputs 方法来校验输入参数是否完整\n",
    "    >> 这个方法会检查所有预期的键是否存在于输入字典中，如果有任何缺失的键，则抛出一个错误。\n",
    "    self._validate_inputs(inputs)\n",
    "    >> 最后，返回处理后的输入字典。\n",
    "    return inputs\n",
    "```"
   ]
  },
  {
   "cell_type": "code",
   "execution_count": null,
   "id": "cb7ddc35-8ac6-4cd6-a793-3ca1e0336a79",
   "metadata": {},
   "outputs": [],
   "source": []
  },
  {
   "cell_type": "code",
   "execution_count": null,
   "id": "1db7f3fb-6b2c-4409-ad48-b88262afd607",
   "metadata": {},
   "outputs": [],
   "source": []
  },
  {
   "cell_type": "code",
   "execution_count": null,
   "id": "233ec514-6e11-4c66-a347-9f67d75aa1a1",
   "metadata": {},
   "outputs": [],
   "source": []
  },
  {
   "cell_type": "markdown",
   "id": "15cb3634-ec73-434d-8984-54383f14d772",
   "metadata": {
    "tags": []
   },
   "source": [
    "```python\n",
    ">> 主要职责是验证和准备链的输出数据\n",
    ">> 还会将执行过程中的相关信息保存到类内部的运行时存储（内存）\n",
    "def prep_outputs(\n",
    "    self,\n",
    "    inputs: Dict[str, str],  >> 这应是包含原始输入的字典类型的数据，可能包括从内存加载的附加输入\n",
    "    outputs: Dict[str, str], >> 包含初始链输出的字典，需要被进一步处理和验证\n",
    "    return_only_outputs: bool = False,   >> 指示是否只返回输出数据,  False，则输入也将添加到最终的输出中(key_value)\n",
    ") -> Dict[str, str]:\n",
    "    \"\"\"Validate and prep outputs.\"\"\"\n",
    "    >> 调用 _validate_outputs 方法对 outputs 参数进行校验，确保所有的输出数据都是完整和有效的。\n",
    "    self._validate_outputs(outputs)\n",
    "    if self.memory is not None:\n",
    "        >> 如果 Chain 类具有内存功能, 那么会把 inputs 和 outputs 的上下文信息保存到内存中\n",
    "        >> 这样可以让我们在后续的执行或调试中回溯这次的运行过程。\n",
    "        self.memory.save_context(inputs, outputs)\n",
    "    >> 根据 return_only_outputs 参数决定返回值：如果为 True，那么只返回 outputs；\n",
    "    if return_only_outputs:\n",
    "        return outputs\n",
    "    >> 否则，将输入和输出合并后一起返回。\n",
    "    else:\n",
    "        return {**inputs, **outputs}\n",
    "```\n",
    "    "
   ]
  },
  {
   "cell_type": "code",
   "execution_count": null,
   "id": "32225ad8-9bce-4a8c-8673-e218625f7259",
   "metadata": {},
   "outputs": [],
   "source": []
  },
  {
   "cell_type": "markdown",
   "id": "2800ba03-91d1-4d1f-8629-84ad9e7de1fc",
   "metadata": {},
   "source": [
    "**call**：此方法执行链，并处理一些回调配置和输入/输出处理。"
   ]
  },
  {
   "cell_type": "markdown",
   "id": "6c1180fc-83d0-4dfa-b62b-21b39116810f",
   "metadata": {},
   "source": [
    "```python\n",
    "def __call__(\n",
    "    self,\n",
    "    inputs: Union[Dict[str, Any], Any], >> inputs: 预期为包含输入数据的字典或单一值, 字典的键应与 Chain.input_keys 对应，除非预期的输入将从链的内部存储加载\n",
    "    return_only_outputs: bool = False,  >> True k-v, False v \n",
    "    callbacks: Callbacks = None,        >> 回调函数列表，它们将在此次链运行过程中调用，作为构建时指定的回调函数之外的额外操作\n",
    ") -> Dict[str, Any]:                    >> 一个包含预期输出的字典，其键应存在于 Chain.output_keys 中定义的键集合。\n",
    "    \"\"\"Run the logic of this chain and add to output if desired.\n",
    "\n",
    "    Args:\n",
    "        inputs: Dictionary of inputs, or single input if chain expects\n",
    "            only one param.\n",
    "        return_only_outputs: boolean for whether to return only outputs in the\n",
    "            response. If True, only new keys generated by this chain will be\n",
    "            returned. If False, both input keys and new keys generated by this\n",
    "            chain will be returned. Defaults to False.\n",
    "            \n",
    "        \n",
    "\n",
    "    \"\"\"\n",
    "    >> 将输入数据进行预处理，以确保它们满足链的实际运行需求。\n",
    "    inputs = self.prep_inputs(inputs)\n",
    "    >> 配置 回调管理器 ,以便在链的运行过程中执行特定的操作。\n",
    "    callback_manager = CallbackManager.configure(\n",
    "        callbacks, self.callbacks, self.verbose\n",
    "    )\n",
    "    new_arg_supported = inspect.signature(self._call).parameters.get(\"run_manager\")\n",
    "    >> 使用已配置的 回调管理器 启动链的运行。\n",
    "    run_manager = callback_manager.on_chain_start(\n",
    "        {\"name\": self.__class__.__name__},\n",
    "        inputs,\n",
    "    )\n",
    "    try:\n",
    "        >> 尝试执行 _call 方法（这是在各个子类中根据具体需求定义的方法）以实现链的实际操作\n",
    "        >> 如果在运行过程中出现任何异常，将由   回调管理器   捕获并处理。\n",
    "        outputs = (\n",
    "            self._call(inputs, run_manager=run_manager)\n",
    "            if new_arg_supported\n",
    "            else self._call(inputs)\n",
    "        )\n",
    "    except (KeyboardInterrupt, Exception) as e:\n",
    "        >> 如果在运行过程中出现任何异常，将由   回调管理器   捕获并处理。\n",
    "        run_manager.on_chain_error(e)\n",
    "        raise e\n",
    "    >> 在链运行结束后，通过回调管理器处理关闭事件，例如清理资源，记录日志等。\n",
    "    run_manager.on_chain_end(outputs)\n",
    "    >> 对链运行生成的输出进行预处理，以满足返回格式的要求\n",
    "    >> 返回值: 一个包含预期输出的字典，其键应存在于 Chain.output_keys 中定义的键集合。\n",
    "    return self.prep_outputs(inputs, outputs, return_only_outputs)\n",
    "```"
   ]
  },
  {
   "cell_type": "markdown",
   "id": "267177ad-4976-4aca-bd66-0a490d8b99e3",
   "metadata": {},
   "source": [
    "![](./imgs/call_method.png)"
   ]
  },
  {
   "cell_type": "markdown",
   "id": "3c87a4db-e39d-4771-b278-136935949375",
   "metadata": {},
   "source": [
    "![](./imgs/call_time_seq.png)"
   ]
  },
  {
   "cell_type": "code",
   "execution_count": null,
   "id": "b954561f-09cb-49ba-944c-0273baf25601",
   "metadata": {},
   "outputs": [],
   "source": []
  },
  {
   "cell_type": "code",
   "execution_count": null,
   "id": "e5ca42d9-e663-4a19-8e0d-a95234198a08",
   "metadata": {},
   "outputs": [],
   "source": []
  },
  {
   "cell_type": "code",
   "execution_count": null,
   "id": "96621648-bf6f-4aaa-a4b9-d367df00c864",
   "metadata": {},
   "outputs": [],
   "source": []
  },
  {
   "cell_type": "code",
   "execution_count": null,
   "id": "28e83f6a-4c2a-412c-ac98-081fd957bbac",
   "metadata": {},
   "outputs": [],
   "source": []
  },
  {
   "cell_type": "code",
   "execution_count": null,
   "id": "376fdd64-cd03-4077-a17c-51d34f3976cb",
   "metadata": {},
   "outputs": [],
   "source": []
  },
  {
   "cell_type": "markdown",
   "id": "e52ab378-9f53-4a32-996d-032fa9cef043",
   "metadata": {},
   "source": [
    "**apply**: 该方法在列表中的所有输入上调用链"
   ]
  },
  {
   "cell_type": "markdown",
   "id": "0041b4dd-f10b-48cc-8ce4-0f8847aab43b",
   "metadata": {},
   "source": [
    "**run**：对<font color=blue>单字符串输出执行链的便利方法</font>, 不同于 Chain.call 的是，它只适用于返回单个字符串输出的链。"
   ]
  },
  {
   "cell_type": "code",
   "execution_count": null,
   "id": "0afbf3e9-4744-460a-a1cc-4086b0fb5a68",
   "metadata": {},
   "outputs": [],
   "source": []
  },
  {
   "cell_type": "code",
   "execution_count": null,
   "id": "98d59c3d-c913-4197-a201-b7d19b9d1458",
   "metadata": {},
   "outputs": [],
   "source": []
  },
  {
   "cell_type": "markdown",
   "id": "cf13a5cc-5f4a-481a-a003-4025ae659004",
   "metadata": {},
   "source": [
    "## 二: LLMChain"
   ]
  },
  {
   "cell_type": "markdown",
   "id": "1ec0a8f1-f6fd-48a0-99d2-2aee43a9eb06",
   "metadata": {},
   "source": [
    "1. **语言学习模型（LLM）查询的类**<br>\n",
    "2. **构建复杂的自然语言处理应用**: 如对话系统、问答系统等"
   ]
  },
  {
   "cell_type": "markdown",
   "id": "5a4115f9-efaf-49ff-b58f-a15f115ab624",
   "metadata": {},
   "source": [
    "### 属性\n",
    "\n",
    "1. prompt: BasePromptTemplate: 该属性存储一个对象，负责根据给定的输入生成相应的提示。\n",
    "2. llm: BaseLanguageModel：这是实际执行查询的语言模型对象。\n",
    "3. output_key: str = \"text\": 字符串，定义了**输出字典**中结果的键，默认为<font color=blue>\"text\"</font>。\n",
    "\n",
    "### 方法\n",
    "\n",
    "1. `_call()`: 该方法调用 generate 方法，并从其响应中创建输出\n",
    "\n",
    "![](./imgs/LLMChain_call.png)\n",
    "\n",
    "```python\n",
    "def _call(\n",
    "    self,\n",
    "    inputs: Dict[str, Any],\n",
    "    run_manager: Optional[CallbackManagerForChainRun] = None,\n",
    ") -> Dict[str, str]:\n",
    "    >> 1. _call方法首先调用generate方法\n",
    "    response = self.generate([inputs], run_manager=run_manager)\n",
    "    >> 4. 最后，_call使用create_outputs创建输出，返回输出列表的第一个元素。\n",
    "    return self.create_outputs(response)[0]\n",
    "\n",
    "\n",
    "def generate(\n",
    "    self,\n",
    "    input_list: List[Dict[str, Any]],\n",
    "    run_manager: Optional[CallbackManagerForChainRun] = None,\n",
    ") -> LLMResult:\n",
    "    \"\"\"Generate LLM result from inputs.\"\"\"\n",
    "    >> 2. 然后在generate方法中，它会调用prep_prompts来准备提示\n",
    "    prompts, stop = self.prep_prompts(input_list, run_manager=run_manager)\n",
    "    >> 3. 然后使用llm.generate_prompt生成结果\n",
    "    return self.llm.generate_prompt(\n",
    "        prompts, stop, callbacks=run_manager.get_child() if run_manager else None\n",
    "    )\n",
    "```\n"
   ]
  },
  {
   "cell_type": "markdown",
   "id": "06f54592-cc82-4676-ac2a-e9e406600fc3",
   "metadata": {},
   "source": [
    "2. `apply()`: 此方法使用语言学习模型的 generate 方法产生结果，以实现高效运行。\n",
    "3. `generate()`: 该方法根据输入生成语言学习模型的结果\n",
    "4. `prep_prompts()`: 这个函数负责根据输入准备相应的提示。\n",
    "5. `create_outputs()`: 从模型响应中创建并格式化输出\n",
    "6. `from_string()` <font color=blue>类方法</font> 接受一个语言学习模型和一个模板字符串作为参数，然后返回一个配置好的 LLMChain 实例。"
   ]
  },
  {
   "cell_type": "markdown",
   "id": "a8976fc5-8efc-4292-842e-ee67469f8f30",
   "metadata": {},
   "source": [
    "### 对比Chain的改动"
   ]
  },
  {
   "cell_type": "markdown",
   "id": "45bf5bb4-c5a5-45bf-a20b-867a55e9a8f6",
   "metadata": {},
   "source": [
    "1. 新增了一个**llm**属性,这个是**Chain**没有的\n",
    "2. input_keys 和 output_keys: 这两个属性是 LLMChain 从 Chain 类中继承并重写的\n",
    "-----\n",
    "```python\n",
    "@property\n",
    "@abstractmethod\n",
    "def input_keys(self) -> List[str]:\n",
    "    \"\"\"Input keys this chain expects.\"\"\"\n",
    "\n",
    "@property\n",
    "@abstractmethod\n",
    "def output_keys(self) -> List[str]:\n",
    "    \"\"\"Output keys this chain expects.\"\"\"\n",
    "```\n",
    "---"
   ]
  },
  {
   "cell_type": "markdown",
   "id": "c352d19e-22f5-427d-a617-a79b5386d7a3",
   "metadata": {},
   "source": [
    "```python\n",
    "@property\n",
    "def input_keys(self) -> List[str]:\n",
    "    \"\"\"Will be whatever keys the prompt expects.\n",
    "\n",
    "    :meta private:\n",
    "    \"\"\"\n",
    "    >> 返回self.prompt.input_variables的值\n",
    "    return self.prompt.input_variables\n",
    "\n",
    "@property\n",
    "def output_keys(self) -> List[str]:\n",
    "    \"\"\"Will always return text key.\n",
    "\n",
    "    :meta private:\n",
    "    \"\"\"\n",
    "    >> 返回最终的输出结果\n",
    "    return [self.output_key]\n",
    "```"
   ]
  },
  {
   "cell_type": "markdown",
   "id": "6bb6a4d9-d350-442f-bfd7-ae879220e91c",
   "metadata": {},
   "source": [
    "3. `_call()`: 这是从 Chain 类中覆盖的方法，它是执行链对象的核心接口。在 LLMChain 中，该方法被定制化以适应特定的语言学习模型调用方式。\n",
    "4. `generate()`: <font color=blue>新增的方法</font>: 它负责根据给定的输入数据生成语言学习模型的结果。"
   ]
  },
  {
   "cell_type": "markdown",
   "id": "ae77d807-5152-44b3-8846-1b77ad68e2d2",
   "metadata": {},
   "source": [
    "5. `prep_prompts()`: <font color=blue>新增的方法</font>: 用于根据输入准备相应的提示。\n",
    "\n",
    "> * 这个函数的主要目的是根据输入列表创建语言模型的提示列表 <br>\n",
    "> * 同时检查所有输入中的\"stop\"值是否相同。\n",
    "\n",
    "```python\n",
    "def prep_prompts(\n",
    "    self,\n",
    "    input_list: List[Dict[str, Any]],\n",
    "    run_manager: Optional[CallbackManagerForChainRun] = None,\n",
    ") -> Tuple[List[PromptValue], Optional[List[str]]]:\n",
    "    \"\"\"Prepare prompts from inputs.\"\"\"\n",
    "    stop = None\n",
    "    if \"stop\" in input_list[0]:\n",
    "        stop = input_list[0][\"stop\"]\n",
    "    prompts = []\n",
    "    for inputs in input_list:\n",
    "        selected_inputs = {k: inputs[k] for k in self.prompt.input_variables}\n",
    "        prompt = self.prompt.format_prompt(**selected_inputs)\n",
    "        _colored_text = get_colored_text(prompt.to_string(), \"green\")\n",
    "        _text = \"Prompt after formatting:\\n\" + _colored_text\n",
    "        if run_manager:\n",
    "            run_manager.on_text(_text, end=\"\\n\", verbose=self.verbose)\n",
    "        if \"stop\" in inputs and inputs[\"stop\"] != stop:\n",
    "            raise ValueError(\n",
    "                \"If `stop` is present in any inputs, should be present in all.\"\n",
    "            )\n",
    "        prompts.append(prompt)\n",
    "    return prompts, stop\n",
    "```"
   ]
  },
  {
   "cell_type": "markdown",
   "id": "8c2434fe-b232-4186-9aca-fcccdafb433a",
   "metadata": {},
   "source": [
    "6. `create_outputs()`<font color=blue>新增的方法</font>: 负责根据模型的响应创建格式化的输出。\n",
    "\n",
    "> * 一个转换函数，其主要目的是将语言学习模型（LLM）生成的结果 (LLMResult) 格式化为期望的输出格式。\n",
    "\n",
    "```python\n",
    "def create_outputs(self, response: LLMResult) -> List[Dict[str, str]]:\n",
    "    \"\"\"Create outputs from response.\"\"\"\n",
    "    return [\n",
    "        # Get the text of the top generated string.\n",
    "        {self.output_key: generation[0].text}\n",
    "        for generation in response.generations\n",
    "    ]\n",
    "```\n",
    "\n",
    "\n"
   ]
  },
  {
   "cell_type": "markdown",
   "id": "4356f69f-a1cf-40bd-b2cd-e14522dca310",
   "metadata": {},
   "source": [
    "8. `from_string()`: 这是一个类方法，设计为外部调用接口。它接受一个语言学习模型和一个模板字符串作为参数，然后返回一个配置好的 LLMChain 实例。"
   ]
  },
  {
   "cell_type": "code",
   "execution_count": null,
   "id": "8227e521-a27b-4c82-b37d-36938ba2fafd",
   "metadata": {},
   "outputs": [],
   "source": []
  },
  {
   "cell_type": "code",
   "execution_count": null,
   "id": "7a1ed9b8-1648-452f-b607-a5b041408d91",
   "metadata": {},
   "outputs": [],
   "source": []
  },
  {
   "cell_type": "code",
   "execution_count": null,
   "id": "f9e602d0-f3f8-460c-8e57-637252eaef76",
   "metadata": {},
   "outputs": [],
   "source": []
  },
  {
   "cell_type": "code",
   "execution_count": null,
   "id": "bf0b48dd-36b7-4dbf-bbf5-a1b89e5ea0dd",
   "metadata": {},
   "outputs": [],
   "source": []
  },
  {
   "cell_type": "code",
   "execution_count": null,
   "id": "1bfd81cf-5de8-4e33-9986-005359c44c62",
   "metadata": {},
   "outputs": [],
   "source": []
  },
  {
   "cell_type": "code",
   "execution_count": null,
   "id": "b7cd0ae3-e888-4deb-b684-1883e0feb17c",
   "metadata": {},
   "outputs": [],
   "source": []
  },
  {
   "cell_type": "code",
   "execution_count": null,
   "id": "7442ff5f-eafe-4df5-bce0-c73b7636bc49",
   "metadata": {},
   "outputs": [],
   "source": []
  },
  {
   "cell_type": "code",
   "execution_count": null,
   "id": "b2aa4244-45ca-4088-b337-d3ee25604024",
   "metadata": {},
   "outputs": [],
   "source": []
  },
  {
   "cell_type": "code",
   "execution_count": null,
   "id": "3a9d1e23-0c93-45fd-912c-15f64cf9a2e8",
   "metadata": {},
   "outputs": [],
   "source": []
  },
  {
   "cell_type": "code",
   "execution_count": null,
   "id": "8c919224-798d-4729-ba7e-345fe423473c",
   "metadata": {},
   "outputs": [],
   "source": []
  },
  {
   "cell_type": "code",
   "execution_count": null,
   "id": "6b22d47f-9bdf-4a47-aef8-bfab23772bcd",
   "metadata": {},
   "outputs": [],
   "source": []
  },
  {
   "cell_type": "code",
   "execution_count": null,
   "id": "c6f1b532-3c88-4eb0-aaab-7218a6b890b2",
   "metadata": {},
   "outputs": [],
   "source": []
  },
  {
   "cell_type": "code",
   "execution_count": null,
   "id": "d2d26987-7d87-46ee-a5cc-d8b486b5b393",
   "metadata": {},
   "outputs": [],
   "source": []
  },
  {
   "cell_type": "code",
   "execution_count": null,
   "id": "0d13b541-92e5-4421-96ea-b741a65f61cd",
   "metadata": {},
   "outputs": [],
   "source": []
  }
 ],
 "metadata": {
  "environment": {
   "kernel": "conda-env-preventloss-py",
   "name": "pytorch-gpu.1-13.m105",
   "type": "gcloud",
   "uri": "gcr.io/deeplearning-platform-release/pytorch-gpu.1-13:m105"
  },
  "kernelspec": {
   "display_name": "chatglm26b",
   "language": "python",
   "name": "chatglm26b"
  },
  "language_info": {
   "codemirror_mode": {
    "name": "ipython",
    "version": 3
   },
   "file_extension": ".py",
   "mimetype": "text/x-python",
   "name": "python",
   "nbconvert_exporter": "python",
   "pygments_lexer": "ipython3",
   "version": "3.9.6"
  }
 },
 "nbformat": 4,
 "nbformat_minor": 5
}
