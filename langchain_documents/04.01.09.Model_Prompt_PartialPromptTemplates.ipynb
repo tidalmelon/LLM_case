{
 "cells": [
  {
   "cell_type": "markdown",
   "id": "5e851c63-fbb9-4f99-a92b-26dce2e719a7",
   "metadata": {
    "tags": []
   },
   "source": [
    "<img src=./imgs/model_io.jpg width=35% />"
   ]
  },
  {
   "cell_type": "code",
   "execution_count": null,
   "id": "e2806292-4cf0-40eb-9f66-941d282dfab9",
   "metadata": {},
   "outputs": [],
   "source": []
  },
  {
   "cell_type": "code",
   "execution_count": null,
   "id": "700f1574-f119-4e8d-bea8-96c9c06b9516",
   "metadata": {},
   "outputs": [],
   "source": []
  },
  {
   "cell_type": "markdown",
   "id": "8286a6e3-6aaa-47d6-b56b-3623fd2194e4",
   "metadata": {},
   "source": [
    "[raw documents](https://python.langchain.com/docs/modules/model_io/prompts/prompt_templates/partial)"
   ]
  },
  {
   "cell_type": "markdown",
   "id": "399c63a7-9375-4a2b-a11f-ba8ef914b934",
   "metadata": {},
   "source": [
    "## 部分格式化 Partial Formatting\n",
    "**格式化prompt 模板的时候,一部分一部分填写**\n",
    "\n",
    "1. Partial formatting with string values.<br>\n",
    "2. Partial formatting with functions that return string values."
   ]
  },
  {
   "cell_type": "code",
   "execution_count": null,
   "id": "9f90362f-8aca-422f-8367-f6990a44a424",
   "metadata": {},
   "outputs": [],
   "source": []
  },
  {
   "cell_type": "code",
   "execution_count": null,
   "id": "7ea571c1-d4a5-4e27-8a19-98275858b29e",
   "metadata": {},
   "outputs": [],
   "source": []
  },
  {
   "cell_type": "code",
   "execution_count": null,
   "id": "221190bd-3814-4cf5-9490-605585d02e1b",
   "metadata": {},
   "outputs": [],
   "source": []
  },
  {
   "cell_type": "code",
   "execution_count": null,
   "id": "66cfe2a7-b5a1-4a8e-ac44-355726973a88",
   "metadata": {},
   "outputs": [],
   "source": []
  },
  {
   "cell_type": "markdown",
   "id": "976959af-8244-422f-a1d7-2320e961bdac",
   "metadata": {},
   "source": [
    "### Partial With Strings"
   ]
  },
  {
   "cell_type": "code",
   "execution_count": 1,
   "id": "e7e92814-c0a8-4ca7-bb36-7a3a3477dae4",
   "metadata": {},
   "outputs": [],
   "source": [
    "from langchain.prompts import PromptTemplate"
   ]
  },
  {
   "cell_type": "code",
   "execution_count": null,
   "id": "36b9300c-dc5c-4e11-9661-e1d83b2003d2",
   "metadata": {},
   "outputs": [],
   "source": []
  },
  {
   "cell_type": "markdown",
   "id": "e255d383-9216-47db-a331-14d0c74309c1",
   "metadata": {},
   "source": [
    "> 先部分实例化"
   ]
  },
  {
   "cell_type": "code",
   "execution_count": 2,
   "id": "994cde32-5cfb-4402-aaf9-b469b2848857",
   "metadata": {},
   "outputs": [],
   "source": [
    "prompt = PromptTemplate(template=\"{foo}{bar}\", input_variables=[\"foo\", \"bar\"])"
   ]
  },
  {
   "cell_type": "code",
   "execution_count": null,
   "id": "20acca41-622d-4f44-b157-ccb991dcd69a",
   "metadata": {},
   "outputs": [],
   "source": []
  },
  {
   "cell_type": "markdown",
   "id": "c295c0d8-5fe5-4818-b2a4-aa6b4049883c",
   "metadata": {},
   "source": [
    "**you can partial the prompt template with the foo value**"
   ]
  },
  {
   "cell_type": "code",
   "execution_count": null,
   "id": "89d6bcc9-79b5-4f2a-bad4-a54f2506bac7",
   "metadata": {},
   "outputs": [],
   "source": []
  },
  {
   "cell_type": "markdown",
   "id": "6bdcbb6c-894c-4bbd-897d-1795aaf04abd",
   "metadata": {},
   "source": [
    "#### 示例画第一部分"
   ]
  },
  {
   "cell_type": "code",
   "execution_count": 3,
   "id": "9884d685-6e38-4550-b0fa-c23afc6fb680",
   "metadata": {},
   "outputs": [],
   "source": [
    "partial_prompt = prompt.partial(foo=\"FOO\");"
   ]
  },
  {
   "cell_type": "markdown",
   "id": "ae9e068c-b3c7-432a-b165-a8fed7fb5f2f",
   "metadata": {},
   "source": [
    "#### 实例化第二部分"
   ]
  },
  {
   "cell_type": "code",
   "execution_count": 4,
   "id": "4b608bc0-e431-4646-8f15-afe973e46c01",
   "metadata": {},
   "outputs": [
    {
     "name": "stdout",
     "output_type": "stream",
     "text": [
      "FOObaz\n"
     ]
    }
   ],
   "source": [
    "print(partial_prompt.format(bar=\"baz\"))"
   ]
  },
  {
   "cell_type": "code",
   "execution_count": null,
   "id": "1b787dc5-7e33-4a4a-aa5d-cbc00c193649",
   "metadata": {},
   "outputs": [],
   "source": []
  },
  {
   "cell_type": "markdown",
   "id": "16a08322-a478-43dc-a87b-44f2cabc34aa",
   "metadata": {},
   "source": [
    "> You can also just initialize the prompt with the partialed variables 实例化带partial_variables的提示模版\n",
    "\n",
    "> 你也可以在实例化的时候, 部分 格式化Prompt"
   ]
  },
  {
   "cell_type": "code",
   "execution_count": 5,
   "id": "d2a213dd-296c-4a53-9b19-a8d4734ec382",
   "metadata": {},
   "outputs": [],
   "source": [
    "prompt = PromptTemplate(template=\"{foo}{bar}\", input_variables=[\"bar\"], partial_variables={\"foo\": \"FOO\"})"
   ]
  },
  {
   "cell_type": "code",
   "execution_count": 6,
   "id": "81a4f0cc-e008-45a2-8434-e008ace73310",
   "metadata": {},
   "outputs": [
    {
     "name": "stdout",
     "output_type": "stream",
     "text": [
      "FOObaz\n"
     ]
    }
   ],
   "source": [
    "print(prompt.format(bar=\"baz\"))"
   ]
  },
  {
   "cell_type": "code",
   "execution_count": null,
   "id": "5ee4f797-5916-4ed3-a803-152d1ec6a197",
   "metadata": {},
   "outputs": [],
   "source": []
  },
  {
   "cell_type": "code",
   "execution_count": null,
   "id": "1e6f8fb1-5812-4ca5-b1c9-56359c5888c2",
   "metadata": {},
   "outputs": [],
   "source": []
  },
  {
   "cell_type": "markdown",
   "id": "f88743e3-7c5a-418a-97bf-85f4c2b5fca8",
   "metadata": {},
   "source": [
    "## Partial With Functions"
   ]
  },
  {
   "cell_type": "code",
   "execution_count": null,
   "id": "e98616aa-3912-4669-bee5-6e6c0fa7eba7",
   "metadata": {},
   "outputs": [],
   "source": []
  },
  {
   "cell_type": "code",
   "execution_count": 19,
   "id": "bf458b4d-7800-4e6d-a0ea-1c726d2ed286",
   "metadata": {},
   "outputs": [],
   "source": [
    "from datetime import datetime\n",
    "\n",
    "def _get_datetime():\n",
    "    now = datetime.now()\n",
    "    return now.strftime(\"%m/%d/%Y, %H:%M:%S\")\n",
    "\n"
   ]
  },
  {
   "cell_type": "code",
   "execution_count": null,
   "id": "652b50a3-c273-443f-8987-6b092dc923e5",
   "metadata": {},
   "outputs": [],
   "source": []
  },
  {
   "cell_type": "code",
   "execution_count": 20,
   "id": "625f1318-7829-4dc9-a87d-79294d7e9c7d",
   "metadata": {},
   "outputs": [],
   "source": [
    "prompt = PromptTemplate(\n",
    "    template=\"Tell me a {adjective} joke about the day {date}\", \n",
    "    input_variables=[\"adjective\", \"date\"]\n",
    ")"
   ]
  },
  {
   "cell_type": "code",
   "execution_count": 21,
   "id": "323814a7-77d7-4c0a-9fe6-9763b0bc7f0d",
   "metadata": {},
   "outputs": [],
   "source": [
    "partial_prompt = prompt.partial(date=_get_datetime)"
   ]
  },
  {
   "cell_type": "code",
   "execution_count": null,
   "id": "9162dfca-81ce-4e10-8513-e38ecccaecf0",
   "metadata": {},
   "outputs": [],
   "source": []
  },
  {
   "cell_type": "code",
   "execution_count": 22,
   "id": "4f554a2f-9f44-4bc3-b112-459750642afa",
   "metadata": {},
   "outputs": [
    {
     "name": "stdout",
     "output_type": "stream",
     "text": [
      "Tell me a funny joke about the day 08/19/2023, 19:18:49\n"
     ]
    }
   ],
   "source": [
    "print(partial_prompt.format(adjective=\"funny\"))"
   ]
  },
  {
   "cell_type": "code",
   "execution_count": null,
   "id": "613d2d44-2c8f-4412-a588-ce741599cb0b",
   "metadata": {},
   "outputs": [],
   "source": []
  },
  {
   "cell_type": "code",
   "execution_count": 23,
   "id": "21e7198c-c7b4-4912-b0c7-cf327958db4a",
   "metadata": {},
   "outputs": [],
   "source": [
    "prompt = PromptTemplate(\n",
    "    template=\"Tell me a {adjective} joke about the day {date}\", \n",
    "    input_variables=[\"adjective\"],\n",
    "    partial_variables={\"date\": _get_datetime}\n",
    ")"
   ]
  },
  {
   "cell_type": "code",
   "execution_count": 24,
   "id": "e815f30e-aaf6-4bdb-b2c7-df828c5f4e51",
   "metadata": {},
   "outputs": [
    {
     "name": "stdout",
     "output_type": "stream",
     "text": [
      "Tell me a funny joke about the day 08/19/2023, 19:19:29\n"
     ]
    }
   ],
   "source": [
    "print(prompt.format(adjective=\"funny\"))"
   ]
  },
  {
   "cell_type": "code",
   "execution_count": null,
   "id": "9e5d2c81-acb1-4272-b3f2-d93a791fab17",
   "metadata": {},
   "outputs": [],
   "source": []
  },
  {
   "cell_type": "code",
   "execution_count": null,
   "id": "74a21c9f-640e-4971-9aaa-3fa2c2b21a42",
   "metadata": {},
   "outputs": [],
   "source": []
  },
  {
   "cell_type": "code",
   "execution_count": null,
   "id": "527db63e-344f-4308-86f3-58233694ddf1",
   "metadata": {},
   "outputs": [],
   "source": []
  },
  {
   "cell_type": "code",
   "execution_count": null,
   "id": "3205a68a-8ab6-44ad-aa80-64f94e4bc6b2",
   "metadata": {},
   "outputs": [],
   "source": []
  },
  {
   "cell_type": "code",
   "execution_count": null,
   "id": "3fa05b3e-8ca2-44fe-9b07-e76eb58c3f74",
   "metadata": {},
   "outputs": [],
   "source": []
  },
  {
   "cell_type": "code",
   "execution_count": null,
   "id": "b052aeb2-5736-45fa-9b9c-0c521581baf8",
   "metadata": {},
   "outputs": [],
   "source": []
  }
 ],
 "metadata": {
  "environment": {
   "kernel": "conda-env-preventloss-py",
   "name": "pytorch-gpu.1-13.m105",
   "type": "gcloud",
   "uri": "gcr.io/deeplearning-platform-release/pytorch-gpu.1-13:m105"
  },
  "kernelspec": {
   "display_name": "Python [conda env:preventloss]",
   "language": "python",
   "name": "conda-env-preventloss-py"
  },
  "language_info": {
   "codemirror_mode": {
    "name": "ipython",
    "version": 3
   },
   "file_extension": ".py",
   "mimetype": "text/x-python",
   "name": "python",
   "nbconvert_exporter": "python",
   "pygments_lexer": "ipython3",
   "version": "3.9.16"
  }
 },
 "nbformat": 4,
 "nbformat_minor": 5
}
