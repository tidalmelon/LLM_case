{
 "cells": [
  {
   "cell_type": "markdown",
   "id": "5e851c63-fbb9-4f99-a92b-26dce2e719a7",
   "metadata": {
    "tags": []
   },
   "source": [
    "<img src=./imgs/model_io.jpg width=35% />"
   ]
  },
  {
   "cell_type": "markdown",
   "id": "47454cdf-1217-4fbf-a015-5c981b69e2f2",
   "metadata": {
    "tags": []
   },
   "source": [
    "[langchain documents](https://python.langchain.com/docs/modules/model_io/models/chat/llm_chain)"
   ]
  },
  {
   "cell_type": "code",
   "execution_count": null,
   "id": "e2806292-4cf0-40eb-9f66-941d282dfab9",
   "metadata": {},
   "outputs": [],
   "source": []
  },
  {
   "cell_type": "markdown",
   "id": "07b77b43-6e8c-4c03-b08f-ad9c273aaa96",
   "metadata": {},
   "source": [
    "[LangChain-Tutorials](https://github.com/sugarforever/LangChain-Tutorials)"
   ]
  },
  {
   "cell_type": "code",
   "execution_count": null,
   "id": "700f1574-f119-4e8d-bea8-96c9c06b9516",
   "metadata": {},
   "outputs": [],
   "source": []
  },
  {
   "cell_type": "code",
   "execution_count": 1,
   "id": "06346c2d-36d3-47dd-992b-404d25663045",
   "metadata": {
    "tags": []
   },
   "outputs": [],
   "source": [
    "import os\n",
    "os.environ['OPENAI_API_KEY'] = 'sk-************'"
   ]
  },
  {
   "cell_type": "code",
   "execution_count": null,
   "id": "83793f12-324e-4bf7-ab92-5b9f604e9e71",
   "metadata": {},
   "outputs": [],
   "source": []
  },
  {
   "cell_type": "markdown",
   "id": "9ec9a8af-ad1b-448b-ac47-7d4661dd4590",
   "metadata": {},
   "source": [
    "## n-gram overlap"
   ]
  },
  {
   "cell_type": "markdown",
   "id": "b6f4e0f9-2c48-4a39-a755-93f7fd3c73df",
   "metadata": {},
   "source": [
    "> 根据相似度从待选examples中选择example构建prompt"
   ]
  },
  {
   "cell_type": "code",
   "execution_count": null,
   "id": "b066861d-3f1b-4f07-b71a-7549a5512ee6",
   "metadata": {},
   "outputs": [],
   "source": []
  },
  {
   "cell_type": "markdown",
   "id": "7ad4e841-3d5a-47a3-a661-595dcd159135",
   "metadata": {},
   "source": [
    "假定给予两个词:<br>\n",
    "november<br>\n",
    "december\n",
    "---\n",
    "则unibram是:<br>\n",
    "n o v e m b e r<br>\n",
    "d e c e m b e r<br>\n",
    "---\n",
    "bigram是: <br>\n",
    "no ov ve em mb be er<br>\n",
    "de ec ce em mb be er<br>\n",
    "---\n",
    "trigram是: <br>\n",
    "nov ove vem emb mbe ber<br>\n",
    "dec ece cem emb mbe ber<br>"
   ]
  },
  {
   "cell_type": "code",
   "execution_count": null,
   "id": "31c7e0a0-8f14-4fbe-9c8e-2a56a653d74f",
   "metadata": {},
   "outputs": [],
   "source": []
  },
  {
   "cell_type": "code",
   "execution_count": 1,
   "id": "d9f2ebf3-8283-40f4-b052-530397d6b082",
   "metadata": {
    "tags": []
   },
   "outputs": [],
   "source": [
    "november = 'nov ove vem emb mbe ber'.split(' ')\n",
    "december = 'dec ece cem emb mbe ber'.split(' ')"
   ]
  },
  {
   "cell_type": "code",
   "execution_count": null,
   "id": "deafbf5d-c554-4ffe-bf0b-a10ea0196c0f",
   "metadata": {},
   "outputs": [],
   "source": []
  },
  {
   "cell_type": "code",
   "execution_count": 5,
   "id": "59fef7ad-84f0-4678-a48f-58dfac4f94e3",
   "metadata": {
    "tags": []
   },
   "outputs": [
    {
     "data": {
      "text/plain": [
       "{'ber', 'cem', 'dec', 'ece', 'emb', 'mbe', 'nov', 'ove', 'vem'}"
      ]
     },
     "execution_count": 5,
     "metadata": {},
     "output_type": "execute_result"
    }
   ],
   "source": [
    "cup = set(november) |  set(december)\n",
    "cup"
   ]
  },
  {
   "cell_type": "code",
   "execution_count": null,
   "id": "8843f650-b8c1-4eef-8e95-30385247dc0b",
   "metadata": {},
   "outputs": [],
   "source": []
  },
  {
   "cell_type": "code",
   "execution_count": 6,
   "id": "f0ccf67c-a24a-4888-9321-0b2622541267",
   "metadata": {
    "tags": []
   },
   "outputs": [
    {
     "data": {
      "text/plain": [
       "9"
      ]
     },
     "execution_count": 6,
     "metadata": {},
     "output_type": "execute_result"
    }
   ],
   "source": [
    "cup.__len__()"
   ]
  },
  {
   "cell_type": "code",
   "execution_count": null,
   "id": "edcda5c4-3b14-4f45-bb70-78a059cfc15a",
   "metadata": {},
   "outputs": [],
   "source": []
  },
  {
   "cell_type": "code",
   "execution_count": 7,
   "id": "2b7abc24-112e-4c3a-93f5-80100ab18c27",
   "metadata": {
    "tags": []
   },
   "outputs": [
    {
     "data": {
      "text/plain": [
       "{'ber', 'emb', 'mbe'}"
      ]
     },
     "execution_count": 7,
     "metadata": {},
     "output_type": "execute_result"
    }
   ],
   "source": [
    "cap = set(november) &  set(december)\n",
    "cap"
   ]
  },
  {
   "cell_type": "code",
   "execution_count": 8,
   "id": "2c099c7b-d125-4fdc-b1b9-5182f04a511b",
   "metadata": {
    "tags": []
   },
   "outputs": [
    {
     "data": {
      "text/plain": [
       "3"
      ]
     },
     "execution_count": 8,
     "metadata": {},
     "output_type": "execute_result"
    }
   ],
   "source": [
    "cap.__len__()"
   ]
  },
  {
   "cell_type": "code",
   "execution_count": null,
   "id": "e1389908-293a-4686-9ce1-dc5a1a0847a1",
   "metadata": {},
   "outputs": [],
   "source": []
  },
  {
   "cell_type": "code",
   "execution_count": null,
   "id": "8295dc83-e80d-4cbd-8186-c013c0875ba1",
   "metadata": {},
   "outputs": [],
   "source": []
  },
  {
   "cell_type": "markdown",
   "id": "09311da9-4b98-4378-a4d2-a63d1429d03f",
   "metadata": {},
   "source": [
    "如果在计算两个序列之间的overlap的时候，比如对于**trigram**而言:\n",
    "\n",
    "$X \\cup Y = 9$\n",
    "\n",
    "$X \\cap Y = 3$\n"
   ]
  },
  {
   "cell_type": "code",
   "execution_count": null,
   "id": "4319e8f0-6014-466c-a659-b8b7581d10f2",
   "metadata": {},
   "outputs": [],
   "source": []
  },
  {
   "cell_type": "code",
   "execution_count": null,
   "id": "3673bff6-d30a-4b55-a120-a8533b6eb22e",
   "metadata": {},
   "outputs": [],
   "source": []
  },
  {
   "cell_type": "code",
   "execution_count": 1,
   "id": "12d3b7bd-45a4-49ed-adb4-2e05137a738e",
   "metadata": {
    "tags": []
   },
   "outputs": [],
   "source": [
    "from langchain.prompts import PromptTemplate, FewShotPromptTemplate\n",
    "from langchain.prompts.example_selector.ngram_overlap import NGramOverlapExampleSelector"
   ]
  },
  {
   "cell_type": "code",
   "execution_count": 2,
   "id": "1e47b3df-f591-44c9-8aa0-766605b55793",
   "metadata": {
    "tags": []
   },
   "outputs": [],
   "source": [
    "example_prompt = PromptTemplate(\n",
    "    input_variables=['input', 'output'],\n",
    "    template=\"Input:{input}\\nOutput: {output}\")"
   ]
  },
  {
   "cell_type": "code",
   "execution_count": 5,
   "id": "88a79eec-7779-40ee-ab60-f609e34f9779",
   "metadata": {
    "tags": []
   },
   "outputs": [],
   "source": [
    "# example of a fictional translation task\n",
    "examples = [\n",
    "    {\"input\": \"See Spot run.\", \"output\": \"Ver correr a Spot.\"},\n",
    "    {\"input\": \"My dog barks.\", \"output\": \"Mi perro ladra.\"},\n",
    "    {\"input\": \"Spot can run.\", \"output\": \"Spot puede correr.\"}\n",
    "]"
   ]
  },
  {
   "cell_type": "code",
   "execution_count": 6,
   "id": "903360ab-5d90-4a0c-8fb8-3eec21bff14d",
   "metadata": {
    "tags": []
   },
   "outputs": [],
   "source": [
    "example_selector = NGramOverlapExampleSelector(\n",
    "    # The examples it has available to choose from.\n",
    "    examples=examples,\n",
    "    # The PromptTemplate being used to format the examples.\n",
    "    example_prompt=example_prompt,\n",
    "    # The threshold, at which selector stops.\n",
    "    # It is set to -1.0 by default.\n",
    "    threshold=-0.1,\n",
    "    # For negative threshold:\n",
    "    # Selector sorts examples by ngram overlap score, and excludes none.\n",
    "    # For threashold greater than 1.0:\n",
    "    # Selector excludes all examples, and returns an empty list.\n",
    "    # For threshold equal to 0.0:\n",
    "    # Selector sorts examples by ngram overlap score\n",
    "    # and excludes those with no ngram overlap with input\n",
    "    # 对于  <0: 排序,不排除任何示例\n",
    "    # 对于  >1: 排除所有示例,返回空列表\n",
    "    # 对于  =0: 排序,排除没有任何重叠的示例.\n",
    ")"
   ]
  },
  {
   "cell_type": "code",
   "execution_count": 7,
   "id": "7f67ec04-e7ce-48cb-9547-7fb65e4d5338",
   "metadata": {
    "tags": []
   },
   "outputs": [],
   "source": [
    "dynamic_prompt = FewShotPromptTemplate(\n",
    "    # We provide an ExampleSelector instead of examples.\n",
    "    example_selector=example_selector,\n",
    "    example_prompt=example_prompt,\n",
    "    prefix=\"Give the Spanish translation of every input\",\n",
    "    suffix=\"Input: {sentence}\\nOutput:\",\n",
    "    input_variables=['sentence'],\n",
    ")"
   ]
  },
  {
   "cell_type": "code",
   "execution_count": 9,
   "id": "8d9e4f1b-6a23-46af-84ac-6fcb1d70fe5e",
   "metadata": {
    "tags": []
   },
   "outputs": [
    {
     "name": "stdout",
     "output_type": "stream",
     "text": [
      "Give the Spanish translation of every input\n",
      "\n",
      "Input:Spot can run.\n",
      "Output: Spot puede correr.\n",
      "\n",
      "Input:See Spot run.\n",
      "Output: Ver correr a Spot.\n",
      "\n",
      "Input:My dog barks.\n",
      "Output: Mi perro ladra.\n",
      "\n",
      "Input: Spot can run fast.\n",
      "Output:\n"
     ]
    }
   ],
   "source": [
    "# An example input with large ngram overlap with \"Spot can run.\"\n",
    "# and no overlap with \"My dog barks.\"\n",
    "print(dynamic_prompt.format(sentence=\"Spot can run fast.\"))"
   ]
  },
  {
   "cell_type": "markdown",
   "id": "cd074f29-5b32-48e1-b457-1f6b41762996",
   "metadata": {},
   "source": [
    "> 按overlap排序, 未排除任何样例"
   ]
  },
  {
   "cell_type": "code",
   "execution_count": 10,
   "id": "66ee1b1f-f573-4c15-a853-9247cc53694d",
   "metadata": {
    "tags": []
   },
   "outputs": [
    {
     "name": "stdout",
     "output_type": "stream",
     "text": [
      "Give the Spanish translation of every input\n",
      "\n",
      "Input:Spot can run.\n",
      "Output: Spot puede correr.\n",
      "\n",
      "Input:See Spot run.\n",
      "Output: Ver correr a Spot.\n",
      "\n",
      "Input:Spot plays fetch.\n",
      "Output: Spot juega a buscar.\n",
      "\n",
      "Input:My dog barks.\n",
      "Output: Mi perro ladra.\n",
      "\n",
      "Input: Spot can run fast.\n",
      "Output:\n"
     ]
    }
   ],
   "source": [
    "# You can add examples to NGramOverlapExampleSelector as well.\n",
    "new_example = {\"input\": \"Spot plays fetch.\", \"output\": \"Spot juega a buscar.\"}\n",
    "\n",
    "example_selector.add_example(new_example)\n",
    "print(dynamic_prompt.format(sentence=\"Spot can run fast.\"))"
   ]
  },
  {
   "cell_type": "code",
   "execution_count": 11,
   "id": "d70a8fa7-f77c-4c99-b14b-ed1e2ae08aae",
   "metadata": {
    "tags": []
   },
   "outputs": [
    {
     "name": "stdout",
     "output_type": "stream",
     "text": [
      "Give the Spanish translation of every input\n",
      "\n",
      "Input:Spot can run.\n",
      "Output: Spot puede correr.\n",
      "\n",
      "Input:See Spot run.\n",
      "Output: Ver correr a Spot.\n",
      "\n",
      "Input:Spot plays fetch.\n",
      "Output: Spot juega a buscar.\n",
      "\n",
      "Input: Spot can run fast.\n",
      "Output:\n"
     ]
    }
   ],
   "source": [
    "# You can set a threshold at which examples are excluded.\n",
    "# For example, setting threshold equal to 0.0\n",
    "# excludes examples with no gram overlaps with input.\n",
    "# Since \"My dog barks.\" has no ngram overlaps with \"Spot can run fast.\"\n",
    "# it is excluded.\n",
    "example_selector.threshold = 0.0\n",
    "print(dynamic_prompt.format(sentence=\"Spot can run fast.\"))"
   ]
  },
  {
   "cell_type": "code",
   "execution_count": 13,
   "id": "5b3057a6-45ff-4003-8051-b3c29247efc6",
   "metadata": {
    "tags": []
   },
   "outputs": [
    {
     "name": "stdout",
     "output_type": "stream",
     "text": [
      "Give the Spanish translation of every input\n",
      "\n",
      "Input:Spot can run.\n",
      "Output: Spot puede correr.\n",
      "\n",
      "Input:Spot plays fetch.\n",
      "Output: Spot juega a buscar.\n",
      "\n",
      "Input: Spot can play fetch.\n",
      "Output:\n"
     ]
    }
   ],
   "source": [
    "# Setting small nonzero threshold\n",
    "example_selector.threshold = 0.09\n",
    "print(dynamic_prompt.format(sentence=\"Spot can play fetch.\"))\n",
    "# 理论上应该排除很多很多"
   ]
  },
  {
   "cell_type": "markdown",
   "id": "7aba0cd6-cbf3-4a98-bb32-4fe5d534dc1a",
   "metadata": {},
   "source": [
    "> 果然值保留了一个, 相似度阈值在0.09"
   ]
  },
  {
   "cell_type": "code",
   "execution_count": 14,
   "id": "becf1e57-492a-4b28-a428-7b0df1e8edc2",
   "metadata": {
    "tags": []
   },
   "outputs": [
    {
     "name": "stdout",
     "output_type": "stream",
     "text": [
      "Give the Spanish translation of every input\n",
      "\n",
      "Input: Spot can play fetch.\n",
      "Output:\n"
     ]
    }
   ],
   "source": [
    "# Setting threshold greater than 1.0\n",
    "example_selector.threshold = 1.0 + 1e-9\n",
    "print(dynamic_prompt.format(sentence=\"Spot can play fetch.\"))\n",
    "# 理论上排除所有选线, 保留空列表"
   ]
  },
  {
   "cell_type": "code",
   "execution_count": null,
   "id": "54514878-e8cf-43a8-9902-c4b42e4ec1d7",
   "metadata": {},
   "outputs": [],
   "source": []
  },
  {
   "cell_type": "code",
   "execution_count": null,
   "id": "14e3c486-347d-4630-ae7e-d1d9845f2139",
   "metadata": {},
   "outputs": [],
   "source": []
  },
  {
   "cell_type": "code",
   "execution_count": null,
   "id": "995fecd6-01c7-42ea-8a90-40330ad946e2",
   "metadata": {},
   "outputs": [],
   "source": []
  },
  {
   "cell_type": "code",
   "execution_count": null,
   "id": "28160f58-9769-472e-96e6-c06696b7a88e",
   "metadata": {},
   "outputs": [],
   "source": []
  },
  {
   "cell_type": "code",
   "execution_count": null,
   "id": "0dd12e48-7ac0-4c49-a3ac-85a0dcb9be57",
   "metadata": {},
   "outputs": [],
   "source": []
  },
  {
   "cell_type": "code",
   "execution_count": null,
   "id": "3095d68c-34e9-4602-9d65-18301bf31012",
   "metadata": {},
   "outputs": [],
   "source": []
  },
  {
   "cell_type": "code",
   "execution_count": null,
   "id": "3f55875b-7049-42fa-a933-de1ff1233ab1",
   "metadata": {},
   "outputs": [],
   "source": []
  }
 ],
 "metadata": {
  "environment": {
   "kernel": "conda-env-preventloss-py",
   "name": "pytorch-gpu.1-13.m105",
   "type": "gcloud",
   "uri": "gcr.io/deeplearning-platform-release/pytorch-gpu.1-13:m105"
  },
  "kernelspec": {
   "display_name": "nlp",
   "language": "python",
   "name": "nlp"
  },
  "language_info": {
   "codemirror_mode": {
    "name": "ipython",
    "version": 3
   },
   "file_extension": ".py",
   "mimetype": "text/x-python",
   "name": "python",
   "nbconvert_exporter": "python",
   "pygments_lexer": "ipython3",
   "version": "3.9.6"
  }
 },
 "nbformat": 4,
 "nbformat_minor": 5
}
