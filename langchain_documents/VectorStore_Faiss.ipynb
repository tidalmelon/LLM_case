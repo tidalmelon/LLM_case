{
 "cells": [
  {
   "cell_type": "code",
   "execution_count": null,
   "id": "2996666f-439b-4afb-8d0d-96dff2050c0a",
   "metadata": {},
   "outputs": [],
   "source": []
  },
  {
   "cell_type": "code",
   "execution_count": 1,
   "id": "53227040-0b68-4ea4-bc2a-962abeaddba9",
   "metadata": {},
   "outputs": [],
   "source": [
    "from langchain.document_loaders import TextLoader\n",
    "from langchain.text_splitter import CharacterTextSplitter\n",
    "from langchain.vectorstores import FAISS"
   ]
  },
  {
   "cell_type": "code",
   "execution_count": null,
   "id": "3b447536-6b16-46f4-bc47-999b0a6b3a6e",
   "metadata": {},
   "outputs": [],
   "source": []
  },
  {
   "cell_type": "code",
   "execution_count": null,
   "id": "bf036c23-0666-44bc-b471-421eb05243b3",
   "metadata": {},
   "outputs": [],
   "source": []
  },
  {
   "cell_type": "markdown",
   "id": "7e645677-1d61-47da-a71d-119cc2227103",
   "metadata": {},
   "source": [
    "### Load VectorStore"
   ]
  },
  {
   "cell_type": "code",
   "execution_count": 2,
   "id": "66845508-09dc-49fd-91b4-8898a9f0e342",
   "metadata": {},
   "outputs": [
    {
     "name": "stderr",
     "output_type": "stream",
     "text": [
      "Created a chunk of size 1163, which is longer than the specified 1000\n",
      "Created a chunk of size 1015, which is longer than the specified 1000\n"
     ]
    }
   ],
   "source": [
    "# Load the document, split it into chunks, embed each chunk and load it into the vector store.\n",
    "raw_documents = TextLoader('./input/state_of_the_union.txt').load()\n",
    "text_splitter = CharacterTextSplitter(chunk_size=1000, chunk_overlap=0)\n",
    "documents = text_splitter.split_documents(raw_documents)"
   ]
  },
  {
   "cell_type": "code",
   "execution_count": null,
   "id": "8172822b-0278-4369-8da6-936970599c7a",
   "metadata": {},
   "outputs": [],
   "source": []
  },
  {
   "cell_type": "code",
   "execution_count": 3,
   "id": "bd454b85-262a-4d3a-b425-847d98d37427",
   "metadata": {},
   "outputs": [],
   "source": [
    "from langchain.embeddings.huggingface import HuggingFaceEmbeddings"
   ]
  },
  {
   "cell_type": "code",
   "execution_count": 4,
   "id": "0b99ad09-46ae-44e5-87c8-40f7f66d4605",
   "metadata": {},
   "outputs": [],
   "source": [
    "model_name = '/root/.cache/huggingface/hub/dataroot/models/GanymedeNil/text2vec-large-chinese'"
   ]
  },
  {
   "cell_type": "code",
   "execution_count": 5,
   "id": "4dc3a1b2-46f5-4824-9a61-cce1944ef6f7",
   "metadata": {},
   "outputs": [
    {
     "name": "stderr",
     "output_type": "stream",
     "text": [
      "No sentence-transformers model found with name /root/.cache/huggingface/hub/dataroot/models/GanymedeNil/text2vec-large-chinese. Creating a new one with MEAN pooling.\n"
     ]
    }
   ],
   "source": [
    "embeddings = HuggingFaceEmbeddings(model_name=model_name, \n",
    "                                   model_kwargs={'device': 'cuda:0'},\n",
    "                                   encode_kwargs={'normalize_embeddings': False})"
   ]
  },
  {
   "cell_type": "code",
   "execution_count": null,
   "id": "d1a1bfd5-0453-4ffb-9ef7-cb35e1722f16",
   "metadata": {},
   "outputs": [],
   "source": []
  },
  {
   "cell_type": "code",
   "execution_count": 6,
   "id": "d4703c51-90a7-463f-9b8c-c6eb4857d45d",
   "metadata": {},
   "outputs": [
    {
     "name": "stdout",
     "output_type": "stream",
     "text": [
      "CPU times: user 5 µs, sys: 3 µs, total: 8 µs\n",
      "Wall time: 15.3 µs\n"
     ]
    }
   ],
   "source": [
    "%time\n",
    "db = FAISS.from_documents(documents, embedding=embeddings)"
   ]
  },
  {
   "cell_type": "code",
   "execution_count": null,
   "id": "2433dfdc-a1ac-46b2-b7ef-327d6a9a65b5",
   "metadata": {},
   "outputs": [],
   "source": []
  },
  {
   "cell_type": "code",
   "execution_count": null,
   "id": "d9ac8bdc-d1fd-4208-b891-c7f6d35e9446",
   "metadata": {},
   "outputs": [],
   "source": []
  },
  {
   "cell_type": "code",
   "execution_count": 7,
   "id": "ac192540-4ca6-4305-9768-9959df97e232",
   "metadata": {},
   "outputs": [],
   "source": [
    "# db.save_local(\"faiss_index\")\n",
    "# new_db = FAISS.load_local(\"faiss_index\", embeddings)\n",
    "# docs = new_db.similarity_search(query)\n",
    "# docs[0]"
   ]
  },
  {
   "cell_type": "code",
   "execution_count": null,
   "id": "8d97d5c4-5f61-4462-a1a1-951dd28b69fd",
   "metadata": {},
   "outputs": [],
   "source": []
  },
  {
   "cell_type": "markdown",
   "id": "1a36c556-6243-4ff1-8480-edaf22c06f28",
   "metadata": {},
   "source": [
    "### Similarity search"
   ]
  },
  {
   "cell_type": "code",
   "execution_count": null,
   "id": "39324fa5-1a42-4833-8d98-eede2c3a40b4",
   "metadata": {},
   "outputs": [],
   "source": []
  },
  {
   "cell_type": "code",
   "execution_count": 8,
   "id": "12e280b0-f403-4619-affa-5603e8b62cd1",
   "metadata": {},
   "outputs": [],
   "source": [
    "query = \"What did the president say about Ketanji Brown Jackson\"\n",
    "docs = db.similarity_search(query)"
   ]
  },
  {
   "cell_type": "code",
   "execution_count": 9,
   "id": "2a5ef01d-3e4d-42c4-a9e8-2862f0cc8698",
   "metadata": {},
   "outputs": [
    {
     "name": "stdout",
     "output_type": "stream",
     "text": [
      "Now, even after paying for what we spent on my watch, we will still face the massive deficit we had when I took office. More importantly, the cost of Medicare, Medicaid and Social Security will continue to skyrocket. That's why I've called for a bipartisan fiscal commission, modeled on a proposal by Republican Judd Gregg and Democrat Kent Conrad. This can't be one of those Washington gimmicks that lets us pretend we solved a problem. The commission will have to provide a specific set of solutions by a certain deadline. Yesterday, the Senate blocked a bill that would have created this commission. So I will issue an executive order that will allow us to go forward, because I refuse to pass this problem on to another generation of Americans. And when the vote comes tomorrow, the Senate should restore the pay-as-you-go law that was a big reason why we had record surpluses in the 1990s.\n"
     ]
    }
   ],
   "source": [
    "print(docs[0].page_content)"
   ]
  },
  {
   "cell_type": "code",
   "execution_count": null,
   "id": "f22b1a58-cc32-47e9-8edd-d16d243b6297",
   "metadata": {},
   "outputs": [],
   "source": []
  },
  {
   "cell_type": "markdown",
   "id": "5c267397-bc9b-40f5-9b17-d86dbf68ca7d",
   "metadata": {},
   "source": [
    "### Similarity search by vector"
   ]
  },
  {
   "cell_type": "markdown",
   "id": "454a9e60-307b-4f79-84d5-c7dca4cc4ffb",
   "metadata": {},
   "source": [
    "It is also possible to do a search for documents similar to a given embedding vector using similarity_search_by_vector which accepts an embedding vector as a parameter instead of a string."
   ]
  },
  {
   "cell_type": "code",
   "execution_count": null,
   "id": "32b6368e-0689-47c6-bf82-cbc12f8c8255",
   "metadata": {},
   "outputs": [],
   "source": []
  },
  {
   "cell_type": "code",
   "execution_count": 10,
   "id": "d1e87243-d46b-49d3-b0a8-0059e7b3e34e",
   "metadata": {},
   "outputs": [],
   "source": [
    "query_embedding = embeddings.embed_query(query)"
   ]
  },
  {
   "cell_type": "code",
   "execution_count": 11,
   "id": "383d4137-16d7-4d56-a73b-a1079509506c",
   "metadata": {},
   "outputs": [],
   "source": [
    "docs = db.similarity_search_by_vector(query_embedding)"
   ]
  },
  {
   "cell_type": "code",
   "execution_count": 12,
   "id": "a4d1a2e8-2839-4087-b6c9-6824db8a22dc",
   "metadata": {},
   "outputs": [
    {
     "data": {
      "text/plain": [
       "4"
      ]
     },
     "execution_count": 12,
     "metadata": {},
     "output_type": "execute_result"
    }
   ],
   "source": [
    "docs.__len__()"
   ]
  },
  {
   "cell_type": "code",
   "execution_count": null,
   "id": "a9949f4e-7dab-4316-b504-29774df65b7b",
   "metadata": {},
   "outputs": [],
   "source": []
  },
  {
   "cell_type": "code",
   "execution_count": 13,
   "id": "591163b8-5a44-4317-8661-4d89ed4023a0",
   "metadata": {},
   "outputs": [
    {
     "name": "stdout",
     "output_type": "stream",
     "text": [
      "Now, even after paying for what we spent on my watch, we will still face the massive deficit we had when I took office. More importantly, the cost of Medicare, Medicaid and Social Security will continue to skyrocket. That's why I've called for a bipartisan fiscal commission, modeled on a proposal by Republican Judd Gregg and Democrat Kent Conrad. This can't be one of those Washington gimmicks that lets us pretend we solved a problem. The commission will have to provide a specific set of solutions by a certain deadline. Yesterday, the Senate blocked a bill that would have created this commission. So I will issue an executive order that will allow us to go forward, because I refuse to pass this problem on to another generation of Americans. And when the vote comes tomorrow, the Senate should restore the pay-as-you-go law that was a big reason why we had record surpluses in the 1990s.\n"
     ]
    }
   ],
   "source": [
    "print(docs[0].page_content)"
   ]
  },
  {
   "cell_type": "code",
   "execution_count": null,
   "id": "f8db6220-2b3d-42f9-8f9d-1aa48d9b0184",
   "metadata": {},
   "outputs": [],
   "source": []
  },
  {
   "cell_type": "code",
   "execution_count": null,
   "id": "fbf9b9a2-f873-49b9-9d22-9c5b91928d05",
   "metadata": {},
   "outputs": [],
   "source": []
  },
  {
   "cell_type": "code",
   "execution_count": null,
   "id": "503017ea-32fc-4b4f-be15-4aa07ecffc7b",
   "metadata": {},
   "outputs": [],
   "source": []
  },
  {
   "cell_type": "code",
   "execution_count": null,
   "id": "77003761-26ab-485a-9815-626616ca6be2",
   "metadata": {},
   "outputs": [],
   "source": []
  }
 ],
 "metadata": {
  "kernelspec": {
   "display_name": "chatglm26b",
   "language": "python",
   "name": "chatglm26b"
  },
  "language_info": {
   "codemirror_mode": {
    "name": "ipython",
    "version": 3
   },
   "file_extension": ".py",
   "mimetype": "text/x-python",
   "name": "python",
   "nbconvert_exporter": "python",
   "pygments_lexer": "ipython3",
   "version": "3.9.6"
  }
 },
 "nbformat": 4,
 "nbformat_minor": 5
}
