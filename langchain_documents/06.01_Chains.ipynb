{
 "cells": [
  {
   "cell_type": "code",
   "execution_count": null,
   "id": "a4008cf1-eaac-4e29-8002-c2af13db465e",
   "metadata": {},
   "outputs": [],
   "source": []
  },
  {
   "cell_type": "markdown",
   "id": "b2bc0806-cd01-42a5-ba48-9d92003b96a7",
   "metadata": {},
   "source": [
    "[Chain How to Chaining](https://python.langchain.com/docs/modules/chains/)"
   ]
  },
  {
   "cell_type": "markdown",
   "id": "fa4169cd-32c2-4084-87e9-f6b581431e50",
   "metadata": {},
   "source": [
    "## 如何使用Chain"
   ]
  },
  {
   "cell_type": "markdown",
   "id": "fff3878f-efde-4e8b-b47d-f3bf256315dc",
   "metadata": {},
   "source": [
    "> The legacy approach is to use the `Chain` interface. The updated approach is to use the [LangChain Expression Language (LCEL)](https://python.langchain.com/docs/expression_language/). <br>\n",
    "> 传统方式是`Chain`接口, 新的方式是使用**LCEL**\n",
    "\n",
    "> 构建新的链组合,我们建议使用**LCEL**\n",
    "\n",
    "> Chain本身也能在LCEL中使用, 二者并不冲突"
   ]
  },
  {
   "cell_type": "markdown",
   "id": "bfaa8e3d-55b6-42ae-9367-71539460c765",
   "metadata": {},
   "source": [
    "### LCEL approach"
   ]
  },
  {
   "cell_type": "markdown",
   "id": "9e621bfb-cd71-4b82-9b80-88fdb656095e",
   "metadata": {},
   "source": [
    "> As a simple and common example, we can see what it's like to combine a prompt, model and output parser:<br>\n",
    "> 在简单的案例中,我们组合prompt, model, he output parser"
   ]
  },
  {
   "cell_type": "code",
   "execution_count": null,
   "id": "8b15e4bb-5520-4649-b638-b9ced99ded3d",
   "metadata": {},
   "outputs": [],
   "source": []
  },
  {
   "cell_type": "code",
   "execution_count": 1,
   "id": "97fe8aad-6ffb-4929-a3ab-319dd98f10b3",
   "metadata": {
    "tags": []
   },
   "outputs": [],
   "source": [
    "from langchain.chat_models import ChatOpenAI\n",
    "from langchain.prompts import ChatPromptTemplate\n",
    "from langchain.schema import StrOutputParser"
   ]
  },
  {
   "cell_type": "code",
   "execution_count": 3,
   "id": "eae7fa76-c7e6-4b9b-bea5-74a0a144ef7d",
   "metadata": {
    "tags": []
   },
   "outputs": [],
   "source": [
    "model = ChatOpenAI()"
   ]
  },
  {
   "cell_type": "code",
   "execution_count": 4,
   "id": "d4313034-6962-4a70-aab9-edeed7e3d39a",
   "metadata": {
    "tags": []
   },
   "outputs": [],
   "source": [
    "prompt = ChatPromptTemplate.from_messages([\n",
    "    ('system', \"You're a very knowledgeable historian who provides accurate and eloquent answers to historical questions.\"),\n",
    "    (\"human\", \"{question}\"),\n",
    "     ])"
   ]
  },
  {
   "cell_type": "code",
   "execution_count": 5,
   "id": "28de1711-78f1-40fe-92e5-fad6d8471756",
   "metadata": {
    "tags": []
   },
   "outputs": [],
   "source": [
    "runnable = prompt | model | StrOutputParser()"
   ]
  },
  {
   "cell_type": "code",
   "execution_count": 6,
   "id": "9df18ae4-7223-44a0-9239-5419b3214ba2",
   "metadata": {
    "tags": []
   },
   "outputs": [
    {
     "name": "stdout",
     "output_type": "stream",
     "text": [
      "Mansa Musa, the renowned ruler of the Mali Empire in the 14th century, amassed his immense wealth through a combination of factors. The primary source of his riches was the vast gold reserves within his empire. Mali, located in West Africa, was a region abundant in gold mines, and Mansa Musa had control over these lucrative resources.\n",
      "\n",
      "Under his rule, Mali became a significant producer and exporter of gold, which was in high demand across the trans-Saharan trade routes. Mansa Musa effectively monopolized the gold trade, ensuring that the majority of the precious metal flowed through his empire. This allowed him to exert control over its value and regulate its distribution, further augmenting his wealth.\n",
      "\n",
      "Furthermore, Mansa Musa expanded Mali's influence and control over other key trade routes, such as salt and copper. The empire's strategic location enabled it to profit from the trade between North Africa, the Mediterranean, and sub-Saharan Africa. By taxing and regulating these trade routes, Mansa Musa accumulated substantial wealth and resources.\n",
      "\n",
      "Mansa Musa's wealth was not solely derived from trade and natural resources. He also actively promoted agriculture, especially the cultivation of crops like cotton, which were highly sought after in international markets. The cultivation and export of these cash crops, along with other local goods, further contributed to the empire's economic prosperity.\n",
      "\n",
      "It is worth noting that Mansa Musa's wealth was not limited to material resources. He was highly regarded as a patron of the arts, education, and Islamic scholarship. He sponsored the construction of magnificent mosques, schools, and libraries, attracting renowned scholars and enhancing the intellectual and cultural standing of Mali. This patronage, while not directly linked to his wealth accumulation, showcased his opulence and influence.\n",
      "\n",
      "In summary, Mansa Musa's wealth primarily stemmed from his control over Mali's vast gold reserves, his dominance of key trade routes, and his promotion of agricultural endeavors. His astute economic policies and patronage of the arts solidified his legacy as one of history's wealthiest and most influential rulers."
     ]
    }
   ],
   "source": [
    "for chunk in runnable.stream({\"question\": \"How did Mansa Musa accumulate his wealth?\"}):\n",
    "    print(chunk, end=\"\", flush=True)"
   ]
  },
  {
   "cell_type": "code",
   "execution_count": null,
   "id": "d5a10dfc-d507-40f8-8aca-ba98328d4a77",
   "metadata": {},
   "outputs": [],
   "source": []
  },
  {
   "cell_type": "code",
   "execution_count": null,
   "id": "b7bc2ddd-c820-47e6-8459-d1a3236aa7b7",
   "metadata": {},
   "outputs": [],
   "source": []
  },
  {
   "cell_type": "code",
   "execution_count": null,
   "id": "419ac444-55b3-4462-b015-26a69f374395",
   "metadata": {},
   "outputs": [],
   "source": []
  },
  {
   "cell_type": "markdown",
   "id": "037f7bb3-7bc6-4b0f-9f5d-3d43cee748db",
   "metadata": {},
   "source": [
    "### [Legacy] Chain interface"
   ]
  },
  {
   "cell_type": "markdown",
   "id": "15976921-2a2e-40b5-b258-f76538b1ed92",
   "metadata": {},
   "source": [
    "Chain的接口很简单\n",
    "\n",
    "```\n",
    "class Chain(BaseModel, ABC):\n",
    "    \"\"\"Base interface that all chains should implement.\"\"\"\n",
    "\n",
    "    memory: BaseMemory\n",
    "    callbacks: Callbacks\n",
    "\n",
    "    def __call__(\n",
    "        self,\n",
    "        inputs: Any,\n",
    "        return_only_outputs: bool = False,\n",
    "        callbacks: Callbacks = None,\n",
    "    ) -> Dict[str, Any]:\n",
    "        ...\n",
    "```"
   ]
  },
  {
   "cell_type": "markdown",
   "id": "9fc4f476-4f8e-4fff-8eb9-6411f8067746",
   "metadata": {},
   "source": [
    "> We can recreate the LCEL runnable we made above using the built-in LLMChain:<br>\n",
    "> 我们使用LLMChain重构上述的LCEL"
   ]
  },
  {
   "cell_type": "code",
   "execution_count": null,
   "id": "7b8d43a3-7324-4afc-b766-f9e7b3970f92",
   "metadata": {},
   "outputs": [],
   "source": []
  },
  {
   "cell_type": "code",
   "execution_count": 7,
   "id": "6a33eb8b-79d9-4b8d-82f4-7c90e27b42df",
   "metadata": {
    "tags": []
   },
   "outputs": [],
   "source": [
    "from langchain.chains import LLMChain"
   ]
  },
  {
   "cell_type": "code",
   "execution_count": 8,
   "id": "cba26a38-db58-4b86-877d-de5025fd7ca5",
   "metadata": {
    "tags": []
   },
   "outputs": [],
   "source": [
    "chain = LLMChain(llm=model, prompt=prompt, output_parser=StrOutputParser())"
   ]
  },
  {
   "cell_type": "code",
   "execution_count": 10,
   "id": "00c9c634-9295-44ff-a45c-68493d8b9469",
   "metadata": {
    "tags": []
   },
   "outputs": [
    {
     "data": {
      "text/plain": [
       "'积累财富的方法有很多种，以下是一些常见的方法：\\n\\n1. 节约和理性消费：通过控制开支和避免不必要的消费，将可用资金存入储蓄账户或投资。\\n\\n2. 定期储蓄：将一部分收入定期存入银行或其他金融机构的储蓄账户，以积累利息和逐渐增加财富。\\n\\n3. 投资：通过购买股票、债券、房地产或其他资产来增加财富。投资的选择应该根据个人风险承受能力和财务目标来确定。\\n\\n4. 创业：创业可以为个人带来巨大的财富增长机会，但也伴随着风险。成功的创业者需要有创新精神、市场洞察力和管理能力。\\n\\n5. 教育和技能培训：通过提高自己的技能和知识水平，增加在职场中的竞争力，从而获得更高的薪资和职业机会。\\n\\n6. 多样化收入来源：通过拥有多个收入来源，如兼职工作、投资收益或出租房产，可以减少财务风险，并增加财富积累的机会。\\n\\n7. 遗产规划：制定财务计划，包括编制遗嘱、购买保险和合理规划财产分配，以确保个人财富能够在世代传承。\\n\\n请注意，每个人的财务目标和情况都不同，因此选择适合自己的方法是非常重要的。此外，财富积累需要时间和耐心，没有一种快速致富的捷径。'"
      ]
     },
     "execution_count": 10,
     "metadata": {},
     "output_type": "execute_result"
    }
   ],
   "source": [
    "chain.run(question=\"一般的积累财富的方法有哪些\")"
   ]
  },
  {
   "cell_type": "code",
   "execution_count": null,
   "id": "5b0acf93-ac3e-4b91-bc36-726f483ac251",
   "metadata": {},
   "outputs": [],
   "source": []
  },
  {
   "cell_type": "code",
   "execution_count": null,
   "id": "d67cdff7-9bf9-4849-922f-c962b5d425c8",
   "metadata": {},
   "outputs": [],
   "source": []
  },
  {
   "cell_type": "code",
   "execution_count": null,
   "id": "2849be66-33f6-435b-a98b-6404f3291617",
   "metadata": {},
   "outputs": [],
   "source": []
  },
  {
   "cell_type": "code",
   "execution_count": null,
   "id": "38261469-a445-400c-b644-2f92e43792a1",
   "metadata": {},
   "outputs": [],
   "source": []
  },
  {
   "cell_type": "code",
   "execution_count": null,
   "id": "7b7150d9-9377-49b6-addc-2bef56f4735e",
   "metadata": {},
   "outputs": [],
   "source": []
  },
  {
   "cell_type": "code",
   "execution_count": null,
   "id": "969b94ed-10d3-4054-a8a0-5abdad3afcae",
   "metadata": {},
   "outputs": [],
   "source": []
  }
 ],
 "metadata": {
  "environment": {
   "kernel": "conda-env-preventloss-py",
   "name": "pytorch-gpu.1-13.m105",
   "type": "gcloud",
   "uri": "gcr.io/deeplearning-platform-release/pytorch-gpu.1-13:m105"
  },
  "kernelspec": {
   "display_name": "chatglm26b",
   "language": "python",
   "name": "chatglm26b"
  },
  "language_info": {
   "codemirror_mode": {
    "name": "ipython",
    "version": 3
   },
   "file_extension": ".py",
   "mimetype": "text/x-python",
   "name": "python",
   "nbconvert_exporter": "python",
   "pygments_lexer": "ipython3",
   "version": "3.9.6"
  }
 },
 "nbformat": 4,
 "nbformat_minor": 5
}
