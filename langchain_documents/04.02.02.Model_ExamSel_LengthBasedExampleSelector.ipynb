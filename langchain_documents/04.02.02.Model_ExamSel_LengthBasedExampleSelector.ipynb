{
 "cells": [
  {
   "cell_type": "markdown",
   "id": "5e851c63-fbb9-4f99-a92b-26dce2e719a7",
   "metadata": {
    "tags": []
   },
   "source": [
    "<img src=./imgs/model_io.jpg width=35% />"
   ]
  },
  {
   "cell_type": "markdown",
   "id": "47454cdf-1217-4fbf-a015-5c981b69e2f2",
   "metadata": {
    "tags": []
   },
   "source": [
    "[langchain documents](https://python.langchain.com/docs/modules/model_io/models/chat/llm_chain)"
   ]
  },
  {
   "cell_type": "code",
   "execution_count": null,
   "id": "e2806292-4cf0-40eb-9f66-941d282dfab9",
   "metadata": {},
   "outputs": [],
   "source": []
  },
  {
   "cell_type": "markdown",
   "id": "07b77b43-6e8c-4c03-b08f-ad9c273aaa96",
   "metadata": {},
   "source": [
    "[LangChain-Tutorials](https://github.com/sugarforever/LangChain-Tutorials)"
   ]
  },
  {
   "cell_type": "code",
   "execution_count": null,
   "id": "700f1574-f119-4e8d-bea8-96c9c06b9516",
   "metadata": {},
   "outputs": [],
   "source": []
  },
  {
   "cell_type": "code",
   "execution_count": 1,
   "id": "06346c2d-36d3-47dd-992b-404d25663045",
   "metadata": {
    "tags": []
   },
   "outputs": [],
   "source": [
    "import os\n",
    "os.environ['OPENAI_API_KEY'] = '&&&&&&&&&&'"
   ]
  },
  {
   "cell_type": "code",
   "execution_count": null,
   "id": "83793f12-324e-4bf7-ab92-5b9f604e9e71",
   "metadata": {},
   "outputs": [],
   "source": []
  },
  {
   "cell_type": "markdown",
   "id": "67cdce32-6c40-45ee-a1a6-0f17af0e336d",
   "metadata": {},
   "source": [
    "# Select by length"
   ]
  },
  {
   "cell_type": "markdown",
   "id": "d0508f3c-b532-4b30-80b1-b376fcac3269",
   "metadata": {},
   "source": [
    ">  LLM的输入长度是有限的<br>"
   ]
  },
  {
   "cell_type": "code",
   "execution_count": 2,
   "id": "28d5cb65-c4e6-406f-8c61-24f9f5ead07b",
   "metadata": {},
   "outputs": [],
   "source": [
    "from langchain.prompts import PromptTemplate\n",
    "from langchain.prompts import FewShotPromptTemplate\n",
    "\n",
    "from langchain.prompts.example_selector import LengthBasedExampleSelector"
   ]
  },
  {
   "cell_type": "code",
   "execution_count": 3,
   "id": "866a2112-3895-4577-8f6c-d5474b9d6737",
   "metadata": {},
   "outputs": [],
   "source": [
    "# These are a lot of examples of a pretend task of creating antonyms.\n",
    "examples = [\n",
    "    {\"input\": \"happy\", \"output\": \"sad\"},\n",
    "    {\"input\": \"tall\", \"output\": \"short\"},\n",
    "    {\"input\": \"energetic\", \"output\": \"lethargic\"},\n",
    "    {\"input\": \"sunny\", \"output\": \"gloomy\"},\n",
    "    {\"input\": \"windy\", \"output\": \"calm\"}]"
   ]
  },
  {
   "cell_type": "code",
   "execution_count": 4,
   "id": "e7d7f726-ca58-4b09-ba05-5388423efc2b",
   "metadata": {},
   "outputs": [],
   "source": [
    "example_prompt = PromptTemplate(\n",
    "    input_variables=['input', 'output'],\n",
    "    template=\"Input: {input}\\nOutput: {output}\"\n",
    ")"
   ]
  },
  {
   "cell_type": "code",
   "execution_count": 5,
   "id": "ce3fe69b-2147-4cd2-95b4-dff0fec41d20",
   "metadata": {},
   "outputs": [],
   "source": [
    "example_selector = LengthBasedExampleSelector(\n",
    "    # these are the examples it has available to choose from。\n",
    "    examples=examples,\n",
    "    # this is the prompt template being used to format examples\n",
    "    example_prompt=example_prompt,\n",
    "    # this is the maximum length that the formatted examples should be.\n",
    "    # length is measured by the get_text_length function below.\n",
    "    max_length=25,\n",
    "    \n",
    "    # this is the function used to get the length of a string.\n",
    "    # which is used to determine which example to include。\n",
    "    # it is commented out because it is provided by a default value if None is specified\n",
    "    # 他被注释掉了，因为如果不指名，它将作为默认值使用\n",
    "    # get_text_length: Callable[[str], int] = lambda x: len(re.split(\"\\n| \", x))\n",
    ")"
   ]
  },
  {
   "cell_type": "code",
   "execution_count": null,
   "id": "d6e4ff5a-1f05-45cf-82f8-03680d597f9e",
   "metadata": {},
   "outputs": [],
   "source": []
  },
  {
   "cell_type": "code",
   "execution_count": 6,
   "id": "bf2a0812-c05d-484d-a99a-17803802c206",
   "metadata": {},
   "outputs": [],
   "source": [
    "dynamic_prompt = FewShotPromptTemplate(\n",
    "    # we provided an exampleSelector instead of examples.\n",
    "    example_selector=example_selector,\n",
    "    example_prompt=example_prompt,\n",
    "    prefix='Give the antonym of every input',\n",
    "    suffix='Input: {adjective}\\nOutput:',\n",
    "    input_variables=['adjective']\n",
    ")"
   ]
  },
  {
   "cell_type": "code",
   "execution_count": 7,
   "id": "05e52792-a39c-4ef0-a43d-c3724be1b02b",
   "metadata": {},
   "outputs": [
    {
     "name": "stdout",
     "output_type": "stream",
     "text": [
      "Give the antonym of every input\n",
      "\n",
      "Input: happy\n",
      "Output: sad\n",
      "\n",
      "Input: tall\n",
      "Output: short\n",
      "\n",
      "Input: energetic\n",
      "Output: lethargic\n",
      "\n",
      "Input: sunny\n",
      "Output: gloomy\n",
      "\n",
      "Input: windy\n",
      "Output: calm\n",
      "\n",
      "Input: big\n",
      "Output:\n"
     ]
    }
   ],
   "source": [
    "# An example with small input, so it select all examples.\n",
    "print(dynamic_prompt.format(adjective='big'))"
   ]
  },
  {
   "cell_type": "code",
   "execution_count": null,
   "id": "dae2cab4-e5a9-4de3-bda6-13bbe478df09",
   "metadata": {},
   "outputs": [],
   "source": []
  },
  {
   "cell_type": "code",
   "execution_count": null,
   "id": "78cc5f93-4b87-4836-80e6-12a1c5ccdd91",
   "metadata": {},
   "outputs": [],
   "source": []
  },
  {
   "cell_type": "code",
   "execution_count": 8,
   "id": "bab8e361-05a8-4997-93f6-f00d329f369f",
   "metadata": {},
   "outputs": [],
   "source": [
    "# An example with long input, so it selects only on example.\n",
    "# An example with long input, so it selects only one example.\n",
    "long_string = \"big and huge and massive and large and gigantic and tall and much much much much much bigger than everything else\""
   ]
  },
  {
   "cell_type": "code",
   "execution_count": 9,
   "id": "386f01a9-10d5-40f9-ad14-5b10e002784a",
   "metadata": {
    "tags": []
   },
   "outputs": [
    {
     "data": {
      "text/plain": [
       "113"
      ]
     },
     "execution_count": 9,
     "metadata": {},
     "output_type": "execute_result"
    }
   ],
   "source": [
    "len(long_string)"
   ]
  },
  {
   "cell_type": "code",
   "execution_count": null,
   "id": "1f12eb7f-81eb-4c13-8654-2d3988b0b2ec",
   "metadata": {},
   "outputs": [],
   "source": []
  },
  {
   "cell_type": "code",
   "execution_count": 11,
   "id": "6211692f-2ca1-4701-8216-95527a1acc37",
   "metadata": {},
   "outputs": [],
   "source": [
    "prompt = dynamic_prompt.format(adjective=long_string)"
   ]
  },
  {
   "cell_type": "code",
   "execution_count": 12,
   "id": "f1247d8a-71b4-4191-b863-118da7405298",
   "metadata": {},
   "outputs": [
    {
     "data": {
      "text/plain": [
       "187"
      ]
     },
     "execution_count": 12,
     "metadata": {},
     "output_type": "execute_result"
    }
   ],
   "source": [
    "len(prompt)"
   ]
  },
  {
   "cell_type": "code",
   "execution_count": 14,
   "id": "ca7b2c28-7b1d-4258-a771-379b9a107a9c",
   "metadata": {
    "tags": []
   },
   "outputs": [],
   "source": [
    "import re"
   ]
  },
  {
   "cell_type": "code",
   "execution_count": 18,
   "id": "565769cc-e52b-42c3-afd6-f9e8735a58ff",
   "metadata": {
    "collapsed": true,
    "jupyter": {
     "outputs_hidden": true
    },
    "tags": []
   },
   "outputs": [
    {
     "data": {
      "text/plain": [
       "['Give',\n",
       " 'the',\n",
       " 'antonym',\n",
       " 'of',\n",
       " 'every',\n",
       " 'input',\n",
       " '',\n",
       " 'Input:',\n",
       " 'happy',\n",
       " 'Output:',\n",
       " 'sad',\n",
       " '',\n",
       " 'Input:',\n",
       " 'big',\n",
       " 'and',\n",
       " 'huge',\n",
       " 'and',\n",
       " 'massive',\n",
       " 'and',\n",
       " 'large',\n",
       " 'and',\n",
       " 'gigantic',\n",
       " 'and',\n",
       " 'tall',\n",
       " 'and',\n",
       " 'much',\n",
       " 'much',\n",
       " 'much',\n",
       " 'much',\n",
       " 'much',\n",
       " 'bigger',\n",
       " 'than',\n",
       " 'everything',\n",
       " 'else',\n",
       " 'Output:']"
      ]
     },
     "execution_count": 18,
     "metadata": {},
     "output_type": "execute_result"
    }
   ],
   "source": [
    "prompt_remove_blank = re.split(\"\\n| \", prompt)\n",
    "prompt_remove_blank"
   ]
  },
  {
   "cell_type": "code",
   "execution_count": 19,
   "id": "6a7e4a04-9210-4e9a-abfb-d588fa19b355",
   "metadata": {
    "tags": []
   },
   "outputs": [
    {
     "data": {
      "text/plain": [
       "35"
      ]
     },
     "execution_count": 19,
     "metadata": {},
     "output_type": "execute_result"
    }
   ],
   "source": [
    "len(prompt_remove_blank)"
   ]
  },
  {
   "cell_type": "code",
   "execution_count": null,
   "id": "245c4c51-5036-4fce-9191-36733d7e8015",
   "metadata": {},
   "outputs": [],
   "source": []
  },
  {
   "cell_type": "code",
   "execution_count": null,
   "id": "974f4450-58e0-474b-88a6-1c5dfc056fa4",
   "metadata": {},
   "outputs": [],
   "source": []
  },
  {
   "cell_type": "code",
   "execution_count": 27,
   "id": "90529c97-4169-4586-8bce-3d1982941365",
   "metadata": {
    "tags": []
   },
   "outputs": [
    {
     "data": {
      "text/plain": [
       "['Input:',\n",
       " 'big',\n",
       " 'and',\n",
       " 'huge',\n",
       " 'and',\n",
       " 'massive',\n",
       " 'and',\n",
       " 'large',\n",
       " 'and',\n",
       " 'gigantic',\n",
       " 'and',\n",
       " 'tall',\n",
       " 'and',\n",
       " 'much',\n",
       " 'much',\n",
       " 'much',\n",
       " 'much',\n",
       " 'much',\n",
       " 'bigger',\n",
       " 'than',\n",
       " 'everything',\n",
       " 'else',\n",
       " 'Output:',\n",
       " '']"
      ]
     },
     "execution_count": 27,
     "metadata": {},
     "output_type": "execute_result"
    }
   ],
   "source": [
    "re.split(\"\\n| \", \"Input: {input}\\nOutput: {output}\".format(input=long_string, output=''))"
   ]
  },
  {
   "cell_type": "code",
   "execution_count": 28,
   "id": "3de34822-7735-4588-9bf3-26ab7e88b8d8",
   "metadata": {
    "tags": []
   },
   "outputs": [
    {
     "data": {
      "text/plain": [
       "24"
      ]
     },
     "execution_count": 28,
     "metadata": {},
     "output_type": "execute_result"
    }
   ],
   "source": [
    "re.split(\"\\n| \", \"Input: {input}\\nOutput: {output}\".format(input=long_string, output='')).__len__()"
   ]
  },
  {
   "cell_type": "markdown",
   "id": "c1a20850-6eef-44bf-ae43-a3525ecd4211",
   "metadata": {},
   "source": [
    "> <font color=green size=5>是一个example的长度不能超过25 <br>  我们试着让他超过25试试</font>"
   ]
  },
  {
   "cell_type": "code",
   "execution_count": 29,
   "id": "ff4d25ea-13c9-4227-8ce3-eb007d764064",
   "metadata": {
    "tags": []
   },
   "outputs": [
    {
     "name": "stdout",
     "output_type": "stream",
     "text": [
      "Give the antonym of every input\n",
      "\n",
      "Input: big and huge and massive and large and gigantic and tall and much much much much much bigger than everything else big big big big big\n",
      "Output:\n"
     ]
    }
   ],
   "source": [
    "long_string = \"big and huge and massive and large and gigantic and tall and much much much much much bigger than everything else big big big big big\"\n",
    "print(dynamic_prompt.format(adjective=long_string))"
   ]
  },
  {
   "cell_type": "markdown",
   "id": "1c1b00cc-4c79-465a-99c2-b80c4d519db7",
   "metadata": {},
   "source": [
    "> <font color=green size=5>他连第一个example 都顶掉了</font>"
   ]
  },
  {
   "cell_type": "code",
   "execution_count": null,
   "id": "6106507b-4f0f-44ff-a25b-286363cae0e4",
   "metadata": {},
   "outputs": [],
   "source": []
  },
  {
   "cell_type": "code",
   "execution_count": null,
   "id": "a4a77c9d-f454-4279-814c-ef338016e433",
   "metadata": {},
   "outputs": [],
   "source": []
  },
  {
   "cell_type": "code",
   "execution_count": null,
   "id": "d0881cbc-78d5-4000-a27c-3d614f4304ab",
   "metadata": {},
   "outputs": [],
   "source": []
  },
  {
   "cell_type": "code",
   "execution_count": 13,
   "id": "c393dd3f-80cf-4ac9-a4ed-737760d2a8cb",
   "metadata": {},
   "outputs": [
    {
     "name": "stdout",
     "output_type": "stream",
     "text": [
      "Give the antonym of every input\n",
      "\n",
      "Input: happy\n",
      "Output: sad\n",
      "\n",
      "Input: big and huge and massive and large and gigantic and tall and much much much much much bigger than everything else\n",
      "Output:\n"
     ]
    }
   ],
   "source": [
    "print(prompt)"
   ]
  },
  {
   "cell_type": "code",
   "execution_count": null,
   "id": "34c1821b-8cca-405a-a106-6df795c3a2db",
   "metadata": {},
   "outputs": [],
   "source": []
  },
  {
   "cell_type": "code",
   "execution_count": 20,
   "id": "2b504152-abe5-4bbb-b7a5-0cfc30bf50fc",
   "metadata": {},
   "outputs": [
    {
     "name": "stdout",
     "output_type": "stream",
     "text": [
      "Give the antonym of every input\n",
      "\n",
      "Input: happy\n",
      "Output: sad\n",
      "\n",
      "Input: tall\n",
      "Output: short\n",
      "\n",
      "Input: energetic\n",
      "Output: lethargic\n",
      "\n",
      "Input: sunny\n",
      "Output: gloomy\n",
      "\n",
      "Input: windy\n",
      "Output: calm\n",
      "\n",
      "Input: big\n",
      "Output: small\n",
      "\n",
      "Input: enthusiastic\n",
      "Output:\n"
     ]
    }
   ],
   "source": [
    "# you can add an example to an example selector as well.\n",
    "new_example = {\"input\": \"big\", \"output\": \"small\"}\n",
    "dynamic_prompt.example_selector.add_example(new_example)\n",
    "\n",
    "\n",
    "print(dynamic_prompt.format(adjective='enthusiastic'))"
   ]
  },
  {
   "cell_type": "code",
   "execution_count": null,
   "id": "38851249-f381-40b3-ae62-c5aa8e35435b",
   "metadata": {},
   "outputs": [],
   "source": []
  },
  {
   "cell_type": "code",
   "execution_count": null,
   "id": "8384a7a1-bad9-4f6a-b3a2-a375e5164c6b",
   "metadata": {},
   "outputs": [],
   "source": []
  },
  {
   "cell_type": "code",
   "execution_count": null,
   "id": "3f55875b-7049-42fa-a933-de1ff1233ab1",
   "metadata": {},
   "outputs": [],
   "source": []
  }
 ],
 "metadata": {
  "environment": {
   "kernel": "conda-env-preventloss-py",
   "name": "pytorch-gpu.1-13.m105",
   "type": "gcloud",
   "uri": "gcr.io/deeplearning-platform-release/pytorch-gpu.1-13:m105"
  },
  "kernelspec": {
   "display_name": "lglm",
   "language": "python",
   "name": "lglm"
  },
  "language_info": {
   "codemirror_mode": {
    "name": "ipython",
    "version": 3
   },
   "file_extension": ".py",
   "mimetype": "text/x-python",
   "name": "python",
   "nbconvert_exporter": "python",
   "pygments_lexer": "ipython3",
   "version": "3.8.17"
  }
 },
 "nbformat": 4,
 "nbformat_minor": 5
}
