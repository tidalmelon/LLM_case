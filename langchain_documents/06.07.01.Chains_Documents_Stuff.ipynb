{
 "cells": [
  {
   "cell_type": "markdown",
   "id": "e42ca50f-cc41-4d48-8513-58c241a6b3bf",
   "metadata": {},
   "source": [
    "![](./imgs/stuff_documents.jpg)"
   ]
  },
  {
   "cell_type": "markdown",
   "id": "137c39cd-8c66-4d6d-b469-69bbce8059c6",
   "metadata": {},
   "source": [
    "## Recreating with LCEL"
   ]
  },
  {
   "cell_type": "markdown",
   "id": "7dbaf696-8436-4cd3-b897-cadbaf1bd30a",
   "metadata": {},
   "source": [
    "### StuffDocumentsChain"
   ]
  },
  {
   "cell_type": "code",
   "execution_count": 12,
   "id": "20568002-a925-40d6-87b3-31cd56923538",
   "metadata": {
    "tags": []
   },
   "outputs": [],
   "source": [
    "from langchain.schema import Document\n",
    "\n",
    "text = \"\"\"Nuclear power in space is the use of nuclear power in outer space, typically either small fission systems or radioactive decay for electricity or heat. Another use is for scientific observation, as in a Mössbauer spectrometer. The most common type is a radioisotope thermoelectric generator, which has been used on many space probes and on crewed lunar missions. Small fission reactors for Earth observation satellites, such as the TOPAZ nuclear reactor, have also been flown.[1] A radioisotope heater unit is powered by radioactive decay and can keep components from becoming too cold to function, potentially over a span of decades.[2]\n",
    "\n",
    "The United States tested the SNAP-10A nuclear reactor in space for 43 days in 1965,[3] with the next test of a nuclear reactor power system intended for space use occurring on 13 September 2012 with the Demonstration Using Flattop Fission (DUFF) test of the Kilopower reactor.[4]\n",
    "\n",
    "After a ground-based test of the experimental 1965 Romashka reactor, which used uranium and direct thermoelectric conversion to electricity,[5] the USSR sent about 40 nuclear-electric satellites into space, mostly powered by the BES-5 reactor. The more powerful TOPAZ-II reactor produced 10 kilowatts of electricity.[3]\n",
    "\n",
    "Examples of concepts that use nuclear power for space propulsion systems include the nuclear electric rocket (nuclear powered ion thruster(s)), the radioisotope rocket, and radioisotope electric propulsion (REP).[6] One of the more explored concepts is the nuclear thermal rocket, which was ground tested in the NERVA program. Nuclear pulse propulsion was the subject of Project Orion.[7]\n",
    "\n",
    "Regulation and hazard prevention[edit]\n",
    "After the ban of nuclear weapons in space by the Outer Space Treaty in 1967, nuclear power has been discussed at least since 1972 as a sensitive issue by states.[8] Particularly its potential hazards to Earth's environment and thus also humans has prompted states to adopt in the U.N. General Assembly the Principles Relevant to the Use of Nuclear Power Sources in Outer Space (1992), particularly introducing safety principles for launches and to manage their traffic.[8]\n",
    "\n",
    "Benefits\n",
    "\n",
    "Both the Viking 1 and Viking 2 landers used RTGs for power on the surface of Mars. (Viking launch vehicle pictured)\n",
    "While solar power is much more commonly used, nuclear power can offer advantages in some areas. Solar cells, although efficient, can only supply energy to spacecraft in orbits where the solar flux is sufficiently high, such as low Earth orbit and interplanetary destinations close enough to the Sun. Unlike solar cells, nuclear power systems function independently of sunlight, which is necessary for deep space exploration. Nuclear-based systems can have less mass than solar cells of equivalent power, allowing more compact spacecraft that are easier to orient and direct in space. In the case of crewed spaceflight, nuclear power concepts that can power both life support and propulsion systems may reduce both cost and flight time.[9]\n",
    "\n",
    "Selected applications and/or technologies for space include:\n",
    "\n",
    "Radioisotope thermoelectric generator\n",
    "Radioisotope heater unit\n",
    "Radioisotope piezoelectric generator\n",
    "Radioisotope rocket\n",
    "Nuclear thermal rocket\n",
    "Nuclear pulse propulsion\n",
    "Nuclear electric rocket\n",
    "\"\"\""
   ]
  },
  {
   "cell_type": "code",
   "execution_count": 13,
   "id": "f33edef1-6928-4497-8666-342b3b66f04a",
   "metadata": {
    "tags": []
   },
   "outputs": [],
   "source": [
    "docs = [\n",
    "    Document(\n",
    "        page_content=split,\n",
    "        metadata={\"source\": \"https://en.wikipedia.org/wiki/Nuclear_power_in_space\"},\n",
    "    )\n",
    "    for split in text.split()\n",
    "]"
   ]
  },
  {
   "cell_type": "code",
   "execution_count": 26,
   "id": "deb1d3ed-45fe-47f1-9b65-1a68a181f945",
   "metadata": {
    "collapsed": true,
    "jupyter": {
     "outputs_hidden": true
    },
    "tags": []
   },
   "outputs": [
    {
     "data": {
      "text/plain": [
       "[Document(page_content='Nuclear', metadata={'source': 'https://en.wikipedia.org/wiki/Nuclear_power_in_space'}),\n",
       " Document(page_content='power', metadata={'source': 'https://en.wikipedia.org/wiki/Nuclear_power_in_space'}),\n",
       " Document(page_content='in', metadata={'source': 'https://en.wikipedia.org/wiki/Nuclear_power_in_space'}),\n",
       " Document(page_content='space', metadata={'source': 'https://en.wikipedia.org/wiki/Nuclear_power_in_space'}),\n",
       " Document(page_content='is', metadata={'source': 'https://en.wikipedia.org/wiki/Nuclear_power_in_space'}),\n",
       " Document(page_content='the', metadata={'source': 'https://en.wikipedia.org/wiki/Nuclear_power_in_space'}),\n",
       " Document(page_content='use', metadata={'source': 'https://en.wikipedia.org/wiki/Nuclear_power_in_space'}),\n",
       " Document(page_content='of', metadata={'source': 'https://en.wikipedia.org/wiki/Nuclear_power_in_space'}),\n",
       " Document(page_content='nuclear', metadata={'source': 'https://en.wikipedia.org/wiki/Nuclear_power_in_space'}),\n",
       " Document(page_content='power', metadata={'source': 'https://en.wikipedia.org/wiki/Nuclear_power_in_space'}),\n",
       " Document(page_content='in', metadata={'source': 'https://en.wikipedia.org/wiki/Nuclear_power_in_space'}),\n",
       " Document(page_content='outer', metadata={'source': 'https://en.wikipedia.org/wiki/Nuclear_power_in_space'}),\n",
       " Document(page_content='space,', metadata={'source': 'https://en.wikipedia.org/wiki/Nuclear_power_in_space'}),\n",
       " Document(page_content='typically', metadata={'source': 'https://en.wikipedia.org/wiki/Nuclear_power_in_space'}),\n",
       " Document(page_content='either', metadata={'source': 'https://en.wikipedia.org/wiki/Nuclear_power_in_space'}),\n",
       " Document(page_content='small', metadata={'source': 'https://en.wikipedia.org/wiki/Nuclear_power_in_space'}),\n",
       " Document(page_content='fission', metadata={'source': 'https://en.wikipedia.org/wiki/Nuclear_power_in_space'}),\n",
       " Document(page_content='systems', metadata={'source': 'https://en.wikipedia.org/wiki/Nuclear_power_in_space'}),\n",
       " Document(page_content='or', metadata={'source': 'https://en.wikipedia.org/wiki/Nuclear_power_in_space'}),\n",
       " Document(page_content='radioactive', metadata={'source': 'https://en.wikipedia.org/wiki/Nuclear_power_in_space'}),\n",
       " Document(page_content='decay', metadata={'source': 'https://en.wikipedia.org/wiki/Nuclear_power_in_space'}),\n",
       " Document(page_content='for', metadata={'source': 'https://en.wikipedia.org/wiki/Nuclear_power_in_space'}),\n",
       " Document(page_content='electricity', metadata={'source': 'https://en.wikipedia.org/wiki/Nuclear_power_in_space'}),\n",
       " Document(page_content='or', metadata={'source': 'https://en.wikipedia.org/wiki/Nuclear_power_in_space'}),\n",
       " Document(page_content='heat.', metadata={'source': 'https://en.wikipedia.org/wiki/Nuclear_power_in_space'}),\n",
       " Document(page_content='Another', metadata={'source': 'https://en.wikipedia.org/wiki/Nuclear_power_in_space'}),\n",
       " Document(page_content='use', metadata={'source': 'https://en.wikipedia.org/wiki/Nuclear_power_in_space'}),\n",
       " Document(page_content='is', metadata={'source': 'https://en.wikipedia.org/wiki/Nuclear_power_in_space'}),\n",
       " Document(page_content='for', metadata={'source': 'https://en.wikipedia.org/wiki/Nuclear_power_in_space'}),\n",
       " Document(page_content='scientific', metadata={'source': 'https://en.wikipedia.org/wiki/Nuclear_power_in_space'}),\n",
       " Document(page_content='observation,', metadata={'source': 'https://en.wikipedia.org/wiki/Nuclear_power_in_space'}),\n",
       " Document(page_content='as', metadata={'source': 'https://en.wikipedia.org/wiki/Nuclear_power_in_space'}),\n",
       " Document(page_content='in', metadata={'source': 'https://en.wikipedia.org/wiki/Nuclear_power_in_space'}),\n",
       " Document(page_content='a', metadata={'source': 'https://en.wikipedia.org/wiki/Nuclear_power_in_space'}),\n",
       " Document(page_content='Mössbauer', metadata={'source': 'https://en.wikipedia.org/wiki/Nuclear_power_in_space'}),\n",
       " Document(page_content='spectrometer.', metadata={'source': 'https://en.wikipedia.org/wiki/Nuclear_power_in_space'}),\n",
       " Document(page_content='The', metadata={'source': 'https://en.wikipedia.org/wiki/Nuclear_power_in_space'}),\n",
       " Document(page_content='most', metadata={'source': 'https://en.wikipedia.org/wiki/Nuclear_power_in_space'}),\n",
       " Document(page_content='common', metadata={'source': 'https://en.wikipedia.org/wiki/Nuclear_power_in_space'}),\n",
       " Document(page_content='type', metadata={'source': 'https://en.wikipedia.org/wiki/Nuclear_power_in_space'}),\n",
       " Document(page_content='is', metadata={'source': 'https://en.wikipedia.org/wiki/Nuclear_power_in_space'}),\n",
       " Document(page_content='a', metadata={'source': 'https://en.wikipedia.org/wiki/Nuclear_power_in_space'}),\n",
       " Document(page_content='radioisotope', metadata={'source': 'https://en.wikipedia.org/wiki/Nuclear_power_in_space'}),\n",
       " Document(page_content='thermoelectric', metadata={'source': 'https://en.wikipedia.org/wiki/Nuclear_power_in_space'}),\n",
       " Document(page_content='generator,', metadata={'source': 'https://en.wikipedia.org/wiki/Nuclear_power_in_space'}),\n",
       " Document(page_content='which', metadata={'source': 'https://en.wikipedia.org/wiki/Nuclear_power_in_space'}),\n",
       " Document(page_content='has', metadata={'source': 'https://en.wikipedia.org/wiki/Nuclear_power_in_space'}),\n",
       " Document(page_content='been', metadata={'source': 'https://en.wikipedia.org/wiki/Nuclear_power_in_space'}),\n",
       " Document(page_content='used', metadata={'source': 'https://en.wikipedia.org/wiki/Nuclear_power_in_space'}),\n",
       " Document(page_content='on', metadata={'source': 'https://en.wikipedia.org/wiki/Nuclear_power_in_space'}),\n",
       " Document(page_content='many', metadata={'source': 'https://en.wikipedia.org/wiki/Nuclear_power_in_space'}),\n",
       " Document(page_content='space', metadata={'source': 'https://en.wikipedia.org/wiki/Nuclear_power_in_space'}),\n",
       " Document(page_content='probes', metadata={'source': 'https://en.wikipedia.org/wiki/Nuclear_power_in_space'}),\n",
       " Document(page_content='and', metadata={'source': 'https://en.wikipedia.org/wiki/Nuclear_power_in_space'}),\n",
       " Document(page_content='on', metadata={'source': 'https://en.wikipedia.org/wiki/Nuclear_power_in_space'}),\n",
       " Document(page_content='crewed', metadata={'source': 'https://en.wikipedia.org/wiki/Nuclear_power_in_space'}),\n",
       " Document(page_content='lunar', metadata={'source': 'https://en.wikipedia.org/wiki/Nuclear_power_in_space'}),\n",
       " Document(page_content='missions.', metadata={'source': 'https://en.wikipedia.org/wiki/Nuclear_power_in_space'}),\n",
       " Document(page_content='Small', metadata={'source': 'https://en.wikipedia.org/wiki/Nuclear_power_in_space'}),\n",
       " Document(page_content='fission', metadata={'source': 'https://en.wikipedia.org/wiki/Nuclear_power_in_space'}),\n",
       " Document(page_content='reactors', metadata={'source': 'https://en.wikipedia.org/wiki/Nuclear_power_in_space'}),\n",
       " Document(page_content='for', metadata={'source': 'https://en.wikipedia.org/wiki/Nuclear_power_in_space'}),\n",
       " Document(page_content='Earth', metadata={'source': 'https://en.wikipedia.org/wiki/Nuclear_power_in_space'}),\n",
       " Document(page_content='observation', metadata={'source': 'https://en.wikipedia.org/wiki/Nuclear_power_in_space'}),\n",
       " Document(page_content='satellites,', metadata={'source': 'https://en.wikipedia.org/wiki/Nuclear_power_in_space'}),\n",
       " Document(page_content='such', metadata={'source': 'https://en.wikipedia.org/wiki/Nuclear_power_in_space'}),\n",
       " Document(page_content='as', metadata={'source': 'https://en.wikipedia.org/wiki/Nuclear_power_in_space'}),\n",
       " Document(page_content='the', metadata={'source': 'https://en.wikipedia.org/wiki/Nuclear_power_in_space'}),\n",
       " Document(page_content='TOPAZ', metadata={'source': 'https://en.wikipedia.org/wiki/Nuclear_power_in_space'}),\n",
       " Document(page_content='nuclear', metadata={'source': 'https://en.wikipedia.org/wiki/Nuclear_power_in_space'}),\n",
       " Document(page_content='reactor,', metadata={'source': 'https://en.wikipedia.org/wiki/Nuclear_power_in_space'}),\n",
       " Document(page_content='have', metadata={'source': 'https://en.wikipedia.org/wiki/Nuclear_power_in_space'}),\n",
       " Document(page_content='also', metadata={'source': 'https://en.wikipedia.org/wiki/Nuclear_power_in_space'}),\n",
       " Document(page_content='been', metadata={'source': 'https://en.wikipedia.org/wiki/Nuclear_power_in_space'}),\n",
       " Document(page_content='flown.[1]', metadata={'source': 'https://en.wikipedia.org/wiki/Nuclear_power_in_space'}),\n",
       " Document(page_content='A', metadata={'source': 'https://en.wikipedia.org/wiki/Nuclear_power_in_space'}),\n",
       " Document(page_content='radioisotope', metadata={'source': 'https://en.wikipedia.org/wiki/Nuclear_power_in_space'}),\n",
       " Document(page_content='heater', metadata={'source': 'https://en.wikipedia.org/wiki/Nuclear_power_in_space'}),\n",
       " Document(page_content='unit', metadata={'source': 'https://en.wikipedia.org/wiki/Nuclear_power_in_space'}),\n",
       " Document(page_content='is', metadata={'source': 'https://en.wikipedia.org/wiki/Nuclear_power_in_space'}),\n",
       " Document(page_content='powered', metadata={'source': 'https://en.wikipedia.org/wiki/Nuclear_power_in_space'}),\n",
       " Document(page_content='by', metadata={'source': 'https://en.wikipedia.org/wiki/Nuclear_power_in_space'}),\n",
       " Document(page_content='radioactive', metadata={'source': 'https://en.wikipedia.org/wiki/Nuclear_power_in_space'}),\n",
       " Document(page_content='decay', metadata={'source': 'https://en.wikipedia.org/wiki/Nuclear_power_in_space'}),\n",
       " Document(page_content='and', metadata={'source': 'https://en.wikipedia.org/wiki/Nuclear_power_in_space'}),\n",
       " Document(page_content='can', metadata={'source': 'https://en.wikipedia.org/wiki/Nuclear_power_in_space'}),\n",
       " Document(page_content='keep', metadata={'source': 'https://en.wikipedia.org/wiki/Nuclear_power_in_space'}),\n",
       " Document(page_content='components', metadata={'source': 'https://en.wikipedia.org/wiki/Nuclear_power_in_space'}),\n",
       " Document(page_content='from', metadata={'source': 'https://en.wikipedia.org/wiki/Nuclear_power_in_space'}),\n",
       " Document(page_content='becoming', metadata={'source': 'https://en.wikipedia.org/wiki/Nuclear_power_in_space'}),\n",
       " Document(page_content='too', metadata={'source': 'https://en.wikipedia.org/wiki/Nuclear_power_in_space'}),\n",
       " Document(page_content='cold', metadata={'source': 'https://en.wikipedia.org/wiki/Nuclear_power_in_space'}),\n",
       " Document(page_content='to', metadata={'source': 'https://en.wikipedia.org/wiki/Nuclear_power_in_space'}),\n",
       " Document(page_content='function,', metadata={'source': 'https://en.wikipedia.org/wiki/Nuclear_power_in_space'}),\n",
       " Document(page_content='potentially', metadata={'source': 'https://en.wikipedia.org/wiki/Nuclear_power_in_space'}),\n",
       " Document(page_content='over', metadata={'source': 'https://en.wikipedia.org/wiki/Nuclear_power_in_space'}),\n",
       " Document(page_content='a', metadata={'source': 'https://en.wikipedia.org/wiki/Nuclear_power_in_space'}),\n",
       " Document(page_content='span', metadata={'source': 'https://en.wikipedia.org/wiki/Nuclear_power_in_space'}),\n",
       " Document(page_content='of', metadata={'source': 'https://en.wikipedia.org/wiki/Nuclear_power_in_space'}),\n",
       " Document(page_content='decades.[2]', metadata={'source': 'https://en.wikipedia.org/wiki/Nuclear_power_in_space'}),\n",
       " Document(page_content='The', metadata={'source': 'https://en.wikipedia.org/wiki/Nuclear_power_in_space'}),\n",
       " Document(page_content='United', metadata={'source': 'https://en.wikipedia.org/wiki/Nuclear_power_in_space'}),\n",
       " Document(page_content='States', metadata={'source': 'https://en.wikipedia.org/wiki/Nuclear_power_in_space'}),\n",
       " Document(page_content='tested', metadata={'source': 'https://en.wikipedia.org/wiki/Nuclear_power_in_space'}),\n",
       " Document(page_content='the', metadata={'source': 'https://en.wikipedia.org/wiki/Nuclear_power_in_space'}),\n",
       " Document(page_content='SNAP-10A', metadata={'source': 'https://en.wikipedia.org/wiki/Nuclear_power_in_space'}),\n",
       " Document(page_content='nuclear', metadata={'source': 'https://en.wikipedia.org/wiki/Nuclear_power_in_space'}),\n",
       " Document(page_content='reactor', metadata={'source': 'https://en.wikipedia.org/wiki/Nuclear_power_in_space'}),\n",
       " Document(page_content='in', metadata={'source': 'https://en.wikipedia.org/wiki/Nuclear_power_in_space'}),\n",
       " Document(page_content='space', metadata={'source': 'https://en.wikipedia.org/wiki/Nuclear_power_in_space'}),\n",
       " Document(page_content='for', metadata={'source': 'https://en.wikipedia.org/wiki/Nuclear_power_in_space'}),\n",
       " Document(page_content='43', metadata={'source': 'https://en.wikipedia.org/wiki/Nuclear_power_in_space'}),\n",
       " Document(page_content='days', metadata={'source': 'https://en.wikipedia.org/wiki/Nuclear_power_in_space'}),\n",
       " Document(page_content='in', metadata={'source': 'https://en.wikipedia.org/wiki/Nuclear_power_in_space'}),\n",
       " Document(page_content='1965,[3]', metadata={'source': 'https://en.wikipedia.org/wiki/Nuclear_power_in_space'}),\n",
       " Document(page_content='with', metadata={'source': 'https://en.wikipedia.org/wiki/Nuclear_power_in_space'}),\n",
       " Document(page_content='the', metadata={'source': 'https://en.wikipedia.org/wiki/Nuclear_power_in_space'}),\n",
       " Document(page_content='next', metadata={'source': 'https://en.wikipedia.org/wiki/Nuclear_power_in_space'}),\n",
       " Document(page_content='test', metadata={'source': 'https://en.wikipedia.org/wiki/Nuclear_power_in_space'}),\n",
       " Document(page_content='of', metadata={'source': 'https://en.wikipedia.org/wiki/Nuclear_power_in_space'}),\n",
       " Document(page_content='a', metadata={'source': 'https://en.wikipedia.org/wiki/Nuclear_power_in_space'}),\n",
       " Document(page_content='nuclear', metadata={'source': 'https://en.wikipedia.org/wiki/Nuclear_power_in_space'}),\n",
       " Document(page_content='reactor', metadata={'source': 'https://en.wikipedia.org/wiki/Nuclear_power_in_space'}),\n",
       " Document(page_content='power', metadata={'source': 'https://en.wikipedia.org/wiki/Nuclear_power_in_space'}),\n",
       " Document(page_content='system', metadata={'source': 'https://en.wikipedia.org/wiki/Nuclear_power_in_space'}),\n",
       " Document(page_content='intended', metadata={'source': 'https://en.wikipedia.org/wiki/Nuclear_power_in_space'}),\n",
       " Document(page_content='for', metadata={'source': 'https://en.wikipedia.org/wiki/Nuclear_power_in_space'}),\n",
       " Document(page_content='space', metadata={'source': 'https://en.wikipedia.org/wiki/Nuclear_power_in_space'}),\n",
       " Document(page_content='use', metadata={'source': 'https://en.wikipedia.org/wiki/Nuclear_power_in_space'}),\n",
       " Document(page_content='occurring', metadata={'source': 'https://en.wikipedia.org/wiki/Nuclear_power_in_space'}),\n",
       " Document(page_content='on', metadata={'source': 'https://en.wikipedia.org/wiki/Nuclear_power_in_space'}),\n",
       " Document(page_content='13', metadata={'source': 'https://en.wikipedia.org/wiki/Nuclear_power_in_space'}),\n",
       " Document(page_content='September', metadata={'source': 'https://en.wikipedia.org/wiki/Nuclear_power_in_space'}),\n",
       " Document(page_content='2012', metadata={'source': 'https://en.wikipedia.org/wiki/Nuclear_power_in_space'}),\n",
       " Document(page_content='with', metadata={'source': 'https://en.wikipedia.org/wiki/Nuclear_power_in_space'}),\n",
       " Document(page_content='the', metadata={'source': 'https://en.wikipedia.org/wiki/Nuclear_power_in_space'}),\n",
       " Document(page_content='Demonstration', metadata={'source': 'https://en.wikipedia.org/wiki/Nuclear_power_in_space'}),\n",
       " Document(page_content='Using', metadata={'source': 'https://en.wikipedia.org/wiki/Nuclear_power_in_space'}),\n",
       " Document(page_content='Flattop', metadata={'source': 'https://en.wikipedia.org/wiki/Nuclear_power_in_space'}),\n",
       " Document(page_content='Fission', metadata={'source': 'https://en.wikipedia.org/wiki/Nuclear_power_in_space'}),\n",
       " Document(page_content='(DUFF)', metadata={'source': 'https://en.wikipedia.org/wiki/Nuclear_power_in_space'}),\n",
       " Document(page_content='test', metadata={'source': 'https://en.wikipedia.org/wiki/Nuclear_power_in_space'}),\n",
       " Document(page_content='of', metadata={'source': 'https://en.wikipedia.org/wiki/Nuclear_power_in_space'}),\n",
       " Document(page_content='the', metadata={'source': 'https://en.wikipedia.org/wiki/Nuclear_power_in_space'}),\n",
       " Document(page_content='Kilopower', metadata={'source': 'https://en.wikipedia.org/wiki/Nuclear_power_in_space'}),\n",
       " Document(page_content='reactor.[4]', metadata={'source': 'https://en.wikipedia.org/wiki/Nuclear_power_in_space'}),\n",
       " Document(page_content='After', metadata={'source': 'https://en.wikipedia.org/wiki/Nuclear_power_in_space'}),\n",
       " Document(page_content='a', metadata={'source': 'https://en.wikipedia.org/wiki/Nuclear_power_in_space'}),\n",
       " Document(page_content='ground-based', metadata={'source': 'https://en.wikipedia.org/wiki/Nuclear_power_in_space'}),\n",
       " Document(page_content='test', metadata={'source': 'https://en.wikipedia.org/wiki/Nuclear_power_in_space'}),\n",
       " Document(page_content='of', metadata={'source': 'https://en.wikipedia.org/wiki/Nuclear_power_in_space'}),\n",
       " Document(page_content='the', metadata={'source': 'https://en.wikipedia.org/wiki/Nuclear_power_in_space'}),\n",
       " Document(page_content='experimental', metadata={'source': 'https://en.wikipedia.org/wiki/Nuclear_power_in_space'}),\n",
       " Document(page_content='1965', metadata={'source': 'https://en.wikipedia.org/wiki/Nuclear_power_in_space'}),\n",
       " Document(page_content='Romashka', metadata={'source': 'https://en.wikipedia.org/wiki/Nuclear_power_in_space'}),\n",
       " Document(page_content='reactor,', metadata={'source': 'https://en.wikipedia.org/wiki/Nuclear_power_in_space'}),\n",
       " Document(page_content='which', metadata={'source': 'https://en.wikipedia.org/wiki/Nuclear_power_in_space'}),\n",
       " Document(page_content='used', metadata={'source': 'https://en.wikipedia.org/wiki/Nuclear_power_in_space'}),\n",
       " Document(page_content='uranium', metadata={'source': 'https://en.wikipedia.org/wiki/Nuclear_power_in_space'}),\n",
       " Document(page_content='and', metadata={'source': 'https://en.wikipedia.org/wiki/Nuclear_power_in_space'}),\n",
       " Document(page_content='direct', metadata={'source': 'https://en.wikipedia.org/wiki/Nuclear_power_in_space'}),\n",
       " Document(page_content='thermoelectric', metadata={'source': 'https://en.wikipedia.org/wiki/Nuclear_power_in_space'}),\n",
       " Document(page_content='conversion', metadata={'source': 'https://en.wikipedia.org/wiki/Nuclear_power_in_space'}),\n",
       " Document(page_content='to', metadata={'source': 'https://en.wikipedia.org/wiki/Nuclear_power_in_space'}),\n",
       " Document(page_content='electricity,[5]', metadata={'source': 'https://en.wikipedia.org/wiki/Nuclear_power_in_space'}),\n",
       " Document(page_content='the', metadata={'source': 'https://en.wikipedia.org/wiki/Nuclear_power_in_space'}),\n",
       " Document(page_content='USSR', metadata={'source': 'https://en.wikipedia.org/wiki/Nuclear_power_in_space'}),\n",
       " Document(page_content='sent', metadata={'source': 'https://en.wikipedia.org/wiki/Nuclear_power_in_space'}),\n",
       " Document(page_content='about', metadata={'source': 'https://en.wikipedia.org/wiki/Nuclear_power_in_space'}),\n",
       " Document(page_content='40', metadata={'source': 'https://en.wikipedia.org/wiki/Nuclear_power_in_space'}),\n",
       " Document(page_content='nuclear-electric', metadata={'source': 'https://en.wikipedia.org/wiki/Nuclear_power_in_space'}),\n",
       " Document(page_content='satellites', metadata={'source': 'https://en.wikipedia.org/wiki/Nuclear_power_in_space'}),\n",
       " Document(page_content='into', metadata={'source': 'https://en.wikipedia.org/wiki/Nuclear_power_in_space'}),\n",
       " Document(page_content='space,', metadata={'source': 'https://en.wikipedia.org/wiki/Nuclear_power_in_space'}),\n",
       " Document(page_content='mostly', metadata={'source': 'https://en.wikipedia.org/wiki/Nuclear_power_in_space'}),\n",
       " Document(page_content='powered', metadata={'source': 'https://en.wikipedia.org/wiki/Nuclear_power_in_space'}),\n",
       " Document(page_content='by', metadata={'source': 'https://en.wikipedia.org/wiki/Nuclear_power_in_space'}),\n",
       " Document(page_content='the', metadata={'source': 'https://en.wikipedia.org/wiki/Nuclear_power_in_space'}),\n",
       " Document(page_content='BES-5', metadata={'source': 'https://en.wikipedia.org/wiki/Nuclear_power_in_space'}),\n",
       " Document(page_content='reactor.', metadata={'source': 'https://en.wikipedia.org/wiki/Nuclear_power_in_space'}),\n",
       " Document(page_content='The', metadata={'source': 'https://en.wikipedia.org/wiki/Nuclear_power_in_space'}),\n",
       " Document(page_content='more', metadata={'source': 'https://en.wikipedia.org/wiki/Nuclear_power_in_space'}),\n",
       " Document(page_content='powerful', metadata={'source': 'https://en.wikipedia.org/wiki/Nuclear_power_in_space'}),\n",
       " Document(page_content='TOPAZ-II', metadata={'source': 'https://en.wikipedia.org/wiki/Nuclear_power_in_space'}),\n",
       " Document(page_content='reactor', metadata={'source': 'https://en.wikipedia.org/wiki/Nuclear_power_in_space'}),\n",
       " Document(page_content='produced', metadata={'source': 'https://en.wikipedia.org/wiki/Nuclear_power_in_space'}),\n",
       " Document(page_content='10', metadata={'source': 'https://en.wikipedia.org/wiki/Nuclear_power_in_space'}),\n",
       " Document(page_content='kilowatts', metadata={'source': 'https://en.wikipedia.org/wiki/Nuclear_power_in_space'}),\n",
       " Document(page_content='of', metadata={'source': 'https://en.wikipedia.org/wiki/Nuclear_power_in_space'}),\n",
       " Document(page_content='electricity.[3]', metadata={'source': 'https://en.wikipedia.org/wiki/Nuclear_power_in_space'}),\n",
       " Document(page_content='Examples', metadata={'source': 'https://en.wikipedia.org/wiki/Nuclear_power_in_space'}),\n",
       " Document(page_content='of', metadata={'source': 'https://en.wikipedia.org/wiki/Nuclear_power_in_space'}),\n",
       " Document(page_content='concepts', metadata={'source': 'https://en.wikipedia.org/wiki/Nuclear_power_in_space'}),\n",
       " Document(page_content='that', metadata={'source': 'https://en.wikipedia.org/wiki/Nuclear_power_in_space'}),\n",
       " Document(page_content='use', metadata={'source': 'https://en.wikipedia.org/wiki/Nuclear_power_in_space'}),\n",
       " Document(page_content='nuclear', metadata={'source': 'https://en.wikipedia.org/wiki/Nuclear_power_in_space'}),\n",
       " Document(page_content='power', metadata={'source': 'https://en.wikipedia.org/wiki/Nuclear_power_in_space'}),\n",
       " Document(page_content='for', metadata={'source': 'https://en.wikipedia.org/wiki/Nuclear_power_in_space'}),\n",
       " Document(page_content='space', metadata={'source': 'https://en.wikipedia.org/wiki/Nuclear_power_in_space'}),\n",
       " Document(page_content='propulsion', metadata={'source': 'https://en.wikipedia.org/wiki/Nuclear_power_in_space'}),\n",
       " Document(page_content='systems', metadata={'source': 'https://en.wikipedia.org/wiki/Nuclear_power_in_space'}),\n",
       " Document(page_content='include', metadata={'source': 'https://en.wikipedia.org/wiki/Nuclear_power_in_space'}),\n",
       " Document(page_content='the', metadata={'source': 'https://en.wikipedia.org/wiki/Nuclear_power_in_space'}),\n",
       " Document(page_content='nuclear', metadata={'source': 'https://en.wikipedia.org/wiki/Nuclear_power_in_space'}),\n",
       " Document(page_content='electric', metadata={'source': 'https://en.wikipedia.org/wiki/Nuclear_power_in_space'}),\n",
       " Document(page_content='rocket', metadata={'source': 'https://en.wikipedia.org/wiki/Nuclear_power_in_space'}),\n",
       " Document(page_content='(nuclear', metadata={'source': 'https://en.wikipedia.org/wiki/Nuclear_power_in_space'}),\n",
       " Document(page_content='powered', metadata={'source': 'https://en.wikipedia.org/wiki/Nuclear_power_in_space'}),\n",
       " Document(page_content='ion', metadata={'source': 'https://en.wikipedia.org/wiki/Nuclear_power_in_space'}),\n",
       " Document(page_content='thruster(s)),', metadata={'source': 'https://en.wikipedia.org/wiki/Nuclear_power_in_space'}),\n",
       " Document(page_content='the', metadata={'source': 'https://en.wikipedia.org/wiki/Nuclear_power_in_space'}),\n",
       " Document(page_content='radioisotope', metadata={'source': 'https://en.wikipedia.org/wiki/Nuclear_power_in_space'}),\n",
       " Document(page_content='rocket,', metadata={'source': 'https://en.wikipedia.org/wiki/Nuclear_power_in_space'}),\n",
       " Document(page_content='and', metadata={'source': 'https://en.wikipedia.org/wiki/Nuclear_power_in_space'}),\n",
       " Document(page_content='radioisotope', metadata={'source': 'https://en.wikipedia.org/wiki/Nuclear_power_in_space'}),\n",
       " Document(page_content='electric', metadata={'source': 'https://en.wikipedia.org/wiki/Nuclear_power_in_space'}),\n",
       " Document(page_content='propulsion', metadata={'source': 'https://en.wikipedia.org/wiki/Nuclear_power_in_space'}),\n",
       " Document(page_content='(REP).[6]', metadata={'source': 'https://en.wikipedia.org/wiki/Nuclear_power_in_space'}),\n",
       " Document(page_content='One', metadata={'source': 'https://en.wikipedia.org/wiki/Nuclear_power_in_space'}),\n",
       " Document(page_content='of', metadata={'source': 'https://en.wikipedia.org/wiki/Nuclear_power_in_space'}),\n",
       " Document(page_content='the', metadata={'source': 'https://en.wikipedia.org/wiki/Nuclear_power_in_space'}),\n",
       " Document(page_content='more', metadata={'source': 'https://en.wikipedia.org/wiki/Nuclear_power_in_space'}),\n",
       " Document(page_content='explored', metadata={'source': 'https://en.wikipedia.org/wiki/Nuclear_power_in_space'}),\n",
       " Document(page_content='concepts', metadata={'source': 'https://en.wikipedia.org/wiki/Nuclear_power_in_space'}),\n",
       " Document(page_content='is', metadata={'source': 'https://en.wikipedia.org/wiki/Nuclear_power_in_space'}),\n",
       " Document(page_content='the', metadata={'source': 'https://en.wikipedia.org/wiki/Nuclear_power_in_space'}),\n",
       " Document(page_content='nuclear', metadata={'source': 'https://en.wikipedia.org/wiki/Nuclear_power_in_space'}),\n",
       " Document(page_content='thermal', metadata={'source': 'https://en.wikipedia.org/wiki/Nuclear_power_in_space'}),\n",
       " Document(page_content='rocket,', metadata={'source': 'https://en.wikipedia.org/wiki/Nuclear_power_in_space'}),\n",
       " Document(page_content='which', metadata={'source': 'https://en.wikipedia.org/wiki/Nuclear_power_in_space'}),\n",
       " Document(page_content='was', metadata={'source': 'https://en.wikipedia.org/wiki/Nuclear_power_in_space'}),\n",
       " Document(page_content='ground', metadata={'source': 'https://en.wikipedia.org/wiki/Nuclear_power_in_space'}),\n",
       " Document(page_content='tested', metadata={'source': 'https://en.wikipedia.org/wiki/Nuclear_power_in_space'}),\n",
       " Document(page_content='in', metadata={'source': 'https://en.wikipedia.org/wiki/Nuclear_power_in_space'}),\n",
       " Document(page_content='the', metadata={'source': 'https://en.wikipedia.org/wiki/Nuclear_power_in_space'}),\n",
       " Document(page_content='NERVA', metadata={'source': 'https://en.wikipedia.org/wiki/Nuclear_power_in_space'}),\n",
       " Document(page_content='program.', metadata={'source': 'https://en.wikipedia.org/wiki/Nuclear_power_in_space'}),\n",
       " Document(page_content='Nuclear', metadata={'source': 'https://en.wikipedia.org/wiki/Nuclear_power_in_space'}),\n",
       " Document(page_content='pulse', metadata={'source': 'https://en.wikipedia.org/wiki/Nuclear_power_in_space'}),\n",
       " Document(page_content='propulsion', metadata={'source': 'https://en.wikipedia.org/wiki/Nuclear_power_in_space'}),\n",
       " Document(page_content='was', metadata={'source': 'https://en.wikipedia.org/wiki/Nuclear_power_in_space'}),\n",
       " Document(page_content='the', metadata={'source': 'https://en.wikipedia.org/wiki/Nuclear_power_in_space'}),\n",
       " Document(page_content='subject', metadata={'source': 'https://en.wikipedia.org/wiki/Nuclear_power_in_space'}),\n",
       " Document(page_content='of', metadata={'source': 'https://en.wikipedia.org/wiki/Nuclear_power_in_space'}),\n",
       " Document(page_content='Project', metadata={'source': 'https://en.wikipedia.org/wiki/Nuclear_power_in_space'}),\n",
       " Document(page_content='Orion.[7]', metadata={'source': 'https://en.wikipedia.org/wiki/Nuclear_power_in_space'}),\n",
       " Document(page_content='Regulation', metadata={'source': 'https://en.wikipedia.org/wiki/Nuclear_power_in_space'}),\n",
       " Document(page_content='and', metadata={'source': 'https://en.wikipedia.org/wiki/Nuclear_power_in_space'}),\n",
       " Document(page_content='hazard', metadata={'source': 'https://en.wikipedia.org/wiki/Nuclear_power_in_space'}),\n",
       " Document(page_content='prevention[edit]', metadata={'source': 'https://en.wikipedia.org/wiki/Nuclear_power_in_space'}),\n",
       " Document(page_content='After', metadata={'source': 'https://en.wikipedia.org/wiki/Nuclear_power_in_space'}),\n",
       " Document(page_content='the', metadata={'source': 'https://en.wikipedia.org/wiki/Nuclear_power_in_space'}),\n",
       " Document(page_content='ban', metadata={'source': 'https://en.wikipedia.org/wiki/Nuclear_power_in_space'}),\n",
       " Document(page_content='of', metadata={'source': 'https://en.wikipedia.org/wiki/Nuclear_power_in_space'}),\n",
       " Document(page_content='nuclear', metadata={'source': 'https://en.wikipedia.org/wiki/Nuclear_power_in_space'}),\n",
       " Document(page_content='weapons', metadata={'source': 'https://en.wikipedia.org/wiki/Nuclear_power_in_space'}),\n",
       " Document(page_content='in', metadata={'source': 'https://en.wikipedia.org/wiki/Nuclear_power_in_space'}),\n",
       " Document(page_content='space', metadata={'source': 'https://en.wikipedia.org/wiki/Nuclear_power_in_space'}),\n",
       " Document(page_content='by', metadata={'source': 'https://en.wikipedia.org/wiki/Nuclear_power_in_space'}),\n",
       " Document(page_content='the', metadata={'source': 'https://en.wikipedia.org/wiki/Nuclear_power_in_space'}),\n",
       " Document(page_content='Outer', metadata={'source': 'https://en.wikipedia.org/wiki/Nuclear_power_in_space'}),\n",
       " Document(page_content='Space', metadata={'source': 'https://en.wikipedia.org/wiki/Nuclear_power_in_space'}),\n",
       " Document(page_content='Treaty', metadata={'source': 'https://en.wikipedia.org/wiki/Nuclear_power_in_space'}),\n",
       " Document(page_content='in', metadata={'source': 'https://en.wikipedia.org/wiki/Nuclear_power_in_space'}),\n",
       " Document(page_content='1967,', metadata={'source': 'https://en.wikipedia.org/wiki/Nuclear_power_in_space'}),\n",
       " Document(page_content='nuclear', metadata={'source': 'https://en.wikipedia.org/wiki/Nuclear_power_in_space'}),\n",
       " Document(page_content='power', metadata={'source': 'https://en.wikipedia.org/wiki/Nuclear_power_in_space'}),\n",
       " Document(page_content='has', metadata={'source': 'https://en.wikipedia.org/wiki/Nuclear_power_in_space'}),\n",
       " Document(page_content='been', metadata={'source': 'https://en.wikipedia.org/wiki/Nuclear_power_in_space'}),\n",
       " Document(page_content='discussed', metadata={'source': 'https://en.wikipedia.org/wiki/Nuclear_power_in_space'}),\n",
       " Document(page_content='at', metadata={'source': 'https://en.wikipedia.org/wiki/Nuclear_power_in_space'}),\n",
       " Document(page_content='least', metadata={'source': 'https://en.wikipedia.org/wiki/Nuclear_power_in_space'}),\n",
       " Document(page_content='since', metadata={'source': 'https://en.wikipedia.org/wiki/Nuclear_power_in_space'}),\n",
       " Document(page_content='1972', metadata={'source': 'https://en.wikipedia.org/wiki/Nuclear_power_in_space'}),\n",
       " Document(page_content='as', metadata={'source': 'https://en.wikipedia.org/wiki/Nuclear_power_in_space'}),\n",
       " Document(page_content='a', metadata={'source': 'https://en.wikipedia.org/wiki/Nuclear_power_in_space'}),\n",
       " Document(page_content='sensitive', metadata={'source': 'https://en.wikipedia.org/wiki/Nuclear_power_in_space'}),\n",
       " Document(page_content='issue', metadata={'source': 'https://en.wikipedia.org/wiki/Nuclear_power_in_space'}),\n",
       " Document(page_content='by', metadata={'source': 'https://en.wikipedia.org/wiki/Nuclear_power_in_space'}),\n",
       " Document(page_content='states.[8]', metadata={'source': 'https://en.wikipedia.org/wiki/Nuclear_power_in_space'}),\n",
       " Document(page_content='Particularly', metadata={'source': 'https://en.wikipedia.org/wiki/Nuclear_power_in_space'}),\n",
       " Document(page_content='its', metadata={'source': 'https://en.wikipedia.org/wiki/Nuclear_power_in_space'}),\n",
       " Document(page_content='potential', metadata={'source': 'https://en.wikipedia.org/wiki/Nuclear_power_in_space'}),\n",
       " Document(page_content='hazards', metadata={'source': 'https://en.wikipedia.org/wiki/Nuclear_power_in_space'}),\n",
       " Document(page_content='to', metadata={'source': 'https://en.wikipedia.org/wiki/Nuclear_power_in_space'}),\n",
       " Document(page_content=\"Earth's\", metadata={'source': 'https://en.wikipedia.org/wiki/Nuclear_power_in_space'}),\n",
       " Document(page_content='environment', metadata={'source': 'https://en.wikipedia.org/wiki/Nuclear_power_in_space'}),\n",
       " Document(page_content='and', metadata={'source': 'https://en.wikipedia.org/wiki/Nuclear_power_in_space'}),\n",
       " Document(page_content='thus', metadata={'source': 'https://en.wikipedia.org/wiki/Nuclear_power_in_space'}),\n",
       " Document(page_content='also', metadata={'source': 'https://en.wikipedia.org/wiki/Nuclear_power_in_space'}),\n",
       " Document(page_content='humans', metadata={'source': 'https://en.wikipedia.org/wiki/Nuclear_power_in_space'}),\n",
       " Document(page_content='has', metadata={'source': 'https://en.wikipedia.org/wiki/Nuclear_power_in_space'}),\n",
       " Document(page_content='prompted', metadata={'source': 'https://en.wikipedia.org/wiki/Nuclear_power_in_space'}),\n",
       " Document(page_content='states', metadata={'source': 'https://en.wikipedia.org/wiki/Nuclear_power_in_space'}),\n",
       " Document(page_content='to', metadata={'source': 'https://en.wikipedia.org/wiki/Nuclear_power_in_space'}),\n",
       " Document(page_content='adopt', metadata={'source': 'https://en.wikipedia.org/wiki/Nuclear_power_in_space'}),\n",
       " Document(page_content='in', metadata={'source': 'https://en.wikipedia.org/wiki/Nuclear_power_in_space'}),\n",
       " Document(page_content='the', metadata={'source': 'https://en.wikipedia.org/wiki/Nuclear_power_in_space'}),\n",
       " Document(page_content='U.N.', metadata={'source': 'https://en.wikipedia.org/wiki/Nuclear_power_in_space'}),\n",
       " Document(page_content='General', metadata={'source': 'https://en.wikipedia.org/wiki/Nuclear_power_in_space'}),\n",
       " Document(page_content='Assembly', metadata={'source': 'https://en.wikipedia.org/wiki/Nuclear_power_in_space'}),\n",
       " Document(page_content='the', metadata={'source': 'https://en.wikipedia.org/wiki/Nuclear_power_in_space'}),\n",
       " Document(page_content='Principles', metadata={'source': 'https://en.wikipedia.org/wiki/Nuclear_power_in_space'}),\n",
       " Document(page_content='Relevant', metadata={'source': 'https://en.wikipedia.org/wiki/Nuclear_power_in_space'}),\n",
       " Document(page_content='to', metadata={'source': 'https://en.wikipedia.org/wiki/Nuclear_power_in_space'}),\n",
       " Document(page_content='the', metadata={'source': 'https://en.wikipedia.org/wiki/Nuclear_power_in_space'}),\n",
       " Document(page_content='Use', metadata={'source': 'https://en.wikipedia.org/wiki/Nuclear_power_in_space'}),\n",
       " Document(page_content='of', metadata={'source': 'https://en.wikipedia.org/wiki/Nuclear_power_in_space'}),\n",
       " Document(page_content='Nuclear', metadata={'source': 'https://en.wikipedia.org/wiki/Nuclear_power_in_space'}),\n",
       " Document(page_content='Power', metadata={'source': 'https://en.wikipedia.org/wiki/Nuclear_power_in_space'}),\n",
       " Document(page_content='Sources', metadata={'source': 'https://en.wikipedia.org/wiki/Nuclear_power_in_space'}),\n",
       " Document(page_content='in', metadata={'source': 'https://en.wikipedia.org/wiki/Nuclear_power_in_space'}),\n",
       " Document(page_content='Outer', metadata={'source': 'https://en.wikipedia.org/wiki/Nuclear_power_in_space'}),\n",
       " Document(page_content='Space', metadata={'source': 'https://en.wikipedia.org/wiki/Nuclear_power_in_space'}),\n",
       " Document(page_content='(1992),', metadata={'source': 'https://en.wikipedia.org/wiki/Nuclear_power_in_space'}),\n",
       " Document(page_content='particularly', metadata={'source': 'https://en.wikipedia.org/wiki/Nuclear_power_in_space'}),\n",
       " Document(page_content='introducing', metadata={'source': 'https://en.wikipedia.org/wiki/Nuclear_power_in_space'}),\n",
       " Document(page_content='safety', metadata={'source': 'https://en.wikipedia.org/wiki/Nuclear_power_in_space'}),\n",
       " Document(page_content='principles', metadata={'source': 'https://en.wikipedia.org/wiki/Nuclear_power_in_space'}),\n",
       " Document(page_content='for', metadata={'source': 'https://en.wikipedia.org/wiki/Nuclear_power_in_space'}),\n",
       " Document(page_content='launches', metadata={'source': 'https://en.wikipedia.org/wiki/Nuclear_power_in_space'}),\n",
       " Document(page_content='and', metadata={'source': 'https://en.wikipedia.org/wiki/Nuclear_power_in_space'}),\n",
       " Document(page_content='to', metadata={'source': 'https://en.wikipedia.org/wiki/Nuclear_power_in_space'}),\n",
       " Document(page_content='manage', metadata={'source': 'https://en.wikipedia.org/wiki/Nuclear_power_in_space'}),\n",
       " Document(page_content='their', metadata={'source': 'https://en.wikipedia.org/wiki/Nuclear_power_in_space'}),\n",
       " Document(page_content='traffic.[8]', metadata={'source': 'https://en.wikipedia.org/wiki/Nuclear_power_in_space'}),\n",
       " Document(page_content='Benefits', metadata={'source': 'https://en.wikipedia.org/wiki/Nuclear_power_in_space'}),\n",
       " Document(page_content='Both', metadata={'source': 'https://en.wikipedia.org/wiki/Nuclear_power_in_space'}),\n",
       " Document(page_content='the', metadata={'source': 'https://en.wikipedia.org/wiki/Nuclear_power_in_space'}),\n",
       " Document(page_content='Viking', metadata={'source': 'https://en.wikipedia.org/wiki/Nuclear_power_in_space'}),\n",
       " Document(page_content='1', metadata={'source': 'https://en.wikipedia.org/wiki/Nuclear_power_in_space'}),\n",
       " Document(page_content='and', metadata={'source': 'https://en.wikipedia.org/wiki/Nuclear_power_in_space'}),\n",
       " Document(page_content='Viking', metadata={'source': 'https://en.wikipedia.org/wiki/Nuclear_power_in_space'}),\n",
       " Document(page_content='2', metadata={'source': 'https://en.wikipedia.org/wiki/Nuclear_power_in_space'}),\n",
       " Document(page_content='landers', metadata={'source': 'https://en.wikipedia.org/wiki/Nuclear_power_in_space'}),\n",
       " Document(page_content='used', metadata={'source': 'https://en.wikipedia.org/wiki/Nuclear_power_in_space'}),\n",
       " Document(page_content='RTGs', metadata={'source': 'https://en.wikipedia.org/wiki/Nuclear_power_in_space'}),\n",
       " Document(page_content='for', metadata={'source': 'https://en.wikipedia.org/wiki/Nuclear_power_in_space'}),\n",
       " Document(page_content='power', metadata={'source': 'https://en.wikipedia.org/wiki/Nuclear_power_in_space'}),\n",
       " Document(page_content='on', metadata={'source': 'https://en.wikipedia.org/wiki/Nuclear_power_in_space'}),\n",
       " Document(page_content='the', metadata={'source': 'https://en.wikipedia.org/wiki/Nuclear_power_in_space'}),\n",
       " Document(page_content='surface', metadata={'source': 'https://en.wikipedia.org/wiki/Nuclear_power_in_space'}),\n",
       " Document(page_content='of', metadata={'source': 'https://en.wikipedia.org/wiki/Nuclear_power_in_space'}),\n",
       " Document(page_content='Mars.', metadata={'source': 'https://en.wikipedia.org/wiki/Nuclear_power_in_space'}),\n",
       " Document(page_content='(Viking', metadata={'source': 'https://en.wikipedia.org/wiki/Nuclear_power_in_space'}),\n",
       " Document(page_content='launch', metadata={'source': 'https://en.wikipedia.org/wiki/Nuclear_power_in_space'}),\n",
       " Document(page_content='vehicle', metadata={'source': 'https://en.wikipedia.org/wiki/Nuclear_power_in_space'}),\n",
       " Document(page_content='pictured)', metadata={'source': 'https://en.wikipedia.org/wiki/Nuclear_power_in_space'}),\n",
       " Document(page_content='While', metadata={'source': 'https://en.wikipedia.org/wiki/Nuclear_power_in_space'}),\n",
       " Document(page_content='solar', metadata={'source': 'https://en.wikipedia.org/wiki/Nuclear_power_in_space'}),\n",
       " Document(page_content='power', metadata={'source': 'https://en.wikipedia.org/wiki/Nuclear_power_in_space'}),\n",
       " Document(page_content='is', metadata={'source': 'https://en.wikipedia.org/wiki/Nuclear_power_in_space'}),\n",
       " Document(page_content='much', metadata={'source': 'https://en.wikipedia.org/wiki/Nuclear_power_in_space'}),\n",
       " Document(page_content='more', metadata={'source': 'https://en.wikipedia.org/wiki/Nuclear_power_in_space'}),\n",
       " Document(page_content='commonly', metadata={'source': 'https://en.wikipedia.org/wiki/Nuclear_power_in_space'}),\n",
       " Document(page_content='used,', metadata={'source': 'https://en.wikipedia.org/wiki/Nuclear_power_in_space'}),\n",
       " Document(page_content='nuclear', metadata={'source': 'https://en.wikipedia.org/wiki/Nuclear_power_in_space'}),\n",
       " Document(page_content='power', metadata={'source': 'https://en.wikipedia.org/wiki/Nuclear_power_in_space'}),\n",
       " Document(page_content='can', metadata={'source': 'https://en.wikipedia.org/wiki/Nuclear_power_in_space'}),\n",
       " Document(page_content='offer', metadata={'source': 'https://en.wikipedia.org/wiki/Nuclear_power_in_space'}),\n",
       " Document(page_content='advantages', metadata={'source': 'https://en.wikipedia.org/wiki/Nuclear_power_in_space'}),\n",
       " Document(page_content='in', metadata={'source': 'https://en.wikipedia.org/wiki/Nuclear_power_in_space'}),\n",
       " Document(page_content='some', metadata={'source': 'https://en.wikipedia.org/wiki/Nuclear_power_in_space'}),\n",
       " Document(page_content='areas.', metadata={'source': 'https://en.wikipedia.org/wiki/Nuclear_power_in_space'}),\n",
       " Document(page_content='Solar', metadata={'source': 'https://en.wikipedia.org/wiki/Nuclear_power_in_space'}),\n",
       " Document(page_content='cells,', metadata={'source': 'https://en.wikipedia.org/wiki/Nuclear_power_in_space'}),\n",
       " Document(page_content='although', metadata={'source': 'https://en.wikipedia.org/wiki/Nuclear_power_in_space'}),\n",
       " Document(page_content='efficient,', metadata={'source': 'https://en.wikipedia.org/wiki/Nuclear_power_in_space'}),\n",
       " Document(page_content='can', metadata={'source': 'https://en.wikipedia.org/wiki/Nuclear_power_in_space'}),\n",
       " Document(page_content='only', metadata={'source': 'https://en.wikipedia.org/wiki/Nuclear_power_in_space'}),\n",
       " Document(page_content='supply', metadata={'source': 'https://en.wikipedia.org/wiki/Nuclear_power_in_space'}),\n",
       " Document(page_content='energy', metadata={'source': 'https://en.wikipedia.org/wiki/Nuclear_power_in_space'}),\n",
       " Document(page_content='to', metadata={'source': 'https://en.wikipedia.org/wiki/Nuclear_power_in_space'}),\n",
       " Document(page_content='spacecraft', metadata={'source': 'https://en.wikipedia.org/wiki/Nuclear_power_in_space'}),\n",
       " Document(page_content='in', metadata={'source': 'https://en.wikipedia.org/wiki/Nuclear_power_in_space'}),\n",
       " Document(page_content='orbits', metadata={'source': 'https://en.wikipedia.org/wiki/Nuclear_power_in_space'}),\n",
       " Document(page_content='where', metadata={'source': 'https://en.wikipedia.org/wiki/Nuclear_power_in_space'}),\n",
       " Document(page_content='the', metadata={'source': 'https://en.wikipedia.org/wiki/Nuclear_power_in_space'}),\n",
       " Document(page_content='solar', metadata={'source': 'https://en.wikipedia.org/wiki/Nuclear_power_in_space'}),\n",
       " Document(page_content='flux', metadata={'source': 'https://en.wikipedia.org/wiki/Nuclear_power_in_space'}),\n",
       " Document(page_content='is', metadata={'source': 'https://en.wikipedia.org/wiki/Nuclear_power_in_space'}),\n",
       " Document(page_content='sufficiently', metadata={'source': 'https://en.wikipedia.org/wiki/Nuclear_power_in_space'}),\n",
       " Document(page_content='high,', metadata={'source': 'https://en.wikipedia.org/wiki/Nuclear_power_in_space'}),\n",
       " Document(page_content='such', metadata={'source': 'https://en.wikipedia.org/wiki/Nuclear_power_in_space'}),\n",
       " Document(page_content='as', metadata={'source': 'https://en.wikipedia.org/wiki/Nuclear_power_in_space'}),\n",
       " Document(page_content='low', metadata={'source': 'https://en.wikipedia.org/wiki/Nuclear_power_in_space'}),\n",
       " Document(page_content='Earth', metadata={'source': 'https://en.wikipedia.org/wiki/Nuclear_power_in_space'}),\n",
       " Document(page_content='orbit', metadata={'source': 'https://en.wikipedia.org/wiki/Nuclear_power_in_space'}),\n",
       " Document(page_content='and', metadata={'source': 'https://en.wikipedia.org/wiki/Nuclear_power_in_space'}),\n",
       " Document(page_content='interplanetary', metadata={'source': 'https://en.wikipedia.org/wiki/Nuclear_power_in_space'}),\n",
       " Document(page_content='destinations', metadata={'source': 'https://en.wikipedia.org/wiki/Nuclear_power_in_space'}),\n",
       " Document(page_content='close', metadata={'source': 'https://en.wikipedia.org/wiki/Nuclear_power_in_space'}),\n",
       " Document(page_content='enough', metadata={'source': 'https://en.wikipedia.org/wiki/Nuclear_power_in_space'}),\n",
       " Document(page_content='to', metadata={'source': 'https://en.wikipedia.org/wiki/Nuclear_power_in_space'}),\n",
       " Document(page_content='the', metadata={'source': 'https://en.wikipedia.org/wiki/Nuclear_power_in_space'}),\n",
       " Document(page_content='Sun.', metadata={'source': 'https://en.wikipedia.org/wiki/Nuclear_power_in_space'}),\n",
       " Document(page_content='Unlike', metadata={'source': 'https://en.wikipedia.org/wiki/Nuclear_power_in_space'}),\n",
       " Document(page_content='solar', metadata={'source': 'https://en.wikipedia.org/wiki/Nuclear_power_in_space'}),\n",
       " Document(page_content='cells,', metadata={'source': 'https://en.wikipedia.org/wiki/Nuclear_power_in_space'}),\n",
       " Document(page_content='nuclear', metadata={'source': 'https://en.wikipedia.org/wiki/Nuclear_power_in_space'}),\n",
       " Document(page_content='power', metadata={'source': 'https://en.wikipedia.org/wiki/Nuclear_power_in_space'}),\n",
       " Document(page_content='systems', metadata={'source': 'https://en.wikipedia.org/wiki/Nuclear_power_in_space'}),\n",
       " Document(page_content='function', metadata={'source': 'https://en.wikipedia.org/wiki/Nuclear_power_in_space'}),\n",
       " Document(page_content='independently', metadata={'source': 'https://en.wikipedia.org/wiki/Nuclear_power_in_space'}),\n",
       " Document(page_content='of', metadata={'source': 'https://en.wikipedia.org/wiki/Nuclear_power_in_space'}),\n",
       " Document(page_content='sunlight,', metadata={'source': 'https://en.wikipedia.org/wiki/Nuclear_power_in_space'}),\n",
       " Document(page_content='which', metadata={'source': 'https://en.wikipedia.org/wiki/Nuclear_power_in_space'}),\n",
       " Document(page_content='is', metadata={'source': 'https://en.wikipedia.org/wiki/Nuclear_power_in_space'}),\n",
       " Document(page_content='necessary', metadata={'source': 'https://en.wikipedia.org/wiki/Nuclear_power_in_space'}),\n",
       " Document(page_content='for', metadata={'source': 'https://en.wikipedia.org/wiki/Nuclear_power_in_space'}),\n",
       " Document(page_content='deep', metadata={'source': 'https://en.wikipedia.org/wiki/Nuclear_power_in_space'}),\n",
       " Document(page_content='space', metadata={'source': 'https://en.wikipedia.org/wiki/Nuclear_power_in_space'}),\n",
       " Document(page_content='exploration.', metadata={'source': 'https://en.wikipedia.org/wiki/Nuclear_power_in_space'}),\n",
       " Document(page_content='Nuclear-based', metadata={'source': 'https://en.wikipedia.org/wiki/Nuclear_power_in_space'}),\n",
       " Document(page_content='systems', metadata={'source': 'https://en.wikipedia.org/wiki/Nuclear_power_in_space'}),\n",
       " Document(page_content='can', metadata={'source': 'https://en.wikipedia.org/wiki/Nuclear_power_in_space'}),\n",
       " Document(page_content='have', metadata={'source': 'https://en.wikipedia.org/wiki/Nuclear_power_in_space'}),\n",
       " Document(page_content='less', metadata={'source': 'https://en.wikipedia.org/wiki/Nuclear_power_in_space'}),\n",
       " Document(page_content='mass', metadata={'source': 'https://en.wikipedia.org/wiki/Nuclear_power_in_space'}),\n",
       " Document(page_content='than', metadata={'source': 'https://en.wikipedia.org/wiki/Nuclear_power_in_space'}),\n",
       " Document(page_content='solar', metadata={'source': 'https://en.wikipedia.org/wiki/Nuclear_power_in_space'}),\n",
       " Document(page_content='cells', metadata={'source': 'https://en.wikipedia.org/wiki/Nuclear_power_in_space'}),\n",
       " Document(page_content='of', metadata={'source': 'https://en.wikipedia.org/wiki/Nuclear_power_in_space'}),\n",
       " Document(page_content='equivalent', metadata={'source': 'https://en.wikipedia.org/wiki/Nuclear_power_in_space'}),\n",
       " Document(page_content='power,', metadata={'source': 'https://en.wikipedia.org/wiki/Nuclear_power_in_space'}),\n",
       " Document(page_content='allowing', metadata={'source': 'https://en.wikipedia.org/wiki/Nuclear_power_in_space'}),\n",
       " Document(page_content='more', metadata={'source': 'https://en.wikipedia.org/wiki/Nuclear_power_in_space'}),\n",
       " Document(page_content='compact', metadata={'source': 'https://en.wikipedia.org/wiki/Nuclear_power_in_space'}),\n",
       " Document(page_content='spacecraft', metadata={'source': 'https://en.wikipedia.org/wiki/Nuclear_power_in_space'}),\n",
       " Document(page_content='that', metadata={'source': 'https://en.wikipedia.org/wiki/Nuclear_power_in_space'}),\n",
       " Document(page_content='are', metadata={'source': 'https://en.wikipedia.org/wiki/Nuclear_power_in_space'}),\n",
       " Document(page_content='easier', metadata={'source': 'https://en.wikipedia.org/wiki/Nuclear_power_in_space'}),\n",
       " Document(page_content='to', metadata={'source': 'https://en.wikipedia.org/wiki/Nuclear_power_in_space'}),\n",
       " Document(page_content='orient', metadata={'source': 'https://en.wikipedia.org/wiki/Nuclear_power_in_space'}),\n",
       " Document(page_content='and', metadata={'source': 'https://en.wikipedia.org/wiki/Nuclear_power_in_space'}),\n",
       " Document(page_content='direct', metadata={'source': 'https://en.wikipedia.org/wiki/Nuclear_power_in_space'}),\n",
       " Document(page_content='in', metadata={'source': 'https://en.wikipedia.org/wiki/Nuclear_power_in_space'}),\n",
       " Document(page_content='space.', metadata={'source': 'https://en.wikipedia.org/wiki/Nuclear_power_in_space'}),\n",
       " Document(page_content='In', metadata={'source': 'https://en.wikipedia.org/wiki/Nuclear_power_in_space'}),\n",
       " Document(page_content='the', metadata={'source': 'https://en.wikipedia.org/wiki/Nuclear_power_in_space'}),\n",
       " Document(page_content='case', metadata={'source': 'https://en.wikipedia.org/wiki/Nuclear_power_in_space'}),\n",
       " Document(page_content='of', metadata={'source': 'https://en.wikipedia.org/wiki/Nuclear_power_in_space'}),\n",
       " Document(page_content='crewed', metadata={'source': 'https://en.wikipedia.org/wiki/Nuclear_power_in_space'}),\n",
       " Document(page_content='spaceflight,', metadata={'source': 'https://en.wikipedia.org/wiki/Nuclear_power_in_space'}),\n",
       " Document(page_content='nuclear', metadata={'source': 'https://en.wikipedia.org/wiki/Nuclear_power_in_space'}),\n",
       " Document(page_content='power', metadata={'source': 'https://en.wikipedia.org/wiki/Nuclear_power_in_space'}),\n",
       " Document(page_content='concepts', metadata={'source': 'https://en.wikipedia.org/wiki/Nuclear_power_in_space'}),\n",
       " Document(page_content='that', metadata={'source': 'https://en.wikipedia.org/wiki/Nuclear_power_in_space'}),\n",
       " Document(page_content='can', metadata={'source': 'https://en.wikipedia.org/wiki/Nuclear_power_in_space'}),\n",
       " Document(page_content='power', metadata={'source': 'https://en.wikipedia.org/wiki/Nuclear_power_in_space'}),\n",
       " Document(page_content='both', metadata={'source': 'https://en.wikipedia.org/wiki/Nuclear_power_in_space'}),\n",
       " Document(page_content='life', metadata={'source': 'https://en.wikipedia.org/wiki/Nuclear_power_in_space'}),\n",
       " Document(page_content='support', metadata={'source': 'https://en.wikipedia.org/wiki/Nuclear_power_in_space'}),\n",
       " Document(page_content='and', metadata={'source': 'https://en.wikipedia.org/wiki/Nuclear_power_in_space'}),\n",
       " Document(page_content='propulsion', metadata={'source': 'https://en.wikipedia.org/wiki/Nuclear_power_in_space'}),\n",
       " Document(page_content='systems', metadata={'source': 'https://en.wikipedia.org/wiki/Nuclear_power_in_space'}),\n",
       " Document(page_content='may', metadata={'source': 'https://en.wikipedia.org/wiki/Nuclear_power_in_space'}),\n",
       " Document(page_content='reduce', metadata={'source': 'https://en.wikipedia.org/wiki/Nuclear_power_in_space'}),\n",
       " Document(page_content='both', metadata={'source': 'https://en.wikipedia.org/wiki/Nuclear_power_in_space'}),\n",
       " Document(page_content='cost', metadata={'source': 'https://en.wikipedia.org/wiki/Nuclear_power_in_space'}),\n",
       " Document(page_content='and', metadata={'source': 'https://en.wikipedia.org/wiki/Nuclear_power_in_space'}),\n",
       " Document(page_content='flight', metadata={'source': 'https://en.wikipedia.org/wiki/Nuclear_power_in_space'}),\n",
       " Document(page_content='time.[9]', metadata={'source': 'https://en.wikipedia.org/wiki/Nuclear_power_in_space'}),\n",
       " Document(page_content='Selected', metadata={'source': 'https://en.wikipedia.org/wiki/Nuclear_power_in_space'}),\n",
       " Document(page_content='applications', metadata={'source': 'https://en.wikipedia.org/wiki/Nuclear_power_in_space'}),\n",
       " Document(page_content='and/or', metadata={'source': 'https://en.wikipedia.org/wiki/Nuclear_power_in_space'}),\n",
       " Document(page_content='technologies', metadata={'source': 'https://en.wikipedia.org/wiki/Nuclear_power_in_space'}),\n",
       " Document(page_content='for', metadata={'source': 'https://en.wikipedia.org/wiki/Nuclear_power_in_space'}),\n",
       " Document(page_content='space', metadata={'source': 'https://en.wikipedia.org/wiki/Nuclear_power_in_space'}),\n",
       " Document(page_content='include:', metadata={'source': 'https://en.wikipedia.org/wiki/Nuclear_power_in_space'}),\n",
       " Document(page_content='Radioisotope', metadata={'source': 'https://en.wikipedia.org/wiki/Nuclear_power_in_space'}),\n",
       " Document(page_content='thermoelectric', metadata={'source': 'https://en.wikipedia.org/wiki/Nuclear_power_in_space'}),\n",
       " Document(page_content='generator', metadata={'source': 'https://en.wikipedia.org/wiki/Nuclear_power_in_space'}),\n",
       " Document(page_content='Radioisotope', metadata={'source': 'https://en.wikipedia.org/wiki/Nuclear_power_in_space'}),\n",
       " Document(page_content='heater', metadata={'source': 'https://en.wikipedia.org/wiki/Nuclear_power_in_space'}),\n",
       " Document(page_content='unit', metadata={'source': 'https://en.wikipedia.org/wiki/Nuclear_power_in_space'}),\n",
       " Document(page_content='Radioisotope', metadata={'source': 'https://en.wikipedia.org/wiki/Nuclear_power_in_space'}),\n",
       " Document(page_content='piezoelectric', metadata={'source': 'https://en.wikipedia.org/wiki/Nuclear_power_in_space'}),\n",
       " Document(page_content='generator', metadata={'source': 'https://en.wikipedia.org/wiki/Nuclear_power_in_space'}),\n",
       " Document(page_content='Radioisotope', metadata={'source': 'https://en.wikipedia.org/wiki/Nuclear_power_in_space'}),\n",
       " Document(page_content='rocket', metadata={'source': 'https://en.wikipedia.org/wiki/Nuclear_power_in_space'}),\n",
       " Document(page_content='Nuclear', metadata={'source': 'https://en.wikipedia.org/wiki/Nuclear_power_in_space'}),\n",
       " Document(page_content='thermal', metadata={'source': 'https://en.wikipedia.org/wiki/Nuclear_power_in_space'}),\n",
       " Document(page_content='rocket', metadata={'source': 'https://en.wikipedia.org/wiki/Nuclear_power_in_space'}),\n",
       " Document(page_content='Nuclear', metadata={'source': 'https://en.wikipedia.org/wiki/Nuclear_power_in_space'}),\n",
       " Document(page_content='pulse', metadata={'source': 'https://en.wikipedia.org/wiki/Nuclear_power_in_space'}),\n",
       " Document(page_content='propulsion', metadata={'source': 'https://en.wikipedia.org/wiki/Nuclear_power_in_space'}),\n",
       " Document(page_content='Nuclear', metadata={'source': 'https://en.wikipedia.org/wiki/Nuclear_power_in_space'}),\n",
       " Document(page_content='electric', metadata={'source': 'https://en.wikipedia.org/wiki/Nuclear_power_in_space'}),\n",
       " Document(page_content='rocket', metadata={'source': 'https://en.wikipedia.org/wiki/Nuclear_power_in_space'})]"
      ]
     },
     "execution_count": 26,
     "metadata": {},
     "output_type": "execute_result"
    }
   ],
   "source": [
    "docs"
   ]
  },
  {
   "cell_type": "code",
   "execution_count": 15,
   "id": "8b560f10-6f67-4c07-9dd6-624cb031597d",
   "metadata": {
    "tags": []
   },
   "outputs": [],
   "source": [
    "from langchain.schema.prompt_template import format_document"
   ]
  },
  {
   "cell_type": "code",
   "execution_count": null,
   "id": "98a13862-e66a-4d8e-9eff-2529da822d8d",
   "metadata": {},
   "outputs": [],
   "source": []
  },
  {
   "cell_type": "code",
   "execution_count": 19,
   "id": "59602ebd-d643-4eb1-8a25-3c28549cf05b",
   "metadata": {
    "tags": []
   },
   "outputs": [],
   "source": [
    "doc_prompt = PromptTemplate.from_template(\"{page_content}\")"
   ]
  },
  {
   "cell_type": "code",
   "execution_count": 20,
   "id": "c5c74e6c-0971-4692-ac85-d903082f8a06",
   "metadata": {
    "collapsed": true,
    "jupyter": {
     "outputs_hidden": true
    },
    "tags": []
   },
   "outputs": [
    {
     "data": {
      "text/plain": [
       "{'content': \"Nuclear\\n\\npower\\n\\nin\\n\\nspace\\n\\nis\\n\\nthe\\n\\nuse\\n\\nof\\n\\nnuclear\\n\\npower\\n\\nin\\n\\nouter\\n\\nspace,\\n\\ntypically\\n\\neither\\n\\nsmall\\n\\nfission\\n\\nsystems\\n\\nor\\n\\nradioactive\\n\\ndecay\\n\\nfor\\n\\nelectricity\\n\\nor\\n\\nheat.\\n\\nAnother\\n\\nuse\\n\\nis\\n\\nfor\\n\\nscientific\\n\\nobservation,\\n\\nas\\n\\nin\\n\\na\\n\\nMössbauer\\n\\nspectrometer.\\n\\nThe\\n\\nmost\\n\\ncommon\\n\\ntype\\n\\nis\\n\\na\\n\\nradioisotope\\n\\nthermoelectric\\n\\ngenerator,\\n\\nwhich\\n\\nhas\\n\\nbeen\\n\\nused\\n\\non\\n\\nmany\\n\\nspace\\n\\nprobes\\n\\nand\\n\\non\\n\\ncrewed\\n\\nlunar\\n\\nmissions.\\n\\nSmall\\n\\nfission\\n\\nreactors\\n\\nfor\\n\\nEarth\\n\\nobservation\\n\\nsatellites,\\n\\nsuch\\n\\nas\\n\\nthe\\n\\nTOPAZ\\n\\nnuclear\\n\\nreactor,\\n\\nhave\\n\\nalso\\n\\nbeen\\n\\nflown.[1]\\n\\nA\\n\\nradioisotope\\n\\nheater\\n\\nunit\\n\\nis\\n\\npowered\\n\\nby\\n\\nradioactive\\n\\ndecay\\n\\nand\\n\\ncan\\n\\nkeep\\n\\ncomponents\\n\\nfrom\\n\\nbecoming\\n\\ntoo\\n\\ncold\\n\\nto\\n\\nfunction,\\n\\npotentially\\n\\nover\\n\\na\\n\\nspan\\n\\nof\\n\\ndecades.[2]\\n\\nThe\\n\\nUnited\\n\\nStates\\n\\ntested\\n\\nthe\\n\\nSNAP-10A\\n\\nnuclear\\n\\nreactor\\n\\nin\\n\\nspace\\n\\nfor\\n\\n43\\n\\ndays\\n\\nin\\n\\n1965,[3]\\n\\nwith\\n\\nthe\\n\\nnext\\n\\ntest\\n\\nof\\n\\na\\n\\nnuclear\\n\\nreactor\\n\\npower\\n\\nsystem\\n\\nintended\\n\\nfor\\n\\nspace\\n\\nuse\\n\\noccurring\\n\\non\\n\\n13\\n\\nSeptember\\n\\n2012\\n\\nwith\\n\\nthe\\n\\nDemonstration\\n\\nUsing\\n\\nFlattop\\n\\nFission\\n\\n(DUFF)\\n\\ntest\\n\\nof\\n\\nthe\\n\\nKilopower\\n\\nreactor.[4]\\n\\nAfter\\n\\na\\n\\nground-based\\n\\ntest\\n\\nof\\n\\nthe\\n\\nexperimental\\n\\n1965\\n\\nRomashka\\n\\nreactor,\\n\\nwhich\\n\\nused\\n\\nuranium\\n\\nand\\n\\ndirect\\n\\nthermoelectric\\n\\nconversion\\n\\nto\\n\\nelectricity,[5]\\n\\nthe\\n\\nUSSR\\n\\nsent\\n\\nabout\\n\\n40\\n\\nnuclear-electric\\n\\nsatellites\\n\\ninto\\n\\nspace,\\n\\nmostly\\n\\npowered\\n\\nby\\n\\nthe\\n\\nBES-5\\n\\nreactor.\\n\\nThe\\n\\nmore\\n\\npowerful\\n\\nTOPAZ-II\\n\\nreactor\\n\\nproduced\\n\\n10\\n\\nkilowatts\\n\\nof\\n\\nelectricity.[3]\\n\\nExamples\\n\\nof\\n\\nconcepts\\n\\nthat\\n\\nuse\\n\\nnuclear\\n\\npower\\n\\nfor\\n\\nspace\\n\\npropulsion\\n\\nsystems\\n\\ninclude\\n\\nthe\\n\\nnuclear\\n\\nelectric\\n\\nrocket\\n\\n(nuclear\\n\\npowered\\n\\nion\\n\\nthruster(s)),\\n\\nthe\\n\\nradioisotope\\n\\nrocket,\\n\\nand\\n\\nradioisotope\\n\\nelectric\\n\\npropulsion\\n\\n(REP).[6]\\n\\nOne\\n\\nof\\n\\nthe\\n\\nmore\\n\\nexplored\\n\\nconcepts\\n\\nis\\n\\nthe\\n\\nnuclear\\n\\nthermal\\n\\nrocket,\\n\\nwhich\\n\\nwas\\n\\nground\\n\\ntested\\n\\nin\\n\\nthe\\n\\nNERVA\\n\\nprogram.\\n\\nNuclear\\n\\npulse\\n\\npropulsion\\n\\nwas\\n\\nthe\\n\\nsubject\\n\\nof\\n\\nProject\\n\\nOrion.[7]\\n\\nRegulation\\n\\nand\\n\\nhazard\\n\\nprevention[edit]\\n\\nAfter\\n\\nthe\\n\\nban\\n\\nof\\n\\nnuclear\\n\\nweapons\\n\\nin\\n\\nspace\\n\\nby\\n\\nthe\\n\\nOuter\\n\\nSpace\\n\\nTreaty\\n\\nin\\n\\n1967,\\n\\nnuclear\\n\\npower\\n\\nhas\\n\\nbeen\\n\\ndiscussed\\n\\nat\\n\\nleast\\n\\nsince\\n\\n1972\\n\\nas\\n\\na\\n\\nsensitive\\n\\nissue\\n\\nby\\n\\nstates.[8]\\n\\nParticularly\\n\\nits\\n\\npotential\\n\\nhazards\\n\\nto\\n\\nEarth's\\n\\nenvironment\\n\\nand\\n\\nthus\\n\\nalso\\n\\nhumans\\n\\nhas\\n\\nprompted\\n\\nstates\\n\\nto\\n\\nadopt\\n\\nin\\n\\nthe\\n\\nU.N.\\n\\nGeneral\\n\\nAssembly\\n\\nthe\\n\\nPrinciples\\n\\nRelevant\\n\\nto\\n\\nthe\\n\\nUse\\n\\nof\\n\\nNuclear\\n\\nPower\\n\\nSources\\n\\nin\\n\\nOuter\\n\\nSpace\\n\\n(1992),\\n\\nparticularly\\n\\nintroducing\\n\\nsafety\\n\\nprinciples\\n\\nfor\\n\\nlaunches\\n\\nand\\n\\nto\\n\\nmanage\\n\\ntheir\\n\\ntraffic.[8]\\n\\nBenefits\\n\\nBoth\\n\\nthe\\n\\nViking\\n\\n1\\n\\nand\\n\\nViking\\n\\n2\\n\\nlanders\\n\\nused\\n\\nRTGs\\n\\nfor\\n\\npower\\n\\non\\n\\nthe\\n\\nsurface\\n\\nof\\n\\nMars.\\n\\n(Viking\\n\\nlaunch\\n\\nvehicle\\n\\npictured)\\n\\nWhile\\n\\nsolar\\n\\npower\\n\\nis\\n\\nmuch\\n\\nmore\\n\\ncommonly\\n\\nused,\\n\\nnuclear\\n\\npower\\n\\ncan\\n\\noffer\\n\\nadvantages\\n\\nin\\n\\nsome\\n\\nareas.\\n\\nSolar\\n\\ncells,\\n\\nalthough\\n\\nefficient,\\n\\ncan\\n\\nonly\\n\\nsupply\\n\\nenergy\\n\\nto\\n\\nspacecraft\\n\\nin\\n\\norbits\\n\\nwhere\\n\\nthe\\n\\nsolar\\n\\nflux\\n\\nis\\n\\nsufficiently\\n\\nhigh,\\n\\nsuch\\n\\nas\\n\\nlow\\n\\nEarth\\n\\norbit\\n\\nand\\n\\ninterplanetary\\n\\ndestinations\\n\\nclose\\n\\nenough\\n\\nto\\n\\nthe\\n\\nSun.\\n\\nUnlike\\n\\nsolar\\n\\ncells,\\n\\nnuclear\\n\\npower\\n\\nsystems\\n\\nfunction\\n\\nindependently\\n\\nof\\n\\nsunlight,\\n\\nwhich\\n\\nis\\n\\nnecessary\\n\\nfor\\n\\ndeep\\n\\nspace\\n\\nexploration.\\n\\nNuclear-based\\n\\nsystems\\n\\ncan\\n\\nhave\\n\\nless\\n\\nmass\\n\\nthan\\n\\nsolar\\n\\ncells\\n\\nof\\n\\nequivalent\\n\\npower,\\n\\nallowing\\n\\nmore\\n\\ncompact\\n\\nspacecraft\\n\\nthat\\n\\nare\\n\\neasier\\n\\nto\\n\\norient\\n\\nand\\n\\ndirect\\n\\nin\\n\\nspace.\\n\\nIn\\n\\nthe\\n\\ncase\\n\\nof\\n\\ncrewed\\n\\nspaceflight,\\n\\nnuclear\\n\\npower\\n\\nconcepts\\n\\nthat\\n\\ncan\\n\\npower\\n\\nboth\\n\\nlife\\n\\nsupport\\n\\nand\\n\\npropulsion\\n\\nsystems\\n\\nmay\\n\\nreduce\\n\\nboth\\n\\ncost\\n\\nand\\n\\nflight\\n\\ntime.[9]\\n\\nSelected\\n\\napplications\\n\\nand/or\\n\\ntechnologies\\n\\nfor\\n\\nspace\\n\\ninclude:\\n\\nRadioisotope\\n\\nthermoelectric\\n\\ngenerator\\n\\nRadioisotope\\n\\nheater\\n\\nunit\\n\\nRadioisotope\\n\\npiezoelectric\\n\\ngenerator\\n\\nRadioisotope\\n\\nrocket\\n\\nNuclear\\n\\nthermal\\n\\nrocket\\n\\nNuclear\\n\\npulse\\n\\npropulsion\\n\\nNuclear\\n\\nelectric\\n\\nrocket\"}"
      ]
     },
     "execution_count": 20,
     "metadata": {},
     "output_type": "execute_result"
    }
   ],
   "source": [
    "{\n",
    "        'content': \"\\n\\n\".join(format_document(doc, doc_prompt) for doc in docs)\n",
    "}"
   ]
  },
  {
   "cell_type": "markdown",
   "id": "4437cc3a-4a4b-4b05-8832-fa5f78264848",
   "metadata": {},
   "source": [
    "这doc着手潦草"
   ]
  },
  {
   "cell_type": "code",
   "execution_count": null,
   "id": "e2ca5a90-f882-44b3-83c7-423bc8179f68",
   "metadata": {},
   "outputs": [],
   "source": []
  },
  {
   "cell_type": "code",
   "execution_count": null,
   "id": "649680e1-a323-41b6-a87c-5b9e28728b86",
   "metadata": {},
   "outputs": [],
   "source": []
  },
  {
   "cell_type": "markdown",
   "id": "683ad01b-e6b7-4593-a022-37cab708c70e",
   "metadata": {},
   "source": [
    "#### LCEL 方式"
   ]
  },
  {
   "cell_type": "code",
   "execution_count": 33,
   "id": "7c81294b-672d-41d1-9848-6668f1110ff0",
   "metadata": {
    "tags": []
   },
   "outputs": [],
   "source": [
    "from langchain.chat_models import ChatOpenAI\n",
    "from langchain.prompts import PromptTemplate\n",
    "from langchain.schema import StrOutputParser\n",
    "from langchain.schema.prompt_template import format_document"
   ]
  },
  {
   "cell_type": "code",
   "execution_count": null,
   "id": "c12f0fd4-0c6a-4e00-9671-60445fc080a5",
   "metadata": {},
   "outputs": [],
   "source": []
  },
  {
   "cell_type": "code",
   "execution_count": 28,
   "id": "4fbdc28f-8a7f-4653-a135-2a26224b1527",
   "metadata": {
    "tags": []
   },
   "outputs": [],
   "source": [
    "doc_prompt = PromptTemplate.from_template(\"{page_content}\")\n",
    "\n",
    "chain = (\n",
    "    {\n",
    "        \"content\": lambda docs: \"\\n\\n\".join(\n",
    "            format_document(doc, doc_prompt) for doc in docs\n",
    "        )\n",
    "    }\n",
    "    | PromptTemplate.from_template(\"Summarize the following content, list by item:\\n\\n{content}\")\n",
    "    | ChatOpenAI()\n",
    "    | StrOutputParser()\n",
    ")"
   ]
  },
  {
   "cell_type": "markdown",
   "id": "7fbed8e5-7415-46cb-b18a-97cc551ca3b2",
   "metadata": {},
   "source": [
    "> <font color=red>chains是如何传参的, 比如第一个字典里的 docs  如果不写字典, 是不是就是一个prompt</font>"
   ]
  },
  {
   "cell_type": "code",
   "execution_count": 30,
   "id": "832b5284-d5dd-4891-977f-8a8e81d4a867",
   "metadata": {
    "tags": []
   },
   "outputs": [],
   "source": [
    "response = chain.invoke(docs)"
   ]
  },
  {
   "cell_type": "code",
   "execution_count": 31,
   "id": "3c230c10-6da9-4b4a-9f01-b43b019d4031",
   "metadata": {
    "tags": []
   },
   "outputs": [
    {
     "name": "stdout",
     "output_type": "stream",
     "text": [
      "- Nuclear power in space refers to the use of nuclear power for electricity or heat in outer space.\n",
      "- The most common type of nuclear power system used in space is a radioisotope thermoelectric generator.\n",
      "- Small fission reactors, such as the TOPAZ nuclear reactor, have been used for Earth observation satellites.\n",
      "- A radioisotope heater unit is powered by radioactive decay to prevent components from becoming too cold to function.\n",
      "- The United States tested the SNAP-10A nuclear reactor in space for 43 days in 1965.\n",
      "- The USSR sent about 40 nuclear-electric satellites into space, mostly powered by the BES-5 reactor.\n",
      "- Concepts for nuclear-powered space propulsion systems include nuclear electric rockets, radioisotope rockets, and nuclear thermal rockets.\n",
      "- Regulation and hazard prevention of nuclear power in space has been discussed by states since 1972.\n",
      "- Nuclear power in space offers advantages such as functioning independently of sunlight and allowing for more compact spacecraft.\n",
      "- Selected applications and technologies for nuclear power in space include radioisotope thermoelectric generators, radioisotope heater units, and nuclear electric rockets.\n"
     ]
    }
   ],
   "source": [
    "print(response)"
   ]
  },
  {
   "cell_type": "code",
   "execution_count": null,
   "id": "1c214d93-b20c-4c6b-98c5-ce10c1b12464",
   "metadata": {},
   "outputs": [],
   "source": []
  },
  {
   "cell_type": "markdown",
   "id": "d009641e-7ae9-4ebd-be13-c3d41163bd1d",
   "metadata": {},
   "source": [
    "#### StuffDocumentsChain 方式"
   ]
  },
  {
   "cell_type": "code",
   "execution_count": 35,
   "id": "83cce62e-bfa1-447e-b111-842ad8947a76",
   "metadata": {
    "tags": []
   },
   "outputs": [],
   "source": [
    "from langchain.chains import StuffDocumentsChain, LLMChain"
   ]
  },
  {
   "cell_type": "code",
   "execution_count": 47,
   "id": "342c98e3-9f04-4a61-bc36-ee9a5cbfb906",
   "metadata": {
    "tags": []
   },
   "outputs": [],
   "source": [
    "doc = Document(page_content=text)"
   ]
  },
  {
   "cell_type": "code",
   "execution_count": 38,
   "id": "b6e3c33c-f215-4925-9782-57d59ab98a97",
   "metadata": {
    "tags": []
   },
   "outputs": [],
   "source": [
    "llm = ChatOpenAI()"
   ]
  },
  {
   "cell_type": "code",
   "execution_count": 40,
   "id": "b6c265cd-f94a-4f6f-a924-3f9bf669eadf",
   "metadata": {},
   "outputs": [],
   "source": [
    "prompt = PromptTemplate.from_template(\"Summarize the following content, list by item:\\n\\n{content}\")"
   ]
  },
  {
   "cell_type": "code",
   "execution_count": 41,
   "id": "ef4f50d5-f1ef-4e18-93dc-ae4df51667bf",
   "metadata": {},
   "outputs": [],
   "source": [
    "llm_chain = LLMChain(llm=llm, prompt=prompt)"
   ]
  },
  {
   "cell_type": "code",
   "execution_count": null,
   "id": "4a010d91-f878-46e6-88a6-1fd3c8ec0052",
   "metadata": {},
   "outputs": [],
   "source": []
  },
  {
   "cell_type": "code",
   "execution_count": 42,
   "id": "d1414586-50ba-43b2-ac7d-b35ced2cdf51",
   "metadata": {},
   "outputs": [],
   "source": [
    "chain_stuff = StuffDocumentsChain(llm_chain=llm_chain,\n",
    "                                  document_prompt=document_prompt,\n",
    "                                  document_variable_name='content')"
   ]
  },
  {
   "cell_type": "code",
   "execution_count": 49,
   "id": "08732f52-bd21-429d-ade9-49dfc4ff91fb",
   "metadata": {
    "tags": []
   },
   "outputs": [],
   "source": [
    "response = chain_stuff.invoke([doc])"
   ]
  },
  {
   "cell_type": "code",
   "execution_count": 51,
   "id": "ee0b4233-921c-4eeb-87e3-06f41408e354",
   "metadata": {
    "tags": []
   },
   "outputs": [
    {
     "name": "stdout",
     "output_type": "stream",
     "text": [
      "dict_keys(['input_documents', 'output_text'])\n"
     ]
    }
   ],
   "source": [
    "print(response.keys())"
   ]
  },
  {
   "cell_type": "code",
   "execution_count": 52,
   "id": "bc45a937-b294-4744-9f56-6096af960388",
   "metadata": {
    "tags": []
   },
   "outputs": [
    {
     "name": "stdout",
     "output_type": "stream",
     "text": [
      "- Nuclear power in space refers to the use of nuclear power for electricity or heat in outer space.\n",
      "- The most common type of nuclear power system used in space is a radioisotope thermoelectric generator.\n",
      "- Small fission reactors have also been used for Earth observation satellites.\n",
      "- The United States and the USSR have both conducted tests of nuclear reactors in space.\n",
      "- Concepts for nuclear power in space propulsion systems include the nuclear electric rocket, radioisotope rocket, and nuclear thermal rocket.\n",
      "- Regulation and safety measures have been put in place to prevent hazards to Earth's environment.\n",
      "- Nuclear power in space offers advantages over solar power in terms of independence from sunlight and compactness.\n",
      "- Selected applications and technologies for space include radioisotope thermoelectric generators, radioisotope heater units, radioisotope piezoelectric generators, and various types of nuclear propulsion systems.\n"
     ]
    }
   ],
   "source": [
    "print(response['output_text'])"
   ]
  },
  {
   "cell_type": "code",
   "execution_count": null,
   "id": "5e0a6723-c4da-442a-adfd-706df6ab3c40",
   "metadata": {},
   "outputs": [],
   "source": []
  },
  {
   "cell_type": "code",
   "execution_count": null,
   "id": "8e104dc9-a6ad-4ad2-a1e1-72bd6999bef4",
   "metadata": {},
   "outputs": [],
   "source": []
  },
  {
   "cell_type": "code",
   "execution_count": null,
   "id": "d4366541-90d3-4e5a-9667-d1beee214998",
   "metadata": {},
   "outputs": [],
   "source": []
  },
  {
   "cell_type": "code",
   "execution_count": null,
   "id": "989b9743-b7c0-471f-adac-2e50c6b0f0f2",
   "metadata": {},
   "outputs": [],
   "source": []
  },
  {
   "cell_type": "markdown",
   "id": "a55ea636-dbc8-4f6c-8e47-4c77d3c1a7e9",
   "metadata": {},
   "source": [
    "### StuffDocumentsChain源码解析"
   ]
  },
  {
   "cell_type": "markdown",
   "id": "2b998ac6-0b31-4f03-aa63-909574d5a116",
   "metadata": {},
   "source": [
    "> 1. StuffChain 首先接收一个<font color=blue>文档列表</font>作为输入. 每个文档都被格式化成一个字符串, 这是通过<font color=blue>document_prompt</font> 实现的\n",
    "> 2. 这些字符串用document_separator连接成一个大的字符串<br>\n",
    "> 3. 这个大的字符串被添加到inputs中，并以document_variable_name设置的变量名命名\n",
    "> 4. 最后，inputs（现在含有你的合并文档字符串）被传递到llm_chain进行进一步的处理\n",
    "> 5. 这个过程基本上是将**多个文档压缩成一个单一的字符串**，使得语言模型可以将它们视为一个实体进行处理。"
   ]
  },
  {
   "cell_type": "code",
   "execution_count": null,
   "id": "2364b3cb-d14b-488b-9469-8918a595cfce",
   "metadata": {},
   "outputs": [],
   "source": []
  },
  {
   "cell_type": "markdown",
   "id": "e2e59c31-4169-488a-acb4-39acd4393f5a",
   "metadata": {},
   "source": [
    "#### StuffDocumentsChain 简单例子"
   ]
  },
  {
   "cell_type": "code",
   "execution_count": 13,
   "id": "7e943eb1-7143-472a-a94b-e1a489889d9a",
   "metadata": {
    "tags": []
   },
   "outputs": [],
   "source": [
    "from langchain.chains import StuffDocumentsChain, LLMChain\n",
    "from langchain.prompts import PromptTemplate\n",
    "from langchain.chat_models import ChatOpenAI\n",
    "from langchain.schema import Document"
   ]
  },
  {
   "cell_type": "markdown",
   "id": "0db64c56-882d-49c5-a43d-b5af0c0b2f0b",
   "metadata": {},
   "source": [
    "> 1. StuffChain 首先接收一个<font color=blue>文档列表</font>作为输入. 每个文档都被格式化成一个字符串, 这是通过<font color=blue>document_prompt</font> 实现的"
   ]
  },
  {
   "cell_type": "code",
   "execution_count": 14,
   "id": "f870b83d-8a1f-4fbf-8868-da84d6264d07",
   "metadata": {
    "tags": []
   },
   "outputs": [],
   "source": [
    "document_prompt = PromptTemplate(input_variables=['page_content'], template=\"{page_content}\")"
   ]
  },
  {
   "cell_type": "code",
   "execution_count": 38,
   "id": "ba1e039b-969e-4cec-ae5c-55d4bbeea2b2",
   "metadata": {
    "tags": []
   },
   "outputs": [
    {
     "data": {
      "text/plain": [
       "'5.2.6新员工转为正式员工后由人事行政部以邮件形式发出《转正通知单》的形式以通知转正人员相关'"
      ]
     },
     "execution_count": 38,
     "metadata": {},
     "output_type": "execute_result"
    }
   ],
   "source": [
    "format_document(docs[1], document_prompt)"
   ]
  },
  {
   "cell_type": "markdown",
   "id": "71e2099a-c142-4866-adda-fcd0199bd229",
   "metadata": {},
   "source": [
    "> 2. 这些字符串用document_separator连接成一个大的字符串<br>"
   ]
  },
  {
   "cell_type": "code",
   "execution_count": null,
   "id": "c646f59f-8287-4c3a-b3d0-65d9deb93e0d",
   "metadata": {},
   "outputs": [],
   "source": []
  },
  {
   "cell_type": "markdown",
   "id": "90af16dc-a979-4782-a821-2f902265ad51",
   "metadata": {},
   "source": [
    "> 3. 这个大的字符串被添加到inputs中，并以document_variable_name设置的变量名命名\n",
    "\n",
    "```python\n",
    "# Format each document according to the prompt\n",
    "doc_strings = [format_document(doc, self.document_prompt) for doc in docs]\n",
    "# Join the documents together to put them in the prompt.\n",
    "inputs = {\n",
    "    k: v\n",
    "    for k, v in kwargs.items()\n",
    "    if k in self.llm_chain.prompt.input_variables\n",
    "}\n",
    ">> 这个大的字符串被添加到inputs中，并以document_variable_name设置的变量名命名\n",
    "inputs[self.document_variable_name] = self.document_separator.join(doc_strings)\n",
    "return inputs\n",
    "```"
   ]
  },
  {
   "cell_type": "code",
   "execution_count": 15,
   "id": "f49f395a-db5a-40aa-8b6b-30916944fe92",
   "metadata": {
    "tags": []
   },
   "outputs": [],
   "source": [
    "document_variable_name = 'context'"
   ]
  },
  {
   "cell_type": "code",
   "execution_count": 16,
   "id": "61482602-fd1d-47ef-83f0-62f2231b8a65",
   "metadata": {
    "tags": []
   },
   "outputs": [],
   "source": [
    "llm = ChatOpenAI()"
   ]
  },
  {
   "cell_type": "code",
   "execution_count": 17,
   "id": "4b4123a7-828d-4664-a737-334c0edf402b",
   "metadata": {
    "tags": []
   },
   "outputs": [],
   "source": [
    "prompt = PromptTemplate.from_template(\"Summarize this content: {context} in Chinese\")"
   ]
  },
  {
   "cell_type": "code",
   "execution_count": 18,
   "id": "958e2cfd-f63b-4669-9b55-dfc100bea1e8",
   "metadata": {
    "tags": []
   },
   "outputs": [],
   "source": [
    "llm_chain = LLMChain(llm=llm, prompt=prompt)"
   ]
  },
  {
   "cell_type": "code",
   "execution_count": 19,
   "id": "e7364dc3-337d-4b3f-9dce-5dc45934f651",
   "metadata": {
    "tags": []
   },
   "outputs": [],
   "source": [
    "chain = StuffDocumentsChain(llm_chain=llm_chain,\n",
    "                            document_prompt=document_prompt,\n",
    "                            document_variable_name=document_variable_name,\n",
    "                            verbose=True)"
   ]
  },
  {
   "cell_type": "markdown",
   "id": "58a45469-3931-4128-a984-510c45ebde2d",
   "metadata": {},
   "source": [
    "**构造多个文档**"
   ]
  },
  {
   "cell_type": "code",
   "execution_count": 25,
   "id": "9dede9c9-6488-4967-be69-00763ee36fe1",
   "metadata": {
    "tags": []
   },
   "outputs": [
    {
     "name": "stdout",
     "output_type": "stream",
     "text": [
      "60\n"
     ]
    }
   ],
   "source": [
    "input_text = \"\"\"\n",
    "5.2.6新员工转为正式员工后由人事行政部以邮件形式发出《转正通知单》的形式以通知转正人员相关\\n事宜。6.转正类别转正可分为提前转正、按期转正、终止试用四个类别。\\n6.1提前转正：新员工入职三个月以后，确因工作态度、工作绩效、团队融合表现突出者，部门负责人\\n可为员工申请提前转正。并依据本办法5.2试用期满评估程序实施转正。\\n6.2按期转正：依据本办法5.2试用期满评估程序实施转正。\\n6.3终止试用\\n6.3.1试用期员工在试用期如不能认同企业文化，感到公司状况与个人预期差距较大或者其它原因决定\\n离开公司的，可提出辞职，但应提前3日以书面形式提交辞职报告。\\n6.3.2试用期员工在试用期间如不能达到公司岗位任职要求，公司可随时停止试用，予以辞退。\\n6.3.3试用期员工在试用期间有严重违反公司规章制度行为并造成不良影响的，公司可随时停止试用，\\n予以辞退。\\n6.3.4终止试用的员工，至人事行政部办理离职手续。7.转正日期新员工如果提前转正，则转正日期以最终审批的提前转正日期为准；如果按期转正，新员工的转正日期\\n为试用期满之日。8.其他及附件8.1本办法自发布之日起生效。\\n8.2附件\\n《月度工作计划表》\\n《试用期转正述职报告》\\n《转正述职与答辩评分表》\\n《试用期转正评估表》\\n《员工转正通知书》\\n二○一九年八月[COMPANY_NAME_CN]', metadata={'source': '试用期评估及转正管理办法.pdf', 'page': 1}), Document(page_content='试用期评估及转正管理办法\\n1目的\\n为帮助员工发展、统一员工在试用期内评估及转正要求与流程，明确各相关部门的工作职责，特制定本\\n办法。\\n2适用范围\\n本办法适用于公司所有新进员工。\\n3定义\\n3.1试用期：指劳动合同期限内公司与员工为相互了解对方而约定的考察期间。\\n3.2试用期期限根据相关劳动法律法规及工作岗位性质确定。\\n3.3转正：指新员工试用期满，达到岗位任职资格，并按规定办完相应手续后，成为公司的正式员工。\\n4各方权责\\n4.1试用期员工的权责\\n主动了解自己的工作职责与工作内容、工作目标、公司文化等各项规章制度；\\n接受人力部门的入职培训与相关评估；\\n4.2试用期各部门负责人的权责\\n在工作中引导新员工领悟并融入公司的文化、督促并指导其执行公司各项任务、工作须知及管理制度；\\n帮助新员工，使其了解并掌握所任职岗位的岗位职责、内容、目标与岗位应知应会；\\n4.3人事行政部的权责\\n培训新员工有关公司的组织、文化、发展、管理制度及日常办公工作须知等；\\n负责试用期员工的评估执行。\\n5试用期评估\\n试用期员工的评估分为两种形式：中间评估与期满综合评估。中间评估自入职之日起试用期内分阶段（每\\n阶段按月或者按照季度设定）进行，期满综合评估在试用期结束时进行。\\n5.1中间评估程序\\n5.1.1部门负责人必须在入职第一个月内与新员工确定阶段性（月度或者季度）工作目标。\\n5.1.2在阶段结束时，部门负责人与新员工对本阶段学习任务与工作目标达成情况以及下阶段工作计划\\n与目标进行沟通，对新员工遇到的疑问进行合理解答，对新员工遇到的困难进行及时解决。\\n5.1.3中间评估完成后由部门负责人批准将表格原件备案至人事行政部，人事行政部对月度评估表的合\\n理性进行评估确认。\\n5.2试用期满综合评估\\n5.2.1试用期期满前10天，人事行政部将试用期《试用期转正述职报告模板》发给新员工，抄送部门\\n负责人；将《试用期转正评估表》发给部门负责人；\\n5.2.2新员工填写《试用期转正述职报告模板》，对试用期间的学习与工作心得进行总结，于转正期满\\n前一周完成并交部门负责人审核，交人事行政部备案；\\n5.2.3部门负责人初步考核通过后，人事行政部安排新员工转正述职，邀请关联团队经理、部门负责人、\\n公司负责人、HR作为评审人员参与转正述职评审；\\n5.2.4评审人员根据新员工现场述职、述职材料、既往的中间评估给予综合评分，最终评分≥3.5分方\\n为通过转正述职评估；\\n5.2.5部门负责人需于新员工试用期满前3天完成《试用期转正评估表》\n",
    "\"\"\"\n",
    "\n",
    "input_text_list = input_text.split(\"\\n\")\n",
    "\n",
    "print(input_text_list.__len__())\n"
   ]
  },
  {
   "cell_type": "code",
   "execution_count": null,
   "id": "e3b98318-4198-4fc5-b3f6-1365701aab58",
   "metadata": {},
   "outputs": [],
   "source": []
  },
  {
   "cell_type": "markdown",
   "id": "e51fb916-c53e-489c-834f-542b32e91340",
   "metadata": {},
   "source": [
    "> 1. StuffChain 首先接收一个<font color=blue>文档列表</font>作为输入. 每个文档都被格式化成一个字符串, 这是通过<font color=blue>document_prompt</font> 实现的"
   ]
  },
  {
   "cell_type": "code",
   "execution_count": 26,
   "id": "0031c50d-0948-40de-be46-948f0949b850",
   "metadata": {
    "tags": []
   },
   "outputs": [],
   "source": [
    "docs = [Document(page_content=txt) for txt in input_text_list]"
   ]
  },
  {
   "cell_type": "code",
   "execution_count": 30,
   "id": "bb082dff-8752-403e-93f9-37b7a9a64072",
   "metadata": {
    "tags": []
   },
   "outputs": [
    {
     "data": {
      "text/plain": [
       "60"
      ]
     },
     "execution_count": 30,
     "metadata": {},
     "output_type": "execute_result"
    }
   ],
   "source": [
    "docs.__len__()"
   ]
  },
  {
   "cell_type": "markdown",
   "id": "d353614e-7e27-4232-b177-1e4b78e62524",
   "metadata": {},
   "source": []
  },
  {
   "cell_type": "code",
   "execution_count": 28,
   "id": "31c45ef0-e8ea-43fa-a083-9dc619928f76",
   "metadata": {
    "tags": []
   },
   "outputs": [
    {
     "name": "stdout",
     "output_type": "stream",
     "text": [
      "\n",
      "\n",
      "\u001b[1m> Entering new StuffDocumentsChain chain...\u001b[0m\n",
      "\n",
      "\u001b[1m> Finished chain.\u001b[0m\n"
     ]
    }
   ],
   "source": [
    "response = chain(docs)"
   ]
  },
  {
   "cell_type": "code",
   "execution_count": 29,
   "id": "7d919b04-2d4b-4f51-8cb0-a71817810159",
   "metadata": {},
   "outputs": [
    {
     "name": "stdout",
     "output_type": "stream",
     "text": [
      "This content is the \"Evaluation and Confirmation Management Measures for the Probation Period.\" It outlines the process and criteria for converting new employees to regular employees after their probation period. There are four categories for conversion: early conversion, on-time conversion, and termination of the probation period. The document also specifies the rights and responsibilities of the employees, department managers, and the HR department during the probation period. It includes guidelines for the evaluation process, including mid-term evaluations and comprehensive evaluations at the end of the probation period. The document also provides templates for documents such as the Monthly Work Plan, the Probation Period Confirmation Report, and the Confirmation Report and Defense Evaluation Form. The content is effective from August 2019.\n"
     ]
    }
   ],
   "source": [
    "print(response['output_text'])"
   ]
  },
  {
   "cell_type": "code",
   "execution_count": null,
   "id": "85caf519-a6fe-4e25-a3dd-ab2c65eec7b2",
   "metadata": {},
   "outputs": [],
   "source": []
  },
  {
   "cell_type": "code",
   "execution_count": null,
   "id": "063da07b-9415-4c0e-a35d-dc6764829267",
   "metadata": {},
   "outputs": [],
   "source": []
  },
  {
   "cell_type": "code",
   "execution_count": null,
   "id": "7116b216-ba0b-4b4f-850d-0958c4533a0e",
   "metadata": {},
   "outputs": [],
   "source": [
    "from langchain.chains import StuffDocumentsChain, LLMChain\n",
    "from langchain.prompts import PromptTemplate\n",
    "from langchain.chat_models import ChatOpenAI\n",
    "from langchain.schema import Document\n",
    "\n",
    "\n",
    "document_prompt = PromptTemplate(\n",
    "    input_variables=[\"page_content\"],\n",
    "    template=\"{page_content}\"\n",
    ")\n",
    "document_variable_name = \"context\"\n",
    "llm = ChatOpenAI()\n",
    "\n",
    "prompt = PromptTemplate.from_template(\n",
    "    \"\"\"Use the following pieces of context to answer the question at the end: {context},\n",
    "    question: {question}\"\"\"\n",
    ")\n",
    "llm_chain = LLMChain(llm=llm, prompt=prompt)\n",
    "chain = StuffDocumentsChain(\n",
    "    llm_chain=llm_chain,\n",
    "    document_prompt=document_prompt,\n",
    "    document_variable_name=document_variable_name,\n",
    "    verbose=True,\n",
    ")\n",
    "input = {'input_documents': [Document(page_content='5.2.6新员工转为正式员工后由人事行政部以邮件形式发出《转正通知单》的形式以通知转正人员相关\\n事宜。6.转正类别转正可分为提前转正、按期转正、终止试用四个类别。\\n6.1提前转正：新员工入职三个月以后，确因工作态度、工作绩效、团队融合表现突出者，部门负责人\\n可为员工申请提前转正。并依据本办法5.2试用期满评估程序实施转正。\\n6.2按期转正：依据本办法5.2试用期满评估程序实施转正。\\n6.3终止试用\\n6.3.1试用期员工在试用期如不能认同企业文化，感到公司状况与个人预期差距较大或者其它原因决定\\n离开公司的，可提出辞职，但应提前3日以书面形式提交辞职报告。\\n6.3.2试用期员工在试用期间如不能达到公司岗位任职要求，公司可随时停止试用，予以辞退。\\n6.3.3试用期员工在试用期间有严重违反公司规章制度行为并造成不良影响的，公司可随时停止试用，\\n予以辞退。\\n6.3.4终止试用的员工，至人事行政部办理离职手续。7.转正日期新员工如果提前转正，则转正日期以最终审批的提前转正日期为准；如果按期转正，新员工的转正日期\\n为试用期满之日。8.其他及附件8.1本办法自发布之日起生效。\\n8.2附件\\n《月度工作计划表》\\n《试用期转正述职报告》\\n《转正述职与答辩评分表》\\n《试用期转正评估表》\\n《员工转正通知书》\\n二○一九年八月[COMPANY_NAME_CN]', metadata={'source': '试用期评估及转正管理办法.pdf', 'page': 1}), Document(page_content='试用期评估及转正管理办法\\n1目的\\n为帮助员工发展、统一员工在试用期内评估及转正要求与流程，明确各相关部门的工作职责，特制定本\\n办法。\\n2适用范围\\n本办法适用于公司所有新进员工。\\n3定义\\n3.1试用期：指劳动合同期限内公司与员工为相互了解对方而约定的考察期间。\\n3.2试用期期限根据相关劳动法律法规及工作岗位性质确定。\\n3.3转正：指新员工试用期满，达到岗位任职资格，并按规定办完相应手续后，成为公司的正式员工。\\n4各方权责\\n4.1试用期员工的权责\\n主动了解自己的工作职责与工作内容、工作目标、公司文化等各项规章制度；\\n接受人力部门的入职培训与相关评估；\\n4.2试用期各部门负责人的权责\\n在工作中引导新员工领悟并融入公司的文化、督促并指导其执行公司各项任务、工作须知及管理制度；\\n帮助新员工，使其了解并掌握所任职岗位的岗位职责、内容、目标与岗位应知应会；\\n4.3人事行政部的权责\\n培训新员工有关公司的组织、文化、发展、管理制度及日常办公工作须知等；\\n负责试用期员工的评估执行。\\n5试用期评估\\n试用期员工的评估分为两种形式：中间评估与期满综合评估。中间评估自入职之日起试用期内分阶段（每\\n阶段按月或者按照季度设定）进行，期满综合评估在试用期结束时进行。\\n5.1中间评估程序\\n5.1.1部门负责人必须在入职第一个月内与新员工确定阶段性（月度或者季度）工作目标。\\n5.1.2在阶段结束时，部门负责人与新员工对本阶段学习任务与工作目标达成情况以及下阶段工作计划\\n与目标进行沟通，对新员工遇到的疑问进行合理解答，对新员工遇到的困难进行及时解决。\\n5.1.3中间评估完成后由部门负责人批准将表格原件备案至人事行政部，人事行政部对月度评估表的合\\n理性进行评估确认。\\n5.2试用期满综合评估\\n5.2.1试用期期满前10天，人事行政部将试用期《试用期转正述职报告模板》发给新员工，抄送部门\\n负责人；将《试用期转正评估表》发给部门负责人；\\n5.2.2新员工填写《试用期转正述职报告模板》，对试用期间的学习与工作心得进行总结，于转正期满\\n前一周完成并交部门负责人审核，交人事行政部备案；\\n5.2.3部门负责人初步考核通过后，人事行政部安排新员工转正述职，邀请关联团队经理、部门负责人、\\n公司负责人、HR作为评审人员参与转正述职评审；\\n5.2.4评审人员根据新员工现场述职、述职材料、既往的中间评估给予综合评分，最终评分≥3.5分方\\n为通过转正述职评估；\\n5.2.5部门负责人需于新员工试用期满前3天完成《试用期转正评估表》；', metadata={'source': '试用期评估及转正管理办法.pdf', 'page': 0})]}\n",
    "input[\"question\"] = \"新员工怎么转正\"\n",
    "result = chain(input)\n",
    "print(result.keys())  # dict_keys(['input_documents', 'question', 'output_text'])\n",
    "print(result[\"output_text\"])  # 新员工可以通\n"
   ]
  },
  {
   "cell_type": "code",
   "execution_count": null,
   "id": "8664af67-7e5e-4098-a51e-cd0bdd5fe847",
   "metadata": {},
   "outputs": [],
   "source": []
  },
  {
   "cell_type": "code",
   "execution_count": null,
   "id": "6c1bf7ef-3f62-4e9f-a2f5-25306ff4bd64",
   "metadata": {},
   "outputs": [],
   "source": []
  },
  {
   "cell_type": "code",
   "execution_count": null,
   "id": "6ea3debc-eca0-48a7-a295-cb0440858a6a",
   "metadata": {},
   "outputs": [],
   "source": []
  },
  {
   "cell_type": "code",
   "execution_count": null,
   "id": "5b299ae3-d695-4f0e-bfd3-13006b1dfcae",
   "metadata": {},
   "outputs": [],
   "source": []
  },
  {
   "cell_type": "code",
   "execution_count": null,
   "id": "a5d08836-4c89-40db-a5a6-a65d1e7baabf",
   "metadata": {},
   "outputs": [],
   "source": []
  },
  {
   "cell_type": "code",
   "execution_count": null,
   "id": "46d2bfe7-e978-46f7-ae9d-a0a4bf9b97d1",
   "metadata": {},
   "outputs": [],
   "source": []
  },
  {
   "cell_type": "code",
   "execution_count": null,
   "id": "2072c426-3736-4619-a622-bda53be4a5b6",
   "metadata": {},
   "outputs": [],
   "source": []
  },
  {
   "cell_type": "code",
   "execution_count": null,
   "id": "71123073-de33-45da-a44f-addd49772177",
   "metadata": {},
   "outputs": [],
   "source": []
  },
  {
   "cell_type": "code",
   "execution_count": null,
   "id": "daa55c97-60a2-4ce1-b174-00253413e1a0",
   "metadata": {},
   "outputs": [],
   "source": []
  },
  {
   "cell_type": "code",
   "execution_count": null,
   "id": "47b5d950-6260-4685-b926-f87dfce98ed8",
   "metadata": {},
   "outputs": [],
   "source": []
  },
  {
   "cell_type": "code",
   "execution_count": null,
   "id": "2663551d-b010-4034-905e-4efd1bbb0bcf",
   "metadata": {},
   "outputs": [],
   "source": []
  },
  {
   "cell_type": "code",
   "execution_count": null,
   "id": "9c932e67-33bd-4ac6-b0ef-9bb8067d2161",
   "metadata": {},
   "outputs": [],
   "source": []
  },
  {
   "cell_type": "code",
   "execution_count": null,
   "id": "ad82348d-ae79-4ddd-8204-5c088d8b4db9",
   "metadata": {},
   "outputs": [],
   "source": []
  },
  {
   "cell_type": "code",
   "execution_count": null,
   "id": "8d47d87b-903a-4d58-a4ad-c8a524c6e561",
   "metadata": {},
   "outputs": [],
   "source": []
  }
 ],
 "metadata": {
  "environment": {
   "kernel": "conda-env-preventloss-py",
   "name": "pytorch-gpu.1-13.m105",
   "type": "gcloud",
   "uri": "gcr.io/deeplearning-platform-release/pytorch-gpu.1-13:m105"
  },
  "kernelspec": {
   "display_name": "chatglm26b",
   "language": "python",
   "name": "chatglm26b"
  },
  "language_info": {
   "codemirror_mode": {
    "name": "ipython",
    "version": 3
   },
   "file_extension": ".py",
   "mimetype": "text/x-python",
   "name": "python",
   "nbconvert_exporter": "python",
   "pygments_lexer": "ipython3",
   "version": "3.9.6"
  }
 },
 "nbformat": 4,
 "nbformat_minor": 5
}
