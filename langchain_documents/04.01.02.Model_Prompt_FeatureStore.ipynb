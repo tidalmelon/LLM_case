{
 "cells": [
  {
   "cell_type": "markdown",
   "id": "5e851c63-fbb9-4f99-a92b-26dce2e719a7",
   "metadata": {},
   "source": [
    "<img src=./imgs/model_io.jpg width=35% />"
   ]
  },
  {
   "cell_type": "markdown",
   "id": "47454cdf-1217-4fbf-a015-5c981b69e2f2",
   "metadata": {
    "tags": []
   },
   "source": [
    "[langchain documents](https://python.langchain.com/docs/modules/model_io/models/chat/llm_chain)"
   ]
  },
  {
   "cell_type": "code",
   "execution_count": null,
   "id": "e2806292-4cf0-40eb-9f66-941d282dfab9",
   "metadata": {},
   "outputs": [],
   "source": []
  },
  {
   "cell_type": "markdown",
   "id": "07b77b43-6e8c-4c03-b08f-ad9c273aaa96",
   "metadata": {},
   "source": [
    "[LangChain-Tutorials](https://github.com/sugarforever/LangChain-Tutorials)"
   ]
  },
  {
   "cell_type": "code",
   "execution_count": null,
   "id": "ccae4b5d-6079-4ccb-9010-fa84c74919e1",
   "metadata": {},
   "outputs": [],
   "source": []
  },
  {
   "cell_type": "code",
   "execution_count": 1,
   "id": "1988c104-f3d3-478c-8717-5970120214fc",
   "metadata": {
    "tags": []
   },
   "outputs": [],
   "source": [
    "import os"
   ]
  },
  {
   "cell_type": "code",
   "execution_count": 2,
   "id": "8c9cffe2-dfe0-440e-a97d-3f42d06e0268",
   "metadata": {
    "tags": []
   },
   "outputs": [],
   "source": [
    "os.environ['OPENAI_API_KEY'] = '******'"
   ]
  },
  {
   "cell_type": "code",
   "execution_count": null,
   "id": "7159ea74-696e-4aa4-864d-c9fd3506dc22",
   "metadata": {},
   "outputs": [],
   "source": []
  },
  {
   "cell_type": "markdown",
   "id": "d173bdda-3d75-4019-b4ed-8ec1cfe7e4d7",
   "metadata": {},
   "source": [
    "**Connecting to a Feature Store**"
   ]
  },
  {
   "cell_type": "markdown",
   "id": "e939a17b-0db2-4525-b3f8-8d9c781e27e8",
   "metadata": {},
   "source": [
    "> Feature store: 特征存储.<br>\n",
    "> 为了为每个用户提供**个性化产品**， 你希望使“**最新的信息**”为每个客户， Feature store就是保持数据新鲜的最好方案."
   ]
  },
  {
   "cell_type": "code",
   "execution_count": null,
   "id": "1497d4ee-f486-4065-aa29-64d3a18272a3",
   "metadata": {},
   "outputs": [],
   "source": []
  },
  {
   "cell_type": "markdown",
   "id": "b0ad5c7f-a4a3-4bbe-8d4d-efa8603ae72a",
   "metadata": {},
   "source": [
    "> In this nodebook, we will show hot to connect prompt templates to feature stores.<br>\n",
    "> The basic idea is to call a feature store from inside a prompt template <br> \n",
    "> to retrieve values that are then formatted into the prompt."
   ]
  },
  {
   "cell_type": "code",
   "execution_count": null,
   "id": "421f1001-9bf0-4fc8-9286-aa2a6340a14a",
   "metadata": {},
   "outputs": [],
   "source": []
  },
  {
   "cell_type": "markdown",
   "id": "b13810d0-8401-411c-bdcb-d2f3a0b7dfa2",
   "metadata": {},
   "source": [
    "# Feast-feature store"
   ]
  },
  {
   "cell_type": "markdown",
   "id": "b5a653a3-e8f3-42c1-95ce-fb28cf4a6921",
   "metadata": {},
   "source": [
    "> 最受欢迎的特征存储：[Feast](https://github.com/feast-dev/feast): 按照ReadMe里的内容**一步一步操作**\n",
    ">> pip install feast"
   ]
  },
  {
   "cell_type": "code",
   "execution_count": null,
   "id": "4f964057-2601-4d92-b1c9-6b9d5178a675",
   "metadata": {},
   "outputs": [],
   "source": []
  },
  {
   "cell_type": "code",
   "execution_count": null,
   "id": "0604cc01-32fd-4e24-b4ed-bf35f3208baa",
   "metadata": {},
   "outputs": [],
   "source": []
  },
  {
   "cell_type": "code",
   "execution_count": 8,
   "id": "bf5425c8-cfc8-49e2-bc60-79c765041a4c",
   "metadata": {
    "collapsed": true,
    "jupyter": {
     "outputs_hidden": true
    },
    "tags": []
   },
   "outputs": [
    {
     "name": "stdout",
     "output_type": "stream",
     "text": [
      "/opt/conda/envs/preventloss/lib/python3.9/site-packages/pkg_resources/__init__.py:121: DeprecationWarning: pkg_resources is deprecated as an API\n",
      "  warnings.warn(\"pkg_resources is deprecated as an API\", DeprecationWarning)\n",
      "/opt/conda/envs/preventloss/lib/python3.9/site-packages/pkg_resources/__init__.py:2870: DeprecationWarning: Deprecated call to `pkg_resources.declare_namespace('google')`.\n",
      "Implementing implicit namespace packages (as specified in PEP 420) is preferred to `pkg_resources.declare_namespace`. See https://setuptools.pypa.io/en/latest/references/keywords.html#keyword-namespace-packages\n",
      "  declare_namespace(pkg)\n",
      "/opt/conda/envs/preventloss/lib/python3.9/site-packages/pkg_resources/__init__.py:2870: DeprecationWarning: Deprecated call to `pkg_resources.declare_namespace('google.cloud')`.\n",
      "Implementing implicit namespace packages (as specified in PEP 420) is preferred to `pkg_resources.declare_namespace`. See https://setuptools.pypa.io/en/latest/references/keywords.html#keyword-namespace-packages\n",
      "  declare_namespace(pkg)\n",
      "/opt/conda/envs/preventloss/lib/python3.9/site-packages/pkg_resources/__init__.py:2870: DeprecationWarning: Deprecated call to `pkg_resources.declare_namespace('google.logging')`.\n",
      "Implementing implicit namespace packages (as specified in PEP 420) is preferred to `pkg_resources.declare_namespace`. See https://setuptools.pypa.io/en/latest/references/keywords.html#keyword-namespace-packages\n",
      "  declare_namespace(pkg)\n",
      "/opt/conda/envs/preventloss/lib/python3.9/site-packages/pkg_resources/__init__.py:2870: DeprecationWarning: Deprecated call to `pkg_resources.declare_namespace('google.iam')`.\n",
      "Implementing implicit namespace packages (as specified in PEP 420) is preferred to `pkg_resources.declare_namespace`. See https://setuptools.pypa.io/en/latest/references/keywords.html#keyword-namespace-packages\n",
      "  declare_namespace(pkg)\n",
      "/opt/conda/envs/preventloss/lib/python3.9/site-packages/pkg_resources/__init__.py:2870: DeprecationWarning: Deprecated call to `pkg_resources.declare_namespace('mpl_toolkits')`.\n",
      "Implementing implicit namespace packages (as specified in PEP 420) is preferred to `pkg_resources.declare_namespace`. See https://setuptools.pypa.io/en/latest/references/keywords.html#keyword-namespace-packages\n",
      "  declare_namespace(pkg)\n",
      "08/17/2023 04:37:26 AM root INFO: copying /opt/conda/envs/preventloss/lib/python3.9/site-packages/feast/templates/local/README.md -> /home/jupyter/tips/LLM_case/personal_feature_repo\n",
      "08/17/2023 04:37:26 AM root INFO: creating /home/jupyter/tips/LLM_case/personal_feature_repo/__pycache__\n",
      "08/17/2023 04:37:26 AM root INFO: copying /opt/conda/envs/preventloss/lib/python3.9/site-packages/feast/templates/local/__pycache__/bootstrap.cpython-39.pyc -> /home/jupyter/tips/LLM_case/personal_feature_repo/__pycache__\n",
      "08/17/2023 04:37:26 AM root INFO: copying /opt/conda/envs/preventloss/lib/python3.9/site-packages/feast/templates/local/__pycache__/__init__.cpython-39.pyc -> /home/jupyter/tips/LLM_case/personal_feature_repo/__pycache__\n",
      "08/17/2023 04:37:26 AM root INFO: creating /home/jupyter/tips/LLM_case/personal_feature_repo/feature_repo\n",
      "08/17/2023 04:37:26 AM root INFO: copying /opt/conda/envs/preventloss/lib/python3.9/site-packages/feast/templates/local/feature_repo/example_repo.py -> /home/jupyter/tips/LLM_case/personal_feature_repo/feature_repo\n",
      "08/17/2023 04:37:26 AM root INFO: copying /opt/conda/envs/preventloss/lib/python3.9/site-packages/feast/templates/local/feature_repo/test_workflow.py -> /home/jupyter/tips/LLM_case/personal_feature_repo/feature_repo\n",
      "08/17/2023 04:37:26 AM root INFO: creating /home/jupyter/tips/LLM_case/personal_feature_repo/feature_repo/__pycache__\n",
      "08/17/2023 04:37:26 AM root INFO: copying /opt/conda/envs/preventloss/lib/python3.9/site-packages/feast/templates/local/feature_repo/__pycache__/example_repo.cpython-39.pyc -> /home/jupyter/tips/LLM_case/personal_feature_repo/feature_repo/__pycache__\n",
      "08/17/2023 04:37:26 AM root INFO: copying /opt/conda/envs/preventloss/lib/python3.9/site-packages/feast/templates/local/feature_repo/__pycache__/__init__.cpython-39.pyc -> /home/jupyter/tips/LLM_case/personal_feature_repo/feature_repo/__pycache__\n",
      "08/17/2023 04:37:26 AM root INFO: copying /opt/conda/envs/preventloss/lib/python3.9/site-packages/feast/templates/local/feature_repo/__pycache__/test_workflow.cpython-39.pyc -> /home/jupyter/tips/LLM_case/personal_feature_repo/feature_repo/__pycache__\n",
      "08/17/2023 04:37:26 AM root INFO: copying /opt/conda/envs/preventloss/lib/python3.9/site-packages/feast/templates/local/feature_repo/feature_store.yaml -> /home/jupyter/tips/LLM_case/personal_feature_repo/feature_repo\n",
      "08/17/2023 04:37:26 AM root INFO: copying /opt/conda/envs/preventloss/lib/python3.9/site-packages/feast/templates/local/feature_repo/__init__.py -> /home/jupyter/tips/LLM_case/personal_feature_repo/feature_repo\n",
      "08/17/2023 04:37:26 AM root INFO: copying /opt/conda/envs/preventloss/lib/python3.9/site-packages/feast/templates/local/bootstrap.py -> /home/jupyter/tips/LLM_case/personal_feature_repo\n",
      "08/17/2023 04:37:26 AM root INFO: copying /opt/conda/envs/preventloss/lib/python3.9/site-packages/feast/templates/local/__init__.py -> /home/jupyter/tips/LLM_case/personal_feature_repo\n",
      "\n",
      "Creating a new Feast repository in \u001b[1m\u001b[32m/home/jupyter/tips/LLM_case/personal_feature_repo\u001b[0m.\n",
      "\n"
     ]
    }
   ],
   "source": [
    "!feast init personal_feature_repo"
   ]
  },
  {
   "cell_type": "code",
   "execution_count": 16,
   "id": "b06a5926-9828-4b67-9adf-6d8d2f50f533",
   "metadata": {
    "tags": []
   },
   "outputs": [],
   "source": [
    "# cd my_feature_repo/feature_repo\n",
    "# feast apply"
   ]
  },
  {
   "cell_type": "code",
   "execution_count": null,
   "id": "b9685f9e-177d-4bab-a2a3-55a193508f8c",
   "metadata": {},
   "outputs": [],
   "source": []
  },
  {
   "cell_type": "code",
   "execution_count": 17,
   "id": "fc86ad98-62aa-4fb2-9d6d-21bc286434c0",
   "metadata": {
    "tags": []
   },
   "outputs": [],
   "source": [
    "from feast import FeatureStore\n",
    "import pandas as pd\n",
    "from datetime import datetime"
   ]
  },
  {
   "cell_type": "code",
   "execution_count": 18,
   "id": "b48c7a9d-7a39-4fe7-a970-ff0ce1af1883",
   "metadata": {
    "tags": []
   },
   "outputs": [],
   "source": [
    "entity_df = pd.DataFrame.from_dict({\n",
    "    \"driver_id\": [1001, 1002, 1003, 1004],\n",
    "    \"event_timestamp\": [\n",
    "        datetime(2021, 4, 12, 10, 59, 42),\n",
    "        datetime(2021, 4, 12, 8,  12, 10),\n",
    "        datetime(2021, 4, 12, 16, 40, 26),\n",
    "        datetime(2021, 4, 12, 15, 1 , 12)\n",
    "    ]\n",
    "})"
   ]
  },
  {
   "cell_type": "code",
   "execution_count": null,
   "id": "edf2f47f-8300-419e-9183-9ccfb1b7bf20",
   "metadata": {},
   "outputs": [],
   "source": []
  },
  {
   "cell_type": "code",
   "execution_count": 19,
   "id": "f1a46304-99ea-4e48-8afd-1fc7300512a6",
   "metadata": {
    "tags": []
   },
   "outputs": [
    {
     "data": {
      "text/html": [
       "<div>\n",
       "<style scoped>\n",
       "    .dataframe tbody tr th:only-of-type {\n",
       "        vertical-align: middle;\n",
       "    }\n",
       "\n",
       "    .dataframe tbody tr th {\n",
       "        vertical-align: top;\n",
       "    }\n",
       "\n",
       "    .dataframe thead th {\n",
       "        text-align: right;\n",
       "    }\n",
       "</style>\n",
       "<table border=\"1\" class=\"dataframe\">\n",
       "  <thead>\n",
       "    <tr style=\"text-align: right;\">\n",
       "      <th></th>\n",
       "      <th>driver_id</th>\n",
       "      <th>event_timestamp</th>\n",
       "    </tr>\n",
       "  </thead>\n",
       "  <tbody>\n",
       "    <tr>\n",
       "      <th>0</th>\n",
       "      <td>1001</td>\n",
       "      <td>2021-04-12 10:59:42</td>\n",
       "    </tr>\n",
       "    <tr>\n",
       "      <th>1</th>\n",
       "      <td>1002</td>\n",
       "      <td>2021-04-12 08:12:10</td>\n",
       "    </tr>\n",
       "    <tr>\n",
       "      <th>2</th>\n",
       "      <td>1003</td>\n",
       "      <td>2021-04-12 16:40:26</td>\n",
       "    </tr>\n",
       "    <tr>\n",
       "      <th>3</th>\n",
       "      <td>1004</td>\n",
       "      <td>2021-04-12 15:01:12</td>\n",
       "    </tr>\n",
       "  </tbody>\n",
       "</table>\n",
       "</div>"
      ],
      "text/plain": [
       "   driver_id     event_timestamp\n",
       "0       1001 2021-04-12 10:59:42\n",
       "1       1002 2021-04-12 08:12:10\n",
       "2       1003 2021-04-12 16:40:26\n",
       "3       1004 2021-04-12 15:01:12"
      ]
     },
     "execution_count": 19,
     "metadata": {},
     "output_type": "execute_result"
    }
   ],
   "source": [
    "entity_df"
   ]
  },
  {
   "cell_type": "markdown",
   "id": "d3fe6ea8-fef6-4724-be2c-e1f6f91e9470",
   "metadata": {},
   "source": [
    "### For trainning"
   ]
  },
  {
   "cell_type": "code",
   "execution_count": 20,
   "id": "aa95da96-26d5-4a4c-a325-845600b8ad0c",
   "metadata": {
    "tags": []
   },
   "outputs": [],
   "source": [
    "feast_repo_path = './personal_feature_repo/feature_repo/'\n",
    "store = FeatureStore(repo_path=feast_repo_path)"
   ]
  },
  {
   "cell_type": "code",
   "execution_count": 21,
   "id": "a017270f-131f-4e9e-b061-50d8da78a194",
   "metadata": {
    "tags": []
   },
   "outputs": [],
   "source": [
    "training_df = store.get_historical_features(\n",
    "    entity_df=entity_df,\n",
    "    features = [\n",
    "        'driver_hourly_stats:conv_rate',\n",
    "        'driver_hourly_stats:acc_rate',\n",
    "        'driver_hourly_stats:avg_daily_trips'\n",
    "    ],\n",
    ").to_df()"
   ]
  },
  {
   "cell_type": "code",
   "execution_count": 22,
   "id": "4f58700e-d0e2-4c89-bc43-41d11dbc517d",
   "metadata": {
    "tags": []
   },
   "outputs": [
    {
     "data": {
      "text/html": [
       "<div>\n",
       "<style scoped>\n",
       "    .dataframe tbody tr th:only-of-type {\n",
       "        vertical-align: middle;\n",
       "    }\n",
       "\n",
       "    .dataframe tbody tr th {\n",
       "        vertical-align: top;\n",
       "    }\n",
       "\n",
       "    .dataframe thead th {\n",
       "        text-align: right;\n",
       "    }\n",
       "</style>\n",
       "<table border=\"1\" class=\"dataframe\">\n",
       "  <thead>\n",
       "    <tr style=\"text-align: right;\">\n",
       "      <th></th>\n",
       "      <th>driver_id</th>\n",
       "      <th>event_timestamp</th>\n",
       "      <th>conv_rate</th>\n",
       "      <th>acc_rate</th>\n",
       "      <th>avg_daily_trips</th>\n",
       "    </tr>\n",
       "  </thead>\n",
       "  <tbody>\n",
       "    <tr>\n",
       "      <th>0</th>\n",
       "      <td>1001</td>\n",
       "      <td>2021-04-12 10:59:42+00:00</td>\n",
       "      <td>0.960956</td>\n",
       "      <td>0.647491</td>\n",
       "      <td>49</td>\n",
       "    </tr>\n",
       "    <tr>\n",
       "      <th>1</th>\n",
       "      <td>1002</td>\n",
       "      <td>2021-04-12 08:12:10+00:00</td>\n",
       "      <td>0.603899</td>\n",
       "      <td>0.226089</td>\n",
       "      <td>94</td>\n",
       "    </tr>\n",
       "    <tr>\n",
       "      <th>2</th>\n",
       "      <td>1003</td>\n",
       "      <td>2021-04-12 16:40:26+00:00</td>\n",
       "      <td>0.906147</td>\n",
       "      <td>0.709469</td>\n",
       "      <td>199</td>\n",
       "    </tr>\n",
       "    <tr>\n",
       "      <th>3</th>\n",
       "      <td>1004</td>\n",
       "      <td>2021-04-12 15:01:12+00:00</td>\n",
       "      <td>0.699032</td>\n",
       "      <td>0.889006</td>\n",
       "      <td>848</td>\n",
       "    </tr>\n",
       "  </tbody>\n",
       "</table>\n",
       "</div>"
      ],
      "text/plain": [
       "   driver_id           event_timestamp  conv_rate  acc_rate  avg_daily_trips\n",
       "0       1001 2021-04-12 10:59:42+00:00   0.960956  0.647491               49\n",
       "1       1002 2021-04-12 08:12:10+00:00   0.603899  0.226089               94\n",
       "2       1003 2021-04-12 16:40:26+00:00   0.906147  0.709469              199\n",
       "3       1004 2021-04-12 15:01:12+00:00   0.699032  0.889006              848"
      ]
     },
     "execution_count": 22,
     "metadata": {},
     "output_type": "execute_result"
    }
   ],
   "source": [
    "training_df"
   ]
  },
  {
   "cell_type": "markdown",
   "id": "5fb76a33-1c45-42fd-af09-99fcf369375f",
   "metadata": {},
   "source": [
    "### for predicting"
   ]
  },
  {
   "cell_type": "code",
   "execution_count": 23,
   "id": "a2e0afea-86ab-4a6e-8e0f-ccacfccd7e38",
   "metadata": {
    "tags": []
   },
   "outputs": [
    {
     "name": "stdout",
     "output_type": "stream",
     "text": [
      "{'acc_rate': [0.8038886189460754],\n",
      " 'avg_daily_trips': [171],\n",
      " 'conv_rate': [0.23892197012901306],\n",
      " 'driver_id': [1001]}\n"
     ]
    }
   ],
   "source": [
    "from pprint import pprint\n",
    "from feast import FeatureStore\n",
    "\n",
    "feast_repo_path = './personal_feature_repo/feature_repo/'\n",
    "store = FeatureStore(repo_path=feast_repo_path)\n",
    "\n",
    "feature_vector = store.get_online_features(\n",
    "    features=[\n",
    "        'driver_hourly_stats:conv_rate',\n",
    "        'driver_hourly_stats:acc_rate',\n",
    "        'driver_hourly_stats:avg_daily_trips'\n",
    "    ],\n",
    "    entity_rows=[{\"driver_id\": 1001}]\n",
    ").to_dict()\n",
    "\n",
    "pprint(feature_vector)"
   ]
  },
  {
   "cell_type": "code",
   "execution_count": null,
   "id": "39bdfae9-56da-4c75-8cd2-55653dae5a8e",
   "metadata": {},
   "outputs": [],
   "source": []
  },
  {
   "cell_type": "code",
   "execution_count": null,
   "id": "95aecb18-1403-4d28-a0f2-6f9d1925a14e",
   "metadata": {},
   "outputs": [],
   "source": []
  },
  {
   "cell_type": "code",
   "execution_count": null,
   "id": "d8e3e0b9-9b66-4207-8990-e0556bfa591d",
   "metadata": {},
   "outputs": [],
   "source": []
  },
  {
   "cell_type": "code",
   "execution_count": null,
   "id": "9137a82d-24b7-496e-be1b-fe3fdedd918f",
   "metadata": {},
   "outputs": [],
   "source": []
  },
  {
   "cell_type": "markdown",
   "id": "2dbdd48a-501e-4b41-90c7-6c6b4bb6aef9",
   "metadata": {},
   "source": [
    "## Load Feast Store"
   ]
  },
  {
   "cell_type": "code",
   "execution_count": 3,
   "id": "dd035c47-7fcc-485d-9d8e-1b2bb2bb87b5",
   "metadata": {},
   "outputs": [],
   "source": [
    "from feast import FeatureStore"
   ]
  },
  {
   "cell_type": "code",
   "execution_count": null,
   "id": "689c37e1-c599-4abf-ae08-38450d9c2d24",
   "metadata": {},
   "outputs": [],
   "source": []
  },
  {
   "cell_type": "code",
   "execution_count": 4,
   "id": "099e332b-5912-47bc-9080-59d08e6c198e",
   "metadata": {
    "tags": []
   },
   "outputs": [],
   "source": [
    "feast_repo_path = './personal_feature_repo/feature_repo/'"
   ]
  },
  {
   "cell_type": "code",
   "execution_count": 5,
   "id": "5a4f0493-9f81-497f-8419-edba07c69cc5",
   "metadata": {
    "tags": []
   },
   "outputs": [],
   "source": [
    "store = FeatureStore(repo_path=feast_repo_path)"
   ]
  },
  {
   "cell_type": "code",
   "execution_count": null,
   "id": "5b6c515d-48fb-420b-a7fe-f260d20c8c06",
   "metadata": {},
   "outputs": [],
   "source": []
  },
  {
   "cell_type": "markdown",
   "id": "b97b9bbc-9424-4861-bd48-0f1209640a20",
   "metadata": {},
   "source": [
    "## prompts"
   ]
  },
  {
   "cell_type": "code",
   "execution_count": null,
   "id": "d0568eaa-621d-4a31-8e69-1da657ecae3b",
   "metadata": {},
   "outputs": [],
   "source": []
  },
  {
   "cell_type": "markdown",
   "id": "8fea8ec2-cf50-4ae5-abf6-acdc2b0cf523",
   "metadata": {
    "tags": []
   },
   "source": [
    "> 我们将设置一个定制的`FeastPromptTemplate`<br>\n",
    "> 这个提示模版：将使用一个`driver id`, `统计信息`， 并用上述信息格式化一个提示模版<br>\n",
    "> 注意：此提示模版的输入仅有`driver id`，  其他信息都是在提示模版内查找。"
   ]
  },
  {
   "cell_type": "code",
   "execution_count": null,
   "id": "63a80b80-b40f-4984-981a-2d23e49befc9",
   "metadata": {},
   "outputs": [],
   "source": []
  },
  {
   "cell_type": "code",
   "execution_count": 6,
   "id": "68378f2a-6d85-4d15-9753-3488b6a1a33a",
   "metadata": {
    "tags": []
   },
   "outputs": [],
   "source": [
    "from langchain.prompts import PromptTemplate, StringPromptTemplate"
   ]
  },
  {
   "cell_type": "code",
   "execution_count": null,
   "id": "f94bc275-8bb9-4042-87cb-2d6f1924fe8b",
   "metadata": {},
   "outputs": [],
   "source": []
  },
  {
   "cell_type": "code",
   "execution_count": 7,
   "id": "eefffd19-9fc3-4eca-9766-8910c9687f6c",
   "metadata": {
    "tags": []
   },
   "outputs": [],
   "source": [
    "template = \"\"\"Given the driver's up to date stats, write them note relaying those stats to them.\n",
    "If they have a conversation rate above .5, give them a compliment. Otherwise, make a silly joke about chickens at the end to make them feel better\n",
    "\n",
    "Here are the drivers stats:\n",
    "Conversation rate: {conv_rate}\n",
    "Acceptance rate: {acc_rate}\n",
    "Average Daily Trips: {avg_daily_trips}\n",
    "\n",
    "Your response:\"\"\""
   ]
  },
  {
   "cell_type": "code",
   "execution_count": 8,
   "id": "2dc00910-38c9-4151-8752-19766c78a099",
   "metadata": {
    "tags": []
   },
   "outputs": [],
   "source": [
    "prompt = PromptTemplate.from_template(template)"
   ]
  },
  {
   "cell_type": "code",
   "execution_count": null,
   "id": "477c122c-6b2d-4be6-b231-3cd400baee36",
   "metadata": {},
   "outputs": [],
   "source": []
  },
  {
   "cell_type": "code",
   "execution_count": 9,
   "id": "ad30b7e1-d46c-452e-a374-6751d1bf40a3",
   "metadata": {
    "tags": []
   },
   "outputs": [],
   "source": [
    "class FeastPromptTemplate(StringPromptTemplate):\n",
    "    \n",
    "    def format(self, **kwargs):\n",
    "        driver_id = kwargs.pop('driver_id')\n",
    "        feature_vector = store.get_online_features(\n",
    "            features=[\n",
    "                \"driver_hourly_stats:conv_rate\",\n",
    "                \"driver_hourly_stats:acc_rate\",\n",
    "                \"driver_hourly_stats:avg_daily_trips\",\n",
    "            ], \n",
    "            entity_rows=[{'driver_id': driver_id}]\n",
    "        ).to_dict()\n",
    "        \n",
    "        kwargs['conv_rate'] = feature_vector['conv_rate'][0]\n",
    "        kwargs['acc_rate'] = feature_vector['acc_rate'][0]\n",
    "        kwargs['avg_daily_trips'] = feature_vector['avg_daily_trips'][0]\n",
    "        return prompt.format(**kwargs)"
   ]
  },
  {
   "cell_type": "code",
   "execution_count": null,
   "id": "afa2375a-ea48-4f12-9547-b97f8020cfcd",
   "metadata": {},
   "outputs": [],
   "source": []
  },
  {
   "cell_type": "code",
   "execution_count": 10,
   "id": "8a30e407-0a37-4fc0-a842-7931cd7754de",
   "metadata": {
    "tags": []
   },
   "outputs": [],
   "source": [
    "prompt_template = FeastPromptTemplate(input_variables=['driver_id'])"
   ]
  },
  {
   "cell_type": "code",
   "execution_count": 11,
   "id": "7d200d92-6a5b-400c-8aeb-070d4318c8ce",
   "metadata": {
    "tags": []
   },
   "outputs": [
    {
     "data": {
      "text/plain": [
       "\"Given the driver's up to date stats, write them note relaying those stats to them.\\nIf they have a conversation rate above .5, give them a compliment. Otherwise, make a silly joke about chickens at the end to make them feel better\\n\\nHere are the drivers stats:\\nConversation rate: 0.23892197012901306\\nAcceptance rate: 0.8038886189460754\\nAverage Daily Trips: 171\\n\\nYour response:\""
      ]
     },
     "execution_count": 11,
     "metadata": {},
     "output_type": "execute_result"
    }
   ],
   "source": [
    "prompt_template.format(driver_id=1001)"
   ]
  },
  {
   "cell_type": "code",
   "execution_count": null,
   "id": "7b5f55c5-83b0-4262-b008-c6adab88b23f",
   "metadata": {},
   "outputs": [],
   "source": []
  },
  {
   "cell_type": "markdown",
   "id": "1d3635fc-ba6d-4ecc-b771-358e3899e8d9",
   "metadata": {},
   "source": [
    "## Use in a chain"
   ]
  },
  {
   "cell_type": "markdown",
   "id": "c64e6109-a3fa-4e4d-a5c0-c23362a811cb",
   "metadata": {},
   "source": [
    "> 有 feature store 支持的个性化的 chain"
   ]
  },
  {
   "cell_type": "code",
   "execution_count": null,
   "id": "971d08bf-e6eb-406b-b670-f0f11d429f9c",
   "metadata": {},
   "outputs": [],
   "source": []
  },
  {
   "cell_type": "code",
   "execution_count": 12,
   "id": "2057e301-2328-41cd-98d1-4a2454ba9178",
   "metadata": {},
   "outputs": [],
   "source": [
    "from langchain.chat_models import ChatOpenAI\n",
    "from langchain.chains import LLMChain"
   ]
  },
  {
   "cell_type": "code",
   "execution_count": null,
   "id": "f757b866-3e59-4a0f-8001-2aab4875c587",
   "metadata": {},
   "outputs": [],
   "source": []
  },
  {
   "cell_type": "code",
   "execution_count": 13,
   "id": "a157c3a2-25e2-4ee0-9ab5-969c4b194a66",
   "metadata": {},
   "outputs": [],
   "source": [
    "chain = LLMChain(llm=ChatOpenAI(), prompt=prompt_template)"
   ]
  },
  {
   "cell_type": "code",
   "execution_count": null,
   "id": "3c71d78b-014c-430f-8f45-5cbaa58f9bfb",
   "metadata": {},
   "outputs": [],
   "source": []
  },
  {
   "cell_type": "code",
   "execution_count": 14,
   "id": "6519952c-0068-42d2-9d37-55730ecd5a5d",
   "metadata": {},
   "outputs": [
    {
     "data": {
      "text/plain": [
       "\"Hi there!\\n\\nI hope you're doing well. I wanted to share some up-to-date stats with you. Your conversation rate is currently at 0.2389, which is a great effort! Although it's below the threshold, I wanted to acknowledge your hard work and dedication.\\n\\nAdditionally, your acceptance rate is at a fantastic 0.8039, which shows your commitment to providing excellent service. Keep up the good work!\\n\\nLastly, your average daily trips stand at an impressive 171. That's quite an accomplishment, and it's clear that customers appreciate your reliable service.\\n\\nRemember, even though your conversation rate may not be above 0.5, please don't feel discouraged. In fact, let me share a silly joke to bring a smile to your face: Why did the chicken go to the seance? To talk to the other side! 😄\\n\\nKeep up the great work, and if you ever need any support or have any questions, feel free to reach out.\""
      ]
     },
     "execution_count": 14,
     "metadata": {},
     "output_type": "execute_result"
    }
   ],
   "source": [
    "chain.run(1001)"
   ]
  },
  {
   "cell_type": "code",
   "execution_count": null,
   "id": "6cff2713-59ef-4cc6-8a01-588bfc16f92d",
   "metadata": {},
   "outputs": [],
   "source": []
  },
  {
   "cell_type": "code",
   "execution_count": null,
   "id": "2d3c4264-7b33-423e-8bff-8365c18bec85",
   "metadata": {},
   "outputs": [],
   "source": []
  },
  {
   "cell_type": "markdown",
   "id": "a7d7f3af-6d33-4dbf-9c6b-67ab3918245c",
   "metadata": {},
   "source": [
    "# Tecton-feature store "
   ]
  },
  {
   "cell_type": "markdown",
   "id": "5ce5452d-5d6a-4078-8a35-b38b7e1fef61",
   "metadata": {},
   "source": [
    "> ..."
   ]
  },
  {
   "cell_type": "markdown",
   "id": "1e998f75-6e3e-4723-8123-36e88a9426c0",
   "metadata": {},
   "source": [
    "# Featurefrom-feature store"
   ]
  },
  {
   "cell_type": "markdown",
   "id": "407298ee-76f6-4eba-8bb9-61c84a4518a1",
   "metadata": {},
   "source": [
    "# AzureML Managed Feature Store"
   ]
  },
  {
   "cell_type": "code",
   "execution_count": null,
   "id": "39237691-b470-4866-96ea-f85977b63cd7",
   "metadata": {},
   "outputs": [],
   "source": []
  }
 ],
 "metadata": {
  "environment": {
   "kernel": "conda-env-preventloss-py",
   "name": "pytorch-gpu.1-13.m105",
   "type": "gcloud",
   "uri": "gcr.io/deeplearning-platform-release/pytorch-gpu.1-13:m105"
  },
  "kernelspec": {
   "display_name": "lglm",
   "language": "python",
   "name": "lglm"
  },
  "language_info": {
   "codemirror_mode": {
    "name": "ipython",
    "version": 3
   },
   "file_extension": ".py",
   "mimetype": "text/x-python",
   "name": "python",
   "nbconvert_exporter": "python",
   "pygments_lexer": "ipython3",
   "version": "3.8.17"
  }
 },
 "nbformat": 4,
 "nbformat_minor": 5
}
