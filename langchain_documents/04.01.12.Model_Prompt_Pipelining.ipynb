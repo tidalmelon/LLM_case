{
 "cells": [
  {
   "cell_type": "markdown",
   "id": "5e851c63-fbb9-4f99-a92b-26dce2e719a7",
   "metadata": {
    "tags": []
   },
   "source": [
    "<img src=./imgs/model_io.jpg width=35% />"
   ]
  },
  {
   "cell_type": "markdown",
   "id": "47454cdf-1217-4fbf-a015-5c981b69e2f2",
   "metadata": {
    "tags": []
   },
   "source": [
    "[langchain documents](https://python.langchain.com/docs/modules/model_io/models/chat/llm_chain)"
   ]
  },
  {
   "cell_type": "code",
   "execution_count": null,
   "id": "e2806292-4cf0-40eb-9f66-941d282dfab9",
   "metadata": {},
   "outputs": [],
   "source": []
  },
  {
   "cell_type": "markdown",
   "id": "07b77b43-6e8c-4c03-b08f-ad9c273aaa96",
   "metadata": {},
   "source": [
    "[LangChain-Tutorials](https://github.com/sugarforever/LangChain-Tutorials)"
   ]
  },
  {
   "cell_type": "code",
   "execution_count": null,
   "id": "700f1574-f119-4e8d-bea8-96c9c06b9516",
   "metadata": {},
   "outputs": [],
   "source": []
  },
  {
   "cell_type": "code",
   "execution_count": 1,
   "id": "06346c2d-36d3-47dd-992b-404d25663045",
   "metadata": {
    "tags": []
   },
   "outputs": [],
   "source": [
    "import os\n",
    "os.environ['OPENAI_API_KEY'] = '**************'"
   ]
  },
  {
   "cell_type": "code",
   "execution_count": null,
   "id": "83793f12-324e-4bf7-ab92-5b9f604e9e71",
   "metadata": {},
   "outputs": [],
   "source": []
  },
  {
   "cell_type": "markdown",
   "id": "911eab4b-283a-460d-89bc-43fd678ed582",
   "metadata": {},
   "source": [
    ">  如果你有大量的examples <br>\n",
    "> 基本接口如下："
   ]
  },
  {
   "cell_type": "markdown",
   "id": "166490a1-93d8-4fd3-a7b8-070153fc70ad",
   "metadata": {},
   "source": [
    "```python\n",
    "class BaseExampleSelector(ABC):\n",
    "    \"\"\"Interface for selecting examples to include in prompts.\"\"\"\n",
    "\n",
    "    @abstractmethod\n",
    "    def select_examples(self, input_variables: Dict[str, str]) -> List[dict]:\n",
    "        \"\"\"Select which examples to use based on the inputs.\"\"\"\n",
    "```"
   ]
  },
  {
   "cell_type": "markdown",
   "id": "700ef009-70e3-449d-a0d0-3dccc74054ce",
   "metadata": {},
   "source": [
    "> 1. The only method it needs to expose is a select_examples method.<br>\n",
    "> 2. This takes in the input variables and then returns a list of examples.<br>\n",
    "> 3. 输入字典，返回list[dict]"
   ]
  },
  {
   "cell_type": "code",
   "execution_count": null,
   "id": "4cc8b0f4-5efd-4d63-baf8-f7edcca94296",
   "metadata": {},
   "outputs": [],
   "source": []
  },
  {
   "cell_type": "code",
   "execution_count": 24,
   "id": "7acc4f1e-312c-4824-9192-25d27c650c87",
   "metadata": {},
   "outputs": [],
   "source": [
    "from langchain.prompts.example_selector.base import BaseExampleSelector\n",
    "import numpy as np"
   ]
  },
  {
   "cell_type": "code",
   "execution_count": null,
   "id": "554bdd74-5bc2-418d-8e9f-094067ea22ba",
   "metadata": {},
   "outputs": [],
   "source": []
  },
  {
   "cell_type": "code",
   "execution_count": null,
   "id": "0462243f-2afe-4ecd-a625-feeb76e20194",
   "metadata": {},
   "outputs": [],
   "source": []
  },
  {
   "cell_type": "markdown",
   "id": "69454c27-0a59-413b-bbb3-117407674fd8",
   "metadata": {},
   "source": [
    "[BaseExampleSelector](https://api.python.langchain.com/en/latest/prompts/langchain.prompts.example_selector.base.BaseExampleSelector.html)"
   ]
  },
  {
   "cell_type": "code",
   "execution_count": null,
   "id": "998761d0-9347-4fa0-ab44-414f695436e9",
   "metadata": {},
   "outputs": [],
   "source": []
  },
  {
   "cell_type": "code",
   "execution_count": null,
   "id": "cd735fb3-b1c2-417b-9d99-39f5411dc6ee",
   "metadata": {},
   "outputs": [],
   "source": []
  },
  {
   "cell_type": "code",
   "execution_count": 30,
   "id": "3813e710-cba9-4c76-bb9b-f2fa19778ed6",
   "metadata": {},
   "outputs": [],
   "source": [
    "class CustomExampleSelector(BaseExampleSelector):\n",
    "    \n",
    "    def __init__(self, examples):\n",
    "        self.examples = examples\n",
    "        \n",
    "    def add_example(self, example):\n",
    "        self.examples.append(example)\n",
    "        \n",
    "    def select_examples(self, input_variables):\n",
    "        return np.random.choice(self.examples, size=2, replace=False)\n",
    "        "
   ]
  },
  {
   "cell_type": "code",
   "execution_count": 31,
   "id": "97277a4e-c83f-4491-a774-2f0fd02dd8ee",
   "metadata": {
    "tags": []
   },
   "outputs": [],
   "source": [
    "examples = [\n",
    "    {\"foo\": \"1\"},\n",
    "    {\"foo\": \"2\"},\n",
    "    {\"foo\": \"3\"}\n",
    "]\n",
    "\n",
    "# Initialize example selector.\n",
    "example_selector = CustomExampleSelector(examples)"
   ]
  },
  {
   "cell_type": "code",
   "execution_count": null,
   "id": "94b857ff-345f-498b-acd4-a9d8ee9257bb",
   "metadata": {},
   "outputs": [],
   "source": []
  },
  {
   "cell_type": "code",
   "execution_count": 32,
   "id": "80edfb1f-b1d7-4fa7-8557-e5c9f9c781c9",
   "metadata": {},
   "outputs": [
    {
     "data": {
      "text/plain": [
       "array([{'foo': '3'}, {'foo': '1'}], dtype=object)"
      ]
     },
     "execution_count": 32,
     "metadata": {},
     "output_type": "execute_result"
    }
   ],
   "source": [
    "example_selector.select_examples(None)"
   ]
  },
  {
   "cell_type": "code",
   "execution_count": null,
   "id": "bf5feed3-fc8f-470b-a34a-7c379f070211",
   "metadata": {},
   "outputs": [],
   "source": []
  },
  {
   "cell_type": "code",
   "execution_count": 33,
   "id": "6c753398-4e55-45e1-b808-56c4d8104942",
   "metadata": {},
   "outputs": [
    {
     "data": {
      "text/plain": [
       "[{'foo': '1'}, {'foo': '2'}, {'foo': '3'}, {'foo': '4'}]"
      ]
     },
     "execution_count": 33,
     "metadata": {},
     "output_type": "execute_result"
    }
   ],
   "source": [
    "example_selector.add_example({\"foo\": \"4\"})\n",
    "example_selector.examples"
   ]
  },
  {
   "cell_type": "code",
   "execution_count": null,
   "id": "59034710-2141-42ce-99dd-bb214bf47bc2",
   "metadata": {},
   "outputs": [],
   "source": []
  },
  {
   "cell_type": "code",
   "execution_count": null,
   "id": "786942cc-c6ff-4f56-b06b-1c96f60c46d7",
   "metadata": {},
   "outputs": [],
   "source": []
  },
  {
   "cell_type": "code",
   "execution_count": 35,
   "id": "6b40a45f-988a-4147-a09f-139e8093ff55",
   "metadata": {
    "tags": []
   },
   "outputs": [
    {
     "data": {
      "text/plain": [
       "array([{'foo': '4'}, {'foo': '1'}], dtype=object)"
      ]
     },
     "execution_count": 35,
     "metadata": {},
     "output_type": "execute_result"
    }
   ],
   "source": [
    "example_selector.select_examples(None)"
   ]
  },
  {
   "cell_type": "code",
   "execution_count": null,
   "id": "df18cc1e-82e9-4d7a-8444-3cf1d99310b5",
   "metadata": {},
   "outputs": [],
   "source": []
  },
  {
   "cell_type": "code",
   "execution_count": null,
   "id": "95f513a8-3fb1-4a04-b0ca-3a8abc04e2ac",
   "metadata": {},
   "outputs": [],
   "source": []
  }
 ],
 "metadata": {
  "environment": {
   "kernel": "conda-env-preventloss-py",
   "name": "pytorch-gpu.1-13.m105",
   "type": "gcloud",
   "uri": "gcr.io/deeplearning-platform-release/pytorch-gpu.1-13:m105"
  },
  "kernelspec": {
   "display_name": "lglm",
   "language": "python",
   "name": "lglm"
  },
  "language_info": {
   "codemirror_mode": {
    "name": "ipython",
    "version": 3
   },
   "file_extension": ".py",
   "mimetype": "text/x-python",
   "name": "python",
   "nbconvert_exporter": "python",
   "pygments_lexer": "ipython3",
   "version": "3.8.17"
  }
 },
 "nbformat": 4,
 "nbformat_minor": 5
}
