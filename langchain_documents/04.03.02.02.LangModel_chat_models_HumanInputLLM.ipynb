{
 "cells": [
  {
   "cell_type": "code",
   "execution_count": null,
   "id": "89f24ea2-0e97-4f25-a368-a75fc37c693b",
   "metadata": {},
   "outputs": [],
   "source": []
  },
  {
   "cell_type": "markdown",
   "id": "a6747154-584e-45bf-a8aa-b580577d5e2d",
   "metadata": {},
   "source": [
    "## HumanInputChatModel\n",
    "1. testing<br>\n",
    "2. debugging<br>\n",
    "3. enducation purposes<br>\n",
    "\n",
    "就是假的, 模拟人类回答的, 不存在的模型"
   ]
  },
  {
   "cell_type": "code",
   "execution_count": 1,
   "id": "2f029725-b5e3-4a67-87c2-11efcae3830f",
   "metadata": {},
   "outputs": [],
   "source": [
    "from langchain.chat_models.human import HumanInputChatModel"
   ]
  },
  {
   "cell_type": "markdown",
   "id": "202fc63d-a855-4e87-8d1a-2ef801c5c5e2",
   "metadata": {},
   "source": [
    "> 我们使用`WikiPediaQueryRun` 工具"
   ]
  },
  {
   "cell_type": "code",
   "execution_count": 3,
   "id": "34330644-429f-41ca-be70-d533e38ce765",
   "metadata": {},
   "outputs": [],
   "source": [
    "from langchain.agents import load_tools\n",
    "from langchain.agents import initialize_agent\n",
    "from langchain.agents import AgentType"
   ]
  },
  {
   "cell_type": "code",
   "execution_count": 4,
   "id": "defedae1-e387-41b8-b236-50363317120b",
   "metadata": {},
   "outputs": [],
   "source": [
    "tools = load_tools(['wikipedia'])\n",
    "llm = HumanInputChatModel()"
   ]
  },
  {
   "cell_type": "code",
   "execution_count": 5,
   "id": "bf6ec563-b1f8-418b-bea2-9039d6adc25b",
   "metadata": {},
   "outputs": [],
   "source": [
    "agent = initialize_agent(tools, llm, agent=AgentType.CHAT_ZERO_SHOT_REACT_DESCRIPTION, verbose=True)"
   ]
  },
  {
   "cell_type": "code",
   "execution_count": null,
   "id": "7a72a37a-c6b5-49e5-a8f5-b92cd7376c91",
   "metadata": {},
   "outputs": [
    {
     "name": "stdout",
     "output_type": "stream",
     "text": [
      "\n",
      "\n",
      "\u001b[1m> Entering new AgentExecutor chain...\u001b[0m\n",
      "\n",
      " ======= start of message ======= \n",
      "\n",
      "\n",
      "type: system\n",
      "data:\n",
      "  content: \"Answer the following questions as best you can. You have access to the following tools:\\n\\nWikipedia: A wrapper around Wikipedia. Useful for when you need to answer general questions about people, places, companies, facts, historical events, or other subjects. Input should be a search query.\\n\\nThe way you use the tools is by specifying a json blob.\\nSpecifically, this json should have a `action` key (with the name of the tool to use) and a `action_input` key (with the input to the tool going here).\\n\\nThe only values that should be in the \\\"action\\\" field are: Wikipedia\\n\\nThe $JSON_BLOB should only contain a SINGLE action, do NOT return a list of multiple actions. Here is an example of a valid $JSON_BLOB:\\n\\n```\\n{\\n  \\\"action\\\": $TOOL_NAME,\\n  \\\"action_input\\\": $INPUT\\n}\\n```\\n\\nALWAYS use the following format:\\n\\nQuestion: the input question you must answer\\nThought: you should always think about what to do\\nAction:\\n```\\n$JSON_BLOB\\n```\\nObservation: the result of the action\\n... (this Thought/Action/Observation can repeat N times)\\nThought: I now know the final answer\\nFinal Answer: the final answer to the original input question\\n\\nBegin! Reminder to always use the exact characters `Final Answer` when responding.\"\n",
      "  additional_kwargs: {}\n",
      "  type: system\n",
      "\n",
      "======= end of message ======= \n",
      "\n",
      "\n",
      "\n",
      " ======= start of message ======= \n",
      "\n",
      "\n",
      "type: human\n",
      "data:\n",
      "  content: 'What is Bocchi the Rock?\n",
      "\n",
      "\n",
      "    '\n",
      "  additional_kwargs: {}\n",
      "  type: human\n",
      "  example: false\n",
      "\n",
      "======= end of message ======= \n",
      "\n",
      "\n"
     ]
    }
   ],
   "source": [
    "agent(\"What is Bocchi the Rock?\")"
   ]
  },
  {
   "cell_type": "code",
   "execution_count": null,
   "id": "2fea003e-06c3-472a-a04b-fef1fc1b0111",
   "metadata": {},
   "outputs": [],
   "source": []
  },
  {
   "cell_type": "code",
   "execution_count": null,
   "id": "c550e84d-30e1-43c5-8c41-69b4b4aeb858",
   "metadata": {},
   "outputs": [],
   "source": []
  },
  {
   "cell_type": "code",
   "execution_count": null,
   "id": "846adc47-2073-4c66-a935-29e9f3b0a67d",
   "metadata": {},
   "outputs": [],
   "source": []
  },
  {
   "cell_type": "code",
   "execution_count": null,
   "id": "2bd3d0a6-ce8c-4c6c-91b5-5539500c3689",
   "metadata": {},
   "outputs": [],
   "source": []
  },
  {
   "cell_type": "code",
   "execution_count": null,
   "id": "65fb28a5-0c1b-4b74-9590-62f87b4f9c9a",
   "metadata": {},
   "outputs": [],
   "source": []
  },
  {
   "cell_type": "code",
   "execution_count": null,
   "id": "de509be3-6e67-4d4b-bcfd-36679c0ac6d9",
   "metadata": {},
   "outputs": [],
   "source": []
  },
  {
   "cell_type": "code",
   "execution_count": null,
   "id": "d282e920-1b59-4fd7-9993-005938df2e09",
   "metadata": {},
   "outputs": [],
   "source": []
  },
  {
   "cell_type": "code",
   "execution_count": null,
   "id": "95da33c5-9241-4c7a-8c72-d5bff4c5b138",
   "metadata": {},
   "outputs": [],
   "source": []
  }
 ],
 "metadata": {
  "environment": {
   "kernel": "conda-env-preventloss-py",
   "name": "pytorch-gpu.1-13.m105",
   "type": "gcloud",
   "uri": "gcr.io/deeplearning-platform-release/pytorch-gpu.1-13:m105"
  },
  "kernelspec": {
   "display_name": "chatglm26b",
   "language": "python",
   "name": "chatglm26b"
  },
  "language_info": {
   "codemirror_mode": {
    "name": "ipython",
    "version": 3
   },
   "file_extension": ".py",
   "mimetype": "text/x-python",
   "name": "python",
   "nbconvert_exporter": "python",
   "pygments_lexer": "ipython3",
   "version": "3.9.6"
  }
 },
 "nbformat": 4,
 "nbformat_minor": 5
}
