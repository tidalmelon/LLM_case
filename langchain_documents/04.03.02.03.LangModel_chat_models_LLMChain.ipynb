{
 "cells": [
  {
   "cell_type": "code",
   "execution_count": null,
   "id": "7a0b63d2-8cdd-44ae-a26b-77c2997f5f2f",
   "metadata": {},
   "outputs": [],
   "source": []
  },
  {
   "cell_type": "code",
   "execution_count": 12,
   "id": "d9d1baf5-3f9e-44c7-9c47-85f827e17584",
   "metadata": {
    "tags": []
   },
   "outputs": [],
   "source": [
    "from langchain.chat_models import ChatOpenAI\n",
    "from langchain.chains import LLMChain\n",
    "from langchain.prompts import HumanMessagePromptTemplate\n",
    "from langchain.schema import SystemMessage\n",
    "from langchain.prompts import ChatPromptTemplate"
   ]
  },
  {
   "cell_type": "code",
   "execution_count": null,
   "id": "b1613a8b-e75a-4990-8a05-5e077e21414e",
   "metadata": {},
   "outputs": [],
   "source": []
  },
  {
   "cell_type": "code",
   "execution_count": 6,
   "id": "fd264803-aea7-4064-89a0-b066c228bdaf",
   "metadata": {
    "tags": []
   },
   "outputs": [],
   "source": [
    "llm = ChatOpenAI()"
   ]
  },
  {
   "cell_type": "code",
   "execution_count": 14,
   "id": "0e9798d0-83c9-4a1a-8552-26af4bcc683a",
   "metadata": {
    "tags": []
   },
   "outputs": [],
   "source": [
    "chat_template = ChatPromptTemplate.from_messages(\n",
    "    [\n",
    "        SystemMessage(content=\"You are a helpful assistant that translates English to Chinese.\"),\n",
    "        HumanMessagePromptTemplate.from_template(\"{text}\")\n",
    "    ]\n",
    ")"
   ]
  },
  {
   "cell_type": "code",
   "execution_count": 16,
   "id": "c495c63e-287b-40db-a14f-6fcc12a1d1d9",
   "metadata": {
    "tags": []
   },
   "outputs": [
    {
     "data": {
      "text/plain": [
       "[SystemMessage(content='You are a helpful assistant that translates English to Chinese.'),\n",
       " HumanMessage(content=\"I don't like hot soup\")]"
      ]
     },
     "execution_count": 16,
     "metadata": {},
     "output_type": "execute_result"
    }
   ],
   "source": [
    "chat_template.format_messages(text=\"I don't like hot soup\")"
   ]
  },
  {
   "cell_type": "code",
   "execution_count": null,
   "id": "d2793295-bfb4-43da-b945-5e69188e7522",
   "metadata": {},
   "outputs": [],
   "source": []
  },
  {
   "cell_type": "code",
   "execution_count": null,
   "id": "4468a833-ac60-4f0c-8c40-6972e088369f",
   "metadata": {},
   "outputs": [],
   "source": []
  },
  {
   "cell_type": "code",
   "execution_count": null,
   "id": "8b1d8253-c46b-4fe3-894a-acc6f2216b7d",
   "metadata": {},
   "outputs": [],
   "source": []
  },
  {
   "cell_type": "code",
   "execution_count": null,
   "id": "229dac48-a4d5-408c-90bb-2008b9c7a4b0",
   "metadata": {},
   "outputs": [],
   "source": []
  },
  {
   "cell_type": "code",
   "execution_count": 17,
   "id": "6168f249-0425-4710-97d2-c19199493597",
   "metadata": {
    "tags": []
   },
   "outputs": [
    {
     "data": {
      "text/plain": [
       "AIMessage(content='我不喜欢热汤 (Wǒ bù xǐhuān rè tāng)')"
      ]
     },
     "execution_count": 17,
     "metadata": {},
     "output_type": "execute_result"
    }
   ],
   "source": [
    "llm(chat_template.format_messages(text=\"I don't like hot soup\"))"
   ]
  },
  {
   "cell_type": "code",
   "execution_count": null,
   "id": "c938873c-b5a8-4eb2-b2be-ce66aac4eb85",
   "metadata": {},
   "outputs": [],
   "source": []
  },
  {
   "cell_type": "code",
   "execution_count": 18,
   "id": "6fcaee4d-dc38-450a-96c3-774a09cac6ab",
   "metadata": {
    "tags": []
   },
   "outputs": [],
   "source": [
    "from langchain.prompts import SystemMessagePromptTemplate"
   ]
  },
  {
   "cell_type": "code",
   "execution_count": 19,
   "id": "c7d77129-ec62-43b9-96c0-ba12bf3e9f94",
   "metadata": {
    "tags": []
   },
   "outputs": [],
   "source": [
    "chat_template = ChatPromptTemplate.from_messages(\n",
    "    [\n",
    "        SystemMessagePromptTemplate.from_template(\"You are a helpful assistant that translates {from_lang} to {to_lang}.\"),\n",
    "        HumanMessagePromptTemplate.from_template(\"{text}\")\n",
    "    ]\n",
    ")"
   ]
  },
  {
   "cell_type": "code",
   "execution_count": null,
   "id": "87150905-7750-4182-8e51-0cdb6614b407",
   "metadata": {},
   "outputs": [],
   "source": []
  },
  {
   "cell_type": "markdown",
   "id": "c38379ce-91dc-413a-bc69-a4dc9371a4ce",
   "metadata": {},
   "source": [
    "### LLMChain"
   ]
  },
  {
   "cell_type": "code",
   "execution_count": 27,
   "id": "f9a61652-b596-46b3-81c0-213f9a9c8089",
   "metadata": {
    "tags": []
   },
   "outputs": [],
   "source": [
    "chain = LLMChain(llm=llm, prompt=chat_template)"
   ]
  },
  {
   "cell_type": "code",
   "execution_count": 28,
   "id": "a33e7927-9750-4b44-ba8e-02a7421ccc98",
   "metadata": {
    "tags": []
   },
   "outputs": [
    {
     "data": {
      "text/plain": [
       "'我不喜欢热汤 (wǒ bù xǐhuān rè tāng)'"
      ]
     },
     "execution_count": 28,
     "metadata": {},
     "output_type": "execute_result"
    }
   ],
   "source": [
    "chain.run(from_lang='English', to_lang=\"Chinese\", text=\"I don't like hot soup\")"
   ]
  },
  {
   "cell_type": "code",
   "execution_count": null,
   "id": "c6db9b89-e760-4034-a9fe-27c75cb4b61b",
   "metadata": {},
   "outputs": [],
   "source": []
  },
  {
   "cell_type": "code",
   "execution_count": null,
   "id": "14b5b80d-5f26-4595-be1c-2fd77922908d",
   "metadata": {},
   "outputs": [],
   "source": []
  },
  {
   "cell_type": "code",
   "execution_count": 20,
   "id": "3af1f5c8-55d0-4418-8ae5-78afe102756b",
   "metadata": {
    "tags": []
   },
   "outputs": [
    {
     "data": {
      "text/plain": [
       "[SystemMessage(content='You are a helpful assistant that translates English to Chinese.'),\n",
       " HumanMessage(content=\"I don't like hot soup\")]"
      ]
     },
     "execution_count": 20,
     "metadata": {},
     "output_type": "execute_result"
    }
   ],
   "source": [
    "chat_template.format_messages(from_lang='English', to_lang='Chinese', text=\"I don't like hot soup\")"
   ]
  },
  {
   "cell_type": "code",
   "execution_count": null,
   "id": "ded76e2b-72a0-472e-a86c-3c94bf7eb470",
   "metadata": {},
   "outputs": [],
   "source": []
  },
  {
   "cell_type": "code",
   "execution_count": 21,
   "id": "4c2066b6-3f8d-4942-b6f2-751f13271ad8",
   "metadata": {
    "tags": []
   },
   "outputs": [
    {
     "data": {
      "text/plain": [
       "AIMessage(content='我不喜欢热汤 (Wǒ bù xǐhuān rè tāng)')"
      ]
     },
     "execution_count": 21,
     "metadata": {},
     "output_type": "execute_result"
    }
   ],
   "source": [
    "llm.invoke(chat_template.format_messages(from_lang='English', to_lang='Chinese', text=\"I don't like hot soup\"))"
   ]
  },
  {
   "cell_type": "code",
   "execution_count": 22,
   "id": "16b57d0a-1e6a-4595-922d-01a7690a2d6e",
   "metadata": {
    "tags": []
   },
   "outputs": [
    {
     "data": {
      "text/plain": [
       "AIMessage(content='私は熱いスープが好きではありません。 (Watashi wa atsui sūpu ga suki dewa arimasen.)')"
      ]
     },
     "execution_count": 22,
     "metadata": {},
     "output_type": "execute_result"
    }
   ],
   "source": [
    "llm.invoke(chat_template.format_messages(from_lang='English', to_lang='Japanese', text=\"I don't like hot soup\"))"
   ]
  },
  {
   "cell_type": "code",
   "execution_count": null,
   "id": "8daaeccb-7a91-4a8b-ab04-24805746ac76",
   "metadata": {},
   "outputs": [],
   "source": []
  },
  {
   "cell_type": "code",
   "execution_count": 23,
   "id": "b0231a75-c9d5-4091-b0e4-66163a023bbd",
   "metadata": {
    "tags": []
   },
   "outputs": [
    {
     "name": "stdout",
     "output_type": "stream",
     "text": [
      "我不喜欢热汤 (Wǒ bù xǐhuān rè tāng)"
     ]
    }
   ],
   "source": [
    "for chunk in llm.stream(chat_template.format_messages(from_lang='English', to_lang='Chinese', text=\"I don't like hot soup\")):\n",
    "    print(chunk.content, end='', flush=True)"
   ]
  },
  {
   "cell_type": "code",
   "execution_count": null,
   "id": "89b98819-f8cb-45e8-8d64-8b5284a3d755",
   "metadata": {},
   "outputs": [],
   "source": []
  },
  {
   "cell_type": "code",
   "execution_count": null,
   "id": "add17abe-b9ed-4b15-a5be-906253b39f10",
   "metadata": {},
   "outputs": [],
   "source": []
  },
  {
   "cell_type": "markdown",
   "id": "8c2b375d-cb48-4f9c-a6b0-b5bfad38413d",
   "metadata": {},
   "source": [
    "**这一generate这里是 中括号**"
   ]
  },
  {
   "cell_type": "code",
   "execution_count": 25,
   "id": "a44e6b28-4c70-4c77-8588-ac23f7cf8c92",
   "metadata": {
    "tags": []
   },
   "outputs": [
    {
     "data": {
      "text/plain": [
       "LLMResult(generations=[[ChatGeneration(text='我不喜欢热汤 (Wǒ bù xǐhuān rè tāng)', generation_info={'finish_reason': 'stop'}, message=AIMessage(content='我不喜欢热汤 (Wǒ bù xǐhuān rè tāng)'))]], llm_output={'token_usage': {'prompt_tokens': 28, 'completion_tokens': 28, 'total_tokens': 56}, 'model_name': 'gpt-3.5-turbo'}, run=[RunInfo(run_id=UUID('a3a2ed73-a908-4cd7-8c61-27dbe467664a'))])"
      ]
     },
     "execution_count": 25,
     "metadata": {},
     "output_type": "execute_result"
    }
   ],
   "source": [
    "llm.generate([chat_template.format_messages(from_lang='English', to_lang='Chinese', text=\"I don't like hot soup\")])"
   ]
  },
  {
   "cell_type": "code",
   "execution_count": null,
   "id": "3231776b-81ce-4ed3-97f9-7ae9bbaea168",
   "metadata": {},
   "outputs": [],
   "source": []
  },
  {
   "cell_type": "code",
   "execution_count": null,
   "id": "f60f40be-fe89-4a32-a8cb-53b7c5e988ea",
   "metadata": {},
   "outputs": [],
   "source": []
  },
  {
   "cell_type": "code",
   "execution_count": null,
   "id": "8fe4b4b7-76bd-46ce-b199-82028628de99",
   "metadata": {},
   "outputs": [],
   "source": []
  },
  {
   "cell_type": "code",
   "execution_count": null,
   "id": "1eb04b84-fbf6-4293-8249-19d31c39110f",
   "metadata": {},
   "outputs": [],
   "source": []
  }
 ],
 "metadata": {
  "environment": {
   "kernel": "conda-env-preventloss-py",
   "name": "pytorch-gpu.1-13.m105",
   "type": "gcloud",
   "uri": "gcr.io/deeplearning-platform-release/pytorch-gpu.1-13:m105"
  },
  "kernelspec": {
   "display_name": "chatglm26b",
   "language": "python",
   "name": "chatglm26b"
  },
  "language_info": {
   "codemirror_mode": {
    "name": "ipython",
    "version": 3
   },
   "file_extension": ".py",
   "mimetype": "text/x-python",
   "name": "python",
   "nbconvert_exporter": "python",
   "pygments_lexer": "ipython3",
   "version": "3.9.6"
  }
 },
 "nbformat": 4,
 "nbformat_minor": 5
}
