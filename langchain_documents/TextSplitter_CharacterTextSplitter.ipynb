{
 "cells": [
  {
   "cell_type": "code",
   "execution_count": null,
   "id": "971a18d8-35d2-49c9-b52f-ed9ee80c89b4",
   "metadata": {},
   "outputs": [],
   "source": []
  },
  {
   "cell_type": "code",
   "execution_count": null,
   "id": "ac94cffb-533e-46f2-845f-23828d7c918f",
   "metadata": {},
   "outputs": [],
   "source": []
  },
  {
   "cell_type": "code",
   "execution_count": null,
   "id": "90465d3b-c466-464c-a7b0-78336a90b769",
   "metadata": {},
   "outputs": [],
   "source": []
  },
  {
   "cell_type": "markdown",
   "id": "3764175a-e793-45ff-8c84-ee918ded4b51",
   "metadata": {},
   "source": [
    "1. 根据单个char分割,默认'\\n\\n'\n",
    "\n",
    "2. 块的大小度量: 字符数"
   ]
  },
  {
   "cell_type": "code",
   "execution_count": 1,
   "id": "fec7af62-bf1d-4a67-9aeb-68e8d7dd8f43",
   "metadata": {
    "tags": []
   },
   "outputs": [],
   "source": [
    "with open('./input/state_of_the_union.txt') as f:\n",
    "    state_of_the_union = f.read()"
   ]
  },
  {
   "cell_type": "code",
   "execution_count": 2,
   "id": "469e5950-170c-4172-b608-3b8731a49976",
   "metadata": {
    "tags": []
   },
   "outputs": [],
   "source": [
    "from langchain.text_splitter import CharacterTextSplitter"
   ]
  },
  {
   "cell_type": "code",
   "execution_count": 4,
   "id": "2a7048d0-a32e-4207-9462-c3cf3bd37751",
   "metadata": {
    "tags": []
   },
   "outputs": [],
   "source": [
    "text_splitter = CharacterTextSplitter(\n",
    "    separator = '\\n\\n',\n",
    "    chunk_size = 1000,\n",
    "    chunk_overlap = 200,\n",
    "    length_function = len,\n",
    "    is_separator_regex=False\n",
    ")"
   ]
  },
  {
   "cell_type": "code",
   "execution_count": 5,
   "id": "e116ca8c-5cfd-4f7b-8ec6-11f206232fe4",
   "metadata": {
    "tags": []
   },
   "outputs": [],
   "source": [
    "texts = text_splitter.create_documents([state_of_the_union])"
   ]
  },
  {
   "cell_type": "code",
   "execution_count": null,
   "id": "9100b001-8978-4aa4-b78b-903904ceb1e4",
   "metadata": {},
   "outputs": [],
   "source": []
  },
  {
   "cell_type": "code",
   "execution_count": 6,
   "id": "9570c66a-6227-41ab-a7b3-03f717c50583",
   "metadata": {
    "tags": []
   },
   "outputs": [
    {
     "data": {
      "text/plain": [
       "Document(page_content='Madam Speaker, Madam Vice President, our First Lady and Second Gentleman. Members of Congress and the Cabinet. Justices of the Supreme Court. My fellow Americans.  \\n\\nLast year COVID-19 kept us apart. This year we are finally together again. \\n\\nTonight, we meet as Democrats Republicans and Independents. But most importantly as Americans. \\n\\nWith a duty to one another to the American people to the Constitution. \\n\\nAnd with an unwavering resolve that freedom will always triumph over tyranny. \\n\\nSix days ago, Russia’s Vladimir Putin sought to shake the foundations of the free world thinking he could make it bend to his menacing ways. But he badly miscalculated. \\n\\nHe thought he could roll into Ukraine and the world would roll over. Instead he met a wall of strength he never imagined. \\n\\nHe met the Ukrainian people. \\n\\nFrom President Zelenskyy to every Ukrainian, their fearlessness, their courage, their determination, inspires the world.')"
      ]
     },
     "execution_count": 6,
     "metadata": {},
     "output_type": "execute_result"
    }
   ],
   "source": [
    "texts[0]"
   ]
  },
  {
   "cell_type": "code",
   "execution_count": null,
   "id": "d0f14dbf-2015-4bb6-b986-714e638c7006",
   "metadata": {},
   "outputs": [],
   "source": []
  },
  {
   "cell_type": "code",
   "execution_count": null,
   "id": "1f7c0f73-a202-43d7-8e80-fa968329f7a1",
   "metadata": {},
   "outputs": [],
   "source": []
  },
  {
   "cell_type": "code",
   "execution_count": 7,
   "id": "2aae820a-e437-45ae-ae19-f85440fffead",
   "metadata": {
    "tags": []
   },
   "outputs": [],
   "source": [
    "metadatas = [{\"document\": 1}, {\"document\": 2}]"
   ]
  },
  {
   "cell_type": "code",
   "execution_count": 8,
   "id": "58ecd3d1-f2e7-4929-8b7a-a950d9d4a487",
   "metadata": {
    "tags": []
   },
   "outputs": [],
   "source": [
    "documents = text_splitter.create_documents([state_of_the_union, state_of_the_union], metadatas=metadatas)"
   ]
  },
  {
   "cell_type": "code",
   "execution_count": 9,
   "id": "f8130be0-3c6d-44ab-9e6c-f8daafbf436d",
   "metadata": {
    "tags": []
   },
   "outputs": [
    {
     "data": {
      "text/plain": [
       "Document(page_content='Madam Speaker, Madam Vice President, our First Lady and Second Gentleman. Members of Congress and the Cabinet. Justices of the Supreme Court. My fellow Americans.  \\n\\nLast year COVID-19 kept us apart. This year we are finally together again. \\n\\nTonight, we meet as Democrats Republicans and Independents. But most importantly as Americans. \\n\\nWith a duty to one another to the American people to the Constitution. \\n\\nAnd with an unwavering resolve that freedom will always triumph over tyranny. \\n\\nSix days ago, Russia’s Vladimir Putin sought to shake the foundations of the free world thinking he could make it bend to his menacing ways. But he badly miscalculated. \\n\\nHe thought he could roll into Ukraine and the world would roll over. Instead he met a wall of strength he never imagined. \\n\\nHe met the Ukrainian people. \\n\\nFrom President Zelenskyy to every Ukrainian, their fearlessness, their courage, their determination, inspires the world.', metadata={'document': 1})"
      ]
     },
     "execution_count": 9,
     "metadata": {},
     "output_type": "execute_result"
    }
   ],
   "source": [
    "documents[0]"
   ]
  },
  {
   "cell_type": "code",
   "execution_count": 11,
   "id": "bf850a7b-5733-4684-985c-631a3b19feac",
   "metadata": {
    "tags": []
   },
   "outputs": [
    {
     "data": {
      "text/plain": [
       "'Madam Speaker, Madam Vice President, our First Lady and Second Gentleman. Members of Congress and the Cabinet. Justices of the Supreme Court. My fellow Americans.  \\n\\nLast year COVID-19 kept us apart. This year we are finally together again. \\n\\nTonight, we meet as Democrats Republicans and Independents. But most importantly as Americans. \\n\\nWith a duty to one another to the American people to the Constitution. \\n\\nAnd with an unwavering resolve that freedom will always triumph over tyranny. \\n\\nSix days ago, Russia’s Vladimir Putin sought to shake the foundations of the free world thinking he could make it bend to his menacing ways. But he badly miscalculated. \\n\\nHe thought he could roll into Ukraine and the world would roll over. Instead he met a wall of strength he never imagined. \\n\\nHe met the Ukrainian people. \\n\\nFrom President Zelenskyy to every Ukrainian, their fearlessness, their courage, their determination, inspires the world.'"
      ]
     },
     "execution_count": 11,
     "metadata": {},
     "output_type": "execute_result"
    }
   ],
   "source": [
    "text_splitter.split_text(state_of_the_union)[0]"
   ]
  },
  {
   "cell_type": "code",
   "execution_count": null,
   "id": "46ba7f84-157b-412a-ab1c-61764078ec6e",
   "metadata": {},
   "outputs": [],
   "source": []
  },
  {
   "cell_type": "code",
   "execution_count": null,
   "id": "f78e6121-4350-4c28-87b7-081f0ae5ae03",
   "metadata": {},
   "outputs": [],
   "source": []
  },
  {
   "cell_type": "code",
   "execution_count": null,
   "id": "710aba70-20fb-4a31-9545-ab2a6ce6638f",
   "metadata": {},
   "outputs": [],
   "source": []
  },
  {
   "cell_type": "code",
   "execution_count": null,
   "id": "023b4237-98e5-4e20-a619-7465885b3280",
   "metadata": {},
   "outputs": [],
   "source": []
  },
  {
   "cell_type": "markdown",
   "id": "cdfd2fc9-70be-4deb-a2ab-52d914cbd1ef",
   "metadata": {},
   "source": [
    ">  <font color=blue>如果你希望一段就是一个chunk, 那就将`chunk_size`, `chunk_overlap`都设置为0即可.</font>"
   ]
  },
  {
   "cell_type": "code",
   "execution_count": null,
   "id": "ec9be8a6-fab2-42f1-b0de-ac3635b4b694",
   "metadata": {},
   "outputs": [],
   "source": []
  },
  {
   "cell_type": "code",
   "execution_count": 1,
   "id": "1677b6a7-84e4-4d66-9f8e-fc709acc1077",
   "metadata": {
    "tags": []
   },
   "outputs": [],
   "source": [
    "with open('./input/state_of_the_union_head_100.txt') as f:\n",
    "    state_of_the_union = f.read()"
   ]
  },
  {
   "cell_type": "code",
   "execution_count": 2,
   "id": "782df60d-3a8d-4087-88d0-64c45b479287",
   "metadata": {
    "tags": []
   },
   "outputs": [],
   "source": [
    "from langchain.text_splitter import CharacterTextSplitter"
   ]
  },
  {
   "cell_type": "code",
   "execution_count": 21,
   "id": "7c8e67b4-b46d-4384-8fee-cbba1797c281",
   "metadata": {
    "tags": []
   },
   "outputs": [],
   "source": [
    "text_splitter = CharacterTextSplitter(separator='\\n\\n', chunk_size=0, chunk_overlap=0)"
   ]
  },
  {
   "cell_type": "markdown",
   "id": "878b0617-bf70-4e7c-87e2-6baeebbd3d58",
   "metadata": {},
   "source": [
    "### split_text"
   ]
  },
  {
   "cell_type": "code",
   "execution_count": 27,
   "id": "5ba54565-4f4a-4fc3-af41-fd517371edc3",
   "metadata": {
    "tags": []
   },
   "outputs": [
    {
     "name": "stderr",
     "output_type": "stream",
     "text": [
      "Created a chunk of size 164, which is longer than the specified 0\n",
      "Created a chunk of size 75, which is longer than the specified 0\n",
      "Created a chunk of size 95, which is longer than the specified 0\n",
      "Created a chunk of size 71, which is longer than the specified 0\n",
      "Created a chunk of size 78, which is longer than the specified 0\n",
      "Created a chunk of size 169, which is longer than the specified 0\n",
      "Created a chunk of size 122, which is longer than the specified 0\n",
      "Created a chunk of size 29, which is longer than the specified 0\n",
      "Created a chunk of size 121, which is longer than the specified 0\n"
     ]
    },
    {
     "name": "stdout",
     "output_type": "stream",
     "text": [
      "Madam Speaker, Madam Vice President, our First Lady and Second Gentleman. Members of Congress and the Cabinet. Justices of the Supreme Court. My fellow Americans.\n",
      "Last year COVID-19 kept us apart. This year we are finally together again.\n",
      "Tonight, we meet as Democrats Republicans and Independents. But most importantly as Americans.\n",
      "With a duty to one another to the American people to the Constitution.\n",
      "And with an unwavering resolve that freedom will always triumph over tyranny.\n",
      "Six days ago, Russia’s Vladimir Putin sought to shake the foundations of the free world thinking he could make it bend to his menacing ways. But he badly miscalculated.\n",
      "He thought he could roll into Ukraine and the world would roll over. Instead he met a wall of strength he never imagined.\n",
      "He met the Ukrainian people.\n",
      "From President Zelenskyy to every Ukrainian, their fearlessness, their courage, their determination, inspires the world.\n",
      "Groups of citizens blocking tanks with their bodies. Everyone from students to retirees teachers turned soldiers defending their homeland.\n"
     ]
    }
   ],
   "source": [
    "texts = text_splitter.split_text(state_of_the_union)\n",
    "for text in texts:\n",
    "    print(text)"
   ]
  },
  {
   "cell_type": "code",
   "execution_count": null,
   "id": "b9a580ad-1c75-4348-a7a3-7197486c273b",
   "metadata": {},
   "outputs": [],
   "source": []
  },
  {
   "cell_type": "markdown",
   "id": "ddc509d4-c52e-4b61-998c-edcfc782b871",
   "metadata": {},
   "source": [
    "### split_documents\n",
    ">  与create_documents功能一样<br>\n",
    "> 但输入不一样, 这里输入的是`Document`对象"
   ]
  },
  {
   "cell_type": "code",
   "execution_count": 36,
   "id": "67ab2c6e-0293-400e-b50a-095ff08de15b",
   "metadata": {
    "tags": []
   },
   "outputs": [
    {
     "data": {
      "text/plain": [
       "\u001b[0;31mSignature:\u001b[0m \u001b[0mtext_splitter\u001b[0m\u001b[0;34m.\u001b[0m\u001b[0msplit_documents\u001b[0m\u001b[0;34m(\u001b[0m\u001b[0mdocuments\u001b[0m\u001b[0;34m:\u001b[0m \u001b[0;34m'Iterable[Document]'\u001b[0m\u001b[0;34m)\u001b[0m \u001b[0;34m->\u001b[0m \u001b[0;34m'List[Document]'\u001b[0m\u001b[0;34m\u001b[0m\u001b[0;34m\u001b[0m\u001b[0m\n",
       "\u001b[0;31mDocstring:\u001b[0m Split documents.\n",
       "\u001b[0;31mFile:\u001b[0m      /opt/conda/envs/preventloss/lib/python3.9/site-packages/langchain/text_splitter.py\n",
       "\u001b[0;31mType:\u001b[0m      method"
      ]
     },
     "metadata": {},
     "output_type": "display_data"
    }
   ],
   "source": [
    "text_splitter.split_documents?"
   ]
  },
  {
   "cell_type": "code",
   "execution_count": null,
   "id": "a52fbb14-b7ff-42db-955c-57a667a4f072",
   "metadata": {},
   "outputs": [],
   "source": []
  },
  {
   "cell_type": "code",
   "execution_count": 31,
   "id": "4c473b83-5824-4a66-861c-f0f4c3f970c0",
   "metadata": {
    "tags": []
   },
   "outputs": [],
   "source": [
    "from langchain.schema.document import Document"
   ]
  },
  {
   "cell_type": "code",
   "execution_count": 33,
   "id": "d323f104-db6a-4f5a-9774-bb8d44fa121a",
   "metadata": {
    "tags": []
   },
   "outputs": [
    {
     "name": "stderr",
     "output_type": "stream",
     "text": [
      "Created a chunk of size 164, which is longer than the specified 0\n",
      "Created a chunk of size 75, which is longer than the specified 0\n",
      "Created a chunk of size 95, which is longer than the specified 0\n",
      "Created a chunk of size 71, which is longer than the specified 0\n",
      "Created a chunk of size 78, which is longer than the specified 0\n",
      "Created a chunk of size 169, which is longer than the specified 0\n",
      "Created a chunk of size 122, which is longer than the specified 0\n",
      "Created a chunk of size 29, which is longer than the specified 0\n",
      "Created a chunk of size 121, which is longer than the specified 0\n"
     ]
    },
    {
     "data": {
      "text/plain": [
       "[Document(page_content='Madam Speaker, Madam Vice President, our First Lady and Second Gentleman. Members of Congress and the Cabinet. Justices of the Supreme Court. My fellow Americans.'),\n",
       " Document(page_content='Last year COVID-19 kept us apart. This year we are finally together again.'),\n",
       " Document(page_content='Tonight, we meet as Democrats Republicans and Independents. But most importantly as Americans.'),\n",
       " Document(page_content='With a duty to one another to the American people to the Constitution.'),\n",
       " Document(page_content='And with an unwavering resolve that freedom will always triumph over tyranny.'),\n",
       " Document(page_content='Six days ago, Russia’s Vladimir Putin sought to shake the foundations of the free world thinking he could make it bend to his menacing ways. But he badly miscalculated.'),\n",
       " Document(page_content='He thought he could roll into Ukraine and the world would roll over. Instead he met a wall of strength he never imagined.'),\n",
       " Document(page_content='He met the Ukrainian people.'),\n",
       " Document(page_content='From President Zelenskyy to every Ukrainian, their fearlessness, their courage, their determination, inspires the world.'),\n",
       " Document(page_content='Groups of citizens blocking tanks with their bodies. Everyone from students to retirees teachers turned soldiers defending their homeland.')]"
      ]
     },
     "execution_count": 33,
     "metadata": {},
     "output_type": "execute_result"
    }
   ],
   "source": [
    "text_splitter.split_documents([Document(page_content=state_of_the_union)])"
   ]
  },
  {
   "cell_type": "code",
   "execution_count": null,
   "id": "88f724b1-8178-4fe4-9365-bfb2f78e5a7b",
   "metadata": {},
   "outputs": [],
   "source": []
  },
  {
   "cell_type": "code",
   "execution_count": 30,
   "id": "4e508e92-a4f5-441d-820c-8e1336409ec8",
   "metadata": {
    "tags": []
   },
   "outputs": [
    {
     "data": {
      "text/plain": [
       "langchain.schema.document.Document"
      ]
     },
     "execution_count": 30,
     "metadata": {},
     "output_type": "execute_result"
    }
   ],
   "source": [
    "type(docs[0])"
   ]
  },
  {
   "cell_type": "markdown",
   "id": "11626671-f62d-464a-9b0b-4708d02d9089",
   "metadata": {},
   "source": [
    "### create_docuemnts\n",
    "\n",
    ">  与split_documents功能一样<br>\n",
    ">  输入不一样, 这里输入的是 `List<str>`"
   ]
  },
  {
   "cell_type": "code",
   "execution_count": 35,
   "id": "4c025195-0187-44c8-8cdf-3289f0c6676c",
   "metadata": {
    "tags": []
   },
   "outputs": [
    {
     "data": {
      "text/plain": [
       "\u001b[0;31mSignature:\u001b[0m\n",
       "\u001b[0mtext_splitter\u001b[0m\u001b[0;34m.\u001b[0m\u001b[0mcreate_documents\u001b[0m\u001b[0;34m(\u001b[0m\u001b[0;34m\u001b[0m\n",
       "\u001b[0;34m\u001b[0m    \u001b[0mtexts\u001b[0m\u001b[0;34m:\u001b[0m \u001b[0;34m'List[str]'\u001b[0m\u001b[0;34m,\u001b[0m\u001b[0;34m\u001b[0m\n",
       "\u001b[0;34m\u001b[0m    \u001b[0mmetadatas\u001b[0m\u001b[0;34m:\u001b[0m \u001b[0;34m'Optional[List[dict]]'\u001b[0m \u001b[0;34m=\u001b[0m \u001b[0;32mNone\u001b[0m\u001b[0;34m,\u001b[0m\u001b[0;34m\u001b[0m\n",
       "\u001b[0;34m\u001b[0m\u001b[0;34m)\u001b[0m \u001b[0;34m->\u001b[0m \u001b[0;34m'List[Document]'\u001b[0m\u001b[0;34m\u001b[0m\u001b[0;34m\u001b[0m\u001b[0m\n",
       "\u001b[0;31mDocstring:\u001b[0m Create documents from a list of texts.\n",
       "\u001b[0;31mFile:\u001b[0m      /opt/conda/envs/preventloss/lib/python3.9/site-packages/langchain/text_splitter.py\n",
       "\u001b[0;31mType:\u001b[0m      method"
      ]
     },
     "metadata": {},
     "output_type": "display_data"
    }
   ],
   "source": [
    "text_splitter.create_documents?"
   ]
  },
  {
   "cell_type": "code",
   "execution_count": null,
   "id": "ec9bb881-5895-4309-9525-7279ba5d417d",
   "metadata": {},
   "outputs": [],
   "source": []
  },
  {
   "cell_type": "code",
   "execution_count": 34,
   "id": "eace7984-d3a2-411c-8aaa-1f201ceb4745",
   "metadata": {
    "tags": []
   },
   "outputs": [
    {
     "name": "stderr",
     "output_type": "stream",
     "text": [
      "Created a chunk of size 164, which is longer than the specified 0\n",
      "Created a chunk of size 75, which is longer than the specified 0\n",
      "Created a chunk of size 95, which is longer than the specified 0\n",
      "Created a chunk of size 71, which is longer than the specified 0\n",
      "Created a chunk of size 78, which is longer than the specified 0\n",
      "Created a chunk of size 169, which is longer than the specified 0\n",
      "Created a chunk of size 122, which is longer than the specified 0\n",
      "Created a chunk of size 29, which is longer than the specified 0\n",
      "Created a chunk of size 121, which is longer than the specified 0\n"
     ]
    },
    {
     "data": {
      "text/plain": [
       "[Document(page_content='Madam Speaker, Madam Vice President, our First Lady and Second Gentleman. Members of Congress and the Cabinet. Justices of the Supreme Court. My fellow Americans.'),\n",
       " Document(page_content='Last year COVID-19 kept us apart. This year we are finally together again.'),\n",
       " Document(page_content='Tonight, we meet as Democrats Republicans and Independents. But most importantly as Americans.'),\n",
       " Document(page_content='With a duty to one another to the American people to the Constitution.'),\n",
       " Document(page_content='And with an unwavering resolve that freedom will always triumph over tyranny.'),\n",
       " Document(page_content='Six days ago, Russia’s Vladimir Putin sought to shake the foundations of the free world thinking he could make it bend to his menacing ways. But he badly miscalculated.'),\n",
       " Document(page_content='He thought he could roll into Ukraine and the world would roll over. Instead he met a wall of strength he never imagined.'),\n",
       " Document(page_content='He met the Ukrainian people.'),\n",
       " Document(page_content='From President Zelenskyy to every Ukrainian, their fearlessness, their courage, their determination, inspires the world.'),\n",
       " Document(page_content='Groups of citizens blocking tanks with their bodies. Everyone from students to retirees teachers turned soldiers defending their homeland.')]"
      ]
     },
     "execution_count": 34,
     "metadata": {},
     "output_type": "execute_result"
    }
   ],
   "source": [
    "text_splitter.create_documents([state_of_the_union])"
   ]
  },
  {
   "cell_type": "code",
   "execution_count": null,
   "id": "2fc25094-1413-47d2-b82d-837e33030d9e",
   "metadata": {},
   "outputs": [],
   "source": []
  },
  {
   "cell_type": "code",
   "execution_count": 24,
   "id": "7f4357c8-f6cb-43dd-993f-aa33640ed9cf",
   "metadata": {
    "tags": []
   },
   "outputs": [
    {
     "name": "stdout",
     "output_type": "stream",
     "text": [
      "Madam Speaker, Madam Vice President, our First Lady and Second Gentleman. Members of Congress and the Cabinet. Justices of the Supreme Court. My fellow Americans.  \n",
      "\n",
      "Last year COVID-19 kept us apart. This year we are finally together again. \n",
      "\n",
      "Tonight, we meet as Democrats Republicans and Independents. But most importantly as Americans. \n",
      "\n",
      "With a duty to one another to the American people to the Constitution. \n",
      "\n",
      "And with an unwavering resolve that freedom will always triumph over tyranny. \n",
      "\n",
      "Six days ago, Russia’s Vladimir Putin sought to shake the foundations of the free world thinking he could make it bend to his menacing ways. But he badly miscalculated. \n",
      "\n",
      "He thought he could roll into Ukraine and the world would roll over. Instead he met a wall of strength he never imagined. \n",
      "\n",
      "He met the Ukrainian people. \n",
      "\n",
      "From President Zelenskyy to every Ukrainian, their fearlessness, their courage, their determination, inspires the world. \n",
      "\n",
      "Groups of citizens blocking tanks with their bodies. Everyone from students to retirees teachers turned soldiers defending their homeland. \n",
      "\n",
      "\n"
     ]
    }
   ],
   "source": [
    "print(state_of_the_union)"
   ]
  },
  {
   "cell_type": "code",
   "execution_count": null,
   "id": "f47a67b1-9b5b-45c6-a336-302c2790d0ab",
   "metadata": {},
   "outputs": [],
   "source": []
  },
  {
   "cell_type": "code",
   "execution_count": 4,
   "id": "e166fd93-7693-470d-918b-759680ba4381",
   "metadata": {
    "tags": []
   },
   "outputs": [],
   "source": [
    "text_splitter = CharacterTextSplitter(\n",
    "    separator = '\\n\\n',\n",
    "    chunk_size = 1000,\n",
    "    chunk_overlap = 200,\n",
    "    length_function = len,\n",
    "    is_separator_regex=False\n",
    ")"
   ]
  },
  {
   "cell_type": "code",
   "execution_count": null,
   "id": "06d16196-8211-4a62-961e-beaa30c2ee6d",
   "metadata": {},
   "outputs": [],
   "source": []
  },
  {
   "cell_type": "code",
   "execution_count": null,
   "id": "22864a74-0bb7-4fa8-844b-53134aefea37",
   "metadata": {},
   "outputs": [],
   "source": []
  },
  {
   "cell_type": "code",
   "execution_count": null,
   "id": "87526322-d517-44da-a355-ba7442e7e73f",
   "metadata": {},
   "outputs": [],
   "source": []
  },
  {
   "cell_type": "code",
   "execution_count": null,
   "id": "3a73201a-9aee-4b81-93b9-c929d4c7a6d5",
   "metadata": {},
   "outputs": [],
   "source": []
  },
  {
   "cell_type": "code",
   "execution_count": null,
   "id": "75330d25-8c85-4ff4-8a28-2b328d425168",
   "metadata": {},
   "outputs": [],
   "source": []
  },
  {
   "cell_type": "code",
   "execution_count": null,
   "id": "eba51d09-e6fb-429e-9b6f-f7a942f3afcc",
   "metadata": {},
   "outputs": [],
   "source": []
  },
  {
   "cell_type": "code",
   "execution_count": null,
   "id": "66293acd-d232-48b2-a42d-abb4127ad4ec",
   "metadata": {},
   "outputs": [],
   "source": []
  },
  {
   "cell_type": "code",
   "execution_count": null,
   "id": "7b1af2c5-48e1-444d-98c3-300de7006a7f",
   "metadata": {},
   "outputs": [],
   "source": []
  },
  {
   "cell_type": "code",
   "execution_count": null,
   "id": "d18fe5a6-2b2a-4236-9dea-83121c664684",
   "metadata": {},
   "outputs": [],
   "source": []
  },
  {
   "cell_type": "code",
   "execution_count": null,
   "id": "053f0af3-a77f-4187-8c74-c996731956fb",
   "metadata": {},
   "outputs": [],
   "source": []
  },
  {
   "cell_type": "code",
   "execution_count": null,
   "id": "09593366-caac-4251-b922-c6f638be74d8",
   "metadata": {},
   "outputs": [],
   "source": []
  }
 ],
 "metadata": {
  "environment": {
   "kernel": "conda-env-preventloss-py",
   "name": "pytorch-gpu.1-13.m105",
   "type": "gcloud",
   "uri": "gcr.io/deeplearning-platform-release/pytorch-gpu.1-13:m105"
  },
  "kernelspec": {
   "display_name": "chatglm26b",
   "language": "python",
   "name": "chatglm26b"
  },
  "language_info": {
   "codemirror_mode": {
    "name": "ipython",
    "version": 3
   },
   "file_extension": ".py",
   "mimetype": "text/x-python",
   "name": "python",
   "nbconvert_exporter": "python",
   "pygments_lexer": "ipython3",
   "version": "3.9.6"
  }
 },
 "nbformat": 4,
 "nbformat_minor": 5
}
