{
 "cells": [
  {
   "cell_type": "markdown",
   "id": "6696768a-ba0e-4600-8bc4-978d101bd599",
   "metadata": {},
   "source": [
    "### 进化->The Refine documents chain"
   ]
  },
  {
   "cell_type": "code",
   "execution_count": null,
   "id": "7d919b04-2d4b-4f51-8cb0-a71817810159",
   "metadata": {},
   "outputs": [],
   "source": []
  },
  {
   "cell_type": "markdown",
   "id": "659ba5e1-d076-4651-9d3a-5bf0c0f36114",
   "metadata": {},
   "source": [
    "![](./imgs/refine.jpg)"
   ]
  },
  {
   "cell_type": "code",
   "execution_count": null,
   "id": "5327b3bc-3306-4980-bf36-b4d784beae75",
   "metadata": {},
   "outputs": [],
   "source": []
  },
  {
   "cell_type": "code",
   "execution_count": 53,
   "id": "990f9533-7dfb-42bc-bc92-97c5adf88eb0",
   "metadata": {
    "tags": []
   },
   "outputs": [],
   "source": [
    "from functools import partial\n",
    "from operator import itemgetter\n",
    "\n",
    "from langchain.callbacks.manager import trace_as_chain_group\n",
    "from langchain.chat_models import ChatOpenAI\n",
    "from langchain.prompts import PromptTemplate\n",
    "from langchain.schema import StrOutputParser\n",
    "from langchain.schema.prompt_template import format_document"
   ]
  },
  {
   "cell_type": "code",
   "execution_count": 54,
   "id": "8eaef05d-bdc4-4b72-9a7d-7ba3a60d9f0c",
   "metadata": {
    "tags": []
   },
   "outputs": [],
   "source": [
    "# Chain for generating initial summary based on the first document\n",
    "\n",
    "llm = ChatOpenAI()\n",
    "first_prompt = PromptTemplate.from_template(\"Summarize this content:\\n\\n{context}\")\n",
    "document_prompt = PromptTemplate.from_template(\"{page_content}\")\n",
    "partial_format_doc = partial(format_document, prompt=document_prompt)"
   ]
  },
  {
   "cell_type": "code",
   "execution_count": 55,
   "id": "ccf7b79f-f86e-4d1b-bed4-56364010050a",
   "metadata": {
    "tags": []
   },
   "outputs": [],
   "source": [
    "summary_chain = {\"context\": partial_format_doc} | first_prompt | llm | StrOutputParser()"
   ]
  },
  {
   "cell_type": "code",
   "execution_count": null,
   "id": "5ddf5114-eeff-4856-b611-35452eb36c82",
   "metadata": {},
   "outputs": [],
   "source": []
  },
  {
   "cell_type": "code",
   "execution_count": 56,
   "id": "9ae31496-5db1-45b6-ac7a-6c436422a209",
   "metadata": {
    "tags": []
   },
   "outputs": [],
   "source": [
    "refine_prompt = PromptTemplate.from_template(\n",
    "    \"Here's your first summary: {prev_response}. \"\n",
    "    \"Now add to it based on the following context: {context}\"\n",
    ")"
   ]
  },
  {
   "cell_type": "code",
   "execution_count": null,
   "id": "fa8ad8ca-1751-4d10-a870-a85f4ef85add",
   "metadata": {},
   "outputs": [],
   "source": []
  },
  {
   "cell_type": "code",
   "execution_count": 57,
   "id": "eac486a3-31e5-4da8-9dcc-05886b44c7cb",
   "metadata": {
    "tags": []
   },
   "outputs": [],
   "source": [
    "refine_chain = (\n",
    "    {\n",
    "        \"prev_response\": itemgetter(\"prev_response\"),\n",
    "        \"context\": lambda x: partial_format_doc(x[\"doc\"]),\n",
    "    }\n",
    "    | refine_prompt\n",
    "    | llm\n",
    "    | StrOutputParser()\n",
    ")"
   ]
  },
  {
   "cell_type": "code",
   "execution_count": null,
   "id": "55845d0a-fabc-4bf2-ac4b-ecaa27cc23f9",
   "metadata": {},
   "outputs": [],
   "source": []
  },
  {
   "cell_type": "code",
   "execution_count": 58,
   "id": "99b96b5f-2e6a-4690-a6c2-165fc348c5f5",
   "metadata": {
    "tags": []
   },
   "outputs": [],
   "source": [
    "# Chain for refining an existing summary based on\n",
    "# an additional document\n",
    "\n",
    "refine_prompt = PromptTemplate.from_template(\n",
    "    \"Here's your first summary: {prev_response}. \"\n",
    "    \"Now add to it based on the following context: {context}\"\n",
    ")\n",
    "refine_chain = (\n",
    "    {\n",
    "        \"prev_response\": itemgetter(\"prev_response\"),\n",
    "        \"context\": lambda x: partial_format_doc(x[\"doc\"]),\n",
    "    }\n",
    "    | refine_prompt\n",
    "    | llm\n",
    "    | StrOutputParser()\n",
    ")"
   ]
  },
  {
   "cell_type": "code",
   "execution_count": null,
   "id": "063da07b-9415-4c0e-a35d-dc6764829267",
   "metadata": {},
   "outputs": [],
   "source": []
  },
  {
   "cell_type": "code",
   "execution_count": 59,
   "id": "23167633-9b25-4f43-888f-fc1f68197be4",
   "metadata": {
    "tags": []
   },
   "outputs": [],
   "source": [
    "# The final refine loop, which generates an initial summary\n",
    "# then iteratively refines it based on each of the rest of the documents\n",
    "\n",
    "\n",
    "def refine_loop(docs):\n",
    "    with trace_as_chain_group(\"refine loop\", inputs={\"input\": docs}) as manager:\n",
    "        summary = summary_chain.invoke(\n",
    "            docs[0], config={\"callbacks\": manager, \"run_name\": \"initial summary\"}\n",
    "        )\n",
    "        for i, doc in enumerate(docs[1:]):\n",
    "            summary = refine_chain.invoke(\n",
    "                {\"prev_response\": summary, \"doc\": doc},\n",
    "                config={\"callbacks\": manager, \"run_name\": f\"refine {i}\"},\n",
    "            )\n",
    "        manager.on_chain_end({\"output\": summary})\n",
    "    return summary"
   ]
  },
  {
   "cell_type": "code",
   "execution_count": null,
   "id": "7116b216-ba0b-4b4f-850d-0958c4533a0e",
   "metadata": {},
   "outputs": [],
   "source": []
  },
  {
   "cell_type": "code",
   "execution_count": 60,
   "id": "00cdd988-e173-4b81-accc-9e2a22ae2a5a",
   "metadata": {
    "tags": []
   },
   "outputs": [],
   "source": [
    "from langchain.schema import Document\n",
    "\n",
    "text = \"\"\"Nuclear power in space is the use of nuclear power in outer space, typically either small fission systems or radioactive decay for electricity or heat. Another use is for scientific observation, as in a Mössbauer spectrometer. The most common type is a radioisotope thermoelectric generator, which has been used on many space probes and on crewed lunar missions. Small fission reactors for Earth observation satellites, such as the TOPAZ nuclear reactor, have also been flown.[1] A radioisotope heater unit is powered by radioactive decay and can keep components from becoming too cold to function, potentially over a span of decades.[2]\n",
    "\n",
    "The United States tested the SNAP-10A nuclear reactor in space for 43 days in 1965,[3] with the next test of a nuclear reactor power system intended for space use occurring on 13 September 2012 with the Demonstration Using Flattop Fission (DUFF) test of the Kilopower reactor.[4]\n",
    "\n",
    "After a ground-based test of the experimental 1965 Romashka reactor, which used uranium and direct thermoelectric conversion to electricity,[5] the USSR sent about 40 nuclear-electric satellites into space, mostly powered by the BES-5 reactor. The more powerful TOPAZ-II reactor produced 10 kilowatts of electricity.[3]\n",
    "\n",
    "Examples of concepts that use nuclear power for space propulsion systems include the nuclear electric rocket (nuclear powered ion thruster(s)), the radioisotope rocket, and radioisotope electric propulsion (REP).[6] One of the more explored concepts is the nuclear thermal rocket, which was ground tested in the NERVA program. Nuclear pulse propulsion was the subject of Project Orion.[7]\n",
    "\n",
    "Regulation and hazard prevention[edit]\n",
    "After the ban of nuclear weapons in space by the Outer Space Treaty in 1967, nuclear power has been discussed at least since 1972 as a sensitive issue by states.[8] Particularly its potential hazards to Earth's environment and thus also humans has prompted states to adopt in the U.N. General Assembly the Principles Relevant to the Use of Nuclear Power Sources in Outer Space (1992), particularly introducing safety principles for launches and to manage their traffic.[8]\n",
    "\n",
    "Benefits\n",
    "\n",
    "Both the Viking 1 and Viking 2 landers used RTGs for power on the surface of Mars. (Viking launch vehicle pictured)\n",
    "While solar power is much more commonly used, nuclear power can offer advantages in some areas. Solar cells, although efficient, can only supply energy to spacecraft in orbits where the solar flux is sufficiently high, such as low Earth orbit and interplanetary destinations close enough to the Sun. Unlike solar cells, nuclear power systems function independently of sunlight, which is necessary for deep space exploration. Nuclear-based systems can have less mass than solar cells of equivalent power, allowing more compact spacecraft that are easier to orient and direct in space. In the case of crewed spaceflight, nuclear power concepts that can power both life support and propulsion systems may reduce both cost and flight time.[9]\n",
    "\n",
    "Selected applications and/or technologies for space include:\n",
    "\n",
    "Radioisotope thermoelectric generator\n",
    "Radioisotope heater unit\n",
    "Radioisotope piezoelectric generator\n",
    "Radioisotope rocket\n",
    "Nuclear thermal rocket\n",
    "Nuclear pulse propulsion\n",
    "Nuclear electric rocket\n",
    "\"\"\"\n",
    "\n",
    "docs = [\n",
    "    Document(\n",
    "        page_content=split,\n",
    "        metadata={\"source\": \"https://en.wikipedia.org/wiki/Nuclear_power_in_space\"},\n",
    "    )\n",
    "    for split in text.split(\"\\n\\n\")\n",
    "]"
   ]
  },
  {
   "cell_type": "code",
   "execution_count": null,
   "id": "8664af67-7e5e-4098-a51e-cd0bdd5fe847",
   "metadata": {},
   "outputs": [],
   "source": []
  },
  {
   "cell_type": "code",
   "execution_count": null,
   "id": "6c1bf7ef-3f62-4e9f-a2f5-25306ff4bd64",
   "metadata": {},
   "outputs": [],
   "source": []
  },
  {
   "cell_type": "code",
   "execution_count": 1,
   "id": "3e9b5c81-2f42-4ff2-be65-0ddd7f74895e",
   "metadata": {
    "tags": []
   },
   "outputs": [],
   "source": [
    "# print(refine_loop(docs))\n",
    "# 没有并发度, 跑不了"
   ]
  },
  {
   "cell_type": "code",
   "execution_count": null,
   "id": "6ea3debc-eca0-48a7-a295-cb0440858a6a",
   "metadata": {},
   "outputs": [],
   "source": []
  },
  {
   "cell_type": "code",
   "execution_count": null,
   "id": "5b299ae3-d695-4f0e-bfd3-13006b1dfcae",
   "metadata": {},
   "outputs": [],
   "source": []
  },
  {
   "cell_type": "code",
   "execution_count": null,
   "id": "a5d08836-4c89-40db-a5a6-a65d1e7baabf",
   "metadata": {},
   "outputs": [],
   "source": []
  },
  {
   "cell_type": "code",
   "execution_count": null,
   "id": "46d2bfe7-e978-46f7-ae9d-a0a4bf9b97d1",
   "metadata": {},
   "outputs": [],
   "source": []
  },
  {
   "cell_type": "code",
   "execution_count": null,
   "id": "2072c426-3736-4619-a622-bda53be4a5b6",
   "metadata": {},
   "outputs": [],
   "source": []
  },
  {
   "cell_type": "code",
   "execution_count": null,
   "id": "71123073-de33-45da-a44f-addd49772177",
   "metadata": {},
   "outputs": [],
   "source": []
  },
  {
   "cell_type": "code",
   "execution_count": null,
   "id": "daa55c97-60a2-4ce1-b174-00253413e1a0",
   "metadata": {},
   "outputs": [],
   "source": []
  },
  {
   "cell_type": "code",
   "execution_count": null,
   "id": "47b5d950-6260-4685-b926-f87dfce98ed8",
   "metadata": {},
   "outputs": [],
   "source": []
  },
  {
   "cell_type": "code",
   "execution_count": null,
   "id": "2663551d-b010-4034-905e-4efd1bbb0bcf",
   "metadata": {},
   "outputs": [],
   "source": []
  },
  {
   "cell_type": "code",
   "execution_count": null,
   "id": "9c932e67-33bd-4ac6-b0ef-9bb8067d2161",
   "metadata": {},
   "outputs": [],
   "source": []
  },
  {
   "cell_type": "code",
   "execution_count": null,
   "id": "ad82348d-ae79-4ddd-8204-5c088d8b4db9",
   "metadata": {},
   "outputs": [],
   "source": []
  },
  {
   "cell_type": "code",
   "execution_count": null,
   "id": "8d47d87b-903a-4d58-a4ad-c8a524c6e561",
   "metadata": {},
   "outputs": [],
   "source": []
  }
 ],
 "metadata": {
  "environment": {
   "kernel": "conda-env-preventloss-py",
   "name": "pytorch-gpu.1-13.m105",
   "type": "gcloud",
   "uri": "gcr.io/deeplearning-platform-release/pytorch-gpu.1-13:m105"
  },
  "kernelspec": {
   "display_name": "chatglm26b",
   "language": "python",
   "name": "chatglm26b"
  },
  "language_info": {
   "codemirror_mode": {
    "name": "ipython",
    "version": 3
   },
   "file_extension": ".py",
   "mimetype": "text/x-python",
   "name": "python",
   "nbconvert_exporter": "python",
   "pygments_lexer": "ipython3",
   "version": "3.9.6"
  }
 },
 "nbformat": 4,
 "nbformat_minor": 5
}
