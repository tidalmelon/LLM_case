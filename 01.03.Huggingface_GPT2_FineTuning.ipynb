{
 "cells": [
  {
   "cell_type": "markdown",
   "id": "05930369-2b58-469c-9a2c-c21000d567e7",
   "metadata": {},
   "source": [
    "## GPT2-Fine-Tuning"
   ]
  },
  {
   "cell_type": "code",
   "execution_count": null,
   "id": "328f4649-4302-4d9c-ae8b-55ab3a32ed9b",
   "metadata": {},
   "outputs": [],
   "source": []
  },
  {
   "cell_type": "markdown",
   "id": "57753117-06da-4273-acec-c77fadac233b",
   "metadata": {},
   "source": [
    "> 以下基于开源医疗语料对Huggingface-GPT2进行了微调<br>\n",
    "> <font color=red>微调需谨慎，可能导致大模型遗忘预训练阶段的知识</font>"
   ]
  },
  {
   "cell_type": "code",
   "execution_count": null,
   "id": "4a3961ad-67ad-4b7c-a00c-497c6d9ee65b",
   "metadata": {},
   "outputs": [],
   "source": []
  },
  {
   "cell_type": "code",
   "execution_count": 1,
   "id": "fc35b268-8b33-4ee2-9bb1-0d6d3a90586e",
   "metadata": {},
   "outputs": [],
   "source": [
    "from transformers import BertTokenizer, GPT2LMHeadModel, TextGenerationPipeline, Trainer, TrainingArguments\n",
    "from transformers import DataCollatorForLanguageModeling\n",
    "\n",
    "from datasets import Dataset, load_dataset\n",
    "import pandas as pd\n",
    "import numpy as np\n",
    "\n",
    "import os"
   ]
  },
  {
   "cell_type": "code",
   "execution_count": null,
   "id": "3ccdd870-34bc-48e9-80ac-89c416bf2ba7",
   "metadata": {},
   "outputs": [],
   "source": []
  },
  {
   "cell_type": "code",
   "execution_count": null,
   "id": "e3704cc4-a49c-4519-bba8-293e4383a2ff",
   "metadata": {},
   "outputs": [],
   "source": []
  },
  {
   "cell_type": "code",
   "execution_count": null,
   "id": "d27abff2-e9fd-47ff-83e8-03cac559d3c3",
   "metadata": {},
   "outputs": [],
   "source": []
  },
  {
   "cell_type": "code",
   "execution_count": 2,
   "id": "71996f3b-2899-4b3a-94b1-10fae2537cbb",
   "metadata": {},
   "outputs": [],
   "source": [
    "os.environ['CUDA_VISIBLE_DEVICES']='0'"
   ]
  },
  {
   "cell_type": "code",
   "execution_count": null,
   "id": "4163ce04-f755-4b65-a092-8249413b82ee",
   "metadata": {},
   "outputs": [],
   "source": []
  },
  {
   "cell_type": "code",
   "execution_count": null,
   "id": "25e2e626-16d2-45e2-b22e-a0f1986f840b",
   "metadata": {},
   "outputs": [],
   "source": []
  },
  {
   "cell_type": "code",
   "execution_count": 3,
   "id": "479a4647-f05e-4ce2-b78d-1a450ca84742",
   "metadata": {},
   "outputs": [],
   "source": [
    "tokenizer = BertTokenizer.from_pretrained(\"uer/gpt2-distil-chinese-cluecorpussmall\")"
   ]
  },
  {
   "cell_type": "code",
   "execution_count": 4,
   "id": "a0b8c0c5-0a86-4817-ad61-22d90a0535ee",
   "metadata": {},
   "outputs": [],
   "source": [
    "context_length = 64"
   ]
  },
  {
   "cell_type": "code",
   "execution_count": null,
   "id": "18b810e1-ace3-4383-9195-391fd7cc7e34",
   "metadata": {},
   "outputs": [],
   "source": []
  },
  {
   "cell_type": "code",
   "execution_count": null,
   "id": "fa2845eb-7124-493e-a555-9371c696baa0",
   "metadata": {},
   "outputs": [],
   "source": []
  },
  {
   "cell_type": "code",
   "execution_count": 5,
   "id": "fb814758-866c-4eb8-929e-546ee77a7dca",
   "metadata": {},
   "outputs": [],
   "source": [
    "def tokenize(element):\n",
    "    # 对句子进行切分，短的补0， 长的截断， 长度统一为 context_length\n",
    "    outputs = tokenizer(element['inputs'], \n",
    "                        padding='max_length', \n",
    "                        truncation=True, \n",
    "                        max_length=context_length,\n",
    "                        return_overflowing_tokens=True,\n",
    "                        return_length=True)\n",
    "    input_batch = []\n",
    "    count = 0\n",
    "    for length, input_ids in zip(outputs['length'], outputs['input_ids']):\n",
    "        input_batch.append(input_ids)\n",
    "    return {'inputs': input_batch}"
   ]
  },
  {
   "cell_type": "code",
   "execution_count": null,
   "id": "c26ac3b4-478c-4c46-865f-54755cbb8376",
   "metadata": {},
   "outputs": [],
   "source": []
  },
  {
   "cell_type": "markdown",
   "id": "1c12cdf5-14a2-4f14-a654-aa13e95dc7d6",
   "metadata": {},
   "source": [
    "> datasets"
   ]
  },
  {
   "cell_type": "code",
   "execution_count": 6,
   "id": "5cbfe3b9-805b-47d2-91ec-2688c0e4e210",
   "metadata": {},
   "outputs": [],
   "source": [
    "path = './input/Chinese-medical-dialogue-data/internal_examples_7700.csv'"
   ]
  },
  {
   "cell_type": "code",
   "execution_count": 7,
   "id": "2d87f3d8-31b7-4ee5-baca-5e0b1febe57d",
   "metadata": {},
   "outputs": [],
   "source": [
    "df_internal = pd.read_csv(path, encoding='gbk')"
   ]
  },
  {
   "cell_type": "code",
   "execution_count": 8,
   "id": "d981e3dc-68da-4000-914f-651699fc0ce0",
   "metadata": {},
   "outputs": [
    {
     "data": {
      "text/html": [
       "<div>\n",
       "<style scoped>\n",
       "    .dataframe tbody tr th:only-of-type {\n",
       "        vertical-align: middle;\n",
       "    }\n",
       "\n",
       "    .dataframe tbody tr th {\n",
       "        vertical-align: top;\n",
       "    }\n",
       "\n",
       "    .dataframe thead th {\n",
       "        text-align: right;\n",
       "    }\n",
       "</style>\n",
       "<table border=\"1\" class=\"dataframe\">\n",
       "  <thead>\n",
       "    <tr style=\"text-align: right;\">\n",
       "      <th></th>\n",
       "      <th>department</th>\n",
       "      <th>title</th>\n",
       "      <th>ask</th>\n",
       "      <th>answer</th>\n",
       "    </tr>\n",
       "  </thead>\n",
       "  <tbody>\n",
       "    <tr>\n",
       "      <th>0</th>\n",
       "      <td>心血管科</td>\n",
       "      <td>高血压患者能吃党参吗？</td>\n",
       "      <td>我有高血压这两天女婿来的时候给我拿了些党参泡水喝，您好高血压可以吃党参吗？</td>\n",
       "      <td>高血压病人可以口服党参的。党参有降血脂，降血压的作用，可以彻底消除血液中的垃圾，从而对冠心病...</td>\n",
       "    </tr>\n",
       "    <tr>\n",
       "      <th>1</th>\n",
       "      <td>心血管科</td>\n",
       "      <td>高血压该治疗什么？</td>\n",
       "      <td>我是一位中学教师，平时身体健康，最近学校组织健康检查，结果发觉我是高血压，去年还没有这种情况...</td>\n",
       "      <td>高血压患者首先要注意控制食盐摄入量，每天不超过六克，注意不要吃太油腻的食物，多吃新鲜的绿色蔬...</td>\n",
       "    </tr>\n",
       "    <tr>\n",
       "      <th>2</th>\n",
       "      <td>心血管科</td>\n",
       "      <td>老年人高血压一般如何治疗？</td>\n",
       "      <td>我爷爷今年68了，年纪大了，高血压这些也领着来了，这些病让老人很痛苦，每次都要按时喝药，才能...</td>\n",
       "      <td>你爷爷患高血压，这是老年人常见的心血管病，血管老化硬化，血压调整能力消退了，目前治疗高血压最...</td>\n",
       "    </tr>\n",
       "    <tr>\n",
       "      <th>3</th>\n",
       "      <td>内分泌科</td>\n",
       "      <td>糖尿病还会进行遗传吗？</td>\n",
       "      <td>糖尿病有隔代遗传吗？我妈是糖尿病，很多年了，也没养好，我现在也是，我妹子也是，我儿子现在二十...</td>\n",
       "      <td>2型糖尿病的隔代遗传概率为父母患糖尿病，临产的发生率为40%，比一般人患糖尿病，疾病，如何更...</td>\n",
       "    </tr>\n",
       "    <tr>\n",
       "      <th>4</th>\n",
       "      <td>内分泌科</td>\n",
       "      <td>糖尿病一般需要怎么治疗？</td>\n",
       "      <td>我妈定期检查仔细检查的时候，仔细检查出患糖尿病，糖尿病需要有怎么治疗？我大概知晓是需要有控制...</td>\n",
       "      <td>糖尿病患者首先通过饮食控制和锻练运动，肥胖患者把体重降下来等方式调整一下看一看，如果血糖仍然...</td>\n",
       "    </tr>\n",
       "  </tbody>\n",
       "</table>\n",
       "</div>"
      ],
      "text/plain": [
       "  department          title  \\\n",
       "0       心血管科    高血压患者能吃党参吗？   \n",
       "1       心血管科      高血压该治疗什么？   \n",
       "2       心血管科  老年人高血压一般如何治疗？   \n",
       "3       内分泌科    糖尿病还会进行遗传吗？   \n",
       "4       内分泌科   糖尿病一般需要怎么治疗？   \n",
       "\n",
       "                                                 ask  \\\n",
       "0              我有高血压这两天女婿来的时候给我拿了些党参泡水喝，您好高血压可以吃党参吗？   \n",
       "1  我是一位中学教师，平时身体健康，最近学校组织健康检查，结果发觉我是高血压，去年还没有这种情况...   \n",
       "2  我爷爷今年68了，年纪大了，高血压这些也领着来了，这些病让老人很痛苦，每次都要按时喝药，才能...   \n",
       "3  糖尿病有隔代遗传吗？我妈是糖尿病，很多年了，也没养好，我现在也是，我妹子也是，我儿子现在二十...   \n",
       "4  我妈定期检查仔细检查的时候，仔细检查出患糖尿病，糖尿病需要有怎么治疗？我大概知晓是需要有控制...   \n",
       "\n",
       "                                              answer  \n",
       "0  高血压病人可以口服党参的。党参有降血脂，降血压的作用，可以彻底消除血液中的垃圾，从而对冠心病...  \n",
       "1  高血压患者首先要注意控制食盐摄入量，每天不超过六克，注意不要吃太油腻的食物，多吃新鲜的绿色蔬...  \n",
       "2  你爷爷患高血压，这是老年人常见的心血管病，血管老化硬化，血压调整能力消退了，目前治疗高血压最...  \n",
       "3  2型糖尿病的隔代遗传概率为父母患糖尿病，临产的发生率为40%，比一般人患糖尿病，疾病，如何更...  \n",
       "4  糖尿病患者首先通过饮食控制和锻练运动，肥胖患者把体重降下来等方式调整一下看一看，如果血糖仍然...  "
      ]
     },
     "execution_count": 8,
     "metadata": {},
     "output_type": "execute_result"
    }
   ],
   "source": [
    "df_internal.head()"
   ]
  },
  {
   "cell_type": "code",
   "execution_count": null,
   "id": "9f4f1651-9a93-46bc-be72-f2398d09b310",
   "metadata": {},
   "outputs": [],
   "source": []
  },
  {
   "cell_type": "code",
   "execution_count": 9,
   "id": "bf525d6a-ef51-4acf-ab38-36941529972a",
   "metadata": {},
   "outputs": [],
   "source": [
    "train_texts = []\n",
    "for _, row in df_internal.iterrows():\n",
    "    sentence = row['title'] + row['answer']\n",
    "    train_texts.append(sentence)"
   ]
  },
  {
   "cell_type": "code",
   "execution_count": 10,
   "id": "1589156f-dd9b-40a8-8762-90195f895b24",
   "metadata": {},
   "outputs": [
    {
     "data": {
      "text/plain": [
       "7644"
      ]
     },
     "execution_count": 10,
     "metadata": {},
     "output_type": "execute_result"
    }
   ],
   "source": [
    "train_texts.__len__()"
   ]
  },
  {
   "cell_type": "code",
   "execution_count": null,
   "id": "500f4c95-2ecc-44a0-a671-eb516b75d076",
   "metadata": {},
   "outputs": [],
   "source": []
  },
  {
   "cell_type": "code",
   "execution_count": 11,
   "id": "3496769e-b691-4327-bd2f-cb173c44f6ca",
   "metadata": {},
   "outputs": [],
   "source": [
    "raw_datasets = Dataset.from_dict({'inputs': train_texts})"
   ]
  },
  {
   "cell_type": "markdown",
   "id": "4f9a0a62-b519-4138-91b5-097bfb12c787",
   "metadata": {},
   "source": [
    "> load tokenizer"
   ]
  },
  {
   "cell_type": "code",
   "execution_count": 12,
   "id": "1d8ad1b9-85e2-4327-9678-a6e6139b3a1f",
   "metadata": {},
   "outputs": [
    {
     "data": {
      "text/plain": [
       "Dataset({\n",
       "    features: ['inputs'],\n",
       "    num_rows: 7644\n",
       "})"
      ]
     },
     "execution_count": 12,
     "metadata": {},
     "output_type": "execute_result"
    }
   ],
   "source": [
    "raw_datasets"
   ]
  },
  {
   "cell_type": "code",
   "execution_count": null,
   "id": "3e3ed312-5c74-4fca-a8df-19be3f4be0de",
   "metadata": {},
   "outputs": [],
   "source": []
  },
  {
   "cell_type": "code",
   "execution_count": 13,
   "id": "033678a2-0f99-4dd8-88d0-e9dba6d9d492",
   "metadata": {},
   "outputs": [
    {
     "data": {
      "application/vnd.jupyter.widget-view+json": {
       "model_id": "eb4c1711cef74166af71605ecc38a259",
       "version_major": 2,
       "version_minor": 0
      },
      "text/plain": [
       "Map:   0%|          | 0/7644 [00:00<?, ? examples/s]"
      ]
     },
     "metadata": {},
     "output_type": "display_data"
    }
   ],
   "source": [
    "tokenized_datasets = raw_datasets.map(tokenize, batched=True)"
   ]
  },
  {
   "cell_type": "code",
   "execution_count": 14,
   "id": "211d95ea-19df-436e-922d-798e603d6985",
   "metadata": {},
   "outputs": [
    {
     "data": {
      "text/plain": [
       "Dataset({\n",
       "    features: ['inputs'],\n",
       "    num_rows: 7644\n",
       "})"
      ]
     },
     "execution_count": 14,
     "metadata": {},
     "output_type": "execute_result"
    }
   ],
   "source": [
    "tokenized_datasets"
   ]
  },
  {
   "cell_type": "code",
   "execution_count": 15,
   "id": "9921fa3f-b238-456f-981f-7ebb9abfd07c",
   "metadata": {},
   "outputs": [
    {
     "data": {
      "text/plain": [
       "'高血压患者能吃党参吗？高血压病人可以口服党参的。党参有降血脂，降血压的作用，可以彻底消除血液中的垃圾，从而对冠心病以及心血管疾病的患者都有一定的稳定预防工作作用，因此平时口服党参能远离三高的危害。另外党参除了益气养血，降低中枢神经作用，调整消化系统功能，健脾补肺的功能。感谢您的进行咨询，期望我的解释对你有所帮助。'"
      ]
     },
     "execution_count": 15,
     "metadata": {},
     "output_type": "execute_result"
    }
   ],
   "source": [
    "raw_datasets[0]['inputs']"
   ]
  },
  {
   "cell_type": "code",
   "execution_count": null,
   "id": "444bb5c7-b561-4c7c-b4ce-3e19a7e448a4",
   "metadata": {},
   "outputs": [],
   "source": []
  },
  {
   "cell_type": "code",
   "execution_count": 16,
   "id": "fcafcd8c-7d5b-4315-9c26-2c8565c7d2b1",
   "metadata": {},
   "outputs": [
    {
     "name": "stdout",
     "output_type": "stream",
     "text": [
      "[101, 7770, 6117, 1327, 2642, 5442, 5543, 1391, 1054, 1346, 1408, 8043, 7770, 6117, 1327, 4567, 782, 1377, 809, 1366, 3302, 1054, 1346, 4638, 511, 1054, 1346, 3300, 7360, 6117, 5544, 8024, 7360, 6117, 1327, 4638, 868, 4500, 8024, 1377, 809, 2515, 2419, 3867, 7370, 6117, 3890, 704, 4638, 1796, 1769, 8024, 794, 5445, 2190, 1094, 2552, 4567, 809, 1350, 2552, 6117, 5052, 102]\n"
     ]
    }
   ],
   "source": [
    "print(tokenized_datasets[0]['inputs'])"
   ]
  },
  {
   "cell_type": "code",
   "execution_count": 17,
   "id": "bd4d89b6-3d53-4ac6-ad4e-b3800202b419",
   "metadata": {},
   "outputs": [
    {
     "data": {
      "text/plain": [
       "64"
      ]
     },
     "execution_count": 17,
     "metadata": {},
     "output_type": "execute_result"
    }
   ],
   "source": [
    "len(tokenized_datasets[0]['inputs'])"
   ]
  },
  {
   "cell_type": "code",
   "execution_count": null,
   "id": "84c964e4-6996-4117-89f7-0deb475c0f17",
   "metadata": {},
   "outputs": [],
   "source": []
  },
  {
   "cell_type": "code",
   "execution_count": 18,
   "id": "0ac794b3-a668-44ce-b16d-0c6696cc8aff",
   "metadata": {},
   "outputs": [],
   "source": [
    "data_collator = DataCollatorForLanguageModeling(tokenizer, mlm=False)"
   ]
  },
  {
   "cell_type": "code",
   "execution_count": null,
   "id": "323a203f-e55e-41b8-8701-111bc30dacef",
   "metadata": {},
   "outputs": [],
   "source": []
  },
  {
   "cell_type": "code",
   "execution_count": 19,
   "id": "703b9572-44f7-48e7-8d06-d32bab1aa779",
   "metadata": {},
   "outputs": [],
   "source": [
    "model = GPT2LMHeadModel.from_pretrained('uer/gpt2-distil-chinese-cluecorpussmall')"
   ]
  },
  {
   "cell_type": "code",
   "execution_count": 20,
   "id": "8955ea80-d662-49b2-b655-5390913c1791",
   "metadata": {},
   "outputs": [],
   "source": [
    "args = TrainingArguments(output_dir='./models/', \n",
    "                         num_train_epochs=10, \n",
    "                         per_device_train_batch_size=128,\n",
    "                         warmup_steps=50,\n",
    "                         weight_decay=0.01, \n",
    "                         logging_dir='./logs',\n",
    "                         logging_steps=100,\n",
    "                         save_total_limit=1)"
   ]
  },
  {
   "cell_type": "code",
   "execution_count": null,
   "id": "59e84927-1540-45c5-8dce-52e3f63a5672",
   "metadata": {},
   "outputs": [],
   "source": []
  },
  {
   "cell_type": "code",
   "execution_count": 21,
   "id": "5236dc41-d26b-4408-8601-e32a0dd68fb3",
   "metadata": {},
   "outputs": [],
   "source": [
    "trainer = Trainer(model=model,\n",
    "                  tokenizer=tokenizer,\n",
    "                  args=args,\n",
    "                  data_collator=data_collator,\n",
    "                  train_dataset=tokenized_datasets['inputs'])"
   ]
  },
  {
   "cell_type": "code",
   "execution_count": null,
   "id": "6787afb9-5b34-4b1b-bf75-bb7417532801",
   "metadata": {},
   "outputs": [],
   "source": []
  },
  {
   "cell_type": "code",
   "execution_count": 22,
   "id": "2658526d-74eb-4818-b8bf-2d61d1a882cb",
   "metadata": {},
   "outputs": [
    {
     "name": "stderr",
     "output_type": "stream",
     "text": [
      "/root/anaconda3/envs/qa/lib/python3.9/site-packages/transformers/optimization.py:306: FutureWarning: This implementation of AdamW is deprecated and will be removed in a future version. Use the PyTorch implementation torch.optim.AdamW instead, or set `no_deprecation_warning=True` to disable this warning\n",
      "  warnings.warn(\n",
      "***** Running training *****\n",
      "  Num examples = 7644\n",
      "  Num Epochs = 10\n",
      "  Instantaneous batch size per device = 128\n",
      "  Total train batch size (w. parallel, distributed & accumulation) = 128\n",
      "  Gradient Accumulation steps = 1\n",
      "  Total optimization steps = 600\n",
      "  Number of trainable parameters = 59541504\n"
     ]
    },
    {
     "data": {
      "text/html": [
       "\n",
       "    <div>\n",
       "      \n",
       "      <progress value='600' max='600' style='width:300px; height:20px; vertical-align: middle;'></progress>\n",
       "      [600/600 07:19, Epoch 10/10]\n",
       "    </div>\n",
       "    <table border=\"1\" class=\"dataframe\">\n",
       "  <thead>\n",
       " <tr style=\"text-align: left;\">\n",
       "      <th>Step</th>\n",
       "      <th>Training Loss</th>\n",
       "    </tr>\n",
       "  </thead>\n",
       "  <tbody>\n",
       "    <tr>\n",
       "      <td>100</td>\n",
       "      <td>2.681900</td>\n",
       "    </tr>\n",
       "    <tr>\n",
       "      <td>200</td>\n",
       "      <td>2.229000</td>\n",
       "    </tr>\n",
       "    <tr>\n",
       "      <td>300</td>\n",
       "      <td>2.085100</td>\n",
       "    </tr>\n",
       "    <tr>\n",
       "      <td>400</td>\n",
       "      <td>1.998700</td>\n",
       "    </tr>\n",
       "    <tr>\n",
       "      <td>500</td>\n",
       "      <td>1.950400</td>\n",
       "    </tr>\n",
       "    <tr>\n",
       "      <td>600</td>\n",
       "      <td>1.923400</td>\n",
       "    </tr>\n",
       "  </tbody>\n",
       "</table><p>"
      ],
      "text/plain": [
       "<IPython.core.display.HTML object>"
      ]
     },
     "metadata": {},
     "output_type": "display_data"
    },
    {
     "name": "stderr",
     "output_type": "stream",
     "text": [
      "Saving model checkpoint to ./models/checkpoint-500\n",
      "Configuration saved in ./models/checkpoint-500/config.json\n",
      "Model weights saved in ./models/checkpoint-500/pytorch_model.bin\n",
      "tokenizer config file saved in ./models/checkpoint-500/tokenizer_config.json\n",
      "Special tokens file saved in ./models/checkpoint-500/special_tokens_map.json\n",
      "\n",
      "\n",
      "Training completed. Do not forget to share your model on huggingface.co/models =)\n",
      "\n",
      "\n"
     ]
    },
    {
     "data": {
      "text/plain": [
       "TrainOutput(global_step=600, training_loss=2.144769592285156, metrics={'train_runtime': 440.4822, 'train_samples_per_second': 173.537, 'train_steps_per_second': 1.362, 'total_flos': 1248345225953280.0, 'train_loss': 2.144769592285156, 'epoch': 10.0})"
      ]
     },
     "execution_count": 22,
     "metadata": {},
     "output_type": "execute_result"
    }
   ],
   "source": [
    "trainer.train()"
   ]
  },
  {
   "cell_type": "code",
   "execution_count": null,
   "id": "ac3a08d7-0bd6-4dc5-864a-a3f710cd10ea",
   "metadata": {},
   "outputs": [],
   "source": []
  },
  {
   "cell_type": "code",
   "execution_count": 23,
   "id": "6a5283bc-3b70-4337-91dd-90ce6722d282",
   "metadata": {},
   "outputs": [
    {
     "name": "stderr",
     "output_type": "stream",
     "text": [
      "Configuration saved in models/config.json\n",
      "Model weights saved in models/pytorch_model.bin\n"
     ]
    }
   ],
   "source": [
    "model.save_pretrained('models/')"
   ]
  },
  {
   "cell_type": "markdown",
   "id": "296695a5-c542-41b5-905e-81219c15cfc8",
   "metadata": {},
   "source": [
    "> train complete!!!"
   ]
  },
  {
   "cell_type": "code",
   "execution_count": null,
   "id": "0ccb027d-899b-4e88-bd97-d010df400137",
   "metadata": {},
   "outputs": [],
   "source": []
  }
 ],
 "metadata": {
  "kernelspec": {
   "display_name": "qa",
   "language": "python",
   "name": "qa"
  },
  "language_info": {
   "codemirror_mode": {
    "name": "ipython",
    "version": 3
   },
   "file_extension": ".py",
   "mimetype": "text/x-python",
   "name": "python",
   "nbconvert_exporter": "python",
   "pygments_lexer": "ipython3",
   "version": "3.9.6"
  }
 },
 "nbformat": 4,
 "nbformat_minor": 5
}
