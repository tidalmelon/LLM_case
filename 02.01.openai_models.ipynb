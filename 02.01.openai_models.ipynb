{
 "cells": [
  {
   "cell_type": "markdown",
   "id": "43e365ac-9fc3-493d-8201-4bc5d3d0618a",
   "metadata": {},
   "source": [
    "# 概述\n",
    "\n",
    "> 不止一个模型,而是提供了涵盖<font color=green>文本, 代码, 对话, 语音, 图像领域</font>的一系列模型.\n",
    "\n",
    "> [模型列表](https://platform.openai.com/docs/models)<br>\n",
    "> [所有可用API列表-需登录](https://platform.openai.com/account/rate-limits)\n",
    "\n",
    "\n",
    "> **OpenAI API命名规则**<br>\n",
    "> 通用模型API: GPT-3.5-turbo, GPT-4, ada...<br>\n",
    "> 停止维护但仍可使用的模型: GPT-3.5-turbo-0301 (3月1号停止维护) GPT-4-0314 (3月14号停止维护)<br>\n",
    "> 面向特定功能微调的模型API: 如 `ada-code-search-code`基于Ada微调的变成大模型, babbage-similarity基于babbage微调的文本相似度检索模型. <br>\n",
    "> 多版本编号模型API: `text-davinci-001`达芬奇文本模型1号. `text-embedding-ada-002`基于ada的Embedding模型2号"
   ]
  },
  {
   "cell_type": "code",
   "execution_count": null,
   "id": "9cbf0d4f-4799-4d86-b350-e5fe385b7ef0",
   "metadata": {},
   "outputs": [],
   "source": []
  },
  {
   "cell_type": "markdown",
   "id": "1a85ec34-0941-4824-8401-cfe406765fc8",
   "metadata": {},
   "source": [
    "# 语言类大模型"
   ]
  },
  {
   "cell_type": "markdown",
   "id": "e8482771-80b9-4930-a942-a156e8459ccb",
   "metadata": {},
   "source": [
    "> GPT-3, GPT-3.5, GPT-4"
   ]
  },
  {
   "cell_type": "markdown",
   "id": "615d4b75-688b-4696-9556-df5d5ad780bc",
   "metadata": {},
   "source": [
    "## 基座模型\n",
    "\n",
    "> A, ada, 小, 相应最快.<br>\n",
    "> B, babbage, <br>\n",
    "> C, curie,<br>\n",
    "> D, davinci, 大,处理更加复杂的问题, 相应速度慢. <br>\n",
    "> 复杂度A->B->C->D依次递增<br>\n",
    "> ---\n",
    "> 这一点跟谷歌的PaLLM Models类似<br>\n",
    "> Gecko: 壁虎. 移动端运行, 计划在下一代Android中集成.<br>\n",
    "> Otter: 水獭<br>\n",
    "> Bison: 野牛,<br>\n",
    "> Unicorn: 独角兽, <br>\n"
   ]
  },
  {
   "cell_type": "markdown",
   "id": "32a600b5-1b6b-49b4-ba9d-a3cdbe11c805",
   "metadata": {},
   "source": [
    "# 图像多模态大模型\n",
    "\n",
    "> DALL$\\cdot$E V2. 能够根据文本生成图像<br>\n",
    "> <font color=green>基于chatgpt-3.5开发的模型</font>, 包含120亿参数, 其理解图像的能力来自于大语言模型<br>\n",
    "> <font color=green>将图像视作一种</font>语言</b>, <font color=green>将其转化为Token</font>, 并和文本Token一起训练. <br>\n",
    "> 盲猜类似ViT"
   ]
  },
  {
   "cell_type": "markdown",
   "id": "45d4e83c-4b9f-4e3f-8a6e-141fbd47fe9e",
   "metadata": {},
   "source": [
    "# 语音识别模型\n",
    "\n",
    "> Whisper v2-large model, <font color=green>此模型是开源的, 可本地部署</font>, 如使用线上服务, 速度优化,但需要付费<br> \n",
    "> 1. 多语言语音识别<br>\n",
    "> 2. 语音识别<br>\n",
    "> 3. 语言识别;"
   ]
  },
  {
   "cell_type": "markdown",
   "id": "6d5a827f-3e32-455c-aca9-772fb4b7010f",
   "metadata": {},
   "source": [
    "# 文本向量化模型\n",
    "\n",
    "> Embedding 文本嵌入模型. 用于将文本转化为词向量. 可以是短语, 句子, 文章<br>\n",
    "> 最新的Embedding模型是基于Ada模型微调的: <font color=green>text-embedding-ada-002模型</font><br>\n",
    "> 例如: `老鼠在找吃的` 与 `奶酪` 相似, 而与`猫在找食物`距离更远. <br>\n",
    "> 可用于: 搜索, 聚类, 推荐, 异常检测和分类.<br>\n"
   ]
  },
  {
   "cell_type": "markdown",
   "id": "3e68ce30-724b-4587-b6f8-eec6f60070a1",
   "metadata": {},
   "source": [
    "# 审查模型\n",
    "> Moderation Model: 检查内容是否符合OpenAI的使用政策.例如: 仇恨, 暴力, 自残, 性, 未成年人等.\n"
   ]
  },
  {
   "cell_type": "markdown",
   "id": "d2edc90b-0f68-427f-8a02-7a64356fa099",
   "metadata": {},
   "source": [
    "# 编程大模型\n",
    "> Codex: deprecated, 后续不再维护, 并入GPT-3.5.<br>\n",
    "> 语料是GitHub<br>\n",
    "> 目前该模型集成于: Github Copilot, Azure OpenAI Service, Visual Studio COde... 微软全家桶..."
   ]
  },
  {
   "cell_type": "code",
   "execution_count": null,
   "id": "a08790d2-47e0-4ee3-a8a7-3c9197333b20",
   "metadata": {},
   "outputs": [],
   "source": []
  },
  {
   "cell_type": "code",
   "execution_count": null,
   "id": "ab1281b4-71b1-44d4-9d88-903454b4288c",
   "metadata": {},
   "outputs": [],
   "source": []
  },
  {
   "cell_type": "code",
   "execution_count": null,
   "id": "1701edc8-840a-42cc-a4c8-f1bb0952c5f5",
   "metadata": {},
   "outputs": [],
   "source": []
  },
  {
   "cell_type": "code",
   "execution_count": null,
   "id": "fed4a3c3-13f8-446b-93f5-415d1ef258b0",
   "metadata": {},
   "outputs": [],
   "source": []
  },
  {
   "cell_type": "code",
   "execution_count": null,
   "id": "48f5aeef-af15-460a-96ff-9853004ffc40",
   "metadata": {},
   "outputs": [],
   "source": []
  },
  {
   "cell_type": "code",
   "execution_count": null,
   "id": "14db0aca-78c2-4a1c-9cab-702794b711a7",
   "metadata": {},
   "outputs": [],
   "source": []
  },
  {
   "cell_type": "code",
   "execution_count": null,
   "id": "ddd862c1-ba44-4c7e-91b8-8848ef1ac98b",
   "metadata": {},
   "outputs": [],
   "source": []
  },
  {
   "cell_type": "code",
   "execution_count": null,
   "id": "b65e2bb4-ab01-44b7-b62e-ceb0124eee24",
   "metadata": {},
   "outputs": [],
   "source": []
  },
  {
   "cell_type": "code",
   "execution_count": null,
   "id": "8e7fb983-086e-44b0-ac7f-96c4cd223595",
   "metadata": {},
   "outputs": [],
   "source": []
  },
  {
   "cell_type": "code",
   "execution_count": null,
   "id": "fef0be30-b485-45cc-879e-65230c8117f9",
   "metadata": {},
   "outputs": [],
   "source": []
  },
  {
   "cell_type": "code",
   "execution_count": null,
   "id": "93270adf-6567-4c85-b4a3-b5b2ce9aea48",
   "metadata": {},
   "outputs": [],
   "source": []
  },
  {
   "cell_type": "code",
   "execution_count": null,
   "id": "bd056712-713c-4255-9a21-e94e99fa3043",
   "metadata": {},
   "outputs": [],
   "source": []
  },
  {
   "cell_type": "code",
   "execution_count": null,
   "id": "67cfb577-3b74-4bc8-8148-64194f046623",
   "metadata": {},
   "outputs": [],
   "source": []
  },
  {
   "cell_type": "code",
   "execution_count": null,
   "id": "f276457c-afad-470f-88a3-5ca92c969854",
   "metadata": {},
   "outputs": [],
   "source": []
  },
  {
   "cell_type": "code",
   "execution_count": null,
   "id": "6664b441-061e-41b1-9952-9bc03dee4598",
   "metadata": {},
   "outputs": [],
   "source": []
  },
  {
   "cell_type": "code",
   "execution_count": null,
   "id": "0475a184-03a1-4e87-86bd-1f6d02cb5c48",
   "metadata": {},
   "outputs": [],
   "source": []
  },
  {
   "cell_type": "code",
   "execution_count": null,
   "id": "8d1c76e9-e54b-497e-8d28-d31a62e92a7a",
   "metadata": {},
   "outputs": [],
   "source": []
  },
  {
   "cell_type": "code",
   "execution_count": null,
   "id": "1bbf0995-a189-49cb-afa0-0be5114ae5ed",
   "metadata": {},
   "outputs": [],
   "source": []
  },
  {
   "cell_type": "code",
   "execution_count": null,
   "id": "29f4ff6e-af85-4aaa-ae8e-a219ab424cbf",
   "metadata": {},
   "outputs": [],
   "source": []
  },
  {
   "cell_type": "code",
   "execution_count": null,
   "id": "a77cbbe0-c543-4493-9c31-8861db684bb6",
   "metadata": {},
   "outputs": [],
   "source": []
  },
  {
   "cell_type": "code",
   "execution_count": null,
   "id": "2c8e598e-d3bf-4c24-8157-21fb07326858",
   "metadata": {},
   "outputs": [],
   "source": []
  },
  {
   "cell_type": "code",
   "execution_count": null,
   "id": "957e8605-3638-4081-bf80-8137f9256859",
   "metadata": {},
   "outputs": [],
   "source": []
  },
  {
   "cell_type": "code",
   "execution_count": null,
   "id": "76c7d425-2638-489b-9135-a74e67fe5d77",
   "metadata": {},
   "outputs": [],
   "source": []
  },
  {
   "cell_type": "code",
   "execution_count": null,
   "id": "61117f67-7357-41e7-abde-ddaa225de472",
   "metadata": {},
   "outputs": [],
   "source": []
  },
  {
   "cell_type": "code",
   "execution_count": null,
   "id": "6753eb5b-064c-473b-912d-cc591f6a8465",
   "metadata": {},
   "outputs": [],
   "source": []
  },
  {
   "cell_type": "code",
   "execution_count": null,
   "id": "a9b533d8-638a-46f8-9203-b18f8f3eb95f",
   "metadata": {},
   "outputs": [],
   "source": []
  },
  {
   "cell_type": "code",
   "execution_count": null,
   "id": "623de800-7698-4833-9510-f5acf7e7954b",
   "metadata": {},
   "outputs": [],
   "source": []
  },
  {
   "cell_type": "code",
   "execution_count": null,
   "id": "b8b6e4dd-7161-425f-b189-8a51c408349d",
   "metadata": {},
   "outputs": [],
   "source": []
  },
  {
   "cell_type": "code",
   "execution_count": null,
   "id": "95a0e658-2d97-4142-94aa-69c3086ab168",
   "metadata": {},
   "outputs": [],
   "source": []
  }
 ],
 "metadata": {
  "environment": {
   "kernel": "python3",
   "name": "pytorch-gpu.1-13.m105",
   "type": "gcloud",
   "uri": "gcr.io/deeplearning-platform-release/pytorch-gpu.1-13:m105"
  },
  "kernelspec": {
   "display_name": "Python 3 (ipykernel)",
   "language": "python",
   "name": "python3"
  },
  "language_info": {
   "codemirror_mode": {
    "name": "ipython",
    "version": 3
   },
   "file_extension": ".py",
   "mimetype": "text/x-python",
   "name": "python",
   "nbconvert_exporter": "python",
   "pygments_lexer": "ipython3",
   "version": "3.7.13"
  }
 },
 "nbformat": 4,
 "nbformat_minor": 5
}
