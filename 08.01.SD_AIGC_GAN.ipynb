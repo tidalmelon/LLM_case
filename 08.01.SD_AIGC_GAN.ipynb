{
 "cells": [
  {
   "cell_type": "markdown",
   "id": "cd4f4ab2-9618-482a-a5b0-cdbe89832088",
   "metadata": {},
   "source": [
    "# 基本概念"
   ]
  },
  {
   "cell_type": "markdown",
   "id": "3ece7253-dd1e-446d-abc8-316f716ba83c",
   "metadata": {},
   "source": [
    "AIGC: AI Generated Content, Artificial Intelligence Generated Content."
   ]
  },
  {
   "cell_type": "markdown",
   "id": "0a43c4f8-85e4-4ec5-bfe8-a5a85ade047a",
   "metadata": {},
   "source": [
    "GAN, AE, VAE"
   ]
  },
  {
   "cell_type": "markdown",
   "id": "5c6db944-0755-408a-993e-1c39ac15109a",
   "metadata": {},
   "source": [
    "AIGC与人类的区别：<br>\n",
    "\n",
    "1. 自动生成<br>\n",
    "2. 很短时间内大量生成<br>"
   ]
  },
  {
   "cell_type": "code",
   "execution_count": null,
   "id": "58ac43c6-dde0-4c28-8a39-05689bb1161b",
   "metadata": {},
   "outputs": [],
   "source": []
  },
  {
   "cell_type": "code",
   "execution_count": null,
   "id": "5ae8e4d0-88bf-45f0-a332-5ea036553c3b",
   "metadata": {},
   "outputs": [],
   "source": []
  },
  {
   "cell_type": "code",
   "execution_count": null,
   "id": "4a6b51ea-e475-43cb-b86e-5565ef2cfbf8",
   "metadata": {},
   "outputs": [],
   "source": []
  },
  {
   "cell_type": "code",
   "execution_count": null,
   "id": "a17b7166-4d48-4c5c-89f7-a6303bc919a7",
   "metadata": {},
   "outputs": [],
   "source": []
  },
  {
   "cell_type": "code",
   "execution_count": null,
   "id": "e0e1cfe4-c306-4bf2-b247-ea7150420364",
   "metadata": {},
   "outputs": [],
   "source": []
  },
  {
   "cell_type": "code",
   "execution_count": null,
   "id": "557b9fe1-a9d8-4862-9b9c-e63bb3682974",
   "metadata": {},
   "outputs": [],
   "source": []
  },
  {
   "cell_type": "code",
   "execution_count": null,
   "id": "4e3fde8d-c85a-488d-bbb7-3ac120408af9",
   "metadata": {},
   "outputs": [],
   "source": []
  },
  {
   "cell_type": "code",
   "execution_count": null,
   "id": "8a531cef-e58a-42bc-82dd-f7b4b943bf9d",
   "metadata": {},
   "outputs": [],
   "source": []
  },
  {
   "cell_type": "code",
   "execution_count": null,
   "id": "87e21257-bdce-4362-86dd-8274d4c387f3",
   "metadata": {},
   "outputs": [],
   "source": []
  },
  {
   "cell_type": "code",
   "execution_count": null,
   "id": "3b9244c6-7f5e-4e76-b08d-280329d41111",
   "metadata": {},
   "outputs": [],
   "source": []
  },
  {
   "cell_type": "code",
   "execution_count": null,
   "id": "82546e3b-fd07-4580-9be8-486566c8a71a",
   "metadata": {},
   "outputs": [],
   "source": []
  },
  {
   "cell_type": "code",
   "execution_count": null,
   "id": "19030d85-10dd-4ab5-9a94-baebbdb30bc4",
   "metadata": {},
   "outputs": [],
   "source": []
  }
 ],
 "metadata": {
  "kernelspec": {
   "display_name": "lglm",
   "language": "python",
   "name": "lglm"
  },
  "language_info": {
   "codemirror_mode": {
    "name": "ipython",
    "version": 3
   },
   "file_extension": ".py",
   "mimetype": "text/x-python",
   "name": "python",
   "nbconvert_exporter": "python",
   "pygments_lexer": "ipython3",
   "version": "3.8.17"
  }
 },
 "nbformat": 4,
 "nbformat_minor": 5
}
