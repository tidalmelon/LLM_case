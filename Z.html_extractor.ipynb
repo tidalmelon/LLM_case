{
 "cells": [
  {
   "cell_type": "code",
   "execution_count": null,
   "id": "51e86939-ea5c-4b4a-826b-e95ba13dfac9",
   "metadata": {},
   "outputs": [],
   "source": []
  },
  {
   "cell_type": "code",
   "execution_count": 1,
   "id": "f2fe2a8e-1c18-4ebf-9a61-2efc3d01bf45",
   "metadata": {
    "tags": []
   },
   "outputs": [],
   "source": [
    "block = \"\"\"\n",
    "<div class=\"RichText ztext Post-RichText css-117anjg\" options=\"[object Object]\"><p data-first-child=\"\" data-pid=\"6sjfjGU5\">“教育是一个国家的未来，是一个民族的希望。”我相信，每一位阅读这篇文章的人，无论是在校学生，家长，还是教育工作者，都深知教育的重要性。</p><p data-pid=\"BenTn6NF\">然而，传统的教育模式面临着许多挑战：课堂内的教学模式单一，教师难以顾及每一位学生的个性化需求，学生的学习进度和成绩又受到诸多因素的影响。而这些问题，可能通过AIGC技术得到解决。AIGC，全称为人工智能生成内容，是现代AI技术的重要应用之一。</p><p data-pid=\"BvtVnofL\">那么，AIGC技术在教育领域有哪些应用？AIGC技术在教育领域的优缺点又是什么呢？在教育领域，AI是否能替代人类教师的角色？？AIGC教育领域的应用可能带来哪些伦理问题呢？这些问题，我将在接下来的文章中为大家一一解答。</p><p data-pid=\"21o3szg9\">我们首先来看看AIGC技术在教育领域的应用。Quizlet联合OpenAI推出了名为Q-Chat的人工智能辅导工具，这个工具可以提供个性化的一对一辅导，通过聊天界面和针对性的问题，帮助学生学习各个学科。这不仅仅是一种新的学习方式，更是一种全新的学习体验。Q-Chat的出现，让我们看到了AI在教育领域的巨大潜力。</p><figure data-size=\"normal\"><noscript><img src=\"https://pic2.zhimg.com/v2-77474fcca60a88ebeddbe22eb5942a51_b.jpg\" data-size=\"normal\" data-rawwidth=\"1200\" data-rawheight=\"800\" class=\"origin_image zh-lightbox-thumb\" width=\"1200\" data-original=\"https://pic2.zhimg.com/v2-77474fcca60a88ebeddbe22eb5942a51_r.jpg\"/></noscript><div><img src=\"https://pic2.zhimg.com/80/v2-77474fcca60a88ebeddbe22eb5942a51_720w.webp\" data-size=\"normal\" data-rawwidth=\"1200\" data-rawheight=\"800\" class=\"origin_image zh-lightbox-thumb lazy\" width=\"1200\" data-original=\"https://pic2.zhimg.com/v2-77474fcca60a88ebeddbe22eb5942a51_r.jpg\" data-actualsrc=\"https://pic2.zhimg.com/v2-77474fcca60a88ebeddbe22eb5942a51_b.jpg\" data-original-token=\"v2-a1dc2a3b74bb7eafb3c44f5f31a687d1\" height=\"800\" data-lazy-status=\"ok\"></div><figcaption>来自Quizlet官网</figcaption></figure><p data-pid=\"eXaXEhhW\">同样，在语言学习领域，Duolingo也引入了OpenAI的GPT-4，开发了AI对话伙伴和解释答案两个新功能，以提升学习者在学习第二语言时的效率和兴趣。另外，非营利组织Khan Academy宣布将使用GPT-4推出AI助手Khanmigo，作为学生的虚拟导师和教师的课堂助手。</p><figure data-size=\"normal\"><noscript><img src=\"https://pic1.zhimg.com/v2-0ab7e01dded757ef58169499ff4cb09c_b.jpg\" data-size=\"normal\" data-rawwidth=\"2224\" data-rawheight=\"1372\" class=\"origin_image zh-lightbox-thumb\" width=\"2224\" data-original=\"https://pic1.zhimg.com/v2-0ab7e01dded757ef58169499ff4cb09c_r.jpg\"/></noscript><div><img src=\"https://pic1.zhimg.com/80/v2-0ab7e01dded757ef58169499ff4cb09c_720w.webp\" data-size=\"normal\" data-rawwidth=\"2224\" data-rawheight=\"1372\" class=\"origin_image zh-lightbox-thumb lazy\" width=\"2224\" data-original=\"https://pic1.zhimg.com/v2-0ab7e01dded757ef58169499ff4cb09c_r.jpg\" data-actualsrc=\"https://pic1.zhimg.com/v2-0ab7e01dded757ef58169499ff4cb09c_b.jpg\" data-original-token=\"v2-f32012482f295c2c3daf126b9922943e\" height=\"1372\" data-lazy-status=\"ok\"></div><figcaption>多邻国：来源 openAI官网</figcaption></figure><figure data-size=\"normal\"><noscript><img src=\"https://pic4.zhimg.com/v2-7584535e4e776587d1b6934357032fcf_b.jpg\" data-size=\"normal\" data-rawwidth=\"1290\" data-rawheight=\"906\" class=\"origin_image zh-lightbox-thumb\" width=\"1290\" data-original=\"https://pic4.zhimg.com/v2-7584535e4e776587d1b6934357032fcf_r.jpg\"/></noscript><div><img src=\"https://pic4.zhimg.com/80/v2-7584535e4e776587d1b6934357032fcf_720w.webp\" data-size=\"normal\" data-rawwidth=\"1290\" data-rawheight=\"906\" class=\"origin_image zh-lightbox-thumb lazy\" width=\"1290\" data-original=\"https://pic4.zhimg.com/v2-7584535e4e776587d1b6934357032fcf_r.jpg\" data-actualsrc=\"https://pic4.zhimg.com/v2-7584535e4e776587d1b6934357032fcf_b.jpg\" data-original-token=\"v2-b03bdef041ace6b5b75b3abd8d7da184\" height=\"906\" data-lazy-status=\"ok\"></div><figcaption>可汗学院：来源 openAI官网</figcaption></figure><p data-pid=\"RxBfnWZZ\">那么，AIGC技术在教育领域应用有哪些优缺点呢？</p><p data-pid=\"vypjk54p\">优点显而易见，首先，AIGC技术可以实现个性化学习，提供定制化的教学内容，提升学习效率。其次，AI助手可以提供全天候服务，打破时间和地点的限制，让学习更为灵活，学生可以随时随地进行学习。</p><p data-pid=\"4YQAOXDP\">然而，任何事物的发展都有其两面性，缺点同样存在。例如，过度依赖AI可能会导致学生缺乏人际交流的机会，影响他们的社交能力。这不仅包括语言交流，还有面对面的情感交流、情绪理解和社会性行为。人类社会是一个复杂的系统，充满了微妙的情感和社会关系，这是AI暂时无法完全理解和模拟的。</p><p data-pid=\"mIyAs_un\">面对这种情况，我们要思考，AIGC技术是否能替代人类教师的角色？</p><p data-pid=\"v2adZCrq\">我认为，AIGC技术并不能完全替代人类教师。教师的角色不仅在于传递知识，他们的情感投入以及对学生个性和需求的理解是AI无法替代的。然而，AIGC技术可以成为教师的得力助手，比如，Khan Academy的AI助手Khanmigo，能够帮助教师编写课堂提示或创建教学材料，更好地满足每个学生的学习需求。</p><p data-pid=\"dKNvrGGb\">当然，AIGC技术的应用也可能带来一些伦理问题。</p><p data-pid=\"NcEKwG2M\">比如，AI技术在教育领域的应用可能会加剧教育资源的不平等，因为并非所有地区和学校都有能力引入高级的AI技术。此外，AI技术的使用可能会引发数据隐私和学生权益等伦理问题。因此，在推广AI技术的同时，我们需要考虑如何公平分配教育资源，保护学生的数据隐私，并维护学生的权益。在教育资源分配方面，我们需要政策层面的支持，使不同地区和学校都能平等获取AI技术。对于数据隐私和学生权益的保护，我们需要在技术层面上加以保障，比如使用加密技术来保护学生的数据，并制定相应的使用规则，确保学生在使用AI学习平台时的权益得到保障。</p><p data-pid=\"MRpJHIPr\">此外，AIGC技术的应用也可能带来其他问题。例如，如果AI系统基于学生的行为和学习成绩做出预测，可能会限制学生的发展空间。因为学生的成长是不确定的，他们有可能在某一时期发生巨大的变化，但如果AI系统给出的预测过于悲观，可能会影响到学生和教师的期望，限制学生的成长。</p><p data-pid=\"6V3F8KkP\"><b>结论</b></p><p data-pid=\"i7vmmaj4\">总的来说，AIGC技术在教育领域提供了个性化教学，提升了教育质量，但它无法替代教师在价值引导和兴趣激发上的作用。</p><p data-pid=\"Qq8c6iOr\">我们应把AIGC技术视作教育改革的工具，而非全盘替代，强调人文关怀和人性化需求。</p><p data-pid=\"-CNvILcR\">未来，我期待看到\"AI+教师\"的模式，AI提供个性化内容，教师负责引导和激发，形成更全面的教育体系。</p><p data-pid=\"HfFOc5d4\">最后，无论在哪个领域，教育工作者都是最美的人，他们以知识和热情点燃学生的梦想，塑造他们的未来。在挑战与机遇并存的时代，让我们为教育的未来共同努力。</p></div>\n",
    "\"\"\""
   ]
  },
  {
   "cell_type": "code",
   "execution_count": 2,
   "id": "95baff37-f0e3-480e-800a-c55794d3f425",
   "metadata": {
    "tags": []
   },
   "outputs": [],
   "source": [
    "from lxml import etree"
   ]
  },
  {
   "cell_type": "code",
   "execution_count": 3,
   "id": "6ce30bb4-ddb7-41bc-aec8-7fefc1ae18c1",
   "metadata": {
    "tags": []
   },
   "outputs": [],
   "source": [
    "dom = etree.HTML(block)"
   ]
  },
  {
   "cell_type": "code",
   "execution_count": 4,
   "id": "7c012a96-0a21-4223-98d3-98f3fa903796",
   "metadata": {
    "tags": []
   },
   "outputs": [],
   "source": [
    "texts = dom.xpath(\".//text()\")"
   ]
  },
  {
   "cell_type": "code",
   "execution_count": 7,
   "id": "5ce4e237-cb08-4040-8dd7-5975af9a28da",
   "metadata": {
    "tags": []
   },
   "outputs": [
    {
     "data": {
      "text/plain": [
       "['“教育是一个国家的未来，是一个民族的希望。”我相信，每一位阅读这篇文章的人，无论是在校学生，家长，还是教育工作者，都深知教育的重要性。',\n",
       " '然而，传统的教育模式面临着许多挑战：课堂内的教学模式单一，教师难以顾及每一位学生的个性化需求，学生的学习进度和成绩又受到诸多因素的影响。而这些问题，可能通过AIGC技术得到解决。AIGC，全称为人工智能生成内容，是现代AI技术的重要应用之一。',\n",
       " '那么，AIGC技术在教育领域有哪些应用？AIGC技术在教育领域的优缺点又是什么呢？在教育领域，AI是否能替代人类教师的角色？？AIGC教育领域的应用可能带来哪些伦理问题呢？这些问题，我将在接下来的文章中为大家一一解答。',\n",
       " '我们首先来看看AIGC技术在教育领域的应用。Quizlet联合OpenAI推出了名为Q-Chat的人工智能辅导工具，这个工具可以提供个性化的一对一辅导，通过聊天界面和针对性的问题，帮助学生学习各个学科。这不仅仅是一种新的学习方式，更是一种全新的学习体验。Q-Chat的出现，让我们看到了AI在教育领域的巨大潜力。',\n",
       " '同样，在语言学习领域，Duolingo也引入了OpenAI的GPT-4，开发了AI对话伙伴和解释答案两个新功能，以提升学习者在学习第二语言时的效率和兴趣。另外，非营利组织Khan Academy宣布将使用GPT-4推出AI助手Khanmigo，作为学生的虚拟导师和教师的课堂助手。',\n",
       " '那么，AIGC技术在教育领域应用有哪些优缺点呢？',\n",
       " '优点显而易见，首先，AIGC技术可以实现个性化学习，提供定制化的教学内容，提升学习效率。其次，AI助手可以提供全天候服务，打破时间和地点的限制，让学习更为灵活，学生可以随时随地进行学习。',\n",
       " '然而，任何事物的发展都有其两面性，缺点同样存在。例如，过度依赖AI可能会导致学生缺乏人际交流的机会，影响他们的社交能力。这不仅包括语言交流，还有面对面的情感交流、情绪理解和社会性行为。人类社会是一个复杂的系统，充满了微妙的情感和社会关系，这是AI暂时无法完全理解和模拟的。',\n",
       " '面对这种情况，我们要思考，AIGC技术是否能替代人类教师的角色？',\n",
       " '我认为，AIGC技术并不能完全替代人类教师。教师的角色不仅在于传递知识，他们的情感投入以及对学生个性和需求的理解是AI无法替代的。然而，AIGC技术可以成为教师的得力助手，比如，Khan Academy的AI助手Khanmigo，能够帮助教师编写课堂提示或创建教学材料，更好地满足每个学生的学习需求。',\n",
       " '当然，AIGC技术的应用也可能带来一些伦理问题。',\n",
       " '比如，AI技术在教育领域的应用可能会加剧教育资源的不平等，因为并非所有地区和学校都有能力引入高级的AI技术。此外，AI技术的使用可能会引发数据隐私和学生权益等伦理问题。因此，在推广AI技术的同时，我们需要考虑如何公平分配教育资源，保护学生的数据隐私，并维护学生的权益。在教育资源分配方面，我们需要政策层面的支持，使不同地区和学校都能平等获取AI技术。对于数据隐私和学生权益的保护，我们需要在技术层面上加以保障，比如使用加密技术来保护学生的数据，并制定相应的使用规则，确保学生在使用AI学习平台时的权益得到保障。',\n",
       " '此外，AIGC技术的应用也可能带来其他问题。例如，如果AI系统基于学生的行为和学习成绩做出预测，可能会限制学生的发展空间。因为学生的成长是不确定的，他们有可能在某一时期发生巨大的变化，但如果AI系统给出的预测过于悲观，可能会影响到学生和教师的期望，限制学生的成长。',\n",
       " '总的来说，AIGC技术在教育领域提供了个性化教学，提升了教育质量，但它无法替代教师在价值引导和兴趣激发上的作用。',\n",
       " '我们应把AIGC技术视作教育改革的工具，而非全盘替代，强调人文关怀和人性化需求。',\n",
       " '未来，我期待看到\"AI+教师\"的模式，AI提供个性化内容，教师负责引导和激发，形成更全面的教育体系。',\n",
       " '最后，无论在哪个领域，教育工作者都是最美的人，他们以知识和热情点燃学生的梦想，塑造他们的未来。在挑战与机遇并存的时代，让我们为教育的未来共同努力。']"
      ]
     },
     "execution_count": 7,
     "metadata": {},
     "output_type": "execute_result"
    }
   ],
   "source": [
    "texts = [text.strip() for text in texts if len(text.strip())>20]\n",
    "texts"
   ]
  },
  {
   "cell_type": "code",
   "execution_count": 8,
   "id": "6e1659e4-90d7-46d2-b4e5-f67701fdda89",
   "metadata": {
    "tags": []
   },
   "outputs": [],
   "source": [
    "article = '\\n\\n'.join(texts)"
   ]
  },
  {
   "cell_type": "code",
   "execution_count": 10,
   "id": "f0890493-a284-49ee-9002-5d233ff51c02",
   "metadata": {
    "tags": []
   },
   "outputs": [
    {
     "name": "stdout",
     "output_type": "stream",
     "text": [
      "“教育是一个国家的未来，是一个民族的希望。”我相信，每一位阅读这篇文章的人，无论是在校学生，家长，还是教育工作者，都深知教育的重要性。\n",
      "\n",
      "然而，传统的教育模式面临着许多挑战：课堂内的教学模式单一，教师难以顾及每一位学生的个性化需求，学生的学习进度和成绩又受到诸多因素的影响。而这些问题，可能通过AIGC技术得到解决。AIGC，全称为人工智能生成内容，是现代AI技术的重要应用之一。\n",
      "\n",
      "那么，AIGC技术在教育领域有哪些应用？AIGC技术在教育领域的优缺点又是什么呢？在教育领域，AI是否能替代人类教师的角色？？AIGC教育领域的应用可能带来哪些伦理问题呢？这些问题，我将在接下来的文章中为大家一一解答。\n",
      "\n",
      "我们首先来看看AIGC技术在教育领域的应用。Quizlet联合OpenAI推出了名为Q-Chat的人工智能辅导工具，这个工具可以提供个性化的一对一辅导，通过聊天界面和针对性的问题，帮助学生学习各个学科。这不仅仅是一种新的学习方式，更是一种全新的学习体验。Q-Chat的出现，让我们看到了AI在教育领域的巨大潜力。\n",
      "\n",
      "同样，在语言学习领域，Duolingo也引入了OpenAI的GPT-4，开发了AI对话伙伴和解释答案两个新功能，以提升学习者在学习第二语言时的效率和兴趣。另外，非营利组织Khan Academy宣布将使用GPT-4推出AI助手Khanmigo，作为学生的虚拟导师和教师的课堂助手。\n",
      "\n",
      "那么，AIGC技术在教育领域应用有哪些优缺点呢？\n",
      "\n",
      "优点显而易见，首先，AIGC技术可以实现个性化学习，提供定制化的教学内容，提升学习效率。其次，AI助手可以提供全天候服务，打破时间和地点的限制，让学习更为灵活，学生可以随时随地进行学习。\n",
      "\n",
      "然而，任何事物的发展都有其两面性，缺点同样存在。例如，过度依赖AI可能会导致学生缺乏人际交流的机会，影响他们的社交能力。这不仅包括语言交流，还有面对面的情感交流、情绪理解和社会性行为。人类社会是一个复杂的系统，充满了微妙的情感和社会关系，这是AI暂时无法完全理解和模拟的。\n",
      "\n",
      "面对这种情况，我们要思考，AIGC技术是否能替代人类教师的角色？\n",
      "\n",
      "我认为，AIGC技术并不能完全替代人类教师。教师的角色不仅在于传递知识，他们的情感投入以及对学生个性和需求的理解是AI无法替代的。然而，AIGC技术可以成为教师的得力助手，比如，Khan Academy的AI助手Khanmigo，能够帮助教师编写课堂提示或创建教学材料，更好地满足每个学生的学习需求。\n",
      "\n",
      "当然，AIGC技术的应用也可能带来一些伦理问题。\n",
      "\n",
      "比如，AI技术在教育领域的应用可能会加剧教育资源的不平等，因为并非所有地区和学校都有能力引入高级的AI技术。此外，AI技术的使用可能会引发数据隐私和学生权益等伦理问题。因此，在推广AI技术的同时，我们需要考虑如何公平分配教育资源，保护学生的数据隐私，并维护学生的权益。在教育资源分配方面，我们需要政策层面的支持，使不同地区和学校都能平等获取AI技术。对于数据隐私和学生权益的保护，我们需要在技术层面上加以保障，比如使用加密技术来保护学生的数据，并制定相应的使用规则，确保学生在使用AI学习平台时的权益得到保障。\n",
      "\n",
      "此外，AIGC技术的应用也可能带来其他问题。例如，如果AI系统基于学生的行为和学习成绩做出预测，可能会限制学生的发展空间。因为学生的成长是不确定的，他们有可能在某一时期发生巨大的变化，但如果AI系统给出的预测过于悲观，可能会影响到学生和教师的期望，限制学生的成长。\n",
      "\n",
      "总的来说，AIGC技术在教育领域提供了个性化教学，提升了教育质量，但它无法替代教师在价值引导和兴趣激发上的作用。\n",
      "\n",
      "我们应把AIGC技术视作教育改革的工具，而非全盘替代，强调人文关怀和人性化需求。\n",
      "\n",
      "未来，我期待看到\"AI+教师\"的模式，AI提供个性化内容，教师负责引导和激发，形成更全面的教育体系。\n",
      "\n",
      "最后，无论在哪个领域，教育工作者都是最美的人，他们以知识和热情点燃学生的梦想，塑造他们的未来。在挑战与机遇并存的时代，让我们为教育的未来共同努力。\n"
     ]
    }
   ],
   "source": [
    "print(article)"
   ]
  },
  {
   "cell_type": "code",
   "execution_count": null,
   "id": "99a181bc-6b2c-4a52-9e16-dcf0d0732751",
   "metadata": {},
   "outputs": [],
   "source": []
  },
  {
   "cell_type": "code",
   "execution_count": null,
   "id": "8d1d3861-95ee-4da6-98ef-d750ff092e24",
   "metadata": {},
   "outputs": [],
   "source": []
  },
  {
   "cell_type": "code",
   "execution_count": null,
   "id": "92b9f0dd-93bb-4584-ae0c-9ca060accd6d",
   "metadata": {},
   "outputs": [],
   "source": []
  },
  {
   "cell_type": "code",
   "execution_count": null,
   "id": "427c0fe5-dc41-4bdb-8d2c-60a4971208fe",
   "metadata": {},
   "outputs": [],
   "source": []
  },
  {
   "cell_type": "code",
   "execution_count": null,
   "id": "71e4ece1-c6be-4989-9cf6-28190fdda988",
   "metadata": {},
   "outputs": [],
   "source": []
  },
  {
   "cell_type": "code",
   "execution_count": null,
   "id": "7323b732-db15-4358-a302-c3a3cdc0f4e8",
   "metadata": {},
   "outputs": [],
   "source": []
  },
  {
   "cell_type": "code",
   "execution_count": null,
   "id": "f3712e1d-b0a1-4be3-8bfd-7a80415da0b1",
   "metadata": {},
   "outputs": [],
   "source": []
  },
  {
   "cell_type": "code",
   "execution_count": null,
   "id": "e641e624-e4ef-4ae3-9a72-6ad5880e60fe",
   "metadata": {},
   "outputs": [],
   "source": []
  }
 ],
 "metadata": {
  "environment": {
   "kernel": "conda-env-preventloss-py",
   "name": "pytorch-gpu.1-13.m105",
   "type": "gcloud",
   "uri": "gcr.io/deeplearning-platform-release/pytorch-gpu.1-13:m105"
  },
  "kernelspec": {
   "display_name": "chatglm26b",
   "language": "python",
   "name": "chatglm26b"
  },
  "language_info": {
   "codemirror_mode": {
    "name": "ipython",
    "version": 3
   },
   "file_extension": ".py",
   "mimetype": "text/x-python",
   "name": "python",
   "nbconvert_exporter": "python",
   "pygments_lexer": "ipython3",
   "version": "3.9.6"
  }
 },
 "nbformat": 4,
 "nbformat_minor": 5
}
