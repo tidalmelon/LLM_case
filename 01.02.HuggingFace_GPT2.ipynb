{
 "cells": [
  {
   "cell_type": "markdown",
   "id": "1d8006b8-bd4d-4fd8-b7a8-32e6fa3a2d5f",
   "metadata": {},
   "source": [
    "## GPT2-Generator\n",
    "> we choose a distill model<br>\n",
    "    [gpt2-distil-chinese-cluecorpussmall](https://huggingface.co/uer/gpt2-distil-chinese-cluecorpussmall)"
   ]
  },
  {
   "cell_type": "code",
   "execution_count": 1,
   "id": "74fe7122-5915-4946-a9eb-33dc0896ef1e",
   "metadata": {},
   "outputs": [],
   "source": [
    "from transformers import BertTokenizer, GPT2LMHeadModel, TextGenerationPipeline"
   ]
  },
  {
   "cell_type": "code",
   "execution_count": null,
   "id": "e1556fc9-a46a-4c96-af24-c862b8e61d59",
   "metadata": {},
   "outputs": [],
   "source": []
  },
  {
   "cell_type": "markdown",
   "id": "cc5fdd1d-6aa6-47ff-84e7-c3f4aa9ab4de",
   "metadata": {},
   "source": [
    "### Origin Model"
   ]
  },
  {
   "cell_type": "code",
   "execution_count": null,
   "id": "70361a28-a864-499e-b24c-23f06abbe7c2",
   "metadata": {},
   "outputs": [],
   "source": []
  },
  {
   "cell_type": "code",
   "execution_count": 2,
   "id": "21f8fb6c-afe1-491a-9e2a-c166a3ebce62",
   "metadata": {},
   "outputs": [],
   "source": [
    "tokenizer = BertTokenizer.from_pretrained(\"uer/gpt2-distil-chinese-cluecorpussmall\")"
   ]
  },
  {
   "cell_type": "code",
   "execution_count": 3,
   "id": "47474aed-61d6-492f-8db1-31d569ad5900",
   "metadata": {},
   "outputs": [],
   "source": [
    "model_origin = GPT2LMHeadModel.from_pretrained(\"uer/gpt2-distil-chinese-cluecorpussmall\")"
   ]
  },
  {
   "cell_type": "code",
   "execution_count": 4,
   "id": "83be31fb-a694-495c-b152-ee766c6c99fb",
   "metadata": {
    "tags": []
   },
   "outputs": [],
   "source": [
    "text_generator = TextGenerationPipeline(model_origin, tokenizer)   "
   ]
  },
  {
   "cell_type": "code",
   "execution_count": 5,
   "id": "2e29fdca-3575-4d0f-b30c-a0918a232b1d",
   "metadata": {},
   "outputs": [
    {
     "name": "stderr",
     "output_type": "stream",
     "text": [
      "Setting `pad_token_id` to `eos_token_id`:50256 for open-end generation.\n"
     ]
    }
   ],
   "source": [
    "answer = text_generator(\"高血压患者能吃党参吗？\", max_length=64, do_sample=True)"
   ]
  },
  {
   "cell_type": "code",
   "execution_count": 6,
   "id": "fdc7de68-43d2-4e27-b7c3-fea52094c70a",
   "metadata": {},
   "outputs": [],
   "source": [
    "answer = answer[0]['generated_text']"
   ]
  },
  {
   "cell_type": "code",
   "execution_count": 7,
   "id": "5bfd15da-3409-4453-960c-c7d360f47510",
   "metadata": {},
   "outputs": [],
   "source": [
    "def remove_space(sentence):\n",
    "    def is_not_space(ch):\n",
    "        if not ch:\n",
    "            # None ''\n",
    "            return False\n",
    "        if ch.isspace():\n",
    "            #\\t \\n \\r \\u202f \\xa0 :不间断空白符&nbsp; \\u3000 是全角的空白符\n",
    "            return False\n",
    "        return True\n",
    "    \n",
    "    return ''.join(filter(is_not_space, sentence))"
   ]
  },
  {
   "cell_type": "code",
   "execution_count": 8,
   "id": "749fb6d2-ee5f-4b99-bf70-87d0cef823d4",
   "metadata": {},
   "outputs": [
    {
     "data": {
      "text/plain": [
       "'高血压患者能吃党参吗？在血压计科普的介绍中，记者看到，国内外有很多认为是血压降低的食物，一些食物虽然不是太贵，但是不够实惠，需'"
      ]
     },
     "execution_count": 8,
     "metadata": {},
     "output_type": "execute_result"
    }
   ],
   "source": [
    "remove_space(answer)"
   ]
  },
  {
   "cell_type": "markdown",
   "id": "21a81629-65fb-461e-8864-aa48586e2ebd",
   "metadata": {},
   "source": [
    "> basicly it is talking nonsense."
   ]
  },
  {
   "cell_type": "code",
   "execution_count": null,
   "id": "e2f939e8-5918-4506-bdbb-1b58531aba88",
   "metadata": {},
   "outputs": [],
   "source": []
  },
  {
   "cell_type": "code",
   "execution_count": null,
   "id": "f9f49cbc-5680-4640-8974-cac203fe5f76",
   "metadata": {},
   "outputs": [],
   "source": []
  },
  {
   "cell_type": "code",
   "execution_count": null,
   "id": "979eed97-25ec-41b5-a66b-3c56da470fa6",
   "metadata": {},
   "outputs": [],
   "source": []
  },
  {
   "cell_type": "markdown",
   "id": "c9047155-030a-41c5-8377-deb39e2f59a9",
   "metadata": {},
   "source": [
    "### Fine-tuning model"
   ]
  },
  {
   "cell_type": "markdown",
   "id": "d0d100cb-f5c7-4846-a545-56e5ab13f15b",
   "metadata": {},
   "source": [
    "> in this script 03.GPT2_FT.ipynb we have finished the fine-tuning.<br>\n",
    "> the new fine-tunning model named `modes/`<br>\n",
    "> limited by GPU，we can only output 64 chars."
   ]
  },
  {
   "cell_type": "code",
   "execution_count": 9,
   "id": "0d298897-f0b8-433c-8028-19a24506810b",
   "metadata": {},
   "outputs": [],
   "source": [
    "model_ft = GPT2LMHeadModel.from_pretrained(\"models/\")"
   ]
  },
  {
   "cell_type": "code",
   "execution_count": 10,
   "id": "23f975a4-7113-4daa-a92a-185b9c177659",
   "metadata": {
    "tags": []
   },
   "outputs": [],
   "source": [
    "text_generator = TextGenerationPipeline(model_ft, tokenizer)   "
   ]
  },
  {
   "cell_type": "code",
   "execution_count": 11,
   "id": "04f24e5b-77c6-4081-88e6-1c9d243d6e08",
   "metadata": {},
   "outputs": [
    {
     "name": "stderr",
     "output_type": "stream",
     "text": [
      "Setting `pad_token_id` to `eos_token_id`:50256 for open-end generation.\n"
     ]
    }
   ],
   "source": [
    "answer = text_generator(\"高血压患者能吃党参吗？\", max_length=64, do_sample=True)"
   ]
  },
  {
   "cell_type": "code",
   "execution_count": 12,
   "id": "62aea6ee-c88b-4d2f-a95e-31c6bccbec45",
   "metadata": {},
   "outputs": [],
   "source": [
    "answer = answer[0]['generated_text']"
   ]
  },
  {
   "cell_type": "code",
   "execution_count": 13,
   "id": "a8cf46b8-ea47-4dfe-90e5-ecd523efef4e",
   "metadata": {},
   "outputs": [
    {
     "data": {
      "text/plain": [
       "'高血压患者能吃党参吗？党参对高血压有一定效果，党参对老年人的影响相对比老年人更多采用利尿剂，但使用了许多不含麸质的营养食物，需'"
      ]
     },
     "execution_count": 13,
     "metadata": {},
     "output_type": "execute_result"
    }
   ],
   "source": [
    "remove_space(answer)"
   ]
  },
  {
   "cell_type": "markdown",
   "id": "e17692d2-7b60-4938-934d-55f8e078163d",
   "metadata": {},
   "source": [
    "> fine-tuning improve the performance of model , a little better<br>\n",
    "> but basicly it is talking nonsense.<br>\n",
    "> our goal is to do a test！"
   ]
  },
  {
   "cell_type": "code",
   "execution_count": null,
   "id": "482b616c-71f2-45b8-8984-697f84f830a5",
   "metadata": {},
   "outputs": [],
   "source": []
  }
 ],
 "metadata": {
  "kernelspec": {
   "display_name": "qa",
   "language": "python",
   "name": "qa"
  },
  "language_info": {
   "codemirror_mode": {
    "name": "ipython",
    "version": 3
   },
   "file_extension": ".py",
   "mimetype": "text/x-python",
   "name": "python",
   "nbconvert_exporter": "python",
   "pygments_lexer": "ipython3",
   "version": "3.9.6"
  }
 },
 "nbformat": 4,
 "nbformat_minor": 5
}
