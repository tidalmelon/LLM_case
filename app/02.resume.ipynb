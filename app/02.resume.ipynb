{
 "cells": [
  {
   "cell_type": "code",
   "execution_count": null,
   "id": "678b2d7e-89f0-4104-8ca0-9143170e08d6",
   "metadata": {},
   "outputs": [],
   "source": []
  },
  {
   "cell_type": "code",
   "execution_count": 1,
   "id": "a6243adb-22f9-4e09-af5e-2df0d8fe1493",
   "metadata": {},
   "outputs": [],
   "source": [
    "import sys\n",
    "sys.path.append(\"/home/wangquanjun/project/LLM_project/starchain/llm_server/chatglm\")\n",
    "from chatglm_extension import ChatGLM\n",
    "\n",
    "sys.path.append(\"/home/wangquanjun/project/LLM_project/starchain/llm_server/utils\")\n",
    "from utils import remove_blank_keep_newline\n",
    "from utils import generate_dirname\n",
    "\n",
    "\n",
    "from langchain.text_splitter import CharacterTextSplitter\n",
    "from langchain.chains.question_answering import load_qa_chain\n",
    "from langchain.embeddings.huggingface import HuggingFaceEmbeddings\n",
    "from langchain.document_loaders import UnstructuredWordDocumentLoader\n",
    "from langchain.schema.document import Document\n",
    "\n",
    "import os\n",
    "import time\n",
    "import datetime\n",
    "import json\n",
    "import pandas as pd\n"
   ]
  },
  {
   "cell_type": "code",
   "execution_count": 2,
   "id": "9a386c69-5083-45ce-83c4-d7b68c8f5bc3",
   "metadata": {},
   "outputs": [],
   "source": [
    "from langchain.prompts import PromptTemplate"
   ]
  },
  {
   "cell_type": "code",
   "execution_count": null,
   "id": "7a50ba50-29fb-44d4-bd7e-c0593ed2c450",
   "metadata": {},
   "outputs": [],
   "source": []
  },
  {
   "cell_type": "code",
   "execution_count": null,
   "id": "b3cdd52a-985f-48ca-8db7-67eafe44c2ab",
   "metadata": {},
   "outputs": [],
   "source": []
  },
  {
   "cell_type": "code",
   "execution_count": null,
   "id": "ab9a8164-474c-457c-a61d-02dddd723589",
   "metadata": {},
   "outputs": [],
   "source": [
    "class ResumeNormalizer:\n",
    "    \n",
    "    def __init__(self, path, num=500):\n",
    "        self.path = path\n",
    "        loader = UnstructuredWordDocumentLoader(path)\n",
    "        docs = loader.load()\n",
    "        self.context_1 = docs[0].page_content[:num]\n",
    "        self.context_2 = docs[0].page_content[num:]\n",
    "        \n",
    "        self.prompt_template = \"\"\"\n",
    "        Use the following pieces of context to answer the question at the end. If you don't know the answer, just say that you don't know, don't try to make up an answer.\n",
    "\n",
    "{context}\n",
    "\n",
    "Question: {question}\n",
    "Helpful Answer:\n",
    "        \"\"\"\n",
    "        \n",
    "        "
   ]
  },
  {
   "cell_type": "code",
   "execution_count": null,
   "id": "c3e65aa9-61b6-4b1f-b17e-42e470ed4bce",
   "metadata": {},
   "outputs": [],
   "source": []
  },
  {
   "cell_type": "code",
   "execution_count": null,
   "id": "69a4e887-b212-4d0d-b64b-8264a6e9a0f7",
   "metadata": {},
   "outputs": [],
   "source": []
  },
  {
   "cell_type": "code",
   "execution_count": null,
   "id": "7c660cf7-b951-4c4e-96a2-13469e90880e",
   "metadata": {},
   "outputs": [],
   "source": []
  },
  {
   "cell_type": "code",
   "execution_count": null,
   "id": "5eef59dc-a642-4edc-b9de-ba256c7d5007",
   "metadata": {},
   "outputs": [],
   "source": []
  },
  {
   "cell_type": "code",
   "execution_count": null,
   "id": "48c61ead-bab5-4579-a427-1713eb8bdd17",
   "metadata": {},
   "outputs": [],
   "source": []
  },
  {
   "cell_type": "code",
   "execution_count": null,
   "id": "6befcaec-3c1b-4a5a-9ead-ba8c92bb597b",
   "metadata": {},
   "outputs": [],
   "source": []
  },
  {
   "cell_type": "code",
   "execution_count": 3,
   "id": "f715b603-6794-41c2-92a3-9059d0321fed",
   "metadata": {},
   "outputs": [],
   "source": [
    "prompt_template = \"\"\"Use the following pieces of context to answer the question at the end. If you don't know the answer, just say that you don't know, don't try to make up an answer.\n",
    "\n",
    "{context}\n",
    "\n",
    "Question: {question}\n",
    "Helpful Answer:\"\"\""
   ]
  },
  {
   "cell_type": "code",
   "execution_count": null,
   "id": "101cb230-f3b8-43cf-9cf4-970e28b13943",
   "metadata": {},
   "outputs": [],
   "source": []
  },
  {
   "cell_type": "code",
   "execution_count": 3,
   "id": "727034ae-0ca7-444f-8cdc-ffcc7a16d6d0",
   "metadata": {},
   "outputs": [],
   "source": [
    "prompt_template = \"\"\"Use the following pieces of context to answer the question at the end. If you don't know the answer, just say that you don't know, don't try to make up an answer.\n",
    "\n",
    "{context}\n",
    "\n",
    "Question: {question}\n",
    "Helpful Answer:\"\"\""
   ]
  },
  {
   "cell_type": "code",
   "execution_count": null,
   "id": "39ebf353-92da-4910-81dd-3c0642d00e76",
   "metadata": {},
   "outputs": [],
   "source": []
  },
  {
   "cell_type": "code",
   "execution_count": null,
   "id": "f70a0247-2541-471b-9171-59456fec80e7",
   "metadata": {},
   "outputs": [],
   "source": []
  },
  {
   "cell_type": "code",
   "execution_count": null,
   "id": "d0bf5fec-2265-42b0-a205-f7353cefa041",
   "metadata": {},
   "outputs": [],
   "source": []
  },
  {
   "cell_type": "code",
   "execution_count": 4,
   "id": "cad3e45f-7172-43e6-9e46-a1f9203505f4",
   "metadata": {},
   "outputs": [],
   "source": [
    "PROMPT = PromptTemplate.from_template(prompt_template)"
   ]
  },
  {
   "cell_type": "code",
   "execution_count": null,
   "id": "c56345ff-f309-4c99-992d-117e89a18c6c",
   "metadata": {},
   "outputs": [],
   "source": []
  },
  {
   "cell_type": "code",
   "execution_count": 5,
   "id": "d2bc5e9e-a3e6-4df7-a3e0-008c629feee0",
   "metadata": {},
   "outputs": [
    {
     "data": {
      "text/plain": [
       "['context', 'question']"
      ]
     },
     "execution_count": 5,
     "metadata": {},
     "output_type": "execute_result"
    }
   ],
   "source": [
    "PROMPT.input_variables"
   ]
  },
  {
   "cell_type": "code",
   "execution_count": null,
   "id": "eb4c901b-d1f6-4e0b-9f85-6fdec79977ae",
   "metadata": {},
   "outputs": [],
   "source": []
  },
  {
   "cell_type": "code",
   "execution_count": null,
   "id": "b0be600a-da2c-4113-9806-9c53dcce4322",
   "metadata": {},
   "outputs": [],
   "source": []
  },
  {
   "cell_type": "code",
   "execution_count": 6,
   "id": "0bd4f960-1b92-4ed1-99a3-b74ea36d6064",
   "metadata": {},
   "outputs": [],
   "source": [
    "options = [\"姓名\", \"性别\", \"年龄\", \"民族\", \"出生日期\", \"地址\", \"学历\", \"专业\", \"邮箱\", \"联系方式\"]"
   ]
  },
  {
   "cell_type": "code",
   "execution_count": 7,
   "id": "77769d16-986f-4ecc-84a1-d358fa7462c9",
   "metadata": {},
   "outputs": [],
   "source": [
    "option_str = ','.join(options)"
   ]
  },
  {
   "cell_type": "code",
   "execution_count": null,
   "id": "79d1f01b-8e32-40ee-a26d-39200904ecaf",
   "metadata": {},
   "outputs": [],
   "source": []
  },
  {
   "cell_type": "code",
   "execution_count": 8,
   "id": "db8a3cf1-54bb-447f-93b5-2c2e212c10f4",
   "metadata": {},
   "outputs": [],
   "source": [
    "question = f\"这个应聘者的{option_str}是什么，请以json形式返回结果，最多不超过250字，如果查找不到，则返回'未提供'\""
   ]
  },
  {
   "cell_type": "code",
   "execution_count": 9,
   "id": "25b22ce4-f47d-4172-807f-81af5e374ac4",
   "metadata": {},
   "outputs": [
    {
     "data": {
      "text/plain": [
       "\"这个应聘者的姓名,性别,年龄,民族,出生日期,地址,学历,专业,邮箱,联系方式是什么，请以json形式返回结果，最多不超过250字，如果查找不到，则返回'未提供'\""
      ]
     },
     "execution_count": 9,
     "metadata": {},
     "output_type": "execute_result"
    }
   ],
   "source": [
    "question"
   ]
  },
  {
   "cell_type": "code",
   "execution_count": null,
   "id": "62055ca1-dc42-4a30-9c94-25a4b78e510b",
   "metadata": {},
   "outputs": [],
   "source": []
  },
  {
   "cell_type": "code",
   "execution_count": 10,
   "id": "ea79682e-53ae-4626-b843-d0018d7d5c47",
   "metadata": {},
   "outputs": [],
   "source": [
    "path = '/home/wangquanjun/jupyter/app_test/01.ResumeFilter/data/三人行简历-佳晟-熔铸-王仁杰.doc'"
   ]
  },
  {
   "cell_type": "code",
   "execution_count": 11,
   "id": "19ee98e5-aa57-4d07-a716-bb6e509096a0",
   "metadata": {},
   "outputs": [],
   "source": [
    "loader = UnstructuredWordDocumentLoader(path)"
   ]
  },
  {
   "cell_type": "code",
   "execution_count": 12,
   "id": "42ed79bd-350d-46ca-9791-a7c34f8c3bb7",
   "metadata": {},
   "outputs": [],
   "source": [
    "docs = loader.load()"
   ]
  },
  {
   "cell_type": "code",
   "execution_count": 13,
   "id": "de0c4bd0-9909-4d55-b1b0-28d5e122ef17",
   "metadata": {},
   "outputs": [],
   "source": [
    "text = docs[0].page_content[:500]"
   ]
  },
  {
   "cell_type": "code",
   "execution_count": 14,
   "id": "afee5546-eafb-4259-8e1a-04f9eea784e4",
   "metadata": {},
   "outputs": [],
   "source": [
    "page_content = remove_blank_keep_newline(text)"
   ]
  },
  {
   "cell_type": "code",
   "execution_count": 15,
   "id": "0d18ba33-6a17-44a7-8d78-179593d8cab0",
   "metadata": {},
   "outputs": [],
   "source": [
    "doc_related = Document(page_content=page_content, metadata={'source': path})"
   ]
  },
  {
   "cell_type": "code",
   "execution_count": null,
   "id": "4a1d5ef2-eda4-467c-ab75-59708c508196",
   "metadata": {},
   "outputs": [],
   "source": []
  },
  {
   "cell_type": "code",
   "execution_count": 16,
   "id": "0f0fff64-1959-4ebe-bf86-129f32f32089",
   "metadata": {},
   "outputs": [
    {
     "name": "stdout",
     "output_type": "stream",
     "text": [
      "Use the following pieces of context to answer the question at the end. If you don't know the answer, just say that you don't know, don't try to make up an answer.\n",
      "\n",
      "三人行简历\n",
      "\n",
      "基本资料： \n",
      "\n",
      "姓 名：王仁杰 性 别： 男 \n",
      "\n",
      "身份证号码：51372219881208391X 民 族： 汉\n",
      "\n",
      "出生年月：1988/12/08 健康状况：良好 \n",
      "\n",
      "户籍地：四川省成都市 面貌：中共党员 \n",
      "\n",
      "学 历： 本 科 专业：金属材料工程\n",
      "\n",
      "地址：四川省成都市温江区 \n",
      "\n",
      "邮 箱: wang_ren_jie_sc@163.com 联系电话：13568942066 \n",
      "\n",
      "教育背景： \n",
      "\n",
      "2009.09 ~2013.07……西安工业大学北方信息工程学院…金属材料工程…学 士 \n",
      "\n",
      "毕业设计：海洋性气候对7475铝合金力学性能的影响\n",
      "\n",
      "工作经历： \n",
      "\n",
      "Question: 这个应聘者的姓名,性别,年龄,民族,出生日期,地址,学历,专业,邮箱,联系方式是什么，请以json形式返回结果，最多不超过250字，如果查找不到，则返回'未提供'\n",
      "Helpful Answer:\n"
     ]
    }
   ],
   "source": [
    "prompt = PROMPT.format(context=doc_related.page_content, question=question)\n",
    "print(prompt)"
   ]
  },
  {
   "cell_type": "code",
   "execution_count": null,
   "id": "f4c476a5-6c5e-4343-ae12-08d0edb90a7d",
   "metadata": {},
   "outputs": [],
   "source": []
  },
  {
   "cell_type": "code",
   "execution_count": null,
   "id": "f919c83e-f41e-45ae-9a44-629e73d1417f",
   "metadata": {},
   "outputs": [],
   "source": []
  },
  {
   "cell_type": "code",
   "execution_count": 17,
   "id": "29c68c3f-2d4c-422f-ae52-3f514a18090f",
   "metadata": {},
   "outputs": [],
   "source": [
    "llm = ChatGLM()"
   ]
  },
  {
   "cell_type": "code",
   "execution_count": 18,
   "id": "392608af-8b2c-41d9-a010-bbd354fd9021",
   "metadata": {},
   "outputs": [],
   "source": [
    "llm.endpoint_url = 'http://0.0.0.0:4002'"
   ]
  },
  {
   "cell_type": "code",
   "execution_count": null,
   "id": "4c3368f3-1268-403b-93e5-db984d04860a",
   "metadata": {},
   "outputs": [],
   "source": []
  },
  {
   "cell_type": "code",
   "execution_count": 19,
   "id": "1264dcfa-23a3-4d8f-b289-2a89fb783448",
   "metadata": {},
   "outputs": [
    {
     "name": "stdout",
     "output_type": "stream",
     "text": [
      " {\n",
      "\"姓名\": \"王仁杰\"，\n",
      "\"性别\": \"男\"，\n",
      "\"年龄\": \"33\"，\n",
      "\"民族\": \"汉\"，\n",
      "\"出生日期\": \"1988/12/08\"，\n",
      "\"地址\": \"四川省成都市温江区\"，\n",
      "\"学历\": \"本科\"，\n",
      "\"专业\": \"金属材料工程\"，\n",
      "\"邮箱\": \"wang_ren_jie_sc@163.com\"，\n",
      "\"联系方式\": \"13568942066\"\n",
      "}"
     ]
    }
   ],
   "source": [
    "text = \"\"\n",
    "for chunk in llm.stream(prompt):\n",
    "    text += chunk\n",
    "    print(chunk, end=\"\", flush=True)"
   ]
  },
  {
   "cell_type": "code",
   "execution_count": null,
   "id": "77f2cbce-6839-4239-a711-e2df409d1baf",
   "metadata": {},
   "outputs": [],
   "source": []
  },
  {
   "cell_type": "code",
   "execution_count": null,
   "id": "fdbe68b2-de04-453c-ab19-79257b574e4f",
   "metadata": {},
   "outputs": [],
   "source": []
  },
  {
   "cell_type": "code",
   "execution_count": null,
   "id": "72565f11-61a9-4eee-911b-65d7943d42c3",
   "metadata": {},
   "outputs": [],
   "source": []
  },
  {
   "cell_type": "code",
   "execution_count": null,
   "id": "8fa99e35-e21b-4982-9cb2-231077707d1e",
   "metadata": {},
   "outputs": [],
   "source": []
  },
  {
   "cell_type": "code",
   "execution_count": null,
   "id": "b0d49675-a185-4b88-8b89-1d6e927dc760",
   "metadata": {},
   "outputs": [],
   "source": []
  }
 ],
 "metadata": {
  "kernelspec": {
   "display_name": "chatglm26b",
   "language": "python",
   "name": "chatglm26b"
  },
  "language_info": {
   "codemirror_mode": {
    "name": "ipython",
    "version": 3
   },
   "file_extension": ".py",
   "mimetype": "text/x-python",
   "name": "python",
   "nbconvert_exporter": "python",
   "pygments_lexer": "ipython3",
   "version": "3.9.6"
  }
 },
 "nbformat": 4,
 "nbformat_minor": 5
}
