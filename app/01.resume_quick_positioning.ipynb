{
 "cells": [
  {
   "cell_type": "markdown",
   "id": "f9427d48-958b-45a4-beb6-1d2cc55a0500",
   "metadata": {},
   "source": [
    "## related package"
   ]
  },
  {
   "cell_type": "markdown",
   "id": "e97843c9-2b6c-4f79-a0dd-74a88be402f5",
   "metadata": {},
   "source": [
    "```python\n",
    "pip install pdfminer.six\n",
    "pip install unstructured_pytesseract\n",
    "pip install unstructured_inference\n",
    "```"
   ]
  },
  {
   "cell_type": "markdown",
   "id": "f2a52206-6439-4346-be97-16154a50a85b",
   "metadata": {},
   "source": [
    "[--->源地址<---](https://github.com/CodingLucasLi/GPT_Resume_analysing)"
   ]
  },
  {
   "cell_type": "code",
   "execution_count": 2,
   "id": "fb890669-fbbc-4ba7-bc56-37ccbf871c0c",
   "metadata": {},
   "outputs": [],
   "source": [
    "from langchain.text_splitter import CharacterTextSplitter\n",
    "from langchain.vectorstores import FAISS\n",
    "from langchain.chains.question_answering import load_qa_chain\n",
    "from langchain.embeddings.openai import OpenAIEmbeddings\n",
    "from langchain.llms import OpenAI\n",
    "from langchain.document_loaders import TextLoader\n",
    "\n",
    "import openai\n",
    "import time\n",
    "import datetime"
   ]
  },
  {
   "cell_type": "code",
   "execution_count": null,
   "id": "b1b1da2b-2bb8-4b2b-8855-2620f7b9274c",
   "metadata": {},
   "outputs": [],
   "source": []
  },
  {
   "cell_type": "markdown",
   "id": "f42c748b-1b45-4534-976f-778ab7577730",
   "metadata": {},
   "source": [
    "## input data: JD, Option, Resumes"
   ]
  },
  {
   "cell_type": "code",
   "execution_count": 3,
   "id": "20ae9193-3499-4497-9715-9da0c55ecc06",
   "metadata": {
    "tags": []
   },
   "outputs": [],
   "source": [
    "JD = \"\"\"\n",
    "1、全日制统招本科及以上学历，计算机、应用数学、统计学等专业，具有4年及以上数据开发及大数据平台建设经验；\n",
    "2、精通主流数据库系统（如MySQL/SQL SERVER/Oracle/PostgralSQL等），有丰富的 SQL 编程经验及 ETL 流程设计开发经验，有MaxCompute /Hive/Spark SQL等相关开发经验;\n",
    "3、熟悉数据仓库各类建模理论以及数据仓库数据层级关系，具备大型数据仓库逻辑模型和物理模型设计经验； \n",
    "4、熟练使用Python/Java/Scala/Shell等开发语言中的一种或多种；\n",
    "6、熟悉Hadoop生态体系，了解HDFS、Hive、Spark、sqoop、HBase、MapReduce、Flume、kafka等开源项目原理和开发使用；\n",
    "\"\"\""
   ]
  },
  {
   "cell_type": "code",
   "execution_count": null,
   "id": "9f8dc4e4-4ffa-459e-9876-9f99e990f9ae",
   "metadata": {},
   "outputs": [],
   "source": []
  },
  {
   "cell_type": "code",
   "execution_count": 4,
   "id": "9b207623-fcb0-44f2-b419-bbb4268d31de",
   "metadata": {
    "tags": []
   },
   "outputs": [],
   "source": [
    "options = [\"姓名\", \"联系号码\", \"性别\", \"年龄\", \"工作年数（数字）\", \n",
    "           \"最高学历\", \"本科学校名称\", \"硕士学校名称\", \"是否在职\", \n",
    "           \"当前职务\", \"历史任职公司列表\", \"技术能力\", \"经验程度\", \"管理能力\"]"
   ]
  },
  {
   "cell_type": "code",
   "execution_count": null,
   "id": "81a936df-c082-4513-a252-856367471850",
   "metadata": {},
   "outputs": [],
   "source": []
  },
  {
   "cell_type": "code",
   "execution_count": 5,
   "id": "0aca42d9-fcc7-4d77-8240-feaa6d997b08",
   "metadata": {},
   "outputs": [],
   "source": [
    "input_dir = './data/resume/'"
   ]
  },
  {
   "cell_type": "code",
   "execution_count": 6,
   "id": "461e053d-7a78-4bb2-872a-4897713e3ed3",
   "metadata": {
    "tags": []
   },
   "outputs": [],
   "source": [
    "resumes = []\n",
    "for input_path in os.listdir(input_dir):\n",
    "    if not input_path.endswith('.txt'):\n",
    "        continue\n",
    "    \n",
    "    with open(os.path.join(input_dir, input_path)) as f:\n",
    "        resumes.append([input_path, f.read()])"
   ]
  },
  {
   "cell_type": "code",
   "execution_count": 7,
   "id": "5e1696c8-8aca-4c1c-baa2-d2bd3b4534a4",
   "metadata": {
    "tags": []
   },
   "outputs": [
    {
     "data": {
      "text/plain": [
       "3"
      ]
     },
     "execution_count": 7,
     "metadata": {},
     "output_type": "execute_result"
    }
   ],
   "source": [
    "resumes.__len__()"
   ]
  },
  {
   "cell_type": "code",
   "execution_count": 2,
   "id": "172ac0d0-9131-4472-b7fe-906e38d38435",
   "metadata": {
    "tags": []
   },
   "outputs": [],
   "source": [
    "# print(resumes[1])"
   ]
  },
  {
   "cell_type": "code",
   "execution_count": null,
   "id": "7a0711fb-74db-4e05-acb8-daea1aea2415",
   "metadata": {},
   "outputs": [],
   "source": []
  },
  {
   "cell_type": "markdown",
   "id": "c28e539d-a7fa-48e0-bca6-438101bbc497",
   "metadata": {},
   "source": [
    "## batch-process-example"
   ]
  },
  {
   "cell_type": "code",
   "execution_count": 8,
   "id": "515f5ba2-8870-47e2-a632-8636cd7b1434",
   "metadata": {
    "tags": []
   },
   "outputs": [],
   "source": [
    "def ask_openAI(question):\n",
    "    response = openai.Completion.create(\n",
    "        engine=\"text-davinci-003\",\n",
    "        prompt=question,\n",
    "        max_tokens=400,\n",
    "        n=1,\n",
    "        stop=None,\n",
    "        temperature=0,\n",
    "    )\n",
    "    return response.choices[0].text.strip()"
   ]
  },
  {
   "cell_type": "code",
   "execution_count": 3,
   "id": "a6176c2a-122e-4df7-9513-105b2fa356c8",
   "metadata": {
    "tags": []
   },
   "outputs": [],
   "source": [
    "# for input_path, resume in resumes:\n",
    "    \n",
    "#     start = datetime.datetime.now()\n",
    "#     print('processing', input_path, start)\n",
    "    \n",
    "#     # step 1: resume key-point extracting\n",
    "#     text_splitter = CharacterTextSplitter(separator='\\n\\n', chunk_size=600, chunk_overlap=100)\n",
    "#     chunks = text_splitter.split_text(resume)\n",
    "#     embeddings = OpenAIEmbeddings()\n",
    "#     knowledge_base = FAISS.from_texts(chunks, embeddings)\n",
    "    \n",
    "#     rows = []\n",
    "#     for i, option in enumerate(options):\n",
    "#         question = f\"这个应聘者的{option}是什么，请精简返回答案，最多不超过250字，如果查找不到，则返回'未提供'\"\n",
    "#         docs = knowledge_base.similarity_search(question)\n",
    "#         llm = OpenAI(temperature=0.3, model_name=\"text-davinci-003\", max_tokens=\"100\")\n",
    "#         chain = load_qa_chain(llm, chain_type=\"stuff\")\n",
    "#         response = chain.run(input_documents=docs, question=question )\n",
    "#         item = {'option': option, 'value': response }\n",
    "#         print(i, item)\n",
    "#         rows.append(item)\n",
    "        \n",
    "#         # reduce the concurrent\n",
    "#         time.sleep(20)\n",
    "        \n",
    "#     df_candidate = pd.DataFrame(rows)\n",
    "#     context = df_candidate.applymap(lambda x: ', '.join(x) if isinstance(x, list) else x).to_string(index=False)\n",
    "    \n",
    "#     # step 2: summary analyze\n",
    "#     summary_question = f\"职位要求是：{{{JD}}}\" + f\"简历概要是：{{{context}}}\" + \"，请直接返回该应聘岗位候选人匹配度概要（控制在200字以内）;'\"\n",
    "#     summary = ask_openAI(summary_question)\n",
    "#     df_candidate.loc[len(df_candidate)] = ['综合概要', summary]\n",
    "    \n",
    "#     # step 3: scoring\n",
    "#     extra_info = \"打分要求：岗位匹配+10分, 国内top10大学+3分，985大学+2分，211大学+1分，头部企业经历+2分，知名企业+1分，海外背景+3分，外企背景+1分。 \"\n",
    "#     score_question = f\"职位要求是：{{{JD}}}\" + f\"简历概要是：{{{df_candidate.to_string(index=False)}}}\" + \"，请直接返回该应聘岗位候选人的匹配分数（0-100），请精确打分以方便其他候选人对比排序，'\" + extra_info\n",
    "#     score = ask_openAI(score_question)\n",
    "#     df_candidate.loc[len(df_candidate)] = ['匹配得分', score]\n",
    "#     df_candidate.to_csv(f'./reports/report_{input_path}.csv', encoding='utf-8-sig')\n",
    "    \n",
    "#     end = datetime.datetime.now()\n",
    "#     print('complete', input_path, (end - start).total_seconds())\n",
    "    "
   ]
  },
  {
   "cell_type": "code",
   "execution_count": null,
   "id": "6415e1cf-96ef-4c96-978a-8ffdbb8c6df5",
   "metadata": {},
   "outputs": [],
   "source": []
  },
  {
   "cell_type": "markdown",
   "id": "68fe58b7-1b1b-47b5-9705-5385cae1797e",
   "metadata": {},
   "source": [
    "## single resume processing Example "
   ]
  },
  {
   "cell_type": "markdown",
   "id": "409d9950-3c19-4323-beaa-41804f922ae1",
   "metadata": {},
   "source": [
    "### resume key-point extracting."
   ]
  },
  {
   "cell_type": "code",
   "execution_count": 8,
   "id": "21b6c51c-ddd3-4e9d-b997-a49ebc8dca67",
   "metadata": {},
   "outputs": [],
   "source": [
    "text_splitter = CharacterTextSplitter(separator='\\n\\n', chunk_size=600, chunk_overlap=100)"
   ]
  },
  {
   "cell_type": "code",
   "execution_count": 9,
   "id": "09ef0cf2-3f34-42e0-aa41-0e8425e8bf32",
   "metadata": {},
   "outputs": [],
   "source": [
    "chunks = text_splitter.split_text(resumes[1])"
   ]
  },
  {
   "cell_type": "code",
   "execution_count": 10,
   "id": "0b6c16cc-338e-4b2a-971b-e553c2b0524e",
   "metadata": {},
   "outputs": [
    {
     "data": {
      "text/plain": [
       "48"
      ]
     },
     "execution_count": 10,
     "metadata": {},
     "output_type": "execute_result"
    }
   ],
   "source": [
    "chunks.__len__()"
   ]
  },
  {
   "cell_type": "code",
   "execution_count": 8,
   "id": "dcf978d5-0565-47a0-affd-1bb8b6062ee5",
   "metadata": {
    "tags": []
   },
   "outputs": [],
   "source": [
    "# chunks[0]"
   ]
  },
  {
   "cell_type": "code",
   "execution_count": null,
   "id": "d9ed6ca4-1ee6-4f2c-8863-181e124d88cc",
   "metadata": {},
   "outputs": [],
   "source": []
  },
  {
   "cell_type": "code",
   "execution_count": 12,
   "id": "5d844b91-4482-4958-9ce7-c9cda97ea7a0",
   "metadata": {},
   "outputs": [],
   "source": [
    "embeddings = OpenAIEmbeddings()"
   ]
  },
  {
   "cell_type": "code",
   "execution_count": 13,
   "id": "71c5be1b-4e56-447f-bdcf-03663e5133e9",
   "metadata": {},
   "outputs": [],
   "source": [
    "knowledge_base = FAISS.from_texts(chunks, embeddings)"
   ]
  },
  {
   "cell_type": "code",
   "execution_count": 14,
   "id": "413506c8-03fa-4fe8-8ce7-529e44bad698",
   "metadata": {
    "tags": []
   },
   "outputs": [],
   "source": []
  },
  {
   "cell_type": "code",
   "execution_count": 1,
   "id": "731d5137-72ce-49c6-8cea-ad22800f7826",
   "metadata": {},
   "outputs": [],
   "source": [
    "# rows = []\n",
    "# for i, option in enumerate(options):\n",
    "#     question = f\"这个应聘者的{option}是什么，请精简返回答案，最多不超过250字，如果查找不到，则返回'未提供'\"\n",
    "#     docs = knowledge_base.similarity_search(question)\n",
    "#     llm = OpenAI(temperature=0.3, model_name=\"text-davinci-003\", max_tokens=\"2000\")\n",
    "#     chain = load_qa_chain(llm, chain_type=\"stuff\")\n",
    "#     response = chain.run(input_documents=docs, question=question )\n",
    "#     item = {'option': option, 'value': response }\n",
    "#     print(i, item)\n",
    "#     rows.append(item)\n",
    "    \n",
    "#     # reduce the concurrent\n",
    "#     time.sleep(15)"
   ]
  },
  {
   "cell_type": "markdown",
   "id": "911e6a10-7005-4a8c-a5d1-a768ca6435d3",
   "metadata": {},
   "source": [
    "```\n",
    "0 {'option': '姓名', 'value': ' 夏天'}\n",
    "1 {'option': '联系号码', 'value': ' 联系号码：13153518619'}\n",
    "2 {'option': '性别', 'value': ' 男'}\n",
    "3 {'option': '年龄', 'value': ' 45岁'}\n",
    "4 {'option': '工作年数（数字）', 'value': ' 23年'}\n",
    "5 {'option': '最高学历', 'value': ' 夏天的最高学历是硕士。'}\n",
    "6 {'option': '本科学校名称', 'value': ' 江苏师范大学'}\n",
    "```"
   ]
  },
  {
   "cell_type": "code",
   "execution_count": null,
   "id": "86ca9809-3c02-479a-b9b7-3364d8afe6b9",
   "metadata": {},
   "outputs": [],
   "source": []
  },
  {
   "cell_type": "code",
   "execution_count": 16,
   "id": "cdbc91da-d8b2-4924-8ba3-aa47b9bbf706",
   "metadata": {
    "tags": []
   },
   "outputs": [],
   "source": [
    "df_candidate = pd.DataFrame(rows)"
   ]
  },
  {
   "cell_type": "code",
   "execution_count": 17,
   "id": "966e1294-114e-4a31-a8d0-e47fe1e10026",
   "metadata": {
    "tags": []
   },
   "outputs": [
    {
     "data": {
      "text/html": [
       "<div>\n",
       "<style scoped>\n",
       "    .dataframe tbody tr th:only-of-type {\n",
       "        vertical-align: middle;\n",
       "    }\n",
       "\n",
       "    .dataframe tbody tr th {\n",
       "        vertical-align: top;\n",
       "    }\n",
       "\n",
       "    .dataframe thead th {\n",
       "        text-align: right;\n",
       "    }\n",
       "</style>\n",
       "<table border=\"1\" class=\"dataframe\">\n",
       "  <thead>\n",
       "    <tr style=\"text-align: right;\">\n",
       "      <th></th>\n",
       "      <th>option</th>\n",
       "      <th>value</th>\n",
       "    </tr>\n",
       "  </thead>\n",
       "  <tbody>\n",
       "    <tr>\n",
       "      <th>0</th>\n",
       "      <td>姓名</td>\n",
       "      <td>夏天</td>\n",
       "    </tr>\n",
       "    <tr>\n",
       "      <th>1</th>\n",
       "      <td>联系号码</td>\n",
       "      <td>联系号码：13153518619</td>\n",
       "    </tr>\n",
       "    <tr>\n",
       "      <th>2</th>\n",
       "      <td>性别</td>\n",
       "      <td>男</td>\n",
       "    </tr>\n",
       "    <tr>\n",
       "      <th>3</th>\n",
       "      <td>年龄</td>\n",
       "      <td>45岁</td>\n",
       "    </tr>\n",
       "    <tr>\n",
       "      <th>4</th>\n",
       "      <td>工作年数（数字）</td>\n",
       "      <td>23年</td>\n",
       "    </tr>\n",
       "    <tr>\n",
       "      <th>5</th>\n",
       "      <td>最高学历</td>\n",
       "      <td>夏天的最高学历是硕士。</td>\n",
       "    </tr>\n",
       "    <tr>\n",
       "      <th>6</th>\n",
       "      <td>本科学校名称</td>\n",
       "      <td>江苏师范大学</td>\n",
       "    </tr>\n",
       "    <tr>\n",
       "      <th>7</th>\n",
       "      <td>硕士学校名称</td>\n",
       "      <td>江苏师范大学</td>\n",
       "    </tr>\n",
       "    <tr>\n",
       "      <th>8</th>\n",
       "      <td>是否在职</td>\n",
       "      <td>在职</td>\n",
       "    </tr>\n",
       "    <tr>\n",
       "      <th>9</th>\n",
       "      <td>当前职务</td>\n",
       "      <td>夏天目前的职务是IT技术/研发总监，负责公司软件研发部研发工作，售前支持，客户需求沟通，技...</td>\n",
       "    </tr>\n",
       "    <tr>\n",
       "      <th>10</th>\n",
       "      <td>历史任职公司列表</td>\n",
       "      <td>未提供</td>\n",
       "    </tr>\n",
       "    <tr>\n",
       "      <th>11</th>\n",
       "      <td>技术能力</td>\n",
       "      <td>这个应聘者拥有强化学习、自然语言处理、深度学习、计算机视觉、架构技术、OpenAI Gym...</td>\n",
       "    </tr>\n",
       "    <tr>\n",
       "      <th>12</th>\n",
       "      <td>经验程度</td>\n",
       "      <td>这位应聘者拥有23年的工作经验，具有硕士学位，拥有多年的大型外企工作经验，研发团队建设管理...</td>\n",
       "    </tr>\n",
       "    <tr>\n",
       "      <th>13</th>\n",
       "      <td>管理能力</td>\n",
       "      <td>这个应聘者具备多年的大型外企工作经验，研发团队建设管理及新人培养验，架构设计项目管理经验，...</td>\n",
       "    </tr>\n",
       "  </tbody>\n",
       "</table>\n",
       "</div>"
      ],
      "text/plain": [
       "      option                                              value\n",
       "0         姓名                                                 夏天\n",
       "1       联系号码                                   联系号码：13153518619\n",
       "2         性别                                                  男\n",
       "3         年龄                                                45岁\n",
       "4   工作年数（数字）                                                23年\n",
       "5       最高学历                                        夏天的最高学历是硕士。\n",
       "6     本科学校名称                                             江苏师范大学\n",
       "7     硕士学校名称                                             江苏师范大学\n",
       "8       是否在职                                                 在职\n",
       "9       当前职务   夏天目前的职务是IT技术/研发总监，负责公司软件研发部研发工作，售前支持，客户需求沟通，技...\n",
       "10  历史任职公司列表                                                未提供\n",
       "11      技术能力   这个应聘者拥有强化学习、自然语言处理、深度学习、计算机视觉、架构技术、OpenAI Gym...\n",
       "12      经验程度   这位应聘者拥有23年的工作经验，具有硕士学位，拥有多年的大型外企工作经验，研发团队建设管理...\n",
       "13      管理能力   这个应聘者具备多年的大型外企工作经验，研发团队建设管理及新人培养验，架构设计项目管理经验，..."
      ]
     },
     "execution_count": 17,
     "metadata": {},
     "output_type": "execute_result"
    }
   ],
   "source": [
    "df_candidate"
   ]
  },
  {
   "cell_type": "code",
   "execution_count": null,
   "id": "0cc5f771-24de-457a-a077-7d3187407847",
   "metadata": {},
   "outputs": [],
   "source": []
  },
  {
   "cell_type": "code",
   "execution_count": 22,
   "id": "8e68d1e9-905f-4476-b366-a03e3a38fdb7",
   "metadata": {
    "tags": []
   },
   "outputs": [],
   "source": [
    "context = df_candidate.applymap(lambda x: ', '.join(x) if isinstance(x, list) else x).to_string(index=False)"
   ]
  },
  {
   "cell_type": "markdown",
   "id": "47c55d95-4495-42f6-909a-b7d13b88b473",
   "metadata": {},
   "source": [
    ">  回头看下context的质量"
   ]
  },
  {
   "cell_type": "markdown",
   "id": "dc072571-279e-45d8-8938-05ebdd71d6d3",
   "metadata": {},
   "source": [
    "### summary analyze"
   ]
  },
  {
   "cell_type": "code",
   "execution_count": 4,
   "id": "14cc97fa-7d07-4874-8b47-a63b544228fa",
   "metadata": {
    "tags": []
   },
   "outputs": [],
   "source": [
    "# summary_question = f\"职位要求是：{{{JD}}}\" + f\"简历概要是：{{{context}}}\" + \"，请直接返回该应聘岗位候选人匹配度概要（控制在200字以内）;'\"\n",
    "# print(summary_question)"
   ]
  },
  {
   "cell_type": "code",
   "execution_count": null,
   "id": "cfcb0dcd-efc7-4ab7-8be5-236e82dd7338",
   "metadata": {},
   "outputs": [],
   "source": []
  },
  {
   "cell_type": "code",
   "execution_count": 27,
   "id": "b8753ae0-dc9b-4a18-b79e-13552cab724a",
   "metadata": {
    "tags": []
   },
   "outputs": [],
   "source": [
    "response = openai.Completion.create(\n",
    "        engine=\"text-davinci-003\",\n",
    "        prompt=summary_question,\n",
    "        max_tokens=400,\n",
    "        n=1,\n",
    "        stop=None,\n",
    "        temperature=0,\n",
    "    )"
   ]
  },
  {
   "cell_type": "code",
   "execution_count": 5,
   "id": "9000422d-8dcb-4d9b-9624-23f6969b499c",
   "metadata": {
    "tags": []
   },
   "outputs": [],
   "source": [
    "# response"
   ]
  },
  {
   "cell_type": "code",
   "execution_count": 6,
   "id": "b6a63315-6296-457f-9ad2-46ddc510467d",
   "metadata": {
    "tags": []
   },
   "outputs": [],
   "source": [
    "# summary = response.choices[0].text.strip()\n",
    "# print(summary)"
   ]
  },
  {
   "cell_type": "code",
   "execution_count": null,
   "id": "93af2a98-aacb-41b9-922b-f42398208a81",
   "metadata": {},
   "outputs": [],
   "source": []
  },
  {
   "cell_type": "code",
   "execution_count": 31,
   "id": "432a7ce2-0ff8-4c52-90f9-7855ee97ed94",
   "metadata": {
    "tags": []
   },
   "outputs": [],
   "source": [
    "df_candidate.loc[len(df_candidate)] = ['综合概要', summary]"
   ]
  },
  {
   "cell_type": "code",
   "execution_count": 33,
   "id": "374916fa-ec21-4871-99a3-46fd29ceeee0",
   "metadata": {
    "tags": []
   },
   "outputs": [],
   "source": [
    "extra_info = \"打分要求：国内top10大学+3分，985大学+2分，211大学+1分，头部企业经历+2分，知名企业+1分，海外背景+3分，外企背景+1分。 \""
   ]
  },
  {
   "cell_type": "code",
   "execution_count": 7,
   "id": "01cafcd9-28d9-416d-97c1-627749bdd43e",
   "metadata": {
    "tags": []
   },
   "outputs": [],
   "source": [
    "# score_question = f\"职位要求是：{{{JD}}}\" + f\"简历概要是：{{{df_candidate.to_string(index=False)[:-500]}}}\" + \"，请直接返回该应聘岗位候选人的匹配分数（0-100），请精确打分以方便其他候选人对比排序，'\" + extra_info\n",
    "# print(score_question)"
   ]
  },
  {
   "cell_type": "code",
   "execution_count": null,
   "id": "17fd6956-be4d-47ab-9a1c-324cfd266c30",
   "metadata": {},
   "outputs": [],
   "source": []
  },
  {
   "cell_type": "code",
   "execution_count": null,
   "id": "9c0c2baa-5e72-4b2e-b265-960a665d33f0",
   "metadata": {},
   "outputs": [],
   "source": []
  },
  {
   "cell_type": "code",
   "execution_count": 42,
   "id": "6d4b7f48-2738-414f-b8d3-63799f2a93b6",
   "metadata": {
    "tags": []
   },
   "outputs": [],
   "source": [
    "response = openai.Completion.create(\n",
    "        engine=\"text-davinci-003\",\n",
    "        prompt=score_question,\n",
    "        max_tokens=400,\n",
    "        n=1,\n",
    "        stop=None,\n",
    "        temperature=0,\n",
    "    )"
   ]
  },
  {
   "cell_type": "code",
   "execution_count": 43,
   "id": "1c99493d-0740-4e14-8ab4-0e03207ebd9f",
   "metadata": {
    "tags": []
   },
   "outputs": [
    {
     "data": {
      "text/plain": [
       "'90分'"
      ]
     },
     "execution_count": 43,
     "metadata": {},
     "output_type": "execute_result"
    }
   ],
   "source": [
    "response.choices[0].text.strip()"
   ]
  },
  {
   "cell_type": "code",
   "execution_count": null,
   "id": "e99abad0-6b49-49e4-93bb-703b2eacf959",
   "metadata": {},
   "outputs": [],
   "source": []
  },
  {
   "cell_type": "code",
   "execution_count": null,
   "id": "b5980c20-6823-4055-a555-ccb12f98be79",
   "metadata": {},
   "outputs": [],
   "source": []
  },
  {
   "cell_type": "code",
   "execution_count": null,
   "id": "1b482cf0-9e8d-4838-b2dd-a8f415eb486a",
   "metadata": {},
   "outputs": [],
   "source": []
  },
  {
   "cell_type": "code",
   "execution_count": null,
   "id": "f4ccbb6d-293f-46b1-ae9e-5600c08cbed7",
   "metadata": {},
   "outputs": [],
   "source": []
  },
  {
   "cell_type": "code",
   "execution_count": null,
   "id": "948cc503-200c-43ef-8c38-9e3d730011b4",
   "metadata": {},
   "outputs": [],
   "source": []
  },
  {
   "cell_type": "code",
   "execution_count": null,
   "id": "9663f66a-4836-44df-b605-2e57f2edfa51",
   "metadata": {},
   "outputs": [],
   "source": []
  },
  {
   "cell_type": "code",
   "execution_count": null,
   "id": "f2d951e5-c01c-41c8-894e-287b3b0f9902",
   "metadata": {},
   "outputs": [],
   "source": []
  },
  {
   "cell_type": "code",
   "execution_count": null,
   "id": "81906291-1ccc-4e78-9fdb-ce7f0f7b1ca6",
   "metadata": {},
   "outputs": [],
   "source": []
  },
  {
   "cell_type": "code",
   "execution_count": null,
   "id": "790a7a99-6ae0-471a-b22b-8805f48a101e",
   "metadata": {},
   "outputs": [],
   "source": []
  },
  {
   "cell_type": "code",
   "execution_count": null,
   "id": "29a26d8e-bd4e-4926-baae-3926337c6c53",
   "metadata": {},
   "outputs": [],
   "source": []
  },
  {
   "cell_type": "code",
   "execution_count": null,
   "id": "a0922ea4-9f77-4dc1-8377-040a4f6ddb73",
   "metadata": {},
   "outputs": [],
   "source": []
  },
  {
   "cell_type": "code",
   "execution_count": null,
   "id": "0bad8995-2d83-40ca-9f58-0e3570c2a00a",
   "metadata": {},
   "outputs": [],
   "source": []
  },
  {
   "cell_type": "code",
   "execution_count": null,
   "id": "d6295f3b-70af-4d6a-905f-951b00cde54c",
   "metadata": {},
   "outputs": [],
   "source": []
  },
  {
   "cell_type": "code",
   "execution_count": null,
   "id": "595b54a2-644f-4fc4-906e-67d2259b4fa7",
   "metadata": {},
   "outputs": [],
   "source": []
  },
  {
   "cell_type": "code",
   "execution_count": null,
   "id": "20fc6ae6-c8bc-4f8a-9d19-c58fbfc47412",
   "metadata": {},
   "outputs": [],
   "source": []
  },
  {
   "cell_type": "code",
   "execution_count": null,
   "id": "96d89aac-af7e-4445-9ec1-15fbb6e44930",
   "metadata": {},
   "outputs": [],
   "source": []
  },
  {
   "cell_type": "code",
   "execution_count": null,
   "id": "7e150442-9ddf-4fdf-87a3-33131934ed94",
   "metadata": {},
   "outputs": [],
   "source": []
  },
  {
   "cell_type": "code",
   "execution_count": null,
   "id": "6cbaf0b3-4218-4eeb-b297-9318528b6463",
   "metadata": {},
   "outputs": [],
   "source": []
  },
  {
   "cell_type": "code",
   "execution_count": null,
   "id": "da5cfcad-bd32-4529-9232-567276b40080",
   "metadata": {},
   "outputs": [],
   "source": []
  },
  {
   "cell_type": "code",
   "execution_count": null,
   "id": "9fc25c72-0b19-4849-a0ae-080578c6dcf3",
   "metadata": {},
   "outputs": [],
   "source": []
  }
 ],
 "metadata": {
  "environment": {
   "kernel": "conda-env-preventloss-py",
   "name": "pytorch-gpu.1-13.m105",
   "type": "gcloud",
   "uri": "gcr.io/deeplearning-platform-release/pytorch-gpu.1-13:m105"
  },
  "kernelspec": {
   "display_name": "chatglm26b",
   "language": "python",
   "name": "chatglm26b"
  },
  "language_info": {
   "codemirror_mode": {
    "name": "ipython",
    "version": 3
   },
   "file_extension": ".py",
   "mimetype": "text/x-python",
   "name": "python",
   "nbconvert_exporter": "python",
   "pygments_lexer": "ipython3",
   "version": "3.9.6"
  }
 },
 "nbformat": 4,
 "nbformat_minor": 5
}
