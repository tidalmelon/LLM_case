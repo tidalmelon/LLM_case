{
 "cells": [
  {
   "cell_type": "code",
   "execution_count": 1,
   "id": "bd384bf7-c53c-428c-84d5-4c49e26cec34",
   "metadata": {},
   "outputs": [
    {
     "name": "stderr",
     "output_type": "stream",
     "text": [
      "INFO  2023-08-14 01:47:27,900-1d: \n",
      "loading model config\n",
      "llm device: cuda\n",
      "embedding device: cuda\n",
      "dir: /home/hello/wangquanjun/langchain-ChatGLM\n",
      "flagging username: 0e691a244f6849ff8cae1163912b63af\n",
      "\n",
      "INFO  2023-08-14 01:47:28,390-1d: Note: NumExpr detected 16 cores but \"NUMEXPR_MAX_THREADS\" not set, so enforcing safe limit of 8.\n",
      "INFO  2023-08-14 01:47:28,391-1d: NumExpr defaulting to 8 threads.\n"
     ]
    }
   ],
   "source": [
    "from configs.model_config import *\n",
    "from chains.local_doc_qa import LocalDocQA\n",
    "import os\n",
    "import nltk\n",
    "from models.loader.args import parser\n",
    "import models.shared as shared\n",
    "from models.loader import LoaderCheckPoint\n",
    "nltk.data.path = [NLTK_DATA_PATH] + nltk.data.path"
   ]
  },
  {
   "cell_type": "code",
   "execution_count": null,
   "id": "9818d977-e2cf-48d0-b93f-478aef24f1d7",
   "metadata": {},
   "outputs": [],
   "source": []
  },
  {
   "cell_type": "code",
   "execution_count": null,
   "id": "4ef91b29-e581-4bdc-9510-577735fb883d",
   "metadata": {},
   "outputs": [],
   "source": []
  },
  {
   "cell_type": "code",
   "execution_count": null,
   "id": "32d766b4-b6fe-4b4e-8f7d-fdb41171c22d",
   "metadata": {},
   "outputs": [],
   "source": []
  },
  {
   "cell_type": "code",
   "execution_count": 2,
   "id": "dfa26ec5-d0ae-4e55-8aa5-dcbfcb5f5df5",
   "metadata": {},
   "outputs": [],
   "source": [
    "# Show reply with source text from input document\n",
    "REPLY_WITH_SOURCE = True"
   ]
  },
  {
   "cell_type": "code",
   "execution_count": null,
   "id": "be4509a6-d360-442b-a677-58501fca0440",
   "metadata": {},
   "outputs": [],
   "source": []
  },
  {
   "cell_type": "code",
   "execution_count": 3,
   "id": "4934d421-67fd-4778-9d26-1d8abc5af3a5",
   "metadata": {},
   "outputs": [],
   "source": [
    "args_dict = {'no_remote_model': False, \n",
    "             'model_name': 'chatglm2-6b-32k', \n",
    "             'use_lora': False, \n",
    "             'lora': '', \n",
    "             'lora_dir': 'loras/', \n",
    "             'use_ptuning_v2': False, \n",
    "             'ptuning_dir': './ptuning-v2', \n",
    "             'load_in_8bit': True, \n",
    "             'bf16': False\n",
    "            }"
   ]
  },
  {
   "cell_type": "code",
   "execution_count": 4,
   "id": "a64a4ec0-c640-4ffb-b7c9-e2dd32b00b12",
   "metadata": {},
   "outputs": [],
   "source": [
    "shared.loaderCheckPoint = LoaderCheckPoint(args_dict)"
   ]
  },
  {
   "cell_type": "code",
   "execution_count": null,
   "id": "e76e3219-6ccc-4bc8-91c2-f3963e28fc7e",
   "metadata": {},
   "outputs": [],
   "source": []
  },
  {
   "cell_type": "code",
   "execution_count": 5,
   "id": "e526f60e-9159-48d0-bbcb-e8ce231570ab",
   "metadata": {},
   "outputs": [
    {
     "name": "stdout",
     "output_type": "stream",
     "text": [
      "load_model_config THUDM/chatglm2-6b-32k...\n",
      "Loading THUDM/chatglm2-6b-32k...\n"
     ]
    },
    {
     "name": "stderr",
     "output_type": "stream",
     "text": [
      "INFO  2023-08-14 01:47:40,918-1d: Created a temporary directory at /tmp/tmpt88tzzv6\n",
      "INFO  2023-08-14 01:47:40,918-1d: Writing /tmp/tmpt88tzzv6/_remote_module_non_scriptable.py\n",
      "Explicitly passing a `revision` is encouraged when loading a model with custom code to ensure no malicious code has been contributed in a newer revision.\n",
      "Overriding torch_dtype=None with `torch_dtype=torch.float16` due to requirements of `bitsandbytes` to enable model loading in mixed int8. Either pass torch_dtype=torch.float16 or don't pass this argument at all to remove this warning.\n"
     ]
    },
    {
     "data": {
      "application/vnd.jupyter.widget-view+json": {
       "model_id": "bbbf7f3d7e514077a8ebde308f8048c3",
       "version_major": 2,
       "version_minor": 0
      },
      "text/plain": [
       "Loading checkpoint shards:   0%|          | 0/7 [00:00<?, ?it/s]"
      ]
     },
     "metadata": {},
     "output_type": "display_data"
    },
    {
     "name": "stdout",
     "output_type": "stream",
     "text": [
      "Loaded the model in 8.77 seconds.\n"
     ]
    }
   ],
   "source": [
    "llm_model_ins = shared.loaderLLM()\n",
    "llm_model_ins.history_len = LLM_HISTORY_LEN"
   ]
  },
  {
   "cell_type": "code",
   "execution_count": 6,
   "id": "4b72691d-9ede-4479-8216-a56057f29a03",
   "metadata": {},
   "outputs": [
    {
     "data": {
      "text/plain": [
       "models.chatglm_llm.ChatGLMLLMChain"
      ]
     },
     "execution_count": 6,
     "metadata": {},
     "output_type": "execute_result"
    }
   ],
   "source": [
    "type(llm_model_ins)"
   ]
  },
  {
   "cell_type": "code",
   "execution_count": 7,
   "id": "5330f48e-e114-4daa-921a-b410534a04fa",
   "metadata": {},
   "outputs": [
    {
     "data": {
      "text/plain": [
       "3"
      ]
     },
     "execution_count": 7,
     "metadata": {},
     "output_type": "execute_result"
    }
   ],
   "source": [
    "LLM_HISTORY_LEN"
   ]
  },
  {
   "cell_type": "markdown",
   "id": "c6b4ca76-cc03-4c9e-8f07-c9426e2be5a2",
   "metadata": {},
   "source": [
    "# 自然语言基本任务的测试。"
   ]
  },
  {
   "cell_type": "code",
   "execution_count": null,
   "id": "1d7690b9-83a5-4822-b0b0-f070c2334b35",
   "metadata": {},
   "outputs": [],
   "source": []
  },
  {
   "cell_type": "code",
   "execution_count": null,
   "id": "b565b869-8edf-460b-affe-346c0d4ee29a",
   "metadata": {},
   "outputs": [],
   "source": []
  },
  {
   "cell_type": "markdown",
   "id": "ba0833e5-2120-44f7-8113-6ad562c21301",
   "metadata": {},
   "source": [
    "## 文本摘要"
   ]
  },
  {
   "cell_type": "code",
   "execution_count": null,
   "id": "a588c6bb-aa1d-410e-b290-27905591bc6f",
   "metadata": {},
   "outputs": [],
   "source": []
  },
  {
   "cell_type": "code",
   "execution_count": 9,
   "id": "1c4ed121-634e-4e8f-9048-33bfddce45bc",
   "metadata": {},
   "outputs": [],
   "source": [
    "query = '''\n",
    "你这实际是两个问题：1）大语言模型是纸上谈兵吗？全球有哪些实际落地的应用？2）国内目前是否有落地的应用，如果没有什么时候有？问题1：不是纸上谈兵，全球已经有非常多落地应用，目前最广泛的是写营销文案、学生写文章（刷到一个国外老师说有一半学生在用），这两项已经超过了人类平均水平。其他的辅助做PPT、Excel等各种应用天花乱坠，还处于百花齐放状态。到底有多少人真的在用？可以参考ChatGPT的月活跃用户数据，2月份在1个亿，现在估计快2亿了，算下来日活可能1千万，有1千万人每天都用AI，这波真的比移动互联网的发展还快。问题2：分3步来回答1）国内大范围应用必须依赖国内的大模型。由于监管的存在，国内大规模的应用只能使用国内自研的大模型（目前国内也有应用在依赖ChatGPT的，有一定的用户量，只能说不是长久之计）。国内大模型不成熟，应用就起不来。2）大模型研发需要时间，多久达到可落地水平不确定。大语言模型是人类目前最尖端的技术，我们有人才和资源储备，但追上美国还是不那么容易（可以对比美国45年投放原子弹后，苏联4年后才成为世界第二个拥有原子弹的国家）。实际可能会比原子弹快，以达到GPT3.5为可落地的标准，目前大家乐观估计在半年到一年，但这也是猜的3）大模型真的Ready后，应用多久会发展起来？或者存在水土不服，中国火不起来？大语言模型是通用技术，影响的是写作、思考、分析这些通用能力，国家或者文化之间差异很小，一旦国内大模型ready，应用会快速爆发，大量国外流行应用会copy to china（实际上现在已经在做了）所以当前的卡点是：大厂们在奋力研发原子弹中，还没出来\n",
    "''' + '\\n以上内容生成摘要'"
   ]
  },
  {
   "cell_type": "code",
   "execution_count": 15,
   "id": "883276e0-2332-4d7f-a604-ab7689a027ba",
   "metadata": {},
   "outputs": [],
   "source": [
    "import time"
   ]
  },
  {
   "cell_type": "code",
   "execution_count": 19,
   "id": "d7f41b76-8240-4504-b746-ec3f9f9f3204",
   "metadata": {
    "tags": []
   },
   "outputs": [
    {
     "name": "stdout",
     "output_type": "stream",
     "text": [
      "__call:\n",
      "你这实际是两个问题：1）大语言模型是纸上谈兵吗？全球有哪些实际落地的应用？2）国内目前是否有落地的应用，如果没有什么时候有？问题1：不是纸上谈兵，全球已经有非常多落地应用，目前最广泛的是写营销文案、学生写文章（刷到一个国外老师说有一半学生在用），这两项已经超过了人类平均水平。其他的辅助做PPT、Excel等各种应用天花乱坠，还处于百花齐放状态。到底有多少人真的在用？可以参考ChatGPT的月活跃用户数据，2月份在1个亿，现在估计快2亿了，算下来日活可能1千万，有1千万人每天都用AI，这波真的比移动互联网的发展还快。问题2：分3步来回答1）国内大范围应用必须依赖国内的大模型。由于监管的存在，国内大规模的应用只能使用国内自研的大模型（目前国内也有应用在依赖ChatGPT的，有一定的用户量，只能说不是长久之计）。国内大模型不成熟，应用就起不来。2）大模型研发需要时间，多久达到可落地水平不确定。大语言模型是人类目前最尖端的技术，我们有人才和资源储备，但追上美国还是不那么容易（可以对比美国45年投放原子弹后，苏联4年后才成为世界第二个拥有原子弹的国家）。实际可能会比原子弹快，以达到GPT3.5为可落地的标准，目前大家乐观估计在半年到一年，但这也是猜的3）大模型真的Ready后，应用多久会发展起来？或者存在水土不服，中国火不起来？大语言模型是通用技术，影响的是写作、思考、分析这些通用能力，国家或者文化之间差异很小，一旦国内大模型ready，应用会快速爆发，大量国外流行应用会copy to china（实际上现在已经在做了）所以当前的卡点是：大厂们在奋力研发原子弹中，还没出来\n",
      "\n",
      "以上内容生成摘要\n",
      "1. 大语言模型在实际应用中已经得到广泛应用，如营销文案撰写、学生写作等。\n",
      "2. 国内目前尚未大规模应用大语言模型，但已有一些应用在依赖ChatGPT，如PPT制作等。\n",
      "3. 大语言模型研发时间不确定，但预计在半年到一年内可达到GPT3.5可落地水平。\n",
      "4. 大语言模型是通用技术，影响写作、思考、分析等通用能力，国内大模型研发成功后，应用会快速爆发，大量国外流行应用会复制到中国。\n",
      "5. 当前卡点是大厂们在研发原子弹中，尚未推出大语言模型应用。"
     ]
    }
   ],
   "source": [
    "time.sleep(10)\n",
    "answer_result_stream_result = llm_model_ins(\n",
    "            {\"prompt\": query, \"history\": [], \"streaming\": True})\n",
    "\n",
    "last_print_len = 0\n",
    "for answer_result in answer_result_stream_result['answer_result_stream']:\n",
    "    resp = answer_result.llm_output[\"answer\"]\n",
    "    print(resp[last_print_len:], end=\"\", flush=True)\n",
    "    last_print_len = len(resp)"
   ]
  },
  {
   "cell_type": "code",
   "execution_count": null,
   "id": "0330279b-f73c-4c1e-bc69-816a183f44d9",
   "metadata": {},
   "outputs": [],
   "source": []
  },
  {
   "cell_type": "code",
   "execution_count": null,
   "id": "d81e30c1-81d9-4f4a-8187-94501fb187e7",
   "metadata": {},
   "outputs": [],
   "source": []
  },
  {
   "cell_type": "markdown",
   "id": "bd754259-b666-46a7-a5b3-67cde3ab54ce",
   "metadata": {},
   "source": [
    "## 情感识别"
   ]
  },
  {
   "cell_type": "code",
   "execution_count": null,
   "id": "8d3cef54-6e17-41ce-9ae1-bbd1a7d541b4",
   "metadata": {},
   "outputs": [],
   "source": [
    "\n"
   ]
  },
  {
   "cell_type": "code",
   "execution_count": 11,
   "id": "ded009ec-60b0-47ad-984b-1beccb5aae7e",
   "metadata": {},
   "outputs": [],
   "source": [
    "query = '''\n",
    "收到货静电袋是打开的，说明书是散开的，一看就是别人退货的。提供了开箱视频证据，客服也不处理\n",
    "''' + '\\n以上内容是正面评价还是负面评价'"
   ]
  },
  {
   "cell_type": "code",
   "execution_count": 12,
   "id": "8a7e7f41-e751-4aea-b7f7-3eab308ecd12",
   "metadata": {
    "tags": []
   },
   "outputs": [
    {
     "name": "stdout",
     "output_type": "stream",
     "text": [
      "__call:\n",
      "收到货静电袋是打开的，说明书是散开的，一看就是别人退货的。提供了开箱视频证据，客服也不处理\n",
      "\n",
      "以上内容是正面评价还是负面评价\n",
      "以上内容是负面评价。因为收到的货静电袋是打开的，说明产品质量存在问题；同时说明书也是散开的，说明包装存在问题；而且一看就是别人退货的，说明产品质量存在问题。此外，客服也不处理问题，说明公司对客户服务不够重视。"
     ]
    }
   ],
   "source": [
    "answer_result_stream_result = llm_model_ins(\n",
    "            {\"prompt\": query, \"history\": [], \"streaming\": True})\n",
    "\n",
    "last_print_len = 0\n",
    "for answer_result in answer_result_stream_result['answer_result_stream']:\n",
    "    resp = answer_result.llm_output[\"answer\"]\n",
    "    print(resp[last_print_len:], end=\"\", flush=True)\n",
    "    last_print_len = len(resp)"
   ]
  },
  {
   "cell_type": "code",
   "execution_count": null,
   "id": "e6f63802-99b2-48f8-8c9d-9ff5798dbc10",
   "metadata": {},
   "outputs": [],
   "source": []
  },
  {
   "cell_type": "markdown",
   "id": "c6805724-000d-49fd-8ed2-0180797a7dc1",
   "metadata": {},
   "source": [
    "## 机器翻译"
   ]
  },
  {
   "cell_type": "code",
   "execution_count": null,
   "id": "41c96271-c440-4435-b03f-4ddd200b46e2",
   "metadata": {},
   "outputs": [],
   "source": []
  },
  {
   "cell_type": "code",
   "execution_count": 13,
   "id": "107d5987-c13f-4c5c-bbcf-69a120fdda96",
   "metadata": {},
   "outputs": [],
   "source": [
    "query = '''\n",
    "小熊维尼和跳跳虎生活在百亩森立里\n",
    "''' + '\\n以上内容翻译成英语'"
   ]
  },
  {
   "cell_type": "code",
   "execution_count": 14,
   "id": "57496740-a95d-4ba7-8c7d-2beeba2c75bb",
   "metadata": {
    "tags": []
   },
   "outputs": [
    {
     "name": "stdout",
     "output_type": "stream",
     "text": [
      "__call:\n",
      "小熊维尼和跳跳虎生活在百亩森立里\n",
      "\n",
      "以上内容翻译成英语\n",
      "Roo and Jiggle live in a 100-acre forest."
     ]
    }
   ],
   "source": [
    "answer_result_stream_result = llm_model_ins(\n",
    "            {\"prompt\": query, \"history\": [], \"streaming\": True})\n",
    "\n",
    "last_print_len = 0\n",
    "for answer_result in answer_result_stream_result['answer_result_stream']:\n",
    "    resp = answer_result.llm_output[\"answer\"]\n",
    "    print(resp[last_print_len:], end=\"\", flush=True)\n",
    "    last_print_len = len(resp)"
   ]
  },
  {
   "cell_type": "markdown",
   "id": "a21e2064-e672-4546-abe6-490e87c7a304",
   "metadata": {},
   "source": [
    "> chatGPT reply：<br>\n",
    "Winnie the Pooh and Tigger live in a hundred-acre forest."
   ]
  },
  {
   "cell_type": "markdown",
   "id": "55188fab-21cd-41f4-9f06-817e7c341513",
   "metadata": {},
   "source": [
    "> 显然ChatGPT更懂迪斯尼。"
   ]
  },
  {
   "cell_type": "code",
   "execution_count": null,
   "id": "3ff5bca6-f1bb-492b-94d7-5effd815658e",
   "metadata": {},
   "outputs": [],
   "source": []
  },
  {
   "cell_type": "code",
   "execution_count": null,
   "id": "7d900ff3-5a9c-4ac3-ac7c-49c3fa4db65c",
   "metadata": {},
   "outputs": [],
   "source": []
  },
  {
   "cell_type": "code",
   "execution_count": null,
   "id": "e07a24e2-ba42-4f3e-a4d2-1ad5af4c3b4e",
   "metadata": {},
   "outputs": [],
   "source": []
  },
  {
   "cell_type": "code",
   "execution_count": null,
   "id": "0d66af6b-d71e-491c-ad96-8f7021ae34a8",
   "metadata": {},
   "outputs": [],
   "source": []
  },
  {
   "cell_type": "markdown",
   "id": "4597ffab-fa1b-4863-bf14-ce465b1298a6",
   "metadata": {},
   "source": [
    "## 命名实体识别"
   ]
  },
  {
   "cell_type": "code",
   "execution_count": null,
   "id": "f3707641-7367-413f-8932-31816aeeca32",
   "metadata": {},
   "outputs": [],
   "source": []
  },
  {
   "cell_type": "code",
   "execution_count": 8,
   "id": "bf743abb-1b83-496c-99f5-6ae726209126",
   "metadata": {},
   "outputs": [],
   "source": [
    "query = '''\n",
    "潍柴控股集团有限公司创建于1946年，是中国领先、在全球具有重要影响力的工业装备跨国集团。拥有潍柴动力、陕汽重卡、潍柴雷沃智慧农业、法士特变速器、汉德车桥、火炬火花塞以及意大利法拉帝、德国凯傲、德国林德液压、美国德马泰克、美国PSI、法国博杜安、加拿大巴拉德等国内外知名品牌，海内外上市公司8家、股票10支。全球员工10万人，年营业收入超过3000亿元，位列中国企业500强第86位，中国制造业500强第31位，中国跨国公司100大第18位，跨国指数39.06%。 \n",
    "''' + '\\n请对以上内容进行命名实体抽取。'"
   ]
  },
  {
   "cell_type": "code",
   "execution_count": null,
   "id": "08d0292b-de78-49d4-a431-c294dec4983c",
   "metadata": {},
   "outputs": [],
   "source": []
  },
  {
   "cell_type": "code",
   "execution_count": 9,
   "id": "e2dcbb86-4ae9-4b73-90bf-b8a368f54820",
   "metadata": {},
   "outputs": [
    {
     "name": "stdout",
     "output_type": "stream",
     "text": [
      "__call:\n",
      "潍柴控股集团有限公司创建于1946年，是中国领先、在全球具有重要影响力的工业装备跨国集团。拥有潍柴动力、陕汽重卡、潍柴雷沃智慧农业、法士特变速器、汉德车桥、火炬火花塞以及意大利法拉帝、德国凯傲、德国林德液压、美国德马泰克、美国PSI、法国博杜安、加拿大巴拉德等国内外知名品牌，海内外上市公司8家、股票10支。全球员工10万人，年营业收入超过3000亿元，位列中国企业500强第86位，中国制造业500强第31位，中国跨国公司100大第18位，跨国指数39.06%。 \n",
      "\n",
      "请对以上内容进行命名实体抽取。\n",
      "1. 潍柴控股集团有限公司  \n",
      "2. 工业装备  \n",
      "3. 跨国集团  \n",
      "4. 潍柴动力  \n",
      "5. 陕汽重卡  \n",
      "6. 潍柴雷沃智慧农业  \n",
      "7. 法士特变速器  \n",
      "8. 汉德车桥  \n",
      "9. 火炬火花塞  \n",
      "10. 意大利法拉帝  \n",
      "11. 德国凯傲  \n",
      "12. 德国林德液压  \n",
      "13. 美国德马泰克  \n",
      "14. 美国PSI  \n",
      "15. 法国博杜安  \n",
      "16. 加拿大巴拉德"
     ]
    }
   ],
   "source": [
    "answer_result_stream_result = llm_model_ins(\n",
    "            {\"prompt\": query, \"history\": [], \"streaming\": True})\n",
    "\n",
    "last_print_len = 0\n",
    "for answer_result in answer_result_stream_result['answer_result_stream']:\n",
    "    resp = answer_result.llm_output[\"answer\"]\n",
    "    print(resp[last_print_len:], end=\"\", flush=True)\n",
    "    last_print_len = len(resp)"
   ]
  },
  {
   "cell_type": "markdown",
   "id": "6263b957-6ccb-47de-aec7-55ed99213b00",
   "metadata": {},
   "source": [
    "> chatGPT的回答: <br>\n",
    "```\n",
    "根据提供的信息，以下是潍柴控股集团有限公司的命名实体抽取：\n",
    "\n",
    "公司名称：潍柴控股集团有限公司\n",
    "子公司/品牌：\n",
    "潍柴动力\n",
    "陕汽重卡\n",
    "潍柴雷沃智慧农业\n",
    "法士特变速器\n",
    "汉德车桥\n",
    "火炬火花塞\n",
    "意大利法拉帝\n",
    "德国凯傲\n",
    "德国林德液压\n",
    "美国德马泰克\n",
    "美国PSI\n",
    "法国博杜安\n",
    "加拿大巴拉德\n",
    "上市公司：共8家，股票数量为10支\n",
    "全球员工：10万人\n",
    "年营业收入：超过3000亿元\n",
    "排名：\n",
    "中国企业500强：第86位\n",
    "中国制造业500强：第31位\n",
    "中国跨国公司100大：第18位\n",
    "跨国指数：39.06%\n",
    "请注意，我提供的信息是基于2021年9月之前的知识，因此一些最新的变化可能未包含在内。\n",
    "```"
   ]
  },
  {
   "cell_type": "code",
   "execution_count": null,
   "id": "cdbcfa09-416e-4b1c-bafc-be70feca3301",
   "metadata": {},
   "outputs": [],
   "source": []
  },
  {
   "cell_type": "markdown",
   "id": "3d04187d-837b-46ac-bf9a-fdc8f20bc8d7",
   "metadata": {},
   "source": [
    "> 柴动力、陕汽重卡、潍柴雷沃智慧农业、法士特变速器、汉德车桥、火炬火花塞以及意大利法拉帝、德国凯傲、德国林德液压、美国德马泰克、美国PSI、法国博杜安、加拿大巴拉德"
   ]
  },
  {
   "cell_type": "markdown",
   "id": "0a3a751e-2f10-4a11-b1c6-fb27a02f9ca7",
   "metadata": {},
   "source": [
    "> ChatGPT确实准确， 虽然我们的chatglm-6b 推理使用了int8精度。 即使全精度感觉也不会超过ChatGPT。<br.\n",
    "> 后续可以试一下bard。"
   ]
  },
  {
   "cell_type": "code",
   "execution_count": null,
   "id": "55f5c943-57ef-41aa-a435-f067fdb7aa0b",
   "metadata": {},
   "outputs": [],
   "source": []
  },
  {
   "cell_type": "code",
   "execution_count": null,
   "id": "d9516f84-4830-48fe-a1be-495a6a1efce0",
   "metadata": {},
   "outputs": [],
   "source": []
  },
  {
   "cell_type": "code",
   "execution_count": null,
   "id": "1750aacd-959a-4283-b6e9-936db76c6757",
   "metadata": {},
   "outputs": [],
   "source": []
  },
  {
   "cell_type": "code",
   "execution_count": null,
   "id": "4186c8fc-797d-4922-9faf-4a93b270fa45",
   "metadata": {},
   "outputs": [],
   "source": []
  },
  {
   "cell_type": "code",
   "execution_count": null,
   "id": "34fcd818-9437-4367-b6c1-029df2a9de88",
   "metadata": {},
   "outputs": [],
   "source": []
  },
  {
   "cell_type": "markdown",
   "id": "6e873480-83a0-4af7-b28f-bb301a933edf",
   "metadata": {},
   "source": [
    "## 文本生成\n",
    "基于外部知识库的问答"
   ]
  },
  {
   "cell_type": "code",
   "execution_count": null,
   "id": "8e6fbb42-884d-46cf-b99c-851bd120e3e6",
   "metadata": {},
   "outputs": [],
   "source": []
  },
  {
   "cell_type": "code",
   "execution_count": 23,
   "id": "f62c1e2c-7d89-4b9a-ace9-408118ad2b7a",
   "metadata": {},
   "outputs": [],
   "source": [
    "local_doc_qa = LocalDocQA()"
   ]
  },
  {
   "cell_type": "code",
   "execution_count": 24,
   "id": "bd972d4f-07f6-42e4-ae5e-a15bbf672ef0",
   "metadata": {},
   "outputs": [
    {
     "name": "stderr",
     "output_type": "stream",
     "text": [
      "INFO  2023-08-13 17:19:28,180-1d: Load pretrained SentenceTransformer: GanymedeNil/text2vec-large-chinese\n",
      "WARNING 2023-08-13 17:19:32,453-1d: No sentence-transformers model found with name /root/.cache/torch/sentence_transformers/GanymedeNil_text2vec-large-chinese. Creating a new one with MEAN pooling.\n"
     ]
    }
   ],
   "source": [
    "local_doc_qa.init_cfg(llm_model=llm_model_ins,\n",
    "                          embedding_model=EMBEDDING_MODEL,\n",
    "                          embedding_device=EMBEDDING_DEVICE,\n",
    "                          top_k=VECTOR_SEARCH_TOP_K)"
   ]
  },
  {
   "cell_type": "code",
   "execution_count": null,
   "id": "89ec0201-0efc-4000-8afa-ecaa07ba2219",
   "metadata": {},
   "outputs": [],
   "source": []
  },
  {
   "cell_type": "code",
   "execution_count": 14,
   "id": "a1fcdaea-708b-4c9d-931c-bcb39aed4dfa",
   "metadata": {},
   "outputs": [],
   "source": [
    "filepath = ['./knowledge_base/test.pdf']"
   ]
  },
  {
   "cell_type": "code",
   "execution_count": 15,
   "id": "4530d520-4965-44df-b685-15921f14b53c",
   "metadata": {},
   "outputs": [
    {
     "name": "stderr",
     "output_type": "stream",
     "text": [
      "INFO  2023-08-10 19:00:58,477-1d: ./knowledge_base/test.pdf 已成功加载\n",
      "INFO  2023-08-10 19:00:58,477-1d: 文件加载完毕，正在生成向量库\n"
     ]
    },
    {
     "data": {
      "application/vnd.jupyter.widget-view+json": {
       "model_id": "c9b93c1cad794ddaa9949959d4ff33a8",
       "version_major": 2,
       "version_minor": 0
      },
      "text/plain": [
       "Batches:   0%|          | 0/1 [00:00<?, ?it/s]"
      ]
     },
     "metadata": {},
     "output_type": "display_data"
    },
    {
     "name": "stderr",
     "output_type": "stream",
     "text": [
      "INFO  2023-08-10 19:00:59,090-1d: Loading faiss with AVX2 support.\n",
      "INFO  2023-08-10 19:00:59,270-1d: Successfully loaded faiss with AVX2 support.\n"
     ]
    }
   ],
   "source": [
    "temp, loaded_files = local_doc_qa.init_knowledge_vector_store(filepath)"
   ]
  },
  {
   "cell_type": "code",
   "execution_count": null,
   "id": "8b7c9df5-21eb-4e8f-b822-93b0d18b01ce",
   "metadata": {},
   "outputs": [],
   "source": []
  },
  {
   "cell_type": "code",
   "execution_count": 21,
   "id": "10da0720-944b-4d33-a9a6-ba91d51038cc",
   "metadata": {},
   "outputs": [],
   "source": [
    "vs_path = temp"
   ]
  },
  {
   "cell_type": "code",
   "execution_count": null,
   "id": "1e52e7da-c706-49f4-a2e3-e8e7f5bcbb45",
   "metadata": {},
   "outputs": [],
   "source": []
  },
  {
   "cell_type": "code",
   "execution_count": 17,
   "id": "2cef099d-5d5c-4296-8dc4-d2b8f4c9303d",
   "metadata": {},
   "outputs": [
    {
     "data": {
      "text/plain": [
       "['./knowledge_base/test.pdf']"
      ]
     },
     "execution_count": 17,
     "metadata": {},
     "output_type": "execute_result"
    }
   ],
   "source": [
    "loaded_files"
   ]
  },
  {
   "cell_type": "code",
   "execution_count": null,
   "id": "0110d29a-3a1a-4eb2-89da-a7cd3dd20176",
   "metadata": {},
   "outputs": [],
   "source": []
  },
  {
   "cell_type": "code",
   "execution_count": null,
   "id": "a819c806-81f4-44e9-a8e7-d84c62b28fef",
   "metadata": {},
   "outputs": [],
   "source": []
  },
  {
   "cell_type": "code",
   "execution_count": 29,
   "id": "8e4c3238-f4fd-44ae-ba75-ea2b113f4657",
   "metadata": {},
   "outputs": [],
   "source": [
    "vs_path = './knowledge_base/knowledge_base/faiss_llm_news/'"
   ]
  },
  {
   "cell_type": "code",
   "execution_count": null,
   "id": "ccb3114e-2e20-493a-ae4e-b14c197f44e7",
   "metadata": {},
   "outputs": [],
   "source": []
  },
  {
   "cell_type": "code",
   "execution_count": 30,
   "id": "fe489d71-a3d7-4a7e-a8e4-35387aae4232",
   "metadata": {},
   "outputs": [],
   "source": [
    "history = []"
   ]
  },
  {
   "cell_type": "code",
   "execution_count": 31,
   "id": "c90f7640-e6b3-49af-8e8e-fa10bd0406ac",
   "metadata": {},
   "outputs": [],
   "source": [
    "query = '凡人修仙传讲了什么'"
   ]
  },
  {
   "cell_type": "code",
   "execution_count": 32,
   "id": "ce930bc6-27d1-4503-bc7a-bd7b866c7444",
   "metadata": {},
   "outputs": [],
   "source": [
    "last_print_len = 0"
   ]
  },
  {
   "cell_type": "code",
   "execution_count": 33,
   "id": "94802462-2292-4fa2-a3ee-076e86d05c49",
   "metadata": {},
   "outputs": [
    {
     "name": "stderr",
     "output_type": "stream",
     "text": [
      "INFO  2023-08-13 17:20:47,861-1d: Loading faiss with AVX2 support.\n",
      "INFO  2023-08-13 17:20:47,878-1d: Successfully loaded faiss with AVX2 support.\n"
     ]
    },
    {
     "data": {
      "application/vnd.jupyter.widget-view+json": {
       "model_id": "cef391f3e2364936baa778755a995c01",
       "version_major": 2,
       "version_minor": 0
      },
      "text/plain": [
       "Batches:   0%|          | 0/1 [00:00<?, ?it/s]"
      ]
     },
     "metadata": {},
     "output_type": "display_data"
    },
    {
     "name": "stdout",
     "output_type": "stream",
     "text": [
      "__call:凡人修仙传讲了什么\n",
      "《凡人修仙传》是一部中国现代仙侠小说，作者是萧鼎。该书讲述了主人公张小凡从一个普通的山村少年，逐渐踏入修仙之路，经历种种磨难，最终成为一代大侠的故事。\n",
      "\n",
      "故事从张小凡被火灾烧毁的山村中被救出开始。张小凡失去了父母，幸运地被青云门的师兄妹救出，从此开始了他的修仙之路。青云门是一个正派门派，严格按照道法修炼。张小凡在青云门学习剑术、法术等修仙基本功夫。\n",
      "\n",
      "在青云门期间，张小凡结识了许多朋友，如陆雪琪、林惊羽、田灵儿等。在与魔教的斗争中，张小凡勇敢地保护了师兄弟们，并展现了强大的潜力。随着修为的提升，张小凡逐渐发现自己与魔教的渊源，自己的命运与魔教有着千丝万缕的联系。\n",
      "\n",
      "在与魔教斗争的过程中，张小凡因误入魔教七巅峰后山而被囚禁，并卷入了一场权力斗争。在七巅峰，张小凡结识了神秘人物，得知自己的身世之谜，并得到了一枚强大的灵石。这使得张小凡的实力突飞猛进，成为一代大侠。\n",
      "\n",
      "《凡人修仙传》是一部以修行、仙侠为题材的小说，通过讲述主人公张小凡的修仙历程，展现了修行者的艰辛与智慧，体现了我国传统的仙侠文化。"
     ]
    }
   ],
   "source": [
    "for resp, history in local_doc_qa.get_knowledge_based_answer(query=query,\n",
    "                                                             vs_path=vs_path,\n",
    "                                                             chat_history=history,\n",
    "                                                             streaming=STREAMING):\n",
    "    if STREAMING:\n",
    "        print(resp[\"result\"][last_print_len:], end=\"\", flush=True)\n",
    "        last_print_len = len(resp[\"result\"])\n",
    "    else:\n",
    "        print(resp[\"result\"])"
   ]
  },
  {
   "cell_type": "code",
   "execution_count": null,
   "id": "3d706c14-d393-4648-a457-a66fdf8fbac4",
   "metadata": {},
   "outputs": [],
   "source": []
  },
  {
   "cell_type": "code",
   "execution_count": null,
   "id": "c29ff8ec-a185-4110-b4e9-ab06f4318f13",
   "metadata": {},
   "outputs": [],
   "source": []
  },
  {
   "cell_type": "code",
   "execution_count": 35,
   "id": "5564ecb9-2651-4cc3-87b0-4d85af643294",
   "metadata": {},
   "outputs": [
    {
     "data": {
      "application/vnd.jupyter.widget-view+json": {
       "model_id": "f253e262a0174ca195e0f0eaaf18e941",
       "version_major": 2,
       "version_minor": 0
      },
      "text/plain": [
       "Batches:   0%|          | 0/1 [00:00<?, ?it/s]"
      ]
     },
     "metadata": {},
     "output_type": "display_data"
    },
    {
     "name": "stdout",
     "output_type": "stream",
     "text": [
      "__call:已知信息：\n",
      "大语言模型并不仅仅是纸上谈兵，它已经在许多领域得到了实际的应用。 特别是近年来，随着深度学习和自然语言处理技术的快速发展，大语言模型在各个领域的应用越来越广泛。 以下是一些中国实际落地的大语言模型应用的例子：1.  机器翻译：大语言模型在机器翻译领域有着广泛的应用。 通过训练大规模的语料库，模型可以学习到不同语言之间的对应关系，从而实现自动翻译。 在中国，有许多互联网公司和翻译服务提供商使用大语言模型来改进机器翻译的质量和效率。 2.  语音识别：大语言模型在语音识别领域也有着重要的应用。 通过训练大规模的语音数据，模型可以学习到语音信号和文本之间的对应关系，从而实现自动语音识别。 在中国，大语言模型已经被应用于智能语音助手、语音输入法、语音识别系统等多个领域。 3.  自然语言处理：大语言模型在自然语言处理领域有着广泛的应用。 通过训练大规模的文本数据，模型可以学习到词汇、语法、语义等语言知识，从而实现文本分类、情感分析、命名实体识别等任务。 在中国，大语言模型已经被应用于搜索引擎、智能客服、舆情监测等多个领域。 4 文本生成：大语言模型在文本生成领域也有着重要的应用。 通过训练大规模的文本数据，模型可以学习到文本的结构和语言风格，从而实现自动文本生成。 在中国，大语言模型已经被应用于新闻报道、文案创作、聊天机器人等多个领域。 5.  智能推荐：大语言模型在智能推荐领域也有着广泛的应用。 通过训练大规模的用户行为数据和文本数据，模型可以学习到用户的兴趣和偏好，从而实现个性化推荐。 在中国，大语言模型已经被应用于电商平台、社交媒体、新闻客户端等多个领域。 总的来说，大语言模型在中国已经有许多实际落地的应用。 随着技术的不断进步和数据的不断积累，大语言模型的应用前景将会更加广阔。\n",
      "实现更精准大语言模型训练，并为各行各业产出应用价值。 \n",
      "\n",
      "根据上述已知信息，简洁和专业的来回答用户的问题。如果无法从中得到答案，请说 “根据已知信息无法回答该问题” 或 “没有提供足够的相关信息”，不允许在答案中添加编造成分，答案请使用中文。 问题是：国内垂直大语言模型应用现状？\n",
      "根据已知信息，国内垂直大语言模型应用现状包括以下几个方面：\n",
      "\n",
      "1. 机器翻译：许多互联网公司和翻译服务提供商使用大语言模型来改进机器翻译的质量和效率。\n",
      "2. 语音识别：大语言模型在语音识别领域也有着重要的应用。\n",
      "3. 自然语言处理：大语言模型在自然语言处理领域有着广泛的应用。\n",
      "4. 文本生成：大语言模型在文本生成领域也有着重要的应用。\n",
      "5. 智能推荐：大语言模型在智能推荐领域也有着广泛的应用。\n",
      "\n",
      "总的来说，国内垂直大语言模型应用现状在各个领域都有实际落地，随着技术的不断进步和数据的不断积累，大语言模型的应用前景将会更加广阔。"
     ]
    }
   ],
   "source": [
    "# 给录屏点时间\n",
    "time.sleep(10)\n",
    "query = '国内垂直大语言模型应用现状？'\n",
    "last_print_len = 0\n",
    "for resp, history in local_doc_qa.get_knowledge_based_answer(query=query,\n",
    "                                                             vs_path=vs_path,\n",
    "                                                             chat_history=history,\n",
    "                                                             streaming=STREAMING):\n",
    "    if STREAMING:\n",
    "        print(resp[\"result\"][last_print_len:], end=\"\", flush=True)\n",
    "        last_print_len = len(resp[\"result\"])\n",
    "    else:\n",
    "        print(resp[\"result\"])\n",
    "        "
   ]
  },
  {
   "cell_type": "code",
   "execution_count": null,
   "id": "45a31caa-b3ce-401a-91dd-2ea1a9d0104c",
   "metadata": {},
   "outputs": [],
   "source": []
  },
  {
   "cell_type": "code",
   "execution_count": null,
   "id": "f948cf26-c425-4997-98d0-8ad051ed06e6",
   "metadata": {},
   "outputs": [],
   "source": []
  },
  {
   "cell_type": "code",
   "execution_count": null,
   "id": "1c36b949-304e-4fe3-a45b-93a0c4137c86",
   "metadata": {},
   "outputs": [],
   "source": []
  },
  {
   "cell_type": "markdown",
   "id": "ef79f291-6350-48a3-a73a-5773dfaa9c55",
   "metadata": {},
   "source": [
    "## 结论："
   ]
  },
  {
   "cell_type": "markdown",
   "id": "1c0bf800-db05-438d-ae60-826ced9170a1",
   "metadata": {},
   "source": [
    "> 1. ChatGPT感觉还是碾压的<br>\n",
    "> 2. 受制于参数量ChatGLM-6b 差一下（工业上可能不能落地，这个差别巨大），但某种程度上也是可以用的。 \n",
    "\n",
    "> 3. 以前的NLP每个任务对应一个模型，LLM后这些任务相对简单了. 传统模型依然有生存空间.\n"
   ]
  },
  {
   "cell_type": "code",
   "execution_count": null,
   "id": "0617610d-915d-44db-a2c7-d590e47e0c23",
   "metadata": {},
   "outputs": [],
   "source": []
  },
  {
   "cell_type": "code",
   "execution_count": null,
   "id": "a0fcdb97-f101-482b-a644-172390c5b2a4",
   "metadata": {},
   "outputs": [],
   "source": []
  },
  {
   "cell_type": "code",
   "execution_count": null,
   "id": "44dd1013-0fd5-4f93-bfbb-3fb3616540eb",
   "metadata": {},
   "outputs": [],
   "source": []
  },
  {
   "cell_type": "code",
   "execution_count": null,
   "id": "65e65c31-f308-4435-aa99-5dae8d33aa55",
   "metadata": {},
   "outputs": [],
   "source": []
  }
 ],
 "metadata": {
  "kernelspec": {
   "display_name": "lglm",
   "language": "python",
   "name": "lglm"
  },
  "language_info": {
   "codemirror_mode": {
    "name": "ipython",
    "version": 3
   },
   "file_extension": ".py",
   "mimetype": "text/x-python",
   "name": "python",
   "nbconvert_exporter": "python",
   "pygments_lexer": "ipython3",
   "version": "3.8.17"
  }
 },
 "nbformat": 4,
 "nbformat_minor": 5
}
